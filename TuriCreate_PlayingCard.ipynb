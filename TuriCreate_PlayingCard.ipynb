{
  "nbformat": 4,
  "nbformat_minor": 0,
  "metadata": {
    "colab": {
      "name": "TuriCreate_PlayingCard.ipynb",
      "provenance": [],
      "collapsed_sections": [],
      "toc_visible": true,
      "machine_shape": "hm",
      "mount_file_id": "1G40XxZVYLB5RwF8dnl5VVpRcKs7yd_Ux",
      "authorship_tag": "ABX9TyNlXM+yLYPtag4WcEJD+lq8",
      "include_colab_link": true
    },
    "kernelspec": {
      "name": "python3",
      "display_name": "Python 3"
    },
    "accelerator": "GPU"
  },
  "cells": [
    {
      "cell_type": "markdown",
      "metadata": {
        "id": "view-in-github",
        "colab_type": "text"
      },
      "source": [
        "<a href=\"https://colab.research.google.com/github/mcgovey/compvision-playing-card-detection/blob/master/TuriCreate_PlayingCard.ipynb\" target=\"_parent\"><img src=\"https://colab.research.google.com/assets/colab-badge.svg\" alt=\"Open In Colab\"/></a>"
      ]
    },
    {
      "cell_type": "markdown",
      "metadata": {
        "id": "1RVXfeHE6VeU",
        "colab_type": "text"
      },
      "source": [
        "# Creating an Object Detection Model using Turi Create\n",
        "Author: Kevin McGovern\n",
        "\n",
        "Last Updated: June 5, 2020\n",
        "\n",
        "This notebook take a sFrame object created in a previous Jupyter notebook and creates a Core ML Object Detection model for an iOS app using Turi Create."
      ]
    },
    {
      "cell_type": "markdown",
      "metadata": {
        "id": "jxC8z-x0XI79",
        "colab_type": "text"
      },
      "source": [
        "## Dependencies Install"
      ]
    },
    {
      "cell_type": "code",
      "metadata": {
        "id": "43qYhUR0fvlN",
        "colab_type": "code",
        "colab": {}
      },
      "source": [
        "%%capture\n",
        "!pip install turicreate"
      ],
      "execution_count": 0,
      "outputs": []
    },
    {
      "cell_type": "code",
      "metadata": {
        "id": "z2xtYP4UDq09",
        "colab_type": "code",
        "colab": {}
      },
      "source": [
        "%%capture\n",
        "!pip uninstall -y tensorflow"
      ],
      "execution_count": 0,
      "outputs": []
    },
    {
      "cell_type": "code",
      "metadata": {
        "id": "-XHr98p4D4_d",
        "colab_type": "code",
        "colab": {}
      },
      "source": [
        "%%capture\n",
        "!pip install tensorflow-gpu"
      ],
      "execution_count": 0,
      "outputs": []
    },
    {
      "cell_type": "markdown",
      "metadata": {
        "id": "WAXm5-1yIUJk",
        "colab_type": "text"
      },
      "source": [
        "## Imports and Create Reference Files\n",
        "Load Turi Create and set variables needed for working with sframe and saving model output"
      ]
    },
    {
      "cell_type": "code",
      "metadata": {
        "id": "7ziq5byP4EzD",
        "colab_type": "code",
        "colab": {}
      },
      "source": [
        "import turicreate as tc\n",
        "\n",
        "# set ref variables used below\n",
        "sFrameNameStr = 'ig03.sframe'\n",
        "model_path = 'drive/My Drive/Data/model_data/'\n",
        "sFrameName = model_path + sFrameNameStr\n",
        "model_name = 'card_model_0_4'\n",
        "iterations = 10000"
      ],
      "execution_count": 0,
      "outputs": []
    },
    {
      "cell_type": "markdown",
      "metadata": {
        "id": "OoT6jU1nID5j",
        "colab_type": "text"
      },
      "source": [
        "Set the environment variable for GPU detection of CUDA"
      ]
    },
    {
      "cell_type": "code",
      "metadata": {
        "id": "evMZL2tWDzst",
        "colab_type": "code",
        "colab": {}
      },
      "source": [
        "!export LD_LIBRARY_PATH=/usr/local/cuda/lib64:$LD_LIBRARY_PATH"
      ],
      "execution_count": 0,
      "outputs": []
    },
    {
      "cell_type": "markdown",
      "metadata": {
        "id": "1qhDX9rsXZ1w",
        "colab_type": "text"
      },
      "source": [
        "## Load and split the data"
      ]
    },
    {
      "cell_type": "code",
      "metadata": {
        "id": "-h4Oi8FkXaEg",
        "colab_type": "code",
        "colab": {}
      },
      "source": [
        "# Load the data\n",
        "data = tc.SFrame(sFrameName)\n",
        "\n",
        "# Make a train-test split\n",
        "train_data, test_data = data.random_split(0.8)"
      ],
      "execution_count": 0,
      "outputs": []
    },
    {
      "cell_type": "markdown",
      "metadata": {
        "id": "vJUYDfGv4Agk",
        "colab_type": "text"
      },
      "source": [
        "## Train a model based on the data created above"
      ]
    },
    {
      "cell_type": "code",
      "metadata": {
        "id": "B894Rzt722K9",
        "colab_type": "code",
        "outputId": "e8283901-c9c2-4e1a-88f8-6549cc245618",
        "colab": {
          "base_uri": "https://localhost:8080/",
          "height": 1000
        }
      },
      "source": [
        "# make sure all gpus are used\n",
        "tc.config.set_num_gpus(-1)\n",
        "\n",
        "# Create a model\n",
        "model = tc.object_detector.create(train_data, max_iterations=iterations)"
      ],
      "execution_count": 0,
      "outputs": [
        {
          "output_type": "stream",
          "text": [
            "TuriCreate currently only supports using one GPU. Setting 'num_gpus' to 1.\n",
            "Using 'image' as feature column\n",
            "Using 'annotations' as annotations column\n"
          ],
          "name": "stdout"
        },
        {
          "output_type": "display_data",
          "data": {
            "text/html": [
              "<pre>Using a GPU to create model.</pre>"
            ],
            "text/plain": [
              "Using a GPU to create model."
            ]
          },
          "metadata": {
            "tags": []
          }
        },
        {
          "output_type": "display_data",
          "data": {
            "text/html": [
              "<pre>Setting 'batch_size' to 32</pre>"
            ],
            "text/plain": [
              "Setting 'batch_size' to 32"
            ]
          },
          "metadata": {
            "tags": []
          }
        },
        {
          "output_type": "display_data",
          "data": {
            "text/html": [
              "<pre>+--------------+--------------+--------------+</pre>"
            ],
            "text/plain": [
              "+--------------+--------------+--------------+"
            ]
          },
          "metadata": {
            "tags": []
          }
        },
        {
          "output_type": "display_data",
          "data": {
            "text/html": [
              "<pre>| Iteration    | Loss         | Elapsed Time |</pre>"
            ],
            "text/plain": [
              "| Iteration    | Loss         | Elapsed Time |"
            ]
          },
          "metadata": {
            "tags": []
          }
        },
        {
          "output_type": "display_data",
          "data": {
            "text/html": [
              "<pre>+--------------+--------------+--------------+</pre>"
            ],
            "text/plain": [
              "+--------------+--------------+--------------+"
            ]
          },
          "metadata": {
            "tags": []
          }
        },
        {
          "output_type": "display_data",
          "data": {
            "text/html": [
              "<pre>| 1            | 67.4092      | 9.98s        |</pre>"
            ],
            "text/plain": [
              "| 1            | 67.4092      | 9.98s        |"
            ]
          },
          "metadata": {
            "tags": []
          }
        },
        {
          "output_type": "display_data",
          "data": {
            "text/html": [
              "<pre>| 2            | 67.3464      | 11.99s       |</pre>"
            ],
            "text/plain": [
              "| 2            | 67.3464      | 11.99s       |"
            ]
          },
          "metadata": {
            "tags": []
          }
        },
        {
          "output_type": "display_data",
          "data": {
            "text/html": [
              "<pre>| 3            | 67.233       | 14.01s       |</pre>"
            ],
            "text/plain": [
              "| 3            | 67.233       | 14.01s       |"
            ]
          },
          "metadata": {
            "tags": []
          }
        },
        {
          "output_type": "display_data",
          "data": {
            "text/html": [
              "<pre>| 4            | 67.0611      | 16.03s       |</pre>"
            ],
            "text/plain": [
              "| 4            | 67.0611      | 16.03s       |"
            ]
          },
          "metadata": {
            "tags": []
          }
        },
        {
          "output_type": "display_data",
          "data": {
            "text/html": [
              "<pre>| 5            | 66.756       | 18.03s       |</pre>"
            ],
            "text/plain": [
              "| 5            | 66.756       | 18.03s       |"
            ]
          },
          "metadata": {
            "tags": []
          }
        },
        {
          "output_type": "display_data",
          "data": {
            "text/html": [
              "<pre>| 10           | 63.6001      | 28.03s       |</pre>"
            ],
            "text/plain": [
              "| 10           | 63.6001      | 28.03s       |"
            ]
          },
          "metadata": {
            "tags": []
          }
        },
        {
          "output_type": "display_data",
          "data": {
            "text/html": [
              "<pre>| 15           | 57.9259      | 38.01s       |</pre>"
            ],
            "text/plain": [
              "| 15           | 57.9259      | 38.01s       |"
            ]
          },
          "metadata": {
            "tags": []
          }
        },
        {
          "output_type": "display_data",
          "data": {
            "text/html": [
              "<pre>| 20           | 50.6508      | 48.02s       |</pre>"
            ],
            "text/plain": [
              "| 20           | 50.6508      | 48.02s       |"
            ]
          },
          "metadata": {
            "tags": []
          }
        },
        {
          "output_type": "display_data",
          "data": {
            "text/html": [
              "<pre>| 25           | 42.9746      | 58.11s       |</pre>"
            ],
            "text/plain": [
              "| 25           | 42.9746      | 58.11s       |"
            ]
          },
          "metadata": {
            "tags": []
          }
        },
        {
          "output_type": "display_data",
          "data": {
            "text/html": [
              "<pre>| 30           | 35.7564      | 1m 8s        |</pre>"
            ],
            "text/plain": [
              "| 30           | 35.7564      | 1m 8s        |"
            ]
          },
          "metadata": {
            "tags": []
          }
        },
        {
          "output_type": "display_data",
          "data": {
            "text/html": [
              "<pre>| 35           | 29.5646      | 1m 18s       |</pre>"
            ],
            "text/plain": [
              "| 35           | 29.5646      | 1m 18s       |"
            ]
          },
          "metadata": {
            "tags": []
          }
        },
        {
          "output_type": "display_data",
          "data": {
            "text/html": [
              "<pre>| 40           | 24.6143      | 1m 27s       |</pre>"
            ],
            "text/plain": [
              "| 40           | 24.6143      | 1m 27s       |"
            ]
          },
          "metadata": {
            "tags": []
          }
        },
        {
          "output_type": "display_data",
          "data": {
            "text/html": [
              "<pre>| 45           | 20.8454      | 1m 37s       |</pre>"
            ],
            "text/plain": [
              "| 45           | 20.8454      | 1m 37s       |"
            ]
          },
          "metadata": {
            "tags": []
          }
        },
        {
          "output_type": "display_data",
          "data": {
            "text/html": [
              "<pre>| 50           | 18.0474      | 1m 48s       |</pre>"
            ],
            "text/plain": [
              "| 50           | 18.0474      | 1m 48s       |"
            ]
          },
          "metadata": {
            "tags": []
          }
        },
        {
          "output_type": "display_data",
          "data": {
            "text/html": [
              "<pre>| 55           | 16.0218      | 1m 58s       |</pre>"
            ],
            "text/plain": [
              "| 55           | 16.0218      | 1m 58s       |"
            ]
          },
          "metadata": {
            "tags": []
          }
        },
        {
          "output_type": "display_data",
          "data": {
            "text/html": [
              "<pre>| 60           | 14.5745      | 2m 8s        |</pre>"
            ],
            "text/plain": [
              "| 60           | 14.5745      | 2m 8s        |"
            ]
          },
          "metadata": {
            "tags": []
          }
        },
        {
          "output_type": "display_data",
          "data": {
            "text/html": [
              "<pre>| 65           | 13.5584      | 2m 18s       |</pre>"
            ],
            "text/plain": [
              "| 65           | 13.5584      | 2m 18s       |"
            ]
          },
          "metadata": {
            "tags": []
          }
        },
        {
          "output_type": "display_data",
          "data": {
            "text/html": [
              "<pre>| 70           | 12.8284      | 2m 28s       |</pre>"
            ],
            "text/plain": [
              "| 70           | 12.8284      | 2m 28s       |"
            ]
          },
          "metadata": {
            "tags": []
          }
        },
        {
          "output_type": "display_data",
          "data": {
            "text/html": [
              "<pre>| 75           | 12.2489      | 2m 38s       |</pre>"
            ],
            "text/plain": [
              "| 75           | 12.2489      | 2m 38s       |"
            ]
          },
          "metadata": {
            "tags": []
          }
        },
        {
          "output_type": "display_data",
          "data": {
            "text/html": [
              "<pre>| 80           | 11.8927      | 2m 49s       |</pre>"
            ],
            "text/plain": [
              "| 80           | 11.8927      | 2m 49s       |"
            ]
          },
          "metadata": {
            "tags": []
          }
        },
        {
          "output_type": "display_data",
          "data": {
            "text/html": [
              "<pre>| 85           | 11.5645      | 2m 58s       |</pre>"
            ],
            "text/plain": [
              "| 85           | 11.5645      | 2m 58s       |"
            ]
          },
          "metadata": {
            "tags": []
          }
        },
        {
          "output_type": "display_data",
          "data": {
            "text/html": [
              "<pre>| 90           | 11.2765      | 3m 8s        |</pre>"
            ],
            "text/plain": [
              "| 90           | 11.2765      | 3m 8s        |"
            ]
          },
          "metadata": {
            "tags": []
          }
        },
        {
          "output_type": "display_data",
          "data": {
            "text/html": [
              "<pre>| 95           | 11.0966      | 3m 19s       |</pre>"
            ],
            "text/plain": [
              "| 95           | 11.0966      | 3m 19s       |"
            ]
          },
          "metadata": {
            "tags": []
          }
        },
        {
          "output_type": "display_data",
          "data": {
            "text/html": [
              "<pre>| 100          | 10.9075      | 3m 29s       |</pre>"
            ],
            "text/plain": [
              "| 100          | 10.9075      | 3m 29s       |"
            ]
          },
          "metadata": {
            "tags": []
          }
        },
        {
          "output_type": "display_data",
          "data": {
            "text/html": [
              "<pre>| 105          | 10.6904      | 3m 39s       |</pre>"
            ],
            "text/plain": [
              "| 105          | 10.6904      | 3m 39s       |"
            ]
          },
          "metadata": {
            "tags": []
          }
        },
        {
          "output_type": "display_data",
          "data": {
            "text/html": [
              "<pre>| 110          | 10.5774      | 3m 49s       |</pre>"
            ],
            "text/plain": [
              "| 110          | 10.5774      | 3m 49s       |"
            ]
          },
          "metadata": {
            "tags": []
          }
        },
        {
          "output_type": "display_data",
          "data": {
            "text/html": [
              "<pre>| 115          | 10.3986      | 3m 59s       |</pre>"
            ],
            "text/plain": [
              "| 115          | 10.3986      | 3m 59s       |"
            ]
          },
          "metadata": {
            "tags": []
          }
        },
        {
          "output_type": "display_data",
          "data": {
            "text/html": [
              "<pre>| 120          | 10.2785      | 4m 9s        |</pre>"
            ],
            "text/plain": [
              "| 120          | 10.2785      | 4m 9s        |"
            ]
          },
          "metadata": {
            "tags": []
          }
        },
        {
          "output_type": "display_data",
          "data": {
            "text/html": [
              "<pre>| 125          | 10.1324      | 4m 20s       |</pre>"
            ],
            "text/plain": [
              "| 125          | 10.1324      | 4m 20s       |"
            ]
          },
          "metadata": {
            "tags": []
          }
        },
        {
          "output_type": "display_data",
          "data": {
            "text/html": [
              "<pre>| 130          | 9.99594      | 4m 30s       |</pre>"
            ],
            "text/plain": [
              "| 130          | 9.99594      | 4m 30s       |"
            ]
          },
          "metadata": {
            "tags": []
          }
        },
        {
          "output_type": "display_data",
          "data": {
            "text/html": [
              "<pre>| 135          | 9.92771      | 4m 40s       |</pre>"
            ],
            "text/plain": [
              "| 135          | 9.92771      | 4m 40s       |"
            ]
          },
          "metadata": {
            "tags": []
          }
        },
        {
          "output_type": "display_data",
          "data": {
            "text/html": [
              "<pre>| 140          | 9.80099      | 4m 50s       |</pre>"
            ],
            "text/plain": [
              "| 140          | 9.80099      | 4m 50s       |"
            ]
          },
          "metadata": {
            "tags": []
          }
        },
        {
          "output_type": "display_data",
          "data": {
            "text/html": [
              "<pre>| 145          | 9.66115      | 5m 0s        |</pre>"
            ],
            "text/plain": [
              "| 145          | 9.66115      | 5m 0s        |"
            ]
          },
          "metadata": {
            "tags": []
          }
        },
        {
          "output_type": "display_data",
          "data": {
            "text/html": [
              "<pre>| 150          | 9.54303      | 5m 10s       |</pre>"
            ],
            "text/plain": [
              "| 150          | 9.54303      | 5m 10s       |"
            ]
          },
          "metadata": {
            "tags": []
          }
        },
        {
          "output_type": "display_data",
          "data": {
            "text/html": [
              "<pre>| 155          | 9.49157      | 5m 20s       |</pre>"
            ],
            "text/plain": [
              "| 155          | 9.49157      | 5m 20s       |"
            ]
          },
          "metadata": {
            "tags": []
          }
        },
        {
          "output_type": "display_data",
          "data": {
            "text/html": [
              "<pre>| 160          | 9.37945      | 5m 30s       |</pre>"
            ],
            "text/plain": [
              "| 160          | 9.37945      | 5m 30s       |"
            ]
          },
          "metadata": {
            "tags": []
          }
        },
        {
          "output_type": "display_data",
          "data": {
            "text/html": [
              "<pre>| 165          | 9.34069      | 5m 40s       |</pre>"
            ],
            "text/plain": [
              "| 165          | 9.34069      | 5m 40s       |"
            ]
          },
          "metadata": {
            "tags": []
          }
        },
        {
          "output_type": "display_data",
          "data": {
            "text/html": [
              "<pre>| 170          | 9.23486      | 5m 50s       |</pre>"
            ],
            "text/plain": [
              "| 170          | 9.23486      | 5m 50s       |"
            ]
          },
          "metadata": {
            "tags": []
          }
        },
        {
          "output_type": "display_data",
          "data": {
            "text/html": [
              "<pre>| 175          | 9.13047      | 6m 0s        |</pre>"
            ],
            "text/plain": [
              "| 175          | 9.13047      | 6m 0s        |"
            ]
          },
          "metadata": {
            "tags": []
          }
        },
        {
          "output_type": "display_data",
          "data": {
            "text/html": [
              "<pre>| 180          | 9.07634      | 6m 10s       |</pre>"
            ],
            "text/plain": [
              "| 180          | 9.07634      | 6m 10s       |"
            ]
          },
          "metadata": {
            "tags": []
          }
        },
        {
          "output_type": "display_data",
          "data": {
            "text/html": [
              "<pre>| 185          | 9.00166      | 6m 20s       |</pre>"
            ],
            "text/plain": [
              "| 185          | 9.00166      | 6m 20s       |"
            ]
          },
          "metadata": {
            "tags": []
          }
        },
        {
          "output_type": "display_data",
          "data": {
            "text/html": [
              "<pre>| 190          | 8.94788      | 6m 30s       |</pre>"
            ],
            "text/plain": [
              "| 190          | 8.94788      | 6m 30s       |"
            ]
          },
          "metadata": {
            "tags": []
          }
        },
        {
          "output_type": "display_data",
          "data": {
            "text/html": [
              "<pre>| 195          | 8.85511      | 6m 40s       |</pre>"
            ],
            "text/plain": [
              "| 195          | 8.85511      | 6m 40s       |"
            ]
          },
          "metadata": {
            "tags": []
          }
        },
        {
          "output_type": "display_data",
          "data": {
            "text/html": [
              "<pre>| 200          | 8.79201      | 6m 50s       |</pre>"
            ],
            "text/plain": [
              "| 200          | 8.79201      | 6m 50s       |"
            ]
          },
          "metadata": {
            "tags": []
          }
        },
        {
          "output_type": "display_data",
          "data": {
            "text/html": [
              "<pre>| 205          | 8.66139      | 7m 0s        |</pre>"
            ],
            "text/plain": [
              "| 205          | 8.66139      | 7m 0s        |"
            ]
          },
          "metadata": {
            "tags": []
          }
        },
        {
          "output_type": "display_data",
          "data": {
            "text/html": [
              "<pre>| 210          | 8.66525      | 7m 11s       |</pre>"
            ],
            "text/plain": [
              "| 210          | 8.66525      | 7m 11s       |"
            ]
          },
          "metadata": {
            "tags": []
          }
        },
        {
          "output_type": "display_data",
          "data": {
            "text/html": [
              "<pre>| 215          | 8.54343      | 7m 21s       |</pre>"
            ],
            "text/plain": [
              "| 215          | 8.54343      | 7m 21s       |"
            ]
          },
          "metadata": {
            "tags": []
          }
        },
        {
          "output_type": "display_data",
          "data": {
            "text/html": [
              "<pre>| 220          | 8.50991      | 7m 31s       |</pre>"
            ],
            "text/plain": [
              "| 220          | 8.50991      | 7m 31s       |"
            ]
          },
          "metadata": {
            "tags": []
          }
        },
        {
          "output_type": "display_data",
          "data": {
            "text/html": [
              "<pre>| 225          | 8.44763      | 7m 41s       |</pre>"
            ],
            "text/plain": [
              "| 225          | 8.44763      | 7m 41s       |"
            ]
          },
          "metadata": {
            "tags": []
          }
        },
        {
          "output_type": "display_data",
          "data": {
            "text/html": [
              "<pre>| 230          | 8.45112      | 7m 51s       |</pre>"
            ],
            "text/plain": [
              "| 230          | 8.45112      | 7m 51s       |"
            ]
          },
          "metadata": {
            "tags": []
          }
        },
        {
          "output_type": "display_data",
          "data": {
            "text/html": [
              "<pre>| 235          | 8.35609      | 8m 3s        |</pre>"
            ],
            "text/plain": [
              "| 235          | 8.35609      | 8m 3s        |"
            ]
          },
          "metadata": {
            "tags": []
          }
        },
        {
          "output_type": "display_data",
          "data": {
            "text/html": [
              "<pre>| 240          | 8.39536      | 8m 13s       |</pre>"
            ],
            "text/plain": [
              "| 240          | 8.39536      | 8m 13s       |"
            ]
          },
          "metadata": {
            "tags": []
          }
        },
        {
          "output_type": "display_data",
          "data": {
            "text/html": [
              "<pre>| 245          | 8.23724      | 8m 23s       |</pre>"
            ],
            "text/plain": [
              "| 245          | 8.23724      | 8m 23s       |"
            ]
          },
          "metadata": {
            "tags": []
          }
        },
        {
          "output_type": "display_data",
          "data": {
            "text/html": [
              "<pre>| 250          | 8.21221      | 8m 33s       |</pre>"
            ],
            "text/plain": [
              "| 250          | 8.21221      | 8m 33s       |"
            ]
          },
          "metadata": {
            "tags": []
          }
        },
        {
          "output_type": "display_data",
          "data": {
            "text/html": [
              "<pre>| 255          | 8.19864      | 8m 43s       |</pre>"
            ],
            "text/plain": [
              "| 255          | 8.19864      | 8m 43s       |"
            ]
          },
          "metadata": {
            "tags": []
          }
        },
        {
          "output_type": "display_data",
          "data": {
            "text/html": [
              "<pre>| 260          | 8.15663      | 8m 53s       |</pre>"
            ],
            "text/plain": [
              "| 260          | 8.15663      | 8m 53s       |"
            ]
          },
          "metadata": {
            "tags": []
          }
        },
        {
          "output_type": "display_data",
          "data": {
            "text/html": [
              "<pre>| 265          | 8.03581      | 9m 3s        |</pre>"
            ],
            "text/plain": [
              "| 265          | 8.03581      | 9m 3s        |"
            ]
          },
          "metadata": {
            "tags": []
          }
        },
        {
          "output_type": "display_data",
          "data": {
            "text/html": [
              "<pre>| 270          | 7.96438      | 9m 14s       |</pre>"
            ],
            "text/plain": [
              "| 270          | 7.96438      | 9m 14s       |"
            ]
          },
          "metadata": {
            "tags": []
          }
        },
        {
          "output_type": "display_data",
          "data": {
            "text/html": [
              "<pre>| 275          | 8.0209       | 9m 24s       |</pre>"
            ],
            "text/plain": [
              "| 275          | 8.0209       | 9m 24s       |"
            ]
          },
          "metadata": {
            "tags": []
          }
        },
        {
          "output_type": "display_data",
          "data": {
            "text/html": [
              "<pre>| 280          | 7.92093      | 9m 34s       |</pre>"
            ],
            "text/plain": [
              "| 280          | 7.92093      | 9m 34s       |"
            ]
          },
          "metadata": {
            "tags": []
          }
        },
        {
          "output_type": "display_data",
          "data": {
            "text/html": [
              "<pre>| 285          | 7.8695       | 9m 44s       |</pre>"
            ],
            "text/plain": [
              "| 285          | 7.8695       | 9m 44s       |"
            ]
          },
          "metadata": {
            "tags": []
          }
        },
        {
          "output_type": "display_data",
          "data": {
            "text/html": [
              "<pre>| 290          | 7.87597      | 9m 54s       |</pre>"
            ],
            "text/plain": [
              "| 290          | 7.87597      | 9m 54s       |"
            ]
          },
          "metadata": {
            "tags": []
          }
        },
        {
          "output_type": "display_data",
          "data": {
            "text/html": [
              "<pre>| 295          | 7.83566      | 10m 4s       |</pre>"
            ],
            "text/plain": [
              "| 295          | 7.83566      | 10m 4s       |"
            ]
          },
          "metadata": {
            "tags": []
          }
        },
        {
          "output_type": "display_data",
          "data": {
            "text/html": [
              "<pre>| 300          | 7.82012      | 10m 15s      |</pre>"
            ],
            "text/plain": [
              "| 300          | 7.82012      | 10m 15s      |"
            ]
          },
          "metadata": {
            "tags": []
          }
        },
        {
          "output_type": "display_data",
          "data": {
            "text/html": [
              "<pre>| 305          | 7.73065      | 10m 25s      |</pre>"
            ],
            "text/plain": [
              "| 305          | 7.73065      | 10m 25s      |"
            ]
          },
          "metadata": {
            "tags": []
          }
        },
        {
          "output_type": "display_data",
          "data": {
            "text/html": [
              "<pre>| 310          | 7.61387      | 10m 35s      |</pre>"
            ],
            "text/plain": [
              "| 310          | 7.61387      | 10m 35s      |"
            ]
          },
          "metadata": {
            "tags": []
          }
        },
        {
          "output_type": "display_data",
          "data": {
            "text/html": [
              "<pre>| 315          | 7.5523       | 10m 45s      |</pre>"
            ],
            "text/plain": [
              "| 315          | 7.5523       | 10m 45s      |"
            ]
          },
          "metadata": {
            "tags": []
          }
        },
        {
          "output_type": "display_data",
          "data": {
            "text/html": [
              "<pre>| 320          | 7.59238      | 10m 55s      |</pre>"
            ],
            "text/plain": [
              "| 320          | 7.59238      | 10m 55s      |"
            ]
          },
          "metadata": {
            "tags": []
          }
        },
        {
          "output_type": "display_data",
          "data": {
            "text/html": [
              "<pre>| 325          | 7.60909      | 11m 5s       |</pre>"
            ],
            "text/plain": [
              "| 325          | 7.60909      | 11m 5s       |"
            ]
          },
          "metadata": {
            "tags": []
          }
        },
        {
          "output_type": "display_data",
          "data": {
            "text/html": [
              "<pre>| 330          | 7.55984      | 11m 16s      |</pre>"
            ],
            "text/plain": [
              "| 330          | 7.55984      | 11m 16s      |"
            ]
          },
          "metadata": {
            "tags": []
          }
        },
        {
          "output_type": "display_data",
          "data": {
            "text/html": [
              "<pre>| 335          | 7.42149      | 11m 26s      |</pre>"
            ],
            "text/plain": [
              "| 335          | 7.42149      | 11m 26s      |"
            ]
          },
          "metadata": {
            "tags": []
          }
        },
        {
          "output_type": "display_data",
          "data": {
            "text/html": [
              "<pre>| 340          | 7.392        | 11m 36s      |</pre>"
            ],
            "text/plain": [
              "| 340          | 7.392        | 11m 36s      |"
            ]
          },
          "metadata": {
            "tags": []
          }
        },
        {
          "output_type": "display_data",
          "data": {
            "text/html": [
              "<pre>| 345          | 7.40592      | 11m 46s      |</pre>"
            ],
            "text/plain": [
              "| 345          | 7.40592      | 11m 46s      |"
            ]
          },
          "metadata": {
            "tags": []
          }
        },
        {
          "output_type": "display_data",
          "data": {
            "text/html": [
              "<pre>| 350          | 7.28421      | 11m 56s      |</pre>"
            ],
            "text/plain": [
              "| 350          | 7.28421      | 11m 56s      |"
            ]
          },
          "metadata": {
            "tags": []
          }
        },
        {
          "output_type": "display_data",
          "data": {
            "text/html": [
              "<pre>| 355          | 7.27055      | 12m 6s       |</pre>"
            ],
            "text/plain": [
              "| 355          | 7.27055      | 12m 6s       |"
            ]
          },
          "metadata": {
            "tags": []
          }
        },
        {
          "output_type": "display_data",
          "data": {
            "text/html": [
              "<pre>| 360          | 7.26285      | 12m 17s      |</pre>"
            ],
            "text/plain": [
              "| 360          | 7.26285      | 12m 17s      |"
            ]
          },
          "metadata": {
            "tags": []
          }
        },
        {
          "output_type": "display_data",
          "data": {
            "text/html": [
              "<pre>| 365          | 7.24851      | 12m 26s      |</pre>"
            ],
            "text/plain": [
              "| 365          | 7.24851      | 12m 26s      |"
            ]
          },
          "metadata": {
            "tags": []
          }
        },
        {
          "output_type": "display_data",
          "data": {
            "text/html": [
              "<pre>| 370          | 7.27774      | 12m 36s      |</pre>"
            ],
            "text/plain": [
              "| 370          | 7.27774      | 12m 36s      |"
            ]
          },
          "metadata": {
            "tags": []
          }
        },
        {
          "output_type": "display_data",
          "data": {
            "text/html": [
              "<pre>| 375          | 7.2656       | 12m 46s      |</pre>"
            ],
            "text/plain": [
              "| 375          | 7.2656       | 12m 46s      |"
            ]
          },
          "metadata": {
            "tags": []
          }
        },
        {
          "output_type": "display_data",
          "data": {
            "text/html": [
              "<pre>| 380          | 7.22398      | 12m 56s      |</pre>"
            ],
            "text/plain": [
              "| 380          | 7.22398      | 12m 56s      |"
            ]
          },
          "metadata": {
            "tags": []
          }
        },
        {
          "output_type": "display_data",
          "data": {
            "text/html": [
              "<pre>| 385          | 7.21085      | 13m 6s       |</pre>"
            ],
            "text/plain": [
              "| 385          | 7.21085      | 13m 6s       |"
            ]
          },
          "metadata": {
            "tags": []
          }
        },
        {
          "output_type": "display_data",
          "data": {
            "text/html": [
              "<pre>| 390          | 7.15064      | 13m 16s      |</pre>"
            ],
            "text/plain": [
              "| 390          | 7.15064      | 13m 16s      |"
            ]
          },
          "metadata": {
            "tags": []
          }
        },
        {
          "output_type": "display_data",
          "data": {
            "text/html": [
              "<pre>| 395          | 7.09242      | 13m 26s      |</pre>"
            ],
            "text/plain": [
              "| 395          | 7.09242      | 13m 26s      |"
            ]
          },
          "metadata": {
            "tags": []
          }
        },
        {
          "output_type": "display_data",
          "data": {
            "text/html": [
              "<pre>| 400          | 6.92809      | 13m 36s      |</pre>"
            ],
            "text/plain": [
              "| 400          | 6.92809      | 13m 36s      |"
            ]
          },
          "metadata": {
            "tags": []
          }
        },
        {
          "output_type": "display_data",
          "data": {
            "text/html": [
              "<pre>| 405          | 6.87628      | 13m 46s      |</pre>"
            ],
            "text/plain": [
              "| 405          | 6.87628      | 13m 46s      |"
            ]
          },
          "metadata": {
            "tags": []
          }
        },
        {
          "output_type": "display_data",
          "data": {
            "text/html": [
              "<pre>| 410          | 6.90814      | 13m 56s      |</pre>"
            ],
            "text/plain": [
              "| 410          | 6.90814      | 13m 56s      |"
            ]
          },
          "metadata": {
            "tags": []
          }
        },
        {
          "output_type": "display_data",
          "data": {
            "text/html": [
              "<pre>| 415          | 6.92163      | 14m 6s       |</pre>"
            ],
            "text/plain": [
              "| 415          | 6.92163      | 14m 6s       |"
            ]
          },
          "metadata": {
            "tags": []
          }
        },
        {
          "output_type": "display_data",
          "data": {
            "text/html": [
              "<pre>| 420          | 6.819        | 14m 16s      |</pre>"
            ],
            "text/plain": [
              "| 420          | 6.819        | 14m 16s      |"
            ]
          },
          "metadata": {
            "tags": []
          }
        },
        {
          "output_type": "display_data",
          "data": {
            "text/html": [
              "<pre>| 425          | 6.87256      | 14m 26s      |</pre>"
            ],
            "text/plain": [
              "| 425          | 6.87256      | 14m 26s      |"
            ]
          },
          "metadata": {
            "tags": []
          }
        },
        {
          "output_type": "display_data",
          "data": {
            "text/html": [
              "<pre>| 430          | 6.8048       | 14m 36s      |</pre>"
            ],
            "text/plain": [
              "| 430          | 6.8048       | 14m 36s      |"
            ]
          },
          "metadata": {
            "tags": []
          }
        },
        {
          "output_type": "display_data",
          "data": {
            "text/html": [
              "<pre>| 435          | 6.77652      | 14m 46s      |</pre>"
            ],
            "text/plain": [
              "| 435          | 6.77652      | 14m 46s      |"
            ]
          },
          "metadata": {
            "tags": []
          }
        },
        {
          "output_type": "display_data",
          "data": {
            "text/html": [
              "<pre>| 440          | 6.72218      | 14m 56s      |</pre>"
            ],
            "text/plain": [
              "| 440          | 6.72218      | 14m 56s      |"
            ]
          },
          "metadata": {
            "tags": []
          }
        },
        {
          "output_type": "display_data",
          "data": {
            "text/html": [
              "<pre>| 445          | 6.75304      | 15m 6s       |</pre>"
            ],
            "text/plain": [
              "| 445          | 6.75304      | 15m 6s       |"
            ]
          },
          "metadata": {
            "tags": []
          }
        },
        {
          "output_type": "display_data",
          "data": {
            "text/html": [
              "<pre>| 450          | 6.68082      | 15m 17s      |</pre>"
            ],
            "text/plain": [
              "| 450          | 6.68082      | 15m 17s      |"
            ]
          },
          "metadata": {
            "tags": []
          }
        },
        {
          "output_type": "display_data",
          "data": {
            "text/html": [
              "<pre>| 455          | 6.63399      | 15m 27s      |</pre>"
            ],
            "text/plain": [
              "| 455          | 6.63399      | 15m 27s      |"
            ]
          },
          "metadata": {
            "tags": []
          }
        },
        {
          "output_type": "display_data",
          "data": {
            "text/html": [
              "<pre>| 460          | 6.67558      | 15m 36s      |</pre>"
            ],
            "text/plain": [
              "| 460          | 6.67558      | 15m 36s      |"
            ]
          },
          "metadata": {
            "tags": []
          }
        },
        {
          "output_type": "display_data",
          "data": {
            "text/html": [
              "<pre>| 465          | 6.70881      | 15m 49s      |</pre>"
            ],
            "text/plain": [
              "| 465          | 6.70881      | 15m 49s      |"
            ]
          },
          "metadata": {
            "tags": []
          }
        },
        {
          "output_type": "display_data",
          "data": {
            "text/html": [
              "<pre>| 470          | 6.54802      | 15m 59s      |</pre>"
            ],
            "text/plain": [
              "| 470          | 6.54802      | 15m 59s      |"
            ]
          },
          "metadata": {
            "tags": []
          }
        },
        {
          "output_type": "display_data",
          "data": {
            "text/html": [
              "<pre>| 475          | 6.49887      | 16m 9s       |</pre>"
            ],
            "text/plain": [
              "| 475          | 6.49887      | 16m 9s       |"
            ]
          },
          "metadata": {
            "tags": []
          }
        },
        {
          "output_type": "display_data",
          "data": {
            "text/html": [
              "<pre>| 480          | 6.48831      | 16m 19s      |</pre>"
            ],
            "text/plain": [
              "| 480          | 6.48831      | 16m 19s      |"
            ]
          },
          "metadata": {
            "tags": []
          }
        },
        {
          "output_type": "display_data",
          "data": {
            "text/html": [
              "<pre>| 485          | 6.53104      | 16m 28s      |</pre>"
            ],
            "text/plain": [
              "| 485          | 6.53104      | 16m 28s      |"
            ]
          },
          "metadata": {
            "tags": []
          }
        },
        {
          "output_type": "display_data",
          "data": {
            "text/html": [
              "<pre>| 490          | 6.41876      | 16m 38s      |</pre>"
            ],
            "text/plain": [
              "| 490          | 6.41876      | 16m 38s      |"
            ]
          },
          "metadata": {
            "tags": []
          }
        },
        {
          "output_type": "display_data",
          "data": {
            "text/html": [
              "<pre>| 495          | 6.45159      | 16m 48s      |</pre>"
            ],
            "text/plain": [
              "| 495          | 6.45159      | 16m 48s      |"
            ]
          },
          "metadata": {
            "tags": []
          }
        },
        {
          "output_type": "display_data",
          "data": {
            "text/html": [
              "<pre>| 500          | 6.52116      | 16m 58s      |</pre>"
            ],
            "text/plain": [
              "| 500          | 6.52116      | 16m 58s      |"
            ]
          },
          "metadata": {
            "tags": []
          }
        },
        {
          "output_type": "display_data",
          "data": {
            "text/html": [
              "<pre>| 505          | 6.48389      | 17m 8s       |</pre>"
            ],
            "text/plain": [
              "| 505          | 6.48389      | 17m 8s       |"
            ]
          },
          "metadata": {
            "tags": []
          }
        },
        {
          "output_type": "display_data",
          "data": {
            "text/html": [
              "<pre>| 510          | 6.41017      | 17m 19s      |</pre>"
            ],
            "text/plain": [
              "| 510          | 6.41017      | 17m 19s      |"
            ]
          },
          "metadata": {
            "tags": []
          }
        },
        {
          "output_type": "display_data",
          "data": {
            "text/html": [
              "<pre>| 515          | 6.29274      | 17m 29s      |</pre>"
            ],
            "text/plain": [
              "| 515          | 6.29274      | 17m 29s      |"
            ]
          },
          "metadata": {
            "tags": []
          }
        },
        {
          "output_type": "display_data",
          "data": {
            "text/html": [
              "<pre>| 520          | 6.31171      | 17m 39s      |</pre>"
            ],
            "text/plain": [
              "| 520          | 6.31171      | 17m 39s      |"
            ]
          },
          "metadata": {
            "tags": []
          }
        },
        {
          "output_type": "display_data",
          "data": {
            "text/html": [
              "<pre>| 525          | 6.24458      | 17m 49s      |</pre>"
            ],
            "text/plain": [
              "| 525          | 6.24458      | 17m 49s      |"
            ]
          },
          "metadata": {
            "tags": []
          }
        },
        {
          "output_type": "display_data",
          "data": {
            "text/html": [
              "<pre>| 530          | 6.19042      | 17m 59s      |</pre>"
            ],
            "text/plain": [
              "| 530          | 6.19042      | 17m 59s      |"
            ]
          },
          "metadata": {
            "tags": []
          }
        },
        {
          "output_type": "display_data",
          "data": {
            "text/html": [
              "<pre>| 535          | 6.24429      | 18m 9s       |</pre>"
            ],
            "text/plain": [
              "| 535          | 6.24429      | 18m 9s       |"
            ]
          },
          "metadata": {
            "tags": []
          }
        },
        {
          "output_type": "display_data",
          "data": {
            "text/html": [
              "<pre>| 540          | 6.22158      | 18m 19s      |</pre>"
            ],
            "text/plain": [
              "| 540          | 6.22158      | 18m 19s      |"
            ]
          },
          "metadata": {
            "tags": []
          }
        },
        {
          "output_type": "display_data",
          "data": {
            "text/html": [
              "<pre>| 545          | 6.15826      | 18m 29s      |</pre>"
            ],
            "text/plain": [
              "| 545          | 6.15826      | 18m 29s      |"
            ]
          },
          "metadata": {
            "tags": []
          }
        },
        {
          "output_type": "display_data",
          "data": {
            "text/html": [
              "<pre>| 550          | 6.10105      | 18m 39s      |</pre>"
            ],
            "text/plain": [
              "| 550          | 6.10105      | 18m 39s      |"
            ]
          },
          "metadata": {
            "tags": []
          }
        },
        {
          "output_type": "display_data",
          "data": {
            "text/html": [
              "<pre>| 555          | 5.9999       | 18m 49s      |</pre>"
            ],
            "text/plain": [
              "| 555          | 5.9999       | 18m 49s      |"
            ]
          },
          "metadata": {
            "tags": []
          }
        },
        {
          "output_type": "display_data",
          "data": {
            "text/html": [
              "<pre>| 560          | 6.12208      | 18m 59s      |</pre>"
            ],
            "text/plain": [
              "| 560          | 6.12208      | 18m 59s      |"
            ]
          },
          "metadata": {
            "tags": []
          }
        },
        {
          "output_type": "display_data",
          "data": {
            "text/html": [
              "<pre>| 565          | 6.16744      | 19m 9s       |</pre>"
            ],
            "text/plain": [
              "| 565          | 6.16744      | 19m 9s       |"
            ]
          },
          "metadata": {
            "tags": []
          }
        },
        {
          "output_type": "display_data",
          "data": {
            "text/html": [
              "<pre>| 570          | 6.14618      | 19m 19s      |</pre>"
            ],
            "text/plain": [
              "| 570          | 6.14618      | 19m 19s      |"
            ]
          },
          "metadata": {
            "tags": []
          }
        },
        {
          "output_type": "display_data",
          "data": {
            "text/html": [
              "<pre>| 575          | 6.12495      | 19m 29s      |</pre>"
            ],
            "text/plain": [
              "| 575          | 6.12495      | 19m 29s      |"
            ]
          },
          "metadata": {
            "tags": []
          }
        },
        {
          "output_type": "display_data",
          "data": {
            "text/html": [
              "<pre>| 580          | 5.98199      | 19m 39s      |</pre>"
            ],
            "text/plain": [
              "| 580          | 5.98199      | 19m 39s      |"
            ]
          },
          "metadata": {
            "tags": []
          }
        },
        {
          "output_type": "display_data",
          "data": {
            "text/html": [
              "<pre>| 585          | 6.01281      | 19m 49s      |</pre>"
            ],
            "text/plain": [
              "| 585          | 6.01281      | 19m 49s      |"
            ]
          },
          "metadata": {
            "tags": []
          }
        },
        {
          "output_type": "display_data",
          "data": {
            "text/html": [
              "<pre>| 590          | 5.82499      | 19m 59s      |</pre>"
            ],
            "text/plain": [
              "| 590          | 5.82499      | 19m 59s      |"
            ]
          },
          "metadata": {
            "tags": []
          }
        },
        {
          "output_type": "display_data",
          "data": {
            "text/html": [
              "<pre>| 595          | 5.84143      | 20m 9s       |</pre>"
            ],
            "text/plain": [
              "| 595          | 5.84143      | 20m 9s       |"
            ]
          },
          "metadata": {
            "tags": []
          }
        },
        {
          "output_type": "display_data",
          "data": {
            "text/html": [
              "<pre>| 600          | 5.9129       | 20m 18s      |</pre>"
            ],
            "text/plain": [
              "| 600          | 5.9129       | 20m 18s      |"
            ]
          },
          "metadata": {
            "tags": []
          }
        },
        {
          "output_type": "display_data",
          "data": {
            "text/html": [
              "<pre>| 605          | 5.83291      | 20m 29s      |</pre>"
            ],
            "text/plain": [
              "| 605          | 5.83291      | 20m 29s      |"
            ]
          },
          "metadata": {
            "tags": []
          }
        },
        {
          "output_type": "display_data",
          "data": {
            "text/html": [
              "<pre>| 610          | 5.90185      | 20m 39s      |</pre>"
            ],
            "text/plain": [
              "| 610          | 5.90185      | 20m 39s      |"
            ]
          },
          "metadata": {
            "tags": []
          }
        },
        {
          "output_type": "display_data",
          "data": {
            "text/html": [
              "<pre>| 615          | 5.91908      | 20m 49s      |</pre>"
            ],
            "text/plain": [
              "| 615          | 5.91908      | 20m 49s      |"
            ]
          },
          "metadata": {
            "tags": []
          }
        },
        {
          "output_type": "display_data",
          "data": {
            "text/html": [
              "<pre>| 620          | 5.98633      | 20m 59s      |</pre>"
            ],
            "text/plain": [
              "| 620          | 5.98633      | 20m 59s      |"
            ]
          },
          "metadata": {
            "tags": []
          }
        },
        {
          "output_type": "display_data",
          "data": {
            "text/html": [
              "<pre>| 625          | 5.89969      | 21m 9s       |</pre>"
            ],
            "text/plain": [
              "| 625          | 5.89969      | 21m 9s       |"
            ]
          },
          "metadata": {
            "tags": []
          }
        },
        {
          "output_type": "display_data",
          "data": {
            "text/html": [
              "<pre>| 630          | 5.8809       | 21m 19s      |</pre>"
            ],
            "text/plain": [
              "| 630          | 5.8809       | 21m 19s      |"
            ]
          },
          "metadata": {
            "tags": []
          }
        },
        {
          "output_type": "display_data",
          "data": {
            "text/html": [
              "<pre>| 635          | 5.86744      | 21m 29s      |</pre>"
            ],
            "text/plain": [
              "| 635          | 5.86744      | 21m 29s      |"
            ]
          },
          "metadata": {
            "tags": []
          }
        },
        {
          "output_type": "display_data",
          "data": {
            "text/html": [
              "<pre>| 640          | 5.92601      | 21m 39s      |</pre>"
            ],
            "text/plain": [
              "| 640          | 5.92601      | 21m 39s      |"
            ]
          },
          "metadata": {
            "tags": []
          }
        },
        {
          "output_type": "display_data",
          "data": {
            "text/html": [
              "<pre>| 645          | 5.86577      | 21m 49s      |</pre>"
            ],
            "text/plain": [
              "| 645          | 5.86577      | 21m 49s      |"
            ]
          },
          "metadata": {
            "tags": []
          }
        },
        {
          "output_type": "display_data",
          "data": {
            "text/html": [
              "<pre>| 650          | 5.72909      | 21m 59s      |</pre>"
            ],
            "text/plain": [
              "| 650          | 5.72909      | 21m 59s      |"
            ]
          },
          "metadata": {
            "tags": []
          }
        },
        {
          "output_type": "display_data",
          "data": {
            "text/html": [
              "<pre>| 655          | 5.6067       | 22m 8s       |</pre>"
            ],
            "text/plain": [
              "| 655          | 5.6067       | 22m 8s       |"
            ]
          },
          "metadata": {
            "tags": []
          }
        },
        {
          "output_type": "display_data",
          "data": {
            "text/html": [
              "<pre>| 660          | 5.68749      | 22m 18s      |</pre>"
            ],
            "text/plain": [
              "| 660          | 5.68749      | 22m 18s      |"
            ]
          },
          "metadata": {
            "tags": []
          }
        },
        {
          "output_type": "display_data",
          "data": {
            "text/html": [
              "<pre>| 665          | 5.76469      | 22m 28s      |</pre>"
            ],
            "text/plain": [
              "| 665          | 5.76469      | 22m 28s      |"
            ]
          },
          "metadata": {
            "tags": []
          }
        },
        {
          "output_type": "display_data",
          "data": {
            "text/html": [
              "<pre>| 670          | 5.63202      | 22m 38s      |</pre>"
            ],
            "text/plain": [
              "| 670          | 5.63202      | 22m 38s      |"
            ]
          },
          "metadata": {
            "tags": []
          }
        },
        {
          "output_type": "display_data",
          "data": {
            "text/html": [
              "<pre>| 675          | 5.74123      | 22m 48s      |</pre>"
            ],
            "text/plain": [
              "| 675          | 5.74123      | 22m 48s      |"
            ]
          },
          "metadata": {
            "tags": []
          }
        },
        {
          "output_type": "display_data",
          "data": {
            "text/html": [
              "<pre>| 680          | 5.75849      | 22m 58s      |</pre>"
            ],
            "text/plain": [
              "| 680          | 5.75849      | 22m 58s      |"
            ]
          },
          "metadata": {
            "tags": []
          }
        },
        {
          "output_type": "display_data",
          "data": {
            "text/html": [
              "<pre>| 685          | 5.75438      | 23m 8s       |</pre>"
            ],
            "text/plain": [
              "| 685          | 5.75438      | 23m 8s       |"
            ]
          },
          "metadata": {
            "tags": []
          }
        },
        {
          "output_type": "display_data",
          "data": {
            "text/html": [
              "<pre>| 690          | 5.84274      | 23m 18s      |</pre>"
            ],
            "text/plain": [
              "| 690          | 5.84274      | 23m 18s      |"
            ]
          },
          "metadata": {
            "tags": []
          }
        },
        {
          "output_type": "display_data",
          "data": {
            "text/html": [
              "<pre>| 695          | 5.70515      | 23m 30s      |</pre>"
            ],
            "text/plain": [
              "| 695          | 5.70515      | 23m 30s      |"
            ]
          },
          "metadata": {
            "tags": []
          }
        },
        {
          "output_type": "display_data",
          "data": {
            "text/html": [
              "<pre>| 700          | 5.62474      | 23m 40s      |</pre>"
            ],
            "text/plain": [
              "| 700          | 5.62474      | 23m 40s      |"
            ]
          },
          "metadata": {
            "tags": []
          }
        },
        {
          "output_type": "display_data",
          "data": {
            "text/html": [
              "<pre>| 705          | 5.62786      | 23m 50s      |</pre>"
            ],
            "text/plain": [
              "| 705          | 5.62786      | 23m 50s      |"
            ]
          },
          "metadata": {
            "tags": []
          }
        },
        {
          "output_type": "display_data",
          "data": {
            "text/html": [
              "<pre>| 710          | 5.47025      | 24m 0s       |</pre>"
            ],
            "text/plain": [
              "| 710          | 5.47025      | 24m 0s       |"
            ]
          },
          "metadata": {
            "tags": []
          }
        },
        {
          "output_type": "display_data",
          "data": {
            "text/html": [
              "<pre>| 715          | 5.439        | 24m 10s      |</pre>"
            ],
            "text/plain": [
              "| 715          | 5.439        | 24m 10s      |"
            ]
          },
          "metadata": {
            "tags": []
          }
        },
        {
          "output_type": "display_data",
          "data": {
            "text/html": [
              "<pre>| 720          | 5.58213      | 24m 20s      |</pre>"
            ],
            "text/plain": [
              "| 720          | 5.58213      | 24m 20s      |"
            ]
          },
          "metadata": {
            "tags": []
          }
        },
        {
          "output_type": "display_data",
          "data": {
            "text/html": [
              "<pre>| 725          | 5.4188       | 24m 30s      |</pre>"
            ],
            "text/plain": [
              "| 725          | 5.4188       | 24m 30s      |"
            ]
          },
          "metadata": {
            "tags": []
          }
        },
        {
          "output_type": "display_data",
          "data": {
            "text/html": [
              "<pre>| 730          | 5.50949      | 24m 40s      |</pre>"
            ],
            "text/plain": [
              "| 730          | 5.50949      | 24m 40s      |"
            ]
          },
          "metadata": {
            "tags": []
          }
        },
        {
          "output_type": "display_data",
          "data": {
            "text/html": [
              "<pre>| 735          | 5.44392      | 24m 50s      |</pre>"
            ],
            "text/plain": [
              "| 735          | 5.44392      | 24m 50s      |"
            ]
          },
          "metadata": {
            "tags": []
          }
        },
        {
          "output_type": "display_data",
          "data": {
            "text/html": [
              "<pre>| 740          | 5.37646      | 25m 0s       |</pre>"
            ],
            "text/plain": [
              "| 740          | 5.37646      | 25m 0s       |"
            ]
          },
          "metadata": {
            "tags": []
          }
        },
        {
          "output_type": "display_data",
          "data": {
            "text/html": [
              "<pre>| 745          | 5.41352      | 25m 10s      |</pre>"
            ],
            "text/plain": [
              "| 745          | 5.41352      | 25m 10s      |"
            ]
          },
          "metadata": {
            "tags": []
          }
        },
        {
          "output_type": "display_data",
          "data": {
            "text/html": [
              "<pre>| 750          | 5.40328      | 25m 20s      |</pre>"
            ],
            "text/plain": [
              "| 750          | 5.40328      | 25m 20s      |"
            ]
          },
          "metadata": {
            "tags": []
          }
        },
        {
          "output_type": "display_data",
          "data": {
            "text/html": [
              "<pre>| 755          | 5.37039      | 25m 30s      |</pre>"
            ],
            "text/plain": [
              "| 755          | 5.37039      | 25m 30s      |"
            ]
          },
          "metadata": {
            "tags": []
          }
        },
        {
          "output_type": "display_data",
          "data": {
            "text/html": [
              "<pre>| 760          | 5.34964      | 25m 40s      |</pre>"
            ],
            "text/plain": [
              "| 760          | 5.34964      | 25m 40s      |"
            ]
          },
          "metadata": {
            "tags": []
          }
        },
        {
          "output_type": "display_data",
          "data": {
            "text/html": [
              "<pre>| 765          | 5.32995      | 25m 49s      |</pre>"
            ],
            "text/plain": [
              "| 765          | 5.32995      | 25m 49s      |"
            ]
          },
          "metadata": {
            "tags": []
          }
        },
        {
          "output_type": "display_data",
          "data": {
            "text/html": [
              "<pre>| 770          | 5.37681      | 25m 59s      |</pre>"
            ],
            "text/plain": [
              "| 770          | 5.37681      | 25m 59s      |"
            ]
          },
          "metadata": {
            "tags": []
          }
        },
        {
          "output_type": "display_data",
          "data": {
            "text/html": [
              "<pre>| 775          | 5.40207      | 26m 9s       |</pre>"
            ],
            "text/plain": [
              "| 775          | 5.40207      | 26m 9s       |"
            ]
          },
          "metadata": {
            "tags": []
          }
        },
        {
          "output_type": "display_data",
          "data": {
            "text/html": [
              "<pre>| 780          | 5.43959      | 26m 19s      |</pre>"
            ],
            "text/plain": [
              "| 780          | 5.43959      | 26m 19s      |"
            ]
          },
          "metadata": {
            "tags": []
          }
        },
        {
          "output_type": "display_data",
          "data": {
            "text/html": [
              "<pre>| 785          | 5.45182      | 26m 29s      |</pre>"
            ],
            "text/plain": [
              "| 785          | 5.45182      | 26m 29s      |"
            ]
          },
          "metadata": {
            "tags": []
          }
        },
        {
          "output_type": "display_data",
          "data": {
            "text/html": [
              "<pre>| 790          | 5.43668      | 26m 39s      |</pre>"
            ],
            "text/plain": [
              "| 790          | 5.43668      | 26m 39s      |"
            ]
          },
          "metadata": {
            "tags": []
          }
        },
        {
          "output_type": "display_data",
          "data": {
            "text/html": [
              "<pre>| 795          | 5.36863      | 26m 49s      |</pre>"
            ],
            "text/plain": [
              "| 795          | 5.36863      | 26m 49s      |"
            ]
          },
          "metadata": {
            "tags": []
          }
        },
        {
          "output_type": "display_data",
          "data": {
            "text/html": [
              "<pre>| 800          | 5.29351      | 26m 59s      |</pre>"
            ],
            "text/plain": [
              "| 800          | 5.29351      | 26m 59s      |"
            ]
          },
          "metadata": {
            "tags": []
          }
        },
        {
          "output_type": "display_data",
          "data": {
            "text/html": [
              "<pre>| 805          | 5.3571       | 27m 9s       |</pre>"
            ],
            "text/plain": [
              "| 805          | 5.3571       | 27m 9s       |"
            ]
          },
          "metadata": {
            "tags": []
          }
        },
        {
          "output_type": "display_data",
          "data": {
            "text/html": [
              "<pre>| 810          | 5.31631      | 27m 19s      |</pre>"
            ],
            "text/plain": [
              "| 810          | 5.31631      | 27m 19s      |"
            ]
          },
          "metadata": {
            "tags": []
          }
        },
        {
          "output_type": "display_data",
          "data": {
            "text/html": [
              "<pre>| 815          | 5.31068      | 27m 29s      |</pre>"
            ],
            "text/plain": [
              "| 815          | 5.31068      | 27m 29s      |"
            ]
          },
          "metadata": {
            "tags": []
          }
        },
        {
          "output_type": "display_data",
          "data": {
            "text/html": [
              "<pre>| 820          | 5.24542      | 27m 39s      |</pre>"
            ],
            "text/plain": [
              "| 820          | 5.24542      | 27m 39s      |"
            ]
          },
          "metadata": {
            "tags": []
          }
        },
        {
          "output_type": "display_data",
          "data": {
            "text/html": [
              "<pre>| 825          | 5.28443      | 27m 49s      |</pre>"
            ],
            "text/plain": [
              "| 825          | 5.28443      | 27m 49s      |"
            ]
          },
          "metadata": {
            "tags": []
          }
        },
        {
          "output_type": "display_data",
          "data": {
            "text/html": [
              "<pre>| 830          | 5.23562      | 27m 59s      |</pre>"
            ],
            "text/plain": [
              "| 830          | 5.23562      | 27m 59s      |"
            ]
          },
          "metadata": {
            "tags": []
          }
        },
        {
          "output_type": "display_data",
          "data": {
            "text/html": [
              "<pre>| 835          | 5.17774      | 28m 9s       |</pre>"
            ],
            "text/plain": [
              "| 835          | 5.17774      | 28m 9s       |"
            ]
          },
          "metadata": {
            "tags": []
          }
        },
        {
          "output_type": "display_data",
          "data": {
            "text/html": [
              "<pre>| 840          | 5.12175      | 28m 19s      |</pre>"
            ],
            "text/plain": [
              "| 840          | 5.12175      | 28m 19s      |"
            ]
          },
          "metadata": {
            "tags": []
          }
        },
        {
          "output_type": "display_data",
          "data": {
            "text/html": [
              "<pre>| 845          | 5.0914       | 28m 29s      |</pre>"
            ],
            "text/plain": [
              "| 845          | 5.0914       | 28m 29s      |"
            ]
          },
          "metadata": {
            "tags": []
          }
        },
        {
          "output_type": "display_data",
          "data": {
            "text/html": [
              "<pre>| 850          | 5.18061      | 28m 38s      |</pre>"
            ],
            "text/plain": [
              "| 850          | 5.18061      | 28m 38s      |"
            ]
          },
          "metadata": {
            "tags": []
          }
        },
        {
          "output_type": "display_data",
          "data": {
            "text/html": [
              "<pre>| 855          | 5.24783      | 28m 48s      |</pre>"
            ],
            "text/plain": [
              "| 855          | 5.24783      | 28m 48s      |"
            ]
          },
          "metadata": {
            "tags": []
          }
        },
        {
          "output_type": "display_data",
          "data": {
            "text/html": [
              "<pre>| 860          | 5.23928      | 28m 58s      |</pre>"
            ],
            "text/plain": [
              "| 860          | 5.23928      | 28m 58s      |"
            ]
          },
          "metadata": {
            "tags": []
          }
        },
        {
          "output_type": "display_data",
          "data": {
            "text/html": [
              "<pre>| 865          | 5.26308      | 29m 7s       |</pre>"
            ],
            "text/plain": [
              "| 865          | 5.26308      | 29m 7s       |"
            ]
          },
          "metadata": {
            "tags": []
          }
        },
        {
          "output_type": "display_data",
          "data": {
            "text/html": [
              "<pre>| 870          | 5.23241      | 29m 18s      |</pre>"
            ],
            "text/plain": [
              "| 870          | 5.23241      | 29m 18s      |"
            ]
          },
          "metadata": {
            "tags": []
          }
        },
        {
          "output_type": "display_data",
          "data": {
            "text/html": [
              "<pre>| 875          | 5.17923      | 29m 27s      |</pre>"
            ],
            "text/plain": [
              "| 875          | 5.17923      | 29m 27s      |"
            ]
          },
          "metadata": {
            "tags": []
          }
        },
        {
          "output_type": "display_data",
          "data": {
            "text/html": [
              "<pre>| 880          | 5.08877      | 29m 37s      |</pre>"
            ],
            "text/plain": [
              "| 880          | 5.08877      | 29m 37s      |"
            ]
          },
          "metadata": {
            "tags": []
          }
        },
        {
          "output_type": "display_data",
          "data": {
            "text/html": [
              "<pre>| 885          | 5.27616      | 29m 47s      |</pre>"
            ],
            "text/plain": [
              "| 885          | 5.27616      | 29m 47s      |"
            ]
          },
          "metadata": {
            "tags": []
          }
        },
        {
          "output_type": "display_data",
          "data": {
            "text/html": [
              "<pre>| 890          | 5.17801      | 29m 57s      |</pre>"
            ],
            "text/plain": [
              "| 890          | 5.17801      | 29m 57s      |"
            ]
          },
          "metadata": {
            "tags": []
          }
        },
        {
          "output_type": "display_data",
          "data": {
            "text/html": [
              "<pre>| 895          | 5.16498      | 30m 6s       |</pre>"
            ],
            "text/plain": [
              "| 895          | 5.16498      | 30m 6s       |"
            ]
          },
          "metadata": {
            "tags": []
          }
        },
        {
          "output_type": "display_data",
          "data": {
            "text/html": [
              "<pre>| 900          | 5.13937      | 30m 16s      |</pre>"
            ],
            "text/plain": [
              "| 900          | 5.13937      | 30m 16s      |"
            ]
          },
          "metadata": {
            "tags": []
          }
        },
        {
          "output_type": "display_data",
          "data": {
            "text/html": [
              "<pre>| 905          | 5.16114      | 30m 26s      |</pre>"
            ],
            "text/plain": [
              "| 905          | 5.16114      | 30m 26s      |"
            ]
          },
          "metadata": {
            "tags": []
          }
        },
        {
          "output_type": "display_data",
          "data": {
            "text/html": [
              "<pre>| 910          | 5.12601      | 30m 36s      |</pre>"
            ],
            "text/plain": [
              "| 910          | 5.12601      | 30m 36s      |"
            ]
          },
          "metadata": {
            "tags": []
          }
        },
        {
          "output_type": "display_data",
          "data": {
            "text/html": [
              "<pre>| 915          | 5.06687      | 30m 46s      |</pre>"
            ],
            "text/plain": [
              "| 915          | 5.06687      | 30m 46s      |"
            ]
          },
          "metadata": {
            "tags": []
          }
        },
        {
          "output_type": "display_data",
          "data": {
            "text/html": [
              "<pre>| 920          | 4.97409      | 30m 56s      |</pre>"
            ],
            "text/plain": [
              "| 920          | 4.97409      | 30m 56s      |"
            ]
          },
          "metadata": {
            "tags": []
          }
        },
        {
          "output_type": "display_data",
          "data": {
            "text/html": [
              "<pre>| 925          | 5.02412      | 31m 6s       |</pre>"
            ],
            "text/plain": [
              "| 925          | 5.02412      | 31m 6s       |"
            ]
          },
          "metadata": {
            "tags": []
          }
        },
        {
          "output_type": "display_data",
          "data": {
            "text/html": [
              "<pre>| 930          | 4.85458      | 31m 18s      |</pre>"
            ],
            "text/plain": [
              "| 930          | 4.85458      | 31m 18s      |"
            ]
          },
          "metadata": {
            "tags": []
          }
        },
        {
          "output_type": "display_data",
          "data": {
            "text/html": [
              "<pre>| 935          | 4.9479       | 31m 28s      |</pre>"
            ],
            "text/plain": [
              "| 935          | 4.9479       | 31m 28s      |"
            ]
          },
          "metadata": {
            "tags": []
          }
        },
        {
          "output_type": "display_data",
          "data": {
            "text/html": [
              "<pre>| 940          | 4.91042      | 31m 38s      |</pre>"
            ],
            "text/plain": [
              "| 940          | 4.91042      | 31m 38s      |"
            ]
          },
          "metadata": {
            "tags": []
          }
        },
        {
          "output_type": "display_data",
          "data": {
            "text/html": [
              "<pre>| 945          | 4.84438      | 31m 48s      |</pre>"
            ],
            "text/plain": [
              "| 945          | 4.84438      | 31m 48s      |"
            ]
          },
          "metadata": {
            "tags": []
          }
        },
        {
          "output_type": "display_data",
          "data": {
            "text/html": [
              "<pre>| 950          | 4.91799      | 31m 58s      |</pre>"
            ],
            "text/plain": [
              "| 950          | 4.91799      | 31m 58s      |"
            ]
          },
          "metadata": {
            "tags": []
          }
        },
        {
          "output_type": "display_data",
          "data": {
            "text/html": [
              "<pre>| 955          | 4.98451      | 32m 8s       |</pre>"
            ],
            "text/plain": [
              "| 955          | 4.98451      | 32m 8s       |"
            ]
          },
          "metadata": {
            "tags": []
          }
        },
        {
          "output_type": "display_data",
          "data": {
            "text/html": [
              "<pre>| 960          | 4.96163      | 32m 17s      |</pre>"
            ],
            "text/plain": [
              "| 960          | 4.96163      | 32m 17s      |"
            ]
          },
          "metadata": {
            "tags": []
          }
        },
        {
          "output_type": "display_data",
          "data": {
            "text/html": [
              "<pre>| 965          | 4.97162      | 32m 27s      |</pre>"
            ],
            "text/plain": [
              "| 965          | 4.97162      | 32m 27s      |"
            ]
          },
          "metadata": {
            "tags": []
          }
        },
        {
          "output_type": "display_data",
          "data": {
            "text/html": [
              "<pre>| 970          | 4.80712      | 32m 37s      |</pre>"
            ],
            "text/plain": [
              "| 970          | 4.80712      | 32m 37s      |"
            ]
          },
          "metadata": {
            "tags": []
          }
        },
        {
          "output_type": "display_data",
          "data": {
            "text/html": [
              "<pre>| 975          | 4.78266      | 32m 47s      |</pre>"
            ],
            "text/plain": [
              "| 975          | 4.78266      | 32m 47s      |"
            ]
          },
          "metadata": {
            "tags": []
          }
        },
        {
          "output_type": "display_data",
          "data": {
            "text/html": [
              "<pre>| 980          | 4.73845      | 32m 56s      |</pre>"
            ],
            "text/plain": [
              "| 980          | 4.73845      | 32m 56s      |"
            ]
          },
          "metadata": {
            "tags": []
          }
        },
        {
          "output_type": "display_data",
          "data": {
            "text/html": [
              "<pre>| 985          | 4.81368      | 33m 6s       |</pre>"
            ],
            "text/plain": [
              "| 985          | 4.81368      | 33m 6s       |"
            ]
          },
          "metadata": {
            "tags": []
          }
        },
        {
          "output_type": "display_data",
          "data": {
            "text/html": [
              "<pre>| 990          | 4.76162      | 33m 16s      |</pre>"
            ],
            "text/plain": [
              "| 990          | 4.76162      | 33m 16s      |"
            ]
          },
          "metadata": {
            "tags": []
          }
        },
        {
          "output_type": "display_data",
          "data": {
            "text/html": [
              "<pre>| 995          | 4.74406      | 33m 26s      |</pre>"
            ],
            "text/plain": [
              "| 995          | 4.74406      | 33m 26s      |"
            ]
          },
          "metadata": {
            "tags": []
          }
        },
        {
          "output_type": "display_data",
          "data": {
            "text/html": [
              "<pre>| 1000         | 4.76442      | 33m 36s      |</pre>"
            ],
            "text/plain": [
              "| 1000         | 4.76442      | 33m 36s      |"
            ]
          },
          "metadata": {
            "tags": []
          }
        },
        {
          "output_type": "display_data",
          "data": {
            "text/html": [
              "<pre>| 1005         | 4.8706       | 33m 46s      |</pre>"
            ],
            "text/plain": [
              "| 1005         | 4.8706       | 33m 46s      |"
            ]
          },
          "metadata": {
            "tags": []
          }
        },
        {
          "output_type": "display_data",
          "data": {
            "text/html": [
              "<pre>| 1010         | 4.78399      | 33m 55s      |</pre>"
            ],
            "text/plain": [
              "| 1010         | 4.78399      | 33m 55s      |"
            ]
          },
          "metadata": {
            "tags": []
          }
        },
        {
          "output_type": "display_data",
          "data": {
            "text/html": [
              "<pre>| 1015         | 4.77704      | 34m 5s       |</pre>"
            ],
            "text/plain": [
              "| 1015         | 4.77704      | 34m 5s       |"
            ]
          },
          "metadata": {
            "tags": []
          }
        },
        {
          "output_type": "display_data",
          "data": {
            "text/html": [
              "<pre>| 1020         | 4.74717      | 34m 15s      |</pre>"
            ],
            "text/plain": [
              "| 1020         | 4.74717      | 34m 15s      |"
            ]
          },
          "metadata": {
            "tags": []
          }
        },
        {
          "output_type": "display_data",
          "data": {
            "text/html": [
              "<pre>| 1025         | 4.80736      | 34m 25s      |</pre>"
            ],
            "text/plain": [
              "| 1025         | 4.80736      | 34m 25s      |"
            ]
          },
          "metadata": {
            "tags": []
          }
        },
        {
          "output_type": "display_data",
          "data": {
            "text/html": [
              "<pre>| 1030         | 4.79142      | 34m 35s      |</pre>"
            ],
            "text/plain": [
              "| 1030         | 4.79142      | 34m 35s      |"
            ]
          },
          "metadata": {
            "tags": []
          }
        },
        {
          "output_type": "display_data",
          "data": {
            "text/html": [
              "<pre>| 1035         | 4.72456      | 34m 45s      |</pre>"
            ],
            "text/plain": [
              "| 1035         | 4.72456      | 34m 45s      |"
            ]
          },
          "metadata": {
            "tags": []
          }
        },
        {
          "output_type": "display_data",
          "data": {
            "text/html": [
              "<pre>| 1040         | 4.6542       | 34m 55s      |</pre>"
            ],
            "text/plain": [
              "| 1040         | 4.6542       | 34m 55s      |"
            ]
          },
          "metadata": {
            "tags": []
          }
        },
        {
          "output_type": "display_data",
          "data": {
            "text/html": [
              "<pre>| 1045         | 4.72577      | 35m 5s       |</pre>"
            ],
            "text/plain": [
              "| 1045         | 4.72577      | 35m 5s       |"
            ]
          },
          "metadata": {
            "tags": []
          }
        },
        {
          "output_type": "display_data",
          "data": {
            "text/html": [
              "<pre>| 1050         | 4.63149      | 35m 15s      |</pre>"
            ],
            "text/plain": [
              "| 1050         | 4.63149      | 35m 15s      |"
            ]
          },
          "metadata": {
            "tags": []
          }
        },
        {
          "output_type": "display_data",
          "data": {
            "text/html": [
              "<pre>| 1055         | 4.57028      | 35m 25s      |</pre>"
            ],
            "text/plain": [
              "| 1055         | 4.57028      | 35m 25s      |"
            ]
          },
          "metadata": {
            "tags": []
          }
        },
        {
          "output_type": "display_data",
          "data": {
            "text/html": [
              "<pre>| 1060         | 4.59903      | 35m 35s      |</pre>"
            ],
            "text/plain": [
              "| 1060         | 4.59903      | 35m 35s      |"
            ]
          },
          "metadata": {
            "tags": []
          }
        },
        {
          "output_type": "display_data",
          "data": {
            "text/html": [
              "<pre>| 1065         | 4.55069      | 35m 45s      |</pre>"
            ],
            "text/plain": [
              "| 1065         | 4.55069      | 35m 45s      |"
            ]
          },
          "metadata": {
            "tags": []
          }
        },
        {
          "output_type": "display_data",
          "data": {
            "text/html": [
              "<pre>| 1070         | 4.49922      | 35m 55s      |</pre>"
            ],
            "text/plain": [
              "| 1070         | 4.49922      | 35m 55s      |"
            ]
          },
          "metadata": {
            "tags": []
          }
        },
        {
          "output_type": "display_data",
          "data": {
            "text/html": [
              "<pre>| 1075         | 4.64145      | 36m 5s       |</pre>"
            ],
            "text/plain": [
              "| 1075         | 4.64145      | 36m 5s       |"
            ]
          },
          "metadata": {
            "tags": []
          }
        },
        {
          "output_type": "display_data",
          "data": {
            "text/html": [
              "<pre>| 1080         | 4.66352      | 36m 15s      |</pre>"
            ],
            "text/plain": [
              "| 1080         | 4.66352      | 36m 15s      |"
            ]
          },
          "metadata": {
            "tags": []
          }
        },
        {
          "output_type": "display_data",
          "data": {
            "text/html": [
              "<pre>| 1085         | 4.6568       | 36m 24s      |</pre>"
            ],
            "text/plain": [
              "| 1085         | 4.6568       | 36m 24s      |"
            ]
          },
          "metadata": {
            "tags": []
          }
        },
        {
          "output_type": "display_data",
          "data": {
            "text/html": [
              "<pre>| 1090         | 4.75371      | 36m 34s      |</pre>"
            ],
            "text/plain": [
              "| 1090         | 4.75371      | 36m 34s      |"
            ]
          },
          "metadata": {
            "tags": []
          }
        },
        {
          "output_type": "display_data",
          "data": {
            "text/html": [
              "<pre>| 1095         | 4.62008      | 36m 44s      |</pre>"
            ],
            "text/plain": [
              "| 1095         | 4.62008      | 36m 44s      |"
            ]
          },
          "metadata": {
            "tags": []
          }
        },
        {
          "output_type": "display_data",
          "data": {
            "text/html": [
              "<pre>| 1100         | 4.62174      | 36m 54s      |</pre>"
            ],
            "text/plain": [
              "| 1100         | 4.62174      | 36m 54s      |"
            ]
          },
          "metadata": {
            "tags": []
          }
        },
        {
          "output_type": "display_data",
          "data": {
            "text/html": [
              "<pre>| 1105         | 4.52522      | 37m 4s       |</pre>"
            ],
            "text/plain": [
              "| 1105         | 4.52522      | 37m 4s       |"
            ]
          },
          "metadata": {
            "tags": []
          }
        },
        {
          "output_type": "display_data",
          "data": {
            "text/html": [
              "<pre>| 1110         | 4.63074      | 37m 14s      |</pre>"
            ],
            "text/plain": [
              "| 1110         | 4.63074      | 37m 14s      |"
            ]
          },
          "metadata": {
            "tags": []
          }
        },
        {
          "output_type": "display_data",
          "data": {
            "text/html": [
              "<pre>| 1115         | 4.65277      | 37m 24s      |</pre>"
            ],
            "text/plain": [
              "| 1115         | 4.65277      | 37m 24s      |"
            ]
          },
          "metadata": {
            "tags": []
          }
        },
        {
          "output_type": "display_data",
          "data": {
            "text/html": [
              "<pre>| 1120         | 4.55083      | 37m 34s      |</pre>"
            ],
            "text/plain": [
              "| 1120         | 4.55083      | 37m 34s      |"
            ]
          },
          "metadata": {
            "tags": []
          }
        },
        {
          "output_type": "display_data",
          "data": {
            "text/html": [
              "<pre>| 1125         | 4.55606      | 37m 44s      |</pre>"
            ],
            "text/plain": [
              "| 1125         | 4.55606      | 37m 44s      |"
            ]
          },
          "metadata": {
            "tags": []
          }
        },
        {
          "output_type": "display_data",
          "data": {
            "text/html": [
              "<pre>| 1130         | 4.45755      | 37m 54s      |</pre>"
            ],
            "text/plain": [
              "| 1130         | 4.45755      | 37m 54s      |"
            ]
          },
          "metadata": {
            "tags": []
          }
        },
        {
          "output_type": "display_data",
          "data": {
            "text/html": [
              "<pre>| 1135         | 4.53476      | 38m 4s       |</pre>"
            ],
            "text/plain": [
              "| 1135         | 4.53476      | 38m 4s       |"
            ]
          },
          "metadata": {
            "tags": []
          }
        },
        {
          "output_type": "display_data",
          "data": {
            "text/html": [
              "<pre>| 1140         | 4.47198      | 38m 14s      |</pre>"
            ],
            "text/plain": [
              "| 1140         | 4.47198      | 38m 14s      |"
            ]
          },
          "metadata": {
            "tags": []
          }
        },
        {
          "output_type": "display_data",
          "data": {
            "text/html": [
              "<pre>| 1145         | 4.42538      | 38m 24s      |</pre>"
            ],
            "text/plain": [
              "| 1145         | 4.42538      | 38m 24s      |"
            ]
          },
          "metadata": {
            "tags": []
          }
        },
        {
          "output_type": "display_data",
          "data": {
            "text/html": [
              "<pre>| 1150         | 4.60283      | 38m 34s      |</pre>"
            ],
            "text/plain": [
              "| 1150         | 4.60283      | 38m 34s      |"
            ]
          },
          "metadata": {
            "tags": []
          }
        },
        {
          "output_type": "display_data",
          "data": {
            "text/html": [
              "<pre>| 1155         | 4.53861      | 38m 44s      |</pre>"
            ],
            "text/plain": [
              "| 1155         | 4.53861      | 38m 44s      |"
            ]
          },
          "metadata": {
            "tags": []
          }
        },
        {
          "output_type": "display_data",
          "data": {
            "text/html": [
              "<pre>| 1160         | 4.36969      | 38m 56s      |</pre>"
            ],
            "text/plain": [
              "| 1160         | 4.36969      | 38m 56s      |"
            ]
          },
          "metadata": {
            "tags": []
          }
        },
        {
          "output_type": "display_data",
          "data": {
            "text/html": [
              "<pre>| 1165         | 4.32323      | 39m 6s       |</pre>"
            ],
            "text/plain": [
              "| 1165         | 4.32323      | 39m 6s       |"
            ]
          },
          "metadata": {
            "tags": []
          }
        },
        {
          "output_type": "display_data",
          "data": {
            "text/html": [
              "<pre>| 1170         | 4.30409      | 39m 15s      |</pre>"
            ],
            "text/plain": [
              "| 1170         | 4.30409      | 39m 15s      |"
            ]
          },
          "metadata": {
            "tags": []
          }
        },
        {
          "output_type": "display_data",
          "data": {
            "text/html": [
              "<pre>| 1175         | 4.33042      | 39m 25s      |</pre>"
            ],
            "text/plain": [
              "| 1175         | 4.33042      | 39m 25s      |"
            ]
          },
          "metadata": {
            "tags": []
          }
        },
        {
          "output_type": "display_data",
          "data": {
            "text/html": [
              "<pre>| 1180         | 4.35391      | 39m 35s      |</pre>"
            ],
            "text/plain": [
              "| 1180         | 4.35391      | 39m 35s      |"
            ]
          },
          "metadata": {
            "tags": []
          }
        },
        {
          "output_type": "display_data",
          "data": {
            "text/html": [
              "<pre>| 1185         | 4.3573       | 39m 45s      |</pre>"
            ],
            "text/plain": [
              "| 1185         | 4.3573       | 39m 45s      |"
            ]
          },
          "metadata": {
            "tags": []
          }
        },
        {
          "output_type": "display_data",
          "data": {
            "text/html": [
              "<pre>| 1190         | 4.3289       | 39m 55s      |</pre>"
            ],
            "text/plain": [
              "| 1190         | 4.3289       | 39m 55s      |"
            ]
          },
          "metadata": {
            "tags": []
          }
        },
        {
          "output_type": "display_data",
          "data": {
            "text/html": [
              "<pre>| 1195         | 4.37484      | 40m 5s       |</pre>"
            ],
            "text/plain": [
              "| 1195         | 4.37484      | 40m 5s       |"
            ]
          },
          "metadata": {
            "tags": []
          }
        },
        {
          "output_type": "display_data",
          "data": {
            "text/html": [
              "<pre>| 1200         | 4.4129       | 40m 15s      |</pre>"
            ],
            "text/plain": [
              "| 1200         | 4.4129       | 40m 15s      |"
            ]
          },
          "metadata": {
            "tags": []
          }
        },
        {
          "output_type": "display_data",
          "data": {
            "text/html": [
              "<pre>| 1205         | 4.38773      | 40m 25s      |</pre>"
            ],
            "text/plain": [
              "| 1205         | 4.38773      | 40m 25s      |"
            ]
          },
          "metadata": {
            "tags": []
          }
        },
        {
          "output_type": "display_data",
          "data": {
            "text/html": [
              "<pre>| 1210         | 4.39392      | 40m 35s      |</pre>"
            ],
            "text/plain": [
              "| 1210         | 4.39392      | 40m 35s      |"
            ]
          },
          "metadata": {
            "tags": []
          }
        },
        {
          "output_type": "display_data",
          "data": {
            "text/html": [
              "<pre>| 1215         | 4.32609      | 40m 44s      |</pre>"
            ],
            "text/plain": [
              "| 1215         | 4.32609      | 40m 44s      |"
            ]
          },
          "metadata": {
            "tags": []
          }
        },
        {
          "output_type": "display_data",
          "data": {
            "text/html": [
              "<pre>| 1220         | 4.30197      | 40m 54s      |</pre>"
            ],
            "text/plain": [
              "| 1220         | 4.30197      | 40m 54s      |"
            ]
          },
          "metadata": {
            "tags": []
          }
        },
        {
          "output_type": "display_data",
          "data": {
            "text/html": [
              "<pre>| 1225         | 4.39929      | 41m 4s       |</pre>"
            ],
            "text/plain": [
              "| 1225         | 4.39929      | 41m 4s       |"
            ]
          },
          "metadata": {
            "tags": []
          }
        },
        {
          "output_type": "display_data",
          "data": {
            "text/html": [
              "<pre>| 1230         | 4.28621      | 41m 14s      |</pre>"
            ],
            "text/plain": [
              "| 1230         | 4.28621      | 41m 14s      |"
            ]
          },
          "metadata": {
            "tags": []
          }
        },
        {
          "output_type": "display_data",
          "data": {
            "text/html": [
              "<pre>| 1235         | 4.27967      | 41m 24s      |</pre>"
            ],
            "text/plain": [
              "| 1235         | 4.27967      | 41m 24s      |"
            ]
          },
          "metadata": {
            "tags": []
          }
        },
        {
          "output_type": "display_data",
          "data": {
            "text/html": [
              "<pre>| 1240         | 4.23605      | 41m 34s      |</pre>"
            ],
            "text/plain": [
              "| 1240         | 4.23605      | 41m 34s      |"
            ]
          },
          "metadata": {
            "tags": []
          }
        },
        {
          "output_type": "display_data",
          "data": {
            "text/html": [
              "<pre>| 1245         | 4.37201      | 41m 44s      |</pre>"
            ],
            "text/plain": [
              "| 1245         | 4.37201      | 41m 44s      |"
            ]
          },
          "metadata": {
            "tags": []
          }
        },
        {
          "output_type": "display_data",
          "data": {
            "text/html": [
              "<pre>| 1250         | 4.43087      | 41m 54s      |</pre>"
            ],
            "text/plain": [
              "| 1250         | 4.43087      | 41m 54s      |"
            ]
          },
          "metadata": {
            "tags": []
          }
        },
        {
          "output_type": "display_data",
          "data": {
            "text/html": [
              "<pre>| 1255         | 4.36708      | 42m 4s       |</pre>"
            ],
            "text/plain": [
              "| 1255         | 4.36708      | 42m 4s       |"
            ]
          },
          "metadata": {
            "tags": []
          }
        },
        {
          "output_type": "display_data",
          "data": {
            "text/html": [
              "<pre>| 1260         | 4.25469      | 42m 14s      |</pre>"
            ],
            "text/plain": [
              "| 1260         | 4.25469      | 42m 14s      |"
            ]
          },
          "metadata": {
            "tags": []
          }
        },
        {
          "output_type": "display_data",
          "data": {
            "text/html": [
              "<pre>| 1265         | 4.37814      | 42m 24s      |</pre>"
            ],
            "text/plain": [
              "| 1265         | 4.37814      | 42m 24s      |"
            ]
          },
          "metadata": {
            "tags": []
          }
        },
        {
          "output_type": "display_data",
          "data": {
            "text/html": [
              "<pre>| 1270         | 4.43597      | 42m 34s      |</pre>"
            ],
            "text/plain": [
              "| 1270         | 4.43597      | 42m 34s      |"
            ]
          },
          "metadata": {
            "tags": []
          }
        },
        {
          "output_type": "display_data",
          "data": {
            "text/html": [
              "<pre>| 1275         | 4.2879       | 42m 44s      |</pre>"
            ],
            "text/plain": [
              "| 1275         | 4.2879       | 42m 44s      |"
            ]
          },
          "metadata": {
            "tags": []
          }
        },
        {
          "output_type": "display_data",
          "data": {
            "text/html": [
              "<pre>| 1280         | 4.2115       | 42m 54s      |</pre>"
            ],
            "text/plain": [
              "| 1280         | 4.2115       | 42m 54s      |"
            ]
          },
          "metadata": {
            "tags": []
          }
        },
        {
          "output_type": "display_data",
          "data": {
            "text/html": [
              "<pre>| 1285         | 4.16833      | 43m 4s       |</pre>"
            ],
            "text/plain": [
              "| 1285         | 4.16833      | 43m 4s       |"
            ]
          },
          "metadata": {
            "tags": []
          }
        },
        {
          "output_type": "display_data",
          "data": {
            "text/html": [
              "<pre>| 1290         | 4.15768      | 43m 13s      |</pre>"
            ],
            "text/plain": [
              "| 1290         | 4.15768      | 43m 13s      |"
            ]
          },
          "metadata": {
            "tags": []
          }
        },
        {
          "output_type": "display_data",
          "data": {
            "text/html": [
              "<pre>| 1295         | 4.07841      | 43m 23s      |</pre>"
            ],
            "text/plain": [
              "| 1295         | 4.07841      | 43m 23s      |"
            ]
          },
          "metadata": {
            "tags": []
          }
        },
        {
          "output_type": "display_data",
          "data": {
            "text/html": [
              "<pre>| 1300         | 4.04863      | 43m 33s      |</pre>"
            ],
            "text/plain": [
              "| 1300         | 4.04863      | 43m 33s      |"
            ]
          },
          "metadata": {
            "tags": []
          }
        },
        {
          "output_type": "display_data",
          "data": {
            "text/html": [
              "<pre>| 1305         | 4.08753      | 43m 44s      |</pre>"
            ],
            "text/plain": [
              "| 1305         | 4.08753      | 43m 44s      |"
            ]
          },
          "metadata": {
            "tags": []
          }
        },
        {
          "output_type": "display_data",
          "data": {
            "text/html": [
              "<pre>| 1310         | 4.07686      | 43m 53s      |</pre>"
            ],
            "text/plain": [
              "| 1310         | 4.07686      | 43m 53s      |"
            ]
          },
          "metadata": {
            "tags": []
          }
        },
        {
          "output_type": "display_data",
          "data": {
            "text/html": [
              "<pre>| 1315         | 4.09498      | 44m 3s       |</pre>"
            ],
            "text/plain": [
              "| 1315         | 4.09498      | 44m 3s       |"
            ]
          },
          "metadata": {
            "tags": []
          }
        },
        {
          "output_type": "display_data",
          "data": {
            "text/html": [
              "<pre>| 1320         | 4.02945      | 44m 13s      |</pre>"
            ],
            "text/plain": [
              "| 1320         | 4.02945      | 44m 13s      |"
            ]
          },
          "metadata": {
            "tags": []
          }
        },
        {
          "output_type": "display_data",
          "data": {
            "text/html": [
              "<pre>| 1325         | 4.04502      | 44m 23s      |</pre>"
            ],
            "text/plain": [
              "| 1325         | 4.04502      | 44m 23s      |"
            ]
          },
          "metadata": {
            "tags": []
          }
        },
        {
          "output_type": "display_data",
          "data": {
            "text/html": [
              "<pre>| 1330         | 4.06989      | 44m 33s      |</pre>"
            ],
            "text/plain": [
              "| 1330         | 4.06989      | 44m 33s      |"
            ]
          },
          "metadata": {
            "tags": []
          }
        },
        {
          "output_type": "display_data",
          "data": {
            "text/html": [
              "<pre>| 1335         | 4.07547      | 44m 43s      |</pre>"
            ],
            "text/plain": [
              "| 1335         | 4.07547      | 44m 43s      |"
            ]
          },
          "metadata": {
            "tags": []
          }
        },
        {
          "output_type": "display_data",
          "data": {
            "text/html": [
              "<pre>| 1340         | 4.13056      | 44m 53s      |</pre>"
            ],
            "text/plain": [
              "| 1340         | 4.13056      | 44m 53s      |"
            ]
          },
          "metadata": {
            "tags": []
          }
        },
        {
          "output_type": "display_data",
          "data": {
            "text/html": [
              "<pre>| 1345         | 4.10477      | 45m 3s       |</pre>"
            ],
            "text/plain": [
              "| 1345         | 4.10477      | 45m 3s       |"
            ]
          },
          "metadata": {
            "tags": []
          }
        },
        {
          "output_type": "display_data",
          "data": {
            "text/html": [
              "<pre>| 1350         | 4.1848       | 45m 13s      |</pre>"
            ],
            "text/plain": [
              "| 1350         | 4.1848       | 45m 13s      |"
            ]
          },
          "metadata": {
            "tags": []
          }
        },
        {
          "output_type": "display_data",
          "data": {
            "text/html": [
              "<pre>| 1355         | 4.27052      | 45m 23s      |</pre>"
            ],
            "text/plain": [
              "| 1355         | 4.27052      | 45m 23s      |"
            ]
          },
          "metadata": {
            "tags": []
          }
        },
        {
          "output_type": "display_data",
          "data": {
            "text/html": [
              "<pre>| 1360         | 4.27822      | 45m 33s      |</pre>"
            ],
            "text/plain": [
              "| 1360         | 4.27822      | 45m 33s      |"
            ]
          },
          "metadata": {
            "tags": []
          }
        },
        {
          "output_type": "display_data",
          "data": {
            "text/html": [
              "<pre>| 1365         | 4.18566      | 45m 43s      |</pre>"
            ],
            "text/plain": [
              "| 1365         | 4.18566      | 45m 43s      |"
            ]
          },
          "metadata": {
            "tags": []
          }
        },
        {
          "output_type": "display_data",
          "data": {
            "text/html": [
              "<pre>| 1370         | 4.31009      | 45m 53s      |</pre>"
            ],
            "text/plain": [
              "| 1370         | 4.31009      | 45m 53s      |"
            ]
          },
          "metadata": {
            "tags": []
          }
        },
        {
          "output_type": "display_data",
          "data": {
            "text/html": [
              "<pre>| 1375         | 4.23975      | 46m 3s       |</pre>"
            ],
            "text/plain": [
              "| 1375         | 4.23975      | 46m 3s       |"
            ]
          },
          "metadata": {
            "tags": []
          }
        },
        {
          "output_type": "display_data",
          "data": {
            "text/html": [
              "<pre>| 1380         | 4.1906       | 46m 13s      |</pre>"
            ],
            "text/plain": [
              "| 1380         | 4.1906       | 46m 13s      |"
            ]
          },
          "metadata": {
            "tags": []
          }
        },
        {
          "output_type": "display_data",
          "data": {
            "text/html": [
              "<pre>| 1385         | 4.13694      | 46m 23s      |</pre>"
            ],
            "text/plain": [
              "| 1385         | 4.13694      | 46m 23s      |"
            ]
          },
          "metadata": {
            "tags": []
          }
        },
        {
          "output_type": "display_data",
          "data": {
            "text/html": [
              "<pre>| 1390         | 3.95129      | 46m 36s      |</pre>"
            ],
            "text/plain": [
              "| 1390         | 3.95129      | 46m 36s      |"
            ]
          },
          "metadata": {
            "tags": []
          }
        },
        {
          "output_type": "display_data",
          "data": {
            "text/html": [
              "<pre>| 1395         | 3.92954      | 46m 45s      |</pre>"
            ],
            "text/plain": [
              "| 1395         | 3.92954      | 46m 45s      |"
            ]
          },
          "metadata": {
            "tags": []
          }
        },
        {
          "output_type": "display_data",
          "data": {
            "text/html": [
              "<pre>| 1400         | 3.94984      | 46m 55s      |</pre>"
            ],
            "text/plain": [
              "| 1400         | 3.94984      | 46m 55s      |"
            ]
          },
          "metadata": {
            "tags": []
          }
        },
        {
          "output_type": "display_data",
          "data": {
            "text/html": [
              "<pre>| 1405         | 3.92908      | 47m 5s       |</pre>"
            ],
            "text/plain": [
              "| 1405         | 3.92908      | 47m 5s       |"
            ]
          },
          "metadata": {
            "tags": []
          }
        },
        {
          "output_type": "display_data",
          "data": {
            "text/html": [
              "<pre>| 1410         | 3.99303      | 47m 15s      |</pre>"
            ],
            "text/plain": [
              "| 1410         | 3.99303      | 47m 15s      |"
            ]
          },
          "metadata": {
            "tags": []
          }
        },
        {
          "output_type": "display_data",
          "data": {
            "text/html": [
              "<pre>| 1415         | 3.92803      | 47m 25s      |</pre>"
            ],
            "text/plain": [
              "| 1415         | 3.92803      | 47m 25s      |"
            ]
          },
          "metadata": {
            "tags": []
          }
        },
        {
          "output_type": "display_data",
          "data": {
            "text/html": [
              "<pre>| 1420         | 3.87672      | 47m 35s      |</pre>"
            ],
            "text/plain": [
              "| 1420         | 3.87672      | 47m 35s      |"
            ]
          },
          "metadata": {
            "tags": []
          }
        },
        {
          "output_type": "display_data",
          "data": {
            "text/html": [
              "<pre>| 1425         | 3.97663      | 47m 45s      |</pre>"
            ],
            "text/plain": [
              "| 1425         | 3.97663      | 47m 45s      |"
            ]
          },
          "metadata": {
            "tags": []
          }
        },
        {
          "output_type": "display_data",
          "data": {
            "text/html": [
              "<pre>| 1430         | 3.99491      | 47m 55s      |</pre>"
            ],
            "text/plain": [
              "| 1430         | 3.99491      | 47m 55s      |"
            ]
          },
          "metadata": {
            "tags": []
          }
        },
        {
          "output_type": "display_data",
          "data": {
            "text/html": [
              "<pre>| 1435         | 4.05069      | 48m 5s       |</pre>"
            ],
            "text/plain": [
              "| 1435         | 4.05069      | 48m 5s       |"
            ]
          },
          "metadata": {
            "tags": []
          }
        },
        {
          "output_type": "display_data",
          "data": {
            "text/html": [
              "<pre>| 1440         | 3.94944      | 48m 15s      |</pre>"
            ],
            "text/plain": [
              "| 1440         | 3.94944      | 48m 15s      |"
            ]
          },
          "metadata": {
            "tags": []
          }
        },
        {
          "output_type": "display_data",
          "data": {
            "text/html": [
              "<pre>| 1445         | 3.84805      | 48m 25s      |</pre>"
            ],
            "text/plain": [
              "| 1445         | 3.84805      | 48m 25s      |"
            ]
          },
          "metadata": {
            "tags": []
          }
        },
        {
          "output_type": "display_data",
          "data": {
            "text/html": [
              "<pre>| 1450         | 3.91472      | 48m 35s      |</pre>"
            ],
            "text/plain": [
              "| 1450         | 3.91472      | 48m 35s      |"
            ]
          },
          "metadata": {
            "tags": []
          }
        },
        {
          "output_type": "display_data",
          "data": {
            "text/html": [
              "<pre>| 1455         | 3.91556      | 48m 45s      |</pre>"
            ],
            "text/plain": [
              "| 1455         | 3.91556      | 48m 45s      |"
            ]
          },
          "metadata": {
            "tags": []
          }
        },
        {
          "output_type": "display_data",
          "data": {
            "text/html": [
              "<pre>| 1460         | 3.93725      | 48m 55s      |</pre>"
            ],
            "text/plain": [
              "| 1460         | 3.93725      | 48m 55s      |"
            ]
          },
          "metadata": {
            "tags": []
          }
        },
        {
          "output_type": "display_data",
          "data": {
            "text/html": [
              "<pre>| 1465         | 3.95349      | 49m 5s       |</pre>"
            ],
            "text/plain": [
              "| 1465         | 3.95349      | 49m 5s       |"
            ]
          },
          "metadata": {
            "tags": []
          }
        },
        {
          "output_type": "display_data",
          "data": {
            "text/html": [
              "<pre>| 1470         | 3.94191      | 49m 15s      |</pre>"
            ],
            "text/plain": [
              "| 1470         | 3.94191      | 49m 15s      |"
            ]
          },
          "metadata": {
            "tags": []
          }
        },
        {
          "output_type": "display_data",
          "data": {
            "text/html": [
              "<pre>| 1475         | 3.95548      | 49m 25s      |</pre>"
            ],
            "text/plain": [
              "| 1475         | 3.95548      | 49m 25s      |"
            ]
          },
          "metadata": {
            "tags": []
          }
        },
        {
          "output_type": "display_data",
          "data": {
            "text/html": [
              "<pre>| 1480         | 3.88659      | 49m 34s      |</pre>"
            ],
            "text/plain": [
              "| 1480         | 3.88659      | 49m 34s      |"
            ]
          },
          "metadata": {
            "tags": []
          }
        },
        {
          "output_type": "display_data",
          "data": {
            "text/html": [
              "<pre>| 1485         | 3.94019      | 49m 44s      |</pre>"
            ],
            "text/plain": [
              "| 1485         | 3.94019      | 49m 44s      |"
            ]
          },
          "metadata": {
            "tags": []
          }
        },
        {
          "output_type": "display_data",
          "data": {
            "text/html": [
              "<pre>| 1490         | 3.97646      | 49m 54s      |</pre>"
            ],
            "text/plain": [
              "| 1490         | 3.97646      | 49m 54s      |"
            ]
          },
          "metadata": {
            "tags": []
          }
        },
        {
          "output_type": "display_data",
          "data": {
            "text/html": [
              "<pre>| 1495         | 3.99116      | 50m 4s       |</pre>"
            ],
            "text/plain": [
              "| 1495         | 3.99116      | 50m 4s       |"
            ]
          },
          "metadata": {
            "tags": []
          }
        },
        {
          "output_type": "display_data",
          "data": {
            "text/html": [
              "<pre>| 1500         | 3.97207      | 50m 14s      |</pre>"
            ],
            "text/plain": [
              "| 1500         | 3.97207      | 50m 14s      |"
            ]
          },
          "metadata": {
            "tags": []
          }
        },
        {
          "output_type": "display_data",
          "data": {
            "text/html": [
              "<pre>| 1505         | 3.92192      | 50m 24s      |</pre>"
            ],
            "text/plain": [
              "| 1505         | 3.92192      | 50m 24s      |"
            ]
          },
          "metadata": {
            "tags": []
          }
        },
        {
          "output_type": "display_data",
          "data": {
            "text/html": [
              "<pre>| 1510         | 3.81501      | 50m 34s      |</pre>"
            ],
            "text/plain": [
              "| 1510         | 3.81501      | 50m 34s      |"
            ]
          },
          "metadata": {
            "tags": []
          }
        },
        {
          "output_type": "display_data",
          "data": {
            "text/html": [
              "<pre>| 1515         | 3.73325      | 50m 44s      |</pre>"
            ],
            "text/plain": [
              "| 1515         | 3.73325      | 50m 44s      |"
            ]
          },
          "metadata": {
            "tags": []
          }
        },
        {
          "output_type": "display_data",
          "data": {
            "text/html": [
              "<pre>| 1520         | 3.79813      | 50m 54s      |</pre>"
            ],
            "text/plain": [
              "| 1520         | 3.79813      | 50m 54s      |"
            ]
          },
          "metadata": {
            "tags": []
          }
        },
        {
          "output_type": "display_data",
          "data": {
            "text/html": [
              "<pre>| 1525         | 3.87193      | 51m 4s       |</pre>"
            ],
            "text/plain": [
              "| 1525         | 3.87193      | 51m 4s       |"
            ]
          },
          "metadata": {
            "tags": []
          }
        },
        {
          "output_type": "display_data",
          "data": {
            "text/html": [
              "<pre>| 1530         | 3.8586       | 51m 14s      |</pre>"
            ],
            "text/plain": [
              "| 1530         | 3.8586       | 51m 14s      |"
            ]
          },
          "metadata": {
            "tags": []
          }
        },
        {
          "output_type": "display_data",
          "data": {
            "text/html": [
              "<pre>| 1535         | 3.87775      | 51m 24s      |</pre>"
            ],
            "text/plain": [
              "| 1535         | 3.87775      | 51m 24s      |"
            ]
          },
          "metadata": {
            "tags": []
          }
        },
        {
          "output_type": "display_data",
          "data": {
            "text/html": [
              "<pre>| 1540         | 3.88105      | 51m 34s      |</pre>"
            ],
            "text/plain": [
              "| 1540         | 3.88105      | 51m 34s      |"
            ]
          },
          "metadata": {
            "tags": []
          }
        },
        {
          "output_type": "display_data",
          "data": {
            "text/html": [
              "<pre>| 1545         | 3.94034      | 51m 44s      |</pre>"
            ],
            "text/plain": [
              "| 1545         | 3.94034      | 51m 44s      |"
            ]
          },
          "metadata": {
            "tags": []
          }
        },
        {
          "output_type": "display_data",
          "data": {
            "text/html": [
              "<pre>| 1550         | 3.82157      | 51m 54s      |</pre>"
            ],
            "text/plain": [
              "| 1550         | 3.82157      | 51m 54s      |"
            ]
          },
          "metadata": {
            "tags": []
          }
        },
        {
          "output_type": "display_data",
          "data": {
            "text/html": [
              "<pre>| 1555         | 3.86205      | 52m 4s       |</pre>"
            ],
            "text/plain": [
              "| 1555         | 3.86205      | 52m 4s       |"
            ]
          },
          "metadata": {
            "tags": []
          }
        },
        {
          "output_type": "display_data",
          "data": {
            "text/html": [
              "<pre>| 1560         | 3.87227      | 52m 14s      |</pre>"
            ],
            "text/plain": [
              "| 1560         | 3.87227      | 52m 14s      |"
            ]
          },
          "metadata": {
            "tags": []
          }
        },
        {
          "output_type": "display_data",
          "data": {
            "text/html": [
              "<pre>| 1565         | 3.79706      | 52m 24s      |</pre>"
            ],
            "text/plain": [
              "| 1565         | 3.79706      | 52m 24s      |"
            ]
          },
          "metadata": {
            "tags": []
          }
        },
        {
          "output_type": "display_data",
          "data": {
            "text/html": [
              "<pre>| 1570         | 3.72875      | 52m 34s      |</pre>"
            ],
            "text/plain": [
              "| 1570         | 3.72875      | 52m 34s      |"
            ]
          },
          "metadata": {
            "tags": []
          }
        },
        {
          "output_type": "display_data",
          "data": {
            "text/html": [
              "<pre>| 1575         | 3.65363      | 52m 44s      |</pre>"
            ],
            "text/plain": [
              "| 1575         | 3.65363      | 52m 44s      |"
            ]
          },
          "metadata": {
            "tags": []
          }
        },
        {
          "output_type": "display_data",
          "data": {
            "text/html": [
              "<pre>| 1580         | 3.7403       | 52m 54s      |</pre>"
            ],
            "text/plain": [
              "| 1580         | 3.7403       | 52m 54s      |"
            ]
          },
          "metadata": {
            "tags": []
          }
        },
        {
          "output_type": "display_data",
          "data": {
            "text/html": [
              "<pre>| 1585         | 3.73058      | 53m 3s       |</pre>"
            ],
            "text/plain": [
              "| 1585         | 3.73058      | 53m 3s       |"
            ]
          },
          "metadata": {
            "tags": []
          }
        },
        {
          "output_type": "display_data",
          "data": {
            "text/html": [
              "<pre>| 1590         | 3.64192      | 53m 13s      |</pre>"
            ],
            "text/plain": [
              "| 1590         | 3.64192      | 53m 13s      |"
            ]
          },
          "metadata": {
            "tags": []
          }
        },
        {
          "output_type": "display_data",
          "data": {
            "text/html": [
              "<pre>| 1595         | 3.72267      | 53m 23s      |</pre>"
            ],
            "text/plain": [
              "| 1595         | 3.72267      | 53m 23s      |"
            ]
          },
          "metadata": {
            "tags": []
          }
        },
        {
          "output_type": "display_data",
          "data": {
            "text/html": [
              "<pre>| 1600         | 3.64025      | 53m 33s      |</pre>"
            ],
            "text/plain": [
              "| 1600         | 3.64025      | 53m 33s      |"
            ]
          },
          "metadata": {
            "tags": []
          }
        },
        {
          "output_type": "display_data",
          "data": {
            "text/html": [
              "<pre>| 1605         | 3.6393       | 53m 43s      |</pre>"
            ],
            "text/plain": [
              "| 1605         | 3.6393       | 53m 43s      |"
            ]
          },
          "metadata": {
            "tags": []
          }
        },
        {
          "output_type": "display_data",
          "data": {
            "text/html": [
              "<pre>| 1610         | 3.55328      | 53m 53s      |</pre>"
            ],
            "text/plain": [
              "| 1610         | 3.55328      | 53m 53s      |"
            ]
          },
          "metadata": {
            "tags": []
          }
        },
        {
          "output_type": "display_data",
          "data": {
            "text/html": [
              "<pre>| 1615         | 3.67877      | 54m 3s       |</pre>"
            ],
            "text/plain": [
              "| 1615         | 3.67877      | 54m 3s       |"
            ]
          },
          "metadata": {
            "tags": []
          }
        },
        {
          "output_type": "display_data",
          "data": {
            "text/html": [
              "<pre>| 1620         | 3.74856      | 54m 13s      |</pre>"
            ],
            "text/plain": [
              "| 1620         | 3.74856      | 54m 13s      |"
            ]
          },
          "metadata": {
            "tags": []
          }
        },
        {
          "output_type": "display_data",
          "data": {
            "text/html": [
              "<pre>| 1625         | 3.65745      | 54m 25s      |</pre>"
            ],
            "text/plain": [
              "| 1625         | 3.65745      | 54m 25s      |"
            ]
          },
          "metadata": {
            "tags": []
          }
        },
        {
          "output_type": "display_data",
          "data": {
            "text/html": [
              "<pre>| 1630         | 3.67015      | 54m 35s      |</pre>"
            ],
            "text/plain": [
              "| 1630         | 3.67015      | 54m 35s      |"
            ]
          },
          "metadata": {
            "tags": []
          }
        },
        {
          "output_type": "display_data",
          "data": {
            "text/html": [
              "<pre>| 1635         | 3.57655      | 54m 45s      |</pre>"
            ],
            "text/plain": [
              "| 1635         | 3.57655      | 54m 45s      |"
            ]
          },
          "metadata": {
            "tags": []
          }
        },
        {
          "output_type": "display_data",
          "data": {
            "text/html": [
              "<pre>| 1640         | 3.60562      | 54m 55s      |</pre>"
            ],
            "text/plain": [
              "| 1640         | 3.60562      | 54m 55s      |"
            ]
          },
          "metadata": {
            "tags": []
          }
        },
        {
          "output_type": "display_data",
          "data": {
            "text/html": [
              "<pre>| 1645         | 3.71272      | 55m 5s       |</pre>"
            ],
            "text/plain": [
              "| 1645         | 3.71272      | 55m 5s       |"
            ]
          },
          "metadata": {
            "tags": []
          }
        },
        {
          "output_type": "display_data",
          "data": {
            "text/html": [
              "<pre>| 1650         | 3.62944      | 55m 15s      |</pre>"
            ],
            "text/plain": [
              "| 1650         | 3.62944      | 55m 15s      |"
            ]
          },
          "metadata": {
            "tags": []
          }
        },
        {
          "output_type": "display_data",
          "data": {
            "text/html": [
              "<pre>| 1655         | 3.68445      | 55m 25s      |</pre>"
            ],
            "text/plain": [
              "| 1655         | 3.68445      | 55m 25s      |"
            ]
          },
          "metadata": {
            "tags": []
          }
        },
        {
          "output_type": "display_data",
          "data": {
            "text/html": [
              "<pre>| 1660         | 3.56091      | 55m 35s      |</pre>"
            ],
            "text/plain": [
              "| 1660         | 3.56091      | 55m 35s      |"
            ]
          },
          "metadata": {
            "tags": []
          }
        },
        {
          "output_type": "display_data",
          "data": {
            "text/html": [
              "<pre>| 1665         | 3.58267      | 55m 45s      |</pre>"
            ],
            "text/plain": [
              "| 1665         | 3.58267      | 55m 45s      |"
            ]
          },
          "metadata": {
            "tags": []
          }
        },
        {
          "output_type": "display_data",
          "data": {
            "text/html": [
              "<pre>| 1670         | 3.56609      | 55m 55s      |</pre>"
            ],
            "text/plain": [
              "| 1670         | 3.56609      | 55m 55s      |"
            ]
          },
          "metadata": {
            "tags": []
          }
        },
        {
          "output_type": "display_data",
          "data": {
            "text/html": [
              "<pre>| 1675         | 3.50593      | 56m 5s       |</pre>"
            ],
            "text/plain": [
              "| 1675         | 3.50593      | 56m 5s       |"
            ]
          },
          "metadata": {
            "tags": []
          }
        },
        {
          "output_type": "display_data",
          "data": {
            "text/html": [
              "<pre>| 1680         | 3.59613      | 56m 15s      |</pre>"
            ],
            "text/plain": [
              "| 1680         | 3.59613      | 56m 15s      |"
            ]
          },
          "metadata": {
            "tags": []
          }
        },
        {
          "output_type": "display_data",
          "data": {
            "text/html": [
              "<pre>| 1685         | 3.62297      | 56m 24s      |</pre>"
            ],
            "text/plain": [
              "| 1685         | 3.62297      | 56m 24s      |"
            ]
          },
          "metadata": {
            "tags": []
          }
        },
        {
          "output_type": "display_data",
          "data": {
            "text/html": [
              "<pre>| 1690         | 3.7125       | 56m 34s      |</pre>"
            ],
            "text/plain": [
              "| 1690         | 3.7125       | 56m 34s      |"
            ]
          },
          "metadata": {
            "tags": []
          }
        },
        {
          "output_type": "display_data",
          "data": {
            "text/html": [
              "<pre>| 1695         | 3.62125      | 56m 44s      |</pre>"
            ],
            "text/plain": [
              "| 1695         | 3.62125      | 56m 44s      |"
            ]
          },
          "metadata": {
            "tags": []
          }
        },
        {
          "output_type": "display_data",
          "data": {
            "text/html": [
              "<pre>| 1700         | 3.61343      | 56m 54s      |</pre>"
            ],
            "text/plain": [
              "| 1700         | 3.61343      | 56m 54s      |"
            ]
          },
          "metadata": {
            "tags": []
          }
        },
        {
          "output_type": "display_data",
          "data": {
            "text/html": [
              "<pre>| 1705         | 3.61419      | 57m 4s       |</pre>"
            ],
            "text/plain": [
              "| 1705         | 3.61419      | 57m 4s       |"
            ]
          },
          "metadata": {
            "tags": []
          }
        },
        {
          "output_type": "display_data",
          "data": {
            "text/html": [
              "<pre>| 1710         | 3.59929      | 57m 13s      |</pre>"
            ],
            "text/plain": [
              "| 1710         | 3.59929      | 57m 13s      |"
            ]
          },
          "metadata": {
            "tags": []
          }
        },
        {
          "output_type": "display_data",
          "data": {
            "text/html": [
              "<pre>| 1715         | 3.65266      | 57m 23s      |</pre>"
            ],
            "text/plain": [
              "| 1715         | 3.65266      | 57m 23s      |"
            ]
          },
          "metadata": {
            "tags": []
          }
        },
        {
          "output_type": "display_data",
          "data": {
            "text/html": [
              "<pre>| 1720         | 3.53447      | 57m 33s      |</pre>"
            ],
            "text/plain": [
              "| 1720         | 3.53447      | 57m 33s      |"
            ]
          },
          "metadata": {
            "tags": []
          }
        },
        {
          "output_type": "display_data",
          "data": {
            "text/html": [
              "<pre>| 1725         | 3.55372      | 57m 43s      |</pre>"
            ],
            "text/plain": [
              "| 1725         | 3.55372      | 57m 43s      |"
            ]
          },
          "metadata": {
            "tags": []
          }
        },
        {
          "output_type": "display_data",
          "data": {
            "text/html": [
              "<pre>| 1730         | 3.54187      | 57m 53s      |</pre>"
            ],
            "text/plain": [
              "| 1730         | 3.54187      | 57m 53s      |"
            ]
          },
          "metadata": {
            "tags": []
          }
        },
        {
          "output_type": "display_data",
          "data": {
            "text/html": [
              "<pre>| 1735         | 3.57049      | 58m 2s       |</pre>"
            ],
            "text/plain": [
              "| 1735         | 3.57049      | 58m 2s       |"
            ]
          },
          "metadata": {
            "tags": []
          }
        },
        {
          "output_type": "display_data",
          "data": {
            "text/html": [
              "<pre>| 1740         | 3.4468       | 58m 12s      |</pre>"
            ],
            "text/plain": [
              "| 1740         | 3.4468       | 58m 12s      |"
            ]
          },
          "metadata": {
            "tags": []
          }
        },
        {
          "output_type": "display_data",
          "data": {
            "text/html": [
              "<pre>| 1745         | 3.39558      | 58m 22s      |</pre>"
            ],
            "text/plain": [
              "| 1745         | 3.39558      | 58m 22s      |"
            ]
          },
          "metadata": {
            "tags": []
          }
        },
        {
          "output_type": "display_data",
          "data": {
            "text/html": [
              "<pre>| 1750         | 3.43125      | 58m 32s      |</pre>"
            ],
            "text/plain": [
              "| 1750         | 3.43125      | 58m 32s      |"
            ]
          },
          "metadata": {
            "tags": []
          }
        },
        {
          "output_type": "display_data",
          "data": {
            "text/html": [
              "<pre>| 1755         | 3.44163      | 58m 42s      |</pre>"
            ],
            "text/plain": [
              "| 1755         | 3.44163      | 58m 42s      |"
            ]
          },
          "metadata": {
            "tags": []
          }
        },
        {
          "output_type": "display_data",
          "data": {
            "text/html": [
              "<pre>| 1760         | 3.43058      | 58m 53s      |</pre>"
            ],
            "text/plain": [
              "| 1760         | 3.43058      | 58m 53s      |"
            ]
          },
          "metadata": {
            "tags": []
          }
        },
        {
          "output_type": "display_data",
          "data": {
            "text/html": [
              "<pre>| 1765         | 3.45797      | 59m 2s       |</pre>"
            ],
            "text/plain": [
              "| 1765         | 3.45797      | 59m 2s       |"
            ]
          },
          "metadata": {
            "tags": []
          }
        },
        {
          "output_type": "display_data",
          "data": {
            "text/html": [
              "<pre>| 1770         | 3.45963      | 59m 12s      |</pre>"
            ],
            "text/plain": [
              "| 1770         | 3.45963      | 59m 12s      |"
            ]
          },
          "metadata": {
            "tags": []
          }
        },
        {
          "output_type": "display_data",
          "data": {
            "text/html": [
              "<pre>| 1775         | 3.55406      | 59m 22s      |</pre>"
            ],
            "text/plain": [
              "| 1775         | 3.55406      | 59m 22s      |"
            ]
          },
          "metadata": {
            "tags": []
          }
        },
        {
          "output_type": "display_data",
          "data": {
            "text/html": [
              "<pre>| 1780         | 3.53796      | 59m 32s      |</pre>"
            ],
            "text/plain": [
              "| 1780         | 3.53796      | 59m 32s      |"
            ]
          },
          "metadata": {
            "tags": []
          }
        },
        {
          "output_type": "display_data",
          "data": {
            "text/html": [
              "<pre>| 1785         | 3.58403      | 59m 42s      |</pre>"
            ],
            "text/plain": [
              "| 1785         | 3.58403      | 59m 42s      |"
            ]
          },
          "metadata": {
            "tags": []
          }
        },
        {
          "output_type": "display_data",
          "data": {
            "text/html": [
              "<pre>| 1790         | 3.52192      | 59m 52s      |</pre>"
            ],
            "text/plain": [
              "| 1790         | 3.52192      | 59m 52s      |"
            ]
          },
          "metadata": {
            "tags": []
          }
        },
        {
          "output_type": "display_data",
          "data": {
            "text/html": [
              "<pre>| 1795         | 3.5382       | 1h 0m        |</pre>"
            ],
            "text/plain": [
              "| 1795         | 3.5382       | 1h 0m        |"
            ]
          },
          "metadata": {
            "tags": []
          }
        },
        {
          "output_type": "display_data",
          "data": {
            "text/html": [
              "<pre>| 1800         | 3.58575      | 1h 0m        |</pre>"
            ],
            "text/plain": [
              "| 1800         | 3.58575      | 1h 0m        |"
            ]
          },
          "metadata": {
            "tags": []
          }
        },
        {
          "output_type": "display_data",
          "data": {
            "text/html": [
              "<pre>| 1805         | 3.64841      | 1h 0m        |</pre>"
            ],
            "text/plain": [
              "| 1805         | 3.64841      | 1h 0m        |"
            ]
          },
          "metadata": {
            "tags": []
          }
        },
        {
          "output_type": "display_data",
          "data": {
            "text/html": [
              "<pre>| 1810         | 3.60056      | 1h 0m        |</pre>"
            ],
            "text/plain": [
              "| 1810         | 3.60056      | 1h 0m        |"
            ]
          },
          "metadata": {
            "tags": []
          }
        },
        {
          "output_type": "display_data",
          "data": {
            "text/html": [
              "<pre>| 1815         | 3.53107      | 1h 0m        |</pre>"
            ],
            "text/plain": [
              "| 1815         | 3.53107      | 1h 0m        |"
            ]
          },
          "metadata": {
            "tags": []
          }
        },
        {
          "output_type": "display_data",
          "data": {
            "text/html": [
              "<pre>| 1820         | 3.52925      | 1h 0m        |</pre>"
            ],
            "text/plain": [
              "| 1820         | 3.52925      | 1h 0m        |"
            ]
          },
          "metadata": {
            "tags": []
          }
        },
        {
          "output_type": "display_data",
          "data": {
            "text/html": [
              "<pre>| 1825         | 3.47982      | 1h 1m        |</pre>"
            ],
            "text/plain": [
              "| 1825         | 3.47982      | 1h 1m        |"
            ]
          },
          "metadata": {
            "tags": []
          }
        },
        {
          "output_type": "display_data",
          "data": {
            "text/html": [
              "<pre>| 1830         | 3.59377      | 1h 1m        |</pre>"
            ],
            "text/plain": [
              "| 1830         | 3.59377      | 1h 1m        |"
            ]
          },
          "metadata": {
            "tags": []
          }
        },
        {
          "output_type": "display_data",
          "data": {
            "text/html": [
              "<pre>| 1835         | 3.55337      | 1h 1m        |</pre>"
            ],
            "text/plain": [
              "| 1835         | 3.55337      | 1h 1m        |"
            ]
          },
          "metadata": {
            "tags": []
          }
        },
        {
          "output_type": "display_data",
          "data": {
            "text/html": [
              "<pre>| 1840         | 3.45713      | 1h 1m        |</pre>"
            ],
            "text/plain": [
              "| 1840         | 3.45713      | 1h 1m        |"
            ]
          },
          "metadata": {
            "tags": []
          }
        },
        {
          "output_type": "display_data",
          "data": {
            "text/html": [
              "<pre>| 1845         | 3.5573       | 1h 1m        |</pre>"
            ],
            "text/plain": [
              "| 1845         | 3.5573       | 1h 1m        |"
            ]
          },
          "metadata": {
            "tags": []
          }
        },
        {
          "output_type": "display_data",
          "data": {
            "text/html": [
              "<pre>| 1850         | 3.56976      | 1h 1m        |</pre>"
            ],
            "text/plain": [
              "| 1850         | 3.56976      | 1h 1m        |"
            ]
          },
          "metadata": {
            "tags": []
          }
        },
        {
          "output_type": "display_data",
          "data": {
            "text/html": [
              "<pre>| 1855         | 3.48418      | 1h 2m        |</pre>"
            ],
            "text/plain": [
              "| 1855         | 3.48418      | 1h 2m        |"
            ]
          },
          "metadata": {
            "tags": []
          }
        },
        {
          "output_type": "display_data",
          "data": {
            "text/html": [
              "<pre>| 1860         | 3.41093      | 1h 2m        |</pre>"
            ],
            "text/plain": [
              "| 1860         | 3.41093      | 1h 2m        |"
            ]
          },
          "metadata": {
            "tags": []
          }
        },
        {
          "output_type": "display_data",
          "data": {
            "text/html": [
              "<pre>| 1865         | 3.32753      | 1h 2m        |</pre>"
            ],
            "text/plain": [
              "| 1865         | 3.32753      | 1h 2m        |"
            ]
          },
          "metadata": {
            "tags": []
          }
        },
        {
          "output_type": "display_data",
          "data": {
            "text/html": [
              "<pre>| 1870         | 3.3978       | 1h 2m        |</pre>"
            ],
            "text/plain": [
              "| 1870         | 3.3978       | 1h 2m        |"
            ]
          },
          "metadata": {
            "tags": []
          }
        },
        {
          "output_type": "display_data",
          "data": {
            "text/html": [
              "<pre>| 1875         | 3.44732      | 1h 2m        |</pre>"
            ],
            "text/plain": [
              "| 1875         | 3.44732      | 1h 2m        |"
            ]
          },
          "metadata": {
            "tags": []
          }
        },
        {
          "output_type": "display_data",
          "data": {
            "text/html": [
              "<pre>| 1880         | 3.40138      | 1h 2m        |</pre>"
            ],
            "text/plain": [
              "| 1880         | 3.40138      | 1h 2m        |"
            ]
          },
          "metadata": {
            "tags": []
          }
        },
        {
          "output_type": "display_data",
          "data": {
            "text/html": [
              "<pre>| 1885         | 3.43954      | 1h 3m        |</pre>"
            ],
            "text/plain": [
              "| 1885         | 3.43954      | 1h 3m        |"
            ]
          },
          "metadata": {
            "tags": []
          }
        },
        {
          "output_type": "display_data",
          "data": {
            "text/html": [
              "<pre>| 1890         | 3.3524       | 1h 3m        |</pre>"
            ],
            "text/plain": [
              "| 1890         | 3.3524       | 1h 3m        |"
            ]
          },
          "metadata": {
            "tags": []
          }
        },
        {
          "output_type": "display_data",
          "data": {
            "text/html": [
              "<pre>| 1895         | 3.37572      | 1h 3m        |</pre>"
            ],
            "text/plain": [
              "| 1895         | 3.37572      | 1h 3m        |"
            ]
          },
          "metadata": {
            "tags": []
          }
        },
        {
          "output_type": "display_data",
          "data": {
            "text/html": [
              "<pre>| 1900         | 3.30689      | 1h 3m        |</pre>"
            ],
            "text/plain": [
              "| 1900         | 3.30689      | 1h 3m        |"
            ]
          },
          "metadata": {
            "tags": []
          }
        },
        {
          "output_type": "display_data",
          "data": {
            "text/html": [
              "<pre>| 1905         | 3.29034      | 1h 3m        |</pre>"
            ],
            "text/plain": [
              "| 1905         | 3.29034      | 1h 3m        |"
            ]
          },
          "metadata": {
            "tags": []
          }
        },
        {
          "output_type": "display_data",
          "data": {
            "text/html": [
              "<pre>| 1910         | 3.43307      | 1h 3m        |</pre>"
            ],
            "text/plain": [
              "| 1910         | 3.43307      | 1h 3m        |"
            ]
          },
          "metadata": {
            "tags": []
          }
        },
        {
          "output_type": "display_data",
          "data": {
            "text/html": [
              "<pre>| 1915         | 3.35618      | 1h 4m        |</pre>"
            ],
            "text/plain": [
              "| 1915         | 3.35618      | 1h 4m        |"
            ]
          },
          "metadata": {
            "tags": []
          }
        },
        {
          "output_type": "display_data",
          "data": {
            "text/html": [
              "<pre>| 1920         | 3.3423       | 1h 4m        |</pre>"
            ],
            "text/plain": [
              "| 1920         | 3.3423       | 1h 4m        |"
            ]
          },
          "metadata": {
            "tags": []
          }
        },
        {
          "output_type": "display_data",
          "data": {
            "text/html": [
              "<pre>| 1925         | 3.48614      | 1h 4m        |</pre>"
            ],
            "text/plain": [
              "| 1925         | 3.48614      | 1h 4m        |"
            ]
          },
          "metadata": {
            "tags": []
          }
        },
        {
          "output_type": "display_data",
          "data": {
            "text/html": [
              "<pre>| 1930         | 3.46629      | 1h 4m        |</pre>"
            ],
            "text/plain": [
              "| 1930         | 3.46629      | 1h 4m        |"
            ]
          },
          "metadata": {
            "tags": []
          }
        },
        {
          "output_type": "display_data",
          "data": {
            "text/html": [
              "<pre>| 1935         | 3.35462      | 1h 4m        |</pre>"
            ],
            "text/plain": [
              "| 1935         | 3.35462      | 1h 4m        |"
            ]
          },
          "metadata": {
            "tags": []
          }
        },
        {
          "output_type": "display_data",
          "data": {
            "text/html": [
              "<pre>| 1940         | 3.29089      | 1h 4m        |</pre>"
            ],
            "text/plain": [
              "| 1940         | 3.29089      | 1h 4m        |"
            ]
          },
          "metadata": {
            "tags": []
          }
        },
        {
          "output_type": "display_data",
          "data": {
            "text/html": [
              "<pre>| 1945         | 3.29517      | 1h 5m        |</pre>"
            ],
            "text/plain": [
              "| 1945         | 3.29517      | 1h 5m        |"
            ]
          },
          "metadata": {
            "tags": []
          }
        },
        {
          "output_type": "display_data",
          "data": {
            "text/html": [
              "<pre>| 1950         | 3.24601      | 1h 5m        |</pre>"
            ],
            "text/plain": [
              "| 1950         | 3.24601      | 1h 5m        |"
            ]
          },
          "metadata": {
            "tags": []
          }
        },
        {
          "output_type": "display_data",
          "data": {
            "text/html": [
              "<pre>| 1955         | 3.27648      | 1h 5m        |</pre>"
            ],
            "text/plain": [
              "| 1955         | 3.27648      | 1h 5m        |"
            ]
          },
          "metadata": {
            "tags": []
          }
        },
        {
          "output_type": "display_data",
          "data": {
            "text/html": [
              "<pre>| 1960         | 3.25778      | 1h 5m        |</pre>"
            ],
            "text/plain": [
              "| 1960         | 3.25778      | 1h 5m        |"
            ]
          },
          "metadata": {
            "tags": []
          }
        },
        {
          "output_type": "display_data",
          "data": {
            "text/html": [
              "<pre>| 1965         | 3.43178      | 1h 5m        |</pre>"
            ],
            "text/plain": [
              "| 1965         | 3.43178      | 1h 5m        |"
            ]
          },
          "metadata": {
            "tags": []
          }
        },
        {
          "output_type": "display_data",
          "data": {
            "text/html": [
              "<pre>| 1970         | 3.38754      | 1h 5m        |</pre>"
            ],
            "text/plain": [
              "| 1970         | 3.38754      | 1h 5m        |"
            ]
          },
          "metadata": {
            "tags": []
          }
        },
        {
          "output_type": "display_data",
          "data": {
            "text/html": [
              "<pre>| 1975         | 3.26955      | 1h 6m        |</pre>"
            ],
            "text/plain": [
              "| 1975         | 3.26955      | 1h 6m        |"
            ]
          },
          "metadata": {
            "tags": []
          }
        },
        {
          "output_type": "display_data",
          "data": {
            "text/html": [
              "<pre>| 1980         | 3.35402      | 1h 6m        |</pre>"
            ],
            "text/plain": [
              "| 1980         | 3.35402      | 1h 6m        |"
            ]
          },
          "metadata": {
            "tags": []
          }
        },
        {
          "output_type": "display_data",
          "data": {
            "text/html": [
              "<pre>| 1985         | 3.35495      | 1h 6m        |</pre>"
            ],
            "text/plain": [
              "| 1985         | 3.35495      | 1h 6m        |"
            ]
          },
          "metadata": {
            "tags": []
          }
        },
        {
          "output_type": "display_data",
          "data": {
            "text/html": [
              "<pre>| 1990         | 3.3118       | 1h 6m        |</pre>"
            ],
            "text/plain": [
              "| 1990         | 3.3118       | 1h 6m        |"
            ]
          },
          "metadata": {
            "tags": []
          }
        },
        {
          "output_type": "display_data",
          "data": {
            "text/html": [
              "<pre>| 1995         | 3.32878      | 1h 6m        |</pre>"
            ],
            "text/plain": [
              "| 1995         | 3.32878      | 1h 6m        |"
            ]
          },
          "metadata": {
            "tags": []
          }
        },
        {
          "output_type": "display_data",
          "data": {
            "text/html": [
              "<pre>| 2000         | 3.3591       | 1h 6m        |</pre>"
            ],
            "text/plain": [
              "| 2000         | 3.3591       | 1h 6m        |"
            ]
          },
          "metadata": {
            "tags": []
          }
        },
        {
          "output_type": "display_data",
          "data": {
            "text/html": [
              "<pre>| 2005         | 3.29752      | 1h 7m        |</pre>"
            ],
            "text/plain": [
              "| 2005         | 3.29752      | 1h 7m        |"
            ]
          },
          "metadata": {
            "tags": []
          }
        },
        {
          "output_type": "display_data",
          "data": {
            "text/html": [
              "<pre>| 2010         | 3.19883      | 1h 7m        |</pre>"
            ],
            "text/plain": [
              "| 2010         | 3.19883      | 1h 7m        |"
            ]
          },
          "metadata": {
            "tags": []
          }
        },
        {
          "output_type": "display_data",
          "data": {
            "text/html": [
              "<pre>| 2015         | 3.19629      | 1h 7m        |</pre>"
            ],
            "text/plain": [
              "| 2015         | 3.19629      | 1h 7m        |"
            ]
          },
          "metadata": {
            "tags": []
          }
        },
        {
          "output_type": "display_data",
          "data": {
            "text/html": [
              "<pre>| 2020         | 3.22005      | 1h 7m        |</pre>"
            ],
            "text/plain": [
              "| 2020         | 3.22005      | 1h 7m        |"
            ]
          },
          "metadata": {
            "tags": []
          }
        },
        {
          "output_type": "display_data",
          "data": {
            "text/html": [
              "<pre>| 2025         | 3.35755      | 1h 7m        |</pre>"
            ],
            "text/plain": [
              "| 2025         | 3.35755      | 1h 7m        |"
            ]
          },
          "metadata": {
            "tags": []
          }
        },
        {
          "output_type": "display_data",
          "data": {
            "text/html": [
              "<pre>| 2030         | 3.24564      | 1h 7m        |</pre>"
            ],
            "text/plain": [
              "| 2030         | 3.24564      | 1h 7m        |"
            ]
          },
          "metadata": {
            "tags": []
          }
        },
        {
          "output_type": "display_data",
          "data": {
            "text/html": [
              "<pre>| 2035         | 3.31619      | 1h 8m        |</pre>"
            ],
            "text/plain": [
              "| 2035         | 3.31619      | 1h 8m        |"
            ]
          },
          "metadata": {
            "tags": []
          }
        },
        {
          "output_type": "display_data",
          "data": {
            "text/html": [
              "<pre>| 2040         | 3.24716      | 1h 8m        |</pre>"
            ],
            "text/plain": [
              "| 2040         | 3.24716      | 1h 8m        |"
            ]
          },
          "metadata": {
            "tags": []
          }
        },
        {
          "output_type": "display_data",
          "data": {
            "text/html": [
              "<pre>| 2045         | 3.30092      | 1h 8m        |</pre>"
            ],
            "text/plain": [
              "| 2045         | 3.30092      | 1h 8m        |"
            ]
          },
          "metadata": {
            "tags": []
          }
        },
        {
          "output_type": "display_data",
          "data": {
            "text/html": [
              "<pre>| 2050         | 3.30941      | 1h 8m        |</pre>"
            ],
            "text/plain": [
              "| 2050         | 3.30941      | 1h 8m        |"
            ]
          },
          "metadata": {
            "tags": []
          }
        },
        {
          "output_type": "display_data",
          "data": {
            "text/html": [
              "<pre>| 2055         | 3.25796      | 1h 8m        |</pre>"
            ],
            "text/plain": [
              "| 2055         | 3.25796      | 1h 8m        |"
            ]
          },
          "metadata": {
            "tags": []
          }
        },
        {
          "output_type": "display_data",
          "data": {
            "text/html": [
              "<pre>| 2060         | 3.25148      | 1h 8m        |</pre>"
            ],
            "text/plain": [
              "| 2060         | 3.25148      | 1h 8m        |"
            ]
          },
          "metadata": {
            "tags": []
          }
        },
        {
          "output_type": "display_data",
          "data": {
            "text/html": [
              "<pre>| 2065         | 3.22816      | 1h 8m        |</pre>"
            ],
            "text/plain": [
              "| 2065         | 3.22816      | 1h 8m        |"
            ]
          },
          "metadata": {
            "tags": []
          }
        },
        {
          "output_type": "display_data",
          "data": {
            "text/html": [
              "<pre>| 2070         | 3.22075      | 1h 9m        |</pre>"
            ],
            "text/plain": [
              "| 2070         | 3.22075      | 1h 9m        |"
            ]
          },
          "metadata": {
            "tags": []
          }
        },
        {
          "output_type": "display_data",
          "data": {
            "text/html": [
              "<pre>| 2075         | 3.23304      | 1h 9m        |</pre>"
            ],
            "text/plain": [
              "| 2075         | 3.23304      | 1h 9m        |"
            ]
          },
          "metadata": {
            "tags": []
          }
        },
        {
          "output_type": "display_data",
          "data": {
            "text/html": [
              "<pre>| 2080         | 3.13603      | 1h 9m        |</pre>"
            ],
            "text/plain": [
              "| 2080         | 3.13603      | 1h 9m        |"
            ]
          },
          "metadata": {
            "tags": []
          }
        },
        {
          "output_type": "display_data",
          "data": {
            "text/html": [
              "<pre>| 2085         | 3.12813      | 1h 9m        |</pre>"
            ],
            "text/plain": [
              "| 2085         | 3.12813      | 1h 9m        |"
            ]
          },
          "metadata": {
            "tags": []
          }
        },
        {
          "output_type": "display_data",
          "data": {
            "text/html": [
              "<pre>| 2090         | 3.08844      | 1h 9m        |</pre>"
            ],
            "text/plain": [
              "| 2090         | 3.08844      | 1h 9m        |"
            ]
          },
          "metadata": {
            "tags": []
          }
        },
        {
          "output_type": "display_data",
          "data": {
            "text/html": [
              "<pre>| 2095         | 3.08105      | 1h 10m       |</pre>"
            ],
            "text/plain": [
              "| 2095         | 3.08105      | 1h 10m       |"
            ]
          },
          "metadata": {
            "tags": []
          }
        },
        {
          "output_type": "display_data",
          "data": {
            "text/html": [
              "<pre>| 2100         | 3.03987      | 1h 10m       |</pre>"
            ],
            "text/plain": [
              "| 2100         | 3.03987      | 1h 10m       |"
            ]
          },
          "metadata": {
            "tags": []
          }
        },
        {
          "output_type": "display_data",
          "data": {
            "text/html": [
              "<pre>| 2105         | 3.1331       | 1h 10m       |</pre>"
            ],
            "text/plain": [
              "| 2105         | 3.1331       | 1h 10m       |"
            ]
          },
          "metadata": {
            "tags": []
          }
        },
        {
          "output_type": "display_data",
          "data": {
            "text/html": [
              "<pre>| 2110         | 3.21799      | 1h 10m       |</pre>"
            ],
            "text/plain": [
              "| 2110         | 3.21799      | 1h 10m       |"
            ]
          },
          "metadata": {
            "tags": []
          }
        },
        {
          "output_type": "display_data",
          "data": {
            "text/html": [
              "<pre>| 2115         | 3.19153      | 1h 10m       |</pre>"
            ],
            "text/plain": [
              "| 2115         | 3.19153      | 1h 10m       |"
            ]
          },
          "metadata": {
            "tags": []
          }
        },
        {
          "output_type": "display_data",
          "data": {
            "text/html": [
              "<pre>| 2120         | 3.15041      | 1h 10m       |</pre>"
            ],
            "text/plain": [
              "| 2120         | 3.15041      | 1h 10m       |"
            ]
          },
          "metadata": {
            "tags": []
          }
        },
        {
          "output_type": "display_data",
          "data": {
            "text/html": [
              "<pre>| 2125         | 3.13916      | 1h 11m       |</pre>"
            ],
            "text/plain": [
              "| 2125         | 3.13916      | 1h 11m       |"
            ]
          },
          "metadata": {
            "tags": []
          }
        },
        {
          "output_type": "display_data",
          "data": {
            "text/html": [
              "<pre>| 2130         | 3.11492      | 1h 11m       |</pre>"
            ],
            "text/plain": [
              "| 2130         | 3.11492      | 1h 11m       |"
            ]
          },
          "metadata": {
            "tags": []
          }
        },
        {
          "output_type": "display_data",
          "data": {
            "text/html": [
              "<pre>| 2135         | 3.04366      | 1h 11m       |</pre>"
            ],
            "text/plain": [
              "| 2135         | 3.04366      | 1h 11m       |"
            ]
          },
          "metadata": {
            "tags": []
          }
        },
        {
          "output_type": "display_data",
          "data": {
            "text/html": [
              "<pre>| 2140         | 3.17161      | 1h 11m       |</pre>"
            ],
            "text/plain": [
              "| 2140         | 3.17161      | 1h 11m       |"
            ]
          },
          "metadata": {
            "tags": []
          }
        },
        {
          "output_type": "display_data",
          "data": {
            "text/html": [
              "<pre>| 2145         | 3.22149      | 1h 11m       |</pre>"
            ],
            "text/plain": [
              "| 2145         | 3.22149      | 1h 11m       |"
            ]
          },
          "metadata": {
            "tags": []
          }
        },
        {
          "output_type": "display_data",
          "data": {
            "text/html": [
              "<pre>| 2150         | 3.2692       | 1h 11m       |</pre>"
            ],
            "text/plain": [
              "| 2150         | 3.2692       | 1h 11m       |"
            ]
          },
          "metadata": {
            "tags": []
          }
        },
        {
          "output_type": "display_data",
          "data": {
            "text/html": [
              "<pre>| 2155         | 3.22974      | 1h 12m       |</pre>"
            ],
            "text/plain": [
              "| 2155         | 3.22974      | 1h 12m       |"
            ]
          },
          "metadata": {
            "tags": []
          }
        },
        {
          "output_type": "display_data",
          "data": {
            "text/html": [
              "<pre>| 2160         | 3.16212      | 1h 12m       |</pre>"
            ],
            "text/plain": [
              "| 2160         | 3.16212      | 1h 12m       |"
            ]
          },
          "metadata": {
            "tags": []
          }
        },
        {
          "output_type": "display_data",
          "data": {
            "text/html": [
              "<pre>| 2165         | 3.08868      | 1h 12m       |</pre>"
            ],
            "text/plain": [
              "| 2165         | 3.08868      | 1h 12m       |"
            ]
          },
          "metadata": {
            "tags": []
          }
        },
        {
          "output_type": "display_data",
          "data": {
            "text/html": [
              "<pre>| 2170         | 3.03666      | 1h 12m       |</pre>"
            ],
            "text/plain": [
              "| 2170         | 3.03666      | 1h 12m       |"
            ]
          },
          "metadata": {
            "tags": []
          }
        },
        {
          "output_type": "display_data",
          "data": {
            "text/html": [
              "<pre>| 2175         | 2.90653      | 1h 12m       |</pre>"
            ],
            "text/plain": [
              "| 2175         | 2.90653      | 1h 12m       |"
            ]
          },
          "metadata": {
            "tags": []
          }
        },
        {
          "output_type": "display_data",
          "data": {
            "text/html": [
              "<pre>| 2180         | 2.94572      | 1h 12m       |</pre>"
            ],
            "text/plain": [
              "| 2180         | 2.94572      | 1h 12m       |"
            ]
          },
          "metadata": {
            "tags": []
          }
        },
        {
          "output_type": "display_data",
          "data": {
            "text/html": [
              "<pre>| 2185         | 3.01186      | 1h 13m       |</pre>"
            ],
            "text/plain": [
              "| 2185         | 3.01186      | 1h 13m       |"
            ]
          },
          "metadata": {
            "tags": []
          }
        },
        {
          "output_type": "display_data",
          "data": {
            "text/html": [
              "<pre>| 2190         | 3.13707      | 1h 13m       |</pre>"
            ],
            "text/plain": [
              "| 2190         | 3.13707      | 1h 13m       |"
            ]
          },
          "metadata": {
            "tags": []
          }
        },
        {
          "output_type": "display_data",
          "data": {
            "text/html": [
              "<pre>| 2195         | 3.14614      | 1h 13m       |</pre>"
            ],
            "text/plain": [
              "| 2195         | 3.14614      | 1h 13m       |"
            ]
          },
          "metadata": {
            "tags": []
          }
        },
        {
          "output_type": "display_data",
          "data": {
            "text/html": [
              "<pre>| 2200         | 3.13908      | 1h 13m       |</pre>"
            ],
            "text/plain": [
              "| 2200         | 3.13908      | 1h 13m       |"
            ]
          },
          "metadata": {
            "tags": []
          }
        },
        {
          "output_type": "display_data",
          "data": {
            "text/html": [
              "<pre>| 2205         | 3.17119      | 1h 13m       |</pre>"
            ],
            "text/plain": [
              "| 2205         | 3.17119      | 1h 13m       |"
            ]
          },
          "metadata": {
            "tags": []
          }
        },
        {
          "output_type": "display_data",
          "data": {
            "text/html": [
              "<pre>| 2210         | 3.12613      | 1h 13m       |</pre>"
            ],
            "text/plain": [
              "| 2210         | 3.12613      | 1h 13m       |"
            ]
          },
          "metadata": {
            "tags": []
          }
        },
        {
          "output_type": "display_data",
          "data": {
            "text/html": [
              "<pre>| 2215         | 3.01885      | 1h 14m       |</pre>"
            ],
            "text/plain": [
              "| 2215         | 3.01885      | 1h 14m       |"
            ]
          },
          "metadata": {
            "tags": []
          }
        },
        {
          "output_type": "display_data",
          "data": {
            "text/html": [
              "<pre>| 2220         | 2.95602      | 1h 14m       |</pre>"
            ],
            "text/plain": [
              "| 2220         | 2.95602      | 1h 14m       |"
            ]
          },
          "metadata": {
            "tags": []
          }
        },
        {
          "output_type": "display_data",
          "data": {
            "text/html": [
              "<pre>| 2225         | 2.95352      | 1h 14m       |</pre>"
            ],
            "text/plain": [
              "| 2225         | 2.95352      | 1h 14m       |"
            ]
          },
          "metadata": {
            "tags": []
          }
        },
        {
          "output_type": "display_data",
          "data": {
            "text/html": [
              "<pre>| 2230         | 3.06191      | 1h 14m       |</pre>"
            ],
            "text/plain": [
              "| 2230         | 3.06191      | 1h 14m       |"
            ]
          },
          "metadata": {
            "tags": []
          }
        },
        {
          "output_type": "display_data",
          "data": {
            "text/html": [
              "<pre>| 2235         | 3.1094       | 1h 14m       |</pre>"
            ],
            "text/plain": [
              "| 2235         | 3.1094       | 1h 14m       |"
            ]
          },
          "metadata": {
            "tags": []
          }
        },
        {
          "output_type": "display_data",
          "data": {
            "text/html": [
              "<pre>| 2240         | 2.99737      | 1h 14m       |</pre>"
            ],
            "text/plain": [
              "| 2240         | 2.99737      | 1h 14m       |"
            ]
          },
          "metadata": {
            "tags": []
          }
        },
        {
          "output_type": "display_data",
          "data": {
            "text/html": [
              "<pre>| 2245         | 2.89829      | 1h 14m       |</pre>"
            ],
            "text/plain": [
              "| 2245         | 2.89829      | 1h 14m       |"
            ]
          },
          "metadata": {
            "tags": []
          }
        },
        {
          "output_type": "display_data",
          "data": {
            "text/html": [
              "<pre>| 2250         | 2.94065      | 1h 15m       |</pre>"
            ],
            "text/plain": [
              "| 2250         | 2.94065      | 1h 15m       |"
            ]
          },
          "metadata": {
            "tags": []
          }
        },
        {
          "output_type": "display_data",
          "data": {
            "text/html": [
              "<pre>| 2255         | 3.05972      | 1h 15m       |</pre>"
            ],
            "text/plain": [
              "| 2255         | 3.05972      | 1h 15m       |"
            ]
          },
          "metadata": {
            "tags": []
          }
        },
        {
          "output_type": "display_data",
          "data": {
            "text/html": [
              "<pre>| 2260         | 3.11007      | 1h 15m       |</pre>"
            ],
            "text/plain": [
              "| 2260         | 3.11007      | 1h 15m       |"
            ]
          },
          "metadata": {
            "tags": []
          }
        },
        {
          "output_type": "display_data",
          "data": {
            "text/html": [
              "<pre>| 2265         | 3.21657      | 1h 15m       |</pre>"
            ],
            "text/plain": [
              "| 2265         | 3.21657      | 1h 15m       |"
            ]
          },
          "metadata": {
            "tags": []
          }
        },
        {
          "output_type": "display_data",
          "data": {
            "text/html": [
              "<pre>| 2270         | 3.16681      | 1h 15m       |</pre>"
            ],
            "text/plain": [
              "| 2270         | 3.16681      | 1h 15m       |"
            ]
          },
          "metadata": {
            "tags": []
          }
        },
        {
          "output_type": "display_data",
          "data": {
            "text/html": [
              "<pre>| 2275         | 3.1659       | 1h 15m       |</pre>"
            ],
            "text/plain": [
              "| 2275         | 3.1659       | 1h 15m       |"
            ]
          },
          "metadata": {
            "tags": []
          }
        },
        {
          "output_type": "display_data",
          "data": {
            "text/html": [
              "<pre>| 2280         | 3.08511      | 1h 16m       |</pre>"
            ],
            "text/plain": [
              "| 2280         | 3.08511      | 1h 16m       |"
            ]
          },
          "metadata": {
            "tags": []
          }
        },
        {
          "output_type": "display_data",
          "data": {
            "text/html": [
              "<pre>| 2285         | 3.03509      | 1h 16m       |</pre>"
            ],
            "text/plain": [
              "| 2285         | 3.03509      | 1h 16m       |"
            ]
          },
          "metadata": {
            "tags": []
          }
        },
        {
          "output_type": "display_data",
          "data": {
            "text/html": [
              "<pre>| 2290         | 3.03539      | 1h 16m       |</pre>"
            ],
            "text/plain": [
              "| 2290         | 3.03539      | 1h 16m       |"
            ]
          },
          "metadata": {
            "tags": []
          }
        },
        {
          "output_type": "display_data",
          "data": {
            "text/html": [
              "<pre>| 2295         | 3.03036      | 1h 16m       |</pre>"
            ],
            "text/plain": [
              "| 2295         | 3.03036      | 1h 16m       |"
            ]
          },
          "metadata": {
            "tags": []
          }
        },
        {
          "output_type": "display_data",
          "data": {
            "text/html": [
              "<pre>| 2300         | 3.10997      | 1h 16m       |</pre>"
            ],
            "text/plain": [
              "| 2300         | 3.10997      | 1h 16m       |"
            ]
          },
          "metadata": {
            "tags": []
          }
        },
        {
          "output_type": "display_data",
          "data": {
            "text/html": [
              "<pre>| 2305         | 3.07618      | 1h 16m       |</pre>"
            ],
            "text/plain": [
              "| 2305         | 3.07618      | 1h 16m       |"
            ]
          },
          "metadata": {
            "tags": []
          }
        },
        {
          "output_type": "display_data",
          "data": {
            "text/html": [
              "<pre>| 2310         | 3.12333      | 1h 17m       |</pre>"
            ],
            "text/plain": [
              "| 2310         | 3.12333      | 1h 17m       |"
            ]
          },
          "metadata": {
            "tags": []
          }
        },
        {
          "output_type": "display_data",
          "data": {
            "text/html": [
              "<pre>| 2315         | 2.96938      | 1h 17m       |</pre>"
            ],
            "text/plain": [
              "| 2315         | 2.96938      | 1h 17m       |"
            ]
          },
          "metadata": {
            "tags": []
          }
        },
        {
          "output_type": "display_data",
          "data": {
            "text/html": [
              "<pre>| 2320         | 2.96251      | 1h 17m       |</pre>"
            ],
            "text/plain": [
              "| 2320         | 2.96251      | 1h 17m       |"
            ]
          },
          "metadata": {
            "tags": []
          }
        },
        {
          "output_type": "display_data",
          "data": {
            "text/html": [
              "<pre>| 2325         | 2.87502      | 1h 17m       |</pre>"
            ],
            "text/plain": [
              "| 2325         | 2.87502      | 1h 17m       |"
            ]
          },
          "metadata": {
            "tags": []
          }
        },
        {
          "output_type": "display_data",
          "data": {
            "text/html": [
              "<pre>| 2330         | 2.97817      | 1h 17m       |</pre>"
            ],
            "text/plain": [
              "| 2330         | 2.97817      | 1h 17m       |"
            ]
          },
          "metadata": {
            "tags": []
          }
        },
        {
          "output_type": "display_data",
          "data": {
            "text/html": [
              "<pre>| 2335         | 3.02714      | 1h 18m       |</pre>"
            ],
            "text/plain": [
              "| 2335         | 3.02714      | 1h 18m       |"
            ]
          },
          "metadata": {
            "tags": []
          }
        },
        {
          "output_type": "display_data",
          "data": {
            "text/html": [
              "<pre>| 2340         | 2.99529      | 1h 18m       |</pre>"
            ],
            "text/plain": [
              "| 2340         | 2.99529      | 1h 18m       |"
            ]
          },
          "metadata": {
            "tags": []
          }
        },
        {
          "output_type": "display_data",
          "data": {
            "text/html": [
              "<pre>| 2345         | 2.92681      | 1h 18m       |</pre>"
            ],
            "text/plain": [
              "| 2345         | 2.92681      | 1h 18m       |"
            ]
          },
          "metadata": {
            "tags": []
          }
        },
        {
          "output_type": "display_data",
          "data": {
            "text/html": [
              "<pre>| 2350         | 2.98463      | 1h 18m       |</pre>"
            ],
            "text/plain": [
              "| 2350         | 2.98463      | 1h 18m       |"
            ]
          },
          "metadata": {
            "tags": []
          }
        },
        {
          "output_type": "display_data",
          "data": {
            "text/html": [
              "<pre>| 2355         | 2.89772      | 1h 18m       |</pre>"
            ],
            "text/plain": [
              "| 2355         | 2.89772      | 1h 18m       |"
            ]
          },
          "metadata": {
            "tags": []
          }
        },
        {
          "output_type": "display_data",
          "data": {
            "text/html": [
              "<pre>| 2360         | 2.94122      | 1h 18m       |</pre>"
            ],
            "text/plain": [
              "| 2360         | 2.94122      | 1h 18m       |"
            ]
          },
          "metadata": {
            "tags": []
          }
        },
        {
          "output_type": "display_data",
          "data": {
            "text/html": [
              "<pre>| 2365         | 3.01996      | 1h 18m       |</pre>"
            ],
            "text/plain": [
              "| 2365         | 3.01996      | 1h 18m       |"
            ]
          },
          "metadata": {
            "tags": []
          }
        },
        {
          "output_type": "display_data",
          "data": {
            "text/html": [
              "<pre>| 2370         | 2.98077      | 1h 19m       |</pre>"
            ],
            "text/plain": [
              "| 2370         | 2.98077      | 1h 19m       |"
            ]
          },
          "metadata": {
            "tags": []
          }
        },
        {
          "output_type": "display_data",
          "data": {
            "text/html": [
              "<pre>| 2375         | 2.99837      | 1h 19m       |</pre>"
            ],
            "text/plain": [
              "| 2375         | 2.99837      | 1h 19m       |"
            ]
          },
          "metadata": {
            "tags": []
          }
        },
        {
          "output_type": "display_data",
          "data": {
            "text/html": [
              "<pre>| 2380         | 2.85193      | 1h 19m       |</pre>"
            ],
            "text/plain": [
              "| 2380         | 2.85193      | 1h 19m       |"
            ]
          },
          "metadata": {
            "tags": []
          }
        },
        {
          "output_type": "display_data",
          "data": {
            "text/html": [
              "<pre>| 2385         | 2.95066      | 1h 19m       |</pre>"
            ],
            "text/plain": [
              "| 2385         | 2.95066      | 1h 19m       |"
            ]
          },
          "metadata": {
            "tags": []
          }
        },
        {
          "output_type": "display_data",
          "data": {
            "text/html": [
              "<pre>| 2390         | 2.90009      | 1h 19m       |</pre>"
            ],
            "text/plain": [
              "| 2390         | 2.90009      | 1h 19m       |"
            ]
          },
          "metadata": {
            "tags": []
          }
        },
        {
          "output_type": "display_data",
          "data": {
            "text/html": [
              "<pre>| 2395         | 2.94036      | 1h 19m       |</pre>"
            ],
            "text/plain": [
              "| 2395         | 2.94036      | 1h 19m       |"
            ]
          },
          "metadata": {
            "tags": []
          }
        },
        {
          "output_type": "display_data",
          "data": {
            "text/html": [
              "<pre>| 2400         | 2.99267      | 1h 20m       |</pre>"
            ],
            "text/plain": [
              "| 2400         | 2.99267      | 1h 20m       |"
            ]
          },
          "metadata": {
            "tags": []
          }
        },
        {
          "output_type": "display_data",
          "data": {
            "text/html": [
              "<pre>| 2405         | 2.94427      | 1h 20m       |</pre>"
            ],
            "text/plain": [
              "| 2405         | 2.94427      | 1h 20m       |"
            ]
          },
          "metadata": {
            "tags": []
          }
        },
        {
          "output_type": "display_data",
          "data": {
            "text/html": [
              "<pre>| 2410         | 2.89319      | 1h 20m       |</pre>"
            ],
            "text/plain": [
              "| 2410         | 2.89319      | 1h 20m       |"
            ]
          },
          "metadata": {
            "tags": []
          }
        },
        {
          "output_type": "display_data",
          "data": {
            "text/html": [
              "<pre>| 2415         | 2.97123      | 1h 20m       |</pre>"
            ],
            "text/plain": [
              "| 2415         | 2.97123      | 1h 20m       |"
            ]
          },
          "metadata": {
            "tags": []
          }
        },
        {
          "output_type": "display_data",
          "data": {
            "text/html": [
              "<pre>| 2420         | 3.01208      | 1h 20m       |</pre>"
            ],
            "text/plain": [
              "| 2420         | 3.01208      | 1h 20m       |"
            ]
          },
          "metadata": {
            "tags": []
          }
        },
        {
          "output_type": "display_data",
          "data": {
            "text/html": [
              "<pre>| 2425         | 2.99902      | 1h 20m       |</pre>"
            ],
            "text/plain": [
              "| 2425         | 2.99902      | 1h 20m       |"
            ]
          },
          "metadata": {
            "tags": []
          }
        },
        {
          "output_type": "display_data",
          "data": {
            "text/html": [
              "<pre>| 2430         | 2.98076      | 1h 21m       |</pre>"
            ],
            "text/plain": [
              "| 2430         | 2.98076      | 1h 21m       |"
            ]
          },
          "metadata": {
            "tags": []
          }
        },
        {
          "output_type": "display_data",
          "data": {
            "text/html": [
              "<pre>| 2435         | 2.95712      | 1h 21m       |</pre>"
            ],
            "text/plain": [
              "| 2435         | 2.95712      | 1h 21m       |"
            ]
          },
          "metadata": {
            "tags": []
          }
        },
        {
          "output_type": "display_data",
          "data": {
            "text/html": [
              "<pre>| 2440         | 2.88811      | 1h 21m       |</pre>"
            ],
            "text/plain": [
              "| 2440         | 2.88811      | 1h 21m       |"
            ]
          },
          "metadata": {
            "tags": []
          }
        },
        {
          "output_type": "display_data",
          "data": {
            "text/html": [
              "<pre>| 2445         | 2.80773      | 1h 21m       |</pre>"
            ],
            "text/plain": [
              "| 2445         | 2.80773      | 1h 21m       |"
            ]
          },
          "metadata": {
            "tags": []
          }
        },
        {
          "output_type": "display_data",
          "data": {
            "text/html": [
              "<pre>| 2450         | 2.89126      | 1h 21m       |</pre>"
            ],
            "text/plain": [
              "| 2450         | 2.89126      | 1h 21m       |"
            ]
          },
          "metadata": {
            "tags": []
          }
        },
        {
          "output_type": "display_data",
          "data": {
            "text/html": [
              "<pre>| 2455         | 2.91971      | 1h 21m       |</pre>"
            ],
            "text/plain": [
              "| 2455         | 2.91971      | 1h 21m       |"
            ]
          },
          "metadata": {
            "tags": []
          }
        },
        {
          "output_type": "display_data",
          "data": {
            "text/html": [
              "<pre>| 2460         | 2.92917      | 1h 22m       |</pre>"
            ],
            "text/plain": [
              "| 2460         | 2.92917      | 1h 22m       |"
            ]
          },
          "metadata": {
            "tags": []
          }
        },
        {
          "output_type": "display_data",
          "data": {
            "text/html": [
              "<pre>| 2465         | 2.89598      | 1h 22m       |</pre>"
            ],
            "text/plain": [
              "| 2465         | 2.89598      | 1h 22m       |"
            ]
          },
          "metadata": {
            "tags": []
          }
        },
        {
          "output_type": "display_data",
          "data": {
            "text/html": [
              "<pre>| 2470         | 2.95453      | 1h 22m       |</pre>"
            ],
            "text/plain": [
              "| 2470         | 2.95453      | 1h 22m       |"
            ]
          },
          "metadata": {
            "tags": []
          }
        },
        {
          "output_type": "display_data",
          "data": {
            "text/html": [
              "<pre>| 2475         | 2.97122      | 1h 22m       |</pre>"
            ],
            "text/plain": [
              "| 2475         | 2.97122      | 1h 22m       |"
            ]
          },
          "metadata": {
            "tags": []
          }
        },
        {
          "output_type": "display_data",
          "data": {
            "text/html": [
              "<pre>| 2480         | 3.01004      | 1h 22m       |</pre>"
            ],
            "text/plain": [
              "| 2480         | 3.01004      | 1h 22m       |"
            ]
          },
          "metadata": {
            "tags": []
          }
        },
        {
          "output_type": "display_data",
          "data": {
            "text/html": [
              "<pre>| 2485         | 2.98056      | 1h 22m       |</pre>"
            ],
            "text/plain": [
              "| 2485         | 2.98056      | 1h 22m       |"
            ]
          },
          "metadata": {
            "tags": []
          }
        },
        {
          "output_type": "display_data",
          "data": {
            "text/html": [
              "<pre>| 2490         | 2.986        | 1h 23m       |</pre>"
            ],
            "text/plain": [
              "| 2490         | 2.986        | 1h 23m       |"
            ]
          },
          "metadata": {
            "tags": []
          }
        },
        {
          "output_type": "display_data",
          "data": {
            "text/html": [
              "<pre>| 2495         | 2.93923      | 1h 23m       |</pre>"
            ],
            "text/plain": [
              "| 2495         | 2.93923      | 1h 23m       |"
            ]
          },
          "metadata": {
            "tags": []
          }
        },
        {
          "output_type": "display_data",
          "data": {
            "text/html": [
              "<pre>| 2500         | 2.95105      | 1h 23m       |</pre>"
            ],
            "text/plain": [
              "| 2500         | 2.95105      | 1h 23m       |"
            ]
          },
          "metadata": {
            "tags": []
          }
        },
        {
          "output_type": "display_data",
          "data": {
            "text/html": [
              "<pre>| 2505         | 2.95533      | 1h 23m       |</pre>"
            ],
            "text/plain": [
              "| 2505         | 2.95533      | 1h 23m       |"
            ]
          },
          "metadata": {
            "tags": []
          }
        },
        {
          "output_type": "display_data",
          "data": {
            "text/html": [
              "<pre>| 2510         | 2.96839      | 1h 23m       |</pre>"
            ],
            "text/plain": [
              "| 2510         | 2.96839      | 1h 23m       |"
            ]
          },
          "metadata": {
            "tags": []
          }
        },
        {
          "output_type": "display_data",
          "data": {
            "text/html": [
              "<pre>| 2515         | 2.87959      | 1h 23m       |</pre>"
            ],
            "text/plain": [
              "| 2515         | 2.87959      | 1h 23m       |"
            ]
          },
          "metadata": {
            "tags": []
          }
        },
        {
          "output_type": "display_data",
          "data": {
            "text/html": [
              "<pre>| 2520         | 2.92271      | 1h 24m       |</pre>"
            ],
            "text/plain": [
              "| 2520         | 2.92271      | 1h 24m       |"
            ]
          },
          "metadata": {
            "tags": []
          }
        },
        {
          "output_type": "display_data",
          "data": {
            "text/html": [
              "<pre>| 2525         | 2.9098       | 1h 24m       |</pre>"
            ],
            "text/plain": [
              "| 2525         | 2.9098       | 1h 24m       |"
            ]
          },
          "metadata": {
            "tags": []
          }
        },
        {
          "output_type": "display_data",
          "data": {
            "text/html": [
              "<pre>| 2530         | 2.93887      | 1h 24m       |</pre>"
            ],
            "text/plain": [
              "| 2530         | 2.93887      | 1h 24m       |"
            ]
          },
          "metadata": {
            "tags": []
          }
        },
        {
          "output_type": "display_data",
          "data": {
            "text/html": [
              "<pre>| 2535         | 3.03441      | 1h 24m       |</pre>"
            ],
            "text/plain": [
              "| 2535         | 3.03441      | 1h 24m       |"
            ]
          },
          "metadata": {
            "tags": []
          }
        },
        {
          "output_type": "display_data",
          "data": {
            "text/html": [
              "<pre>| 2540         | 2.95789      | 1h 24m       |</pre>"
            ],
            "text/plain": [
              "| 2540         | 2.95789      | 1h 24m       |"
            ]
          },
          "metadata": {
            "tags": []
          }
        },
        {
          "output_type": "display_data",
          "data": {
            "text/html": [
              "<pre>| 2545         | 2.94119      | 1h 24m       |</pre>"
            ],
            "text/plain": [
              "| 2545         | 2.94119      | 1h 24m       |"
            ]
          },
          "metadata": {
            "tags": []
          }
        },
        {
          "output_type": "display_data",
          "data": {
            "text/html": [
              "<pre>| 2550         | 2.88571      | 1h 25m       |</pre>"
            ],
            "text/plain": [
              "| 2550         | 2.88571      | 1h 25m       |"
            ]
          },
          "metadata": {
            "tags": []
          }
        },
        {
          "output_type": "display_data",
          "data": {
            "text/html": [
              "<pre>| 2555         | 2.97208      | 1h 25m       |</pre>"
            ],
            "text/plain": [
              "| 2555         | 2.97208      | 1h 25m       |"
            ]
          },
          "metadata": {
            "tags": []
          }
        },
        {
          "output_type": "display_data",
          "data": {
            "text/html": [
              "<pre>| 2560         | 2.89931      | 1h 25m       |</pre>"
            ],
            "text/plain": [
              "| 2560         | 2.89931      | 1h 25m       |"
            ]
          },
          "metadata": {
            "tags": []
          }
        },
        {
          "output_type": "display_data",
          "data": {
            "text/html": [
              "<pre>| 2565         | 2.80545      | 1h 25m       |</pre>"
            ],
            "text/plain": [
              "| 2565         | 2.80545      | 1h 25m       |"
            ]
          },
          "metadata": {
            "tags": []
          }
        },
        {
          "output_type": "display_data",
          "data": {
            "text/html": [
              "<pre>| 2570         | 2.75369      | 1h 25m       |</pre>"
            ],
            "text/plain": [
              "| 2570         | 2.75369      | 1h 25m       |"
            ]
          },
          "metadata": {
            "tags": []
          }
        },
        {
          "output_type": "display_data",
          "data": {
            "text/html": [
              "<pre>| 2575         | 2.75601      | 1h 25m       |</pre>"
            ],
            "text/plain": [
              "| 2575         | 2.75601      | 1h 25m       |"
            ]
          },
          "metadata": {
            "tags": []
          }
        },
        {
          "output_type": "display_data",
          "data": {
            "text/html": [
              "<pre>| 2580         | 2.81687      | 1h 26m       |</pre>"
            ],
            "text/plain": [
              "| 2580         | 2.81687      | 1h 26m       |"
            ]
          },
          "metadata": {
            "tags": []
          }
        },
        {
          "output_type": "display_data",
          "data": {
            "text/html": [
              "<pre>| 2585         | 2.8269       | 1h 26m       |</pre>"
            ],
            "text/plain": [
              "| 2585         | 2.8269       | 1h 26m       |"
            ]
          },
          "metadata": {
            "tags": []
          }
        },
        {
          "output_type": "display_data",
          "data": {
            "text/html": [
              "<pre>| 2590         | 2.78925      | 1h 26m       |</pre>"
            ],
            "text/plain": [
              "| 2590         | 2.78925      | 1h 26m       |"
            ]
          },
          "metadata": {
            "tags": []
          }
        },
        {
          "output_type": "display_data",
          "data": {
            "text/html": [
              "<pre>| 2595         | 2.81809      | 1h 26m       |</pre>"
            ],
            "text/plain": [
              "| 2595         | 2.81809      | 1h 26m       |"
            ]
          },
          "metadata": {
            "tags": []
          }
        },
        {
          "output_type": "display_data",
          "data": {
            "text/html": [
              "<pre>| 2600         | 2.92657      | 1h 26m       |</pre>"
            ],
            "text/plain": [
              "| 2600         | 2.92657      | 1h 26m       |"
            ]
          },
          "metadata": {
            "tags": []
          }
        },
        {
          "output_type": "display_data",
          "data": {
            "text/html": [
              "<pre>| 2605         | 2.76223      | 1h 26m       |</pre>"
            ],
            "text/plain": [
              "| 2605         | 2.76223      | 1h 26m       |"
            ]
          },
          "metadata": {
            "tags": []
          }
        },
        {
          "output_type": "display_data",
          "data": {
            "text/html": [
              "<pre>| 2610         | 2.80982      | 1h 27m       |</pre>"
            ],
            "text/plain": [
              "| 2610         | 2.80982      | 1h 27m       |"
            ]
          },
          "metadata": {
            "tags": []
          }
        },
        {
          "output_type": "display_data",
          "data": {
            "text/html": [
              "<pre>| 2615         | 2.85048      | 1h 27m       |</pre>"
            ],
            "text/plain": [
              "| 2615         | 2.85048      | 1h 27m       |"
            ]
          },
          "metadata": {
            "tags": []
          }
        },
        {
          "output_type": "display_data",
          "data": {
            "text/html": [
              "<pre>| 2620         | 2.86877      | 1h 27m       |</pre>"
            ],
            "text/plain": [
              "| 2620         | 2.86877      | 1h 27m       |"
            ]
          },
          "metadata": {
            "tags": []
          }
        },
        {
          "output_type": "display_data",
          "data": {
            "text/html": [
              "<pre>| 2625         | 2.78712      | 1h 27m       |</pre>"
            ],
            "text/plain": [
              "| 2625         | 2.78712      | 1h 27m       |"
            ]
          },
          "metadata": {
            "tags": []
          }
        },
        {
          "output_type": "display_data",
          "data": {
            "text/html": [
              "<pre>| 2630         | 2.80782      | 1h 27m       |</pre>"
            ],
            "text/plain": [
              "| 2630         | 2.80782      | 1h 27m       |"
            ]
          },
          "metadata": {
            "tags": []
          }
        },
        {
          "output_type": "display_data",
          "data": {
            "text/html": [
              "<pre>| 2635         | 2.74878      | 1h 27m       |</pre>"
            ],
            "text/plain": [
              "| 2635         | 2.74878      | 1h 27m       |"
            ]
          },
          "metadata": {
            "tags": []
          }
        },
        {
          "output_type": "display_data",
          "data": {
            "text/html": [
              "<pre>| 2640         | 2.69477      | 1h 28m       |</pre>"
            ],
            "text/plain": [
              "| 2640         | 2.69477      | 1h 28m       |"
            ]
          },
          "metadata": {
            "tags": []
          }
        },
        {
          "output_type": "display_data",
          "data": {
            "text/html": [
              "<pre>| 2645         | 2.80355      | 1h 28m       |</pre>"
            ],
            "text/plain": [
              "| 2645         | 2.80355      | 1h 28m       |"
            ]
          },
          "metadata": {
            "tags": []
          }
        },
        {
          "output_type": "display_data",
          "data": {
            "text/html": [
              "<pre>| 2650         | 2.77468      | 1h 28m       |</pre>"
            ],
            "text/plain": [
              "| 2650         | 2.77468      | 1h 28m       |"
            ]
          },
          "metadata": {
            "tags": []
          }
        },
        {
          "output_type": "display_data",
          "data": {
            "text/html": [
              "<pre>| 2655         | 2.81092      | 1h 28m       |</pre>"
            ],
            "text/plain": [
              "| 2655         | 2.81092      | 1h 28m       |"
            ]
          },
          "metadata": {
            "tags": []
          }
        },
        {
          "output_type": "display_data",
          "data": {
            "text/html": [
              "<pre>| 2660         | 2.79476      | 1h 28m       |</pre>"
            ],
            "text/plain": [
              "| 2660         | 2.79476      | 1h 28m       |"
            ]
          },
          "metadata": {
            "tags": []
          }
        },
        {
          "output_type": "display_data",
          "data": {
            "text/html": [
              "<pre>| 2665         | 2.76009      | 1h 28m       |</pre>"
            ],
            "text/plain": [
              "| 2665         | 2.76009      | 1h 28m       |"
            ]
          },
          "metadata": {
            "tags": []
          }
        },
        {
          "output_type": "display_data",
          "data": {
            "text/html": [
              "<pre>| 2670         | 2.7351       | 1h 29m       |</pre>"
            ],
            "text/plain": [
              "| 2670         | 2.7351       | 1h 29m       |"
            ]
          },
          "metadata": {
            "tags": []
          }
        },
        {
          "output_type": "display_data",
          "data": {
            "text/html": [
              "<pre>| 2675         | 2.73643      | 1h 29m       |</pre>"
            ],
            "text/plain": [
              "| 2675         | 2.73643      | 1h 29m       |"
            ]
          },
          "metadata": {
            "tags": []
          }
        },
        {
          "output_type": "display_data",
          "data": {
            "text/html": [
              "<pre>| 2680         | 2.76138      | 1h 29m       |</pre>"
            ],
            "text/plain": [
              "| 2680         | 2.76138      | 1h 29m       |"
            ]
          },
          "metadata": {
            "tags": []
          }
        },
        {
          "output_type": "display_data",
          "data": {
            "text/html": [
              "<pre>| 2685         | 2.76845      | 1h 29m       |</pre>"
            ],
            "text/plain": [
              "| 2685         | 2.76845      | 1h 29m       |"
            ]
          },
          "metadata": {
            "tags": []
          }
        },
        {
          "output_type": "display_data",
          "data": {
            "text/html": [
              "<pre>| 2690         | 2.76083      | 1h 29m       |</pre>"
            ],
            "text/plain": [
              "| 2690         | 2.76083      | 1h 29m       |"
            ]
          },
          "metadata": {
            "tags": []
          }
        },
        {
          "output_type": "display_data",
          "data": {
            "text/html": [
              "<pre>| 2695         | 2.69035      | 1h 29m       |</pre>"
            ],
            "text/plain": [
              "| 2695         | 2.69035      | 1h 29m       |"
            ]
          },
          "metadata": {
            "tags": []
          }
        },
        {
          "output_type": "display_data",
          "data": {
            "text/html": [
              "<pre>| 2700         | 2.64877      | 1h 30m       |</pre>"
            ],
            "text/plain": [
              "| 2700         | 2.64877      | 1h 30m       |"
            ]
          },
          "metadata": {
            "tags": []
          }
        },
        {
          "output_type": "display_data",
          "data": {
            "text/html": [
              "<pre>| 2705         | 2.69404      | 1h 30m       |</pre>"
            ],
            "text/plain": [
              "| 2705         | 2.69404      | 1h 30m       |"
            ]
          },
          "metadata": {
            "tags": []
          }
        },
        {
          "output_type": "display_data",
          "data": {
            "text/html": [
              "<pre>| 2710         | 2.71084      | 1h 30m       |</pre>"
            ],
            "text/plain": [
              "| 2710         | 2.71084      | 1h 30m       |"
            ]
          },
          "metadata": {
            "tags": []
          }
        },
        {
          "output_type": "display_data",
          "data": {
            "text/html": [
              "<pre>| 2715         | 2.78513      | 1h 30m       |</pre>"
            ],
            "text/plain": [
              "| 2715         | 2.78513      | 1h 30m       |"
            ]
          },
          "metadata": {
            "tags": []
          }
        },
        {
          "output_type": "display_data",
          "data": {
            "text/html": [
              "<pre>| 2720         | 2.81252      | 1h 30m       |</pre>"
            ],
            "text/plain": [
              "| 2720         | 2.81252      | 1h 30m       |"
            ]
          },
          "metadata": {
            "tags": []
          }
        },
        {
          "output_type": "display_data",
          "data": {
            "text/html": [
              "<pre>| 2725         | 2.74512      | 1h 30m       |</pre>"
            ],
            "text/plain": [
              "| 2725         | 2.74512      | 1h 30m       |"
            ]
          },
          "metadata": {
            "tags": []
          }
        },
        {
          "output_type": "display_data",
          "data": {
            "text/html": [
              "<pre>| 2730         | 2.73455      | 1h 31m       |</pre>"
            ],
            "text/plain": [
              "| 2730         | 2.73455      | 1h 31m       |"
            ]
          },
          "metadata": {
            "tags": []
          }
        },
        {
          "output_type": "display_data",
          "data": {
            "text/html": [
              "<pre>| 2735         | 2.71756      | 1h 31m       |</pre>"
            ],
            "text/plain": [
              "| 2735         | 2.71756      | 1h 31m       |"
            ]
          },
          "metadata": {
            "tags": []
          }
        },
        {
          "output_type": "display_data",
          "data": {
            "text/html": [
              "<pre>| 2740         | 2.72194      | 1h 31m       |</pre>"
            ],
            "text/plain": [
              "| 2740         | 2.72194      | 1h 31m       |"
            ]
          },
          "metadata": {
            "tags": []
          }
        },
        {
          "output_type": "display_data",
          "data": {
            "text/html": [
              "<pre>| 2745         | 2.71494      | 1h 31m       |</pre>"
            ],
            "text/plain": [
              "| 2745         | 2.71494      | 1h 31m       |"
            ]
          },
          "metadata": {
            "tags": []
          }
        },
        {
          "output_type": "display_data",
          "data": {
            "text/html": [
              "<pre>| 2750         | 2.69995      | 1h 31m       |</pre>"
            ],
            "text/plain": [
              "| 2750         | 2.69995      | 1h 31m       |"
            ]
          },
          "metadata": {
            "tags": []
          }
        },
        {
          "output_type": "display_data",
          "data": {
            "text/html": [
              "<pre>| 2755         | 2.72448      | 1h 31m       |</pre>"
            ],
            "text/plain": [
              "| 2755         | 2.72448      | 1h 31m       |"
            ]
          },
          "metadata": {
            "tags": []
          }
        },
        {
          "output_type": "display_data",
          "data": {
            "text/html": [
              "<pre>| 2760         | 2.83324      | 1h 32m       |</pre>"
            ],
            "text/plain": [
              "| 2760         | 2.83324      | 1h 32m       |"
            ]
          },
          "metadata": {
            "tags": []
          }
        },
        {
          "output_type": "display_data",
          "data": {
            "text/html": [
              "<pre>| 2765         | 2.84756      | 1h 32m       |</pre>"
            ],
            "text/plain": [
              "| 2765         | 2.84756      | 1h 32m       |"
            ]
          },
          "metadata": {
            "tags": []
          }
        },
        {
          "output_type": "display_data",
          "data": {
            "text/html": [
              "<pre>| 2770         | 2.79361      | 1h 32m       |</pre>"
            ],
            "text/plain": [
              "| 2770         | 2.79361      | 1h 32m       |"
            ]
          },
          "metadata": {
            "tags": []
          }
        },
        {
          "output_type": "display_data",
          "data": {
            "text/html": [
              "<pre>| 2775         | 2.79669      | 1h 32m       |</pre>"
            ],
            "text/plain": [
              "| 2775         | 2.79669      | 1h 32m       |"
            ]
          },
          "metadata": {
            "tags": []
          }
        },
        {
          "output_type": "display_data",
          "data": {
            "text/html": [
              "<pre>| 2780         | 2.77591      | 1h 32m       |</pre>"
            ],
            "text/plain": [
              "| 2780         | 2.77591      | 1h 32m       |"
            ]
          },
          "metadata": {
            "tags": []
          }
        },
        {
          "output_type": "display_data",
          "data": {
            "text/html": [
              "<pre>| 2785         | 2.7766       | 1h 32m       |</pre>"
            ],
            "text/plain": [
              "| 2785         | 2.7766       | 1h 32m       |"
            ]
          },
          "metadata": {
            "tags": []
          }
        },
        {
          "output_type": "display_data",
          "data": {
            "text/html": [
              "<pre>| 2790         | 2.77768      | 1h 33m       |</pre>"
            ],
            "text/plain": [
              "| 2790         | 2.77768      | 1h 33m       |"
            ]
          },
          "metadata": {
            "tags": []
          }
        },
        {
          "output_type": "display_data",
          "data": {
            "text/html": [
              "<pre>| 2795         | 2.78265      | 1h 33m       |</pre>"
            ],
            "text/plain": [
              "| 2795         | 2.78265      | 1h 33m       |"
            ]
          },
          "metadata": {
            "tags": []
          }
        },
        {
          "output_type": "display_data",
          "data": {
            "text/html": [
              "<pre>| 2800         | 2.71927      | 1h 33m       |</pre>"
            ],
            "text/plain": [
              "| 2800         | 2.71927      | 1h 33m       |"
            ]
          },
          "metadata": {
            "tags": []
          }
        },
        {
          "output_type": "display_data",
          "data": {
            "text/html": [
              "<pre>| 2805         | 2.75605      | 1h 33m       |</pre>"
            ],
            "text/plain": [
              "| 2805         | 2.75605      | 1h 33m       |"
            ]
          },
          "metadata": {
            "tags": []
          }
        },
        {
          "output_type": "display_data",
          "data": {
            "text/html": [
              "<pre>| 2810         | 2.67623      | 1h 33m       |</pre>"
            ],
            "text/plain": [
              "| 2810         | 2.67623      | 1h 33m       |"
            ]
          },
          "metadata": {
            "tags": []
          }
        },
        {
          "output_type": "display_data",
          "data": {
            "text/html": [
              "<pre>| 2815         | 2.71354      | 1h 33m       |</pre>"
            ],
            "text/plain": [
              "| 2815         | 2.71354      | 1h 33m       |"
            ]
          },
          "metadata": {
            "tags": []
          }
        },
        {
          "output_type": "display_data",
          "data": {
            "text/html": [
              "<pre>| 2820         | 2.68411      | 1h 34m       |</pre>"
            ],
            "text/plain": [
              "| 2820         | 2.68411      | 1h 34m       |"
            ]
          },
          "metadata": {
            "tags": []
          }
        },
        {
          "output_type": "display_data",
          "data": {
            "text/html": [
              "<pre>| 2825         | 2.6327       | 1h 34m       |</pre>"
            ],
            "text/plain": [
              "| 2825         | 2.6327       | 1h 34m       |"
            ]
          },
          "metadata": {
            "tags": []
          }
        },
        {
          "output_type": "display_data",
          "data": {
            "text/html": [
              "<pre>| 2830         | 2.62245      | 1h 34m       |</pre>"
            ],
            "text/plain": [
              "| 2830         | 2.62245      | 1h 34m       |"
            ]
          },
          "metadata": {
            "tags": []
          }
        },
        {
          "output_type": "display_data",
          "data": {
            "text/html": [
              "<pre>| 2835         | 2.62822      | 1h 34m       |</pre>"
            ],
            "text/plain": [
              "| 2835         | 2.62822      | 1h 34m       |"
            ]
          },
          "metadata": {
            "tags": []
          }
        },
        {
          "output_type": "display_data",
          "data": {
            "text/html": [
              "<pre>| 2840         | 2.66951      | 1h 34m       |</pre>"
            ],
            "text/plain": [
              "| 2840         | 2.66951      | 1h 34m       |"
            ]
          },
          "metadata": {
            "tags": []
          }
        },
        {
          "output_type": "display_data",
          "data": {
            "text/html": [
              "<pre>| 2845         | 2.65179      | 1h 34m       |</pre>"
            ],
            "text/plain": [
              "| 2845         | 2.65179      | 1h 34m       |"
            ]
          },
          "metadata": {
            "tags": []
          }
        },
        {
          "output_type": "display_data",
          "data": {
            "text/html": [
              "<pre>| 2850         | 2.61887      | 1h 35m       |</pre>"
            ],
            "text/plain": [
              "| 2850         | 2.61887      | 1h 35m       |"
            ]
          },
          "metadata": {
            "tags": []
          }
        },
        {
          "output_type": "display_data",
          "data": {
            "text/html": [
              "<pre>| 2855         | 2.68592      | 1h 35m       |</pre>"
            ],
            "text/plain": [
              "| 2855         | 2.68592      | 1h 35m       |"
            ]
          },
          "metadata": {
            "tags": []
          }
        },
        {
          "output_type": "display_data",
          "data": {
            "text/html": [
              "<pre>| 2860         | 2.76815      | 1h 35m       |</pre>"
            ],
            "text/plain": [
              "| 2860         | 2.76815      | 1h 35m       |"
            ]
          },
          "metadata": {
            "tags": []
          }
        },
        {
          "output_type": "display_data",
          "data": {
            "text/html": [
              "<pre>| 2865         | 2.72236      | 1h 35m       |</pre>"
            ],
            "text/plain": [
              "| 2865         | 2.72236      | 1h 35m       |"
            ]
          },
          "metadata": {
            "tags": []
          }
        },
        {
          "output_type": "display_data",
          "data": {
            "text/html": [
              "<pre>| 2870         | 2.65269      | 1h 35m       |</pre>"
            ],
            "text/plain": [
              "| 2870         | 2.65269      | 1h 35m       |"
            ]
          },
          "metadata": {
            "tags": []
          }
        },
        {
          "output_type": "display_data",
          "data": {
            "text/html": [
              "<pre>| 2875         | 2.69998      | 1h 35m       |</pre>"
            ],
            "text/plain": [
              "| 2875         | 2.69998      | 1h 35m       |"
            ]
          },
          "metadata": {
            "tags": []
          }
        },
        {
          "output_type": "display_data",
          "data": {
            "text/html": [
              "<pre>| 2880         | 2.66742      | 1h 36m       |</pre>"
            ],
            "text/plain": [
              "| 2880         | 2.66742      | 1h 36m       |"
            ]
          },
          "metadata": {
            "tags": []
          }
        },
        {
          "output_type": "display_data",
          "data": {
            "text/html": [
              "<pre>| 2885         | 2.62544      | 1h 36m       |</pre>"
            ],
            "text/plain": [
              "| 2885         | 2.62544      | 1h 36m       |"
            ]
          },
          "metadata": {
            "tags": []
          }
        },
        {
          "output_type": "display_data",
          "data": {
            "text/html": [
              "<pre>| 2890         | 2.58149      | 1h 36m       |</pre>"
            ],
            "text/plain": [
              "| 2890         | 2.58149      | 1h 36m       |"
            ]
          },
          "metadata": {
            "tags": []
          }
        },
        {
          "output_type": "display_data",
          "data": {
            "text/html": [
              "<pre>| 2895         | 2.67644      | 1h 36m       |</pre>"
            ],
            "text/plain": [
              "| 2895         | 2.67644      | 1h 36m       |"
            ]
          },
          "metadata": {
            "tags": []
          }
        },
        {
          "output_type": "display_data",
          "data": {
            "text/html": [
              "<pre>| 2900         | 2.57175      | 1h 36m       |</pre>"
            ],
            "text/plain": [
              "| 2900         | 2.57175      | 1h 36m       |"
            ]
          },
          "metadata": {
            "tags": []
          }
        },
        {
          "output_type": "display_data",
          "data": {
            "text/html": [
              "<pre>| 2905         | 2.64957      | 1h 36m       |</pre>"
            ],
            "text/plain": [
              "| 2905         | 2.64957      | 1h 36m       |"
            ]
          },
          "metadata": {
            "tags": []
          }
        },
        {
          "output_type": "display_data",
          "data": {
            "text/html": [
              "<pre>| 2910         | 2.6715       | 1h 37m       |</pre>"
            ],
            "text/plain": [
              "| 2910         | 2.6715       | 1h 37m       |"
            ]
          },
          "metadata": {
            "tags": []
          }
        },
        {
          "output_type": "display_data",
          "data": {
            "text/html": [
              "<pre>| 2915         | 2.65158      | 1h 37m       |</pre>"
            ],
            "text/plain": [
              "| 2915         | 2.65158      | 1h 37m       |"
            ]
          },
          "metadata": {
            "tags": []
          }
        },
        {
          "output_type": "display_data",
          "data": {
            "text/html": [
              "<pre>| 2920         | 2.70192      | 1h 37m       |</pre>"
            ],
            "text/plain": [
              "| 2920         | 2.70192      | 1h 37m       |"
            ]
          },
          "metadata": {
            "tags": []
          }
        },
        {
          "output_type": "display_data",
          "data": {
            "text/html": [
              "<pre>| 2925         | 2.65229      | 1h 37m       |</pre>"
            ],
            "text/plain": [
              "| 2925         | 2.65229      | 1h 37m       |"
            ]
          },
          "metadata": {
            "tags": []
          }
        },
        {
          "output_type": "display_data",
          "data": {
            "text/html": [
              "<pre>| 2930         | 2.60697      | 1h 37m       |</pre>"
            ],
            "text/plain": [
              "| 2930         | 2.60697      | 1h 37m       |"
            ]
          },
          "metadata": {
            "tags": []
          }
        },
        {
          "output_type": "display_data",
          "data": {
            "text/html": [
              "<pre>| 2935         | 2.68642      | 1h 37m       |</pre>"
            ],
            "text/plain": [
              "| 2935         | 2.68642      | 1h 37m       |"
            ]
          },
          "metadata": {
            "tags": []
          }
        },
        {
          "output_type": "display_data",
          "data": {
            "text/html": [
              "<pre>| 2940         | 2.73289      | 1h 38m       |</pre>"
            ],
            "text/plain": [
              "| 2940         | 2.73289      | 1h 38m       |"
            ]
          },
          "metadata": {
            "tags": []
          }
        },
        {
          "output_type": "display_data",
          "data": {
            "text/html": [
              "<pre>| 2945         | 2.82501      | 1h 38m       |</pre>"
            ],
            "text/plain": [
              "| 2945         | 2.82501      | 1h 38m       |"
            ]
          },
          "metadata": {
            "tags": []
          }
        },
        {
          "output_type": "display_data",
          "data": {
            "text/html": [
              "<pre>| 2950         | 2.77903      | 1h 38m       |</pre>"
            ],
            "text/plain": [
              "| 2950         | 2.77903      | 1h 38m       |"
            ]
          },
          "metadata": {
            "tags": []
          }
        },
        {
          "output_type": "display_data",
          "data": {
            "text/html": [
              "<pre>| 2955         | 2.72947      | 1h 38m       |</pre>"
            ],
            "text/plain": [
              "| 2955         | 2.72947      | 1h 38m       |"
            ]
          },
          "metadata": {
            "tags": []
          }
        },
        {
          "output_type": "display_data",
          "data": {
            "text/html": [
              "<pre>| 2960         | 2.70012      | 1h 38m       |</pre>"
            ],
            "text/plain": [
              "| 2960         | 2.70012      | 1h 38m       |"
            ]
          },
          "metadata": {
            "tags": []
          }
        },
        {
          "output_type": "display_data",
          "data": {
            "text/html": [
              "<pre>| 2965         | 2.72079      | 1h 38m       |</pre>"
            ],
            "text/plain": [
              "| 2965         | 2.72079      | 1h 38m       |"
            ]
          },
          "metadata": {
            "tags": []
          }
        },
        {
          "output_type": "display_data",
          "data": {
            "text/html": [
              "<pre>| 2970         | 2.73685      | 1h 39m       |</pre>"
            ],
            "text/plain": [
              "| 2970         | 2.73685      | 1h 39m       |"
            ]
          },
          "metadata": {
            "tags": []
          }
        },
        {
          "output_type": "display_data",
          "data": {
            "text/html": [
              "<pre>| 2975         | 2.67054      | 1h 39m       |</pre>"
            ],
            "text/plain": [
              "| 2975         | 2.67054      | 1h 39m       |"
            ]
          },
          "metadata": {
            "tags": []
          }
        },
        {
          "output_type": "display_data",
          "data": {
            "text/html": [
              "<pre>| 2980         | 2.74063      | 1h 39m       |</pre>"
            ],
            "text/plain": [
              "| 2980         | 2.74063      | 1h 39m       |"
            ]
          },
          "metadata": {
            "tags": []
          }
        },
        {
          "output_type": "display_data",
          "data": {
            "text/html": [
              "<pre>| 2985         | 2.62912      | 1h 39m       |</pre>"
            ],
            "text/plain": [
              "| 2985         | 2.62912      | 1h 39m       |"
            ]
          },
          "metadata": {
            "tags": []
          }
        },
        {
          "output_type": "display_data",
          "data": {
            "text/html": [
              "<pre>| 2990         | 2.67492      | 1h 39m       |</pre>"
            ],
            "text/plain": [
              "| 2990         | 2.67492      | 1h 39m       |"
            ]
          },
          "metadata": {
            "tags": []
          }
        },
        {
          "output_type": "display_data",
          "data": {
            "text/html": [
              "<pre>| 2995         | 2.66938      | 1h 39m       |</pre>"
            ],
            "text/plain": [
              "| 2995         | 2.66938      | 1h 39m       |"
            ]
          },
          "metadata": {
            "tags": []
          }
        },
        {
          "output_type": "display_data",
          "data": {
            "text/html": [
              "<pre>| 3000         | 2.74813      | 1h 40m       |</pre>"
            ],
            "text/plain": [
              "| 3000         | 2.74813      | 1h 40m       |"
            ]
          },
          "metadata": {
            "tags": []
          }
        },
        {
          "output_type": "display_data",
          "data": {
            "text/html": [
              "<pre>| 3005         | 2.72122      | 1h 40m       |</pre>"
            ],
            "text/plain": [
              "| 3005         | 2.72122      | 1h 40m       |"
            ]
          },
          "metadata": {
            "tags": []
          }
        },
        {
          "output_type": "display_data",
          "data": {
            "text/html": [
              "<pre>| 3010         | 2.66156      | 1h 40m       |</pre>"
            ],
            "text/plain": [
              "| 3010         | 2.66156      | 1h 40m       |"
            ]
          },
          "metadata": {
            "tags": []
          }
        },
        {
          "output_type": "display_data",
          "data": {
            "text/html": [
              "<pre>| 3015         | 2.72188      | 1h 40m       |</pre>"
            ],
            "text/plain": [
              "| 3015         | 2.72188      | 1h 40m       |"
            ]
          },
          "metadata": {
            "tags": []
          }
        },
        {
          "output_type": "display_data",
          "data": {
            "text/html": [
              "<pre>| 3020         | 2.74988      | 1h 40m       |</pre>"
            ],
            "text/plain": [
              "| 3020         | 2.74988      | 1h 40m       |"
            ]
          },
          "metadata": {
            "tags": []
          }
        },
        {
          "output_type": "display_data",
          "data": {
            "text/html": [
              "<pre>| 3025         | 2.69439      | 1h 40m       |</pre>"
            ],
            "text/plain": [
              "| 3025         | 2.69439      | 1h 40m       |"
            ]
          },
          "metadata": {
            "tags": []
          }
        },
        {
          "output_type": "display_data",
          "data": {
            "text/html": [
              "<pre>| 3030         | 2.62039      | 1h 41m       |</pre>"
            ],
            "text/plain": [
              "| 3030         | 2.62039      | 1h 41m       |"
            ]
          },
          "metadata": {
            "tags": []
          }
        },
        {
          "output_type": "display_data",
          "data": {
            "text/html": [
              "<pre>| 3035         | 2.58662      | 1h 41m       |</pre>"
            ],
            "text/plain": [
              "| 3035         | 2.58662      | 1h 41m       |"
            ]
          },
          "metadata": {
            "tags": []
          }
        },
        {
          "output_type": "display_data",
          "data": {
            "text/html": [
              "<pre>| 3040         | 2.6304       | 1h 41m       |</pre>"
            ],
            "text/plain": [
              "| 3040         | 2.6304       | 1h 41m       |"
            ]
          },
          "metadata": {
            "tags": []
          }
        },
        {
          "output_type": "display_data",
          "data": {
            "text/html": [
              "<pre>| 3045         | 2.50879      | 1h 41m       |</pre>"
            ],
            "text/plain": [
              "| 3045         | 2.50879      | 1h 41m       |"
            ]
          },
          "metadata": {
            "tags": []
          }
        },
        {
          "output_type": "display_data",
          "data": {
            "text/html": [
              "<pre>| 3050         | 2.55081      | 1h 41m       |</pre>"
            ],
            "text/plain": [
              "| 3050         | 2.55081      | 1h 41m       |"
            ]
          },
          "metadata": {
            "tags": []
          }
        },
        {
          "output_type": "display_data",
          "data": {
            "text/html": [
              "<pre>| 3055         | 2.65991      | 1h 41m       |</pre>"
            ],
            "text/plain": [
              "| 3055         | 2.65991      | 1h 41m       |"
            ]
          },
          "metadata": {
            "tags": []
          }
        },
        {
          "output_type": "display_data",
          "data": {
            "text/html": [
              "<pre>| 3060         | 2.58385      | 1h 42m       |</pre>"
            ],
            "text/plain": [
              "| 3060         | 2.58385      | 1h 42m       |"
            ]
          },
          "metadata": {
            "tags": []
          }
        },
        {
          "output_type": "display_data",
          "data": {
            "text/html": [
              "<pre>| 3065         | 2.57075      | 1h 42m       |</pre>"
            ],
            "text/plain": [
              "| 3065         | 2.57075      | 1h 42m       |"
            ]
          },
          "metadata": {
            "tags": []
          }
        },
        {
          "output_type": "display_data",
          "data": {
            "text/html": [
              "<pre>| 3070         | 2.50455      | 1h 42m       |</pre>"
            ],
            "text/plain": [
              "| 3070         | 2.50455      | 1h 42m       |"
            ]
          },
          "metadata": {
            "tags": []
          }
        },
        {
          "output_type": "display_data",
          "data": {
            "text/html": [
              "<pre>| 3075         | 2.58451      | 1h 42m       |</pre>"
            ],
            "text/plain": [
              "| 3075         | 2.58451      | 1h 42m       |"
            ]
          },
          "metadata": {
            "tags": []
          }
        },
        {
          "output_type": "display_data",
          "data": {
            "text/html": [
              "<pre>| 3080         | 2.53196      | 1h 42m       |</pre>"
            ],
            "text/plain": [
              "| 3080         | 2.53196      | 1h 42m       |"
            ]
          },
          "metadata": {
            "tags": []
          }
        },
        {
          "output_type": "display_data",
          "data": {
            "text/html": [
              "<pre>| 3085         | 2.59259      | 1h 42m       |</pre>"
            ],
            "text/plain": [
              "| 3085         | 2.59259      | 1h 42m       |"
            ]
          },
          "metadata": {
            "tags": []
          }
        },
        {
          "output_type": "display_data",
          "data": {
            "text/html": [
              "<pre>| 3090         | 2.55437      | 1h 43m       |</pre>"
            ],
            "text/plain": [
              "| 3090         | 2.55437      | 1h 43m       |"
            ]
          },
          "metadata": {
            "tags": []
          }
        },
        {
          "output_type": "display_data",
          "data": {
            "text/html": [
              "<pre>| 3095         | 2.55358      | 1h 43m       |</pre>"
            ],
            "text/plain": [
              "| 3095         | 2.55358      | 1h 43m       |"
            ]
          },
          "metadata": {
            "tags": []
          }
        },
        {
          "output_type": "display_data",
          "data": {
            "text/html": [
              "<pre>| 3100         | 2.61661      | 1h 43m       |</pre>"
            ],
            "text/plain": [
              "| 3100         | 2.61661      | 1h 43m       |"
            ]
          },
          "metadata": {
            "tags": []
          }
        },
        {
          "output_type": "display_data",
          "data": {
            "text/html": [
              "<pre>| 3105         | 2.64049      | 1h 43m       |</pre>"
            ],
            "text/plain": [
              "| 3105         | 2.64049      | 1h 43m       |"
            ]
          },
          "metadata": {
            "tags": []
          }
        },
        {
          "output_type": "display_data",
          "data": {
            "text/html": [
              "<pre>| 3110         | 2.57437      | 1h 43m       |</pre>"
            ],
            "text/plain": [
              "| 3110         | 2.57437      | 1h 43m       |"
            ]
          },
          "metadata": {
            "tags": []
          }
        },
        {
          "output_type": "display_data",
          "data": {
            "text/html": [
              "<pre>| 3115         | 2.68081      | 1h 43m       |</pre>"
            ],
            "text/plain": [
              "| 3115         | 2.68081      | 1h 43m       |"
            ]
          },
          "metadata": {
            "tags": []
          }
        },
        {
          "output_type": "display_data",
          "data": {
            "text/html": [
              "<pre>| 3120         | 2.5693       | 1h 44m       |</pre>"
            ],
            "text/plain": [
              "| 3120         | 2.5693       | 1h 44m       |"
            ]
          },
          "metadata": {
            "tags": []
          }
        },
        {
          "output_type": "display_data",
          "data": {
            "text/html": [
              "<pre>| 3125         | 2.54033      | 1h 44m       |</pre>"
            ],
            "text/plain": [
              "| 3125         | 2.54033      | 1h 44m       |"
            ]
          },
          "metadata": {
            "tags": []
          }
        },
        {
          "output_type": "display_data",
          "data": {
            "text/html": [
              "<pre>| 3130         | 2.5336       | 1h 44m       |</pre>"
            ],
            "text/plain": [
              "| 3130         | 2.5336       | 1h 44m       |"
            ]
          },
          "metadata": {
            "tags": []
          }
        },
        {
          "output_type": "display_data",
          "data": {
            "text/html": [
              "<pre>| 3135         | 2.55744      | 1h 44m       |</pre>"
            ],
            "text/plain": [
              "| 3135         | 2.55744      | 1h 44m       |"
            ]
          },
          "metadata": {
            "tags": []
          }
        },
        {
          "output_type": "display_data",
          "data": {
            "text/html": [
              "<pre>| 3140         | 2.4958       | 1h 44m       |</pre>"
            ],
            "text/plain": [
              "| 3140         | 2.4958       | 1h 44m       |"
            ]
          },
          "metadata": {
            "tags": []
          }
        },
        {
          "output_type": "display_data",
          "data": {
            "text/html": [
              "<pre>| 3145         | 2.65209      | 1h 44m       |</pre>"
            ],
            "text/plain": [
              "| 3145         | 2.65209      | 1h 44m       |"
            ]
          },
          "metadata": {
            "tags": []
          }
        },
        {
          "output_type": "display_data",
          "data": {
            "text/html": [
              "<pre>| 3150         | 2.62864      | 1h 45m       |</pre>"
            ],
            "text/plain": [
              "| 3150         | 2.62864      | 1h 45m       |"
            ]
          },
          "metadata": {
            "tags": []
          }
        },
        {
          "output_type": "display_data",
          "data": {
            "text/html": [
              "<pre>| 3155         | 2.4649       | 1h 45m       |</pre>"
            ],
            "text/plain": [
              "| 3155         | 2.4649       | 1h 45m       |"
            ]
          },
          "metadata": {
            "tags": []
          }
        },
        {
          "output_type": "display_data",
          "data": {
            "text/html": [
              "<pre>| 3160         | 2.45775      | 1h 45m       |</pre>"
            ],
            "text/plain": [
              "| 3160         | 2.45775      | 1h 45m       |"
            ]
          },
          "metadata": {
            "tags": []
          }
        },
        {
          "output_type": "display_data",
          "data": {
            "text/html": [
              "<pre>| 3165         | 2.45789      | 1h 45m       |</pre>"
            ],
            "text/plain": [
              "| 3165         | 2.45789      | 1h 45m       |"
            ]
          },
          "metadata": {
            "tags": []
          }
        },
        {
          "output_type": "display_data",
          "data": {
            "text/html": [
              "<pre>| 3170         | 2.52038      | 1h 45m       |</pre>"
            ],
            "text/plain": [
              "| 3170         | 2.52038      | 1h 45m       |"
            ]
          },
          "metadata": {
            "tags": []
          }
        },
        {
          "output_type": "display_data",
          "data": {
            "text/html": [
              "<pre>| 3175         | 2.47857      | 1h 45m       |</pre>"
            ],
            "text/plain": [
              "| 3175         | 2.47857      | 1h 45m       |"
            ]
          },
          "metadata": {
            "tags": []
          }
        },
        {
          "output_type": "display_data",
          "data": {
            "text/html": [
              "<pre>| 3180         | 2.52623      | 1h 46m       |</pre>"
            ],
            "text/plain": [
              "| 3180         | 2.52623      | 1h 46m       |"
            ]
          },
          "metadata": {
            "tags": []
          }
        },
        {
          "output_type": "display_data",
          "data": {
            "text/html": [
              "<pre>| 3185         | 2.56695      | 1h 46m       |</pre>"
            ],
            "text/plain": [
              "| 3185         | 2.56695      | 1h 46m       |"
            ]
          },
          "metadata": {
            "tags": []
          }
        },
        {
          "output_type": "display_data",
          "data": {
            "text/html": [
              "<pre>| 3190         | 2.67416      | 1h 46m       |</pre>"
            ],
            "text/plain": [
              "| 3190         | 2.67416      | 1h 46m       |"
            ]
          },
          "metadata": {
            "tags": []
          }
        },
        {
          "output_type": "display_data",
          "data": {
            "text/html": [
              "<pre>| 3195         | 2.609        | 1h 46m       |</pre>"
            ],
            "text/plain": [
              "| 3195         | 2.609        | 1h 46m       |"
            ]
          },
          "metadata": {
            "tags": []
          }
        },
        {
          "output_type": "display_data",
          "data": {
            "text/html": [
              "<pre>| 3200         | 2.64145      | 1h 46m       |</pre>"
            ],
            "text/plain": [
              "| 3200         | 2.64145      | 1h 46m       |"
            ]
          },
          "metadata": {
            "tags": []
          }
        },
        {
          "output_type": "display_data",
          "data": {
            "text/html": [
              "<pre>| 3205         | 2.57089      | 1h 46m       |</pre>"
            ],
            "text/plain": [
              "| 3205         | 2.57089      | 1h 46m       |"
            ]
          },
          "metadata": {
            "tags": []
          }
        },
        {
          "output_type": "display_data",
          "data": {
            "text/html": [
              "<pre>| 3210         | 2.49781      | 1h 47m       |</pre>"
            ],
            "text/plain": [
              "| 3210         | 2.49781      | 1h 47m       |"
            ]
          },
          "metadata": {
            "tags": []
          }
        },
        {
          "output_type": "display_data",
          "data": {
            "text/html": [
              "<pre>| 3215         | 2.53969      | 1h 47m       |</pre>"
            ],
            "text/plain": [
              "| 3215         | 2.53969      | 1h 47m       |"
            ]
          },
          "metadata": {
            "tags": []
          }
        },
        {
          "output_type": "display_data",
          "data": {
            "text/html": [
              "<pre>| 3220         | 2.65659      | 1h 47m       |</pre>"
            ],
            "text/plain": [
              "| 3220         | 2.65659      | 1h 47m       |"
            ]
          },
          "metadata": {
            "tags": []
          }
        },
        {
          "output_type": "display_data",
          "data": {
            "text/html": [
              "<pre>| 3225         | 2.74298      | 1h 47m       |</pre>"
            ],
            "text/plain": [
              "| 3225         | 2.74298      | 1h 47m       |"
            ]
          },
          "metadata": {
            "tags": []
          }
        },
        {
          "output_type": "display_data",
          "data": {
            "text/html": [
              "<pre>| 3230         | 2.65615      | 1h 47m       |</pre>"
            ],
            "text/plain": [
              "| 3230         | 2.65615      | 1h 47m       |"
            ]
          },
          "metadata": {
            "tags": []
          }
        },
        {
          "output_type": "display_data",
          "data": {
            "text/html": [
              "<pre>| 3235         | 2.67679      | 1h 47m       |</pre>"
            ],
            "text/plain": [
              "| 3235         | 2.67679      | 1h 47m       |"
            ]
          },
          "metadata": {
            "tags": []
          }
        },
        {
          "output_type": "display_data",
          "data": {
            "text/html": [
              "<pre>| 3240         | 2.72143      | 1h 48m       |</pre>"
            ],
            "text/plain": [
              "| 3240         | 2.72143      | 1h 48m       |"
            ]
          },
          "metadata": {
            "tags": []
          }
        },
        {
          "output_type": "display_data",
          "data": {
            "text/html": [
              "<pre>| 3245         | 2.69967      | 1h 48m       |</pre>"
            ],
            "text/plain": [
              "| 3245         | 2.69967      | 1h 48m       |"
            ]
          },
          "metadata": {
            "tags": []
          }
        },
        {
          "output_type": "display_data",
          "data": {
            "text/html": [
              "<pre>| 3250         | 2.60486      | 1h 48m       |</pre>"
            ],
            "text/plain": [
              "| 3250         | 2.60486      | 1h 48m       |"
            ]
          },
          "metadata": {
            "tags": []
          }
        },
        {
          "output_type": "display_data",
          "data": {
            "text/html": [
              "<pre>| 3255         | 2.57671      | 1h 48m       |</pre>"
            ],
            "text/plain": [
              "| 3255         | 2.57671      | 1h 48m       |"
            ]
          },
          "metadata": {
            "tags": []
          }
        },
        {
          "output_type": "display_data",
          "data": {
            "text/html": [
              "<pre>| 3260         | 2.55225      | 1h 48m       |</pre>"
            ],
            "text/plain": [
              "| 3260         | 2.55225      | 1h 48m       |"
            ]
          },
          "metadata": {
            "tags": []
          }
        },
        {
          "output_type": "display_data",
          "data": {
            "text/html": [
              "<pre>| 3265         | 2.58278      | 1h 48m       |</pre>"
            ],
            "text/plain": [
              "| 3265         | 2.58278      | 1h 48m       |"
            ]
          },
          "metadata": {
            "tags": []
          }
        },
        {
          "output_type": "display_data",
          "data": {
            "text/html": [
              "<pre>| 3270         | 2.5301       | 1h 49m       |</pre>"
            ],
            "text/plain": [
              "| 3270         | 2.5301       | 1h 49m       |"
            ]
          },
          "metadata": {
            "tags": []
          }
        },
        {
          "output_type": "display_data",
          "data": {
            "text/html": [
              "<pre>| 3275         | 2.52233      | 1h 49m       |</pre>"
            ],
            "text/plain": [
              "| 3275         | 2.52233      | 1h 49m       |"
            ]
          },
          "metadata": {
            "tags": []
          }
        },
        {
          "output_type": "display_data",
          "data": {
            "text/html": [
              "<pre>| 3280         | 2.50102      | 1h 49m       |</pre>"
            ],
            "text/plain": [
              "| 3280         | 2.50102      | 1h 49m       |"
            ]
          },
          "metadata": {
            "tags": []
          }
        },
        {
          "output_type": "display_data",
          "data": {
            "text/html": [
              "<pre>| 3285         | 2.46496      | 1h 49m       |</pre>"
            ],
            "text/plain": [
              "| 3285         | 2.46496      | 1h 49m       |"
            ]
          },
          "metadata": {
            "tags": []
          }
        },
        {
          "output_type": "display_data",
          "data": {
            "text/html": [
              "<pre>| 3290         | 2.53512      | 1h 49m       |</pre>"
            ],
            "text/plain": [
              "| 3290         | 2.53512      | 1h 49m       |"
            ]
          },
          "metadata": {
            "tags": []
          }
        },
        {
          "output_type": "display_data",
          "data": {
            "text/html": [
              "<pre>| 3295         | 2.45999      | 1h 49m       |</pre>"
            ],
            "text/plain": [
              "| 3295         | 2.45999      | 1h 49m       |"
            ]
          },
          "metadata": {
            "tags": []
          }
        },
        {
          "output_type": "display_data",
          "data": {
            "text/html": [
              "<pre>| 3300         | 2.53603      | 1h 50m       |</pre>"
            ],
            "text/plain": [
              "| 3300         | 2.53603      | 1h 50m       |"
            ]
          },
          "metadata": {
            "tags": []
          }
        },
        {
          "output_type": "display_data",
          "data": {
            "text/html": [
              "<pre>| 3305         | 2.45362      | 1h 50m       |</pre>"
            ],
            "text/plain": [
              "| 3305         | 2.45362      | 1h 50m       |"
            ]
          },
          "metadata": {
            "tags": []
          }
        },
        {
          "output_type": "display_data",
          "data": {
            "text/html": [
              "<pre>| 3310         | 2.45821      | 1h 50m       |</pre>"
            ],
            "text/plain": [
              "| 3310         | 2.45821      | 1h 50m       |"
            ]
          },
          "metadata": {
            "tags": []
          }
        },
        {
          "output_type": "display_data",
          "data": {
            "text/html": [
              "<pre>| 3315         | 2.48452      | 1h 50m       |</pre>"
            ],
            "text/plain": [
              "| 3315         | 2.48452      | 1h 50m       |"
            ]
          },
          "metadata": {
            "tags": []
          }
        },
        {
          "output_type": "display_data",
          "data": {
            "text/html": [
              "<pre>| 3320         | 2.45003      | 1h 50m       |</pre>"
            ],
            "text/plain": [
              "| 3320         | 2.45003      | 1h 50m       |"
            ]
          },
          "metadata": {
            "tags": []
          }
        },
        {
          "output_type": "display_data",
          "data": {
            "text/html": [
              "<pre>| 3325         | 2.43309      | 1h 50m       |</pre>"
            ],
            "text/plain": [
              "| 3325         | 2.43309      | 1h 50m       |"
            ]
          },
          "metadata": {
            "tags": []
          }
        },
        {
          "output_type": "display_data",
          "data": {
            "text/html": [
              "<pre>| 3330         | 2.34323      | 1h 51m       |</pre>"
            ],
            "text/plain": [
              "| 3330         | 2.34323      | 1h 51m       |"
            ]
          },
          "metadata": {
            "tags": []
          }
        },
        {
          "output_type": "display_data",
          "data": {
            "text/html": [
              "<pre>| 3335         | 2.39101      | 1h 51m       |</pre>"
            ],
            "text/plain": [
              "| 3335         | 2.39101      | 1h 51m       |"
            ]
          },
          "metadata": {
            "tags": []
          }
        },
        {
          "output_type": "display_data",
          "data": {
            "text/html": [
              "<pre>| 3340         | 2.4384       | 1h 51m       |</pre>"
            ],
            "text/plain": [
              "| 3340         | 2.4384       | 1h 51m       |"
            ]
          },
          "metadata": {
            "tags": []
          }
        },
        {
          "output_type": "display_data",
          "data": {
            "text/html": [
              "<pre>| 3345         | 2.37477      | 1h 51m       |</pre>"
            ],
            "text/plain": [
              "| 3345         | 2.37477      | 1h 51m       |"
            ]
          },
          "metadata": {
            "tags": []
          }
        },
        {
          "output_type": "display_data",
          "data": {
            "text/html": [
              "<pre>| 3350         | 2.56121      | 1h 51m       |</pre>"
            ],
            "text/plain": [
              "| 3350         | 2.56121      | 1h 51m       |"
            ]
          },
          "metadata": {
            "tags": []
          }
        },
        {
          "output_type": "display_data",
          "data": {
            "text/html": [
              "<pre>| 3355         | 2.58127      | 1h 51m       |</pre>"
            ],
            "text/plain": [
              "| 3355         | 2.58127      | 1h 51m       |"
            ]
          },
          "metadata": {
            "tags": []
          }
        },
        {
          "output_type": "display_data",
          "data": {
            "text/html": [
              "<pre>| 3360         | 2.57002      | 1h 52m       |</pre>"
            ],
            "text/plain": [
              "| 3360         | 2.57002      | 1h 52m       |"
            ]
          },
          "metadata": {
            "tags": []
          }
        },
        {
          "output_type": "display_data",
          "data": {
            "text/html": [
              "<pre>| 3365         | 2.56958      | 1h 52m       |</pre>"
            ],
            "text/plain": [
              "| 3365         | 2.56958      | 1h 52m       |"
            ]
          },
          "metadata": {
            "tags": []
          }
        },
        {
          "output_type": "display_data",
          "data": {
            "text/html": [
              "<pre>| 3370         | 2.56994      | 1h 52m       |</pre>"
            ],
            "text/plain": [
              "| 3370         | 2.56994      | 1h 52m       |"
            ]
          },
          "metadata": {
            "tags": []
          }
        },
        {
          "output_type": "display_data",
          "data": {
            "text/html": [
              "<pre>| 3375         | 2.55927      | 1h 52m       |</pre>"
            ],
            "text/plain": [
              "| 3375         | 2.55927      | 1h 52m       |"
            ]
          },
          "metadata": {
            "tags": []
          }
        },
        {
          "output_type": "display_data",
          "data": {
            "text/html": [
              "<pre>| 3380         | 2.59073      | 1h 52m       |</pre>"
            ],
            "text/plain": [
              "| 3380         | 2.59073      | 1h 52m       |"
            ]
          },
          "metadata": {
            "tags": []
          }
        },
        {
          "output_type": "display_data",
          "data": {
            "text/html": [
              "<pre>| 3385         | 2.59961      | 1h 52m       |</pre>"
            ],
            "text/plain": [
              "| 3385         | 2.59961      | 1h 52m       |"
            ]
          },
          "metadata": {
            "tags": []
          }
        },
        {
          "output_type": "display_data",
          "data": {
            "text/html": [
              "<pre>| 3390         | 2.59964      | 1h 53m       |</pre>"
            ],
            "text/plain": [
              "| 3390         | 2.59964      | 1h 53m       |"
            ]
          },
          "metadata": {
            "tags": []
          }
        },
        {
          "output_type": "display_data",
          "data": {
            "text/html": [
              "<pre>| 3395         | 2.59031      | 1h 53m       |</pre>"
            ],
            "text/plain": [
              "| 3395         | 2.59031      | 1h 53m       |"
            ]
          },
          "metadata": {
            "tags": []
          }
        },
        {
          "output_type": "display_data",
          "data": {
            "text/html": [
              "<pre>| 3400         | 2.65759      | 1h 53m       |</pre>"
            ],
            "text/plain": [
              "| 3400         | 2.65759      | 1h 53m       |"
            ]
          },
          "metadata": {
            "tags": []
          }
        },
        {
          "output_type": "display_data",
          "data": {
            "text/html": [
              "<pre>| 3405         | 2.61447      | 1h 53m       |</pre>"
            ],
            "text/plain": [
              "| 3405         | 2.61447      | 1h 53m       |"
            ]
          },
          "metadata": {
            "tags": []
          }
        },
        {
          "output_type": "display_data",
          "data": {
            "text/html": [
              "<pre>| 3410         | 2.58744      | 1h 53m       |</pre>"
            ],
            "text/plain": [
              "| 3410         | 2.58744      | 1h 53m       |"
            ]
          },
          "metadata": {
            "tags": []
          }
        },
        {
          "output_type": "display_data",
          "data": {
            "text/html": [
              "<pre>| 3415         | 2.51262      | 1h 53m       |</pre>"
            ],
            "text/plain": [
              "| 3415         | 2.51262      | 1h 53m       |"
            ]
          },
          "metadata": {
            "tags": []
          }
        },
        {
          "output_type": "display_data",
          "data": {
            "text/html": [
              "<pre>| 3420         | 2.40852      | 1h 53m       |</pre>"
            ],
            "text/plain": [
              "| 3420         | 2.40852      | 1h 53m       |"
            ]
          },
          "metadata": {
            "tags": []
          }
        },
        {
          "output_type": "display_data",
          "data": {
            "text/html": [
              "<pre>| 3425         | 2.52393      | 1h 54m       |</pre>"
            ],
            "text/plain": [
              "| 3425         | 2.52393      | 1h 54m       |"
            ]
          },
          "metadata": {
            "tags": []
          }
        },
        {
          "output_type": "display_data",
          "data": {
            "text/html": [
              "<pre>| 3430         | 2.49683      | 1h 54m       |</pre>"
            ],
            "text/plain": [
              "| 3430         | 2.49683      | 1h 54m       |"
            ]
          },
          "metadata": {
            "tags": []
          }
        },
        {
          "output_type": "display_data",
          "data": {
            "text/html": [
              "<pre>| 3435         | 2.38836      | 1h 54m       |</pre>"
            ],
            "text/plain": [
              "| 3435         | 2.38836      | 1h 54m       |"
            ]
          },
          "metadata": {
            "tags": []
          }
        },
        {
          "output_type": "display_data",
          "data": {
            "text/html": [
              "<pre>| 3440         | 2.54987      | 1h 54m       |</pre>"
            ],
            "text/plain": [
              "| 3440         | 2.54987      | 1h 54m       |"
            ]
          },
          "metadata": {
            "tags": []
          }
        },
        {
          "output_type": "display_data",
          "data": {
            "text/html": [
              "<pre>| 3445         | 2.45392      | 1h 54m       |</pre>"
            ],
            "text/plain": [
              "| 3445         | 2.45392      | 1h 54m       |"
            ]
          },
          "metadata": {
            "tags": []
          }
        },
        {
          "output_type": "display_data",
          "data": {
            "text/html": [
              "<pre>| 3450         | 2.47747      | 1h 54m       |</pre>"
            ],
            "text/plain": [
              "| 3450         | 2.47747      | 1h 54m       |"
            ]
          },
          "metadata": {
            "tags": []
          }
        },
        {
          "output_type": "display_data",
          "data": {
            "text/html": [
              "<pre>| 3455         | 2.52575      | 1h 55m       |</pre>"
            ],
            "text/plain": [
              "| 3455         | 2.52575      | 1h 55m       |"
            ]
          },
          "metadata": {
            "tags": []
          }
        },
        {
          "output_type": "display_data",
          "data": {
            "text/html": [
              "<pre>| 3460         | 2.59495      | 1h 55m       |</pre>"
            ],
            "text/plain": [
              "| 3460         | 2.59495      | 1h 55m       |"
            ]
          },
          "metadata": {
            "tags": []
          }
        },
        {
          "output_type": "display_data",
          "data": {
            "text/html": [
              "<pre>| 3465         | 2.43062      | 1h 55m       |</pre>"
            ],
            "text/plain": [
              "| 3465         | 2.43062      | 1h 55m       |"
            ]
          },
          "metadata": {
            "tags": []
          }
        },
        {
          "output_type": "display_data",
          "data": {
            "text/html": [
              "<pre>| 3470         | 2.44527      | 1h 55m       |</pre>"
            ],
            "text/plain": [
              "| 3470         | 2.44527      | 1h 55m       |"
            ]
          },
          "metadata": {
            "tags": []
          }
        },
        {
          "output_type": "display_data",
          "data": {
            "text/html": [
              "<pre>| 3475         | 2.51068      | 1h 55m       |</pre>"
            ],
            "text/plain": [
              "| 3475         | 2.51068      | 1h 55m       |"
            ]
          },
          "metadata": {
            "tags": []
          }
        },
        {
          "output_type": "display_data",
          "data": {
            "text/html": [
              "<pre>| 3480         | 2.45298      | 1h 55m       |</pre>"
            ],
            "text/plain": [
              "| 3480         | 2.45298      | 1h 55m       |"
            ]
          },
          "metadata": {
            "tags": []
          }
        },
        {
          "output_type": "display_data",
          "data": {
            "text/html": [
              "<pre>| 3485         | 2.42035      | 1h 56m       |</pre>"
            ],
            "text/plain": [
              "| 3485         | 2.42035      | 1h 56m       |"
            ]
          },
          "metadata": {
            "tags": []
          }
        },
        {
          "output_type": "display_data",
          "data": {
            "text/html": [
              "<pre>| 3490         | 2.48115      | 1h 56m       |</pre>"
            ],
            "text/plain": [
              "| 3490         | 2.48115      | 1h 56m       |"
            ]
          },
          "metadata": {
            "tags": []
          }
        },
        {
          "output_type": "display_data",
          "data": {
            "text/html": [
              "<pre>| 3495         | 2.51356      | 1h 56m       |</pre>"
            ],
            "text/plain": [
              "| 3495         | 2.51356      | 1h 56m       |"
            ]
          },
          "metadata": {
            "tags": []
          }
        },
        {
          "output_type": "display_data",
          "data": {
            "text/html": [
              "<pre>| 3500         | 2.47579      | 1h 56m       |</pre>"
            ],
            "text/plain": [
              "| 3500         | 2.47579      | 1h 56m       |"
            ]
          },
          "metadata": {
            "tags": []
          }
        },
        {
          "output_type": "display_data",
          "data": {
            "text/html": [
              "<pre>| 3505         | 2.49409      | 1h 56m       |</pre>"
            ],
            "text/plain": [
              "| 3505         | 2.49409      | 1h 56m       |"
            ]
          },
          "metadata": {
            "tags": []
          }
        },
        {
          "output_type": "display_data",
          "data": {
            "text/html": [
              "<pre>| 3510         | 2.50017      | 1h 56m       |</pre>"
            ],
            "text/plain": [
              "| 3510         | 2.50017      | 1h 56m       |"
            ]
          },
          "metadata": {
            "tags": []
          }
        },
        {
          "output_type": "display_data",
          "data": {
            "text/html": [
              "<pre>| 3515         | 2.48836      | 1h 57m       |</pre>"
            ],
            "text/plain": [
              "| 3515         | 2.48836      | 1h 57m       |"
            ]
          },
          "metadata": {
            "tags": []
          }
        },
        {
          "output_type": "display_data",
          "data": {
            "text/html": [
              "<pre>| 3520         | 2.42186      | 1h 57m       |</pre>"
            ],
            "text/plain": [
              "| 3520         | 2.42186      | 1h 57m       |"
            ]
          },
          "metadata": {
            "tags": []
          }
        },
        {
          "output_type": "display_data",
          "data": {
            "text/html": [
              "<pre>| 3525         | 2.43617      | 1h 57m       |</pre>"
            ],
            "text/plain": [
              "| 3525         | 2.43617      | 1h 57m       |"
            ]
          },
          "metadata": {
            "tags": []
          }
        },
        {
          "output_type": "display_data",
          "data": {
            "text/html": [
              "<pre>| 3530         | 2.56178      | 1h 57m       |</pre>"
            ],
            "text/plain": [
              "| 3530         | 2.56178      | 1h 57m       |"
            ]
          },
          "metadata": {
            "tags": []
          }
        },
        {
          "output_type": "display_data",
          "data": {
            "text/html": [
              "<pre>| 3535         | 2.48303      | 1h 57m       |</pre>"
            ],
            "text/plain": [
              "| 3535         | 2.48303      | 1h 57m       |"
            ]
          },
          "metadata": {
            "tags": []
          }
        },
        {
          "output_type": "display_data",
          "data": {
            "text/html": [
              "<pre>| 3540         | 2.50745      | 1h 57m       |</pre>"
            ],
            "text/plain": [
              "| 3540         | 2.50745      | 1h 57m       |"
            ]
          },
          "metadata": {
            "tags": []
          }
        },
        {
          "output_type": "display_data",
          "data": {
            "text/html": [
              "<pre>| 3545         | 2.54022      | 1h 58m       |</pre>"
            ],
            "text/plain": [
              "| 3545         | 2.54022      | 1h 58m       |"
            ]
          },
          "metadata": {
            "tags": []
          }
        },
        {
          "output_type": "display_data",
          "data": {
            "text/html": [
              "<pre>| 3550         | 2.54458      | 1h 58m       |</pre>"
            ],
            "text/plain": [
              "| 3550         | 2.54458      | 1h 58m       |"
            ]
          },
          "metadata": {
            "tags": []
          }
        },
        {
          "output_type": "display_data",
          "data": {
            "text/html": [
              "<pre>| 3555         | 2.48853      | 1h 58m       |</pre>"
            ],
            "text/plain": [
              "| 3555         | 2.48853      | 1h 58m       |"
            ]
          },
          "metadata": {
            "tags": []
          }
        },
        {
          "output_type": "display_data",
          "data": {
            "text/html": [
              "<pre>| 3560         | 2.4476       | 1h 58m       |</pre>"
            ],
            "text/plain": [
              "| 3560         | 2.4476       | 1h 58m       |"
            ]
          },
          "metadata": {
            "tags": []
          }
        },
        {
          "output_type": "display_data",
          "data": {
            "text/html": [
              "<pre>| 3565         | 2.34192      | 1h 58m       |</pre>"
            ],
            "text/plain": [
              "| 3565         | 2.34192      | 1h 58m       |"
            ]
          },
          "metadata": {
            "tags": []
          }
        },
        {
          "output_type": "display_data",
          "data": {
            "text/html": [
              "<pre>| 3570         | 2.39638      | 1h 58m       |</pre>"
            ],
            "text/plain": [
              "| 3570         | 2.39638      | 1h 58m       |"
            ]
          },
          "metadata": {
            "tags": []
          }
        },
        {
          "output_type": "display_data",
          "data": {
            "text/html": [
              "<pre>| 3575         | 2.47032      | 1h 59m       |</pre>"
            ],
            "text/plain": [
              "| 3575         | 2.47032      | 1h 59m       |"
            ]
          },
          "metadata": {
            "tags": []
          }
        },
        {
          "output_type": "display_data",
          "data": {
            "text/html": [
              "<pre>| 3580         | 2.41479      | 1h 59m       |</pre>"
            ],
            "text/plain": [
              "| 3580         | 2.41479      | 1h 59m       |"
            ]
          },
          "metadata": {
            "tags": []
          }
        },
        {
          "output_type": "display_data",
          "data": {
            "text/html": [
              "<pre>| 3585         | 2.35946      | 1h 59m       |</pre>"
            ],
            "text/plain": [
              "| 3585         | 2.35946      | 1h 59m       |"
            ]
          },
          "metadata": {
            "tags": []
          }
        },
        {
          "output_type": "display_data",
          "data": {
            "text/html": [
              "<pre>| 3590         | 2.45081      | 1h 59m       |</pre>"
            ],
            "text/plain": [
              "| 3590         | 2.45081      | 1h 59m       |"
            ]
          },
          "metadata": {
            "tags": []
          }
        },
        {
          "output_type": "display_data",
          "data": {
            "text/html": [
              "<pre>| 3595         | 2.35104      | 1h 59m       |</pre>"
            ],
            "text/plain": [
              "| 3595         | 2.35104      | 1h 59m       |"
            ]
          },
          "metadata": {
            "tags": []
          }
        },
        {
          "output_type": "display_data",
          "data": {
            "text/html": [
              "<pre>| 3600         | 2.32652      | 1h 59m       |</pre>"
            ],
            "text/plain": [
              "| 3600         | 2.32652      | 1h 59m       |"
            ]
          },
          "metadata": {
            "tags": []
          }
        },
        {
          "output_type": "display_data",
          "data": {
            "text/html": [
              "<pre>| 3605         | 2.3183       | 2h 0m        |</pre>"
            ],
            "text/plain": [
              "| 3605         | 2.3183       | 2h 0m        |"
            ]
          },
          "metadata": {
            "tags": []
          }
        },
        {
          "output_type": "display_data",
          "data": {
            "text/html": [
              "<pre>| 3610         | 2.34718      | 2h 0m        |</pre>"
            ],
            "text/plain": [
              "| 3610         | 2.34718      | 2h 0m        |"
            ]
          },
          "metadata": {
            "tags": []
          }
        },
        {
          "output_type": "display_data",
          "data": {
            "text/html": [
              "<pre>| 3615         | 2.40661      | 2h 0m        |</pre>"
            ],
            "text/plain": [
              "| 3615         | 2.40661      | 2h 0m        |"
            ]
          },
          "metadata": {
            "tags": []
          }
        },
        {
          "output_type": "display_data",
          "data": {
            "text/html": [
              "<pre>| 3620         | 2.44119      | 2h 0m        |</pre>"
            ],
            "text/plain": [
              "| 3620         | 2.44119      | 2h 0m        |"
            ]
          },
          "metadata": {
            "tags": []
          }
        },
        {
          "output_type": "display_data",
          "data": {
            "text/html": [
              "<pre>| 3625         | 2.53085      | 2h 0m        |</pre>"
            ],
            "text/plain": [
              "| 3625         | 2.53085      | 2h 0m        |"
            ]
          },
          "metadata": {
            "tags": []
          }
        },
        {
          "output_type": "display_data",
          "data": {
            "text/html": [
              "<pre>| 3630         | 2.51184      | 2h 0m        |</pre>"
            ],
            "text/plain": [
              "| 3630         | 2.51184      | 2h 0m        |"
            ]
          },
          "metadata": {
            "tags": []
          }
        },
        {
          "output_type": "display_data",
          "data": {
            "text/html": [
              "<pre>| 3635         | 2.44023      | 2h 1m        |</pre>"
            ],
            "text/plain": [
              "| 3635         | 2.44023      | 2h 1m        |"
            ]
          },
          "metadata": {
            "tags": []
          }
        },
        {
          "output_type": "display_data",
          "data": {
            "text/html": [
              "<pre>| 3640         | 2.3409       | 2h 1m        |</pre>"
            ],
            "text/plain": [
              "| 3640         | 2.3409       | 2h 1m        |"
            ]
          },
          "metadata": {
            "tags": []
          }
        },
        {
          "output_type": "display_data",
          "data": {
            "text/html": [
              "<pre>| 3645         | 2.42767      | 2h 1m        |</pre>"
            ],
            "text/plain": [
              "| 3645         | 2.42767      | 2h 1m        |"
            ]
          },
          "metadata": {
            "tags": []
          }
        },
        {
          "output_type": "display_data",
          "data": {
            "text/html": [
              "<pre>| 3650         | 2.33163      | 2h 1m        |</pre>"
            ],
            "text/plain": [
              "| 3650         | 2.33163      | 2h 1m        |"
            ]
          },
          "metadata": {
            "tags": []
          }
        },
        {
          "output_type": "display_data",
          "data": {
            "text/html": [
              "<pre>| 3655         | 2.3598       | 2h 1m        |</pre>"
            ],
            "text/plain": [
              "| 3655         | 2.3598       | 2h 1m        |"
            ]
          },
          "metadata": {
            "tags": []
          }
        },
        {
          "output_type": "display_data",
          "data": {
            "text/html": [
              "<pre>| 3660         | 2.39439      | 2h 1m        |</pre>"
            ],
            "text/plain": [
              "| 3660         | 2.39439      | 2h 1m        |"
            ]
          },
          "metadata": {
            "tags": []
          }
        },
        {
          "output_type": "display_data",
          "data": {
            "text/html": [
              "<pre>| 3665         | 2.30271      | 2h 2m        |</pre>"
            ],
            "text/plain": [
              "| 3665         | 2.30271      | 2h 2m        |"
            ]
          },
          "metadata": {
            "tags": []
          }
        },
        {
          "output_type": "display_data",
          "data": {
            "text/html": [
              "<pre>| 3670         | 2.26434      | 2h 2m        |</pre>"
            ],
            "text/plain": [
              "| 3670         | 2.26434      | 2h 2m        |"
            ]
          },
          "metadata": {
            "tags": []
          }
        },
        {
          "output_type": "display_data",
          "data": {
            "text/html": [
              "<pre>| 3675         | 2.33738      | 2h 2m        |</pre>"
            ],
            "text/plain": [
              "| 3675         | 2.33738      | 2h 2m        |"
            ]
          },
          "metadata": {
            "tags": []
          }
        },
        {
          "output_type": "display_data",
          "data": {
            "text/html": [
              "<pre>| 3680         | 2.4244       | 2h 2m        |</pre>"
            ],
            "text/plain": [
              "| 3680         | 2.4244       | 2h 2m        |"
            ]
          },
          "metadata": {
            "tags": []
          }
        },
        {
          "output_type": "display_data",
          "data": {
            "text/html": [
              "<pre>| 3685         | 2.35509      | 2h 2m        |</pre>"
            ],
            "text/plain": [
              "| 3685         | 2.35509      | 2h 2m        |"
            ]
          },
          "metadata": {
            "tags": []
          }
        },
        {
          "output_type": "display_data",
          "data": {
            "text/html": [
              "<pre>| 3690         | 2.37961      | 2h 2m        |</pre>"
            ],
            "text/plain": [
              "| 3690         | 2.37961      | 2h 2m        |"
            ]
          },
          "metadata": {
            "tags": []
          }
        },
        {
          "output_type": "display_data",
          "data": {
            "text/html": [
              "<pre>| 3695         | 2.34254      | 2h 3m        |</pre>"
            ],
            "text/plain": [
              "| 3695         | 2.34254      | 2h 3m        |"
            ]
          },
          "metadata": {
            "tags": []
          }
        },
        {
          "output_type": "display_data",
          "data": {
            "text/html": [
              "<pre>| 3700         | 2.4381       | 2h 3m        |</pre>"
            ],
            "text/plain": [
              "| 3700         | 2.4381       | 2h 3m        |"
            ]
          },
          "metadata": {
            "tags": []
          }
        },
        {
          "output_type": "display_data",
          "data": {
            "text/html": [
              "<pre>| 3705         | 2.46058      | 2h 3m        |</pre>"
            ],
            "text/plain": [
              "| 3705         | 2.46058      | 2h 3m        |"
            ]
          },
          "metadata": {
            "tags": []
          }
        },
        {
          "output_type": "display_data",
          "data": {
            "text/html": [
              "<pre>| 3710         | 2.39701      | 2h 3m        |</pre>"
            ],
            "text/plain": [
              "| 3710         | 2.39701      | 2h 3m        |"
            ]
          },
          "metadata": {
            "tags": []
          }
        },
        {
          "output_type": "display_data",
          "data": {
            "text/html": [
              "<pre>| 3715         | 2.35766      | 2h 3m        |</pre>"
            ],
            "text/plain": [
              "| 3715         | 2.35766      | 2h 3m        |"
            ]
          },
          "metadata": {
            "tags": []
          }
        },
        {
          "output_type": "display_data",
          "data": {
            "text/html": [
              "<pre>| 3720         | 2.37334      | 2h 3m        |</pre>"
            ],
            "text/plain": [
              "| 3720         | 2.37334      | 2h 3m        |"
            ]
          },
          "metadata": {
            "tags": []
          }
        },
        {
          "output_type": "display_data",
          "data": {
            "text/html": [
              "<pre>| 3725         | 2.38171      | 2h 4m        |</pre>"
            ],
            "text/plain": [
              "| 3725         | 2.38171      | 2h 4m        |"
            ]
          },
          "metadata": {
            "tags": []
          }
        },
        {
          "output_type": "display_data",
          "data": {
            "text/html": [
              "<pre>| 3730         | 2.27465      | 2h 4m        |</pre>"
            ],
            "text/plain": [
              "| 3730         | 2.27465      | 2h 4m        |"
            ]
          },
          "metadata": {
            "tags": []
          }
        },
        {
          "output_type": "display_data",
          "data": {
            "text/html": [
              "<pre>| 3735         | 2.38039      | 2h 4m        |</pre>"
            ],
            "text/plain": [
              "| 3735         | 2.38039      | 2h 4m        |"
            ]
          },
          "metadata": {
            "tags": []
          }
        },
        {
          "output_type": "display_data",
          "data": {
            "text/html": [
              "<pre>| 3740         | 2.37181      | 2h 4m        |</pre>"
            ],
            "text/plain": [
              "| 3740         | 2.37181      | 2h 4m        |"
            ]
          },
          "metadata": {
            "tags": []
          }
        },
        {
          "output_type": "display_data",
          "data": {
            "text/html": [
              "<pre>| 3745         | 2.32348      | 2h 4m        |</pre>"
            ],
            "text/plain": [
              "| 3745         | 2.32348      | 2h 4m        |"
            ]
          },
          "metadata": {
            "tags": []
          }
        },
        {
          "output_type": "display_data",
          "data": {
            "text/html": [
              "<pre>| 3750         | 2.34933      | 2h 4m        |</pre>"
            ],
            "text/plain": [
              "| 3750         | 2.34933      | 2h 4m        |"
            ]
          },
          "metadata": {
            "tags": []
          }
        },
        {
          "output_type": "display_data",
          "data": {
            "text/html": [
              "<pre>| 3755         | 2.37522      | 2h 5m        |</pre>"
            ],
            "text/plain": [
              "| 3755         | 2.37522      | 2h 5m        |"
            ]
          },
          "metadata": {
            "tags": []
          }
        },
        {
          "output_type": "display_data",
          "data": {
            "text/html": [
              "<pre>| 3760         | 2.32625      | 2h 5m        |</pre>"
            ],
            "text/plain": [
              "| 3760         | 2.32625      | 2h 5m        |"
            ]
          },
          "metadata": {
            "tags": []
          }
        },
        {
          "output_type": "display_data",
          "data": {
            "text/html": [
              "<pre>| 3765         | 2.31048      | 2h 5m        |</pre>"
            ],
            "text/plain": [
              "| 3765         | 2.31048      | 2h 5m        |"
            ]
          },
          "metadata": {
            "tags": []
          }
        },
        {
          "output_type": "display_data",
          "data": {
            "text/html": [
              "<pre>| 3770         | 2.39443      | 2h 5m        |</pre>"
            ],
            "text/plain": [
              "| 3770         | 2.39443      | 2h 5m        |"
            ]
          },
          "metadata": {
            "tags": []
          }
        },
        {
          "output_type": "display_data",
          "data": {
            "text/html": [
              "<pre>| 3775         | 2.49515      | 2h 5m        |</pre>"
            ],
            "text/plain": [
              "| 3775         | 2.49515      | 2h 5m        |"
            ]
          },
          "metadata": {
            "tags": []
          }
        },
        {
          "output_type": "display_data",
          "data": {
            "text/html": [
              "<pre>| 3780         | 2.45444      | 2h 5m        |</pre>"
            ],
            "text/plain": [
              "| 3780         | 2.45444      | 2h 5m        |"
            ]
          },
          "metadata": {
            "tags": []
          }
        },
        {
          "output_type": "display_data",
          "data": {
            "text/html": [
              "<pre>| 3785         | 2.4525       | 2h 5m        |</pre>"
            ],
            "text/plain": [
              "| 3785         | 2.4525       | 2h 5m        |"
            ]
          },
          "metadata": {
            "tags": []
          }
        },
        {
          "output_type": "display_data",
          "data": {
            "text/html": [
              "<pre>| 3790         | 2.47891      | 2h 6m        |</pre>"
            ],
            "text/plain": [
              "| 3790         | 2.47891      | 2h 6m        |"
            ]
          },
          "metadata": {
            "tags": []
          }
        },
        {
          "output_type": "display_data",
          "data": {
            "text/html": [
              "<pre>| 3795         | 2.39174      | 2h 6m        |</pre>"
            ],
            "text/plain": [
              "| 3795         | 2.39174      | 2h 6m        |"
            ]
          },
          "metadata": {
            "tags": []
          }
        },
        {
          "output_type": "display_data",
          "data": {
            "text/html": [
              "<pre>| 3800         | 2.37977      | 2h 6m        |</pre>"
            ],
            "text/plain": [
              "| 3800         | 2.37977      | 2h 6m        |"
            ]
          },
          "metadata": {
            "tags": []
          }
        },
        {
          "output_type": "display_data",
          "data": {
            "text/html": [
              "<pre>| 3805         | 2.44049      | 2h 6m        |</pre>"
            ],
            "text/plain": [
              "| 3805         | 2.44049      | 2h 6m        |"
            ]
          },
          "metadata": {
            "tags": []
          }
        },
        {
          "output_type": "display_data",
          "data": {
            "text/html": [
              "<pre>| 3810         | 2.34661      | 2h 6m        |</pre>"
            ],
            "text/plain": [
              "| 3810         | 2.34661      | 2h 6m        |"
            ]
          },
          "metadata": {
            "tags": []
          }
        },
        {
          "output_type": "display_data",
          "data": {
            "text/html": [
              "<pre>| 3815         | 2.29079      | 2h 6m        |</pre>"
            ],
            "text/plain": [
              "| 3815         | 2.29079      | 2h 6m        |"
            ]
          },
          "metadata": {
            "tags": []
          }
        },
        {
          "output_type": "display_data",
          "data": {
            "text/html": [
              "<pre>| 3820         | 2.33271      | 2h 7m        |</pre>"
            ],
            "text/plain": [
              "| 3820         | 2.33271      | 2h 7m        |"
            ]
          },
          "metadata": {
            "tags": []
          }
        },
        {
          "output_type": "display_data",
          "data": {
            "text/html": [
              "<pre>| 3825         | 2.38027      | 2h 7m        |</pre>"
            ],
            "text/plain": [
              "| 3825         | 2.38027      | 2h 7m        |"
            ]
          },
          "metadata": {
            "tags": []
          }
        },
        {
          "output_type": "display_data",
          "data": {
            "text/html": [
              "<pre>| 3830         | 2.33477      | 2h 7m        |</pre>"
            ],
            "text/plain": [
              "| 3830         | 2.33477      | 2h 7m        |"
            ]
          },
          "metadata": {
            "tags": []
          }
        },
        {
          "output_type": "display_data",
          "data": {
            "text/html": [
              "<pre>| 3835         | 2.36697      | 2h 7m        |</pre>"
            ],
            "text/plain": [
              "| 3835         | 2.36697      | 2h 7m        |"
            ]
          },
          "metadata": {
            "tags": []
          }
        },
        {
          "output_type": "display_data",
          "data": {
            "text/html": [
              "<pre>| 3840         | 2.33117      | 2h 7m        |</pre>"
            ],
            "text/plain": [
              "| 3840         | 2.33117      | 2h 7m        |"
            ]
          },
          "metadata": {
            "tags": []
          }
        },
        {
          "output_type": "display_data",
          "data": {
            "text/html": [
              "<pre>| 3845         | 2.36251      | 2h 7m        |</pre>"
            ],
            "text/plain": [
              "| 3845         | 2.36251      | 2h 7m        |"
            ]
          },
          "metadata": {
            "tags": []
          }
        },
        {
          "output_type": "display_data",
          "data": {
            "text/html": [
              "<pre>| 3850         | 2.33652      | 2h 8m        |</pre>"
            ],
            "text/plain": [
              "| 3850         | 2.33652      | 2h 8m        |"
            ]
          },
          "metadata": {
            "tags": []
          }
        },
        {
          "output_type": "display_data",
          "data": {
            "text/html": [
              "<pre>| 3855         | 2.27167      | 2h 8m        |</pre>"
            ],
            "text/plain": [
              "| 3855         | 2.27167      | 2h 8m        |"
            ]
          },
          "metadata": {
            "tags": []
          }
        },
        {
          "output_type": "display_data",
          "data": {
            "text/html": [
              "<pre>| 3860         | 2.27868      | 2h 8m        |</pre>"
            ],
            "text/plain": [
              "| 3860         | 2.27868      | 2h 8m        |"
            ]
          },
          "metadata": {
            "tags": []
          }
        },
        {
          "output_type": "display_data",
          "data": {
            "text/html": [
              "<pre>| 3865         | 2.32801      | 2h 8m        |</pre>"
            ],
            "text/plain": [
              "| 3865         | 2.32801      | 2h 8m        |"
            ]
          },
          "metadata": {
            "tags": []
          }
        },
        {
          "output_type": "display_data",
          "data": {
            "text/html": [
              "<pre>| 3870         | 2.31551      | 2h 8m        |</pre>"
            ],
            "text/plain": [
              "| 3870         | 2.31551      | 2h 8m        |"
            ]
          },
          "metadata": {
            "tags": []
          }
        },
        {
          "output_type": "display_data",
          "data": {
            "text/html": [
              "<pre>| 3875         | 2.37428      | 2h 8m        |</pre>"
            ],
            "text/plain": [
              "| 3875         | 2.37428      | 2h 8m        |"
            ]
          },
          "metadata": {
            "tags": []
          }
        },
        {
          "output_type": "display_data",
          "data": {
            "text/html": [
              "<pre>| 3880         | 2.28306      | 2h 9m        |</pre>"
            ],
            "text/plain": [
              "| 3880         | 2.28306      | 2h 9m        |"
            ]
          },
          "metadata": {
            "tags": []
          }
        },
        {
          "output_type": "display_data",
          "data": {
            "text/html": [
              "<pre>| 3885         | 2.33777      | 2h 9m        |</pre>"
            ],
            "text/plain": [
              "| 3885         | 2.33777      | 2h 9m        |"
            ]
          },
          "metadata": {
            "tags": []
          }
        },
        {
          "output_type": "display_data",
          "data": {
            "text/html": [
              "<pre>| 3890         | 2.30172      | 2h 9m        |</pre>"
            ],
            "text/plain": [
              "| 3890         | 2.30172      | 2h 9m        |"
            ]
          },
          "metadata": {
            "tags": []
          }
        },
        {
          "output_type": "display_data",
          "data": {
            "text/html": [
              "<pre>| 3895         | 2.24639      | 2h 9m        |</pre>"
            ],
            "text/plain": [
              "| 3895         | 2.24639      | 2h 9m        |"
            ]
          },
          "metadata": {
            "tags": []
          }
        },
        {
          "output_type": "display_data",
          "data": {
            "text/html": [
              "<pre>| 3900         | 2.36923      | 2h 9m        |</pre>"
            ],
            "text/plain": [
              "| 3900         | 2.36923      | 2h 9m        |"
            ]
          },
          "metadata": {
            "tags": []
          }
        },
        {
          "output_type": "display_data",
          "data": {
            "text/html": [
              "<pre>| 3905         | 2.40385      | 2h 9m        |</pre>"
            ],
            "text/plain": [
              "| 3905         | 2.40385      | 2h 9m        |"
            ]
          },
          "metadata": {
            "tags": []
          }
        },
        {
          "output_type": "display_data",
          "data": {
            "text/html": [
              "<pre>| 3910         | 2.40702      | 2h 10m       |</pre>"
            ],
            "text/plain": [
              "| 3910         | 2.40702      | 2h 10m       |"
            ]
          },
          "metadata": {
            "tags": []
          }
        },
        {
          "output_type": "display_data",
          "data": {
            "text/html": [
              "<pre>| 3915         | 2.34336      | 2h 10m       |</pre>"
            ],
            "text/plain": [
              "| 3915         | 2.34336      | 2h 10m       |"
            ]
          },
          "metadata": {
            "tags": []
          }
        },
        {
          "output_type": "display_data",
          "data": {
            "text/html": [
              "<pre>| 3920         | 2.40463      | 2h 10m       |</pre>"
            ],
            "text/plain": [
              "| 3920         | 2.40463      | 2h 10m       |"
            ]
          },
          "metadata": {
            "tags": []
          }
        },
        {
          "output_type": "display_data",
          "data": {
            "text/html": [
              "<pre>| 3925         | 2.40071      | 2h 10m       |</pre>"
            ],
            "text/plain": [
              "| 3925         | 2.40071      | 2h 10m       |"
            ]
          },
          "metadata": {
            "tags": []
          }
        },
        {
          "output_type": "display_data",
          "data": {
            "text/html": [
              "<pre>| 3930         | 2.40525      | 2h 10m       |</pre>"
            ],
            "text/plain": [
              "| 3930         | 2.40525      | 2h 10m       |"
            ]
          },
          "metadata": {
            "tags": []
          }
        },
        {
          "output_type": "display_data",
          "data": {
            "text/html": [
              "<pre>| 3935         | 2.3095       | 2h 10m       |</pre>"
            ],
            "text/plain": [
              "| 3935         | 2.3095       | 2h 10m       |"
            ]
          },
          "metadata": {
            "tags": []
          }
        },
        {
          "output_type": "display_data",
          "data": {
            "text/html": [
              "<pre>| 3940         | 2.29315      | 2h 11m       |</pre>"
            ],
            "text/plain": [
              "| 3940         | 2.29315      | 2h 11m       |"
            ]
          },
          "metadata": {
            "tags": []
          }
        },
        {
          "output_type": "display_data",
          "data": {
            "text/html": [
              "<pre>| 3945         | 2.32938      | 2h 11m       |</pre>"
            ],
            "text/plain": [
              "| 3945         | 2.32938      | 2h 11m       |"
            ]
          },
          "metadata": {
            "tags": []
          }
        },
        {
          "output_type": "display_data",
          "data": {
            "text/html": [
              "<pre>| 3950         | 2.4176       | 2h 11m       |</pre>"
            ],
            "text/plain": [
              "| 3950         | 2.4176       | 2h 11m       |"
            ]
          },
          "metadata": {
            "tags": []
          }
        },
        {
          "output_type": "display_data",
          "data": {
            "text/html": [
              "<pre>| 3955         | 2.40285      | 2h 11m       |</pre>"
            ],
            "text/plain": [
              "| 3955         | 2.40285      | 2h 11m       |"
            ]
          },
          "metadata": {
            "tags": []
          }
        },
        {
          "output_type": "display_data",
          "data": {
            "text/html": [
              "<pre>| 3960         | 2.5009       | 2h 11m       |</pre>"
            ],
            "text/plain": [
              "| 3960         | 2.5009       | 2h 11m       |"
            ]
          },
          "metadata": {
            "tags": []
          }
        },
        {
          "output_type": "display_data",
          "data": {
            "text/html": [
              "<pre>| 3965         | 2.48078      | 2h 11m       |</pre>"
            ],
            "text/plain": [
              "| 3965         | 2.48078      | 2h 11m       |"
            ]
          },
          "metadata": {
            "tags": []
          }
        },
        {
          "output_type": "display_data",
          "data": {
            "text/html": [
              "<pre>| 3970         | 2.35776      | 2h 12m       |</pre>"
            ],
            "text/plain": [
              "| 3970         | 2.35776      | 2h 12m       |"
            ]
          },
          "metadata": {
            "tags": []
          }
        },
        {
          "output_type": "display_data",
          "data": {
            "text/html": [
              "<pre>| 3975         | 2.38614      | 2h 12m       |</pre>"
            ],
            "text/plain": [
              "| 3975         | 2.38614      | 2h 12m       |"
            ]
          },
          "metadata": {
            "tags": []
          }
        },
        {
          "output_type": "display_data",
          "data": {
            "text/html": [
              "<pre>| 3980         | 2.41863      | 2h 12m       |</pre>"
            ],
            "text/plain": [
              "| 3980         | 2.41863      | 2h 12m       |"
            ]
          },
          "metadata": {
            "tags": []
          }
        },
        {
          "output_type": "display_data",
          "data": {
            "text/html": [
              "<pre>| 3985         | 2.37386      | 2h 12m       |</pre>"
            ],
            "text/plain": [
              "| 3985         | 2.37386      | 2h 12m       |"
            ]
          },
          "metadata": {
            "tags": []
          }
        },
        {
          "output_type": "display_data",
          "data": {
            "text/html": [
              "<pre>| 3990         | 2.30275      | 2h 12m       |</pre>"
            ],
            "text/plain": [
              "| 3990         | 2.30275      | 2h 12m       |"
            ]
          },
          "metadata": {
            "tags": []
          }
        },
        {
          "output_type": "display_data",
          "data": {
            "text/html": [
              "<pre>| 3995         | 2.24479      | 2h 12m       |</pre>"
            ],
            "text/plain": [
              "| 3995         | 2.24479      | 2h 12m       |"
            ]
          },
          "metadata": {
            "tags": []
          }
        },
        {
          "output_type": "display_data",
          "data": {
            "text/html": [
              "<pre>| 4000         | 2.24196      | 2h 13m       |</pre>"
            ],
            "text/plain": [
              "| 4000         | 2.24196      | 2h 13m       |"
            ]
          },
          "metadata": {
            "tags": []
          }
        },
        {
          "output_type": "display_data",
          "data": {
            "text/html": [
              "<pre>| 4005         | 2.31617      | 2h 13m       |</pre>"
            ],
            "text/plain": [
              "| 4005         | 2.31617      | 2h 13m       |"
            ]
          },
          "metadata": {
            "tags": []
          }
        },
        {
          "output_type": "display_data",
          "data": {
            "text/html": [
              "<pre>| 4010         | 2.25608      | 2h 13m       |</pre>"
            ],
            "text/plain": [
              "| 4010         | 2.25608      | 2h 13m       |"
            ]
          },
          "metadata": {
            "tags": []
          }
        },
        {
          "output_type": "display_data",
          "data": {
            "text/html": [
              "<pre>| 4015         | 2.2185       | 2h 13m       |</pre>"
            ],
            "text/plain": [
              "| 4015         | 2.2185       | 2h 13m       |"
            ]
          },
          "metadata": {
            "tags": []
          }
        },
        {
          "output_type": "display_data",
          "data": {
            "text/html": [
              "<pre>| 4020         | 2.36588      | 2h 13m       |</pre>"
            ],
            "text/plain": [
              "| 4020         | 2.36588      | 2h 13m       |"
            ]
          },
          "metadata": {
            "tags": []
          }
        },
        {
          "output_type": "display_data",
          "data": {
            "text/html": [
              "<pre>| 4025         | 2.31209      | 2h 13m       |</pre>"
            ],
            "text/plain": [
              "| 4025         | 2.31209      | 2h 13m       |"
            ]
          },
          "metadata": {
            "tags": []
          }
        },
        {
          "output_type": "display_data",
          "data": {
            "text/html": [
              "<pre>| 4030         | 2.41665      | 2h 14m       |</pre>"
            ],
            "text/plain": [
              "| 4030         | 2.41665      | 2h 14m       |"
            ]
          },
          "metadata": {
            "tags": []
          }
        },
        {
          "output_type": "display_data",
          "data": {
            "text/html": [
              "<pre>| 4035         | 2.4216       | 2h 14m       |</pre>"
            ],
            "text/plain": [
              "| 4035         | 2.4216       | 2h 14m       |"
            ]
          },
          "metadata": {
            "tags": []
          }
        },
        {
          "output_type": "display_data",
          "data": {
            "text/html": [
              "<pre>| 4040         | 2.42566      | 2h 14m       |</pre>"
            ],
            "text/plain": [
              "| 4040         | 2.42566      | 2h 14m       |"
            ]
          },
          "metadata": {
            "tags": []
          }
        },
        {
          "output_type": "display_data",
          "data": {
            "text/html": [
              "<pre>| 4045         | 2.4116       | 2h 14m       |</pre>"
            ],
            "text/plain": [
              "| 4045         | 2.4116       | 2h 14m       |"
            ]
          },
          "metadata": {
            "tags": []
          }
        },
        {
          "output_type": "display_data",
          "data": {
            "text/html": [
              "<pre>| 4050         | 2.36555      | 2h 14m       |</pre>"
            ],
            "text/plain": [
              "| 4050         | 2.36555      | 2h 14m       |"
            ]
          },
          "metadata": {
            "tags": []
          }
        },
        {
          "output_type": "display_data",
          "data": {
            "text/html": [
              "<pre>| 4055         | 2.33337      | 2h 14m       |</pre>"
            ],
            "text/plain": [
              "| 4055         | 2.33337      | 2h 14m       |"
            ]
          },
          "metadata": {
            "tags": []
          }
        },
        {
          "output_type": "display_data",
          "data": {
            "text/html": [
              "<pre>| 4060         | 2.35869      | 2h 15m       |</pre>"
            ],
            "text/plain": [
              "| 4060         | 2.35869      | 2h 15m       |"
            ]
          },
          "metadata": {
            "tags": []
          }
        },
        {
          "output_type": "display_data",
          "data": {
            "text/html": [
              "<pre>| 4065         | 2.33018      | 2h 15m       |</pre>"
            ],
            "text/plain": [
              "| 4065         | 2.33018      | 2h 15m       |"
            ]
          },
          "metadata": {
            "tags": []
          }
        },
        {
          "output_type": "display_data",
          "data": {
            "text/html": [
              "<pre>| 4070         | 2.42688      | 2h 15m       |</pre>"
            ],
            "text/plain": [
              "| 4070         | 2.42688      | 2h 15m       |"
            ]
          },
          "metadata": {
            "tags": []
          }
        },
        {
          "output_type": "display_data",
          "data": {
            "text/html": [
              "<pre>| 4075         | 2.39744      | 2h 15m       |</pre>"
            ],
            "text/plain": [
              "| 4075         | 2.39744      | 2h 15m       |"
            ]
          },
          "metadata": {
            "tags": []
          }
        },
        {
          "output_type": "display_data",
          "data": {
            "text/html": [
              "<pre>| 4080         | 2.36939      | 2h 15m       |</pre>"
            ],
            "text/plain": [
              "| 4080         | 2.36939      | 2h 15m       |"
            ]
          },
          "metadata": {
            "tags": []
          }
        },
        {
          "output_type": "display_data",
          "data": {
            "text/html": [
              "<pre>| 4085         | 2.31792      | 2h 15m       |</pre>"
            ],
            "text/plain": [
              "| 4085         | 2.31792      | 2h 15m       |"
            ]
          },
          "metadata": {
            "tags": []
          }
        },
        {
          "output_type": "display_data",
          "data": {
            "text/html": [
              "<pre>| 4090         | 2.3119       | 2h 16m       |</pre>"
            ],
            "text/plain": [
              "| 4090         | 2.3119       | 2h 16m       |"
            ]
          },
          "metadata": {
            "tags": []
          }
        },
        {
          "output_type": "display_data",
          "data": {
            "text/html": [
              "<pre>| 4095         | 2.29208      | 2h 16m       |</pre>"
            ],
            "text/plain": [
              "| 4095         | 2.29208      | 2h 16m       |"
            ]
          },
          "metadata": {
            "tags": []
          }
        },
        {
          "output_type": "display_data",
          "data": {
            "text/html": [
              "<pre>| 4100         | 2.29829      | 2h 16m       |</pre>"
            ],
            "text/plain": [
              "| 4100         | 2.29829      | 2h 16m       |"
            ]
          },
          "metadata": {
            "tags": []
          }
        },
        {
          "output_type": "display_data",
          "data": {
            "text/html": [
              "<pre>| 4105         | 2.2301       | 2h 16m       |</pre>"
            ],
            "text/plain": [
              "| 4105         | 2.2301       | 2h 16m       |"
            ]
          },
          "metadata": {
            "tags": []
          }
        },
        {
          "output_type": "display_data",
          "data": {
            "text/html": [
              "<pre>| 4110         | 2.247        | 2h 16m       |</pre>"
            ],
            "text/plain": [
              "| 4110         | 2.247        | 2h 16m       |"
            ]
          },
          "metadata": {
            "tags": []
          }
        },
        {
          "output_type": "display_data",
          "data": {
            "text/html": [
              "<pre>| 4115         | 2.25816      | 2h 16m       |</pre>"
            ],
            "text/plain": [
              "| 4115         | 2.25816      | 2h 16m       |"
            ]
          },
          "metadata": {
            "tags": []
          }
        },
        {
          "output_type": "display_data",
          "data": {
            "text/html": [
              "<pre>| 4120         | 2.27649      | 2h 16m       |</pre>"
            ],
            "text/plain": [
              "| 4120         | 2.27649      | 2h 16m       |"
            ]
          },
          "metadata": {
            "tags": []
          }
        },
        {
          "output_type": "display_data",
          "data": {
            "text/html": [
              "<pre>| 4125         | 2.25958      | 2h 17m       |</pre>"
            ],
            "text/plain": [
              "| 4125         | 2.25958      | 2h 17m       |"
            ]
          },
          "metadata": {
            "tags": []
          }
        },
        {
          "output_type": "display_data",
          "data": {
            "text/html": [
              "<pre>| 4130         | 2.21858      | 2h 17m       |</pre>"
            ],
            "text/plain": [
              "| 4130         | 2.21858      | 2h 17m       |"
            ]
          },
          "metadata": {
            "tags": []
          }
        },
        {
          "output_type": "display_data",
          "data": {
            "text/html": [
              "<pre>| 4135         | 2.2536       | 2h 17m       |</pre>"
            ],
            "text/plain": [
              "| 4135         | 2.2536       | 2h 17m       |"
            ]
          },
          "metadata": {
            "tags": []
          }
        },
        {
          "output_type": "display_data",
          "data": {
            "text/html": [
              "<pre>| 4140         | 2.2536       | 2h 17m       |</pre>"
            ],
            "text/plain": [
              "| 4140         | 2.2536       | 2h 17m       |"
            ]
          },
          "metadata": {
            "tags": []
          }
        },
        {
          "output_type": "display_data",
          "data": {
            "text/html": [
              "<pre>| 4145         | 2.2873       | 2h 17m       |</pre>"
            ],
            "text/plain": [
              "| 4145         | 2.2873       | 2h 17m       |"
            ]
          },
          "metadata": {
            "tags": []
          }
        },
        {
          "output_type": "display_data",
          "data": {
            "text/html": [
              "<pre>| 4150         | 2.24329      | 2h 17m       |</pre>"
            ],
            "text/plain": [
              "| 4150         | 2.24329      | 2h 17m       |"
            ]
          },
          "metadata": {
            "tags": []
          }
        },
        {
          "output_type": "display_data",
          "data": {
            "text/html": [
              "<pre>| 4155         | 2.22954      | 2h 18m       |</pre>"
            ],
            "text/plain": [
              "| 4155         | 2.22954      | 2h 18m       |"
            ]
          },
          "metadata": {
            "tags": []
          }
        },
        {
          "output_type": "display_data",
          "data": {
            "text/html": [
              "<pre>| 4160         | 2.21741      | 2h 18m       |</pre>"
            ],
            "text/plain": [
              "| 4160         | 2.21741      | 2h 18m       |"
            ]
          },
          "metadata": {
            "tags": []
          }
        },
        {
          "output_type": "display_data",
          "data": {
            "text/html": [
              "<pre>| 4165         | 2.27075      | 2h 18m       |</pre>"
            ],
            "text/plain": [
              "| 4165         | 2.27075      | 2h 18m       |"
            ]
          },
          "metadata": {
            "tags": []
          }
        },
        {
          "output_type": "display_data",
          "data": {
            "text/html": [
              "<pre>| 4170         | 2.35272      | 2h 18m       |</pre>"
            ],
            "text/plain": [
              "| 4170         | 2.35272      | 2h 18m       |"
            ]
          },
          "metadata": {
            "tags": []
          }
        },
        {
          "output_type": "display_data",
          "data": {
            "text/html": [
              "<pre>| 4175         | 2.41473      | 2h 18m       |</pre>"
            ],
            "text/plain": [
              "| 4175         | 2.41473      | 2h 18m       |"
            ]
          },
          "metadata": {
            "tags": []
          }
        },
        {
          "output_type": "display_data",
          "data": {
            "text/html": [
              "<pre>| 4180         | 2.30939      | 2h 19m       |</pre>"
            ],
            "text/plain": [
              "| 4180         | 2.30939      | 2h 19m       |"
            ]
          },
          "metadata": {
            "tags": []
          }
        },
        {
          "output_type": "display_data",
          "data": {
            "text/html": [
              "<pre>| 4185         | 2.3199       | 2h 19m       |</pre>"
            ],
            "text/plain": [
              "| 4185         | 2.3199       | 2h 19m       |"
            ]
          },
          "metadata": {
            "tags": []
          }
        },
        {
          "output_type": "display_data",
          "data": {
            "text/html": [
              "<pre>| 4190         | 2.28664      | 2h 19m       |</pre>"
            ],
            "text/plain": [
              "| 4190         | 2.28664      | 2h 19m       |"
            ]
          },
          "metadata": {
            "tags": []
          }
        },
        {
          "output_type": "display_data",
          "data": {
            "text/html": [
              "<pre>| 4195         | 2.24408      | 2h 19m       |</pre>"
            ],
            "text/plain": [
              "| 4195         | 2.24408      | 2h 19m       |"
            ]
          },
          "metadata": {
            "tags": []
          }
        },
        {
          "output_type": "display_data",
          "data": {
            "text/html": [
              "<pre>| 4200         | 2.18001      | 2h 19m       |</pre>"
            ],
            "text/plain": [
              "| 4200         | 2.18001      | 2h 19m       |"
            ]
          },
          "metadata": {
            "tags": []
          }
        },
        {
          "output_type": "display_data",
          "data": {
            "text/html": [
              "<pre>| 4205         | 2.22995      | 2h 19m       |</pre>"
            ],
            "text/plain": [
              "| 4205         | 2.22995      | 2h 19m       |"
            ]
          },
          "metadata": {
            "tags": []
          }
        },
        {
          "output_type": "display_data",
          "data": {
            "text/html": [
              "<pre>| 4210         | 2.21569      | 2h 19m       |</pre>"
            ],
            "text/plain": [
              "| 4210         | 2.21569      | 2h 19m       |"
            ]
          },
          "metadata": {
            "tags": []
          }
        },
        {
          "output_type": "display_data",
          "data": {
            "text/html": [
              "<pre>| 4215         | 2.19459      | 2h 20m       |</pre>"
            ],
            "text/plain": [
              "| 4215         | 2.19459      | 2h 20m       |"
            ]
          },
          "metadata": {
            "tags": []
          }
        },
        {
          "output_type": "display_data",
          "data": {
            "text/html": [
              "<pre>| 4220         | 2.20637      | 2h 20m       |</pre>"
            ],
            "text/plain": [
              "| 4220         | 2.20637      | 2h 20m       |"
            ]
          },
          "metadata": {
            "tags": []
          }
        },
        {
          "output_type": "display_data",
          "data": {
            "text/html": [
              "<pre>| 4225         | 2.26248      | 2h 20m       |</pre>"
            ],
            "text/plain": [
              "| 4225         | 2.26248      | 2h 20m       |"
            ]
          },
          "metadata": {
            "tags": []
          }
        },
        {
          "output_type": "display_data",
          "data": {
            "text/html": [
              "<pre>| 4230         | 2.18552      | 2h 20m       |</pre>"
            ],
            "text/plain": [
              "| 4230         | 2.18552      | 2h 20m       |"
            ]
          },
          "metadata": {
            "tags": []
          }
        },
        {
          "output_type": "display_data",
          "data": {
            "text/html": [
              "<pre>| 4235         | 2.1874       | 2h 20m       |</pre>"
            ],
            "text/plain": [
              "| 4235         | 2.1874       | 2h 20m       |"
            ]
          },
          "metadata": {
            "tags": []
          }
        },
        {
          "output_type": "display_data",
          "data": {
            "text/html": [
              "<pre>| 4240         | 2.22979      | 2h 20m       |</pre>"
            ],
            "text/plain": [
              "| 4240         | 2.22979      | 2h 20m       |"
            ]
          },
          "metadata": {
            "tags": []
          }
        },
        {
          "output_type": "display_data",
          "data": {
            "text/html": [
              "<pre>| 4245         | 2.269        | 2h 21m       |</pre>"
            ],
            "text/plain": [
              "| 4245         | 2.269        | 2h 21m       |"
            ]
          },
          "metadata": {
            "tags": []
          }
        },
        {
          "output_type": "display_data",
          "data": {
            "text/html": [
              "<pre>| 4250         | 2.25709      | 2h 21m       |</pre>"
            ],
            "text/plain": [
              "| 4250         | 2.25709      | 2h 21m       |"
            ]
          },
          "metadata": {
            "tags": []
          }
        },
        {
          "output_type": "display_data",
          "data": {
            "text/html": [
              "<pre>| 4255         | 2.21161      | 2h 21m       |</pre>"
            ],
            "text/plain": [
              "| 4255         | 2.21161      | 2h 21m       |"
            ]
          },
          "metadata": {
            "tags": []
          }
        },
        {
          "output_type": "display_data",
          "data": {
            "text/html": [
              "<pre>| 4260         | 2.20857      | 2h 21m       |</pre>"
            ],
            "text/plain": [
              "| 4260         | 2.20857      | 2h 21m       |"
            ]
          },
          "metadata": {
            "tags": []
          }
        },
        {
          "output_type": "display_data",
          "data": {
            "text/html": [
              "<pre>| 4265         | 2.2038       | 2h 21m       |</pre>"
            ],
            "text/plain": [
              "| 4265         | 2.2038       | 2h 21m       |"
            ]
          },
          "metadata": {
            "tags": []
          }
        },
        {
          "output_type": "display_data",
          "data": {
            "text/html": [
              "<pre>| 4270         | 2.15486      | 2h 21m       |</pre>"
            ],
            "text/plain": [
              "| 4270         | 2.15486      | 2h 21m       |"
            ]
          },
          "metadata": {
            "tags": []
          }
        },
        {
          "output_type": "display_data",
          "data": {
            "text/html": [
              "<pre>| 4275         | 2.15403      | 2h 22m       |</pre>"
            ],
            "text/plain": [
              "| 4275         | 2.15403      | 2h 22m       |"
            ]
          },
          "metadata": {
            "tags": []
          }
        },
        {
          "output_type": "display_data",
          "data": {
            "text/html": [
              "<pre>| 4280         | 2.1429       | 2h 22m       |</pre>"
            ],
            "text/plain": [
              "| 4280         | 2.1429       | 2h 22m       |"
            ]
          },
          "metadata": {
            "tags": []
          }
        },
        {
          "output_type": "display_data",
          "data": {
            "text/html": [
              "<pre>| 4285         | 2.12304      | 2h 22m       |</pre>"
            ],
            "text/plain": [
              "| 4285         | 2.12304      | 2h 22m       |"
            ]
          },
          "metadata": {
            "tags": []
          }
        },
        {
          "output_type": "display_data",
          "data": {
            "text/html": [
              "<pre>| 4290         | 2.18282      | 2h 22m       |</pre>"
            ],
            "text/plain": [
              "| 4290         | 2.18282      | 2h 22m       |"
            ]
          },
          "metadata": {
            "tags": []
          }
        },
        {
          "output_type": "display_data",
          "data": {
            "text/html": [
              "<pre>| 4295         | 2.22734      | 2h 22m       |</pre>"
            ],
            "text/plain": [
              "| 4295         | 2.22734      | 2h 22m       |"
            ]
          },
          "metadata": {
            "tags": []
          }
        },
        {
          "output_type": "display_data",
          "data": {
            "text/html": [
              "<pre>| 4300         | 2.29003      | 2h 22m       |</pre>"
            ],
            "text/plain": [
              "| 4300         | 2.29003      | 2h 22m       |"
            ]
          },
          "metadata": {
            "tags": []
          }
        },
        {
          "output_type": "display_data",
          "data": {
            "text/html": [
              "<pre>| 4305         | 2.21586      | 2h 23m       |</pre>"
            ],
            "text/plain": [
              "| 4305         | 2.21586      | 2h 23m       |"
            ]
          },
          "metadata": {
            "tags": []
          }
        },
        {
          "output_type": "display_data",
          "data": {
            "text/html": [
              "<pre>| 4310         | 2.22382      | 2h 23m       |</pre>"
            ],
            "text/plain": [
              "| 4310         | 2.22382      | 2h 23m       |"
            ]
          },
          "metadata": {
            "tags": []
          }
        },
        {
          "output_type": "display_data",
          "data": {
            "text/html": [
              "<pre>| 4315         | 2.26542      | 2h 23m       |</pre>"
            ],
            "text/plain": [
              "| 4315         | 2.26542      | 2h 23m       |"
            ]
          },
          "metadata": {
            "tags": []
          }
        },
        {
          "output_type": "display_data",
          "data": {
            "text/html": [
              "<pre>| 4320         | 2.16703      | 2h 23m       |</pre>"
            ],
            "text/plain": [
              "| 4320         | 2.16703      | 2h 23m       |"
            ]
          },
          "metadata": {
            "tags": []
          }
        },
        {
          "output_type": "display_data",
          "data": {
            "text/html": [
              "<pre>| 4325         | 2.20748      | 2h 23m       |</pre>"
            ],
            "text/plain": [
              "| 4325         | 2.20748      | 2h 23m       |"
            ]
          },
          "metadata": {
            "tags": []
          }
        },
        {
          "output_type": "display_data",
          "data": {
            "text/html": [
              "<pre>| 4330         | 2.21152      | 2h 23m       |</pre>"
            ],
            "text/plain": [
              "| 4330         | 2.21152      | 2h 23m       |"
            ]
          },
          "metadata": {
            "tags": []
          }
        },
        {
          "output_type": "display_data",
          "data": {
            "text/html": [
              "<pre>| 4335         | 2.16674      | 2h 24m       |</pre>"
            ],
            "text/plain": [
              "| 4335         | 2.16674      | 2h 24m       |"
            ]
          },
          "metadata": {
            "tags": []
          }
        },
        {
          "output_type": "display_data",
          "data": {
            "text/html": [
              "<pre>| 4340         | 2.25592      | 2h 24m       |</pre>"
            ],
            "text/plain": [
              "| 4340         | 2.25592      | 2h 24m       |"
            ]
          },
          "metadata": {
            "tags": []
          }
        },
        {
          "output_type": "display_data",
          "data": {
            "text/html": [
              "<pre>| 4345         | 2.22847      | 2h 24m       |</pre>"
            ],
            "text/plain": [
              "| 4345         | 2.22847      | 2h 24m       |"
            ]
          },
          "metadata": {
            "tags": []
          }
        },
        {
          "output_type": "display_data",
          "data": {
            "text/html": [
              "<pre>| 4350         | 2.32469      | 2h 24m       |</pre>"
            ],
            "text/plain": [
              "| 4350         | 2.32469      | 2h 24m       |"
            ]
          },
          "metadata": {
            "tags": []
          }
        },
        {
          "output_type": "display_data",
          "data": {
            "text/html": [
              "<pre>| 4355         | 2.20903      | 2h 24m       |</pre>"
            ],
            "text/plain": [
              "| 4355         | 2.20903      | 2h 24m       |"
            ]
          },
          "metadata": {
            "tags": []
          }
        },
        {
          "output_type": "display_data",
          "data": {
            "text/html": [
              "<pre>| 4360         | 2.15591      | 2h 24m       |</pre>"
            ],
            "text/plain": [
              "| 4360         | 2.15591      | 2h 24m       |"
            ]
          },
          "metadata": {
            "tags": []
          }
        },
        {
          "output_type": "display_data",
          "data": {
            "text/html": [
              "<pre>| 4365         | 2.12096      | 2h 25m       |</pre>"
            ],
            "text/plain": [
              "| 4365         | 2.12096      | 2h 25m       |"
            ]
          },
          "metadata": {
            "tags": []
          }
        },
        {
          "output_type": "display_data",
          "data": {
            "text/html": [
              "<pre>| 4370         | 2.22809      | 2h 25m       |</pre>"
            ],
            "text/plain": [
              "| 4370         | 2.22809      | 2h 25m       |"
            ]
          },
          "metadata": {
            "tags": []
          }
        },
        {
          "output_type": "display_data",
          "data": {
            "text/html": [
              "<pre>| 4375         | 2.26371      | 2h 25m       |</pre>"
            ],
            "text/plain": [
              "| 4375         | 2.26371      | 2h 25m       |"
            ]
          },
          "metadata": {
            "tags": []
          }
        },
        {
          "output_type": "display_data",
          "data": {
            "text/html": [
              "<pre>| 4380         | 2.18644      | 2h 25m       |</pre>"
            ],
            "text/plain": [
              "| 4380         | 2.18644      | 2h 25m       |"
            ]
          },
          "metadata": {
            "tags": []
          }
        },
        {
          "output_type": "display_data",
          "data": {
            "text/html": [
              "<pre>| 4385         | 2.29627      | 2h 25m       |</pre>"
            ],
            "text/plain": [
              "| 4385         | 2.29627      | 2h 25m       |"
            ]
          },
          "metadata": {
            "tags": []
          }
        },
        {
          "output_type": "display_data",
          "data": {
            "text/html": [
              "<pre>| 4390         | 2.22174      | 2h 25m       |</pre>"
            ],
            "text/plain": [
              "| 4390         | 2.22174      | 2h 25m       |"
            ]
          },
          "metadata": {
            "tags": []
          }
        },
        {
          "output_type": "display_data",
          "data": {
            "text/html": [
              "<pre>| 4395         | 2.25543      | 2h 26m       |</pre>"
            ],
            "text/plain": [
              "| 4395         | 2.25543      | 2h 26m       |"
            ]
          },
          "metadata": {
            "tags": []
          }
        },
        {
          "output_type": "display_data",
          "data": {
            "text/html": [
              "<pre>| 4400         | 2.31595      | 2h 26m       |</pre>"
            ],
            "text/plain": [
              "| 4400         | 2.31595      | 2h 26m       |"
            ]
          },
          "metadata": {
            "tags": []
          }
        },
        {
          "output_type": "display_data",
          "data": {
            "text/html": [
              "<pre>| 4405         | 2.24359      | 2h 26m       |</pre>"
            ],
            "text/plain": [
              "| 4405         | 2.24359      | 2h 26m       |"
            ]
          },
          "metadata": {
            "tags": []
          }
        },
        {
          "output_type": "display_data",
          "data": {
            "text/html": [
              "<pre>| 4410         | 2.2056       | 2h 26m       |</pre>"
            ],
            "text/plain": [
              "| 4410         | 2.2056       | 2h 26m       |"
            ]
          },
          "metadata": {
            "tags": []
          }
        },
        {
          "output_type": "display_data",
          "data": {
            "text/html": [
              "<pre>| 4415         | 2.1478       | 2h 26m       |</pre>"
            ],
            "text/plain": [
              "| 4415         | 2.1478       | 2h 26m       |"
            ]
          },
          "metadata": {
            "tags": []
          }
        },
        {
          "output_type": "display_data",
          "data": {
            "text/html": [
              "<pre>| 4420         | 2.18887      | 2h 26m       |</pre>"
            ],
            "text/plain": [
              "| 4420         | 2.18887      | 2h 26m       |"
            ]
          },
          "metadata": {
            "tags": []
          }
        },
        {
          "output_type": "display_data",
          "data": {
            "text/html": [
              "<pre>| 4425         | 2.18786      | 2h 27m       |</pre>"
            ],
            "text/plain": [
              "| 4425         | 2.18786      | 2h 27m       |"
            ]
          },
          "metadata": {
            "tags": []
          }
        },
        {
          "output_type": "display_data",
          "data": {
            "text/html": [
              "<pre>| 4430         | 2.1327       | 2h 27m       |</pre>"
            ],
            "text/plain": [
              "| 4430         | 2.1327       | 2h 27m       |"
            ]
          },
          "metadata": {
            "tags": []
          }
        },
        {
          "output_type": "display_data",
          "data": {
            "text/html": [
              "<pre>| 4435         | 2.16154      | 2h 27m       |</pre>"
            ],
            "text/plain": [
              "| 4435         | 2.16154      | 2h 27m       |"
            ]
          },
          "metadata": {
            "tags": []
          }
        },
        {
          "output_type": "display_data",
          "data": {
            "text/html": [
              "<pre>| 4440         | 2.24106      | 2h 27m       |</pre>"
            ],
            "text/plain": [
              "| 4440         | 2.24106      | 2h 27m       |"
            ]
          },
          "metadata": {
            "tags": []
          }
        },
        {
          "output_type": "display_data",
          "data": {
            "text/html": [
              "<pre>| 4445         | 2.22973      | 2h 27m       |</pre>"
            ],
            "text/plain": [
              "| 4445         | 2.22973      | 2h 27m       |"
            ]
          },
          "metadata": {
            "tags": []
          }
        },
        {
          "output_type": "display_data",
          "data": {
            "text/html": [
              "<pre>| 4450         | 2.21807      | 2h 27m       |</pre>"
            ],
            "text/plain": [
              "| 4450         | 2.21807      | 2h 27m       |"
            ]
          },
          "metadata": {
            "tags": []
          }
        },
        {
          "output_type": "display_data",
          "data": {
            "text/html": [
              "<pre>| 4455         | 2.17371      | 2h 28m       |</pre>"
            ],
            "text/plain": [
              "| 4455         | 2.17371      | 2h 28m       |"
            ]
          },
          "metadata": {
            "tags": []
          }
        },
        {
          "output_type": "display_data",
          "data": {
            "text/html": [
              "<pre>| 4460         | 2.11347      | 2h 28m       |</pre>"
            ],
            "text/plain": [
              "| 4460         | 2.11347      | 2h 28m       |"
            ]
          },
          "metadata": {
            "tags": []
          }
        },
        {
          "output_type": "display_data",
          "data": {
            "text/html": [
              "<pre>| 4465         | 2.20813      | 2h 28m       |</pre>"
            ],
            "text/plain": [
              "| 4465         | 2.20813      | 2h 28m       |"
            ]
          },
          "metadata": {
            "tags": []
          }
        },
        {
          "output_type": "display_data",
          "data": {
            "text/html": [
              "<pre>| 4470         | 2.19783      | 2h 28m       |</pre>"
            ],
            "text/plain": [
              "| 4470         | 2.19783      | 2h 28m       |"
            ]
          },
          "metadata": {
            "tags": []
          }
        },
        {
          "output_type": "display_data",
          "data": {
            "text/html": [
              "<pre>| 4475         | 2.15989      | 2h 28m       |</pre>"
            ],
            "text/plain": [
              "| 4475         | 2.15989      | 2h 28m       |"
            ]
          },
          "metadata": {
            "tags": []
          }
        },
        {
          "output_type": "display_data",
          "data": {
            "text/html": [
              "<pre>| 4480         | 2.13042      | 2h 28m       |</pre>"
            ],
            "text/plain": [
              "| 4480         | 2.13042      | 2h 28m       |"
            ]
          },
          "metadata": {
            "tags": []
          }
        },
        {
          "output_type": "display_data",
          "data": {
            "text/html": [
              "<pre>| 4485         | 2.10993      | 2h 29m       |</pre>"
            ],
            "text/plain": [
              "| 4485         | 2.10993      | 2h 29m       |"
            ]
          },
          "metadata": {
            "tags": []
          }
        },
        {
          "output_type": "display_data",
          "data": {
            "text/html": [
              "<pre>| 4490         | 2.16828      | 2h 29m       |</pre>"
            ],
            "text/plain": [
              "| 4490         | 2.16828      | 2h 29m       |"
            ]
          },
          "metadata": {
            "tags": []
          }
        },
        {
          "output_type": "display_data",
          "data": {
            "text/html": [
              "<pre>| 4495         | 2.19148      | 2h 29m       |</pre>"
            ],
            "text/plain": [
              "| 4495         | 2.19148      | 2h 29m       |"
            ]
          },
          "metadata": {
            "tags": []
          }
        },
        {
          "output_type": "display_data",
          "data": {
            "text/html": [
              "<pre>| 4500         | 2.11887      | 2h 29m       |</pre>"
            ],
            "text/plain": [
              "| 4500         | 2.11887      | 2h 29m       |"
            ]
          },
          "metadata": {
            "tags": []
          }
        },
        {
          "output_type": "display_data",
          "data": {
            "text/html": [
              "<pre>| 4505         | 2.0909       | 2h 29m       |</pre>"
            ],
            "text/plain": [
              "| 4505         | 2.0909       | 2h 29m       |"
            ]
          },
          "metadata": {
            "tags": []
          }
        },
        {
          "output_type": "display_data",
          "data": {
            "text/html": [
              "<pre>| 4510         | 2.18683      | 2h 29m       |</pre>"
            ],
            "text/plain": [
              "| 4510         | 2.18683      | 2h 29m       |"
            ]
          },
          "metadata": {
            "tags": []
          }
        },
        {
          "output_type": "display_data",
          "data": {
            "text/html": [
              "<pre>| 4515         | 2.2558       | 2h 30m       |</pre>"
            ],
            "text/plain": [
              "| 4515         | 2.2558       | 2h 30m       |"
            ]
          },
          "metadata": {
            "tags": []
          }
        },
        {
          "output_type": "display_data",
          "data": {
            "text/html": [
              "<pre>| 4520         | 2.20908      | 2h 30m       |</pre>"
            ],
            "text/plain": [
              "| 4520         | 2.20908      | 2h 30m       |"
            ]
          },
          "metadata": {
            "tags": []
          }
        },
        {
          "output_type": "display_data",
          "data": {
            "text/html": [
              "<pre>| 4525         | 2.17025      | 2h 30m       |</pre>"
            ],
            "text/plain": [
              "| 4525         | 2.17025      | 2h 30m       |"
            ]
          },
          "metadata": {
            "tags": []
          }
        },
        {
          "output_type": "display_data",
          "data": {
            "text/html": [
              "<pre>| 4530         | 2.18061      | 2h 30m       |</pre>"
            ],
            "text/plain": [
              "| 4530         | 2.18061      | 2h 30m       |"
            ]
          },
          "metadata": {
            "tags": []
          }
        },
        {
          "output_type": "display_data",
          "data": {
            "text/html": [
              "<pre>| 4535         | 2.17095      | 2h 30m       |</pre>"
            ],
            "text/plain": [
              "| 4535         | 2.17095      | 2h 30m       |"
            ]
          },
          "metadata": {
            "tags": []
          }
        },
        {
          "output_type": "display_data",
          "data": {
            "text/html": [
              "<pre>| 4540         | 2.17209      | 2h 30m       |</pre>"
            ],
            "text/plain": [
              "| 4540         | 2.17209      | 2h 30m       |"
            ]
          },
          "metadata": {
            "tags": []
          }
        },
        {
          "output_type": "display_data",
          "data": {
            "text/html": [
              "<pre>| 4545         | 2.18202      | 2h 31m       |</pre>"
            ],
            "text/plain": [
              "| 4545         | 2.18202      | 2h 31m       |"
            ]
          },
          "metadata": {
            "tags": []
          }
        },
        {
          "output_type": "display_data",
          "data": {
            "text/html": [
              "<pre>| 4550         | 2.1824       | 2h 31m       |</pre>"
            ],
            "text/plain": [
              "| 4550         | 2.1824       | 2h 31m       |"
            ]
          },
          "metadata": {
            "tags": []
          }
        },
        {
          "output_type": "display_data",
          "data": {
            "text/html": [
              "<pre>| 4555         | 2.18911      | 2h 31m       |</pre>"
            ],
            "text/plain": [
              "| 4555         | 2.18911      | 2h 31m       |"
            ]
          },
          "metadata": {
            "tags": []
          }
        },
        {
          "output_type": "display_data",
          "data": {
            "text/html": [
              "<pre>| 4560         | 2.16402      | 2h 31m       |</pre>"
            ],
            "text/plain": [
              "| 4560         | 2.16402      | 2h 31m       |"
            ]
          },
          "metadata": {
            "tags": []
          }
        },
        {
          "output_type": "display_data",
          "data": {
            "text/html": [
              "<pre>| 4565         | 2.2482       | 2h 31m       |</pre>"
            ],
            "text/plain": [
              "| 4565         | 2.2482       | 2h 31m       |"
            ]
          },
          "metadata": {
            "tags": []
          }
        },
        {
          "output_type": "display_data",
          "data": {
            "text/html": [
              "<pre>| 4570         | 2.25355      | 2h 31m       |</pre>"
            ],
            "text/plain": [
              "| 4570         | 2.25355      | 2h 31m       |"
            ]
          },
          "metadata": {
            "tags": []
          }
        },
        {
          "output_type": "display_data",
          "data": {
            "text/html": [
              "<pre>| 4575         | 2.21985      | 2h 32m       |</pre>"
            ],
            "text/plain": [
              "| 4575         | 2.21985      | 2h 32m       |"
            ]
          },
          "metadata": {
            "tags": []
          }
        },
        {
          "output_type": "display_data",
          "data": {
            "text/html": [
              "<pre>| 4580         | 2.12554      | 2h 32m       |</pre>"
            ],
            "text/plain": [
              "| 4580         | 2.12554      | 2h 32m       |"
            ]
          },
          "metadata": {
            "tags": []
          }
        },
        {
          "output_type": "display_data",
          "data": {
            "text/html": [
              "<pre>| 4585         | 2.18064      | 2h 32m       |</pre>"
            ],
            "text/plain": [
              "| 4585         | 2.18064      | 2h 32m       |"
            ]
          },
          "metadata": {
            "tags": []
          }
        },
        {
          "output_type": "display_data",
          "data": {
            "text/html": [
              "<pre>| 4590         | 2.10457      | 2h 32m       |</pre>"
            ],
            "text/plain": [
              "| 4590         | 2.10457      | 2h 32m       |"
            ]
          },
          "metadata": {
            "tags": []
          }
        },
        {
          "output_type": "display_data",
          "data": {
            "text/html": [
              "<pre>| 4595         | 2.14045      | 2h 32m       |</pre>"
            ],
            "text/plain": [
              "| 4595         | 2.14045      | 2h 32m       |"
            ]
          },
          "metadata": {
            "tags": []
          }
        },
        {
          "output_type": "display_data",
          "data": {
            "text/html": [
              "<pre>| 4600         | 2.19928      | 2h 32m       |</pre>"
            ],
            "text/plain": [
              "| 4600         | 2.19928      | 2h 32m       |"
            ]
          },
          "metadata": {
            "tags": []
          }
        },
        {
          "output_type": "display_data",
          "data": {
            "text/html": [
              "<pre>| 4605         | 2.23485      | 2h 33m       |</pre>"
            ],
            "text/plain": [
              "| 4605         | 2.23485      | 2h 33m       |"
            ]
          },
          "metadata": {
            "tags": []
          }
        },
        {
          "output_type": "display_data",
          "data": {
            "text/html": [
              "<pre>| 4610         | 2.25578      | 2h 33m       |</pre>"
            ],
            "text/plain": [
              "| 4610         | 2.25578      | 2h 33m       |"
            ]
          },
          "metadata": {
            "tags": []
          }
        },
        {
          "output_type": "display_data",
          "data": {
            "text/html": [
              "<pre>| 4615         | 2.15568      | 2h 33m       |</pre>"
            ],
            "text/plain": [
              "| 4615         | 2.15568      | 2h 33m       |"
            ]
          },
          "metadata": {
            "tags": []
          }
        },
        {
          "output_type": "display_data",
          "data": {
            "text/html": [
              "<pre>| 4620         | 2.1639       | 2h 33m       |</pre>"
            ],
            "text/plain": [
              "| 4620         | 2.1639       | 2h 33m       |"
            ]
          },
          "metadata": {
            "tags": []
          }
        },
        {
          "output_type": "display_data",
          "data": {
            "text/html": [
              "<pre>| 4625         | 2.13678      | 2h 33m       |</pre>"
            ],
            "text/plain": [
              "| 4625         | 2.13678      | 2h 33m       |"
            ]
          },
          "metadata": {
            "tags": []
          }
        },
        {
          "output_type": "display_data",
          "data": {
            "text/html": [
              "<pre>| 4630         | 2.19826      | 2h 33m       |</pre>"
            ],
            "text/plain": [
              "| 4630         | 2.19826      | 2h 33m       |"
            ]
          },
          "metadata": {
            "tags": []
          }
        },
        {
          "output_type": "display_data",
          "data": {
            "text/html": [
              "<pre>| 4635         | 2.1868       | 2h 34m       |</pre>"
            ],
            "text/plain": [
              "| 4635         | 2.1868       | 2h 34m       |"
            ]
          },
          "metadata": {
            "tags": []
          }
        },
        {
          "output_type": "display_data",
          "data": {
            "text/html": [
              "<pre>| 4640         | 2.21322      | 2h 34m       |</pre>"
            ],
            "text/plain": [
              "| 4640         | 2.21322      | 2h 34m       |"
            ]
          },
          "metadata": {
            "tags": []
          }
        },
        {
          "output_type": "display_data",
          "data": {
            "text/html": [
              "<pre>| 4645         | 2.19398      | 2h 34m       |</pre>"
            ],
            "text/plain": [
              "| 4645         | 2.19398      | 2h 34m       |"
            ]
          },
          "metadata": {
            "tags": []
          }
        },
        {
          "output_type": "display_data",
          "data": {
            "text/html": [
              "<pre>| 4650         | 2.19396      | 2h 34m       |</pre>"
            ],
            "text/plain": [
              "| 4650         | 2.19396      | 2h 34m       |"
            ]
          },
          "metadata": {
            "tags": []
          }
        },
        {
          "output_type": "display_data",
          "data": {
            "text/html": [
              "<pre>| 4655         | 2.17491      | 2h 34m       |</pre>"
            ],
            "text/plain": [
              "| 4655         | 2.17491      | 2h 34m       |"
            ]
          },
          "metadata": {
            "tags": []
          }
        },
        {
          "output_type": "display_data",
          "data": {
            "text/html": [
              "<pre>| 4660         | 2.18649      | 2h 34m       |</pre>"
            ],
            "text/plain": [
              "| 4660         | 2.18649      | 2h 34m       |"
            ]
          },
          "metadata": {
            "tags": []
          }
        },
        {
          "output_type": "display_data",
          "data": {
            "text/html": [
              "<pre>| 4665         | 2.09647      | 2h 35m       |</pre>"
            ],
            "text/plain": [
              "| 4665         | 2.09647      | 2h 35m       |"
            ]
          },
          "metadata": {
            "tags": []
          }
        },
        {
          "output_type": "display_data",
          "data": {
            "text/html": [
              "<pre>| 4670         | 2.11472      | 2h 35m       |</pre>"
            ],
            "text/plain": [
              "| 4670         | 2.11472      | 2h 35m       |"
            ]
          },
          "metadata": {
            "tags": []
          }
        },
        {
          "output_type": "display_data",
          "data": {
            "text/html": [
              "<pre>| 4675         | 2.12009      | 2h 35m       |</pre>"
            ],
            "text/plain": [
              "| 4675         | 2.12009      | 2h 35m       |"
            ]
          },
          "metadata": {
            "tags": []
          }
        },
        {
          "output_type": "display_data",
          "data": {
            "text/html": [
              "<pre>| 4680         | 2.08805      | 2h 35m       |</pre>"
            ],
            "text/plain": [
              "| 4680         | 2.08805      | 2h 35m       |"
            ]
          },
          "metadata": {
            "tags": []
          }
        },
        {
          "output_type": "display_data",
          "data": {
            "text/html": [
              "<pre>| 4685         | 2.14026      | 2h 35m       |</pre>"
            ],
            "text/plain": [
              "| 4685         | 2.14026      | 2h 35m       |"
            ]
          },
          "metadata": {
            "tags": []
          }
        },
        {
          "output_type": "display_data",
          "data": {
            "text/html": [
              "<pre>| 4690         | 2.15251      | 2h 35m       |</pre>"
            ],
            "text/plain": [
              "| 4690         | 2.15251      | 2h 35m       |"
            ]
          },
          "metadata": {
            "tags": []
          }
        },
        {
          "output_type": "display_data",
          "data": {
            "text/html": [
              "<pre>| 4695         | 2.12529      | 2h 36m       |</pre>"
            ],
            "text/plain": [
              "| 4695         | 2.12529      | 2h 36m       |"
            ]
          },
          "metadata": {
            "tags": []
          }
        },
        {
          "output_type": "display_data",
          "data": {
            "text/html": [
              "<pre>| 4700         | 2.25503      | 2h 36m       |</pre>"
            ],
            "text/plain": [
              "| 4700         | 2.25503      | 2h 36m       |"
            ]
          },
          "metadata": {
            "tags": []
          }
        },
        {
          "output_type": "display_data",
          "data": {
            "text/html": [
              "<pre>| 4705         | 2.25922      | 2h 36m       |</pre>"
            ],
            "text/plain": [
              "| 4705         | 2.25922      | 2h 36m       |"
            ]
          },
          "metadata": {
            "tags": []
          }
        },
        {
          "output_type": "display_data",
          "data": {
            "text/html": [
              "<pre>| 4710         | 2.23675      | 2h 36m       |</pre>"
            ],
            "text/plain": [
              "| 4710         | 2.23675      | 2h 36m       |"
            ]
          },
          "metadata": {
            "tags": []
          }
        },
        {
          "output_type": "display_data",
          "data": {
            "text/html": [
              "<pre>| 4715         | 2.17784      | 2h 36m       |</pre>"
            ],
            "text/plain": [
              "| 4715         | 2.17784      | 2h 36m       |"
            ]
          },
          "metadata": {
            "tags": []
          }
        },
        {
          "output_type": "display_data",
          "data": {
            "text/html": [
              "<pre>| 4720         | 2.21069      | 2h 36m       |</pre>"
            ],
            "text/plain": [
              "| 4720         | 2.21069      | 2h 36m       |"
            ]
          },
          "metadata": {
            "tags": []
          }
        },
        {
          "output_type": "display_data",
          "data": {
            "text/html": [
              "<pre>| 4725         | 2.12223      | 2h 37m       |</pre>"
            ],
            "text/plain": [
              "| 4725         | 2.12223      | 2h 37m       |"
            ]
          },
          "metadata": {
            "tags": []
          }
        },
        {
          "output_type": "display_data",
          "data": {
            "text/html": [
              "<pre>| 4730         | 2.05516      | 2h 37m       |</pre>"
            ],
            "text/plain": [
              "| 4730         | 2.05516      | 2h 37m       |"
            ]
          },
          "metadata": {
            "tags": []
          }
        },
        {
          "output_type": "display_data",
          "data": {
            "text/html": [
              "<pre>| 4735         | 2.1191       | 2h 37m       |</pre>"
            ],
            "text/plain": [
              "| 4735         | 2.1191       | 2h 37m       |"
            ]
          },
          "metadata": {
            "tags": []
          }
        },
        {
          "output_type": "display_data",
          "data": {
            "text/html": [
              "<pre>| 4740         | 2.15918      | 2h 37m       |</pre>"
            ],
            "text/plain": [
              "| 4740         | 2.15918      | 2h 37m       |"
            ]
          },
          "metadata": {
            "tags": []
          }
        },
        {
          "output_type": "display_data",
          "data": {
            "text/html": [
              "<pre>| 4745         | 2.11463      | 2h 37m       |</pre>"
            ],
            "text/plain": [
              "| 4745         | 2.11463      | 2h 37m       |"
            ]
          },
          "metadata": {
            "tags": []
          }
        },
        {
          "output_type": "display_data",
          "data": {
            "text/html": [
              "<pre>| 4750         | 2.195        | 2h 37m       |</pre>"
            ],
            "text/plain": [
              "| 4750         | 2.195        | 2h 37m       |"
            ]
          },
          "metadata": {
            "tags": []
          }
        },
        {
          "output_type": "display_data",
          "data": {
            "text/html": [
              "<pre>| 4755         | 2.21613      | 2h 38m       |</pre>"
            ],
            "text/plain": [
              "| 4755         | 2.21613      | 2h 38m       |"
            ]
          },
          "metadata": {
            "tags": []
          }
        },
        {
          "output_type": "display_data",
          "data": {
            "text/html": [
              "<pre>| 4760         | 2.21282      | 2h 38m       |</pre>"
            ],
            "text/plain": [
              "| 4760         | 2.21282      | 2h 38m       |"
            ]
          },
          "metadata": {
            "tags": []
          }
        },
        {
          "output_type": "display_data",
          "data": {
            "text/html": [
              "<pre>| 4765         | 2.29354      | 2h 38m       |</pre>"
            ],
            "text/plain": [
              "| 4765         | 2.29354      | 2h 38m       |"
            ]
          },
          "metadata": {
            "tags": []
          }
        },
        {
          "output_type": "display_data",
          "data": {
            "text/html": [
              "<pre>| 4770         | 2.31492      | 2h 38m       |</pre>"
            ],
            "text/plain": [
              "| 4770         | 2.31492      | 2h 38m       |"
            ]
          },
          "metadata": {
            "tags": []
          }
        },
        {
          "output_type": "display_data",
          "data": {
            "text/html": [
              "<pre>| 4775         | 2.20856      | 2h 38m       |</pre>"
            ],
            "text/plain": [
              "| 4775         | 2.20856      | 2h 38m       |"
            ]
          },
          "metadata": {
            "tags": []
          }
        },
        {
          "output_type": "display_data",
          "data": {
            "text/html": [
              "<pre>| 4780         | 2.1862       | 2h 38m       |</pre>"
            ],
            "text/plain": [
              "| 4780         | 2.1862       | 2h 38m       |"
            ]
          },
          "metadata": {
            "tags": []
          }
        },
        {
          "output_type": "display_data",
          "data": {
            "text/html": [
              "<pre>| 4785         | 2.09415      | 2h 38m       |</pre>"
            ],
            "text/plain": [
              "| 4785         | 2.09415      | 2h 38m       |"
            ]
          },
          "metadata": {
            "tags": []
          }
        },
        {
          "output_type": "display_data",
          "data": {
            "text/html": [
              "<pre>| 4790         | 2.19011      | 2h 39m       |</pre>"
            ],
            "text/plain": [
              "| 4790         | 2.19011      | 2h 39m       |"
            ]
          },
          "metadata": {
            "tags": []
          }
        },
        {
          "output_type": "display_data",
          "data": {
            "text/html": [
              "<pre>| 4795         | 2.16184      | 2h 39m       |</pre>"
            ],
            "text/plain": [
              "| 4795         | 2.16184      | 2h 39m       |"
            ]
          },
          "metadata": {
            "tags": []
          }
        },
        {
          "output_type": "display_data",
          "data": {
            "text/html": [
              "<pre>| 4800         | 2.21291      | 2h 39m       |</pre>"
            ],
            "text/plain": [
              "| 4800         | 2.21291      | 2h 39m       |"
            ]
          },
          "metadata": {
            "tags": []
          }
        },
        {
          "output_type": "display_data",
          "data": {
            "text/html": [
              "<pre>| 4805         | 2.18611      | 2h 39m       |</pre>"
            ],
            "text/plain": [
              "| 4805         | 2.18611      | 2h 39m       |"
            ]
          },
          "metadata": {
            "tags": []
          }
        },
        {
          "output_type": "display_data",
          "data": {
            "text/html": [
              "<pre>| 4810         | 2.16548      | 2h 39m       |</pre>"
            ],
            "text/plain": [
              "| 4810         | 2.16548      | 2h 39m       |"
            ]
          },
          "metadata": {
            "tags": []
          }
        },
        {
          "output_type": "display_data",
          "data": {
            "text/html": [
              "<pre>| 4815         | 2.18618      | 2h 39m       |</pre>"
            ],
            "text/plain": [
              "| 4815         | 2.18618      | 2h 39m       |"
            ]
          },
          "metadata": {
            "tags": []
          }
        },
        {
          "output_type": "display_data",
          "data": {
            "text/html": [
              "<pre>| 4820         | 2.28388      | 2h 40m       |</pre>"
            ],
            "text/plain": [
              "| 4820         | 2.28388      | 2h 40m       |"
            ]
          },
          "metadata": {
            "tags": []
          }
        },
        {
          "output_type": "display_data",
          "data": {
            "text/html": [
              "<pre>| 4825         | 2.1441       | 2h 40m       |</pre>"
            ],
            "text/plain": [
              "| 4825         | 2.1441       | 2h 40m       |"
            ]
          },
          "metadata": {
            "tags": []
          }
        },
        {
          "output_type": "display_data",
          "data": {
            "text/html": [
              "<pre>| 4830         | 2.17655      | 2h 40m       |</pre>"
            ],
            "text/plain": [
              "| 4830         | 2.17655      | 2h 40m       |"
            ]
          },
          "metadata": {
            "tags": []
          }
        },
        {
          "output_type": "display_data",
          "data": {
            "text/html": [
              "<pre>| 4835         | 2.14133      | 2h 40m       |</pre>"
            ],
            "text/plain": [
              "| 4835         | 2.14133      | 2h 40m       |"
            ]
          },
          "metadata": {
            "tags": []
          }
        },
        {
          "output_type": "display_data",
          "data": {
            "text/html": [
              "<pre>| 4840         | 2.11617      | 2h 40m       |</pre>"
            ],
            "text/plain": [
              "| 4840         | 2.11617      | 2h 40m       |"
            ]
          },
          "metadata": {
            "tags": []
          }
        },
        {
          "output_type": "display_data",
          "data": {
            "text/html": [
              "<pre>| 4845         | 2.12078      | 2h 40m       |</pre>"
            ],
            "text/plain": [
              "| 4845         | 2.12078      | 2h 40m       |"
            ]
          },
          "metadata": {
            "tags": []
          }
        },
        {
          "output_type": "display_data",
          "data": {
            "text/html": [
              "<pre>| 4850         | 2.17821      | 2h 41m       |</pre>"
            ],
            "text/plain": [
              "| 4850         | 2.17821      | 2h 41m       |"
            ]
          },
          "metadata": {
            "tags": []
          }
        },
        {
          "output_type": "display_data",
          "data": {
            "text/html": [
              "<pre>| 4855         | 2.23871      | 2h 41m       |</pre>"
            ],
            "text/plain": [
              "| 4855         | 2.23871      | 2h 41m       |"
            ]
          },
          "metadata": {
            "tags": []
          }
        },
        {
          "output_type": "display_data",
          "data": {
            "text/html": [
              "<pre>| 4860         | 2.2489       | 2h 41m       |</pre>"
            ],
            "text/plain": [
              "| 4860         | 2.2489       | 2h 41m       |"
            ]
          },
          "metadata": {
            "tags": []
          }
        },
        {
          "output_type": "display_data",
          "data": {
            "text/html": [
              "<pre>| 4865         | 2.22225      | 2h 41m       |</pre>"
            ],
            "text/plain": [
              "| 4865         | 2.22225      | 2h 41m       |"
            ]
          },
          "metadata": {
            "tags": []
          }
        },
        {
          "output_type": "display_data",
          "data": {
            "text/html": [
              "<pre>| 4870         | 2.18566      | 2h 41m       |</pre>"
            ],
            "text/plain": [
              "| 4870         | 2.18566      | 2h 41m       |"
            ]
          },
          "metadata": {
            "tags": []
          }
        },
        {
          "output_type": "display_data",
          "data": {
            "text/html": [
              "<pre>| 4875         | 2.23517      | 2h 41m       |</pre>"
            ],
            "text/plain": [
              "| 4875         | 2.23517      | 2h 41m       |"
            ]
          },
          "metadata": {
            "tags": []
          }
        },
        {
          "output_type": "display_data",
          "data": {
            "text/html": [
              "<pre>| 4880         | 2.1719       | 2h 42m       |</pre>"
            ],
            "text/plain": [
              "| 4880         | 2.1719       | 2h 42m       |"
            ]
          },
          "metadata": {
            "tags": []
          }
        },
        {
          "output_type": "display_data",
          "data": {
            "text/html": [
              "<pre>| 4885         | 2.21478      | 2h 42m       |</pre>"
            ],
            "text/plain": [
              "| 4885         | 2.21478      | 2h 42m       |"
            ]
          },
          "metadata": {
            "tags": []
          }
        },
        {
          "output_type": "display_data",
          "data": {
            "text/html": [
              "<pre>| 4890         | 2.13993      | 2h 42m       |</pre>"
            ],
            "text/plain": [
              "| 4890         | 2.13993      | 2h 42m       |"
            ]
          },
          "metadata": {
            "tags": []
          }
        },
        {
          "output_type": "display_data",
          "data": {
            "text/html": [
              "<pre>| 4895         | 2.22328      | 2h 42m       |</pre>"
            ],
            "text/plain": [
              "| 4895         | 2.22328      | 2h 42m       |"
            ]
          },
          "metadata": {
            "tags": []
          }
        },
        {
          "output_type": "display_data",
          "data": {
            "text/html": [
              "<pre>| 4900         | 2.19113      | 2h 42m       |</pre>"
            ],
            "text/plain": [
              "| 4900         | 2.19113      | 2h 42m       |"
            ]
          },
          "metadata": {
            "tags": []
          }
        },
        {
          "output_type": "display_data",
          "data": {
            "text/html": [
              "<pre>| 4905         | 2.20125      | 2h 42m       |</pre>"
            ],
            "text/plain": [
              "| 4905         | 2.20125      | 2h 42m       |"
            ]
          },
          "metadata": {
            "tags": []
          }
        },
        {
          "output_type": "display_data",
          "data": {
            "text/html": [
              "<pre>| 4910         | 2.25967      | 2h 43m       |</pre>"
            ],
            "text/plain": [
              "| 4910         | 2.25967      | 2h 43m       |"
            ]
          },
          "metadata": {
            "tags": []
          }
        },
        {
          "output_type": "display_data",
          "data": {
            "text/html": [
              "<pre>| 4915         | 2.13183      | 2h 43m       |</pre>"
            ],
            "text/plain": [
              "| 4915         | 2.13183      | 2h 43m       |"
            ]
          },
          "metadata": {
            "tags": []
          }
        },
        {
          "output_type": "display_data",
          "data": {
            "text/html": [
              "<pre>| 4920         | 2.12096      | 2h 43m       |</pre>"
            ],
            "text/plain": [
              "| 4920         | 2.12096      | 2h 43m       |"
            ]
          },
          "metadata": {
            "tags": []
          }
        },
        {
          "output_type": "display_data",
          "data": {
            "text/html": [
              "<pre>| 4925         | 2.15116      | 2h 43m       |</pre>"
            ],
            "text/plain": [
              "| 4925         | 2.15116      | 2h 43m       |"
            ]
          },
          "metadata": {
            "tags": []
          }
        },
        {
          "output_type": "display_data",
          "data": {
            "text/html": [
              "<pre>| 4930         | 2.09085      | 2h 43m       |</pre>"
            ],
            "text/plain": [
              "| 4930         | 2.09085      | 2h 43m       |"
            ]
          },
          "metadata": {
            "tags": []
          }
        },
        {
          "output_type": "display_data",
          "data": {
            "text/html": [
              "<pre>| 4935         | 2.14625      | 2h 43m       |</pre>"
            ],
            "text/plain": [
              "| 4935         | 2.14625      | 2h 43m       |"
            ]
          },
          "metadata": {
            "tags": []
          }
        },
        {
          "output_type": "display_data",
          "data": {
            "text/html": [
              "<pre>| 4940         | 2.15313      | 2h 44m       |</pre>"
            ],
            "text/plain": [
              "| 4940         | 2.15313      | 2h 44m       |"
            ]
          },
          "metadata": {
            "tags": []
          }
        },
        {
          "output_type": "display_data",
          "data": {
            "text/html": [
              "<pre>| 4945         | 2.14626      | 2h 44m       |</pre>"
            ],
            "text/plain": [
              "| 4945         | 2.14626      | 2h 44m       |"
            ]
          },
          "metadata": {
            "tags": []
          }
        },
        {
          "output_type": "display_data",
          "data": {
            "text/html": [
              "<pre>| 4950         | 2.04463      | 2h 44m       |</pre>"
            ],
            "text/plain": [
              "| 4950         | 2.04463      | 2h 44m       |"
            ]
          },
          "metadata": {
            "tags": []
          }
        },
        {
          "output_type": "display_data",
          "data": {
            "text/html": [
              "<pre>| 4955         | 1.99674      | 2h 44m       |</pre>"
            ],
            "text/plain": [
              "| 4955         | 1.99674      | 2h 44m       |"
            ]
          },
          "metadata": {
            "tags": []
          }
        },
        {
          "output_type": "display_data",
          "data": {
            "text/html": [
              "<pre>| 4960         | 2.01022      | 2h 44m       |</pre>"
            ],
            "text/plain": [
              "| 4960         | 2.01022      | 2h 44m       |"
            ]
          },
          "metadata": {
            "tags": []
          }
        },
        {
          "output_type": "display_data",
          "data": {
            "text/html": [
              "<pre>| 4965         | 2.05804      | 2h 44m       |</pre>"
            ],
            "text/plain": [
              "| 4965         | 2.05804      | 2h 44m       |"
            ]
          },
          "metadata": {
            "tags": []
          }
        },
        {
          "output_type": "display_data",
          "data": {
            "text/html": [
              "<pre>| 4970         | 2.07992      | 2h 45m       |</pre>"
            ],
            "text/plain": [
              "| 4970         | 2.07992      | 2h 45m       |"
            ]
          },
          "metadata": {
            "tags": []
          }
        },
        {
          "output_type": "display_data",
          "data": {
            "text/html": [
              "<pre>| 4975         | 2.11064      | 2h 45m       |</pre>"
            ],
            "text/plain": [
              "| 4975         | 2.11064      | 2h 45m       |"
            ]
          },
          "metadata": {
            "tags": []
          }
        },
        {
          "output_type": "display_data",
          "data": {
            "text/html": [
              "<pre>| 4980         | 2.15582      | 2h 45m       |</pre>"
            ],
            "text/plain": [
              "| 4980         | 2.15582      | 2h 45m       |"
            ]
          },
          "metadata": {
            "tags": []
          }
        },
        {
          "output_type": "display_data",
          "data": {
            "text/html": [
              "<pre>| 4985         | 2.18418      | 2h 45m       |</pre>"
            ],
            "text/plain": [
              "| 4985         | 2.18418      | 2h 45m       |"
            ]
          },
          "metadata": {
            "tags": []
          }
        },
        {
          "output_type": "display_data",
          "data": {
            "text/html": [
              "<pre>| 4990         | 2.16668      | 2h 45m       |</pre>"
            ],
            "text/plain": [
              "| 4990         | 2.16668      | 2h 45m       |"
            ]
          },
          "metadata": {
            "tags": []
          }
        },
        {
          "output_type": "display_data",
          "data": {
            "text/html": [
              "<pre>| 4995         | 2.11804      | 2h 45m       |</pre>"
            ],
            "text/plain": [
              "| 4995         | 2.11804      | 2h 45m       |"
            ]
          },
          "metadata": {
            "tags": []
          }
        },
        {
          "output_type": "display_data",
          "data": {
            "text/html": [
              "<pre>| 5000         | 2.03565      | 2h 46m       |</pre>"
            ],
            "text/plain": [
              "| 5000         | 2.03565      | 2h 46m       |"
            ]
          },
          "metadata": {
            "tags": []
          }
        },
        {
          "output_type": "display_data",
          "data": {
            "text/html": [
              "<pre>| 5005         | 2.11694      | 2h 46m       |</pre>"
            ],
            "text/plain": [
              "| 5005         | 2.11694      | 2h 46m       |"
            ]
          },
          "metadata": {
            "tags": []
          }
        },
        {
          "output_type": "display_data",
          "data": {
            "text/html": [
              "<pre>| 5010         | 2.09855      | 2h 46m       |</pre>"
            ],
            "text/plain": [
              "| 5010         | 2.09855      | 2h 46m       |"
            ]
          },
          "metadata": {
            "tags": []
          }
        },
        {
          "output_type": "display_data",
          "data": {
            "text/html": [
              "<pre>| 5015         | 2.08952      | 2h 46m       |</pre>"
            ],
            "text/plain": [
              "| 5015         | 2.08952      | 2h 46m       |"
            ]
          },
          "metadata": {
            "tags": []
          }
        },
        {
          "output_type": "display_data",
          "data": {
            "text/html": [
              "<pre>| 5020         | 2.08905      | 2h 46m       |</pre>"
            ],
            "text/plain": [
              "| 5020         | 2.08905      | 2h 46m       |"
            ]
          },
          "metadata": {
            "tags": []
          }
        },
        {
          "output_type": "display_data",
          "data": {
            "text/html": [
              "<pre>| 5025         | 2.12772      | 2h 46m       |</pre>"
            ],
            "text/plain": [
              "| 5025         | 2.12772      | 2h 46m       |"
            ]
          },
          "metadata": {
            "tags": []
          }
        },
        {
          "output_type": "display_data",
          "data": {
            "text/html": [
              "<pre>| 5030         | 2.07999      | 2h 47m       |</pre>"
            ],
            "text/plain": [
              "| 5030         | 2.07999      | 2h 47m       |"
            ]
          },
          "metadata": {
            "tags": []
          }
        },
        {
          "output_type": "display_data",
          "data": {
            "text/html": [
              "<pre>| 5035         | 1.93793      | 2h 47m       |</pre>"
            ],
            "text/plain": [
              "| 5035         | 1.93793      | 2h 47m       |"
            ]
          },
          "metadata": {
            "tags": []
          }
        },
        {
          "output_type": "display_data",
          "data": {
            "text/html": [
              "<pre>| 5040         | 1.99407      | 2h 47m       |</pre>"
            ],
            "text/plain": [
              "| 5040         | 1.99407      | 2h 47m       |"
            ]
          },
          "metadata": {
            "tags": []
          }
        },
        {
          "output_type": "display_data",
          "data": {
            "text/html": [
              "<pre>| 5045         | 1.94122      | 2h 47m       |</pre>"
            ],
            "text/plain": [
              "| 5045         | 1.94122      | 2h 47m       |"
            ]
          },
          "metadata": {
            "tags": []
          }
        },
        {
          "output_type": "display_data",
          "data": {
            "text/html": [
              "<pre>| 5050         | 1.92933      | 2h 47m       |</pre>"
            ],
            "text/plain": [
              "| 5050         | 1.92933      | 2h 47m       |"
            ]
          },
          "metadata": {
            "tags": []
          }
        },
        {
          "output_type": "display_data",
          "data": {
            "text/html": [
              "<pre>| 5055         | 1.88776      | 2h 47m       |</pre>"
            ],
            "text/plain": [
              "| 5055         | 1.88776      | 2h 47m       |"
            ]
          },
          "metadata": {
            "tags": []
          }
        },
        {
          "output_type": "display_data",
          "data": {
            "text/html": [
              "<pre>| 5060         | 1.89345      | 2h 48m       |</pre>"
            ],
            "text/plain": [
              "| 5060         | 1.89345      | 2h 48m       |"
            ]
          },
          "metadata": {
            "tags": []
          }
        },
        {
          "output_type": "display_data",
          "data": {
            "text/html": [
              "<pre>| 5065         | 1.96964      | 2h 48m       |</pre>"
            ],
            "text/plain": [
              "| 5065         | 1.96964      | 2h 48m       |"
            ]
          },
          "metadata": {
            "tags": []
          }
        },
        {
          "output_type": "display_data",
          "data": {
            "text/html": [
              "<pre>| 5070         | 1.97928      | 2h 48m       |</pre>"
            ],
            "text/plain": [
              "| 5070         | 1.97928      | 2h 48m       |"
            ]
          },
          "metadata": {
            "tags": []
          }
        },
        {
          "output_type": "display_data",
          "data": {
            "text/html": [
              "<pre>| 5075         | 1.9409       | 2h 48m       |</pre>"
            ],
            "text/plain": [
              "| 5075         | 1.9409       | 2h 48m       |"
            ]
          },
          "metadata": {
            "tags": []
          }
        },
        {
          "output_type": "display_data",
          "data": {
            "text/html": [
              "<pre>| 5080         | 1.9271       | 2h 48m       |</pre>"
            ],
            "text/plain": [
              "| 5080         | 1.9271       | 2h 48m       |"
            ]
          },
          "metadata": {
            "tags": []
          }
        },
        {
          "output_type": "display_data",
          "data": {
            "text/html": [
              "<pre>| 5085         | 1.88566      | 2h 48m       |</pre>"
            ],
            "text/plain": [
              "| 5085         | 1.88566      | 2h 48m       |"
            ]
          },
          "metadata": {
            "tags": []
          }
        },
        {
          "output_type": "display_data",
          "data": {
            "text/html": [
              "<pre>| 5090         | 1.84639      | 2h 49m       |</pre>"
            ],
            "text/plain": [
              "| 5090         | 1.84639      | 2h 49m       |"
            ]
          },
          "metadata": {
            "tags": []
          }
        },
        {
          "output_type": "display_data",
          "data": {
            "text/html": [
              "<pre>| 5095         | 1.87324      | 2h 49m       |</pre>"
            ],
            "text/plain": [
              "| 5095         | 1.87324      | 2h 49m       |"
            ]
          },
          "metadata": {
            "tags": []
          }
        },
        {
          "output_type": "display_data",
          "data": {
            "text/html": [
              "<pre>| 5100         | 1.88177      | 2h 49m       |</pre>"
            ],
            "text/plain": [
              "| 5100         | 1.88177      | 2h 49m       |"
            ]
          },
          "metadata": {
            "tags": []
          }
        },
        {
          "output_type": "display_data",
          "data": {
            "text/html": [
              "<pre>| 5105         | 1.85579      | 2h 49m       |</pre>"
            ],
            "text/plain": [
              "| 5105         | 1.85579      | 2h 49m       |"
            ]
          },
          "metadata": {
            "tags": []
          }
        },
        {
          "output_type": "display_data",
          "data": {
            "text/html": [
              "<pre>| 5110         | 1.8195       | 2h 49m       |</pre>"
            ],
            "text/plain": [
              "| 5110         | 1.8195       | 2h 49m       |"
            ]
          },
          "metadata": {
            "tags": []
          }
        },
        {
          "output_type": "display_data",
          "data": {
            "text/html": [
              "<pre>| 5115         | 1.81068      | 2h 49m       |</pre>"
            ],
            "text/plain": [
              "| 5115         | 1.81068      | 2h 49m       |"
            ]
          },
          "metadata": {
            "tags": []
          }
        },
        {
          "output_type": "display_data",
          "data": {
            "text/html": [
              "<pre>| 5120         | 1.8594       | 2h 50m       |</pre>"
            ],
            "text/plain": [
              "| 5120         | 1.8594       | 2h 50m       |"
            ]
          },
          "metadata": {
            "tags": []
          }
        },
        {
          "output_type": "display_data",
          "data": {
            "text/html": [
              "<pre>| 5125         | 1.85643      | 2h 50m       |</pre>"
            ],
            "text/plain": [
              "| 5125         | 1.85643      | 2h 50m       |"
            ]
          },
          "metadata": {
            "tags": []
          }
        },
        {
          "output_type": "display_data",
          "data": {
            "text/html": [
              "<pre>| 5130         | 1.8502       | 2h 50m       |</pre>"
            ],
            "text/plain": [
              "| 5130         | 1.8502       | 2h 50m       |"
            ]
          },
          "metadata": {
            "tags": []
          }
        },
        {
          "output_type": "display_data",
          "data": {
            "text/html": [
              "<pre>| 5135         | 1.88234      | 2h 50m       |</pre>"
            ],
            "text/plain": [
              "| 5135         | 1.88234      | 2h 50m       |"
            ]
          },
          "metadata": {
            "tags": []
          }
        },
        {
          "output_type": "display_data",
          "data": {
            "text/html": [
              "<pre>| 5140         | 1.86065      | 2h 50m       |</pre>"
            ],
            "text/plain": [
              "| 5140         | 1.86065      | 2h 50m       |"
            ]
          },
          "metadata": {
            "tags": []
          }
        },
        {
          "output_type": "display_data",
          "data": {
            "text/html": [
              "<pre>| 5145         | 1.86949      | 2h 50m       |</pre>"
            ],
            "text/plain": [
              "| 5145         | 1.86949      | 2h 50m       |"
            ]
          },
          "metadata": {
            "tags": []
          }
        },
        {
          "output_type": "display_data",
          "data": {
            "text/html": [
              "<pre>| 5150         | 1.88996      | 2h 51m       |</pre>"
            ],
            "text/plain": [
              "| 5150         | 1.88996      | 2h 51m       |"
            ]
          },
          "metadata": {
            "tags": []
          }
        },
        {
          "output_type": "display_data",
          "data": {
            "text/html": [
              "<pre>| 5155         | 1.84756      | 2h 51m       |</pre>"
            ],
            "text/plain": [
              "| 5155         | 1.84756      | 2h 51m       |"
            ]
          },
          "metadata": {
            "tags": []
          }
        },
        {
          "output_type": "display_data",
          "data": {
            "text/html": [
              "<pre>| 5160         | 1.89244      | 2h 51m       |</pre>"
            ],
            "text/plain": [
              "| 5160         | 1.89244      | 2h 51m       |"
            ]
          },
          "metadata": {
            "tags": []
          }
        },
        {
          "output_type": "display_data",
          "data": {
            "text/html": [
              "<pre>| 5165         | 1.94434      | 2h 51m       |</pre>"
            ],
            "text/plain": [
              "| 5165         | 1.94434      | 2h 51m       |"
            ]
          },
          "metadata": {
            "tags": []
          }
        },
        {
          "output_type": "display_data",
          "data": {
            "text/html": [
              "<pre>| 5170         | 1.92085      | 2h 51m       |</pre>"
            ],
            "text/plain": [
              "| 5170         | 1.92085      | 2h 51m       |"
            ]
          },
          "metadata": {
            "tags": []
          }
        },
        {
          "output_type": "display_data",
          "data": {
            "text/html": [
              "<pre>| 5175         | 1.87768      | 2h 51m       |</pre>"
            ],
            "text/plain": [
              "| 5175         | 1.87768      | 2h 51m       |"
            ]
          },
          "metadata": {
            "tags": []
          }
        },
        {
          "output_type": "display_data",
          "data": {
            "text/html": [
              "<pre>| 5180         | 1.88609      | 2h 52m       |</pre>"
            ],
            "text/plain": [
              "| 5180         | 1.88609      | 2h 52m       |"
            ]
          },
          "metadata": {
            "tags": []
          }
        },
        {
          "output_type": "display_data",
          "data": {
            "text/html": [
              "<pre>| 5185         | 1.89364      | 2h 52m       |</pre>"
            ],
            "text/plain": [
              "| 5185         | 1.89364      | 2h 52m       |"
            ]
          },
          "metadata": {
            "tags": []
          }
        },
        {
          "output_type": "display_data",
          "data": {
            "text/html": [
              "<pre>| 5190         | 1.84874      | 2h 52m       |</pre>"
            ],
            "text/plain": [
              "| 5190         | 1.84874      | 2h 52m       |"
            ]
          },
          "metadata": {
            "tags": []
          }
        },
        {
          "output_type": "display_data",
          "data": {
            "text/html": [
              "<pre>| 5195         | 1.93926      | 2h 52m       |</pre>"
            ],
            "text/plain": [
              "| 5195         | 1.93926      | 2h 52m       |"
            ]
          },
          "metadata": {
            "tags": []
          }
        },
        {
          "output_type": "display_data",
          "data": {
            "text/html": [
              "<pre>| 5200         | 1.85151      | 2h 52m       |</pre>"
            ],
            "text/plain": [
              "| 5200         | 1.85151      | 2h 52m       |"
            ]
          },
          "metadata": {
            "tags": []
          }
        },
        {
          "output_type": "display_data",
          "data": {
            "text/html": [
              "<pre>| 5205         | 1.80224      | 2h 52m       |</pre>"
            ],
            "text/plain": [
              "| 5205         | 1.80224      | 2h 52m       |"
            ]
          },
          "metadata": {
            "tags": []
          }
        },
        {
          "output_type": "display_data",
          "data": {
            "text/html": [
              "<pre>| 5210         | 1.85287      | 2h 53m       |</pre>"
            ],
            "text/plain": [
              "| 5210         | 1.85287      | 2h 53m       |"
            ]
          },
          "metadata": {
            "tags": []
          }
        },
        {
          "output_type": "display_data",
          "data": {
            "text/html": [
              "<pre>| 5215         | 1.90598      | 2h 53m       |</pre>"
            ],
            "text/plain": [
              "| 5215         | 1.90598      | 2h 53m       |"
            ]
          },
          "metadata": {
            "tags": []
          }
        },
        {
          "output_type": "display_data",
          "data": {
            "text/html": [
              "<pre>| 5220         | 1.85669      | 2h 53m       |</pre>"
            ],
            "text/plain": [
              "| 5220         | 1.85669      | 2h 53m       |"
            ]
          },
          "metadata": {
            "tags": []
          }
        },
        {
          "output_type": "display_data",
          "data": {
            "text/html": [
              "<pre>| 5225         | 1.83958      | 2h 53m       |</pre>"
            ],
            "text/plain": [
              "| 5225         | 1.83958      | 2h 53m       |"
            ]
          },
          "metadata": {
            "tags": []
          }
        },
        {
          "output_type": "display_data",
          "data": {
            "text/html": [
              "<pre>| 5230         | 1.82567      | 2h 53m       |</pre>"
            ],
            "text/plain": [
              "| 5230         | 1.82567      | 2h 53m       |"
            ]
          },
          "metadata": {
            "tags": []
          }
        },
        {
          "output_type": "display_data",
          "data": {
            "text/html": [
              "<pre>| 5235         | 1.88052      | 2h 53m       |</pre>"
            ],
            "text/plain": [
              "| 5235         | 1.88052      | 2h 53m       |"
            ]
          },
          "metadata": {
            "tags": []
          }
        },
        {
          "output_type": "display_data",
          "data": {
            "text/html": [
              "<pre>| 5240         | 1.82817      | 2h 54m       |</pre>"
            ],
            "text/plain": [
              "| 5240         | 1.82817      | 2h 54m       |"
            ]
          },
          "metadata": {
            "tags": []
          }
        },
        {
          "output_type": "display_data",
          "data": {
            "text/html": [
              "<pre>| 5245         | 1.87933      | 2h 54m       |</pre>"
            ],
            "text/plain": [
              "| 5245         | 1.87933      | 2h 54m       |"
            ]
          },
          "metadata": {
            "tags": []
          }
        },
        {
          "output_type": "display_data",
          "data": {
            "text/html": [
              "<pre>| 5250         | 1.88746      | 2h 54m       |</pre>"
            ],
            "text/plain": [
              "| 5250         | 1.88746      | 2h 54m       |"
            ]
          },
          "metadata": {
            "tags": []
          }
        },
        {
          "output_type": "display_data",
          "data": {
            "text/html": [
              "<pre>| 5255         | 1.88654      | 2h 54m       |</pre>"
            ],
            "text/plain": [
              "| 5255         | 1.88654      | 2h 54m       |"
            ]
          },
          "metadata": {
            "tags": []
          }
        },
        {
          "output_type": "display_data",
          "data": {
            "text/html": [
              "<pre>| 5260         | 1.82686      | 2h 54m       |</pre>"
            ],
            "text/plain": [
              "| 5260         | 1.82686      | 2h 54m       |"
            ]
          },
          "metadata": {
            "tags": []
          }
        },
        {
          "output_type": "display_data",
          "data": {
            "text/html": [
              "<pre>| 5265         | 1.84678      | 2h 54m       |</pre>"
            ],
            "text/plain": [
              "| 5265         | 1.84678      | 2h 54m       |"
            ]
          },
          "metadata": {
            "tags": []
          }
        },
        {
          "output_type": "display_data",
          "data": {
            "text/html": [
              "<pre>| 5270         | 1.93857      | 2h 55m       |</pre>"
            ],
            "text/plain": [
              "| 5270         | 1.93857      | 2h 55m       |"
            ]
          },
          "metadata": {
            "tags": []
          }
        },
        {
          "output_type": "display_data",
          "data": {
            "text/html": [
              "<pre>| 5275         | 1.96142      | 2h 55m       |</pre>"
            ],
            "text/plain": [
              "| 5275         | 1.96142      | 2h 55m       |"
            ]
          },
          "metadata": {
            "tags": []
          }
        },
        {
          "output_type": "display_data",
          "data": {
            "text/html": [
              "<pre>| 5280         | 1.96293      | 2h 55m       |</pre>"
            ],
            "text/plain": [
              "| 5280         | 1.96293      | 2h 55m       |"
            ]
          },
          "metadata": {
            "tags": []
          }
        },
        {
          "output_type": "display_data",
          "data": {
            "text/html": [
              "<pre>| 5285         | 1.91056      | 2h 55m       |</pre>"
            ],
            "text/plain": [
              "| 5285         | 1.91056      | 2h 55m       |"
            ]
          },
          "metadata": {
            "tags": []
          }
        },
        {
          "output_type": "display_data",
          "data": {
            "text/html": [
              "<pre>| 5290         | 1.88153      | 2h 55m       |</pre>"
            ],
            "text/plain": [
              "| 5290         | 1.88153      | 2h 55m       |"
            ]
          },
          "metadata": {
            "tags": []
          }
        },
        {
          "output_type": "display_data",
          "data": {
            "text/html": [
              "<pre>| 5295         | 1.86662      | 2h 55m       |</pre>"
            ],
            "text/plain": [
              "| 5295         | 1.86662      | 2h 55m       |"
            ]
          },
          "metadata": {
            "tags": []
          }
        },
        {
          "output_type": "display_data",
          "data": {
            "text/html": [
              "<pre>| 5300         | 1.83557      | 2h 56m       |</pre>"
            ],
            "text/plain": [
              "| 5300         | 1.83557      | 2h 56m       |"
            ]
          },
          "metadata": {
            "tags": []
          }
        },
        {
          "output_type": "display_data",
          "data": {
            "text/html": [
              "<pre>| 5305         | 1.92085      | 2h 56m       |</pre>"
            ],
            "text/plain": [
              "| 5305         | 1.92085      | 2h 56m       |"
            ]
          },
          "metadata": {
            "tags": []
          }
        },
        {
          "output_type": "display_data",
          "data": {
            "text/html": [
              "<pre>| 5310         | 1.90536      | 2h 56m       |</pre>"
            ],
            "text/plain": [
              "| 5310         | 1.90536      | 2h 56m       |"
            ]
          },
          "metadata": {
            "tags": []
          }
        },
        {
          "output_type": "display_data",
          "data": {
            "text/html": [
              "<pre>| 5315         | 1.89593      | 2h 56m       |</pre>"
            ],
            "text/plain": [
              "| 5315         | 1.89593      | 2h 56m       |"
            ]
          },
          "metadata": {
            "tags": []
          }
        },
        {
          "output_type": "display_data",
          "data": {
            "text/html": [
              "<pre>| 5320         | 1.88408      | 2h 56m       |</pre>"
            ],
            "text/plain": [
              "| 5320         | 1.88408      | 2h 56m       |"
            ]
          },
          "metadata": {
            "tags": []
          }
        },
        {
          "output_type": "display_data",
          "data": {
            "text/html": [
              "<pre>| 5325         | 1.86015      | 2h 56m       |</pre>"
            ],
            "text/plain": [
              "| 5325         | 1.86015      | 2h 56m       |"
            ]
          },
          "metadata": {
            "tags": []
          }
        },
        {
          "output_type": "display_data",
          "data": {
            "text/html": [
              "<pre>| 5330         | 1.87905      | 2h 57m       |</pre>"
            ],
            "text/plain": [
              "| 5330         | 1.87905      | 2h 57m       |"
            ]
          },
          "metadata": {
            "tags": []
          }
        },
        {
          "output_type": "display_data",
          "data": {
            "text/html": [
              "<pre>| 5335         | 1.86117      | 2h 57m       |</pre>"
            ],
            "text/plain": [
              "| 5335         | 1.86117      | 2h 57m       |"
            ]
          },
          "metadata": {
            "tags": []
          }
        },
        {
          "output_type": "display_data",
          "data": {
            "text/html": [
              "<pre>| 5340         | 1.89044      | 2h 57m       |</pre>"
            ],
            "text/plain": [
              "| 5340         | 1.89044      | 2h 57m       |"
            ]
          },
          "metadata": {
            "tags": []
          }
        },
        {
          "output_type": "display_data",
          "data": {
            "text/html": [
              "<pre>| 5345         | 1.89336      | 2h 57m       |</pre>"
            ],
            "text/plain": [
              "| 5345         | 1.89336      | 2h 57m       |"
            ]
          },
          "metadata": {
            "tags": []
          }
        },
        {
          "output_type": "display_data",
          "data": {
            "text/html": [
              "<pre>| 5350         | 1.84514      | 2h 57m       |</pre>"
            ],
            "text/plain": [
              "| 5350         | 1.84514      | 2h 57m       |"
            ]
          },
          "metadata": {
            "tags": []
          }
        },
        {
          "output_type": "display_data",
          "data": {
            "text/html": [
              "<pre>| 5355         | 1.81488      | 2h 57m       |</pre>"
            ],
            "text/plain": [
              "| 5355         | 1.81488      | 2h 57m       |"
            ]
          },
          "metadata": {
            "tags": []
          }
        },
        {
          "output_type": "display_data",
          "data": {
            "text/html": [
              "<pre>| 5360         | 1.82169      | 2h 58m       |</pre>"
            ],
            "text/plain": [
              "| 5360         | 1.82169      | 2h 58m       |"
            ]
          },
          "metadata": {
            "tags": []
          }
        },
        {
          "output_type": "display_data",
          "data": {
            "text/html": [
              "<pre>| 5365         | 1.802        | 2h 58m       |</pre>"
            ],
            "text/plain": [
              "| 5365         | 1.802        | 2h 58m       |"
            ]
          },
          "metadata": {
            "tags": []
          }
        },
        {
          "output_type": "display_data",
          "data": {
            "text/html": [
              "<pre>| 5370         | 1.78309      | 2h 58m       |</pre>"
            ],
            "text/plain": [
              "| 5370         | 1.78309      | 2h 58m       |"
            ]
          },
          "metadata": {
            "tags": []
          }
        },
        {
          "output_type": "display_data",
          "data": {
            "text/html": [
              "<pre>| 5375         | 1.75274      | 2h 58m       |</pre>"
            ],
            "text/plain": [
              "| 5375         | 1.75274      | 2h 58m       |"
            ]
          },
          "metadata": {
            "tags": []
          }
        },
        {
          "output_type": "display_data",
          "data": {
            "text/html": [
              "<pre>| 5380         | 1.80759      | 2h 58m       |</pre>"
            ],
            "text/plain": [
              "| 5380         | 1.80759      | 2h 58m       |"
            ]
          },
          "metadata": {
            "tags": []
          }
        },
        {
          "output_type": "display_data",
          "data": {
            "text/html": [
              "<pre>| 5385         | 1.82798      | 2h 58m       |</pre>"
            ],
            "text/plain": [
              "| 5385         | 1.82798      | 2h 58m       |"
            ]
          },
          "metadata": {
            "tags": []
          }
        },
        {
          "output_type": "display_data",
          "data": {
            "text/html": [
              "<pre>| 5390         | 1.82754      | 2h 59m       |</pre>"
            ],
            "text/plain": [
              "| 5390         | 1.82754      | 2h 59m       |"
            ]
          },
          "metadata": {
            "tags": []
          }
        },
        {
          "output_type": "display_data",
          "data": {
            "text/html": [
              "<pre>| 5395         | 1.77144      | 2h 59m       |</pre>"
            ],
            "text/plain": [
              "| 5395         | 1.77144      | 2h 59m       |"
            ]
          },
          "metadata": {
            "tags": []
          }
        },
        {
          "output_type": "display_data",
          "data": {
            "text/html": [
              "<pre>| 5400         | 1.77467      | 2h 59m       |</pre>"
            ],
            "text/plain": [
              "| 5400         | 1.77467      | 2h 59m       |"
            ]
          },
          "metadata": {
            "tags": []
          }
        },
        {
          "output_type": "display_data",
          "data": {
            "text/html": [
              "<pre>| 5405         | 1.78815      | 2h 59m       |</pre>"
            ],
            "text/plain": [
              "| 5405         | 1.78815      | 2h 59m       |"
            ]
          },
          "metadata": {
            "tags": []
          }
        },
        {
          "output_type": "display_data",
          "data": {
            "text/html": [
              "<pre>| 5410         | 1.78578      | 2h 59m       |</pre>"
            ],
            "text/plain": [
              "| 5410         | 1.78578      | 2h 59m       |"
            ]
          },
          "metadata": {
            "tags": []
          }
        },
        {
          "output_type": "display_data",
          "data": {
            "text/html": [
              "<pre>| 5415         | 1.81624      | 2h 59m       |</pre>"
            ],
            "text/plain": [
              "| 5415         | 1.81624      | 2h 59m       |"
            ]
          },
          "metadata": {
            "tags": []
          }
        },
        {
          "output_type": "display_data",
          "data": {
            "text/html": [
              "<pre>| 5420         | 1.85355      | 3h 0m        |</pre>"
            ],
            "text/plain": [
              "| 5420         | 1.85355      | 3h 0m        |"
            ]
          },
          "metadata": {
            "tags": []
          }
        },
        {
          "output_type": "display_data",
          "data": {
            "text/html": [
              "<pre>| 5425         | 1.85497      | 3h 0m        |</pre>"
            ],
            "text/plain": [
              "| 5425         | 1.85497      | 3h 0m        |"
            ]
          },
          "metadata": {
            "tags": []
          }
        },
        {
          "output_type": "display_data",
          "data": {
            "text/html": [
              "<pre>| 5430         | 1.82459      | 3h 0m        |</pre>"
            ],
            "text/plain": [
              "| 5430         | 1.82459      | 3h 0m        |"
            ]
          },
          "metadata": {
            "tags": []
          }
        },
        {
          "output_type": "display_data",
          "data": {
            "text/html": [
              "<pre>| 5435         | 1.82704      | 3h 0m        |</pre>"
            ],
            "text/plain": [
              "| 5435         | 1.82704      | 3h 0m        |"
            ]
          },
          "metadata": {
            "tags": []
          }
        },
        {
          "output_type": "display_data",
          "data": {
            "text/html": [
              "<pre>| 5440         | 1.87807      | 3h 0m        |</pre>"
            ],
            "text/plain": [
              "| 5440         | 1.87807      | 3h 0m        |"
            ]
          },
          "metadata": {
            "tags": []
          }
        },
        {
          "output_type": "display_data",
          "data": {
            "text/html": [
              "<pre>| 5445         | 1.84107      | 3h 0m        |</pre>"
            ],
            "text/plain": [
              "| 5445         | 1.84107      | 3h 0m        |"
            ]
          },
          "metadata": {
            "tags": []
          }
        },
        {
          "output_type": "display_data",
          "data": {
            "text/html": [
              "<pre>| 5450         | 1.83264      | 3h 1m        |</pre>"
            ],
            "text/plain": [
              "| 5450         | 1.83264      | 3h 1m        |"
            ]
          },
          "metadata": {
            "tags": []
          }
        },
        {
          "output_type": "display_data",
          "data": {
            "text/html": [
              "<pre>| 5455         | 1.9488       | 3h 1m        |</pre>"
            ],
            "text/plain": [
              "| 5455         | 1.9488       | 3h 1m        |"
            ]
          },
          "metadata": {
            "tags": []
          }
        },
        {
          "output_type": "display_data",
          "data": {
            "text/html": [
              "<pre>| 5460         | 2.03073      | 3h 1m        |</pre>"
            ],
            "text/plain": [
              "| 5460         | 2.03073      | 3h 1m        |"
            ]
          },
          "metadata": {
            "tags": []
          }
        },
        {
          "output_type": "display_data",
          "data": {
            "text/html": [
              "<pre>| 5465         | 1.92367      | 3h 1m        |</pre>"
            ],
            "text/plain": [
              "| 5465         | 1.92367      | 3h 1m        |"
            ]
          },
          "metadata": {
            "tags": []
          }
        },
        {
          "output_type": "display_data",
          "data": {
            "text/html": [
              "<pre>| 5470         | 1.851        | 3h 1m        |</pre>"
            ],
            "text/plain": [
              "| 5470         | 1.851        | 3h 1m        |"
            ]
          },
          "metadata": {
            "tags": []
          }
        },
        {
          "output_type": "display_data",
          "data": {
            "text/html": [
              "<pre>| 5475         | 1.89364      | 3h 1m        |</pre>"
            ],
            "text/plain": [
              "| 5475         | 1.89364      | 3h 1m        |"
            ]
          },
          "metadata": {
            "tags": []
          }
        },
        {
          "output_type": "display_data",
          "data": {
            "text/html": [
              "<pre>| 5480         | 1.94614      | 3h 2m        |</pre>"
            ],
            "text/plain": [
              "| 5480         | 1.94614      | 3h 2m        |"
            ]
          },
          "metadata": {
            "tags": []
          }
        },
        {
          "output_type": "display_data",
          "data": {
            "text/html": [
              "<pre>| 5485         | 1.92403      | 3h 2m        |</pre>"
            ],
            "text/plain": [
              "| 5485         | 1.92403      | 3h 2m        |"
            ]
          },
          "metadata": {
            "tags": []
          }
        },
        {
          "output_type": "display_data",
          "data": {
            "text/html": [
              "<pre>| 5490         | 1.84219      | 3h 2m        |</pre>"
            ],
            "text/plain": [
              "| 5490         | 1.84219      | 3h 2m        |"
            ]
          },
          "metadata": {
            "tags": []
          }
        },
        {
          "output_type": "display_data",
          "data": {
            "text/html": [
              "<pre>| 5495         | 1.86129      | 3h 2m        |</pre>"
            ],
            "text/plain": [
              "| 5495         | 1.86129      | 3h 2m        |"
            ]
          },
          "metadata": {
            "tags": []
          }
        },
        {
          "output_type": "display_data",
          "data": {
            "text/html": [
              "<pre>| 5500         | 1.82069      | 3h 2m        |</pre>"
            ],
            "text/plain": [
              "| 5500         | 1.82069      | 3h 2m        |"
            ]
          },
          "metadata": {
            "tags": []
          }
        },
        {
          "output_type": "display_data",
          "data": {
            "text/html": [
              "<pre>| 5505         | 1.85332      | 3h 2m        |</pre>"
            ],
            "text/plain": [
              "| 5505         | 1.85332      | 3h 2m        |"
            ]
          },
          "metadata": {
            "tags": []
          }
        },
        {
          "output_type": "display_data",
          "data": {
            "text/html": [
              "<pre>| 5510         | 1.81845      | 3h 3m        |</pre>"
            ],
            "text/plain": [
              "| 5510         | 1.81845      | 3h 3m        |"
            ]
          },
          "metadata": {
            "tags": []
          }
        },
        {
          "output_type": "display_data",
          "data": {
            "text/html": [
              "<pre>| 5515         | 1.76355      | 3h 3m        |</pre>"
            ],
            "text/plain": [
              "| 5515         | 1.76355      | 3h 3m        |"
            ]
          },
          "metadata": {
            "tags": []
          }
        },
        {
          "output_type": "display_data",
          "data": {
            "text/html": [
              "<pre>| 5520         | 1.781        | 3h 3m        |</pre>"
            ],
            "text/plain": [
              "| 5520         | 1.781        | 3h 3m        |"
            ]
          },
          "metadata": {
            "tags": []
          }
        },
        {
          "output_type": "display_data",
          "data": {
            "text/html": [
              "<pre>| 5525         | 1.78311      | 3h 3m        |</pre>"
            ],
            "text/plain": [
              "| 5525         | 1.78311      | 3h 3m        |"
            ]
          },
          "metadata": {
            "tags": []
          }
        },
        {
          "output_type": "display_data",
          "data": {
            "text/html": [
              "<pre>| 5530         | 1.71859      | 3h 3m        |</pre>"
            ],
            "text/plain": [
              "| 5530         | 1.71859      | 3h 3m        |"
            ]
          },
          "metadata": {
            "tags": []
          }
        },
        {
          "output_type": "display_data",
          "data": {
            "text/html": [
              "<pre>| 5535         | 1.74247      | 3h 3m        |</pre>"
            ],
            "text/plain": [
              "| 5535         | 1.74247      | 3h 3m        |"
            ]
          },
          "metadata": {
            "tags": []
          }
        },
        {
          "output_type": "display_data",
          "data": {
            "text/html": [
              "<pre>| 5540         | 1.77443      | 3h 4m        |</pre>"
            ],
            "text/plain": [
              "| 5540         | 1.77443      | 3h 4m        |"
            ]
          },
          "metadata": {
            "tags": []
          }
        },
        {
          "output_type": "display_data",
          "data": {
            "text/html": [
              "<pre>| 5545         | 1.82202      | 3h 4m        |</pre>"
            ],
            "text/plain": [
              "| 5545         | 1.82202      | 3h 4m        |"
            ]
          },
          "metadata": {
            "tags": []
          }
        },
        {
          "output_type": "display_data",
          "data": {
            "text/html": [
              "<pre>| 5550         | 1.82226      | 3h 4m        |</pre>"
            ],
            "text/plain": [
              "| 5550         | 1.82226      | 3h 4m        |"
            ]
          },
          "metadata": {
            "tags": []
          }
        },
        {
          "output_type": "display_data",
          "data": {
            "text/html": [
              "<pre>| 5555         | 1.83223      | 3h 4m        |</pre>"
            ],
            "text/plain": [
              "| 5555         | 1.83223      | 3h 4m        |"
            ]
          },
          "metadata": {
            "tags": []
          }
        },
        {
          "output_type": "display_data",
          "data": {
            "text/html": [
              "<pre>| 5560         | 1.84862      | 3h 4m        |</pre>"
            ],
            "text/plain": [
              "| 5560         | 1.84862      | 3h 4m        |"
            ]
          },
          "metadata": {
            "tags": []
          }
        },
        {
          "output_type": "display_data",
          "data": {
            "text/html": [
              "<pre>| 5565         | 1.81547      | 3h 4m        |</pre>"
            ],
            "text/plain": [
              "| 5565         | 1.81547      | 3h 4m        |"
            ]
          },
          "metadata": {
            "tags": []
          }
        },
        {
          "output_type": "display_data",
          "data": {
            "text/html": [
              "<pre>| 5570         | 1.83378      | 3h 5m        |</pre>"
            ],
            "text/plain": [
              "| 5570         | 1.83378      | 3h 5m        |"
            ]
          },
          "metadata": {
            "tags": []
          }
        },
        {
          "output_type": "display_data",
          "data": {
            "text/html": [
              "<pre>| 5575         | 1.79082      | 3h 5m        |</pre>"
            ],
            "text/plain": [
              "| 5575         | 1.79082      | 3h 5m        |"
            ]
          },
          "metadata": {
            "tags": []
          }
        },
        {
          "output_type": "display_data",
          "data": {
            "text/html": [
              "<pre>| 5580         | 1.8383       | 3h 5m        |</pre>"
            ],
            "text/plain": [
              "| 5580         | 1.8383       | 3h 5m        |"
            ]
          },
          "metadata": {
            "tags": []
          }
        },
        {
          "output_type": "display_data",
          "data": {
            "text/html": [
              "<pre>| 5585         | 1.80076      | 3h 5m        |</pre>"
            ],
            "text/plain": [
              "| 5585         | 1.80076      | 3h 5m        |"
            ]
          },
          "metadata": {
            "tags": []
          }
        },
        {
          "output_type": "display_data",
          "data": {
            "text/html": [
              "<pre>| 5590         | 1.81252      | 3h 5m        |</pre>"
            ],
            "text/plain": [
              "| 5590         | 1.81252      | 3h 5m        |"
            ]
          },
          "metadata": {
            "tags": []
          }
        },
        {
          "output_type": "display_data",
          "data": {
            "text/html": [
              "<pre>| 5595         | 1.82479      | 3h 5m        |</pre>"
            ],
            "text/plain": [
              "| 5595         | 1.82479      | 3h 5m        |"
            ]
          },
          "metadata": {
            "tags": []
          }
        },
        {
          "output_type": "display_data",
          "data": {
            "text/html": [
              "<pre>| 5600         | 1.85817      | 3h 6m        |</pre>"
            ],
            "text/plain": [
              "| 5600         | 1.85817      | 3h 6m        |"
            ]
          },
          "metadata": {
            "tags": []
          }
        },
        {
          "output_type": "display_data",
          "data": {
            "text/html": [
              "<pre>| 5605         | 1.81049      | 3h 6m        |</pre>"
            ],
            "text/plain": [
              "| 5605         | 1.81049      | 3h 6m        |"
            ]
          },
          "metadata": {
            "tags": []
          }
        },
        {
          "output_type": "display_data",
          "data": {
            "text/html": [
              "<pre>| 5610         | 1.84605      | 3h 6m        |</pre>"
            ],
            "text/plain": [
              "| 5610         | 1.84605      | 3h 6m        |"
            ]
          },
          "metadata": {
            "tags": []
          }
        },
        {
          "output_type": "display_data",
          "data": {
            "text/html": [
              "<pre>| 5615         | 1.81696      | 3h 6m        |</pre>"
            ],
            "text/plain": [
              "| 5615         | 1.81696      | 3h 6m        |"
            ]
          },
          "metadata": {
            "tags": []
          }
        },
        {
          "output_type": "display_data",
          "data": {
            "text/html": [
              "<pre>| 5620         | 1.8242       | 3h 6m        |</pre>"
            ],
            "text/plain": [
              "| 5620         | 1.8242       | 3h 6m        |"
            ]
          },
          "metadata": {
            "tags": []
          }
        },
        {
          "output_type": "display_data",
          "data": {
            "text/html": [
              "<pre>| 5625         | 1.92472      | 3h 6m        |</pre>"
            ],
            "text/plain": [
              "| 5625         | 1.92472      | 3h 6m        |"
            ]
          },
          "metadata": {
            "tags": []
          }
        },
        {
          "output_type": "display_data",
          "data": {
            "text/html": [
              "<pre>| 5630         | 1.81571      | 3h 6m        |</pre>"
            ],
            "text/plain": [
              "| 5630         | 1.81571      | 3h 6m        |"
            ]
          },
          "metadata": {
            "tags": []
          }
        },
        {
          "output_type": "display_data",
          "data": {
            "text/html": [
              "<pre>| 5635         | 1.90412      | 3h 7m        |</pre>"
            ],
            "text/plain": [
              "| 5635         | 1.90412      | 3h 7m        |"
            ]
          },
          "metadata": {
            "tags": []
          }
        },
        {
          "output_type": "display_data",
          "data": {
            "text/html": [
              "<pre>| 5640         | 1.86496      | 3h 7m        |</pre>"
            ],
            "text/plain": [
              "| 5640         | 1.86496      | 3h 7m        |"
            ]
          },
          "metadata": {
            "tags": []
          }
        },
        {
          "output_type": "display_data",
          "data": {
            "text/html": [
              "<pre>| 5645         | 1.86456      | 3h 7m        |</pre>"
            ],
            "text/plain": [
              "| 5645         | 1.86456      | 3h 7m        |"
            ]
          },
          "metadata": {
            "tags": []
          }
        },
        {
          "output_type": "display_data",
          "data": {
            "text/html": [
              "<pre>| 5650         | 1.81887      | 3h 7m        |</pre>"
            ],
            "text/plain": [
              "| 5650         | 1.81887      | 3h 7m        |"
            ]
          },
          "metadata": {
            "tags": []
          }
        },
        {
          "output_type": "display_data",
          "data": {
            "text/html": [
              "<pre>| 5655         | 1.83161      | 3h 7m        |</pre>"
            ],
            "text/plain": [
              "| 5655         | 1.83161      | 3h 7m        |"
            ]
          },
          "metadata": {
            "tags": []
          }
        },
        {
          "output_type": "display_data",
          "data": {
            "text/html": [
              "<pre>| 5660         | 1.86754      | 3h 7m        |</pre>"
            ],
            "text/plain": [
              "| 5660         | 1.86754      | 3h 7m        |"
            ]
          },
          "metadata": {
            "tags": []
          }
        },
        {
          "output_type": "display_data",
          "data": {
            "text/html": [
              "<pre>| 5665         | 1.8099       | 3h 8m        |</pre>"
            ],
            "text/plain": [
              "| 5665         | 1.8099       | 3h 8m        |"
            ]
          },
          "metadata": {
            "tags": []
          }
        },
        {
          "output_type": "display_data",
          "data": {
            "text/html": [
              "<pre>| 5670         | 1.8399       | 3h 8m        |</pre>"
            ],
            "text/plain": [
              "| 5670         | 1.8399       | 3h 8m        |"
            ]
          },
          "metadata": {
            "tags": []
          }
        },
        {
          "output_type": "display_data",
          "data": {
            "text/html": [
              "<pre>| 5675         | 1.82862      | 3h 8m        |</pre>"
            ],
            "text/plain": [
              "| 5675         | 1.82862      | 3h 8m        |"
            ]
          },
          "metadata": {
            "tags": []
          }
        },
        {
          "output_type": "display_data",
          "data": {
            "text/html": [
              "<pre>| 5680         | 1.77243      | 3h 8m        |</pre>"
            ],
            "text/plain": [
              "| 5680         | 1.77243      | 3h 8m        |"
            ]
          },
          "metadata": {
            "tags": []
          }
        },
        {
          "output_type": "display_data",
          "data": {
            "text/html": [
              "<pre>| 5685         | 1.73073      | 3h 8m        |</pre>"
            ],
            "text/plain": [
              "| 5685         | 1.73073      | 3h 8m        |"
            ]
          },
          "metadata": {
            "tags": []
          }
        },
        {
          "output_type": "display_data",
          "data": {
            "text/html": [
              "<pre>| 5690         | 1.71023      | 3h 8m        |</pre>"
            ],
            "text/plain": [
              "| 5690         | 1.71023      | 3h 8m        |"
            ]
          },
          "metadata": {
            "tags": []
          }
        },
        {
          "output_type": "display_data",
          "data": {
            "text/html": [
              "<pre>| 5695         | 1.74505      | 3h 8m        |</pre>"
            ],
            "text/plain": [
              "| 5695         | 1.74505      | 3h 8m        |"
            ]
          },
          "metadata": {
            "tags": []
          }
        },
        {
          "output_type": "display_data",
          "data": {
            "text/html": [
              "<pre>| 5700         | 1.79701      | 3h 9m        |</pre>"
            ],
            "text/plain": [
              "| 5700         | 1.79701      | 3h 9m        |"
            ]
          },
          "metadata": {
            "tags": []
          }
        },
        {
          "output_type": "display_data",
          "data": {
            "text/html": [
              "<pre>| 5705         | 1.80055      | 3h 9m        |</pre>"
            ],
            "text/plain": [
              "| 5705         | 1.80055      | 3h 9m        |"
            ]
          },
          "metadata": {
            "tags": []
          }
        },
        {
          "output_type": "display_data",
          "data": {
            "text/html": [
              "<pre>| 5710         | 1.83321      | 3h 9m        |</pre>"
            ],
            "text/plain": [
              "| 5710         | 1.83321      | 3h 9m        |"
            ]
          },
          "metadata": {
            "tags": []
          }
        },
        {
          "output_type": "display_data",
          "data": {
            "text/html": [
              "<pre>| 5715         | 1.90523      | 3h 9m        |</pre>"
            ],
            "text/plain": [
              "| 5715         | 1.90523      | 3h 9m        |"
            ]
          },
          "metadata": {
            "tags": []
          }
        },
        {
          "output_type": "display_data",
          "data": {
            "text/html": [
              "<pre>| 5720         | 1.87717      | 3h 9m        |</pre>"
            ],
            "text/plain": [
              "| 5720         | 1.87717      | 3h 9m        |"
            ]
          },
          "metadata": {
            "tags": []
          }
        },
        {
          "output_type": "display_data",
          "data": {
            "text/html": [
              "<pre>| 5725         | 1.82924      | 3h 9m        |</pre>"
            ],
            "text/plain": [
              "| 5725         | 1.82924      | 3h 9m        |"
            ]
          },
          "metadata": {
            "tags": []
          }
        },
        {
          "output_type": "display_data",
          "data": {
            "text/html": [
              "<pre>| 5730         | 1.78896      | 3h 10m       |</pre>"
            ],
            "text/plain": [
              "| 5730         | 1.78896      | 3h 10m       |"
            ]
          },
          "metadata": {
            "tags": []
          }
        },
        {
          "output_type": "display_data",
          "data": {
            "text/html": [
              "<pre>| 5735         | 1.73442      | 3h 10m       |</pre>"
            ],
            "text/plain": [
              "| 5735         | 1.73442      | 3h 10m       |"
            ]
          },
          "metadata": {
            "tags": []
          }
        },
        {
          "output_type": "display_data",
          "data": {
            "text/html": [
              "<pre>| 5740         | 1.7345       | 3h 10m       |</pre>"
            ],
            "text/plain": [
              "| 5740         | 1.7345       | 3h 10m       |"
            ]
          },
          "metadata": {
            "tags": []
          }
        },
        {
          "output_type": "display_data",
          "data": {
            "text/html": [
              "<pre>| 5745         | 1.70007      | 3h 10m       |</pre>"
            ],
            "text/plain": [
              "| 5745         | 1.70007      | 3h 10m       |"
            ]
          },
          "metadata": {
            "tags": []
          }
        },
        {
          "output_type": "display_data",
          "data": {
            "text/html": [
              "<pre>| 5750         | 1.74683      | 3h 10m       |</pre>"
            ],
            "text/plain": [
              "| 5750         | 1.74683      | 3h 10m       |"
            ]
          },
          "metadata": {
            "tags": []
          }
        },
        {
          "output_type": "display_data",
          "data": {
            "text/html": [
              "<pre>| 5755         | 1.77751      | 3h 10m       |</pre>"
            ],
            "text/plain": [
              "| 5755         | 1.77751      | 3h 10m       |"
            ]
          },
          "metadata": {
            "tags": []
          }
        },
        {
          "output_type": "display_data",
          "data": {
            "text/html": [
              "<pre>| 5760         | 1.81723      | 3h 11m       |</pre>"
            ],
            "text/plain": [
              "| 5760         | 1.81723      | 3h 11m       |"
            ]
          },
          "metadata": {
            "tags": []
          }
        },
        {
          "output_type": "display_data",
          "data": {
            "text/html": [
              "<pre>| 5765         | 1.8471       | 3h 11m       |</pre>"
            ],
            "text/plain": [
              "| 5765         | 1.8471       | 3h 11m       |"
            ]
          },
          "metadata": {
            "tags": []
          }
        },
        {
          "output_type": "display_data",
          "data": {
            "text/html": [
              "<pre>| 5770         | 1.82558      | 3h 11m       |</pre>"
            ],
            "text/plain": [
              "| 5770         | 1.82558      | 3h 11m       |"
            ]
          },
          "metadata": {
            "tags": []
          }
        },
        {
          "output_type": "display_data",
          "data": {
            "text/html": [
              "<pre>| 5775         | 1.84323      | 3h 11m       |</pre>"
            ],
            "text/plain": [
              "| 5775         | 1.84323      | 3h 11m       |"
            ]
          },
          "metadata": {
            "tags": []
          }
        },
        {
          "output_type": "display_data",
          "data": {
            "text/html": [
              "<pre>| 5780         | 1.81057      | 3h 11m       |</pre>"
            ],
            "text/plain": [
              "| 5780         | 1.81057      | 3h 11m       |"
            ]
          },
          "metadata": {
            "tags": []
          }
        },
        {
          "output_type": "display_data",
          "data": {
            "text/html": [
              "<pre>| 5785         | 1.79211      | 3h 11m       |</pre>"
            ],
            "text/plain": [
              "| 5785         | 1.79211      | 3h 11m       |"
            ]
          },
          "metadata": {
            "tags": []
          }
        },
        {
          "output_type": "display_data",
          "data": {
            "text/html": [
              "<pre>| 5790         | 1.86692      | 3h 12m       |</pre>"
            ],
            "text/plain": [
              "| 5790         | 1.86692      | 3h 12m       |"
            ]
          },
          "metadata": {
            "tags": []
          }
        },
        {
          "output_type": "display_data",
          "data": {
            "text/html": [
              "<pre>| 5795         | 1.88399      | 3h 12m       |</pre>"
            ],
            "text/plain": [
              "| 5795         | 1.88399      | 3h 12m       |"
            ]
          },
          "metadata": {
            "tags": []
          }
        },
        {
          "output_type": "display_data",
          "data": {
            "text/html": [
              "<pre>| 5800         | 1.9053       | 3h 12m       |</pre>"
            ],
            "text/plain": [
              "| 5800         | 1.9053       | 3h 12m       |"
            ]
          },
          "metadata": {
            "tags": []
          }
        },
        {
          "output_type": "display_data",
          "data": {
            "text/html": [
              "<pre>| 5805         | 1.86096      | 3h 12m       |</pre>"
            ],
            "text/plain": [
              "| 5805         | 1.86096      | 3h 12m       |"
            ]
          },
          "metadata": {
            "tags": []
          }
        },
        {
          "output_type": "display_data",
          "data": {
            "text/html": [
              "<pre>| 5810         | 1.791        | 3h 12m       |</pre>"
            ],
            "text/plain": [
              "| 5810         | 1.791        | 3h 12m       |"
            ]
          },
          "metadata": {
            "tags": []
          }
        },
        {
          "output_type": "display_data",
          "data": {
            "text/html": [
              "<pre>| 5815         | 1.79193      | 3h 12m       |</pre>"
            ],
            "text/plain": [
              "| 5815         | 1.79193      | 3h 12m       |"
            ]
          },
          "metadata": {
            "tags": []
          }
        },
        {
          "output_type": "display_data",
          "data": {
            "text/html": [
              "<pre>| 5820         | 1.74226      | 3h 13m       |</pre>"
            ],
            "text/plain": [
              "| 5820         | 1.74226      | 3h 13m       |"
            ]
          },
          "metadata": {
            "tags": []
          }
        },
        {
          "output_type": "display_data",
          "data": {
            "text/html": [
              "<pre>| 5825         | 1.82254      | 3h 13m       |</pre>"
            ],
            "text/plain": [
              "| 5825         | 1.82254      | 3h 13m       |"
            ]
          },
          "metadata": {
            "tags": []
          }
        },
        {
          "output_type": "display_data",
          "data": {
            "text/html": [
              "<pre>| 5830         | 1.81114      | 3h 13m       |</pre>"
            ],
            "text/plain": [
              "| 5830         | 1.81114      | 3h 13m       |"
            ]
          },
          "metadata": {
            "tags": []
          }
        },
        {
          "output_type": "display_data",
          "data": {
            "text/html": [
              "<pre>| 5835         | 1.81803      | 3h 13m       |</pre>"
            ],
            "text/plain": [
              "| 5835         | 1.81803      | 3h 13m       |"
            ]
          },
          "metadata": {
            "tags": []
          }
        },
        {
          "output_type": "display_data",
          "data": {
            "text/html": [
              "<pre>| 5840         | 1.76554      | 3h 13m       |</pre>"
            ],
            "text/plain": [
              "| 5840         | 1.76554      | 3h 13m       |"
            ]
          },
          "metadata": {
            "tags": []
          }
        },
        {
          "output_type": "display_data",
          "data": {
            "text/html": [
              "<pre>| 5845         | 1.73268      | 3h 13m       |</pre>"
            ],
            "text/plain": [
              "| 5845         | 1.73268      | 3h 13m       |"
            ]
          },
          "metadata": {
            "tags": []
          }
        },
        {
          "output_type": "display_data",
          "data": {
            "text/html": [
              "<pre>| 5850         | 1.7675       | 3h 14m       |</pre>"
            ],
            "text/plain": [
              "| 5850         | 1.7675       | 3h 14m       |"
            ]
          },
          "metadata": {
            "tags": []
          }
        },
        {
          "output_type": "display_data",
          "data": {
            "text/html": [
              "<pre>| 5855         | 1.75689      | 3h 14m       |</pre>"
            ],
            "text/plain": [
              "| 5855         | 1.75689      | 3h 14m       |"
            ]
          },
          "metadata": {
            "tags": []
          }
        },
        {
          "output_type": "display_data",
          "data": {
            "text/html": [
              "<pre>| 5860         | 1.78646      | 3h 14m       |</pre>"
            ],
            "text/plain": [
              "| 5860         | 1.78646      | 3h 14m       |"
            ]
          },
          "metadata": {
            "tags": []
          }
        },
        {
          "output_type": "display_data",
          "data": {
            "text/html": [
              "<pre>| 5865         | 1.7604       | 3h 14m       |</pre>"
            ],
            "text/plain": [
              "| 5865         | 1.7604       | 3h 14m       |"
            ]
          },
          "metadata": {
            "tags": []
          }
        },
        {
          "output_type": "display_data",
          "data": {
            "text/html": [
              "<pre>| 5870         | 1.80591      | 3h 14m       |</pre>"
            ],
            "text/plain": [
              "| 5870         | 1.80591      | 3h 14m       |"
            ]
          },
          "metadata": {
            "tags": []
          }
        },
        {
          "output_type": "display_data",
          "data": {
            "text/html": [
              "<pre>| 5875         | 1.78633      | 3h 14m       |</pre>"
            ],
            "text/plain": [
              "| 5875         | 1.78633      | 3h 14m       |"
            ]
          },
          "metadata": {
            "tags": []
          }
        },
        {
          "output_type": "display_data",
          "data": {
            "text/html": [
              "<pre>| 5880         | 1.74703      | 3h 15m       |</pre>"
            ],
            "text/plain": [
              "| 5880         | 1.74703      | 3h 15m       |"
            ]
          },
          "metadata": {
            "tags": []
          }
        },
        {
          "output_type": "display_data",
          "data": {
            "text/html": [
              "<pre>| 5885         | 1.73703      | 3h 15m       |</pre>"
            ],
            "text/plain": [
              "| 5885         | 1.73703      | 3h 15m       |"
            ]
          },
          "metadata": {
            "tags": []
          }
        },
        {
          "output_type": "display_data",
          "data": {
            "text/html": [
              "<pre>| 5890         | 1.75971      | 3h 15m       |</pre>"
            ],
            "text/plain": [
              "| 5890         | 1.75971      | 3h 15m       |"
            ]
          },
          "metadata": {
            "tags": []
          }
        },
        {
          "output_type": "display_data",
          "data": {
            "text/html": [
              "<pre>| 5895         | 1.79168      | 3h 15m       |</pre>"
            ],
            "text/plain": [
              "| 5895         | 1.79168      | 3h 15m       |"
            ]
          },
          "metadata": {
            "tags": []
          }
        },
        {
          "output_type": "display_data",
          "data": {
            "text/html": [
              "<pre>| 5900         | 1.77351      | 3h 15m       |</pre>"
            ],
            "text/plain": [
              "| 5900         | 1.77351      | 3h 15m       |"
            ]
          },
          "metadata": {
            "tags": []
          }
        },
        {
          "output_type": "display_data",
          "data": {
            "text/html": [
              "<pre>| 5905         | 1.77888      | 3h 15m       |</pre>"
            ],
            "text/plain": [
              "| 5905         | 1.77888      | 3h 15m       |"
            ]
          },
          "metadata": {
            "tags": []
          }
        },
        {
          "output_type": "display_data",
          "data": {
            "text/html": [
              "<pre>| 5910         | 1.81435      | 3h 16m       |</pre>"
            ],
            "text/plain": [
              "| 5910         | 1.81435      | 3h 16m       |"
            ]
          },
          "metadata": {
            "tags": []
          }
        },
        {
          "output_type": "display_data",
          "data": {
            "text/html": [
              "<pre>| 5915         | 1.80631      | 3h 16m       |</pre>"
            ],
            "text/plain": [
              "| 5915         | 1.80631      | 3h 16m       |"
            ]
          },
          "metadata": {
            "tags": []
          }
        },
        {
          "output_type": "display_data",
          "data": {
            "text/html": [
              "<pre>| 5920         | 1.7892       | 3h 16m       |</pre>"
            ],
            "text/plain": [
              "| 5920         | 1.7892       | 3h 16m       |"
            ]
          },
          "metadata": {
            "tags": []
          }
        },
        {
          "output_type": "display_data",
          "data": {
            "text/html": [
              "<pre>| 5925         | 1.86493      | 3h 16m       |</pre>"
            ],
            "text/plain": [
              "| 5925         | 1.86493      | 3h 16m       |"
            ]
          },
          "metadata": {
            "tags": []
          }
        },
        {
          "output_type": "display_data",
          "data": {
            "text/html": [
              "<pre>| 5930         | 1.85335      | 3h 16m       |</pre>"
            ],
            "text/plain": [
              "| 5930         | 1.85335      | 3h 16m       |"
            ]
          },
          "metadata": {
            "tags": []
          }
        },
        {
          "output_type": "display_data",
          "data": {
            "text/html": [
              "<pre>| 5935         | 1.81696      | 3h 16m       |</pre>"
            ],
            "text/plain": [
              "| 5935         | 1.81696      | 3h 16m       |"
            ]
          },
          "metadata": {
            "tags": []
          }
        },
        {
          "output_type": "display_data",
          "data": {
            "text/html": [
              "<pre>| 5940         | 1.82206      | 3h 17m       |</pre>"
            ],
            "text/plain": [
              "| 5940         | 1.82206      | 3h 17m       |"
            ]
          },
          "metadata": {
            "tags": []
          }
        },
        {
          "output_type": "display_data",
          "data": {
            "text/html": [
              "<pre>| 5945         | 1.80752      | 3h 17m       |</pre>"
            ],
            "text/plain": [
              "| 5945         | 1.80752      | 3h 17m       |"
            ]
          },
          "metadata": {
            "tags": []
          }
        },
        {
          "output_type": "display_data",
          "data": {
            "text/html": [
              "<pre>| 5950         | 1.76232      | 3h 17m       |</pre>"
            ],
            "text/plain": [
              "| 5950         | 1.76232      | 3h 17m       |"
            ]
          },
          "metadata": {
            "tags": []
          }
        },
        {
          "output_type": "display_data",
          "data": {
            "text/html": [
              "<pre>| 5955         | 1.80213      | 3h 17m       |</pre>"
            ],
            "text/plain": [
              "| 5955         | 1.80213      | 3h 17m       |"
            ]
          },
          "metadata": {
            "tags": []
          }
        },
        {
          "output_type": "display_data",
          "data": {
            "text/html": [
              "<pre>| 5960         | 1.75402      | 3h 17m       |</pre>"
            ],
            "text/plain": [
              "| 5960         | 1.75402      | 3h 17m       |"
            ]
          },
          "metadata": {
            "tags": []
          }
        },
        {
          "output_type": "display_data",
          "data": {
            "text/html": [
              "<pre>| 5965         | 1.86122      | 3h 17m       |</pre>"
            ],
            "text/plain": [
              "| 5965         | 1.86122      | 3h 17m       |"
            ]
          },
          "metadata": {
            "tags": []
          }
        },
        {
          "output_type": "display_data",
          "data": {
            "text/html": [
              "<pre>| 5970         | 1.86445      | 3h 18m       |</pre>"
            ],
            "text/plain": [
              "| 5970         | 1.86445      | 3h 18m       |"
            ]
          },
          "metadata": {
            "tags": []
          }
        },
        {
          "output_type": "display_data",
          "data": {
            "text/html": [
              "<pre>| 5975         | 1.89151      | 3h 18m       |</pre>"
            ],
            "text/plain": [
              "| 5975         | 1.89151      | 3h 18m       |"
            ]
          },
          "metadata": {
            "tags": []
          }
        },
        {
          "output_type": "display_data",
          "data": {
            "text/html": [
              "<pre>| 5980         | 1.82229      | 3h 18m       |</pre>"
            ],
            "text/plain": [
              "| 5980         | 1.82229      | 3h 18m       |"
            ]
          },
          "metadata": {
            "tags": []
          }
        },
        {
          "output_type": "display_data",
          "data": {
            "text/html": [
              "<pre>| 5985         | 1.78773      | 3h 18m       |</pre>"
            ],
            "text/plain": [
              "| 5985         | 1.78773      | 3h 18m       |"
            ]
          },
          "metadata": {
            "tags": []
          }
        },
        {
          "output_type": "display_data",
          "data": {
            "text/html": [
              "<pre>| 5990         | 1.777        | 3h 18m       |</pre>"
            ],
            "text/plain": [
              "| 5990         | 1.777        | 3h 18m       |"
            ]
          },
          "metadata": {
            "tags": []
          }
        },
        {
          "output_type": "display_data",
          "data": {
            "text/html": [
              "<pre>| 5995         | 1.73722      | 3h 18m       |</pre>"
            ],
            "text/plain": [
              "| 5995         | 1.73722      | 3h 18m       |"
            ]
          },
          "metadata": {
            "tags": []
          }
        },
        {
          "output_type": "display_data",
          "data": {
            "text/html": [
              "<pre>| 6000         | 1.76305      | 3h 19m       |</pre>"
            ],
            "text/plain": [
              "| 6000         | 1.76305      | 3h 19m       |"
            ]
          },
          "metadata": {
            "tags": []
          }
        },
        {
          "output_type": "display_data",
          "data": {
            "text/html": [
              "<pre>| 6005         | 1.7912       | 3h 19m       |</pre>"
            ],
            "text/plain": [
              "| 6005         | 1.7912       | 3h 19m       |"
            ]
          },
          "metadata": {
            "tags": []
          }
        },
        {
          "output_type": "display_data",
          "data": {
            "text/html": [
              "<pre>| 6010         | 1.78837      | 3h 19m       |</pre>"
            ],
            "text/plain": [
              "| 6010         | 1.78837      | 3h 19m       |"
            ]
          },
          "metadata": {
            "tags": []
          }
        },
        {
          "output_type": "display_data",
          "data": {
            "text/html": [
              "<pre>| 6015         | 1.81579      | 3h 19m       |</pre>"
            ],
            "text/plain": [
              "| 6015         | 1.81579      | 3h 19m       |"
            ]
          },
          "metadata": {
            "tags": []
          }
        },
        {
          "output_type": "display_data",
          "data": {
            "text/html": [
              "<pre>| 6020         | 1.82522      | 3h 19m       |</pre>"
            ],
            "text/plain": [
              "| 6020         | 1.82522      | 3h 19m       |"
            ]
          },
          "metadata": {
            "tags": []
          }
        },
        {
          "output_type": "display_data",
          "data": {
            "text/html": [
              "<pre>| 6025         | 1.81062      | 3h 19m       |</pre>"
            ],
            "text/plain": [
              "| 6025         | 1.81062      | 3h 19m       |"
            ]
          },
          "metadata": {
            "tags": []
          }
        },
        {
          "output_type": "display_data",
          "data": {
            "text/html": [
              "<pre>| 6030         | 1.84845      | 3h 20m       |</pre>"
            ],
            "text/plain": [
              "| 6030         | 1.84845      | 3h 20m       |"
            ]
          },
          "metadata": {
            "tags": []
          }
        },
        {
          "output_type": "display_data",
          "data": {
            "text/html": [
              "<pre>| 6035         | 1.81222      | 3h 20m       |</pre>"
            ],
            "text/plain": [
              "| 6035         | 1.81222      | 3h 20m       |"
            ]
          },
          "metadata": {
            "tags": []
          }
        },
        {
          "output_type": "display_data",
          "data": {
            "text/html": [
              "<pre>| 6040         | 1.76033      | 3h 20m       |</pre>"
            ],
            "text/plain": [
              "| 6040         | 1.76033      | 3h 20m       |"
            ]
          },
          "metadata": {
            "tags": []
          }
        },
        {
          "output_type": "display_data",
          "data": {
            "text/html": [
              "<pre>| 6045         | 1.79653      | 3h 20m       |</pre>"
            ],
            "text/plain": [
              "| 6045         | 1.79653      | 3h 20m       |"
            ]
          },
          "metadata": {
            "tags": []
          }
        },
        {
          "output_type": "display_data",
          "data": {
            "text/html": [
              "<pre>| 6050         | 1.76412      | 3h 20m       |</pre>"
            ],
            "text/plain": [
              "| 6050         | 1.76412      | 3h 20m       |"
            ]
          },
          "metadata": {
            "tags": []
          }
        },
        {
          "output_type": "display_data",
          "data": {
            "text/html": [
              "<pre>| 6055         | 1.78675      | 3h 20m       |</pre>"
            ],
            "text/plain": [
              "| 6055         | 1.78675      | 3h 20m       |"
            ]
          },
          "metadata": {
            "tags": []
          }
        },
        {
          "output_type": "display_data",
          "data": {
            "text/html": [
              "<pre>| 6060         | 1.73924      | 3h 21m       |</pre>"
            ],
            "text/plain": [
              "| 6060         | 1.73924      | 3h 21m       |"
            ]
          },
          "metadata": {
            "tags": []
          }
        },
        {
          "output_type": "display_data",
          "data": {
            "text/html": [
              "<pre>| 6065         | 1.79891      | 3h 21m       |</pre>"
            ],
            "text/plain": [
              "| 6065         | 1.79891      | 3h 21m       |"
            ]
          },
          "metadata": {
            "tags": []
          }
        },
        {
          "output_type": "display_data",
          "data": {
            "text/html": [
              "<pre>| 6070         | 1.82264      | 3h 21m       |</pre>"
            ],
            "text/plain": [
              "| 6070         | 1.82264      | 3h 21m       |"
            ]
          },
          "metadata": {
            "tags": []
          }
        },
        {
          "output_type": "display_data",
          "data": {
            "text/html": [
              "<pre>| 6075         | 1.83208      | 3h 21m       |</pre>"
            ],
            "text/plain": [
              "| 6075         | 1.83208      | 3h 21m       |"
            ]
          },
          "metadata": {
            "tags": []
          }
        },
        {
          "output_type": "display_data",
          "data": {
            "text/html": [
              "<pre>| 6080         | 1.83675      | 3h 21m       |</pre>"
            ],
            "text/plain": [
              "| 6080         | 1.83675      | 3h 21m       |"
            ]
          },
          "metadata": {
            "tags": []
          }
        },
        {
          "output_type": "display_data",
          "data": {
            "text/html": [
              "<pre>| 6085         | 1.80752      | 3h 21m       |</pre>"
            ],
            "text/plain": [
              "| 6085         | 1.80752      | 3h 21m       |"
            ]
          },
          "metadata": {
            "tags": []
          }
        },
        {
          "output_type": "display_data",
          "data": {
            "text/html": [
              "<pre>| 6090         | 1.82823      | 3h 22m       |</pre>"
            ],
            "text/plain": [
              "| 6090         | 1.82823      | 3h 22m       |"
            ]
          },
          "metadata": {
            "tags": []
          }
        },
        {
          "output_type": "display_data",
          "data": {
            "text/html": [
              "<pre>| 6095         | 1.78513      | 3h 22m       |</pre>"
            ],
            "text/plain": [
              "| 6095         | 1.78513      | 3h 22m       |"
            ]
          },
          "metadata": {
            "tags": []
          }
        },
        {
          "output_type": "display_data",
          "data": {
            "text/html": [
              "<pre>| 6100         | 1.69569      | 3h 22m       |</pre>"
            ],
            "text/plain": [
              "| 6100         | 1.69569      | 3h 22m       |"
            ]
          },
          "metadata": {
            "tags": []
          }
        },
        {
          "output_type": "display_data",
          "data": {
            "text/html": [
              "<pre>| 6105         | 1.78447      | 3h 22m       |</pre>"
            ],
            "text/plain": [
              "| 6105         | 1.78447      | 3h 22m       |"
            ]
          },
          "metadata": {
            "tags": []
          }
        },
        {
          "output_type": "display_data",
          "data": {
            "text/html": [
              "<pre>| 6110         | 1.81514      | 3h 22m       |</pre>"
            ],
            "text/plain": [
              "| 6110         | 1.81514      | 3h 22m       |"
            ]
          },
          "metadata": {
            "tags": []
          }
        },
        {
          "output_type": "display_data",
          "data": {
            "text/html": [
              "<pre>| 6115         | 1.84786      | 3h 22m       |</pre>"
            ],
            "text/plain": [
              "| 6115         | 1.84786      | 3h 22m       |"
            ]
          },
          "metadata": {
            "tags": []
          }
        },
        {
          "output_type": "display_data",
          "data": {
            "text/html": [
              "<pre>| 6120         | 1.81747      | 3h 23m       |</pre>"
            ],
            "text/plain": [
              "| 6120         | 1.81747      | 3h 23m       |"
            ]
          },
          "metadata": {
            "tags": []
          }
        },
        {
          "output_type": "display_data",
          "data": {
            "text/html": [
              "<pre>| 6125         | 1.83306      | 3h 23m       |</pre>"
            ],
            "text/plain": [
              "| 6125         | 1.83306      | 3h 23m       |"
            ]
          },
          "metadata": {
            "tags": []
          }
        },
        {
          "output_type": "display_data",
          "data": {
            "text/html": [
              "<pre>| 6130         | 1.80894      | 3h 23m       |</pre>"
            ],
            "text/plain": [
              "| 6130         | 1.80894      | 3h 23m       |"
            ]
          },
          "metadata": {
            "tags": []
          }
        },
        {
          "output_type": "display_data",
          "data": {
            "text/html": [
              "<pre>| 6135         | 1.76631      | 3h 23m       |</pre>"
            ],
            "text/plain": [
              "| 6135         | 1.76631      | 3h 23m       |"
            ]
          },
          "metadata": {
            "tags": []
          }
        },
        {
          "output_type": "display_data",
          "data": {
            "text/html": [
              "<pre>| 6140         | 1.76847      | 3h 23m       |</pre>"
            ],
            "text/plain": [
              "| 6140         | 1.76847      | 3h 23m       |"
            ]
          },
          "metadata": {
            "tags": []
          }
        },
        {
          "output_type": "display_data",
          "data": {
            "text/html": [
              "<pre>| 6145         | 1.8216       | 3h 23m       |</pre>"
            ],
            "text/plain": [
              "| 6145         | 1.8216       | 3h 23m       |"
            ]
          },
          "metadata": {
            "tags": []
          }
        },
        {
          "output_type": "display_data",
          "data": {
            "text/html": [
              "<pre>| 6150         | 1.77169      | 3h 24m       |</pre>"
            ],
            "text/plain": [
              "| 6150         | 1.77169      | 3h 24m       |"
            ]
          },
          "metadata": {
            "tags": []
          }
        },
        {
          "output_type": "display_data",
          "data": {
            "text/html": [
              "<pre>| 6155         | 1.74575      | 3h 24m       |</pre>"
            ],
            "text/plain": [
              "| 6155         | 1.74575      | 3h 24m       |"
            ]
          },
          "metadata": {
            "tags": []
          }
        },
        {
          "output_type": "display_data",
          "data": {
            "text/html": [
              "<pre>| 6160         | 1.7961       | 3h 24m       |</pre>"
            ],
            "text/plain": [
              "| 6160         | 1.7961       | 3h 24m       |"
            ]
          },
          "metadata": {
            "tags": []
          }
        },
        {
          "output_type": "display_data",
          "data": {
            "text/html": [
              "<pre>| 6165         | 1.81386      | 3h 24m       |</pre>"
            ],
            "text/plain": [
              "| 6165         | 1.81386      | 3h 24m       |"
            ]
          },
          "metadata": {
            "tags": []
          }
        },
        {
          "output_type": "display_data",
          "data": {
            "text/html": [
              "<pre>| 6170         | 1.8174       | 3h 24m       |</pre>"
            ],
            "text/plain": [
              "| 6170         | 1.8174       | 3h 24m       |"
            ]
          },
          "metadata": {
            "tags": []
          }
        },
        {
          "output_type": "display_data",
          "data": {
            "text/html": [
              "<pre>| 6175         | 1.69586      | 3h 24m       |</pre>"
            ],
            "text/plain": [
              "| 6175         | 1.69586      | 3h 24m       |"
            ]
          },
          "metadata": {
            "tags": []
          }
        },
        {
          "output_type": "display_data",
          "data": {
            "text/html": [
              "<pre>| 6180         | 1.76528      | 3h 25m       |</pre>"
            ],
            "text/plain": [
              "| 6180         | 1.76528      | 3h 25m       |"
            ]
          },
          "metadata": {
            "tags": []
          }
        },
        {
          "output_type": "display_data",
          "data": {
            "text/html": [
              "<pre>| 6185         | 1.77532      | 3h 25m       |</pre>"
            ],
            "text/plain": [
              "| 6185         | 1.77532      | 3h 25m       |"
            ]
          },
          "metadata": {
            "tags": []
          }
        },
        {
          "output_type": "display_data",
          "data": {
            "text/html": [
              "<pre>| 6190         | 1.74451      | 3h 25m       |</pre>"
            ],
            "text/plain": [
              "| 6190         | 1.74451      | 3h 25m       |"
            ]
          },
          "metadata": {
            "tags": []
          }
        },
        {
          "output_type": "display_data",
          "data": {
            "text/html": [
              "<pre>| 6195         | 1.74381      | 3h 25m       |</pre>"
            ],
            "text/plain": [
              "| 6195         | 1.74381      | 3h 25m       |"
            ]
          },
          "metadata": {
            "tags": []
          }
        },
        {
          "output_type": "display_data",
          "data": {
            "text/html": [
              "<pre>| 6200         | 1.72833      | 3h 25m       |</pre>"
            ],
            "text/plain": [
              "| 6200         | 1.72833      | 3h 25m       |"
            ]
          },
          "metadata": {
            "tags": []
          }
        },
        {
          "output_type": "display_data",
          "data": {
            "text/html": [
              "<pre>| 6205         | 1.75726      | 3h 25m       |</pre>"
            ],
            "text/plain": [
              "| 6205         | 1.75726      | 3h 25m       |"
            ]
          },
          "metadata": {
            "tags": []
          }
        },
        {
          "output_type": "display_data",
          "data": {
            "text/html": [
              "<pre>| 6210         | 1.79503      | 3h 26m       |</pre>"
            ],
            "text/plain": [
              "| 6210         | 1.79503      | 3h 26m       |"
            ]
          },
          "metadata": {
            "tags": []
          }
        },
        {
          "output_type": "display_data",
          "data": {
            "text/html": [
              "<pre>| 6215         | 1.80323      | 3h 26m       |</pre>"
            ],
            "text/plain": [
              "| 6215         | 1.80323      | 3h 26m       |"
            ]
          },
          "metadata": {
            "tags": []
          }
        },
        {
          "output_type": "display_data",
          "data": {
            "text/html": [
              "<pre>| 6220         | 1.75035      | 3h 26m       |</pre>"
            ],
            "text/plain": [
              "| 6220         | 1.75035      | 3h 26m       |"
            ]
          },
          "metadata": {
            "tags": []
          }
        },
        {
          "output_type": "display_data",
          "data": {
            "text/html": [
              "<pre>| 6225         | 1.76311      | 3h 26m       |</pre>"
            ],
            "text/plain": [
              "| 6225         | 1.76311      | 3h 26m       |"
            ]
          },
          "metadata": {
            "tags": []
          }
        },
        {
          "output_type": "display_data",
          "data": {
            "text/html": [
              "<pre>| 6230         | 1.74646      | 3h 26m       |</pre>"
            ],
            "text/plain": [
              "| 6230         | 1.74646      | 3h 26m       |"
            ]
          },
          "metadata": {
            "tags": []
          }
        },
        {
          "output_type": "display_data",
          "data": {
            "text/html": [
              "<pre>| 6235         | 1.70196      | 3h 26m       |</pre>"
            ],
            "text/plain": [
              "| 6235         | 1.70196      | 3h 26m       |"
            ]
          },
          "metadata": {
            "tags": []
          }
        },
        {
          "output_type": "display_data",
          "data": {
            "text/html": [
              "<pre>| 6240         | 1.68582      | 3h 27m       |</pre>"
            ],
            "text/plain": [
              "| 6240         | 1.68582      | 3h 27m       |"
            ]
          },
          "metadata": {
            "tags": []
          }
        },
        {
          "output_type": "display_data",
          "data": {
            "text/html": [
              "<pre>| 6245         | 1.69417      | 3h 27m       |</pre>"
            ],
            "text/plain": [
              "| 6245         | 1.69417      | 3h 27m       |"
            ]
          },
          "metadata": {
            "tags": []
          }
        },
        {
          "output_type": "display_data",
          "data": {
            "text/html": [
              "<pre>| 6250         | 1.69982      | 3h 27m       |</pre>"
            ],
            "text/plain": [
              "| 6250         | 1.69982      | 3h 27m       |"
            ]
          },
          "metadata": {
            "tags": []
          }
        },
        {
          "output_type": "display_data",
          "data": {
            "text/html": [
              "<pre>| 6255         | 1.72242      | 3h 27m       |</pre>"
            ],
            "text/plain": [
              "| 6255         | 1.72242      | 3h 27m       |"
            ]
          },
          "metadata": {
            "tags": []
          }
        },
        {
          "output_type": "display_data",
          "data": {
            "text/html": [
              "<pre>| 6260         | 1.74539      | 3h 27m       |</pre>"
            ],
            "text/plain": [
              "| 6260         | 1.74539      | 3h 27m       |"
            ]
          },
          "metadata": {
            "tags": []
          }
        },
        {
          "output_type": "display_data",
          "data": {
            "text/html": [
              "<pre>| 6265         | 1.81907      | 3h 27m       |</pre>"
            ],
            "text/plain": [
              "| 6265         | 1.81907      | 3h 27m       |"
            ]
          },
          "metadata": {
            "tags": []
          }
        },
        {
          "output_type": "display_data",
          "data": {
            "text/html": [
              "<pre>| 6270         | 1.78316      | 3h 28m       |</pre>"
            ],
            "text/plain": [
              "| 6270         | 1.78316      | 3h 28m       |"
            ]
          },
          "metadata": {
            "tags": []
          }
        },
        {
          "output_type": "display_data",
          "data": {
            "text/html": [
              "<pre>| 6275         | 1.82507      | 3h 28m       |</pre>"
            ],
            "text/plain": [
              "| 6275         | 1.82507      | 3h 28m       |"
            ]
          },
          "metadata": {
            "tags": []
          }
        },
        {
          "output_type": "display_data",
          "data": {
            "text/html": [
              "<pre>| 6280         | 1.80069      | 3h 28m       |</pre>"
            ],
            "text/plain": [
              "| 6280         | 1.80069      | 3h 28m       |"
            ]
          },
          "metadata": {
            "tags": []
          }
        },
        {
          "output_type": "display_data",
          "data": {
            "text/html": [
              "<pre>| 6285         | 1.74325      | 3h 28m       |</pre>"
            ],
            "text/plain": [
              "| 6285         | 1.74325      | 3h 28m       |"
            ]
          },
          "metadata": {
            "tags": []
          }
        },
        {
          "output_type": "display_data",
          "data": {
            "text/html": [
              "<pre>| 6290         | 1.74146      | 3h 28m       |</pre>"
            ],
            "text/plain": [
              "| 6290         | 1.74146      | 3h 28m       |"
            ]
          },
          "metadata": {
            "tags": []
          }
        },
        {
          "output_type": "display_data",
          "data": {
            "text/html": [
              "<pre>| 6295         | 1.74563      | 3h 28m       |</pre>"
            ],
            "text/plain": [
              "| 6295         | 1.74563      | 3h 28m       |"
            ]
          },
          "metadata": {
            "tags": []
          }
        },
        {
          "output_type": "display_data",
          "data": {
            "text/html": [
              "<pre>| 6300         | 1.72888      | 3h 29m       |</pre>"
            ],
            "text/plain": [
              "| 6300         | 1.72888      | 3h 29m       |"
            ]
          },
          "metadata": {
            "tags": []
          }
        },
        {
          "output_type": "display_data",
          "data": {
            "text/html": [
              "<pre>| 6305         | 1.71963      | 3h 29m       |</pre>"
            ],
            "text/plain": [
              "| 6305         | 1.71963      | 3h 29m       |"
            ]
          },
          "metadata": {
            "tags": []
          }
        },
        {
          "output_type": "display_data",
          "data": {
            "text/html": [
              "<pre>| 6310         | 1.74543      | 3h 29m       |</pre>"
            ],
            "text/plain": [
              "| 6310         | 1.74543      | 3h 29m       |"
            ]
          },
          "metadata": {
            "tags": []
          }
        },
        {
          "output_type": "display_data",
          "data": {
            "text/html": [
              "<pre>| 6315         | 1.75313      | 3h 29m       |</pre>"
            ],
            "text/plain": [
              "| 6315         | 1.75313      | 3h 29m       |"
            ]
          },
          "metadata": {
            "tags": []
          }
        },
        {
          "output_type": "display_data",
          "data": {
            "text/html": [
              "<pre>| 6320         | 1.67091      | 3h 29m       |</pre>"
            ],
            "text/plain": [
              "| 6320         | 1.67091      | 3h 29m       |"
            ]
          },
          "metadata": {
            "tags": []
          }
        },
        {
          "output_type": "display_data",
          "data": {
            "text/html": [
              "<pre>| 6325         | 1.64985      | 3h 29m       |</pre>"
            ],
            "text/plain": [
              "| 6325         | 1.64985      | 3h 29m       |"
            ]
          },
          "metadata": {
            "tags": []
          }
        },
        {
          "output_type": "display_data",
          "data": {
            "text/html": [
              "<pre>| 6330         | 1.66821      | 3h 30m       |</pre>"
            ],
            "text/plain": [
              "| 6330         | 1.66821      | 3h 30m       |"
            ]
          },
          "metadata": {
            "tags": []
          }
        },
        {
          "output_type": "display_data",
          "data": {
            "text/html": [
              "<pre>| 6335         | 1.73521      | 3h 30m       |</pre>"
            ],
            "text/plain": [
              "| 6335         | 1.73521      | 3h 30m       |"
            ]
          },
          "metadata": {
            "tags": []
          }
        },
        {
          "output_type": "display_data",
          "data": {
            "text/html": [
              "<pre>| 6340         | 1.74496      | 3h 30m       |</pre>"
            ],
            "text/plain": [
              "| 6340         | 1.74496      | 3h 30m       |"
            ]
          },
          "metadata": {
            "tags": []
          }
        },
        {
          "output_type": "display_data",
          "data": {
            "text/html": [
              "<pre>| 6345         | 1.7457       | 3h 30m       |</pre>"
            ],
            "text/plain": [
              "| 6345         | 1.7457       | 3h 30m       |"
            ]
          },
          "metadata": {
            "tags": []
          }
        },
        {
          "output_type": "display_data",
          "data": {
            "text/html": [
              "<pre>| 6350         | 1.68062      | 3h 30m       |</pre>"
            ],
            "text/plain": [
              "| 6350         | 1.68062      | 3h 30m       |"
            ]
          },
          "metadata": {
            "tags": []
          }
        },
        {
          "output_type": "display_data",
          "data": {
            "text/html": [
              "<pre>| 6355         | 1.69305      | 3h 30m       |</pre>"
            ],
            "text/plain": [
              "| 6355         | 1.69305      | 3h 30m       |"
            ]
          },
          "metadata": {
            "tags": []
          }
        },
        {
          "output_type": "display_data",
          "data": {
            "text/html": [
              "<pre>| 6360         | 1.68645      | 3h 31m       |</pre>"
            ],
            "text/plain": [
              "| 6360         | 1.68645      | 3h 31m       |"
            ]
          },
          "metadata": {
            "tags": []
          }
        },
        {
          "output_type": "display_data",
          "data": {
            "text/html": [
              "<pre>| 6365         | 1.67587      | 3h 31m       |</pre>"
            ],
            "text/plain": [
              "| 6365         | 1.67587      | 3h 31m       |"
            ]
          },
          "metadata": {
            "tags": []
          }
        },
        {
          "output_type": "display_data",
          "data": {
            "text/html": [
              "<pre>| 6370         | 1.66227      | 3h 31m       |</pre>"
            ],
            "text/plain": [
              "| 6370         | 1.66227      | 3h 31m       |"
            ]
          },
          "metadata": {
            "tags": []
          }
        },
        {
          "output_type": "display_data",
          "data": {
            "text/html": [
              "<pre>| 6375         | 1.7236       | 3h 31m       |</pre>"
            ],
            "text/plain": [
              "| 6375         | 1.7236       | 3h 31m       |"
            ]
          },
          "metadata": {
            "tags": []
          }
        },
        {
          "output_type": "display_data",
          "data": {
            "text/html": [
              "<pre>| 6380         | 1.77602      | 3h 31m       |</pre>"
            ],
            "text/plain": [
              "| 6380         | 1.77602      | 3h 31m       |"
            ]
          },
          "metadata": {
            "tags": []
          }
        },
        {
          "output_type": "display_data",
          "data": {
            "text/html": [
              "<pre>| 6385         | 1.7557       | 3h 31m       |</pre>"
            ],
            "text/plain": [
              "| 6385         | 1.7557       | 3h 31m       |"
            ]
          },
          "metadata": {
            "tags": []
          }
        },
        {
          "output_type": "display_data",
          "data": {
            "text/html": [
              "<pre>| 6390         | 1.72112      | 3h 32m       |</pre>"
            ],
            "text/plain": [
              "| 6390         | 1.72112      | 3h 32m       |"
            ]
          },
          "metadata": {
            "tags": []
          }
        },
        {
          "output_type": "display_data",
          "data": {
            "text/html": [
              "<pre>| 6395         | 1.78087      | 3h 32m       |</pre>"
            ],
            "text/plain": [
              "| 6395         | 1.78087      | 3h 32m       |"
            ]
          },
          "metadata": {
            "tags": []
          }
        },
        {
          "output_type": "display_data",
          "data": {
            "text/html": [
              "<pre>| 6400         | 1.77853      | 3h 32m       |</pre>"
            ],
            "text/plain": [
              "| 6400         | 1.77853      | 3h 32m       |"
            ]
          },
          "metadata": {
            "tags": []
          }
        },
        {
          "output_type": "display_data",
          "data": {
            "text/html": [
              "<pre>| 6405         | 1.82008      | 3h 32m       |</pre>"
            ],
            "text/plain": [
              "| 6405         | 1.82008      | 3h 32m       |"
            ]
          },
          "metadata": {
            "tags": []
          }
        },
        {
          "output_type": "display_data",
          "data": {
            "text/html": [
              "<pre>| 6410         | 1.82025      | 3h 32m       |</pre>"
            ],
            "text/plain": [
              "| 6410         | 1.82025      | 3h 32m       |"
            ]
          },
          "metadata": {
            "tags": []
          }
        },
        {
          "output_type": "display_data",
          "data": {
            "text/html": [
              "<pre>| 6415         | 1.74419      | 3h 32m       |</pre>"
            ],
            "text/plain": [
              "| 6415         | 1.74419      | 3h 32m       |"
            ]
          },
          "metadata": {
            "tags": []
          }
        },
        {
          "output_type": "display_data",
          "data": {
            "text/html": [
              "<pre>| 6420         | 1.77065      | 3h 33m       |</pre>"
            ],
            "text/plain": [
              "| 6420         | 1.77065      | 3h 33m       |"
            ]
          },
          "metadata": {
            "tags": []
          }
        },
        {
          "output_type": "display_data",
          "data": {
            "text/html": [
              "<pre>| 6425         | 1.72694      | 3h 33m       |</pre>"
            ],
            "text/plain": [
              "| 6425         | 1.72694      | 3h 33m       |"
            ]
          },
          "metadata": {
            "tags": []
          }
        },
        {
          "output_type": "display_data",
          "data": {
            "text/html": [
              "<pre>| 6430         | 1.70923      | 3h 33m       |</pre>"
            ],
            "text/plain": [
              "| 6430         | 1.70923      | 3h 33m       |"
            ]
          },
          "metadata": {
            "tags": []
          }
        },
        {
          "output_type": "display_data",
          "data": {
            "text/html": [
              "<pre>| 6435         | 1.75506      | 3h 33m       |</pre>"
            ],
            "text/plain": [
              "| 6435         | 1.75506      | 3h 33m       |"
            ]
          },
          "metadata": {
            "tags": []
          }
        },
        {
          "output_type": "display_data",
          "data": {
            "text/html": [
              "<pre>| 6440         | 1.79104      | 3h 33m       |</pre>"
            ],
            "text/plain": [
              "| 6440         | 1.79104      | 3h 33m       |"
            ]
          },
          "metadata": {
            "tags": []
          }
        },
        {
          "output_type": "display_data",
          "data": {
            "text/html": [
              "<pre>| 6445         | 1.82976      | 3h 33m       |</pre>"
            ],
            "text/plain": [
              "| 6445         | 1.82976      | 3h 33m       |"
            ]
          },
          "metadata": {
            "tags": []
          }
        },
        {
          "output_type": "display_data",
          "data": {
            "text/html": [
              "<pre>| 6450         | 1.76587      | 3h 34m       |</pre>"
            ],
            "text/plain": [
              "| 6450         | 1.76587      | 3h 34m       |"
            ]
          },
          "metadata": {
            "tags": []
          }
        },
        {
          "output_type": "display_data",
          "data": {
            "text/html": [
              "<pre>| 6455         | 1.77158      | 3h 34m       |</pre>"
            ],
            "text/plain": [
              "| 6455         | 1.77158      | 3h 34m       |"
            ]
          },
          "metadata": {
            "tags": []
          }
        },
        {
          "output_type": "display_data",
          "data": {
            "text/html": [
              "<pre>| 6460         | 1.73191      | 3h 34m       |</pre>"
            ],
            "text/plain": [
              "| 6460         | 1.73191      | 3h 34m       |"
            ]
          },
          "metadata": {
            "tags": []
          }
        },
        {
          "output_type": "display_data",
          "data": {
            "text/html": [
              "<pre>| 6465         | 1.82132      | 3h 34m       |</pre>"
            ],
            "text/plain": [
              "| 6465         | 1.82132      | 3h 34m       |"
            ]
          },
          "metadata": {
            "tags": []
          }
        },
        {
          "output_type": "display_data",
          "data": {
            "text/html": [
              "<pre>| 6470         | 1.74507      | 3h 34m       |</pre>"
            ],
            "text/plain": [
              "| 6470         | 1.74507      | 3h 34m       |"
            ]
          },
          "metadata": {
            "tags": []
          }
        },
        {
          "output_type": "display_data",
          "data": {
            "text/html": [
              "<pre>| 6475         | 1.82984      | 3h 34m       |</pre>"
            ],
            "text/plain": [
              "| 6475         | 1.82984      | 3h 34m       |"
            ]
          },
          "metadata": {
            "tags": []
          }
        },
        {
          "output_type": "display_data",
          "data": {
            "text/html": [
              "<pre>| 6480         | 1.8035       | 3h 35m       |</pre>"
            ],
            "text/plain": [
              "| 6480         | 1.8035       | 3h 35m       |"
            ]
          },
          "metadata": {
            "tags": []
          }
        },
        {
          "output_type": "display_data",
          "data": {
            "text/html": [
              "<pre>| 6485         | 1.70199      | 3h 35m       |</pre>"
            ],
            "text/plain": [
              "| 6485         | 1.70199      | 3h 35m       |"
            ]
          },
          "metadata": {
            "tags": []
          }
        },
        {
          "output_type": "display_data",
          "data": {
            "text/html": [
              "<pre>| 6490         | 1.73019      | 3h 35m       |</pre>"
            ],
            "text/plain": [
              "| 6490         | 1.73019      | 3h 35m       |"
            ]
          },
          "metadata": {
            "tags": []
          }
        },
        {
          "output_type": "display_data",
          "data": {
            "text/html": [
              "<pre>| 6495         | 1.71471      | 3h 35m       |</pre>"
            ],
            "text/plain": [
              "| 6495         | 1.71471      | 3h 35m       |"
            ]
          },
          "metadata": {
            "tags": []
          }
        },
        {
          "output_type": "display_data",
          "data": {
            "text/html": [
              "<pre>| 6500         | 1.71878      | 3h 35m       |</pre>"
            ],
            "text/plain": [
              "| 6500         | 1.71878      | 3h 35m       |"
            ]
          },
          "metadata": {
            "tags": []
          }
        },
        {
          "output_type": "display_data",
          "data": {
            "text/html": [
              "<pre>| 6505         | 1.69663      | 3h 35m       |</pre>"
            ],
            "text/plain": [
              "| 6505         | 1.69663      | 3h 35m       |"
            ]
          },
          "metadata": {
            "tags": []
          }
        },
        {
          "output_type": "display_data",
          "data": {
            "text/html": [
              "<pre>| 6510         | 1.69445      | 3h 36m       |</pre>"
            ],
            "text/plain": [
              "| 6510         | 1.69445      | 3h 36m       |"
            ]
          },
          "metadata": {
            "tags": []
          }
        },
        {
          "output_type": "display_data",
          "data": {
            "text/html": [
              "<pre>| 6515         | 1.68837      | 3h 36m       |</pre>"
            ],
            "text/plain": [
              "| 6515         | 1.68837      | 3h 36m       |"
            ]
          },
          "metadata": {
            "tags": []
          }
        },
        {
          "output_type": "display_data",
          "data": {
            "text/html": [
              "<pre>| 6520         | 1.73734      | 3h 36m       |</pre>"
            ],
            "text/plain": [
              "| 6520         | 1.73734      | 3h 36m       |"
            ]
          },
          "metadata": {
            "tags": []
          }
        },
        {
          "output_type": "display_data",
          "data": {
            "text/html": [
              "<pre>| 6525         | 1.71282      | 3h 36m       |</pre>"
            ],
            "text/plain": [
              "| 6525         | 1.71282      | 3h 36m       |"
            ]
          },
          "metadata": {
            "tags": []
          }
        },
        {
          "output_type": "display_data",
          "data": {
            "text/html": [
              "<pre>| 6530         | 1.76805      | 3h 36m       |</pre>"
            ],
            "text/plain": [
              "| 6530         | 1.76805      | 3h 36m       |"
            ]
          },
          "metadata": {
            "tags": []
          }
        },
        {
          "output_type": "display_data",
          "data": {
            "text/html": [
              "<pre>| 6535         | 1.72248      | 3h 36m       |</pre>"
            ],
            "text/plain": [
              "| 6535         | 1.72248      | 3h 36m       |"
            ]
          },
          "metadata": {
            "tags": []
          }
        },
        {
          "output_type": "display_data",
          "data": {
            "text/html": [
              "<pre>| 6540         | 1.74735      | 3h 37m       |</pre>"
            ],
            "text/plain": [
              "| 6540         | 1.74735      | 3h 37m       |"
            ]
          },
          "metadata": {
            "tags": []
          }
        },
        {
          "output_type": "display_data",
          "data": {
            "text/html": [
              "<pre>| 6545         | 1.7692       | 3h 37m       |</pre>"
            ],
            "text/plain": [
              "| 6545         | 1.7692       | 3h 37m       |"
            ]
          },
          "metadata": {
            "tags": []
          }
        },
        {
          "output_type": "display_data",
          "data": {
            "text/html": [
              "<pre>| 6550         | 1.76751      | 3h 37m       |</pre>"
            ],
            "text/plain": [
              "| 6550         | 1.76751      | 3h 37m       |"
            ]
          },
          "metadata": {
            "tags": []
          }
        },
        {
          "output_type": "display_data",
          "data": {
            "text/html": [
              "<pre>| 6555         | 1.70987      | 3h 37m       |</pre>"
            ],
            "text/plain": [
              "| 6555         | 1.70987      | 3h 37m       |"
            ]
          },
          "metadata": {
            "tags": []
          }
        },
        {
          "output_type": "display_data",
          "data": {
            "text/html": [
              "<pre>| 6560         | 1.74655      | 3h 37m       |</pre>"
            ],
            "text/plain": [
              "| 6560         | 1.74655      | 3h 37m       |"
            ]
          },
          "metadata": {
            "tags": []
          }
        },
        {
          "output_type": "display_data",
          "data": {
            "text/html": [
              "<pre>| 6565         | 1.7789       | 3h 37m       |</pre>"
            ],
            "text/plain": [
              "| 6565         | 1.7789       | 3h 37m       |"
            ]
          },
          "metadata": {
            "tags": []
          }
        },
        {
          "output_type": "display_data",
          "data": {
            "text/html": [
              "<pre>| 6570         | 1.81065      | 3h 38m       |</pre>"
            ],
            "text/plain": [
              "| 6570         | 1.81065      | 3h 38m       |"
            ]
          },
          "metadata": {
            "tags": []
          }
        },
        {
          "output_type": "display_data",
          "data": {
            "text/html": [
              "<pre>| 6575         | 1.78944      | 3h 38m       |</pre>"
            ],
            "text/plain": [
              "| 6575         | 1.78944      | 3h 38m       |"
            ]
          },
          "metadata": {
            "tags": []
          }
        },
        {
          "output_type": "display_data",
          "data": {
            "text/html": [
              "<pre>| 6580         | 1.84298      | 3h 38m       |</pre>"
            ],
            "text/plain": [
              "| 6580         | 1.84298      | 3h 38m       |"
            ]
          },
          "metadata": {
            "tags": []
          }
        },
        {
          "output_type": "display_data",
          "data": {
            "text/html": [
              "<pre>| 6585         | 1.80938      | 3h 38m       |</pre>"
            ],
            "text/plain": [
              "| 6585         | 1.80938      | 3h 38m       |"
            ]
          },
          "metadata": {
            "tags": []
          }
        },
        {
          "output_type": "display_data",
          "data": {
            "text/html": [
              "<pre>| 6590         | 1.82072      | 3h 38m       |</pre>"
            ],
            "text/plain": [
              "| 6590         | 1.82072      | 3h 38m       |"
            ]
          },
          "metadata": {
            "tags": []
          }
        },
        {
          "output_type": "display_data",
          "data": {
            "text/html": [
              "<pre>| 6595         | 1.81287      | 3h 38m       |</pre>"
            ],
            "text/plain": [
              "| 6595         | 1.81287      | 3h 38m       |"
            ]
          },
          "metadata": {
            "tags": []
          }
        },
        {
          "output_type": "display_data",
          "data": {
            "text/html": [
              "<pre>| 6600         | 1.80006      | 3h 39m       |</pre>"
            ],
            "text/plain": [
              "| 6600         | 1.80006      | 3h 39m       |"
            ]
          },
          "metadata": {
            "tags": []
          }
        },
        {
          "output_type": "display_data",
          "data": {
            "text/html": [
              "<pre>| 6605         | 1.75998      | 3h 39m       |</pre>"
            ],
            "text/plain": [
              "| 6605         | 1.75998      | 3h 39m       |"
            ]
          },
          "metadata": {
            "tags": []
          }
        },
        {
          "output_type": "display_data",
          "data": {
            "text/html": [
              "<pre>| 6610         | 1.81404      | 3h 39m       |</pre>"
            ],
            "text/plain": [
              "| 6610         | 1.81404      | 3h 39m       |"
            ]
          },
          "metadata": {
            "tags": []
          }
        },
        {
          "output_type": "display_data",
          "data": {
            "text/html": [
              "<pre>| 6615         | 1.78759      | 3h 39m       |</pre>"
            ],
            "text/plain": [
              "| 6615         | 1.78759      | 3h 39m       |"
            ]
          },
          "metadata": {
            "tags": []
          }
        },
        {
          "output_type": "display_data",
          "data": {
            "text/html": [
              "<pre>| 6620         | 1.71848      | 3h 39m       |</pre>"
            ],
            "text/plain": [
              "| 6620         | 1.71848      | 3h 39m       |"
            ]
          },
          "metadata": {
            "tags": []
          }
        },
        {
          "output_type": "display_data",
          "data": {
            "text/html": [
              "<pre>| 6625         | 1.73613      | 3h 39m       |</pre>"
            ],
            "text/plain": [
              "| 6625         | 1.73613      | 3h 39m       |"
            ]
          },
          "metadata": {
            "tags": []
          }
        },
        {
          "output_type": "display_data",
          "data": {
            "text/html": [
              "<pre>| 6630         | 1.72733      | 3h 39m       |</pre>"
            ],
            "text/plain": [
              "| 6630         | 1.72733      | 3h 39m       |"
            ]
          },
          "metadata": {
            "tags": []
          }
        },
        {
          "output_type": "display_data",
          "data": {
            "text/html": [
              "<pre>| 6635         | 1.72739      | 3h 40m       |</pre>"
            ],
            "text/plain": [
              "| 6635         | 1.72739      | 3h 40m       |"
            ]
          },
          "metadata": {
            "tags": []
          }
        },
        {
          "output_type": "display_data",
          "data": {
            "text/html": [
              "<pre>| 6640         | 1.78049      | 3h 40m       |</pre>"
            ],
            "text/plain": [
              "| 6640         | 1.78049      | 3h 40m       |"
            ]
          },
          "metadata": {
            "tags": []
          }
        },
        {
          "output_type": "display_data",
          "data": {
            "text/html": [
              "<pre>| 6645         | 1.6873       | 3h 40m       |</pre>"
            ],
            "text/plain": [
              "| 6645         | 1.6873       | 3h 40m       |"
            ]
          },
          "metadata": {
            "tags": []
          }
        },
        {
          "output_type": "display_data",
          "data": {
            "text/html": [
              "<pre>| 6650         | 1.67984      | 3h 40m       |</pre>"
            ],
            "text/plain": [
              "| 6650         | 1.67984      | 3h 40m       |"
            ]
          },
          "metadata": {
            "tags": []
          }
        },
        {
          "output_type": "display_data",
          "data": {
            "text/html": [
              "<pre>| 6655         | 1.6825       | 3h 40m       |</pre>"
            ],
            "text/plain": [
              "| 6655         | 1.6825       | 3h 40m       |"
            ]
          },
          "metadata": {
            "tags": []
          }
        },
        {
          "output_type": "display_data",
          "data": {
            "text/html": [
              "<pre>| 6660         | 1.6746       | 3h 40m       |</pre>"
            ],
            "text/plain": [
              "| 6660         | 1.6746       | 3h 40m       |"
            ]
          },
          "metadata": {
            "tags": []
          }
        },
        {
          "output_type": "display_data",
          "data": {
            "text/html": [
              "<pre>| 6665         | 1.68197      | 3h 41m       |</pre>"
            ],
            "text/plain": [
              "| 6665         | 1.68197      | 3h 41m       |"
            ]
          },
          "metadata": {
            "tags": []
          }
        },
        {
          "output_type": "display_data",
          "data": {
            "text/html": [
              "<pre>| 6670         | 1.71037      | 3h 41m       |</pre>"
            ],
            "text/plain": [
              "| 6670         | 1.71037      | 3h 41m       |"
            ]
          },
          "metadata": {
            "tags": []
          }
        },
        {
          "output_type": "display_data",
          "data": {
            "text/html": [
              "<pre>| 6675         | 1.74063      | 3h 41m       |</pre>"
            ],
            "text/plain": [
              "| 6675         | 1.74063      | 3h 41m       |"
            ]
          },
          "metadata": {
            "tags": []
          }
        },
        {
          "output_type": "display_data",
          "data": {
            "text/html": [
              "<pre>| 6680         | 1.78309      | 3h 41m       |</pre>"
            ],
            "text/plain": [
              "| 6680         | 1.78309      | 3h 41m       |"
            ]
          },
          "metadata": {
            "tags": []
          }
        },
        {
          "output_type": "display_data",
          "data": {
            "text/html": [
              "<pre>| 6685         | 1.73082      | 3h 41m       |</pre>"
            ],
            "text/plain": [
              "| 6685         | 1.73082      | 3h 41m       |"
            ]
          },
          "metadata": {
            "tags": []
          }
        },
        {
          "output_type": "display_data",
          "data": {
            "text/html": [
              "<pre>| 6690         | 1.74941      | 3h 41m       |</pre>"
            ],
            "text/plain": [
              "| 6690         | 1.74941      | 3h 41m       |"
            ]
          },
          "metadata": {
            "tags": []
          }
        },
        {
          "output_type": "display_data",
          "data": {
            "text/html": [
              "<pre>| 6695         | 1.68986      | 3h 42m       |</pre>"
            ],
            "text/plain": [
              "| 6695         | 1.68986      | 3h 42m       |"
            ]
          },
          "metadata": {
            "tags": []
          }
        },
        {
          "output_type": "display_data",
          "data": {
            "text/html": [
              "<pre>| 6700         | 1.738        | 3h 42m       |</pre>"
            ],
            "text/plain": [
              "| 6700         | 1.738        | 3h 42m       |"
            ]
          },
          "metadata": {
            "tags": []
          }
        },
        {
          "output_type": "display_data",
          "data": {
            "text/html": [
              "<pre>| 6705         | 1.727        | 3h 42m       |</pre>"
            ],
            "text/plain": [
              "| 6705         | 1.727        | 3h 42m       |"
            ]
          },
          "metadata": {
            "tags": []
          }
        },
        {
          "output_type": "display_data",
          "data": {
            "text/html": [
              "<pre>| 6710         | 1.81737      | 3h 42m       |</pre>"
            ],
            "text/plain": [
              "| 6710         | 1.81737      | 3h 42m       |"
            ]
          },
          "metadata": {
            "tags": []
          }
        },
        {
          "output_type": "display_data",
          "data": {
            "text/html": [
              "<pre>| 6715         | 1.80764      | 3h 42m       |</pre>"
            ],
            "text/plain": [
              "| 6715         | 1.80764      | 3h 42m       |"
            ]
          },
          "metadata": {
            "tags": []
          }
        },
        {
          "output_type": "display_data",
          "data": {
            "text/html": [
              "<pre>| 6720         | 1.79733      | 3h 43m       |</pre>"
            ],
            "text/plain": [
              "| 6720         | 1.79733      | 3h 43m       |"
            ]
          },
          "metadata": {
            "tags": []
          }
        },
        {
          "output_type": "display_data",
          "data": {
            "text/html": [
              "<pre>| 6725         | 1.84603      | 3h 43m       |</pre>"
            ],
            "text/plain": [
              "| 6725         | 1.84603      | 3h 43m       |"
            ]
          },
          "metadata": {
            "tags": []
          }
        },
        {
          "output_type": "display_data",
          "data": {
            "text/html": [
              "<pre>| 6730         | 1.82533      | 3h 43m       |</pre>"
            ],
            "text/plain": [
              "| 6730         | 1.82533      | 3h 43m       |"
            ]
          },
          "metadata": {
            "tags": []
          }
        },
        {
          "output_type": "display_data",
          "data": {
            "text/html": [
              "<pre>| 6735         | 1.83943      | 3h 43m       |</pre>"
            ],
            "text/plain": [
              "| 6735         | 1.83943      | 3h 43m       |"
            ]
          },
          "metadata": {
            "tags": []
          }
        },
        {
          "output_type": "display_data",
          "data": {
            "text/html": [
              "<pre>| 6740         | 1.81407      | 3h 43m       |</pre>"
            ],
            "text/plain": [
              "| 6740         | 1.81407      | 3h 43m       |"
            ]
          },
          "metadata": {
            "tags": []
          }
        },
        {
          "output_type": "display_data",
          "data": {
            "text/html": [
              "<pre>| 6745         | 1.80256      | 3h 43m       |</pre>"
            ],
            "text/plain": [
              "| 6745         | 1.80256      | 3h 43m       |"
            ]
          },
          "metadata": {
            "tags": []
          }
        },
        {
          "output_type": "display_data",
          "data": {
            "text/html": [
              "<pre>| 6750         | 1.72512      | 3h 43m       |</pre>"
            ],
            "text/plain": [
              "| 6750         | 1.72512      | 3h 43m       |"
            ]
          },
          "metadata": {
            "tags": []
          }
        },
        {
          "output_type": "display_data",
          "data": {
            "text/html": [
              "<pre>| 6755         | 1.75047      | 3h 44m       |</pre>"
            ],
            "text/plain": [
              "| 6755         | 1.75047      | 3h 44m       |"
            ]
          },
          "metadata": {
            "tags": []
          }
        },
        {
          "output_type": "display_data",
          "data": {
            "text/html": [
              "<pre>| 6760         | 1.72802      | 3h 44m       |</pre>"
            ],
            "text/plain": [
              "| 6760         | 1.72802      | 3h 44m       |"
            ]
          },
          "metadata": {
            "tags": []
          }
        },
        {
          "output_type": "display_data",
          "data": {
            "text/html": [
              "<pre>| 6765         | 1.7403       | 3h 44m       |</pre>"
            ],
            "text/plain": [
              "| 6765         | 1.7403       | 3h 44m       |"
            ]
          },
          "metadata": {
            "tags": []
          }
        },
        {
          "output_type": "display_data",
          "data": {
            "text/html": [
              "<pre>| 6770         | 1.79665      | 3h 44m       |</pre>"
            ],
            "text/plain": [
              "| 6770         | 1.79665      | 3h 44m       |"
            ]
          },
          "metadata": {
            "tags": []
          }
        },
        {
          "output_type": "display_data",
          "data": {
            "text/html": [
              "<pre>| 6775         | 1.84743      | 3h 44m       |</pre>"
            ],
            "text/plain": [
              "| 6775         | 1.84743      | 3h 44m       |"
            ]
          },
          "metadata": {
            "tags": []
          }
        },
        {
          "output_type": "display_data",
          "data": {
            "text/html": [
              "<pre>| 6780         | 1.74178      | 3h 44m       |</pre>"
            ],
            "text/plain": [
              "| 6780         | 1.74178      | 3h 44m       |"
            ]
          },
          "metadata": {
            "tags": []
          }
        },
        {
          "output_type": "display_data",
          "data": {
            "text/html": [
              "<pre>| 6785         | 1.77612      | 3h 45m       |</pre>"
            ],
            "text/plain": [
              "| 6785         | 1.77612      | 3h 45m       |"
            ]
          },
          "metadata": {
            "tags": []
          }
        },
        {
          "output_type": "display_data",
          "data": {
            "text/html": [
              "<pre>| 6790         | 1.76439      | 3h 45m       |</pre>"
            ],
            "text/plain": [
              "| 6790         | 1.76439      | 3h 45m       |"
            ]
          },
          "metadata": {
            "tags": []
          }
        },
        {
          "output_type": "display_data",
          "data": {
            "text/html": [
              "<pre>| 6795         | 1.73915      | 3h 45m       |</pre>"
            ],
            "text/plain": [
              "| 6795         | 1.73915      | 3h 45m       |"
            ]
          },
          "metadata": {
            "tags": []
          }
        },
        {
          "output_type": "display_data",
          "data": {
            "text/html": [
              "<pre>| 6800         | 1.76292      | 3h 45m       |</pre>"
            ],
            "text/plain": [
              "| 6800         | 1.76292      | 3h 45m       |"
            ]
          },
          "metadata": {
            "tags": []
          }
        },
        {
          "output_type": "display_data",
          "data": {
            "text/html": [
              "<pre>| 6805         | 1.75152      | 3h 45m       |</pre>"
            ],
            "text/plain": [
              "| 6805         | 1.75152      | 3h 45m       |"
            ]
          },
          "metadata": {
            "tags": []
          }
        },
        {
          "output_type": "display_data",
          "data": {
            "text/html": [
              "<pre>| 6810         | 1.75237      | 3h 45m       |</pre>"
            ],
            "text/plain": [
              "| 6810         | 1.75237      | 3h 45m       |"
            ]
          },
          "metadata": {
            "tags": []
          }
        },
        {
          "output_type": "display_data",
          "data": {
            "text/html": [
              "<pre>| 6815         | 1.72038      | 3h 46m       |</pre>"
            ],
            "text/plain": [
              "| 6815         | 1.72038      | 3h 46m       |"
            ]
          },
          "metadata": {
            "tags": []
          }
        },
        {
          "output_type": "display_data",
          "data": {
            "text/html": [
              "<pre>| 6820         | 1.74222      | 3h 46m       |</pre>"
            ],
            "text/plain": [
              "| 6820         | 1.74222      | 3h 46m       |"
            ]
          },
          "metadata": {
            "tags": []
          }
        },
        {
          "output_type": "display_data",
          "data": {
            "text/html": [
              "<pre>| 6825         | 1.7871       | 3h 46m       |</pre>"
            ],
            "text/plain": [
              "| 6825         | 1.7871       | 3h 46m       |"
            ]
          },
          "metadata": {
            "tags": []
          }
        },
        {
          "output_type": "display_data",
          "data": {
            "text/html": [
              "<pre>| 6830         | 1.8027       | 3h 46m       |</pre>"
            ],
            "text/plain": [
              "| 6830         | 1.8027       | 3h 46m       |"
            ]
          },
          "metadata": {
            "tags": []
          }
        },
        {
          "output_type": "display_data",
          "data": {
            "text/html": [
              "<pre>| 6835         | 1.7803       | 3h 46m       |</pre>"
            ],
            "text/plain": [
              "| 6835         | 1.7803       | 3h 46m       |"
            ]
          },
          "metadata": {
            "tags": []
          }
        },
        {
          "output_type": "display_data",
          "data": {
            "text/html": [
              "<pre>| 6840         | 1.83668      | 3h 46m       |</pre>"
            ],
            "text/plain": [
              "| 6840         | 1.83668      | 3h 46m       |"
            ]
          },
          "metadata": {
            "tags": []
          }
        },
        {
          "output_type": "display_data",
          "data": {
            "text/html": [
              "<pre>| 6845         | 1.83564      | 3h 47m       |</pre>"
            ],
            "text/plain": [
              "| 6845         | 1.83564      | 3h 47m       |"
            ]
          },
          "metadata": {
            "tags": []
          }
        },
        {
          "output_type": "display_data",
          "data": {
            "text/html": [
              "<pre>| 6850         | 1.85195      | 3h 47m       |</pre>"
            ],
            "text/plain": [
              "| 6850         | 1.85195      | 3h 47m       |"
            ]
          },
          "metadata": {
            "tags": []
          }
        },
        {
          "output_type": "display_data",
          "data": {
            "text/html": [
              "<pre>| 6855         | 1.80428      | 3h 47m       |</pre>"
            ],
            "text/plain": [
              "| 6855         | 1.80428      | 3h 47m       |"
            ]
          },
          "metadata": {
            "tags": []
          }
        },
        {
          "output_type": "display_data",
          "data": {
            "text/html": [
              "<pre>| 6860         | 1.77819      | 3h 47m       |</pre>"
            ],
            "text/plain": [
              "| 6860         | 1.77819      | 3h 47m       |"
            ]
          },
          "metadata": {
            "tags": []
          }
        },
        {
          "output_type": "display_data",
          "data": {
            "text/html": [
              "<pre>| 6865         | 1.74833      | 3h 47m       |</pre>"
            ],
            "text/plain": [
              "| 6865         | 1.74833      | 3h 47m       |"
            ]
          },
          "metadata": {
            "tags": []
          }
        },
        {
          "output_type": "display_data",
          "data": {
            "text/html": [
              "<pre>| 6870         | 1.75214      | 3h 47m       |</pre>"
            ],
            "text/plain": [
              "| 6870         | 1.75214      | 3h 47m       |"
            ]
          },
          "metadata": {
            "tags": []
          }
        },
        {
          "output_type": "display_data",
          "data": {
            "text/html": [
              "<pre>| 6875         | 1.73941      | 3h 48m       |</pre>"
            ],
            "text/plain": [
              "| 6875         | 1.73941      | 3h 48m       |"
            ]
          },
          "metadata": {
            "tags": []
          }
        },
        {
          "output_type": "display_data",
          "data": {
            "text/html": [
              "<pre>| 6880         | 1.68717      | 3h 48m       |</pre>"
            ],
            "text/plain": [
              "| 6880         | 1.68717      | 3h 48m       |"
            ]
          },
          "metadata": {
            "tags": []
          }
        },
        {
          "output_type": "display_data",
          "data": {
            "text/html": [
              "<pre>| 6885         | 1.71001      | 3h 48m       |</pre>"
            ],
            "text/plain": [
              "| 6885         | 1.71001      | 3h 48m       |"
            ]
          },
          "metadata": {
            "tags": []
          }
        },
        {
          "output_type": "display_data",
          "data": {
            "text/html": [
              "<pre>| 6890         | 1.67333      | 3h 48m       |</pre>"
            ],
            "text/plain": [
              "| 6890         | 1.67333      | 3h 48m       |"
            ]
          },
          "metadata": {
            "tags": []
          }
        },
        {
          "output_type": "display_data",
          "data": {
            "text/html": [
              "<pre>| 6895         | 1.70628      | 3h 48m       |</pre>"
            ],
            "text/plain": [
              "| 6895         | 1.70628      | 3h 48m       |"
            ]
          },
          "metadata": {
            "tags": []
          }
        },
        {
          "output_type": "display_data",
          "data": {
            "text/html": [
              "<pre>| 6900         | 1.77296      | 3h 48m       |</pre>"
            ],
            "text/plain": [
              "| 6900         | 1.77296      | 3h 48m       |"
            ]
          },
          "metadata": {
            "tags": []
          }
        },
        {
          "output_type": "display_data",
          "data": {
            "text/html": [
              "<pre>| 6905         | 1.74105      | 3h 49m       |</pre>"
            ],
            "text/plain": [
              "| 6905         | 1.74105      | 3h 49m       |"
            ]
          },
          "metadata": {
            "tags": []
          }
        },
        {
          "output_type": "display_data",
          "data": {
            "text/html": [
              "<pre>| 6910         | 1.7044       | 3h 49m       |</pre>"
            ],
            "text/plain": [
              "| 6910         | 1.7044       | 3h 49m       |"
            ]
          },
          "metadata": {
            "tags": []
          }
        },
        {
          "output_type": "display_data",
          "data": {
            "text/html": [
              "<pre>| 6915         | 1.69113      | 3h 49m       |</pre>"
            ],
            "text/plain": [
              "| 6915         | 1.69113      | 3h 49m       |"
            ]
          },
          "metadata": {
            "tags": []
          }
        },
        {
          "output_type": "display_data",
          "data": {
            "text/html": [
              "<pre>| 6920         | 1.66952      | 3h 49m       |</pre>"
            ],
            "text/plain": [
              "| 6920         | 1.66952      | 3h 49m       |"
            ]
          },
          "metadata": {
            "tags": []
          }
        },
        {
          "output_type": "display_data",
          "data": {
            "text/html": [
              "<pre>| 6925         | 1.69612      | 3h 49m       |</pre>"
            ],
            "text/plain": [
              "| 6925         | 1.69612      | 3h 49m       |"
            ]
          },
          "metadata": {
            "tags": []
          }
        },
        {
          "output_type": "display_data",
          "data": {
            "text/html": [
              "<pre>| 6930         | 1.67227      | 3h 49m       |</pre>"
            ],
            "text/plain": [
              "| 6930         | 1.67227      | 3h 49m       |"
            ]
          },
          "metadata": {
            "tags": []
          }
        },
        {
          "output_type": "display_data",
          "data": {
            "text/html": [
              "<pre>| 6935         | 1.73703      | 3h 50m       |</pre>"
            ],
            "text/plain": [
              "| 6935         | 1.73703      | 3h 50m       |"
            ]
          },
          "metadata": {
            "tags": []
          }
        },
        {
          "output_type": "display_data",
          "data": {
            "text/html": [
              "<pre>| 6940         | 1.71785      | 3h 50m       |</pre>"
            ],
            "text/plain": [
              "| 6940         | 1.71785      | 3h 50m       |"
            ]
          },
          "metadata": {
            "tags": []
          }
        },
        {
          "output_type": "display_data",
          "data": {
            "text/html": [
              "<pre>| 6945         | 1.76207      | 3h 50m       |</pre>"
            ],
            "text/plain": [
              "| 6945         | 1.76207      | 3h 50m       |"
            ]
          },
          "metadata": {
            "tags": []
          }
        },
        {
          "output_type": "display_data",
          "data": {
            "text/html": [
              "<pre>| 6950         | 1.78748      | 3h 50m       |</pre>"
            ],
            "text/plain": [
              "| 6950         | 1.78748      | 3h 50m       |"
            ]
          },
          "metadata": {
            "tags": []
          }
        },
        {
          "output_type": "display_data",
          "data": {
            "text/html": [
              "<pre>| 6955         | 1.70773      | 3h 50m       |</pre>"
            ],
            "text/plain": [
              "| 6955         | 1.70773      | 3h 50m       |"
            ]
          },
          "metadata": {
            "tags": []
          }
        },
        {
          "output_type": "display_data",
          "data": {
            "text/html": [
              "<pre>| 6960         | 1.7056       | 3h 50m       |</pre>"
            ],
            "text/plain": [
              "| 6960         | 1.7056       | 3h 50m       |"
            ]
          },
          "metadata": {
            "tags": []
          }
        },
        {
          "output_type": "display_data",
          "data": {
            "text/html": [
              "<pre>| 6965         | 1.63315      | 3h 51m       |</pre>"
            ],
            "text/plain": [
              "| 6965         | 1.63315      | 3h 51m       |"
            ]
          },
          "metadata": {
            "tags": []
          }
        },
        {
          "output_type": "display_data",
          "data": {
            "text/html": [
              "<pre>| 6970         | 1.69777      | 3h 51m       |</pre>"
            ],
            "text/plain": [
              "| 6970         | 1.69777      | 3h 51m       |"
            ]
          },
          "metadata": {
            "tags": []
          }
        },
        {
          "output_type": "display_data",
          "data": {
            "text/html": [
              "<pre>| 6975         | 1.80419      | 3h 51m       |</pre>"
            ],
            "text/plain": [
              "| 6975         | 1.80419      | 3h 51m       |"
            ]
          },
          "metadata": {
            "tags": []
          }
        },
        {
          "output_type": "display_data",
          "data": {
            "text/html": [
              "<pre>| 6980         | 1.83062      | 3h 51m       |</pre>"
            ],
            "text/plain": [
              "| 6980         | 1.83062      | 3h 51m       |"
            ]
          },
          "metadata": {
            "tags": []
          }
        },
        {
          "output_type": "display_data",
          "data": {
            "text/html": [
              "<pre>| 6985         | 1.79842      | 3h 51m       |</pre>"
            ],
            "text/plain": [
              "| 6985         | 1.79842      | 3h 51m       |"
            ]
          },
          "metadata": {
            "tags": []
          }
        },
        {
          "output_type": "display_data",
          "data": {
            "text/html": [
              "<pre>| 6990         | 1.69746      | 3h 51m       |</pre>"
            ],
            "text/plain": [
              "| 6990         | 1.69746      | 3h 51m       |"
            ]
          },
          "metadata": {
            "tags": []
          }
        },
        {
          "output_type": "display_data",
          "data": {
            "text/html": [
              "<pre>| 6995         | 1.70201      | 3h 52m       |</pre>"
            ],
            "text/plain": [
              "| 6995         | 1.70201      | 3h 52m       |"
            ]
          },
          "metadata": {
            "tags": []
          }
        },
        {
          "output_type": "display_data",
          "data": {
            "text/html": [
              "<pre>| 7000         | 1.81174      | 3h 52m       |</pre>"
            ],
            "text/plain": [
              "| 7000         | 1.81174      | 3h 52m       |"
            ]
          },
          "metadata": {
            "tags": []
          }
        },
        {
          "output_type": "display_data",
          "data": {
            "text/html": [
              "<pre>| 7005         | 1.76174      | 3h 52m       |</pre>"
            ],
            "text/plain": [
              "| 7005         | 1.76174      | 3h 52m       |"
            ]
          },
          "metadata": {
            "tags": []
          }
        },
        {
          "output_type": "display_data",
          "data": {
            "text/html": [
              "<pre>| 7010         | 1.83011      | 3h 52m       |</pre>"
            ],
            "text/plain": [
              "| 7010         | 1.83011      | 3h 52m       |"
            ]
          },
          "metadata": {
            "tags": []
          }
        },
        {
          "output_type": "display_data",
          "data": {
            "text/html": [
              "<pre>| 7015         | 1.76603      | 3h 52m       |</pre>"
            ],
            "text/plain": [
              "| 7015         | 1.76603      | 3h 52m       |"
            ]
          },
          "metadata": {
            "tags": []
          }
        },
        {
          "output_type": "display_data",
          "data": {
            "text/html": [
              "<pre>| 7020         | 1.76259      | 3h 52m       |</pre>"
            ],
            "text/plain": [
              "| 7020         | 1.76259      | 3h 52m       |"
            ]
          },
          "metadata": {
            "tags": []
          }
        },
        {
          "output_type": "display_data",
          "data": {
            "text/html": [
              "<pre>| 7025         | 1.71056      | 3h 53m       |</pre>"
            ],
            "text/plain": [
              "| 7025         | 1.71056      | 3h 53m       |"
            ]
          },
          "metadata": {
            "tags": []
          }
        },
        {
          "output_type": "display_data",
          "data": {
            "text/html": [
              "<pre>| 7030         | 1.72491      | 3h 53m       |</pre>"
            ],
            "text/plain": [
              "| 7030         | 1.72491      | 3h 53m       |"
            ]
          },
          "metadata": {
            "tags": []
          }
        },
        {
          "output_type": "display_data",
          "data": {
            "text/html": [
              "<pre>| 7035         | 1.71058      | 3h 53m       |</pre>"
            ],
            "text/plain": [
              "| 7035         | 1.71058      | 3h 53m       |"
            ]
          },
          "metadata": {
            "tags": []
          }
        },
        {
          "output_type": "display_data",
          "data": {
            "text/html": [
              "<pre>| 7040         | 1.72282      | 3h 53m       |</pre>"
            ],
            "text/plain": [
              "| 7040         | 1.72282      | 3h 53m       |"
            ]
          },
          "metadata": {
            "tags": []
          }
        },
        {
          "output_type": "display_data",
          "data": {
            "text/html": [
              "<pre>| 7045         | 1.70406      | 3h 53m       |</pre>"
            ],
            "text/plain": [
              "| 7045         | 1.70406      | 3h 53m       |"
            ]
          },
          "metadata": {
            "tags": []
          }
        },
        {
          "output_type": "display_data",
          "data": {
            "text/html": [
              "<pre>| 7050         | 1.74745      | 3h 53m       |</pre>"
            ],
            "text/plain": [
              "| 7050         | 1.74745      | 3h 53m       |"
            ]
          },
          "metadata": {
            "tags": []
          }
        },
        {
          "output_type": "display_data",
          "data": {
            "text/html": [
              "<pre>| 7055         | 1.79416      | 3h 54m       |</pre>"
            ],
            "text/plain": [
              "| 7055         | 1.79416      | 3h 54m       |"
            ]
          },
          "metadata": {
            "tags": []
          }
        },
        {
          "output_type": "display_data",
          "data": {
            "text/html": [
              "<pre>| 7060         | 1.75893      | 3h 54m       |</pre>"
            ],
            "text/plain": [
              "| 7060         | 1.75893      | 3h 54m       |"
            ]
          },
          "metadata": {
            "tags": []
          }
        },
        {
          "output_type": "display_data",
          "data": {
            "text/html": [
              "<pre>| 7065         | 1.76177      | 3h 54m       |</pre>"
            ],
            "text/plain": [
              "| 7065         | 1.76177      | 3h 54m       |"
            ]
          },
          "metadata": {
            "tags": []
          }
        },
        {
          "output_type": "display_data",
          "data": {
            "text/html": [
              "<pre>| 7070         | 1.76325      | 3h 54m       |</pre>"
            ],
            "text/plain": [
              "| 7070         | 1.76325      | 3h 54m       |"
            ]
          },
          "metadata": {
            "tags": []
          }
        },
        {
          "output_type": "display_data",
          "data": {
            "text/html": [
              "<pre>| 7075         | 1.72584      | 3h 54m       |</pre>"
            ],
            "text/plain": [
              "| 7075         | 1.72584      | 3h 54m       |"
            ]
          },
          "metadata": {
            "tags": []
          }
        },
        {
          "output_type": "display_data",
          "data": {
            "text/html": [
              "<pre>| 7080         | 1.71501      | 3h 54m       |</pre>"
            ],
            "text/plain": [
              "| 7080         | 1.71501      | 3h 54m       |"
            ]
          },
          "metadata": {
            "tags": []
          }
        },
        {
          "output_type": "display_data",
          "data": {
            "text/html": [
              "<pre>| 7085         | 1.74049      | 3h 55m       |</pre>"
            ],
            "text/plain": [
              "| 7085         | 1.74049      | 3h 55m       |"
            ]
          },
          "metadata": {
            "tags": []
          }
        },
        {
          "output_type": "display_data",
          "data": {
            "text/html": [
              "<pre>| 7090         | 1.75705      | 3h 55m       |</pre>"
            ],
            "text/plain": [
              "| 7090         | 1.75705      | 3h 55m       |"
            ]
          },
          "metadata": {
            "tags": []
          }
        },
        {
          "output_type": "display_data",
          "data": {
            "text/html": [
              "<pre>| 7095         | 1.73616      | 3h 55m       |</pre>"
            ],
            "text/plain": [
              "| 7095         | 1.73616      | 3h 55m       |"
            ]
          },
          "metadata": {
            "tags": []
          }
        },
        {
          "output_type": "display_data",
          "data": {
            "text/html": [
              "<pre>| 7100         | 1.71882      | 3h 55m       |</pre>"
            ],
            "text/plain": [
              "| 7100         | 1.71882      | 3h 55m       |"
            ]
          },
          "metadata": {
            "tags": []
          }
        },
        {
          "output_type": "display_data",
          "data": {
            "text/html": [
              "<pre>| 7105         | 1.78339      | 3h 55m       |</pre>"
            ],
            "text/plain": [
              "| 7105         | 1.78339      | 3h 55m       |"
            ]
          },
          "metadata": {
            "tags": []
          }
        },
        {
          "output_type": "display_data",
          "data": {
            "text/html": [
              "<pre>| 7110         | 1.69555      | 3h 55m       |</pre>"
            ],
            "text/plain": [
              "| 7110         | 1.69555      | 3h 55m       |"
            ]
          },
          "metadata": {
            "tags": []
          }
        },
        {
          "output_type": "display_data",
          "data": {
            "text/html": [
              "<pre>| 7115         | 1.75458      | 3h 56m       |</pre>"
            ],
            "text/plain": [
              "| 7115         | 1.75458      | 3h 56m       |"
            ]
          },
          "metadata": {
            "tags": []
          }
        },
        {
          "output_type": "display_data",
          "data": {
            "text/html": [
              "<pre>| 7120         | 1.73049      | 3h 56m       |</pre>"
            ],
            "text/plain": [
              "| 7120         | 1.73049      | 3h 56m       |"
            ]
          },
          "metadata": {
            "tags": []
          }
        },
        {
          "output_type": "display_data",
          "data": {
            "text/html": [
              "<pre>| 7125         | 1.79564      | 3h 56m       |</pre>"
            ],
            "text/plain": [
              "| 7125         | 1.79564      | 3h 56m       |"
            ]
          },
          "metadata": {
            "tags": []
          }
        },
        {
          "output_type": "display_data",
          "data": {
            "text/html": [
              "<pre>| 7130         | 1.81839      | 3h 56m       |</pre>"
            ],
            "text/plain": [
              "| 7130         | 1.81839      | 3h 56m       |"
            ]
          },
          "metadata": {
            "tags": []
          }
        },
        {
          "output_type": "display_data",
          "data": {
            "text/html": [
              "<pre>| 7135         | 1.81042      | 3h 56m       |</pre>"
            ],
            "text/plain": [
              "| 7135         | 1.81042      | 3h 56m       |"
            ]
          },
          "metadata": {
            "tags": []
          }
        },
        {
          "output_type": "display_data",
          "data": {
            "text/html": [
              "<pre>| 7140         | 1.74915      | 3h 56m       |</pre>"
            ],
            "text/plain": [
              "| 7140         | 1.74915      | 3h 56m       |"
            ]
          },
          "metadata": {
            "tags": []
          }
        },
        {
          "output_type": "display_data",
          "data": {
            "text/html": [
              "<pre>| 7145         | 1.71021      | 3h 57m       |</pre>"
            ],
            "text/plain": [
              "| 7145         | 1.71021      | 3h 57m       |"
            ]
          },
          "metadata": {
            "tags": []
          }
        },
        {
          "output_type": "display_data",
          "data": {
            "text/html": [
              "<pre>| 7150         | 1.72847      | 3h 57m       |</pre>"
            ],
            "text/plain": [
              "| 7150         | 1.72847      | 3h 57m       |"
            ]
          },
          "metadata": {
            "tags": []
          }
        },
        {
          "output_type": "display_data",
          "data": {
            "text/html": [
              "<pre>| 7155         | 1.747        | 3h 57m       |</pre>"
            ],
            "text/plain": [
              "| 7155         | 1.747        | 3h 57m       |"
            ]
          },
          "metadata": {
            "tags": []
          }
        },
        {
          "output_type": "display_data",
          "data": {
            "text/html": [
              "<pre>| 7160         | 1.73264      | 3h 57m       |</pre>"
            ],
            "text/plain": [
              "| 7160         | 1.73264      | 3h 57m       |"
            ]
          },
          "metadata": {
            "tags": []
          }
        },
        {
          "output_type": "display_data",
          "data": {
            "text/html": [
              "<pre>| 7165         | 1.74705      | 3h 57m       |</pre>"
            ],
            "text/plain": [
              "| 7165         | 1.74705      | 3h 57m       |"
            ]
          },
          "metadata": {
            "tags": []
          }
        },
        {
          "output_type": "display_data",
          "data": {
            "text/html": [
              "<pre>| 7170         | 1.79186      | 3h 57m       |</pre>"
            ],
            "text/plain": [
              "| 7170         | 1.79186      | 3h 57m       |"
            ]
          },
          "metadata": {
            "tags": []
          }
        },
        {
          "output_type": "display_data",
          "data": {
            "text/html": [
              "<pre>| 7175         | 1.81406      | 3h 58m       |</pre>"
            ],
            "text/plain": [
              "| 7175         | 1.81406      | 3h 58m       |"
            ]
          },
          "metadata": {
            "tags": []
          }
        },
        {
          "output_type": "display_data",
          "data": {
            "text/html": [
              "<pre>| 7180         | 1.74701      | 3h 58m       |</pre>"
            ],
            "text/plain": [
              "| 7180         | 1.74701      | 3h 58m       |"
            ]
          },
          "metadata": {
            "tags": []
          }
        },
        {
          "output_type": "display_data",
          "data": {
            "text/html": [
              "<pre>| 7185         | 1.71343      | 3h 58m       |</pre>"
            ],
            "text/plain": [
              "| 7185         | 1.71343      | 3h 58m       |"
            ]
          },
          "metadata": {
            "tags": []
          }
        },
        {
          "output_type": "display_data",
          "data": {
            "text/html": [
              "<pre>| 7190         | 1.70292      | 3h 58m       |</pre>"
            ],
            "text/plain": [
              "| 7190         | 1.70292      | 3h 58m       |"
            ]
          },
          "metadata": {
            "tags": []
          }
        },
        {
          "output_type": "display_data",
          "data": {
            "text/html": [
              "<pre>| 7195         | 1.69542      | 3h 58m       |</pre>"
            ],
            "text/plain": [
              "| 7195         | 1.69542      | 3h 58m       |"
            ]
          },
          "metadata": {
            "tags": []
          }
        },
        {
          "output_type": "display_data",
          "data": {
            "text/html": [
              "<pre>| 7200         | 1.7207       | 3h 58m       |</pre>"
            ],
            "text/plain": [
              "| 7200         | 1.7207       | 3h 58m       |"
            ]
          },
          "metadata": {
            "tags": []
          }
        },
        {
          "output_type": "display_data",
          "data": {
            "text/html": [
              "<pre>| 7205         | 1.77941      | 3h 59m       |</pre>"
            ],
            "text/plain": [
              "| 7205         | 1.77941      | 3h 59m       |"
            ]
          },
          "metadata": {
            "tags": []
          }
        },
        {
          "output_type": "display_data",
          "data": {
            "text/html": [
              "<pre>| 7210         | 1.74532      | 3h 59m       |</pre>"
            ],
            "text/plain": [
              "| 7210         | 1.74532      | 3h 59m       |"
            ]
          },
          "metadata": {
            "tags": []
          }
        },
        {
          "output_type": "display_data",
          "data": {
            "text/html": [
              "<pre>| 7215         | 1.70138      | 3h 59m       |</pre>"
            ],
            "text/plain": [
              "| 7215         | 1.70138      | 3h 59m       |"
            ]
          },
          "metadata": {
            "tags": []
          }
        },
        {
          "output_type": "display_data",
          "data": {
            "text/html": [
              "<pre>| 7220         | 1.71638      | 3h 59m       |</pre>"
            ],
            "text/plain": [
              "| 7220         | 1.71638      | 3h 59m       |"
            ]
          },
          "metadata": {
            "tags": []
          }
        },
        {
          "output_type": "display_data",
          "data": {
            "text/html": [
              "<pre>| 7225         | 1.7641       | 3h 59m       |</pre>"
            ],
            "text/plain": [
              "| 7225         | 1.7641       | 3h 59m       |"
            ]
          },
          "metadata": {
            "tags": []
          }
        },
        {
          "output_type": "display_data",
          "data": {
            "text/html": [
              "<pre>| 7230         | 1.71959      | 3h 59m       |</pre>"
            ],
            "text/plain": [
              "| 7230         | 1.71959      | 3h 59m       |"
            ]
          },
          "metadata": {
            "tags": []
          }
        },
        {
          "output_type": "display_data",
          "data": {
            "text/html": [
              "<pre>| 7235         | 1.76329      | 4h 0m        |</pre>"
            ],
            "text/plain": [
              "| 7235         | 1.76329      | 4h 0m        |"
            ]
          },
          "metadata": {
            "tags": []
          }
        },
        {
          "output_type": "display_data",
          "data": {
            "text/html": [
              "<pre>| 7240         | 1.76576      | 4h 0m        |</pre>"
            ],
            "text/plain": [
              "| 7240         | 1.76576      | 4h 0m        |"
            ]
          },
          "metadata": {
            "tags": []
          }
        },
        {
          "output_type": "display_data",
          "data": {
            "text/html": [
              "<pre>| 7245         | 1.7873       | 4h 0m        |</pre>"
            ],
            "text/plain": [
              "| 7245         | 1.7873       | 4h 0m        |"
            ]
          },
          "metadata": {
            "tags": []
          }
        },
        {
          "output_type": "display_data",
          "data": {
            "text/html": [
              "<pre>| 7250         | 1.78864      | 4h 0m        |</pre>"
            ],
            "text/plain": [
              "| 7250         | 1.78864      | 4h 0m        |"
            ]
          },
          "metadata": {
            "tags": []
          }
        },
        {
          "output_type": "display_data",
          "data": {
            "text/html": [
              "<pre>| 7255         | 1.75831      | 4h 0m        |</pre>"
            ],
            "text/plain": [
              "| 7255         | 1.75831      | 4h 0m        |"
            ]
          },
          "metadata": {
            "tags": []
          }
        },
        {
          "output_type": "display_data",
          "data": {
            "text/html": [
              "<pre>| 7260         | 1.75633      | 4h 0m        |</pre>"
            ],
            "text/plain": [
              "| 7260         | 1.75633      | 4h 0m        |"
            ]
          },
          "metadata": {
            "tags": []
          }
        },
        {
          "output_type": "display_data",
          "data": {
            "text/html": [
              "<pre>| 7265         | 1.77101      | 4h 1m        |</pre>"
            ],
            "text/plain": [
              "| 7265         | 1.77101      | 4h 1m        |"
            ]
          },
          "metadata": {
            "tags": []
          }
        },
        {
          "output_type": "display_data",
          "data": {
            "text/html": [
              "<pre>| 7270         | 1.73372      | 4h 1m        |</pre>"
            ],
            "text/plain": [
              "| 7270         | 1.73372      | 4h 1m        |"
            ]
          },
          "metadata": {
            "tags": []
          }
        },
        {
          "output_type": "display_data",
          "data": {
            "text/html": [
              "<pre>| 7275         | 1.754        | 4h 1m        |</pre>"
            ],
            "text/plain": [
              "| 7275         | 1.754        | 4h 1m        |"
            ]
          },
          "metadata": {
            "tags": []
          }
        },
        {
          "output_type": "display_data",
          "data": {
            "text/html": [
              "<pre>| 7280         | 1.73707      | 4h 1m        |</pre>"
            ],
            "text/plain": [
              "| 7280         | 1.73707      | 4h 1m        |"
            ]
          },
          "metadata": {
            "tags": []
          }
        },
        {
          "output_type": "display_data",
          "data": {
            "text/html": [
              "<pre>| 7285         | 1.77862      | 4h 1m        |</pre>"
            ],
            "text/plain": [
              "| 7285         | 1.77862      | 4h 1m        |"
            ]
          },
          "metadata": {
            "tags": []
          }
        },
        {
          "output_type": "display_data",
          "data": {
            "text/html": [
              "<pre>| 7290         | 1.73903      | 4h 1m        |</pre>"
            ],
            "text/plain": [
              "| 7290         | 1.73903      | 4h 1m        |"
            ]
          },
          "metadata": {
            "tags": []
          }
        },
        {
          "output_type": "display_data",
          "data": {
            "text/html": [
              "<pre>| 7295         | 1.69825      | 4h 2m        |</pre>"
            ],
            "text/plain": [
              "| 7295         | 1.69825      | 4h 2m        |"
            ]
          },
          "metadata": {
            "tags": []
          }
        },
        {
          "output_type": "display_data",
          "data": {
            "text/html": [
              "<pre>| 7300         | 1.73504      | 4h 2m        |</pre>"
            ],
            "text/plain": [
              "| 7300         | 1.73504      | 4h 2m        |"
            ]
          },
          "metadata": {
            "tags": []
          }
        },
        {
          "output_type": "display_data",
          "data": {
            "text/html": [
              "<pre>| 7305         | 1.72586      | 4h 2m        |</pre>"
            ],
            "text/plain": [
              "| 7305         | 1.72586      | 4h 2m        |"
            ]
          },
          "metadata": {
            "tags": []
          }
        },
        {
          "output_type": "display_data",
          "data": {
            "text/html": [
              "<pre>| 7310         | 1.74496      | 4h 2m        |</pre>"
            ],
            "text/plain": [
              "| 7310         | 1.74496      | 4h 2m        |"
            ]
          },
          "metadata": {
            "tags": []
          }
        },
        {
          "output_type": "display_data",
          "data": {
            "text/html": [
              "<pre>| 7315         | 1.67628      | 4h 2m        |</pre>"
            ],
            "text/plain": [
              "| 7315         | 1.67628      | 4h 2m        |"
            ]
          },
          "metadata": {
            "tags": []
          }
        },
        {
          "output_type": "display_data",
          "data": {
            "text/html": [
              "<pre>| 7320         | 1.63177      | 4h 2m        |</pre>"
            ],
            "text/plain": [
              "| 7320         | 1.63177      | 4h 2m        |"
            ]
          },
          "metadata": {
            "tags": []
          }
        },
        {
          "output_type": "display_data",
          "data": {
            "text/html": [
              "<pre>| 7325         | 1.70501      | 4h 3m        |</pre>"
            ],
            "text/plain": [
              "| 7325         | 1.70501      | 4h 3m        |"
            ]
          },
          "metadata": {
            "tags": []
          }
        },
        {
          "output_type": "display_data",
          "data": {
            "text/html": [
              "<pre>| 7330         | 1.76158      | 4h 3m        |</pre>"
            ],
            "text/plain": [
              "| 7330         | 1.76158      | 4h 3m        |"
            ]
          },
          "metadata": {
            "tags": []
          }
        },
        {
          "output_type": "display_data",
          "data": {
            "text/html": [
              "<pre>| 7335         | 1.78477      | 4h 3m        |</pre>"
            ],
            "text/plain": [
              "| 7335         | 1.78477      | 4h 3m        |"
            ]
          },
          "metadata": {
            "tags": []
          }
        },
        {
          "output_type": "display_data",
          "data": {
            "text/html": [
              "<pre>| 7340         | 1.77384      | 4h 3m        |</pre>"
            ],
            "text/plain": [
              "| 7340         | 1.77384      | 4h 3m        |"
            ]
          },
          "metadata": {
            "tags": []
          }
        },
        {
          "output_type": "display_data",
          "data": {
            "text/html": [
              "<pre>| 7345         | 1.72918      | 4h 3m        |</pre>"
            ],
            "text/plain": [
              "| 7345         | 1.72918      | 4h 3m        |"
            ]
          },
          "metadata": {
            "tags": []
          }
        },
        {
          "output_type": "display_data",
          "data": {
            "text/html": [
              "<pre>| 7350         | 1.7543       | 4h 3m        |</pre>"
            ],
            "text/plain": [
              "| 7350         | 1.7543       | 4h 3m        |"
            ]
          },
          "metadata": {
            "tags": []
          }
        },
        {
          "output_type": "display_data",
          "data": {
            "text/html": [
              "<pre>| 7355         | 1.70019      | 4h 3m        |</pre>"
            ],
            "text/plain": [
              "| 7355         | 1.70019      | 4h 3m        |"
            ]
          },
          "metadata": {
            "tags": []
          }
        },
        {
          "output_type": "display_data",
          "data": {
            "text/html": [
              "<pre>| 7360         | 1.69325      | 4h 4m        |</pre>"
            ],
            "text/plain": [
              "| 7360         | 1.69325      | 4h 4m        |"
            ]
          },
          "metadata": {
            "tags": []
          }
        },
        {
          "output_type": "display_data",
          "data": {
            "text/html": [
              "<pre>| 7365         | 1.67693      | 4h 4m        |</pre>"
            ],
            "text/plain": [
              "| 7365         | 1.67693      | 4h 4m        |"
            ]
          },
          "metadata": {
            "tags": []
          }
        },
        {
          "output_type": "display_data",
          "data": {
            "text/html": [
              "<pre>| 7370         | 1.75912      | 4h 4m        |</pre>"
            ],
            "text/plain": [
              "| 7370         | 1.75912      | 4h 4m        |"
            ]
          },
          "metadata": {
            "tags": []
          }
        },
        {
          "output_type": "display_data",
          "data": {
            "text/html": [
              "<pre>| 7375         | 1.71433      | 4h 4m        |</pre>"
            ],
            "text/plain": [
              "| 7375         | 1.71433      | 4h 4m        |"
            ]
          },
          "metadata": {
            "tags": []
          }
        },
        {
          "output_type": "display_data",
          "data": {
            "text/html": [
              "<pre>| 7380         | 1.74367      | 4h 4m        |</pre>"
            ],
            "text/plain": [
              "| 7380         | 1.74367      | 4h 4m        |"
            ]
          },
          "metadata": {
            "tags": []
          }
        },
        {
          "output_type": "display_data",
          "data": {
            "text/html": [
              "<pre>| 7385         | 1.78184      | 4h 4m        |</pre>"
            ],
            "text/plain": [
              "| 7385         | 1.78184      | 4h 4m        |"
            ]
          },
          "metadata": {
            "tags": []
          }
        },
        {
          "output_type": "display_data",
          "data": {
            "text/html": [
              "<pre>| 7390         | 1.83883      | 4h 5m        |</pre>"
            ],
            "text/plain": [
              "| 7390         | 1.83883      | 4h 5m        |"
            ]
          },
          "metadata": {
            "tags": []
          }
        },
        {
          "output_type": "display_data",
          "data": {
            "text/html": [
              "<pre>| 7395         | 1.74234      | 4h 5m        |</pre>"
            ],
            "text/plain": [
              "| 7395         | 1.74234      | 4h 5m        |"
            ]
          },
          "metadata": {
            "tags": []
          }
        },
        {
          "output_type": "display_data",
          "data": {
            "text/html": [
              "<pre>| 7400         | 1.69494      | 4h 5m        |</pre>"
            ],
            "text/plain": [
              "| 7400         | 1.69494      | 4h 5m        |"
            ]
          },
          "metadata": {
            "tags": []
          }
        },
        {
          "output_type": "display_data",
          "data": {
            "text/html": [
              "<pre>| 7405         | 1.74019      | 4h 5m        |</pre>"
            ],
            "text/plain": [
              "| 7405         | 1.74019      | 4h 5m        |"
            ]
          },
          "metadata": {
            "tags": []
          }
        },
        {
          "output_type": "display_data",
          "data": {
            "text/html": [
              "<pre>| 7410         | 1.68577      | 4h 5m        |</pre>"
            ],
            "text/plain": [
              "| 7410         | 1.68577      | 4h 5m        |"
            ]
          },
          "metadata": {
            "tags": []
          }
        },
        {
          "output_type": "display_data",
          "data": {
            "text/html": [
              "<pre>| 7415         | 1.76499      | 4h 5m        |</pre>"
            ],
            "text/plain": [
              "| 7415         | 1.76499      | 4h 5m        |"
            ]
          },
          "metadata": {
            "tags": []
          }
        },
        {
          "output_type": "display_data",
          "data": {
            "text/html": [
              "<pre>| 7420         | 1.77542      | 4h 6m        |</pre>"
            ],
            "text/plain": [
              "| 7420         | 1.77542      | 4h 6m        |"
            ]
          },
          "metadata": {
            "tags": []
          }
        },
        {
          "output_type": "display_data",
          "data": {
            "text/html": [
              "<pre>| 7425         | 1.74759      | 4h 6m        |</pre>"
            ],
            "text/plain": [
              "| 7425         | 1.74759      | 4h 6m        |"
            ]
          },
          "metadata": {
            "tags": []
          }
        },
        {
          "output_type": "display_data",
          "data": {
            "text/html": [
              "<pre>| 7430         | 1.65649      | 4h 6m        |</pre>"
            ],
            "text/plain": [
              "| 7430         | 1.65649      | 4h 6m        |"
            ]
          },
          "metadata": {
            "tags": []
          }
        },
        {
          "output_type": "display_data",
          "data": {
            "text/html": [
              "<pre>| 7435         | 1.65731      | 4h 6m        |</pre>"
            ],
            "text/plain": [
              "| 7435         | 1.65731      | 4h 6m        |"
            ]
          },
          "metadata": {
            "tags": []
          }
        },
        {
          "output_type": "display_data",
          "data": {
            "text/html": [
              "<pre>| 7440         | 1.64427      | 4h 6m        |</pre>"
            ],
            "text/plain": [
              "| 7440         | 1.64427      | 4h 6m        |"
            ]
          },
          "metadata": {
            "tags": []
          }
        },
        {
          "output_type": "display_data",
          "data": {
            "text/html": [
              "<pre>| 7445         | 1.69688      | 4h 6m        |</pre>"
            ],
            "text/plain": [
              "| 7445         | 1.69688      | 4h 6m        |"
            ]
          },
          "metadata": {
            "tags": []
          }
        },
        {
          "output_type": "display_data",
          "data": {
            "text/html": [
              "<pre>| 7450         | 1.72498      | 4h 7m        |</pre>"
            ],
            "text/plain": [
              "| 7450         | 1.72498      | 4h 7m        |"
            ]
          },
          "metadata": {
            "tags": []
          }
        },
        {
          "output_type": "display_data",
          "data": {
            "text/html": [
              "<pre>| 7455         | 1.71346      | 4h 7m        |</pre>"
            ],
            "text/plain": [
              "| 7455         | 1.71346      | 4h 7m        |"
            ]
          },
          "metadata": {
            "tags": []
          }
        },
        {
          "output_type": "display_data",
          "data": {
            "text/html": [
              "<pre>| 7460         | 1.7701       | 4h 7m        |</pre>"
            ],
            "text/plain": [
              "| 7460         | 1.7701       | 4h 7m        |"
            ]
          },
          "metadata": {
            "tags": []
          }
        },
        {
          "output_type": "display_data",
          "data": {
            "text/html": [
              "<pre>| 7465         | 1.77265      | 4h 7m        |</pre>"
            ],
            "text/plain": [
              "| 7465         | 1.77265      | 4h 7m        |"
            ]
          },
          "metadata": {
            "tags": []
          }
        },
        {
          "output_type": "display_data",
          "data": {
            "text/html": [
              "<pre>| 7470         | 1.75324      | 4h 7m        |</pre>"
            ],
            "text/plain": [
              "| 7470         | 1.75324      | 4h 7m        |"
            ]
          },
          "metadata": {
            "tags": []
          }
        },
        {
          "output_type": "display_data",
          "data": {
            "text/html": [
              "<pre>| 7475         | 1.74248      | 4h 7m        |</pre>"
            ],
            "text/plain": [
              "| 7475         | 1.74248      | 4h 7m        |"
            ]
          },
          "metadata": {
            "tags": []
          }
        },
        {
          "output_type": "display_data",
          "data": {
            "text/html": [
              "<pre>| 7480         | 1.78136      | 4h 8m        |</pre>"
            ],
            "text/plain": [
              "| 7480         | 1.78136      | 4h 8m        |"
            ]
          },
          "metadata": {
            "tags": []
          }
        },
        {
          "output_type": "display_data",
          "data": {
            "text/html": [
              "<pre>| 7485         | 1.83624      | 4h 8m        |</pre>"
            ],
            "text/plain": [
              "| 7485         | 1.83624      | 4h 8m        |"
            ]
          },
          "metadata": {
            "tags": []
          }
        },
        {
          "output_type": "display_data",
          "data": {
            "text/html": [
              "<pre>| 7490         | 1.77462      | 4h 8m        |</pre>"
            ],
            "text/plain": [
              "| 7490         | 1.77462      | 4h 8m        |"
            ]
          },
          "metadata": {
            "tags": []
          }
        },
        {
          "output_type": "display_data",
          "data": {
            "text/html": [
              "<pre>| 7495         | 1.72676      | 4h 8m        |</pre>"
            ],
            "text/plain": [
              "| 7495         | 1.72676      | 4h 8m        |"
            ]
          },
          "metadata": {
            "tags": []
          }
        },
        {
          "output_type": "display_data",
          "data": {
            "text/html": [
              "<pre>| 7500         | 1.71174      | 4h 8m        |</pre>"
            ],
            "text/plain": [
              "| 7500         | 1.71174      | 4h 8m        |"
            ]
          },
          "metadata": {
            "tags": []
          }
        },
        {
          "output_type": "display_data",
          "data": {
            "text/html": [
              "<pre>| 7505         | 1.79718      | 4h 8m        |</pre>"
            ],
            "text/plain": [
              "| 7505         | 1.79718      | 4h 8m        |"
            ]
          },
          "metadata": {
            "tags": []
          }
        },
        {
          "output_type": "display_data",
          "data": {
            "text/html": [
              "<pre>| 7510         | 1.76684      | 4h 9m        |</pre>"
            ],
            "text/plain": [
              "| 7510         | 1.76684      | 4h 9m        |"
            ]
          },
          "metadata": {
            "tags": []
          }
        },
        {
          "output_type": "display_data",
          "data": {
            "text/html": [
              "<pre>| 7515         | 1.72531      | 4h 9m        |</pre>"
            ],
            "text/plain": [
              "| 7515         | 1.72531      | 4h 9m        |"
            ]
          },
          "metadata": {
            "tags": []
          }
        },
        {
          "output_type": "display_data",
          "data": {
            "text/html": [
              "<pre>| 7520         | 1.70278      | 4h 9m        |</pre>"
            ],
            "text/plain": [
              "| 7520         | 1.70278      | 4h 9m        |"
            ]
          },
          "metadata": {
            "tags": []
          }
        },
        {
          "output_type": "display_data",
          "data": {
            "text/html": [
              "<pre>| 7525         | 1.71458      | 4h 9m        |</pre>"
            ],
            "text/plain": [
              "| 7525         | 1.71458      | 4h 9m        |"
            ]
          },
          "metadata": {
            "tags": []
          }
        },
        {
          "output_type": "display_data",
          "data": {
            "text/html": [
              "<pre>| 7530         | 1.75846      | 4h 9m        |</pre>"
            ],
            "text/plain": [
              "| 7530         | 1.75846      | 4h 9m        |"
            ]
          },
          "metadata": {
            "tags": []
          }
        },
        {
          "output_type": "display_data",
          "data": {
            "text/html": [
              "<pre>| 7535         | 1.73154      | 4h 9m        |</pre>"
            ],
            "text/plain": [
              "| 7535         | 1.73154      | 4h 9m        |"
            ]
          },
          "metadata": {
            "tags": []
          }
        },
        {
          "output_type": "display_data",
          "data": {
            "text/html": [
              "<pre>| 7540         | 1.72666      | 4h 10m       |</pre>"
            ],
            "text/plain": [
              "| 7540         | 1.72666      | 4h 10m       |"
            ]
          },
          "metadata": {
            "tags": []
          }
        },
        {
          "output_type": "display_data",
          "data": {
            "text/html": [
              "<pre>| 7545         | 1.73163      | 4h 10m       |</pre>"
            ],
            "text/plain": [
              "| 7545         | 1.73163      | 4h 10m       |"
            ]
          },
          "metadata": {
            "tags": []
          }
        },
        {
          "output_type": "display_data",
          "data": {
            "text/html": [
              "<pre>| 7550         | 1.65143      | 4h 10m       |</pre>"
            ],
            "text/plain": [
              "| 7550         | 1.65143      | 4h 10m       |"
            ]
          },
          "metadata": {
            "tags": []
          }
        },
        {
          "output_type": "display_data",
          "data": {
            "text/html": [
              "<pre>| 7555         | 1.65436      | 4h 10m       |</pre>"
            ],
            "text/plain": [
              "| 7555         | 1.65436      | 4h 10m       |"
            ]
          },
          "metadata": {
            "tags": []
          }
        },
        {
          "output_type": "display_data",
          "data": {
            "text/html": [
              "<pre>| 7560         | 1.67331      | 4h 10m       |</pre>"
            ],
            "text/plain": [
              "| 7560         | 1.67331      | 4h 10m       |"
            ]
          },
          "metadata": {
            "tags": []
          }
        },
        {
          "output_type": "display_data",
          "data": {
            "text/html": [
              "<pre>| 7565         | 1.61656      | 4h 10m       |</pre>"
            ],
            "text/plain": [
              "| 7565         | 1.61656      | 4h 10m       |"
            ]
          },
          "metadata": {
            "tags": []
          }
        },
        {
          "output_type": "display_data",
          "data": {
            "text/html": [
              "<pre>| 7570         | 1.69174      | 4h 11m       |</pre>"
            ],
            "text/plain": [
              "| 7570         | 1.69174      | 4h 11m       |"
            ]
          },
          "metadata": {
            "tags": []
          }
        },
        {
          "output_type": "display_data",
          "data": {
            "text/html": [
              "<pre>| 7575         | 1.69412      | 4h 11m       |</pre>"
            ],
            "text/plain": [
              "| 7575         | 1.69412      | 4h 11m       |"
            ]
          },
          "metadata": {
            "tags": []
          }
        },
        {
          "output_type": "display_data",
          "data": {
            "text/html": [
              "<pre>| 7580         | 1.69761      | 4h 11m       |</pre>"
            ],
            "text/plain": [
              "| 7580         | 1.69761      | 4h 11m       |"
            ]
          },
          "metadata": {
            "tags": []
          }
        },
        {
          "output_type": "display_data",
          "data": {
            "text/html": [
              "<pre>| 7585         | 1.76179      | 4h 11m       |</pre>"
            ],
            "text/plain": [
              "| 7585         | 1.76179      | 4h 11m       |"
            ]
          },
          "metadata": {
            "tags": []
          }
        },
        {
          "output_type": "display_data",
          "data": {
            "text/html": [
              "<pre>| 7590         | 1.7739       | 4h 11m       |</pre>"
            ],
            "text/plain": [
              "| 7590         | 1.7739       | 4h 11m       |"
            ]
          },
          "metadata": {
            "tags": []
          }
        },
        {
          "output_type": "display_data",
          "data": {
            "text/html": [
              "<pre>| 7595         | 1.81074      | 4h 11m       |</pre>"
            ],
            "text/plain": [
              "| 7595         | 1.81074      | 4h 11m       |"
            ]
          },
          "metadata": {
            "tags": []
          }
        },
        {
          "output_type": "display_data",
          "data": {
            "text/html": [
              "<pre>| 7600         | 1.77098      | 4h 12m       |</pre>"
            ],
            "text/plain": [
              "| 7600         | 1.77098      | 4h 12m       |"
            ]
          },
          "metadata": {
            "tags": []
          }
        },
        {
          "output_type": "display_data",
          "data": {
            "text/html": [
              "<pre>| 7605         | 1.74462      | 4h 12m       |</pre>"
            ],
            "text/plain": [
              "| 7605         | 1.74462      | 4h 12m       |"
            ]
          },
          "metadata": {
            "tags": []
          }
        },
        {
          "output_type": "display_data",
          "data": {
            "text/html": [
              "<pre>| 7610         | 1.73936      | 4h 12m       |</pre>"
            ],
            "text/plain": [
              "| 7610         | 1.73936      | 4h 12m       |"
            ]
          },
          "metadata": {
            "tags": []
          }
        },
        {
          "output_type": "display_data",
          "data": {
            "text/html": [
              "<pre>| 7615         | 1.72578      | 4h 12m       |</pre>"
            ],
            "text/plain": [
              "| 7615         | 1.72578      | 4h 12m       |"
            ]
          },
          "metadata": {
            "tags": []
          }
        },
        {
          "output_type": "display_data",
          "data": {
            "text/html": [
              "<pre>| 7620         | 1.70819      | 4h 12m       |</pre>"
            ],
            "text/plain": [
              "| 7620         | 1.70819      | 4h 12m       |"
            ]
          },
          "metadata": {
            "tags": []
          }
        },
        {
          "output_type": "display_data",
          "data": {
            "text/html": [
              "<pre>| 7625         | 1.77393      | 4h 12m       |</pre>"
            ],
            "text/plain": [
              "| 7625         | 1.77393      | 4h 12m       |"
            ]
          },
          "metadata": {
            "tags": []
          }
        },
        {
          "output_type": "display_data",
          "data": {
            "text/html": [
              "<pre>| 7630         | 1.80032      | 4h 13m       |</pre>"
            ],
            "text/plain": [
              "| 7630         | 1.80032      | 4h 13m       |"
            ]
          },
          "metadata": {
            "tags": []
          }
        },
        {
          "output_type": "display_data",
          "data": {
            "text/html": [
              "<pre>| 7635         | 1.75868      | 4h 13m       |</pre>"
            ],
            "text/plain": [
              "| 7635         | 1.75868      | 4h 13m       |"
            ]
          },
          "metadata": {
            "tags": []
          }
        },
        {
          "output_type": "display_data",
          "data": {
            "text/html": [
              "<pre>| 7640         | 1.73293      | 4h 13m       |</pre>"
            ],
            "text/plain": [
              "| 7640         | 1.73293      | 4h 13m       |"
            ]
          },
          "metadata": {
            "tags": []
          }
        },
        {
          "output_type": "display_data",
          "data": {
            "text/html": [
              "<pre>| 7645         | 1.7473       | 4h 13m       |</pre>"
            ],
            "text/plain": [
              "| 7645         | 1.7473       | 4h 13m       |"
            ]
          },
          "metadata": {
            "tags": []
          }
        },
        {
          "output_type": "display_data",
          "data": {
            "text/html": [
              "<pre>| 7650         | 1.77547      | 4h 13m       |</pre>"
            ],
            "text/plain": [
              "| 7650         | 1.77547      | 4h 13m       |"
            ]
          },
          "metadata": {
            "tags": []
          }
        },
        {
          "output_type": "display_data",
          "data": {
            "text/html": [
              "<pre>| 7655         | 1.7654       | 4h 13m       |</pre>"
            ],
            "text/plain": [
              "| 7655         | 1.7654       | 4h 13m       |"
            ]
          },
          "metadata": {
            "tags": []
          }
        },
        {
          "output_type": "display_data",
          "data": {
            "text/html": [
              "<pre>| 7660         | 1.73975      | 4h 14m       |</pre>"
            ],
            "text/plain": [
              "| 7660         | 1.73975      | 4h 14m       |"
            ]
          },
          "metadata": {
            "tags": []
          }
        },
        {
          "output_type": "display_data",
          "data": {
            "text/html": [
              "<pre>| 7665         | 1.76525      | 4h 14m       |</pre>"
            ],
            "text/plain": [
              "| 7665         | 1.76525      | 4h 14m       |"
            ]
          },
          "metadata": {
            "tags": []
          }
        },
        {
          "output_type": "display_data",
          "data": {
            "text/html": [
              "<pre>| 7670         | 1.74127      | 4h 14m       |</pre>"
            ],
            "text/plain": [
              "| 7670         | 1.74127      | 4h 14m       |"
            ]
          },
          "metadata": {
            "tags": []
          }
        },
        {
          "output_type": "display_data",
          "data": {
            "text/html": [
              "<pre>| 7675         | 1.66852      | 4h 14m       |</pre>"
            ],
            "text/plain": [
              "| 7675         | 1.66852      | 4h 14m       |"
            ]
          },
          "metadata": {
            "tags": []
          }
        },
        {
          "output_type": "display_data",
          "data": {
            "text/html": [
              "<pre>| 7680         | 1.68965      | 4h 14m       |</pre>"
            ],
            "text/plain": [
              "| 7680         | 1.68965      | 4h 14m       |"
            ]
          },
          "metadata": {
            "tags": []
          }
        },
        {
          "output_type": "display_data",
          "data": {
            "text/html": [
              "<pre>| 7685         | 1.74718      | 4h 14m       |</pre>"
            ],
            "text/plain": [
              "| 7685         | 1.74718      | 4h 14m       |"
            ]
          },
          "metadata": {
            "tags": []
          }
        },
        {
          "output_type": "display_data",
          "data": {
            "text/html": [
              "<pre>| 7690         | 1.73806      | 4h 15m       |</pre>"
            ],
            "text/plain": [
              "| 7690         | 1.73806      | 4h 15m       |"
            ]
          },
          "metadata": {
            "tags": []
          }
        },
        {
          "output_type": "display_data",
          "data": {
            "text/html": [
              "<pre>| 7695         | 1.71387      | 4h 15m       |</pre>"
            ],
            "text/plain": [
              "| 7695         | 1.71387      | 4h 15m       |"
            ]
          },
          "metadata": {
            "tags": []
          }
        },
        {
          "output_type": "display_data",
          "data": {
            "text/html": [
              "<pre>| 7700         | 1.68841      | 4h 15m       |</pre>"
            ],
            "text/plain": [
              "| 7700         | 1.68841      | 4h 15m       |"
            ]
          },
          "metadata": {
            "tags": []
          }
        },
        {
          "output_type": "display_data",
          "data": {
            "text/html": [
              "<pre>| 7705         | 1.72255      | 4h 15m       |</pre>"
            ],
            "text/plain": [
              "| 7705         | 1.72255      | 4h 15m       |"
            ]
          },
          "metadata": {
            "tags": []
          }
        },
        {
          "output_type": "display_data",
          "data": {
            "text/html": [
              "<pre>| 7710         | 1.65398      | 4h 15m       |</pre>"
            ],
            "text/plain": [
              "| 7710         | 1.65398      | 4h 15m       |"
            ]
          },
          "metadata": {
            "tags": []
          }
        },
        {
          "output_type": "display_data",
          "data": {
            "text/html": [
              "<pre>| 7715         | 1.72899      | 4h 15m       |</pre>"
            ],
            "text/plain": [
              "| 7715         | 1.72899      | 4h 15m       |"
            ]
          },
          "metadata": {
            "tags": []
          }
        },
        {
          "output_type": "display_data",
          "data": {
            "text/html": [
              "<pre>| 7720         | 1.7327       | 4h 16m       |</pre>"
            ],
            "text/plain": [
              "| 7720         | 1.7327       | 4h 16m       |"
            ]
          },
          "metadata": {
            "tags": []
          }
        },
        {
          "output_type": "display_data",
          "data": {
            "text/html": [
              "<pre>| 7725         | 1.69307      | 4h 16m       |</pre>"
            ],
            "text/plain": [
              "| 7725         | 1.69307      | 4h 16m       |"
            ]
          },
          "metadata": {
            "tags": []
          }
        },
        {
          "output_type": "display_data",
          "data": {
            "text/html": [
              "<pre>| 7730         | 1.69125      | 4h 16m       |</pre>"
            ],
            "text/plain": [
              "| 7730         | 1.69125      | 4h 16m       |"
            ]
          },
          "metadata": {
            "tags": []
          }
        },
        {
          "output_type": "display_data",
          "data": {
            "text/html": [
              "<pre>| 7735         | 1.66751      | 4h 16m       |</pre>"
            ],
            "text/plain": [
              "| 7735         | 1.66751      | 4h 16m       |"
            ]
          },
          "metadata": {
            "tags": []
          }
        },
        {
          "output_type": "display_data",
          "data": {
            "text/html": [
              "<pre>| 7740         | 1.70829      | 4h 16m       |</pre>"
            ],
            "text/plain": [
              "| 7740         | 1.70829      | 4h 16m       |"
            ]
          },
          "metadata": {
            "tags": []
          }
        },
        {
          "output_type": "display_data",
          "data": {
            "text/html": [
              "<pre>| 7745         | 1.70972      | 4h 16m       |</pre>"
            ],
            "text/plain": [
              "| 7745         | 1.70972      | 4h 16m       |"
            ]
          },
          "metadata": {
            "tags": []
          }
        },
        {
          "output_type": "display_data",
          "data": {
            "text/html": [
              "<pre>| 7750         | 1.65387      | 4h 17m       |</pre>"
            ],
            "text/plain": [
              "| 7750         | 1.65387      | 4h 17m       |"
            ]
          },
          "metadata": {
            "tags": []
          }
        },
        {
          "output_type": "display_data",
          "data": {
            "text/html": [
              "<pre>| 7755         | 1.67576      | 4h 17m       |</pre>"
            ],
            "text/plain": [
              "| 7755         | 1.67576      | 4h 17m       |"
            ]
          },
          "metadata": {
            "tags": []
          }
        },
        {
          "output_type": "display_data",
          "data": {
            "text/html": [
              "<pre>| 7760         | 1.66291      | 4h 17m       |</pre>"
            ],
            "text/plain": [
              "| 7760         | 1.66291      | 4h 17m       |"
            ]
          },
          "metadata": {
            "tags": []
          }
        },
        {
          "output_type": "display_data",
          "data": {
            "text/html": [
              "<pre>| 7765         | 1.65739      | 4h 17m       |</pre>"
            ],
            "text/plain": [
              "| 7765         | 1.65739      | 4h 17m       |"
            ]
          },
          "metadata": {
            "tags": []
          }
        },
        {
          "output_type": "display_data",
          "data": {
            "text/html": [
              "<pre>| 7770         | 1.65824      | 4h 17m       |</pre>"
            ],
            "text/plain": [
              "| 7770         | 1.65824      | 4h 17m       |"
            ]
          },
          "metadata": {
            "tags": []
          }
        },
        {
          "output_type": "display_data",
          "data": {
            "text/html": [
              "<pre>| 7775         | 1.70277      | 4h 17m       |</pre>"
            ],
            "text/plain": [
              "| 7775         | 1.70277      | 4h 17m       |"
            ]
          },
          "metadata": {
            "tags": []
          }
        },
        {
          "output_type": "display_data",
          "data": {
            "text/html": [
              "<pre>| 7780         | 1.73643      | 4h 18m       |</pre>"
            ],
            "text/plain": [
              "| 7780         | 1.73643      | 4h 18m       |"
            ]
          },
          "metadata": {
            "tags": []
          }
        },
        {
          "output_type": "display_data",
          "data": {
            "text/html": [
              "<pre>| 7785         | 1.76898      | 4h 18m       |</pre>"
            ],
            "text/plain": [
              "| 7785         | 1.76898      | 4h 18m       |"
            ]
          },
          "metadata": {
            "tags": []
          }
        },
        {
          "output_type": "display_data",
          "data": {
            "text/html": [
              "<pre>| 7790         | 1.80207      | 4h 18m       |</pre>"
            ],
            "text/plain": [
              "| 7790         | 1.80207      | 4h 18m       |"
            ]
          },
          "metadata": {
            "tags": []
          }
        },
        {
          "output_type": "display_data",
          "data": {
            "text/html": [
              "<pre>| 7795         | 1.79896      | 4h 18m       |</pre>"
            ],
            "text/plain": [
              "| 7795         | 1.79896      | 4h 18m       |"
            ]
          },
          "metadata": {
            "tags": []
          }
        },
        {
          "output_type": "display_data",
          "data": {
            "text/html": [
              "<pre>| 7800         | 1.80967      | 4h 18m       |</pre>"
            ],
            "text/plain": [
              "| 7800         | 1.80967      | 4h 18m       |"
            ]
          },
          "metadata": {
            "tags": []
          }
        },
        {
          "output_type": "display_data",
          "data": {
            "text/html": [
              "<pre>| 7805         | 1.76903      | 4h 18m       |</pre>"
            ],
            "text/plain": [
              "| 7805         | 1.76903      | 4h 18m       |"
            ]
          },
          "metadata": {
            "tags": []
          }
        },
        {
          "output_type": "display_data",
          "data": {
            "text/html": [
              "<pre>| 7810         | 1.77311      | 4h 19m       |</pre>"
            ],
            "text/plain": [
              "| 7810         | 1.77311      | 4h 19m       |"
            ]
          },
          "metadata": {
            "tags": []
          }
        },
        {
          "output_type": "display_data",
          "data": {
            "text/html": [
              "<pre>| 7815         | 1.71132      | 4h 19m       |</pre>"
            ],
            "text/plain": [
              "| 7815         | 1.71132      | 4h 19m       |"
            ]
          },
          "metadata": {
            "tags": []
          }
        },
        {
          "output_type": "display_data",
          "data": {
            "text/html": [
              "<pre>| 7820         | 1.76387      | 4h 19m       |</pre>"
            ],
            "text/plain": [
              "| 7820         | 1.76387      | 4h 19m       |"
            ]
          },
          "metadata": {
            "tags": []
          }
        },
        {
          "output_type": "display_data",
          "data": {
            "text/html": [
              "<pre>| 7825         | 1.8055       | 4h 19m       |</pre>"
            ],
            "text/plain": [
              "| 7825         | 1.8055       | 4h 19m       |"
            ]
          },
          "metadata": {
            "tags": []
          }
        },
        {
          "output_type": "display_data",
          "data": {
            "text/html": [
              "<pre>| 7830         | 1.78431      | 4h 19m       |</pre>"
            ],
            "text/plain": [
              "| 7830         | 1.78431      | 4h 19m       |"
            ]
          },
          "metadata": {
            "tags": []
          }
        },
        {
          "output_type": "display_data",
          "data": {
            "text/html": [
              "<pre>| 7835         | 1.7962       | 4h 19m       |</pre>"
            ],
            "text/plain": [
              "| 7835         | 1.7962       | 4h 19m       |"
            ]
          },
          "metadata": {
            "tags": []
          }
        },
        {
          "output_type": "display_data",
          "data": {
            "text/html": [
              "<pre>| 7840         | 1.78238      | 4h 20m       |</pre>"
            ],
            "text/plain": [
              "| 7840         | 1.78238      | 4h 20m       |"
            ]
          },
          "metadata": {
            "tags": []
          }
        },
        {
          "output_type": "display_data",
          "data": {
            "text/html": [
              "<pre>| 7845         | 1.75824      | 4h 20m       |</pre>"
            ],
            "text/plain": [
              "| 7845         | 1.75824      | 4h 20m       |"
            ]
          },
          "metadata": {
            "tags": []
          }
        },
        {
          "output_type": "display_data",
          "data": {
            "text/html": [
              "<pre>| 7850         | 1.72865      | 4h 20m       |</pre>"
            ],
            "text/plain": [
              "| 7850         | 1.72865      | 4h 20m       |"
            ]
          },
          "metadata": {
            "tags": []
          }
        },
        {
          "output_type": "display_data",
          "data": {
            "text/html": [
              "<pre>| 7855         | 1.71887      | 4h 20m       |</pre>"
            ],
            "text/plain": [
              "| 7855         | 1.71887      | 4h 20m       |"
            ]
          },
          "metadata": {
            "tags": []
          }
        },
        {
          "output_type": "display_data",
          "data": {
            "text/html": [
              "<pre>| 7860         | 1.70339      | 4h 20m       |</pre>"
            ],
            "text/plain": [
              "| 7860         | 1.70339      | 4h 20m       |"
            ]
          },
          "metadata": {
            "tags": []
          }
        },
        {
          "output_type": "display_data",
          "data": {
            "text/html": [
              "<pre>| 7865         | 1.69751      | 4h 20m       |</pre>"
            ],
            "text/plain": [
              "| 7865         | 1.69751      | 4h 20m       |"
            ]
          },
          "metadata": {
            "tags": []
          }
        },
        {
          "output_type": "display_data",
          "data": {
            "text/html": [
              "<pre>| 7870         | 1.7105       | 4h 21m       |</pre>"
            ],
            "text/plain": [
              "| 7870         | 1.7105       | 4h 21m       |"
            ]
          },
          "metadata": {
            "tags": []
          }
        },
        {
          "output_type": "display_data",
          "data": {
            "text/html": [
              "<pre>| 7875         | 1.67679      | 4h 21m       |</pre>"
            ],
            "text/plain": [
              "| 7875         | 1.67679      | 4h 21m       |"
            ]
          },
          "metadata": {
            "tags": []
          }
        },
        {
          "output_type": "display_data",
          "data": {
            "text/html": [
              "<pre>| 7880         | 1.67385      | 4h 21m       |</pre>"
            ],
            "text/plain": [
              "| 7880         | 1.67385      | 4h 21m       |"
            ]
          },
          "metadata": {
            "tags": []
          }
        },
        {
          "output_type": "display_data",
          "data": {
            "text/html": [
              "<pre>| 7885         | 1.70239      | 4h 21m       |</pre>"
            ],
            "text/plain": [
              "| 7885         | 1.70239      | 4h 21m       |"
            ]
          },
          "metadata": {
            "tags": []
          }
        },
        {
          "output_type": "display_data",
          "data": {
            "text/html": [
              "<pre>| 7890         | 1.70129      | 4h 21m       |</pre>"
            ],
            "text/plain": [
              "| 7890         | 1.70129      | 4h 21m       |"
            ]
          },
          "metadata": {
            "tags": []
          }
        },
        {
          "output_type": "display_data",
          "data": {
            "text/html": [
              "<pre>| 7895         | 1.6944       | 4h 21m       |</pre>"
            ],
            "text/plain": [
              "| 7895         | 1.6944       | 4h 21m       |"
            ]
          },
          "metadata": {
            "tags": []
          }
        },
        {
          "output_type": "display_data",
          "data": {
            "text/html": [
              "<pre>| 7900         | 1.71146      | 4h 22m       |</pre>"
            ],
            "text/plain": [
              "| 7900         | 1.71146      | 4h 22m       |"
            ]
          },
          "metadata": {
            "tags": []
          }
        },
        {
          "output_type": "display_data",
          "data": {
            "text/html": [
              "<pre>| 7905         | 1.73773      | 4h 22m       |</pre>"
            ],
            "text/plain": [
              "| 7905         | 1.73773      | 4h 22m       |"
            ]
          },
          "metadata": {
            "tags": []
          }
        },
        {
          "output_type": "display_data",
          "data": {
            "text/html": [
              "<pre>| 7910         | 1.67392      | 4h 22m       |</pre>"
            ],
            "text/plain": [
              "| 7910         | 1.67392      | 4h 22m       |"
            ]
          },
          "metadata": {
            "tags": []
          }
        },
        {
          "output_type": "display_data",
          "data": {
            "text/html": [
              "<pre>| 7915         | 1.66504      | 4h 22m       |</pre>"
            ],
            "text/plain": [
              "| 7915         | 1.66504      | 4h 22m       |"
            ]
          },
          "metadata": {
            "tags": []
          }
        },
        {
          "output_type": "display_data",
          "data": {
            "text/html": [
              "<pre>| 7920         | 1.69622      | 4h 22m       |</pre>"
            ],
            "text/plain": [
              "| 7920         | 1.69622      | 4h 22m       |"
            ]
          },
          "metadata": {
            "tags": []
          }
        },
        {
          "output_type": "display_data",
          "data": {
            "text/html": [
              "<pre>| 7925         | 1.70479      | 4h 22m       |</pre>"
            ],
            "text/plain": [
              "| 7925         | 1.70479      | 4h 22m       |"
            ]
          },
          "metadata": {
            "tags": []
          }
        },
        {
          "output_type": "display_data",
          "data": {
            "text/html": [
              "<pre>| 7930         | 1.70585      | 4h 23m       |</pre>"
            ],
            "text/plain": [
              "| 7930         | 1.70585      | 4h 23m       |"
            ]
          },
          "metadata": {
            "tags": []
          }
        },
        {
          "output_type": "display_data",
          "data": {
            "text/html": [
              "<pre>| 7935         | 1.66773      | 4h 23m       |</pre>"
            ],
            "text/plain": [
              "| 7935         | 1.66773      | 4h 23m       |"
            ]
          },
          "metadata": {
            "tags": []
          }
        },
        {
          "output_type": "display_data",
          "data": {
            "text/html": [
              "<pre>| 7940         | 1.63295      | 4h 23m       |</pre>"
            ],
            "text/plain": [
              "| 7940         | 1.63295      | 4h 23m       |"
            ]
          },
          "metadata": {
            "tags": []
          }
        },
        {
          "output_type": "display_data",
          "data": {
            "text/html": [
              "<pre>| 7945         | 1.6711       | 4h 23m       |</pre>"
            ],
            "text/plain": [
              "| 7945         | 1.6711       | 4h 23m       |"
            ]
          },
          "metadata": {
            "tags": []
          }
        },
        {
          "output_type": "display_data",
          "data": {
            "text/html": [
              "<pre>| 7950         | 1.62524      | 4h 23m       |</pre>"
            ],
            "text/plain": [
              "| 7950         | 1.62524      | 4h 23m       |"
            ]
          },
          "metadata": {
            "tags": []
          }
        },
        {
          "output_type": "display_data",
          "data": {
            "text/html": [
              "<pre>| 7955         | 1.68963      | 4h 23m       |</pre>"
            ],
            "text/plain": [
              "| 7955         | 1.68963      | 4h 23m       |"
            ]
          },
          "metadata": {
            "tags": []
          }
        },
        {
          "output_type": "display_data",
          "data": {
            "text/html": [
              "<pre>| 7960         | 1.6905       | 4h 24m       |</pre>"
            ],
            "text/plain": [
              "| 7960         | 1.6905       | 4h 24m       |"
            ]
          },
          "metadata": {
            "tags": []
          }
        },
        {
          "output_type": "display_data",
          "data": {
            "text/html": [
              "<pre>| 7965         | 1.66685      | 4h 24m       |</pre>"
            ],
            "text/plain": [
              "| 7965         | 1.66685      | 4h 24m       |"
            ]
          },
          "metadata": {
            "tags": []
          }
        },
        {
          "output_type": "display_data",
          "data": {
            "text/html": [
              "<pre>| 7970         | 1.61462      | 4h 24m       |</pre>"
            ],
            "text/plain": [
              "| 7970         | 1.61462      | 4h 24m       |"
            ]
          },
          "metadata": {
            "tags": []
          }
        },
        {
          "output_type": "display_data",
          "data": {
            "text/html": [
              "<pre>| 7975         | 1.66677      | 4h 24m       |</pre>"
            ],
            "text/plain": [
              "| 7975         | 1.66677      | 4h 24m       |"
            ]
          },
          "metadata": {
            "tags": []
          }
        },
        {
          "output_type": "display_data",
          "data": {
            "text/html": [
              "<pre>| 7980         | 1.74843      | 4h 24m       |</pre>"
            ],
            "text/plain": [
              "| 7980         | 1.74843      | 4h 24m       |"
            ]
          },
          "metadata": {
            "tags": []
          }
        },
        {
          "output_type": "display_data",
          "data": {
            "text/html": [
              "<pre>| 7985         | 1.66604      | 4h 24m       |</pre>"
            ],
            "text/plain": [
              "| 7985         | 1.66604      | 4h 24m       |"
            ]
          },
          "metadata": {
            "tags": []
          }
        },
        {
          "output_type": "display_data",
          "data": {
            "text/html": [
              "<pre>| 7990         | 1.65318      | 4h 25m       |</pre>"
            ],
            "text/plain": [
              "| 7990         | 1.65318      | 4h 25m       |"
            ]
          },
          "metadata": {
            "tags": []
          }
        },
        {
          "output_type": "display_data",
          "data": {
            "text/html": [
              "<pre>| 7995         | 1.60099      | 4h 25m       |</pre>"
            ],
            "text/plain": [
              "| 7995         | 1.60099      | 4h 25m       |"
            ]
          },
          "metadata": {
            "tags": []
          }
        },
        {
          "output_type": "display_data",
          "data": {
            "text/html": [
              "<pre>| 8000         | 1.61513      | 4h 25m       |</pre>"
            ],
            "text/plain": [
              "| 8000         | 1.61513      | 4h 25m       |"
            ]
          },
          "metadata": {
            "tags": []
          }
        },
        {
          "output_type": "display_data",
          "data": {
            "text/html": [
              "<pre>| 8005         | 1.62999      | 4h 25m       |</pre>"
            ],
            "text/plain": [
              "| 8005         | 1.62999      | 4h 25m       |"
            ]
          },
          "metadata": {
            "tags": []
          }
        },
        {
          "output_type": "display_data",
          "data": {
            "text/html": [
              "<pre>| 8010         | 1.62233      | 4h 25m       |</pre>"
            ],
            "text/plain": [
              "| 8010         | 1.62233      | 4h 25m       |"
            ]
          },
          "metadata": {
            "tags": []
          }
        },
        {
          "output_type": "display_data",
          "data": {
            "text/html": [
              "<pre>| 8015         | 1.64155      | 4h 25m       |</pre>"
            ],
            "text/plain": [
              "| 8015         | 1.64155      | 4h 25m       |"
            ]
          },
          "metadata": {
            "tags": []
          }
        },
        {
          "output_type": "display_data",
          "data": {
            "text/html": [
              "<pre>| 8020         | 1.67821      | 4h 26m       |</pre>"
            ],
            "text/plain": [
              "| 8020         | 1.67821      | 4h 26m       |"
            ]
          },
          "metadata": {
            "tags": []
          }
        },
        {
          "output_type": "display_data",
          "data": {
            "text/html": [
              "<pre>| 8025         | 1.67788      | 4h 26m       |</pre>"
            ],
            "text/plain": [
              "| 8025         | 1.67788      | 4h 26m       |"
            ]
          },
          "metadata": {
            "tags": []
          }
        },
        {
          "output_type": "display_data",
          "data": {
            "text/html": [
              "<pre>| 8030         | 1.63139      | 4h 26m       |</pre>"
            ],
            "text/plain": [
              "| 8030         | 1.63139      | 4h 26m       |"
            ]
          },
          "metadata": {
            "tags": []
          }
        },
        {
          "output_type": "display_data",
          "data": {
            "text/html": [
              "<pre>| 8035         | 1.7515       | 4h 26m       |</pre>"
            ],
            "text/plain": [
              "| 8035         | 1.7515       | 4h 26m       |"
            ]
          },
          "metadata": {
            "tags": []
          }
        },
        {
          "output_type": "display_data",
          "data": {
            "text/html": [
              "<pre>| 8040         | 1.80107      | 4h 26m       |</pre>"
            ],
            "text/plain": [
              "| 8040         | 1.80107      | 4h 26m       |"
            ]
          },
          "metadata": {
            "tags": []
          }
        },
        {
          "output_type": "display_data",
          "data": {
            "text/html": [
              "<pre>| 8045         | 1.73663      | 4h 26m       |</pre>"
            ],
            "text/plain": [
              "| 8045         | 1.73663      | 4h 26m       |"
            ]
          },
          "metadata": {
            "tags": []
          }
        },
        {
          "output_type": "display_data",
          "data": {
            "text/html": [
              "<pre>| 8050         | 1.74954      | 4h 27m       |</pre>"
            ],
            "text/plain": [
              "| 8050         | 1.74954      | 4h 27m       |"
            ]
          },
          "metadata": {
            "tags": []
          }
        },
        {
          "output_type": "display_data",
          "data": {
            "text/html": [
              "<pre>| 8055         | 1.75249      | 4h 27m       |</pre>"
            ],
            "text/plain": [
              "| 8055         | 1.75249      | 4h 27m       |"
            ]
          },
          "metadata": {
            "tags": []
          }
        },
        {
          "output_type": "display_data",
          "data": {
            "text/html": [
              "<pre>| 8060         | 1.86238      | 4h 27m       |</pre>"
            ],
            "text/plain": [
              "| 8060         | 1.86238      | 4h 27m       |"
            ]
          },
          "metadata": {
            "tags": []
          }
        },
        {
          "output_type": "display_data",
          "data": {
            "text/html": [
              "<pre>| 8065         | 1.85445      | 4h 27m       |</pre>"
            ],
            "text/plain": [
              "| 8065         | 1.85445      | 4h 27m       |"
            ]
          },
          "metadata": {
            "tags": []
          }
        },
        {
          "output_type": "display_data",
          "data": {
            "text/html": [
              "<pre>| 8070         | 1.81711      | 4h 27m       |</pre>"
            ],
            "text/plain": [
              "| 8070         | 1.81711      | 4h 27m       |"
            ]
          },
          "metadata": {
            "tags": []
          }
        },
        {
          "output_type": "display_data",
          "data": {
            "text/html": [
              "<pre>| 8075         | 1.84852      | 4h 27m       |</pre>"
            ],
            "text/plain": [
              "| 8075         | 1.84852      | 4h 27m       |"
            ]
          },
          "metadata": {
            "tags": []
          }
        },
        {
          "output_type": "display_data",
          "data": {
            "text/html": [
              "<pre>| 8080         | 1.77618      | 4h 28m       |</pre>"
            ],
            "text/plain": [
              "| 8080         | 1.77618      | 4h 28m       |"
            ]
          },
          "metadata": {
            "tags": []
          }
        },
        {
          "output_type": "display_data",
          "data": {
            "text/html": [
              "<pre>| 8085         | 1.72379      | 4h 28m       |</pre>"
            ],
            "text/plain": [
              "| 8085         | 1.72379      | 4h 28m       |"
            ]
          },
          "metadata": {
            "tags": []
          }
        },
        {
          "output_type": "display_data",
          "data": {
            "text/html": [
              "<pre>| 8090         | 1.69105      | 4h 28m       |</pre>"
            ],
            "text/plain": [
              "| 8090         | 1.69105      | 4h 28m       |"
            ]
          },
          "metadata": {
            "tags": []
          }
        },
        {
          "output_type": "display_data",
          "data": {
            "text/html": [
              "<pre>| 8095         | 1.64425      | 4h 28m       |</pre>"
            ],
            "text/plain": [
              "| 8095         | 1.64425      | 4h 28m       |"
            ]
          },
          "metadata": {
            "tags": []
          }
        },
        {
          "output_type": "display_data",
          "data": {
            "text/html": [
              "<pre>| 8100         | 1.73108      | 4h 28m       |</pre>"
            ],
            "text/plain": [
              "| 8100         | 1.73108      | 4h 28m       |"
            ]
          },
          "metadata": {
            "tags": []
          }
        },
        {
          "output_type": "display_data",
          "data": {
            "text/html": [
              "<pre>| 8105         | 1.6993       | 4h 28m       |</pre>"
            ],
            "text/plain": [
              "| 8105         | 1.6993       | 4h 28m       |"
            ]
          },
          "metadata": {
            "tags": []
          }
        },
        {
          "output_type": "display_data",
          "data": {
            "text/html": [
              "<pre>| 8110         | 1.70584      | 4h 29m       |</pre>"
            ],
            "text/plain": [
              "| 8110         | 1.70584      | 4h 29m       |"
            ]
          },
          "metadata": {
            "tags": []
          }
        },
        {
          "output_type": "display_data",
          "data": {
            "text/html": [
              "<pre>| 8115         | 1.6724       | 4h 29m       |</pre>"
            ],
            "text/plain": [
              "| 8115         | 1.6724       | 4h 29m       |"
            ]
          },
          "metadata": {
            "tags": []
          }
        },
        {
          "output_type": "display_data",
          "data": {
            "text/html": [
              "<pre>| 8120         | 1.70952      | 4h 29m       |</pre>"
            ],
            "text/plain": [
              "| 8120         | 1.70952      | 4h 29m       |"
            ]
          },
          "metadata": {
            "tags": []
          }
        },
        {
          "output_type": "display_data",
          "data": {
            "text/html": [
              "<pre>| 8125         | 1.71252      | 4h 29m       |</pre>"
            ],
            "text/plain": [
              "| 8125         | 1.71252      | 4h 29m       |"
            ]
          },
          "metadata": {
            "tags": []
          }
        },
        {
          "output_type": "display_data",
          "data": {
            "text/html": [
              "<pre>| 8130         | 1.68374      | 4h 29m       |</pre>"
            ],
            "text/plain": [
              "| 8130         | 1.68374      | 4h 29m       |"
            ]
          },
          "metadata": {
            "tags": []
          }
        },
        {
          "output_type": "display_data",
          "data": {
            "text/html": [
              "<pre>| 8135         | 1.67317      | 4h 29m       |</pre>"
            ],
            "text/plain": [
              "| 8135         | 1.67317      | 4h 29m       |"
            ]
          },
          "metadata": {
            "tags": []
          }
        },
        {
          "output_type": "display_data",
          "data": {
            "text/html": [
              "<pre>| 8140         | 1.70033      | 4h 30m       |</pre>"
            ],
            "text/plain": [
              "| 8140         | 1.70033      | 4h 30m       |"
            ]
          },
          "metadata": {
            "tags": []
          }
        },
        {
          "output_type": "display_data",
          "data": {
            "text/html": [
              "<pre>| 8145         | 1.69243      | 4h 30m       |</pre>"
            ],
            "text/plain": [
              "| 8145         | 1.69243      | 4h 30m       |"
            ]
          },
          "metadata": {
            "tags": []
          }
        },
        {
          "output_type": "display_data",
          "data": {
            "text/html": [
              "<pre>| 8150         | 1.70689      | 4h 30m       |</pre>"
            ],
            "text/plain": [
              "| 8150         | 1.70689      | 4h 30m       |"
            ]
          },
          "metadata": {
            "tags": []
          }
        },
        {
          "output_type": "display_data",
          "data": {
            "text/html": [
              "<pre>| 8155         | 1.68031      | 4h 30m       |</pre>"
            ],
            "text/plain": [
              "| 8155         | 1.68031      | 4h 30m       |"
            ]
          },
          "metadata": {
            "tags": []
          }
        },
        {
          "output_type": "display_data",
          "data": {
            "text/html": [
              "<pre>| 8160         | 1.77611      | 4h 30m       |</pre>"
            ],
            "text/plain": [
              "| 8160         | 1.77611      | 4h 30m       |"
            ]
          },
          "metadata": {
            "tags": []
          }
        },
        {
          "output_type": "display_data",
          "data": {
            "text/html": [
              "<pre>| 8165         | 1.63322      | 4h 30m       |</pre>"
            ],
            "text/plain": [
              "| 8165         | 1.63322      | 4h 30m       |"
            ]
          },
          "metadata": {
            "tags": []
          }
        },
        {
          "output_type": "display_data",
          "data": {
            "text/html": [
              "<pre>| 8170         | 1.73888      | 4h 31m       |</pre>"
            ],
            "text/plain": [
              "| 8170         | 1.73888      | 4h 31m       |"
            ]
          },
          "metadata": {
            "tags": []
          }
        },
        {
          "output_type": "display_data",
          "data": {
            "text/html": [
              "<pre>| 8175         | 1.71301      | 4h 31m       |</pre>"
            ],
            "text/plain": [
              "| 8175         | 1.71301      | 4h 31m       |"
            ]
          },
          "metadata": {
            "tags": []
          }
        },
        {
          "output_type": "display_data",
          "data": {
            "text/html": [
              "<pre>| 8180         | 1.71744      | 4h 31m       |</pre>"
            ],
            "text/plain": [
              "| 8180         | 1.71744      | 4h 31m       |"
            ]
          },
          "metadata": {
            "tags": []
          }
        },
        {
          "output_type": "display_data",
          "data": {
            "text/html": [
              "<pre>| 8185         | 1.70533      | 4h 31m       |</pre>"
            ],
            "text/plain": [
              "| 8185         | 1.70533      | 4h 31m       |"
            ]
          },
          "metadata": {
            "tags": []
          }
        },
        {
          "output_type": "display_data",
          "data": {
            "text/html": [
              "<pre>| 8190         | 1.71205      | 4h 31m       |</pre>"
            ],
            "text/plain": [
              "| 8190         | 1.71205      | 4h 31m       |"
            ]
          },
          "metadata": {
            "tags": []
          }
        },
        {
          "output_type": "display_data",
          "data": {
            "text/html": [
              "<pre>| 8195         | 1.69733      | 4h 31m       |</pre>"
            ],
            "text/plain": [
              "| 8195         | 1.69733      | 4h 31m       |"
            ]
          },
          "metadata": {
            "tags": []
          }
        },
        {
          "output_type": "display_data",
          "data": {
            "text/html": [
              "<pre>| 8200         | 1.78455      | 4h 32m       |</pre>"
            ],
            "text/plain": [
              "| 8200         | 1.78455      | 4h 32m       |"
            ]
          },
          "metadata": {
            "tags": []
          }
        },
        {
          "output_type": "display_data",
          "data": {
            "text/html": [
              "<pre>| 8205         | 1.75272      | 4h 32m       |</pre>"
            ],
            "text/plain": [
              "| 8205         | 1.75272      | 4h 32m       |"
            ]
          },
          "metadata": {
            "tags": []
          }
        },
        {
          "output_type": "display_data",
          "data": {
            "text/html": [
              "<pre>| 8210         | 1.7487       | 4h 32m       |</pre>"
            ],
            "text/plain": [
              "| 8210         | 1.7487       | 4h 32m       |"
            ]
          },
          "metadata": {
            "tags": []
          }
        },
        {
          "output_type": "display_data",
          "data": {
            "text/html": [
              "<pre>| 8215         | 1.72511      | 4h 32m       |</pre>"
            ],
            "text/plain": [
              "| 8215         | 1.72511      | 4h 32m       |"
            ]
          },
          "metadata": {
            "tags": []
          }
        },
        {
          "output_type": "display_data",
          "data": {
            "text/html": [
              "<pre>| 8220         | 1.75863      | 4h 32m       |</pre>"
            ],
            "text/plain": [
              "| 8220         | 1.75863      | 4h 32m       |"
            ]
          },
          "metadata": {
            "tags": []
          }
        },
        {
          "output_type": "display_data",
          "data": {
            "text/html": [
              "<pre>| 8225         | 1.77271      | 4h 32m       |</pre>"
            ],
            "text/plain": [
              "| 8225         | 1.77271      | 4h 32m       |"
            ]
          },
          "metadata": {
            "tags": []
          }
        },
        {
          "output_type": "display_data",
          "data": {
            "text/html": [
              "<pre>| 8230         | 1.72868      | 4h 33m       |</pre>"
            ],
            "text/plain": [
              "| 8230         | 1.72868      | 4h 33m       |"
            ]
          },
          "metadata": {
            "tags": []
          }
        },
        {
          "output_type": "display_data",
          "data": {
            "text/html": [
              "<pre>| 8235         | 1.81402      | 4h 33m       |</pre>"
            ],
            "text/plain": [
              "| 8235         | 1.81402      | 4h 33m       |"
            ]
          },
          "metadata": {
            "tags": []
          }
        },
        {
          "output_type": "display_data",
          "data": {
            "text/html": [
              "<pre>| 8240         | 1.73787      | 4h 33m       |</pre>"
            ],
            "text/plain": [
              "| 8240         | 1.73787      | 4h 33m       |"
            ]
          },
          "metadata": {
            "tags": []
          }
        },
        {
          "output_type": "display_data",
          "data": {
            "text/html": [
              "<pre>| 8245         | 1.68212      | 4h 33m       |</pre>"
            ],
            "text/plain": [
              "| 8245         | 1.68212      | 4h 33m       |"
            ]
          },
          "metadata": {
            "tags": []
          }
        },
        {
          "output_type": "display_data",
          "data": {
            "text/html": [
              "<pre>| 8250         | 1.71681      | 4h 33m       |</pre>"
            ],
            "text/plain": [
              "| 8250         | 1.71681      | 4h 33m       |"
            ]
          },
          "metadata": {
            "tags": []
          }
        },
        {
          "output_type": "display_data",
          "data": {
            "text/html": [
              "<pre>| 8255         | 1.73901      | 4h 33m       |</pre>"
            ],
            "text/plain": [
              "| 8255         | 1.73901      | 4h 33m       |"
            ]
          },
          "metadata": {
            "tags": []
          }
        },
        {
          "output_type": "display_data",
          "data": {
            "text/html": [
              "<pre>| 8260         | 1.72131      | 4h 34m       |</pre>"
            ],
            "text/plain": [
              "| 8260         | 1.72131      | 4h 34m       |"
            ]
          },
          "metadata": {
            "tags": []
          }
        },
        {
          "output_type": "display_data",
          "data": {
            "text/html": [
              "<pre>| 8265         | 1.78072      | 4h 34m       |</pre>"
            ],
            "text/plain": [
              "| 8265         | 1.78072      | 4h 34m       |"
            ]
          },
          "metadata": {
            "tags": []
          }
        },
        {
          "output_type": "display_data",
          "data": {
            "text/html": [
              "<pre>| 8270         | 1.78746      | 4h 34m       |</pre>"
            ],
            "text/plain": [
              "| 8270         | 1.78746      | 4h 34m       |"
            ]
          },
          "metadata": {
            "tags": []
          }
        },
        {
          "output_type": "display_data",
          "data": {
            "text/html": [
              "<pre>| 8275         | 1.75451      | 4h 34m       |</pre>"
            ],
            "text/plain": [
              "| 8275         | 1.75451      | 4h 34m       |"
            ]
          },
          "metadata": {
            "tags": []
          }
        },
        {
          "output_type": "display_data",
          "data": {
            "text/html": [
              "<pre>| 8280         | 1.78944      | 4h 34m       |</pre>"
            ],
            "text/plain": [
              "| 8280         | 1.78944      | 4h 34m       |"
            ]
          },
          "metadata": {
            "tags": []
          }
        },
        {
          "output_type": "display_data",
          "data": {
            "text/html": [
              "<pre>| 8285         | 1.80211      | 4h 34m       |</pre>"
            ],
            "text/plain": [
              "| 8285         | 1.80211      | 4h 34m       |"
            ]
          },
          "metadata": {
            "tags": []
          }
        },
        {
          "output_type": "display_data",
          "data": {
            "text/html": [
              "<pre>| 8290         | 1.77918      | 4h 34m       |</pre>"
            ],
            "text/plain": [
              "| 8290         | 1.77918      | 4h 34m       |"
            ]
          },
          "metadata": {
            "tags": []
          }
        },
        {
          "output_type": "display_data",
          "data": {
            "text/html": [
              "<pre>| 8295         | 1.69393      | 4h 35m       |</pre>"
            ],
            "text/plain": [
              "| 8295         | 1.69393      | 4h 35m       |"
            ]
          },
          "metadata": {
            "tags": []
          }
        },
        {
          "output_type": "display_data",
          "data": {
            "text/html": [
              "<pre>| 8300         | 1.70878      | 4h 35m       |</pre>"
            ],
            "text/plain": [
              "| 8300         | 1.70878      | 4h 35m       |"
            ]
          },
          "metadata": {
            "tags": []
          }
        },
        {
          "output_type": "display_data",
          "data": {
            "text/html": [
              "<pre>| 8305         | 1.66929      | 4h 35m       |</pre>"
            ],
            "text/plain": [
              "| 8305         | 1.66929      | 4h 35m       |"
            ]
          },
          "metadata": {
            "tags": []
          }
        },
        {
          "output_type": "display_data",
          "data": {
            "text/html": [
              "<pre>| 8310         | 1.73567      | 4h 35m       |</pre>"
            ],
            "text/plain": [
              "| 8310         | 1.73567      | 4h 35m       |"
            ]
          },
          "metadata": {
            "tags": []
          }
        },
        {
          "output_type": "display_data",
          "data": {
            "text/html": [
              "<pre>| 8315         | 1.69916      | 4h 35m       |</pre>"
            ],
            "text/plain": [
              "| 8315         | 1.69916      | 4h 35m       |"
            ]
          },
          "metadata": {
            "tags": []
          }
        },
        {
          "output_type": "display_data",
          "data": {
            "text/html": [
              "<pre>| 8320         | 1.69541      | 4h 35m       |</pre>"
            ],
            "text/plain": [
              "| 8320         | 1.69541      | 4h 35m       |"
            ]
          },
          "metadata": {
            "tags": []
          }
        },
        {
          "output_type": "display_data",
          "data": {
            "text/html": [
              "<pre>| 8325         | 1.70066      | 4h 36m       |</pre>"
            ],
            "text/plain": [
              "| 8325         | 1.70066      | 4h 36m       |"
            ]
          },
          "metadata": {
            "tags": []
          }
        },
        {
          "output_type": "display_data",
          "data": {
            "text/html": [
              "<pre>| 8330         | 1.76814      | 4h 36m       |</pre>"
            ],
            "text/plain": [
              "| 8330         | 1.76814      | 4h 36m       |"
            ]
          },
          "metadata": {
            "tags": []
          }
        },
        {
          "output_type": "display_data",
          "data": {
            "text/html": [
              "<pre>| 8335         | 1.70237      | 4h 36m       |</pre>"
            ],
            "text/plain": [
              "| 8335         | 1.70237      | 4h 36m       |"
            ]
          },
          "metadata": {
            "tags": []
          }
        },
        {
          "output_type": "display_data",
          "data": {
            "text/html": [
              "<pre>| 8340         | 1.73991      | 4h 36m       |</pre>"
            ],
            "text/plain": [
              "| 8340         | 1.73991      | 4h 36m       |"
            ]
          },
          "metadata": {
            "tags": []
          }
        },
        {
          "output_type": "display_data",
          "data": {
            "text/html": [
              "<pre>| 8345         | 1.80523      | 4h 36m       |</pre>"
            ],
            "text/plain": [
              "| 8345         | 1.80523      | 4h 36m       |"
            ]
          },
          "metadata": {
            "tags": []
          }
        },
        {
          "output_type": "display_data",
          "data": {
            "text/html": [
              "<pre>| 8350         | 1.77986      | 4h 37m       |</pre>"
            ],
            "text/plain": [
              "| 8350         | 1.77986      | 4h 37m       |"
            ]
          },
          "metadata": {
            "tags": []
          }
        },
        {
          "output_type": "display_data",
          "data": {
            "text/html": [
              "<pre>| 8355         | 1.7987       | 4h 37m       |</pre>"
            ],
            "text/plain": [
              "| 8355         | 1.7987       | 4h 37m       |"
            ]
          },
          "metadata": {
            "tags": []
          }
        },
        {
          "output_type": "display_data",
          "data": {
            "text/html": [
              "<pre>| 8360         | 1.80516      | 4h 37m       |</pre>"
            ],
            "text/plain": [
              "| 8360         | 1.80516      | 4h 37m       |"
            ]
          },
          "metadata": {
            "tags": []
          }
        },
        {
          "output_type": "display_data",
          "data": {
            "text/html": [
              "<pre>| 8365         | 1.74893      | 4h 37m       |</pre>"
            ],
            "text/plain": [
              "| 8365         | 1.74893      | 4h 37m       |"
            ]
          },
          "metadata": {
            "tags": []
          }
        },
        {
          "output_type": "display_data",
          "data": {
            "text/html": [
              "<pre>| 8370         | 1.75545      | 4h 37m       |</pre>"
            ],
            "text/plain": [
              "| 8370         | 1.75545      | 4h 37m       |"
            ]
          },
          "metadata": {
            "tags": []
          }
        },
        {
          "output_type": "display_data",
          "data": {
            "text/html": [
              "<pre>| 8375         | 1.682        | 4h 37m       |</pre>"
            ],
            "text/plain": [
              "| 8375         | 1.682        | 4h 37m       |"
            ]
          },
          "metadata": {
            "tags": []
          }
        },
        {
          "output_type": "display_data",
          "data": {
            "text/html": [
              "<pre>| 8380         | 1.7951       | 4h 37m       |</pre>"
            ],
            "text/plain": [
              "| 8380         | 1.7951       | 4h 37m       |"
            ]
          },
          "metadata": {
            "tags": []
          }
        },
        {
          "output_type": "display_data",
          "data": {
            "text/html": [
              "<pre>| 8385         | 1.76245      | 4h 38m       |</pre>"
            ],
            "text/plain": [
              "| 8385         | 1.76245      | 4h 38m       |"
            ]
          },
          "metadata": {
            "tags": []
          }
        },
        {
          "output_type": "display_data",
          "data": {
            "text/html": [
              "<pre>| 8390         | 1.77735      | 4h 38m       |</pre>"
            ],
            "text/plain": [
              "| 8390         | 1.77735      | 4h 38m       |"
            ]
          },
          "metadata": {
            "tags": []
          }
        },
        {
          "output_type": "display_data",
          "data": {
            "text/html": [
              "<pre>| 8395         | 1.70137      | 4h 38m       |</pre>"
            ],
            "text/plain": [
              "| 8395         | 1.70137      | 4h 38m       |"
            ]
          },
          "metadata": {
            "tags": []
          }
        },
        {
          "output_type": "display_data",
          "data": {
            "text/html": [
              "<pre>| 8400         | 1.69174      | 4h 38m       |</pre>"
            ],
            "text/plain": [
              "| 8400         | 1.69174      | 4h 38m       |"
            ]
          },
          "metadata": {
            "tags": []
          }
        },
        {
          "output_type": "display_data",
          "data": {
            "text/html": [
              "<pre>| 8405         | 1.7426       | 4h 38m       |</pre>"
            ],
            "text/plain": [
              "| 8405         | 1.7426       | 4h 38m       |"
            ]
          },
          "metadata": {
            "tags": []
          }
        },
        {
          "output_type": "display_data",
          "data": {
            "text/html": [
              "<pre>| 8410         | 1.74878      | 4h 38m       |</pre>"
            ],
            "text/plain": [
              "| 8410         | 1.74878      | 4h 38m       |"
            ]
          },
          "metadata": {
            "tags": []
          }
        },
        {
          "output_type": "display_data",
          "data": {
            "text/html": [
              "<pre>| 8415         | 1.69668      | 4h 39m       |</pre>"
            ],
            "text/plain": [
              "| 8415         | 1.69668      | 4h 39m       |"
            ]
          },
          "metadata": {
            "tags": []
          }
        },
        {
          "output_type": "display_data",
          "data": {
            "text/html": [
              "<pre>| 8420         | 1.72674      | 4h 39m       |</pre>"
            ],
            "text/plain": [
              "| 8420         | 1.72674      | 4h 39m       |"
            ]
          },
          "metadata": {
            "tags": []
          }
        },
        {
          "output_type": "display_data",
          "data": {
            "text/html": [
              "<pre>| 8425         | 1.6826       | 4h 39m       |</pre>"
            ],
            "text/plain": [
              "| 8425         | 1.6826       | 4h 39m       |"
            ]
          },
          "metadata": {
            "tags": []
          }
        },
        {
          "output_type": "display_data",
          "data": {
            "text/html": [
              "<pre>| 8430         | 1.72021      | 4h 39m       |</pre>"
            ],
            "text/plain": [
              "| 8430         | 1.72021      | 4h 39m       |"
            ]
          },
          "metadata": {
            "tags": []
          }
        },
        {
          "output_type": "display_data",
          "data": {
            "text/html": [
              "<pre>| 8435         | 1.73487      | 4h 39m       |</pre>"
            ],
            "text/plain": [
              "| 8435         | 1.73487      | 4h 39m       |"
            ]
          },
          "metadata": {
            "tags": []
          }
        },
        {
          "output_type": "display_data",
          "data": {
            "text/html": [
              "<pre>| 8440         | 1.692        | 4h 39m       |</pre>"
            ],
            "text/plain": [
              "| 8440         | 1.692        | 4h 39m       |"
            ]
          },
          "metadata": {
            "tags": []
          }
        },
        {
          "output_type": "display_data",
          "data": {
            "text/html": [
              "<pre>| 8445         | 1.74385      | 4h 40m       |</pre>"
            ],
            "text/plain": [
              "| 8445         | 1.74385      | 4h 40m       |"
            ]
          },
          "metadata": {
            "tags": []
          }
        },
        {
          "output_type": "display_data",
          "data": {
            "text/html": [
              "<pre>| 8450         | 1.73286      | 4h 40m       |</pre>"
            ],
            "text/plain": [
              "| 8450         | 1.73286      | 4h 40m       |"
            ]
          },
          "metadata": {
            "tags": []
          }
        },
        {
          "output_type": "display_data",
          "data": {
            "text/html": [
              "<pre>| 8455         | 1.71109      | 4h 40m       |</pre>"
            ],
            "text/plain": [
              "| 8455         | 1.71109      | 4h 40m       |"
            ]
          },
          "metadata": {
            "tags": []
          }
        },
        {
          "output_type": "display_data",
          "data": {
            "text/html": [
              "<pre>| 8460         | 1.68084      | 4h 40m       |</pre>"
            ],
            "text/plain": [
              "| 8460         | 1.68084      | 4h 40m       |"
            ]
          },
          "metadata": {
            "tags": []
          }
        },
        {
          "output_type": "display_data",
          "data": {
            "text/html": [
              "<pre>| 8465         | 1.64451      | 4h 40m       |</pre>"
            ],
            "text/plain": [
              "| 8465         | 1.64451      | 4h 40m       |"
            ]
          },
          "metadata": {
            "tags": []
          }
        },
        {
          "output_type": "display_data",
          "data": {
            "text/html": [
              "<pre>| 8470         | 1.69165      | 4h 40m       |</pre>"
            ],
            "text/plain": [
              "| 8470         | 1.69165      | 4h 40m       |"
            ]
          },
          "metadata": {
            "tags": []
          }
        },
        {
          "output_type": "display_data",
          "data": {
            "text/html": [
              "<pre>| 8475         | 1.70393      | 4h 41m       |</pre>"
            ],
            "text/plain": [
              "| 8475         | 1.70393      | 4h 41m       |"
            ]
          },
          "metadata": {
            "tags": []
          }
        },
        {
          "output_type": "display_data",
          "data": {
            "text/html": [
              "<pre>| 8480         | 1.70043      | 4h 41m       |</pre>"
            ],
            "text/plain": [
              "| 8480         | 1.70043      | 4h 41m       |"
            ]
          },
          "metadata": {
            "tags": []
          }
        },
        {
          "output_type": "display_data",
          "data": {
            "text/html": [
              "<pre>| 8485         | 1.69518      | 4h 41m       |</pre>"
            ],
            "text/plain": [
              "| 8485         | 1.69518      | 4h 41m       |"
            ]
          },
          "metadata": {
            "tags": []
          }
        },
        {
          "output_type": "display_data",
          "data": {
            "text/html": [
              "<pre>| 8490         | 1.74438      | 4h 41m       |</pre>"
            ],
            "text/plain": [
              "| 8490         | 1.74438      | 4h 41m       |"
            ]
          },
          "metadata": {
            "tags": []
          }
        },
        {
          "output_type": "display_data",
          "data": {
            "text/html": [
              "<pre>| 8495         | 1.71542      | 4h 41m       |</pre>"
            ],
            "text/plain": [
              "| 8495         | 1.71542      | 4h 41m       |"
            ]
          },
          "metadata": {
            "tags": []
          }
        },
        {
          "output_type": "display_data",
          "data": {
            "text/html": [
              "<pre>| 8500         | 1.74679      | 4h 41m       |</pre>"
            ],
            "text/plain": [
              "| 8500         | 1.74679      | 4h 41m       |"
            ]
          },
          "metadata": {
            "tags": []
          }
        },
        {
          "output_type": "display_data",
          "data": {
            "text/html": [
              "<pre>| 8505         | 1.69697      | 4h 42m       |</pre>"
            ],
            "text/plain": [
              "| 8505         | 1.69697      | 4h 42m       |"
            ]
          },
          "metadata": {
            "tags": []
          }
        },
        {
          "output_type": "display_data",
          "data": {
            "text/html": [
              "<pre>| 8510         | 1.7712       | 4h 42m       |</pre>"
            ],
            "text/plain": [
              "| 8510         | 1.7712       | 4h 42m       |"
            ]
          },
          "metadata": {
            "tags": []
          }
        },
        {
          "output_type": "display_data",
          "data": {
            "text/html": [
              "<pre>| 8515         | 1.65545      | 4h 42m       |</pre>"
            ],
            "text/plain": [
              "| 8515         | 1.65545      | 4h 42m       |"
            ]
          },
          "metadata": {
            "tags": []
          }
        },
        {
          "output_type": "display_data",
          "data": {
            "text/html": [
              "<pre>| 8520         | 1.71259      | 4h 42m       |</pre>"
            ],
            "text/plain": [
              "| 8520         | 1.71259      | 4h 42m       |"
            ]
          },
          "metadata": {
            "tags": []
          }
        },
        {
          "output_type": "display_data",
          "data": {
            "text/html": [
              "<pre>| 8525         | 1.73408      | 4h 42m       |</pre>"
            ],
            "text/plain": [
              "| 8525         | 1.73408      | 4h 42m       |"
            ]
          },
          "metadata": {
            "tags": []
          }
        },
        {
          "output_type": "display_data",
          "data": {
            "text/html": [
              "<pre>| 8530         | 1.70311      | 4h 42m       |</pre>"
            ],
            "text/plain": [
              "| 8530         | 1.70311      | 4h 42m       |"
            ]
          },
          "metadata": {
            "tags": []
          }
        },
        {
          "output_type": "display_data",
          "data": {
            "text/html": [
              "<pre>| 8535         | 1.6744       | 4h 43m       |</pre>"
            ],
            "text/plain": [
              "| 8535         | 1.6744       | 4h 43m       |"
            ]
          },
          "metadata": {
            "tags": []
          }
        },
        {
          "output_type": "display_data",
          "data": {
            "text/html": [
              "<pre>| 8540         | 1.733        | 4h 43m       |</pre>"
            ],
            "text/plain": [
              "| 8540         | 1.733        | 4h 43m       |"
            ]
          },
          "metadata": {
            "tags": []
          }
        },
        {
          "output_type": "display_data",
          "data": {
            "text/html": [
              "<pre>| 8545         | 1.76144      | 4h 43m       |</pre>"
            ],
            "text/plain": [
              "| 8545         | 1.76144      | 4h 43m       |"
            ]
          },
          "metadata": {
            "tags": []
          }
        },
        {
          "output_type": "display_data",
          "data": {
            "text/html": [
              "<pre>| 8550         | 1.73877      | 4h 43m       |</pre>"
            ],
            "text/plain": [
              "| 8550         | 1.73877      | 4h 43m       |"
            ]
          },
          "metadata": {
            "tags": []
          }
        },
        {
          "output_type": "display_data",
          "data": {
            "text/html": [
              "<pre>| 8555         | 1.78177      | 4h 43m       |</pre>"
            ],
            "text/plain": [
              "| 8555         | 1.78177      | 4h 43m       |"
            ]
          },
          "metadata": {
            "tags": []
          }
        },
        {
          "output_type": "display_data",
          "data": {
            "text/html": [
              "<pre>| 8560         | 1.76588      | 4h 43m       |</pre>"
            ],
            "text/plain": [
              "| 8560         | 1.76588      | 4h 43m       |"
            ]
          },
          "metadata": {
            "tags": []
          }
        },
        {
          "output_type": "display_data",
          "data": {
            "text/html": [
              "<pre>| 8565         | 1.72419      | 4h 44m       |</pre>"
            ],
            "text/plain": [
              "| 8565         | 1.72419      | 4h 44m       |"
            ]
          },
          "metadata": {
            "tags": []
          }
        },
        {
          "output_type": "display_data",
          "data": {
            "text/html": [
              "<pre>| 8570         | 1.69149      | 4h 44m       |</pre>"
            ],
            "text/plain": [
              "| 8570         | 1.69149      | 4h 44m       |"
            ]
          },
          "metadata": {
            "tags": []
          }
        },
        {
          "output_type": "display_data",
          "data": {
            "text/html": [
              "<pre>| 8575         | 1.67872      | 4h 44m       |</pre>"
            ],
            "text/plain": [
              "| 8575         | 1.67872      | 4h 44m       |"
            ]
          },
          "metadata": {
            "tags": []
          }
        },
        {
          "output_type": "display_data",
          "data": {
            "text/html": [
              "<pre>| 8580         | 1.69945      | 4h 44m       |</pre>"
            ],
            "text/plain": [
              "| 8580         | 1.69945      | 4h 44m       |"
            ]
          },
          "metadata": {
            "tags": []
          }
        },
        {
          "output_type": "display_data",
          "data": {
            "text/html": [
              "<pre>| 8585         | 1.70615      | 4h 44m       |</pre>"
            ],
            "text/plain": [
              "| 8585         | 1.70615      | 4h 44m       |"
            ]
          },
          "metadata": {
            "tags": []
          }
        },
        {
          "output_type": "display_data",
          "data": {
            "text/html": [
              "<pre>| 8590         | 1.66528      | 4h 44m       |</pre>"
            ],
            "text/plain": [
              "| 8590         | 1.66528      | 4h 44m       |"
            ]
          },
          "metadata": {
            "tags": []
          }
        },
        {
          "output_type": "display_data",
          "data": {
            "text/html": [
              "<pre>| 8595         | 1.61683      | 4h 45m       |</pre>"
            ],
            "text/plain": [
              "| 8595         | 1.61683      | 4h 45m       |"
            ]
          },
          "metadata": {
            "tags": []
          }
        },
        {
          "output_type": "display_data",
          "data": {
            "text/html": [
              "<pre>| 8600         | 1.68114      | 4h 45m       |</pre>"
            ],
            "text/plain": [
              "| 8600         | 1.68114      | 4h 45m       |"
            ]
          },
          "metadata": {
            "tags": []
          }
        },
        {
          "output_type": "display_data",
          "data": {
            "text/html": [
              "<pre>| 8605         | 1.71543      | 4h 45m       |</pre>"
            ],
            "text/plain": [
              "| 8605         | 1.71543      | 4h 45m       |"
            ]
          },
          "metadata": {
            "tags": []
          }
        },
        {
          "output_type": "display_data",
          "data": {
            "text/html": [
              "<pre>| 8610         | 1.66474      | 4h 45m       |</pre>"
            ],
            "text/plain": [
              "| 8610         | 1.66474      | 4h 45m       |"
            ]
          },
          "metadata": {
            "tags": []
          }
        },
        {
          "output_type": "display_data",
          "data": {
            "text/html": [
              "<pre>| 8615         | 1.7421       | 4h 45m       |</pre>"
            ],
            "text/plain": [
              "| 8615         | 1.7421       | 4h 45m       |"
            ]
          },
          "metadata": {
            "tags": []
          }
        },
        {
          "output_type": "display_data",
          "data": {
            "text/html": [
              "<pre>| 8620         | 1.73884      | 4h 45m       |</pre>"
            ],
            "text/plain": [
              "| 8620         | 1.73884      | 4h 45m       |"
            ]
          },
          "metadata": {
            "tags": []
          }
        },
        {
          "output_type": "display_data",
          "data": {
            "text/html": [
              "<pre>| 8625         | 1.7515       | 4h 46m       |</pre>"
            ],
            "text/plain": [
              "| 8625         | 1.7515       | 4h 46m       |"
            ]
          },
          "metadata": {
            "tags": []
          }
        },
        {
          "output_type": "display_data",
          "data": {
            "text/html": [
              "<pre>| 8630         | 1.76745      | 4h 46m       |</pre>"
            ],
            "text/plain": [
              "| 8630         | 1.76745      | 4h 46m       |"
            ]
          },
          "metadata": {
            "tags": []
          }
        },
        {
          "output_type": "display_data",
          "data": {
            "text/html": [
              "<pre>| 8635         | 1.73584      | 4h 46m       |</pre>"
            ],
            "text/plain": [
              "| 8635         | 1.73584      | 4h 46m       |"
            ]
          },
          "metadata": {
            "tags": []
          }
        },
        {
          "output_type": "display_data",
          "data": {
            "text/html": [
              "<pre>| 8640         | 1.70547      | 4h 46m       |</pre>"
            ],
            "text/plain": [
              "| 8640         | 1.70547      | 4h 46m       |"
            ]
          },
          "metadata": {
            "tags": []
          }
        },
        {
          "output_type": "display_data",
          "data": {
            "text/html": [
              "<pre>| 8645         | 1.69319      | 4h 46m       |</pre>"
            ],
            "text/plain": [
              "| 8645         | 1.69319      | 4h 46m       |"
            ]
          },
          "metadata": {
            "tags": []
          }
        },
        {
          "output_type": "display_data",
          "data": {
            "text/html": [
              "<pre>| 8650         | 1.67197      | 4h 46m       |</pre>"
            ],
            "text/plain": [
              "| 8650         | 1.67197      | 4h 46m       |"
            ]
          },
          "metadata": {
            "tags": []
          }
        },
        {
          "output_type": "display_data",
          "data": {
            "text/html": [
              "<pre>| 8655         | 1.63395      | 4h 47m       |</pre>"
            ],
            "text/plain": [
              "| 8655         | 1.63395      | 4h 47m       |"
            ]
          },
          "metadata": {
            "tags": []
          }
        },
        {
          "output_type": "display_data",
          "data": {
            "text/html": [
              "<pre>| 8660         | 1.64454      | 4h 47m       |</pre>"
            ],
            "text/plain": [
              "| 8660         | 1.64454      | 4h 47m       |"
            ]
          },
          "metadata": {
            "tags": []
          }
        },
        {
          "output_type": "display_data",
          "data": {
            "text/html": [
              "<pre>| 8665         | 1.66108      | 4h 47m       |</pre>"
            ],
            "text/plain": [
              "| 8665         | 1.66108      | 4h 47m       |"
            ]
          },
          "metadata": {
            "tags": []
          }
        },
        {
          "output_type": "display_data",
          "data": {
            "text/html": [
              "<pre>| 8670         | 1.65069      | 4h 47m       |</pre>"
            ],
            "text/plain": [
              "| 8670         | 1.65069      | 4h 47m       |"
            ]
          },
          "metadata": {
            "tags": []
          }
        },
        {
          "output_type": "display_data",
          "data": {
            "text/html": [
              "<pre>| 8675         | 1.63101      | 4h 47m       |</pre>"
            ],
            "text/plain": [
              "| 8675         | 1.63101      | 4h 47m       |"
            ]
          },
          "metadata": {
            "tags": []
          }
        },
        {
          "output_type": "display_data",
          "data": {
            "text/html": [
              "<pre>| 8680         | 1.69441      | 4h 47m       |</pre>"
            ],
            "text/plain": [
              "| 8680         | 1.69441      | 4h 47m       |"
            ]
          },
          "metadata": {
            "tags": []
          }
        },
        {
          "output_type": "display_data",
          "data": {
            "text/html": [
              "<pre>| 8685         | 1.77597      | 4h 48m       |</pre>"
            ],
            "text/plain": [
              "| 8685         | 1.77597      | 4h 48m       |"
            ]
          },
          "metadata": {
            "tags": []
          }
        },
        {
          "output_type": "display_data",
          "data": {
            "text/html": [
              "<pre>| 8690         | 1.66645      | 4h 48m       |</pre>"
            ],
            "text/plain": [
              "| 8690         | 1.66645      | 4h 48m       |"
            ]
          },
          "metadata": {
            "tags": []
          }
        },
        {
          "output_type": "display_data",
          "data": {
            "text/html": [
              "<pre>| 8695         | 1.67381      | 4h 48m       |</pre>"
            ],
            "text/plain": [
              "| 8695         | 1.67381      | 4h 48m       |"
            ]
          },
          "metadata": {
            "tags": []
          }
        },
        {
          "output_type": "display_data",
          "data": {
            "text/html": [
              "<pre>| 8700         | 1.64555      | 4h 48m       |</pre>"
            ],
            "text/plain": [
              "| 8700         | 1.64555      | 4h 48m       |"
            ]
          },
          "metadata": {
            "tags": []
          }
        },
        {
          "output_type": "display_data",
          "data": {
            "text/html": [
              "<pre>| 8705         | 1.64573      | 4h 48m       |</pre>"
            ],
            "text/plain": [
              "| 8705         | 1.64573      | 4h 48m       |"
            ]
          },
          "metadata": {
            "tags": []
          }
        },
        {
          "output_type": "display_data",
          "data": {
            "text/html": [
              "<pre>| 8710         | 1.72683      | 4h 48m       |</pre>"
            ],
            "text/plain": [
              "| 8710         | 1.72683      | 4h 48m       |"
            ]
          },
          "metadata": {
            "tags": []
          }
        },
        {
          "output_type": "display_data",
          "data": {
            "text/html": [
              "<pre>| 8715         | 1.72516      | 4h 49m       |</pre>"
            ],
            "text/plain": [
              "| 8715         | 1.72516      | 4h 49m       |"
            ]
          },
          "metadata": {
            "tags": []
          }
        },
        {
          "output_type": "display_data",
          "data": {
            "text/html": [
              "<pre>| 8720         | 1.75379      | 4h 49m       |</pre>"
            ],
            "text/plain": [
              "| 8720         | 1.75379      | 4h 49m       |"
            ]
          },
          "metadata": {
            "tags": []
          }
        },
        {
          "output_type": "display_data",
          "data": {
            "text/html": [
              "<pre>| 8725         | 1.81081      | 4h 49m       |</pre>"
            ],
            "text/plain": [
              "| 8725         | 1.81081      | 4h 49m       |"
            ]
          },
          "metadata": {
            "tags": []
          }
        },
        {
          "output_type": "display_data",
          "data": {
            "text/html": [
              "<pre>| 8730         | 1.71666      | 4h 49m       |</pre>"
            ],
            "text/plain": [
              "| 8730         | 1.71666      | 4h 49m       |"
            ]
          },
          "metadata": {
            "tags": []
          }
        },
        {
          "output_type": "display_data",
          "data": {
            "text/html": [
              "<pre>| 8735         | 1.72707      | 4h 49m       |</pre>"
            ],
            "text/plain": [
              "| 8735         | 1.72707      | 4h 49m       |"
            ]
          },
          "metadata": {
            "tags": []
          }
        },
        {
          "output_type": "display_data",
          "data": {
            "text/html": [
              "<pre>| 8740         | 1.69078      | 4h 49m       |</pre>"
            ],
            "text/plain": [
              "| 8740         | 1.69078      | 4h 49m       |"
            ]
          },
          "metadata": {
            "tags": []
          }
        },
        {
          "output_type": "display_data",
          "data": {
            "text/html": [
              "<pre>| 8745         | 1.73369      | 4h 50m       |</pre>"
            ],
            "text/plain": [
              "| 8745         | 1.73369      | 4h 50m       |"
            ]
          },
          "metadata": {
            "tags": []
          }
        },
        {
          "output_type": "display_data",
          "data": {
            "text/html": [
              "<pre>| 8750         | 1.72718      | 4h 50m       |</pre>"
            ],
            "text/plain": [
              "| 8750         | 1.72718      | 4h 50m       |"
            ]
          },
          "metadata": {
            "tags": []
          }
        },
        {
          "output_type": "display_data",
          "data": {
            "text/html": [
              "<pre>| 8755         | 1.68474      | 4h 50m       |</pre>"
            ],
            "text/plain": [
              "| 8755         | 1.68474      | 4h 50m       |"
            ]
          },
          "metadata": {
            "tags": []
          }
        },
        {
          "output_type": "display_data",
          "data": {
            "text/html": [
              "<pre>| 8760         | 1.62429      | 4h 50m       |</pre>"
            ],
            "text/plain": [
              "| 8760         | 1.62429      | 4h 50m       |"
            ]
          },
          "metadata": {
            "tags": []
          }
        },
        {
          "output_type": "display_data",
          "data": {
            "text/html": [
              "<pre>| 8765         | 1.68322      | 4h 50m       |</pre>"
            ],
            "text/plain": [
              "| 8765         | 1.68322      | 4h 50m       |"
            ]
          },
          "metadata": {
            "tags": []
          }
        },
        {
          "output_type": "display_data",
          "data": {
            "text/html": [
              "<pre>| 8770         | 1.77433      | 4h 50m       |</pre>"
            ],
            "text/plain": [
              "| 8770         | 1.77433      | 4h 50m       |"
            ]
          },
          "metadata": {
            "tags": []
          }
        },
        {
          "output_type": "display_data",
          "data": {
            "text/html": [
              "<pre>| 8775         | 1.74284      | 4h 51m       |</pre>"
            ],
            "text/plain": [
              "| 8775         | 1.74284      | 4h 51m       |"
            ]
          },
          "metadata": {
            "tags": []
          }
        },
        {
          "output_type": "display_data",
          "data": {
            "text/html": [
              "<pre>| 8780         | 1.70498      | 4h 51m       |</pre>"
            ],
            "text/plain": [
              "| 8780         | 1.70498      | 4h 51m       |"
            ]
          },
          "metadata": {
            "tags": []
          }
        },
        {
          "output_type": "display_data",
          "data": {
            "text/html": [
              "<pre>| 8785         | 1.69136      | 4h 51m       |</pre>"
            ],
            "text/plain": [
              "| 8785         | 1.69136      | 4h 51m       |"
            ]
          },
          "metadata": {
            "tags": []
          }
        },
        {
          "output_type": "display_data",
          "data": {
            "text/html": [
              "<pre>| 8790         | 1.6089       | 4h 51m       |</pre>"
            ],
            "text/plain": [
              "| 8790         | 1.6089       | 4h 51m       |"
            ]
          },
          "metadata": {
            "tags": []
          }
        },
        {
          "output_type": "display_data",
          "data": {
            "text/html": [
              "<pre>| 8795         | 1.65147      | 4h 51m       |</pre>"
            ],
            "text/plain": [
              "| 8795         | 1.65147      | 4h 51m       |"
            ]
          },
          "metadata": {
            "tags": []
          }
        },
        {
          "output_type": "display_data",
          "data": {
            "text/html": [
              "<pre>| 8800         | 1.73954      | 4h 51m       |</pre>"
            ],
            "text/plain": [
              "| 8800         | 1.73954      | 4h 51m       |"
            ]
          },
          "metadata": {
            "tags": []
          }
        },
        {
          "output_type": "display_data",
          "data": {
            "text/html": [
              "<pre>| 8805         | 1.78289      | 4h 52m       |</pre>"
            ],
            "text/plain": [
              "| 8805         | 1.78289      | 4h 52m       |"
            ]
          },
          "metadata": {
            "tags": []
          }
        },
        {
          "output_type": "display_data",
          "data": {
            "text/html": [
              "<pre>| 8810         | 1.73858      | 4h 52m       |</pre>"
            ],
            "text/plain": [
              "| 8810         | 1.73858      | 4h 52m       |"
            ]
          },
          "metadata": {
            "tags": []
          }
        },
        {
          "output_type": "display_data",
          "data": {
            "text/html": [
              "<pre>| 8815         | 1.73797      | 4h 52m       |</pre>"
            ],
            "text/plain": [
              "| 8815         | 1.73797      | 4h 52m       |"
            ]
          },
          "metadata": {
            "tags": []
          }
        },
        {
          "output_type": "display_data",
          "data": {
            "text/html": [
              "<pre>| 8820         | 1.736        | 4h 52m       |</pre>"
            ],
            "text/plain": [
              "| 8820         | 1.736        | 4h 52m       |"
            ]
          },
          "metadata": {
            "tags": []
          }
        },
        {
          "output_type": "display_data",
          "data": {
            "text/html": [
              "<pre>| 8825         | 1.68753      | 4h 52m       |</pre>"
            ],
            "text/plain": [
              "| 8825         | 1.68753      | 4h 52m       |"
            ]
          },
          "metadata": {
            "tags": []
          }
        },
        {
          "output_type": "display_data",
          "data": {
            "text/html": [
              "<pre>| 8830         | 1.71129      | 4h 52m       |</pre>"
            ],
            "text/plain": [
              "| 8830         | 1.71129      | 4h 52m       |"
            ]
          },
          "metadata": {
            "tags": []
          }
        },
        {
          "output_type": "display_data",
          "data": {
            "text/html": [
              "<pre>| 8835         | 1.75456      | 4h 53m       |</pre>"
            ],
            "text/plain": [
              "| 8835         | 1.75456      | 4h 53m       |"
            ]
          },
          "metadata": {
            "tags": []
          }
        },
        {
          "output_type": "display_data",
          "data": {
            "text/html": [
              "<pre>| 8840         | 1.7309       | 4h 53m       |</pre>"
            ],
            "text/plain": [
              "| 8840         | 1.7309       | 4h 53m       |"
            ]
          },
          "metadata": {
            "tags": []
          }
        },
        {
          "output_type": "display_data",
          "data": {
            "text/html": [
              "<pre>| 8845         | 1.70746      | 4h 53m       |</pre>"
            ],
            "text/plain": [
              "| 8845         | 1.70746      | 4h 53m       |"
            ]
          },
          "metadata": {
            "tags": []
          }
        },
        {
          "output_type": "display_data",
          "data": {
            "text/html": [
              "<pre>| 8850         | 1.66192      | 4h 53m       |</pre>"
            ],
            "text/plain": [
              "| 8850         | 1.66192      | 4h 53m       |"
            ]
          },
          "metadata": {
            "tags": []
          }
        },
        {
          "output_type": "display_data",
          "data": {
            "text/html": [
              "<pre>| 8855         | 1.67945      | 4h 53m       |</pre>"
            ],
            "text/plain": [
              "| 8855         | 1.67945      | 4h 53m       |"
            ]
          },
          "metadata": {
            "tags": []
          }
        },
        {
          "output_type": "display_data",
          "data": {
            "text/html": [
              "<pre>| 8860         | 1.76748      | 4h 53m       |</pre>"
            ],
            "text/plain": [
              "| 8860         | 1.76748      | 4h 53m       |"
            ]
          },
          "metadata": {
            "tags": []
          }
        },
        {
          "output_type": "display_data",
          "data": {
            "text/html": [
              "<pre>| 8865         | 1.72357      | 4h 54m       |</pre>"
            ],
            "text/plain": [
              "| 8865         | 1.72357      | 4h 54m       |"
            ]
          },
          "metadata": {
            "tags": []
          }
        },
        {
          "output_type": "display_data",
          "data": {
            "text/html": [
              "<pre>| 8870         | 1.77479      | 4h 54m       |</pre>"
            ],
            "text/plain": [
              "| 8870         | 1.77479      | 4h 54m       |"
            ]
          },
          "metadata": {
            "tags": []
          }
        },
        {
          "output_type": "display_data",
          "data": {
            "text/html": [
              "<pre>| 8875         | 1.70838      | 4h 54m       |</pre>"
            ],
            "text/plain": [
              "| 8875         | 1.70838      | 4h 54m       |"
            ]
          },
          "metadata": {
            "tags": []
          }
        },
        {
          "output_type": "display_data",
          "data": {
            "text/html": [
              "<pre>| 8880         | 1.68906      | 4h 54m       |</pre>"
            ],
            "text/plain": [
              "| 8880         | 1.68906      | 4h 54m       |"
            ]
          },
          "metadata": {
            "tags": []
          }
        },
        {
          "output_type": "display_data",
          "data": {
            "text/html": [
              "<pre>| 8885         | 1.68908      | 4h 54m       |</pre>"
            ],
            "text/plain": [
              "| 8885         | 1.68908      | 4h 54m       |"
            ]
          },
          "metadata": {
            "tags": []
          }
        },
        {
          "output_type": "display_data",
          "data": {
            "text/html": [
              "<pre>| 8890         | 1.64679      | 4h 54m       |</pre>"
            ],
            "text/plain": [
              "| 8890         | 1.64679      | 4h 54m       |"
            ]
          },
          "metadata": {
            "tags": []
          }
        },
        {
          "output_type": "display_data",
          "data": {
            "text/html": [
              "<pre>| 8895         | 1.66637      | 4h 55m       |</pre>"
            ],
            "text/plain": [
              "| 8895         | 1.66637      | 4h 55m       |"
            ]
          },
          "metadata": {
            "tags": []
          }
        },
        {
          "output_type": "display_data",
          "data": {
            "text/html": [
              "<pre>| 8900         | 1.73329      | 4h 55m       |</pre>"
            ],
            "text/plain": [
              "| 8900         | 1.73329      | 4h 55m       |"
            ]
          },
          "metadata": {
            "tags": []
          }
        },
        {
          "output_type": "display_data",
          "data": {
            "text/html": [
              "<pre>| 8905         | 1.76576      | 4h 55m       |</pre>"
            ],
            "text/plain": [
              "| 8905         | 1.76576      | 4h 55m       |"
            ]
          },
          "metadata": {
            "tags": []
          }
        },
        {
          "output_type": "display_data",
          "data": {
            "text/html": [
              "<pre>| 8910         | 1.72425      | 4h 55m       |</pre>"
            ],
            "text/plain": [
              "| 8910         | 1.72425      | 4h 55m       |"
            ]
          },
          "metadata": {
            "tags": []
          }
        },
        {
          "output_type": "display_data",
          "data": {
            "text/html": [
              "<pre>| 8915         | 1.70588      | 4h 55m       |</pre>"
            ],
            "text/plain": [
              "| 8915         | 1.70588      | 4h 55m       |"
            ]
          },
          "metadata": {
            "tags": []
          }
        },
        {
          "output_type": "display_data",
          "data": {
            "text/html": [
              "<pre>| 8920         | 1.74669      | 4h 55m       |</pre>"
            ],
            "text/plain": [
              "| 8920         | 1.74669      | 4h 55m       |"
            ]
          },
          "metadata": {
            "tags": []
          }
        },
        {
          "output_type": "display_data",
          "data": {
            "text/html": [
              "<pre>| 8925         | 1.70119      | 4h 56m       |</pre>"
            ],
            "text/plain": [
              "| 8925         | 1.70119      | 4h 56m       |"
            ]
          },
          "metadata": {
            "tags": []
          }
        },
        {
          "output_type": "display_data",
          "data": {
            "text/html": [
              "<pre>| 8930         | 1.6633       | 4h 56m       |</pre>"
            ],
            "text/plain": [
              "| 8930         | 1.6633       | 4h 56m       |"
            ]
          },
          "metadata": {
            "tags": []
          }
        },
        {
          "output_type": "display_data",
          "data": {
            "text/html": [
              "<pre>| 8935         | 1.71292      | 4h 56m       |</pre>"
            ],
            "text/plain": [
              "| 8935         | 1.71292      | 4h 56m       |"
            ]
          },
          "metadata": {
            "tags": []
          }
        },
        {
          "output_type": "display_data",
          "data": {
            "text/html": [
              "<pre>| 8940         | 1.72681      | 4h 56m       |</pre>"
            ],
            "text/plain": [
              "| 8940         | 1.72681      | 4h 56m       |"
            ]
          },
          "metadata": {
            "tags": []
          }
        },
        {
          "output_type": "display_data",
          "data": {
            "text/html": [
              "<pre>| 8945         | 1.65903      | 4h 56m       |</pre>"
            ],
            "text/plain": [
              "| 8945         | 1.65903      | 4h 56m       |"
            ]
          },
          "metadata": {
            "tags": []
          }
        },
        {
          "output_type": "display_data",
          "data": {
            "text/html": [
              "<pre>| 8950         | 1.72314      | 4h 56m       |</pre>"
            ],
            "text/plain": [
              "| 8950         | 1.72314      | 4h 56m       |"
            ]
          },
          "metadata": {
            "tags": []
          }
        },
        {
          "output_type": "display_data",
          "data": {
            "text/html": [
              "<pre>| 8955         | 1.6736       | 4h 57m       |</pre>"
            ],
            "text/plain": [
              "| 8955         | 1.6736       | 4h 57m       |"
            ]
          },
          "metadata": {
            "tags": []
          }
        },
        {
          "output_type": "display_data",
          "data": {
            "text/html": [
              "<pre>| 8960         | 1.7275       | 4h 57m       |</pre>"
            ],
            "text/plain": [
              "| 8960         | 1.7275       | 4h 57m       |"
            ]
          },
          "metadata": {
            "tags": []
          }
        },
        {
          "output_type": "display_data",
          "data": {
            "text/html": [
              "<pre>| 8965         | 1.74672      | 4h 57m       |</pre>"
            ],
            "text/plain": [
              "| 8965         | 1.74672      | 4h 57m       |"
            ]
          },
          "metadata": {
            "tags": []
          }
        },
        {
          "output_type": "display_data",
          "data": {
            "text/html": [
              "<pre>| 8970         | 1.74821      | 4h 57m       |</pre>"
            ],
            "text/plain": [
              "| 8970         | 1.74821      | 4h 57m       |"
            ]
          },
          "metadata": {
            "tags": []
          }
        },
        {
          "output_type": "display_data",
          "data": {
            "text/html": [
              "<pre>| 8975         | 1.74474      | 4h 57m       |</pre>"
            ],
            "text/plain": [
              "| 8975         | 1.74474      | 4h 57m       |"
            ]
          },
          "metadata": {
            "tags": []
          }
        },
        {
          "output_type": "display_data",
          "data": {
            "text/html": [
              "<pre>| 8980         | 1.77748      | 4h 57m       |</pre>"
            ],
            "text/plain": [
              "| 8980         | 1.77748      | 4h 57m       |"
            ]
          },
          "metadata": {
            "tags": []
          }
        },
        {
          "output_type": "display_data",
          "data": {
            "text/html": [
              "<pre>| 8985         | 1.76696      | 4h 58m       |</pre>"
            ],
            "text/plain": [
              "| 8985         | 1.76696      | 4h 58m       |"
            ]
          },
          "metadata": {
            "tags": []
          }
        },
        {
          "output_type": "display_data",
          "data": {
            "text/html": [
              "<pre>| 8990         | 1.75854      | 4h 58m       |</pre>"
            ],
            "text/plain": [
              "| 8990         | 1.75854      | 4h 58m       |"
            ]
          },
          "metadata": {
            "tags": []
          }
        },
        {
          "output_type": "display_data",
          "data": {
            "text/html": [
              "<pre>| 8995         | 1.80607      | 4h 58m       |</pre>"
            ],
            "text/plain": [
              "| 8995         | 1.80607      | 4h 58m       |"
            ]
          },
          "metadata": {
            "tags": []
          }
        },
        {
          "output_type": "display_data",
          "data": {
            "text/html": [
              "<pre>| 9000         | 1.75729      | 4h 58m       |</pre>"
            ],
            "text/plain": [
              "| 9000         | 1.75729      | 4h 58m       |"
            ]
          },
          "metadata": {
            "tags": []
          }
        },
        {
          "output_type": "display_data",
          "data": {
            "text/html": [
              "<pre>| 9005         | 1.72961      | 4h 58m       |</pre>"
            ],
            "text/plain": [
              "| 9005         | 1.72961      | 4h 58m       |"
            ]
          },
          "metadata": {
            "tags": []
          }
        },
        {
          "output_type": "display_data",
          "data": {
            "text/html": [
              "<pre>| 9010         | 1.71767      | 4h 58m       |</pre>"
            ],
            "text/plain": [
              "| 9010         | 1.71767      | 4h 58m       |"
            ]
          },
          "metadata": {
            "tags": []
          }
        },
        {
          "output_type": "display_data",
          "data": {
            "text/html": [
              "<pre>| 9015         | 1.76666      | 4h 59m       |</pre>"
            ],
            "text/plain": [
              "| 9015         | 1.76666      | 4h 59m       |"
            ]
          },
          "metadata": {
            "tags": []
          }
        },
        {
          "output_type": "display_data",
          "data": {
            "text/html": [
              "<pre>| 9020         | 1.71819      | 4h 59m       |</pre>"
            ],
            "text/plain": [
              "| 9020         | 1.71819      | 4h 59m       |"
            ]
          },
          "metadata": {
            "tags": []
          }
        },
        {
          "output_type": "display_data",
          "data": {
            "text/html": [
              "<pre>| 9025         | 1.73315      | 4h 59m       |</pre>"
            ],
            "text/plain": [
              "| 9025         | 1.73315      | 4h 59m       |"
            ]
          },
          "metadata": {
            "tags": []
          }
        },
        {
          "output_type": "display_data",
          "data": {
            "text/html": [
              "<pre>| 9030         | 1.74892      | 4h 59m       |</pre>"
            ],
            "text/plain": [
              "| 9030         | 1.74892      | 4h 59m       |"
            ]
          },
          "metadata": {
            "tags": []
          }
        },
        {
          "output_type": "display_data",
          "data": {
            "text/html": [
              "<pre>| 9035         | 1.78581      | 4h 59m       |</pre>"
            ],
            "text/plain": [
              "| 9035         | 1.78581      | 4h 59m       |"
            ]
          },
          "metadata": {
            "tags": []
          }
        },
        {
          "output_type": "display_data",
          "data": {
            "text/html": [
              "<pre>| 9040         | 1.81035      | 4h 59m       |</pre>"
            ],
            "text/plain": [
              "| 9040         | 1.81035      | 4h 59m       |"
            ]
          },
          "metadata": {
            "tags": []
          }
        },
        {
          "output_type": "display_data",
          "data": {
            "text/html": [
              "<pre>| 9045         | 1.7648       | 5h 0m        |</pre>"
            ],
            "text/plain": [
              "| 9045         | 1.7648       | 5h 0m        |"
            ]
          },
          "metadata": {
            "tags": []
          }
        },
        {
          "output_type": "display_data",
          "data": {
            "text/html": [
              "<pre>| 9050         | 1.78273      | 5h 0m        |</pre>"
            ],
            "text/plain": [
              "| 9050         | 1.78273      | 5h 0m        |"
            ]
          },
          "metadata": {
            "tags": []
          }
        },
        {
          "output_type": "display_data",
          "data": {
            "text/html": [
              "<pre>| 9055         | 1.70004      | 5h 0m        |</pre>"
            ],
            "text/plain": [
              "| 9055         | 1.70004      | 5h 0m        |"
            ]
          },
          "metadata": {
            "tags": []
          }
        },
        {
          "output_type": "display_data",
          "data": {
            "text/html": [
              "<pre>| 9060         | 1.76343      | 5h 0m        |</pre>"
            ],
            "text/plain": [
              "| 9060         | 1.76343      | 5h 0m        |"
            ]
          },
          "metadata": {
            "tags": []
          }
        },
        {
          "output_type": "display_data",
          "data": {
            "text/html": [
              "<pre>| 9065         | 1.73528      | 5h 0m        |</pre>"
            ],
            "text/plain": [
              "| 9065         | 1.73528      | 5h 0m        |"
            ]
          },
          "metadata": {
            "tags": []
          }
        },
        {
          "output_type": "display_data",
          "data": {
            "text/html": [
              "<pre>| 9070         | 1.71556      | 5h 0m        |</pre>"
            ],
            "text/plain": [
              "| 9070         | 1.71556      | 5h 0m        |"
            ]
          },
          "metadata": {
            "tags": []
          }
        },
        {
          "output_type": "display_data",
          "data": {
            "text/html": [
              "<pre>| 9075         | 1.65412      | 5h 1m        |</pre>"
            ],
            "text/plain": [
              "| 9075         | 1.65412      | 5h 1m        |"
            ]
          },
          "metadata": {
            "tags": []
          }
        },
        {
          "output_type": "display_data",
          "data": {
            "text/html": [
              "<pre>| 9080         | 1.69284      | 5h 1m        |</pre>"
            ],
            "text/plain": [
              "| 9080         | 1.69284      | 5h 1m        |"
            ]
          },
          "metadata": {
            "tags": []
          }
        },
        {
          "output_type": "display_data",
          "data": {
            "text/html": [
              "<pre>| 9085         | 1.70128      | 5h 1m        |</pre>"
            ],
            "text/plain": [
              "| 9085         | 1.70128      | 5h 1m        |"
            ]
          },
          "metadata": {
            "tags": []
          }
        },
        {
          "output_type": "display_data",
          "data": {
            "text/html": [
              "<pre>| 9090         | 1.68742      | 5h 1m        |</pre>"
            ],
            "text/plain": [
              "| 9090         | 1.68742      | 5h 1m        |"
            ]
          },
          "metadata": {
            "tags": []
          }
        },
        {
          "output_type": "display_data",
          "data": {
            "text/html": [
              "<pre>| 9095         | 1.75533      | 5h 1m        |</pre>"
            ],
            "text/plain": [
              "| 9095         | 1.75533      | 5h 1m        |"
            ]
          },
          "metadata": {
            "tags": []
          }
        },
        {
          "output_type": "display_data",
          "data": {
            "text/html": [
              "<pre>| 9100         | 1.80909      | 5h 1m        |</pre>"
            ],
            "text/plain": [
              "| 9100         | 1.80909      | 5h 1m        |"
            ]
          },
          "metadata": {
            "tags": []
          }
        },
        {
          "output_type": "display_data",
          "data": {
            "text/html": [
              "<pre>| 9105         | 1.81779      | 5h 2m        |</pre>"
            ],
            "text/plain": [
              "| 9105         | 1.81779      | 5h 2m        |"
            ]
          },
          "metadata": {
            "tags": []
          }
        },
        {
          "output_type": "display_data",
          "data": {
            "text/html": [
              "<pre>| 9110         | 1.74731      | 5h 2m        |</pre>"
            ],
            "text/plain": [
              "| 9110         | 1.74731      | 5h 2m        |"
            ]
          },
          "metadata": {
            "tags": []
          }
        },
        {
          "output_type": "display_data",
          "data": {
            "text/html": [
              "<pre>| 9115         | 1.7395       | 5h 2m        |</pre>"
            ],
            "text/plain": [
              "| 9115         | 1.7395       | 5h 2m        |"
            ]
          },
          "metadata": {
            "tags": []
          }
        },
        {
          "output_type": "display_data",
          "data": {
            "text/html": [
              "<pre>| 9120         | 1.79027      | 5h 2m        |</pre>"
            ],
            "text/plain": [
              "| 9120         | 1.79027      | 5h 2m        |"
            ]
          },
          "metadata": {
            "tags": []
          }
        },
        {
          "output_type": "display_data",
          "data": {
            "text/html": [
              "<pre>| 9125         | 1.74849      | 5h 2m        |</pre>"
            ],
            "text/plain": [
              "| 9125         | 1.74849      | 5h 2m        |"
            ]
          },
          "metadata": {
            "tags": []
          }
        },
        {
          "output_type": "display_data",
          "data": {
            "text/html": [
              "<pre>| 9130         | 1.7198       | 5h 2m        |</pre>"
            ],
            "text/plain": [
              "| 9130         | 1.7198       | 5h 2m        |"
            ]
          },
          "metadata": {
            "tags": []
          }
        },
        {
          "output_type": "display_data",
          "data": {
            "text/html": [
              "<pre>| 9135         | 1.65416      | 5h 3m        |</pre>"
            ],
            "text/plain": [
              "| 9135         | 1.65416      | 5h 3m        |"
            ]
          },
          "metadata": {
            "tags": []
          }
        },
        {
          "output_type": "display_data",
          "data": {
            "text/html": [
              "<pre>| 9140         | 1.68024      | 5h 3m        |</pre>"
            ],
            "text/plain": [
              "| 9140         | 1.68024      | 5h 3m        |"
            ]
          },
          "metadata": {
            "tags": []
          }
        },
        {
          "output_type": "display_data",
          "data": {
            "text/html": [
              "<pre>| 9145         | 1.69447      | 5h 3m        |</pre>"
            ],
            "text/plain": [
              "| 9145         | 1.69447      | 5h 3m        |"
            ]
          },
          "metadata": {
            "tags": []
          }
        },
        {
          "output_type": "display_data",
          "data": {
            "text/html": [
              "<pre>| 9150         | 1.71223      | 5h 3m        |</pre>"
            ],
            "text/plain": [
              "| 9150         | 1.71223      | 5h 3m        |"
            ]
          },
          "metadata": {
            "tags": []
          }
        },
        {
          "output_type": "display_data",
          "data": {
            "text/html": [
              "<pre>| 9155         | 1.758        | 5h 3m        |</pre>"
            ],
            "text/plain": [
              "| 9155         | 1.758        | 5h 3m        |"
            ]
          },
          "metadata": {
            "tags": []
          }
        },
        {
          "output_type": "display_data",
          "data": {
            "text/html": [
              "<pre>| 9160         | 1.76545      | 5h 3m        |</pre>"
            ],
            "text/plain": [
              "| 9160         | 1.76545      | 5h 3m        |"
            ]
          },
          "metadata": {
            "tags": []
          }
        },
        {
          "output_type": "display_data",
          "data": {
            "text/html": [
              "<pre>| 9165         | 1.69962      | 5h 4m        |</pre>"
            ],
            "text/plain": [
              "| 9165         | 1.69962      | 5h 4m        |"
            ]
          },
          "metadata": {
            "tags": []
          }
        },
        {
          "output_type": "display_data",
          "data": {
            "text/html": [
              "<pre>| 9170         | 1.68457      | 5h 4m        |</pre>"
            ],
            "text/plain": [
              "| 9170         | 1.68457      | 5h 4m        |"
            ]
          },
          "metadata": {
            "tags": []
          }
        },
        {
          "output_type": "display_data",
          "data": {
            "text/html": [
              "<pre>| 9175         | 1.72518      | 5h 4m        |</pre>"
            ],
            "text/plain": [
              "| 9175         | 1.72518      | 5h 4m        |"
            ]
          },
          "metadata": {
            "tags": []
          }
        },
        {
          "output_type": "display_data",
          "data": {
            "text/html": [
              "<pre>| 9180         | 1.75692      | 5h 4m        |</pre>"
            ],
            "text/plain": [
              "| 9180         | 1.75692      | 5h 4m        |"
            ]
          },
          "metadata": {
            "tags": []
          }
        },
        {
          "output_type": "display_data",
          "data": {
            "text/html": [
              "<pre>| 9185         | 1.73158      | 5h 4m        |</pre>"
            ],
            "text/plain": [
              "| 9185         | 1.73158      | 5h 4m        |"
            ]
          },
          "metadata": {
            "tags": []
          }
        },
        {
          "output_type": "display_data",
          "data": {
            "text/html": [
              "<pre>| 9190         | 1.77075      | 5h 4m        |</pre>"
            ],
            "text/plain": [
              "| 9190         | 1.77075      | 5h 4m        |"
            ]
          },
          "metadata": {
            "tags": []
          }
        },
        {
          "output_type": "display_data",
          "data": {
            "text/html": [
              "<pre>| 9195         | 1.72866      | 5h 5m        |</pre>"
            ],
            "text/plain": [
              "| 9195         | 1.72866      | 5h 5m        |"
            ]
          },
          "metadata": {
            "tags": []
          }
        },
        {
          "output_type": "display_data",
          "data": {
            "text/html": [
              "<pre>| 9200         | 1.69476      | 5h 5m        |</pre>"
            ],
            "text/plain": [
              "| 9200         | 1.69476      | 5h 5m        |"
            ]
          },
          "metadata": {
            "tags": []
          }
        },
        {
          "output_type": "display_data",
          "data": {
            "text/html": [
              "<pre>| 9205         | 1.65435      | 5h 5m        |</pre>"
            ],
            "text/plain": [
              "| 9205         | 1.65435      | 5h 5m        |"
            ]
          },
          "metadata": {
            "tags": []
          }
        },
        {
          "output_type": "display_data",
          "data": {
            "text/html": [
              "<pre>| 9210         | 1.64668      | 5h 5m        |</pre>"
            ],
            "text/plain": [
              "| 9210         | 1.64668      | 5h 5m        |"
            ]
          },
          "metadata": {
            "tags": []
          }
        },
        {
          "output_type": "display_data",
          "data": {
            "text/html": [
              "<pre>| 9215         | 1.66824      | 5h 5m        |</pre>"
            ],
            "text/plain": [
              "| 9215         | 1.66824      | 5h 5m        |"
            ]
          },
          "metadata": {
            "tags": []
          }
        },
        {
          "output_type": "display_data",
          "data": {
            "text/html": [
              "<pre>| 9220         | 1.68345      | 5h 5m        |</pre>"
            ],
            "text/plain": [
              "| 9220         | 1.68345      | 5h 5m        |"
            ]
          },
          "metadata": {
            "tags": []
          }
        },
        {
          "output_type": "display_data",
          "data": {
            "text/html": [
              "<pre>| 9225         | 1.68793      | 5h 6m        |</pre>"
            ],
            "text/plain": [
              "| 9225         | 1.68793      | 5h 6m        |"
            ]
          },
          "metadata": {
            "tags": []
          }
        },
        {
          "output_type": "display_data",
          "data": {
            "text/html": [
              "<pre>| 9230         | 1.70596      | 5h 6m        |</pre>"
            ],
            "text/plain": [
              "| 9230         | 1.70596      | 5h 6m        |"
            ]
          },
          "metadata": {
            "tags": []
          }
        },
        {
          "output_type": "display_data",
          "data": {
            "text/html": [
              "<pre>| 9235         | 1.69131      | 5h 6m        |</pre>"
            ],
            "text/plain": [
              "| 9235         | 1.69131      | 5h 6m        |"
            ]
          },
          "metadata": {
            "tags": []
          }
        },
        {
          "output_type": "display_data",
          "data": {
            "text/html": [
              "<pre>| 9240         | 1.72052      | 5h 6m        |</pre>"
            ],
            "text/plain": [
              "| 9240         | 1.72052      | 5h 6m        |"
            ]
          },
          "metadata": {
            "tags": []
          }
        },
        {
          "output_type": "display_data",
          "data": {
            "text/html": [
              "<pre>| 9245         | 1.69813      | 5h 6m        |</pre>"
            ],
            "text/plain": [
              "| 9245         | 1.69813      | 5h 6m        |"
            ]
          },
          "metadata": {
            "tags": []
          }
        },
        {
          "output_type": "display_data",
          "data": {
            "text/html": [
              "<pre>| 9250         | 1.68204      | 5h 6m        |</pre>"
            ],
            "text/plain": [
              "| 9250         | 1.68204      | 5h 6m        |"
            ]
          },
          "metadata": {
            "tags": []
          }
        },
        {
          "output_type": "display_data",
          "data": {
            "text/html": [
              "<pre>| 9255         | 1.6423       | 5h 7m        |</pre>"
            ],
            "text/plain": [
              "| 9255         | 1.6423       | 5h 7m        |"
            ]
          },
          "metadata": {
            "tags": []
          }
        },
        {
          "output_type": "display_data",
          "data": {
            "text/html": [
              "<pre>| 9260         | 1.70299      | 5h 7m        |</pre>"
            ],
            "text/plain": [
              "| 9260         | 1.70299      | 5h 7m        |"
            ]
          },
          "metadata": {
            "tags": []
          }
        },
        {
          "output_type": "display_data",
          "data": {
            "text/html": [
              "<pre>| 9265         | 1.76312      | 5h 7m        |</pre>"
            ],
            "text/plain": [
              "| 9265         | 1.76312      | 5h 7m        |"
            ]
          },
          "metadata": {
            "tags": []
          }
        },
        {
          "output_type": "display_data",
          "data": {
            "text/html": [
              "<pre>| 9270         | 1.81411      | 5h 7m        |</pre>"
            ],
            "text/plain": [
              "| 9270         | 1.81411      | 5h 7m        |"
            ]
          },
          "metadata": {
            "tags": []
          }
        },
        {
          "output_type": "display_data",
          "data": {
            "text/html": [
              "<pre>| 9275         | 1.751        | 5h 7m        |</pre>"
            ],
            "text/plain": [
              "| 9275         | 1.751        | 5h 7m        |"
            ]
          },
          "metadata": {
            "tags": []
          }
        },
        {
          "output_type": "display_data",
          "data": {
            "text/html": [
              "<pre>| 9280         | 1.75667      | 5h 7m        |</pre>"
            ],
            "text/plain": [
              "| 9280         | 1.75667      | 5h 7m        |"
            ]
          },
          "metadata": {
            "tags": []
          }
        },
        {
          "output_type": "display_data",
          "data": {
            "text/html": [
              "<pre>| 9285         | 1.70105      | 5h 8m        |</pre>"
            ],
            "text/plain": [
              "| 9285         | 1.70105      | 5h 8m        |"
            ]
          },
          "metadata": {
            "tags": []
          }
        },
        {
          "output_type": "display_data",
          "data": {
            "text/html": [
              "<pre>| 9290         | 1.77982      | 5h 8m        |</pre>"
            ],
            "text/plain": [
              "| 9290         | 1.77982      | 5h 8m        |"
            ]
          },
          "metadata": {
            "tags": []
          }
        },
        {
          "output_type": "display_data",
          "data": {
            "text/html": [
              "<pre>| 9295         | 1.74659      | 5h 8m        |</pre>"
            ],
            "text/plain": [
              "| 9295         | 1.74659      | 5h 8m        |"
            ]
          },
          "metadata": {
            "tags": []
          }
        },
        {
          "output_type": "display_data",
          "data": {
            "text/html": [
              "<pre>| 9300         | 1.63669      | 5h 8m        |</pre>"
            ],
            "text/plain": [
              "| 9300         | 1.63669      | 5h 8m        |"
            ]
          },
          "metadata": {
            "tags": []
          }
        },
        {
          "output_type": "display_data",
          "data": {
            "text/html": [
              "<pre>| 9305         | 1.67561      | 5h 8m        |</pre>"
            ],
            "text/plain": [
              "| 9305         | 1.67561      | 5h 8m        |"
            ]
          },
          "metadata": {
            "tags": []
          }
        },
        {
          "output_type": "display_data",
          "data": {
            "text/html": [
              "<pre>| 9310         | 1.69163      | 5h 8m        |</pre>"
            ],
            "text/plain": [
              "| 9310         | 1.69163      | 5h 8m        |"
            ]
          },
          "metadata": {
            "tags": []
          }
        },
        {
          "output_type": "display_data",
          "data": {
            "text/html": [
              "<pre>| 9315         | 1.64336      | 5h 9m        |</pre>"
            ],
            "text/plain": [
              "| 9315         | 1.64336      | 5h 9m        |"
            ]
          },
          "metadata": {
            "tags": []
          }
        },
        {
          "output_type": "display_data",
          "data": {
            "text/html": [
              "<pre>| 9320         | 1.70204      | 5h 9m        |</pre>"
            ],
            "text/plain": [
              "| 9320         | 1.70204      | 5h 9m        |"
            ]
          },
          "metadata": {
            "tags": []
          }
        },
        {
          "output_type": "display_data",
          "data": {
            "text/html": [
              "<pre>| 9325         | 1.71125      | 5h 9m        |</pre>"
            ],
            "text/plain": [
              "| 9325         | 1.71125      | 5h 9m        |"
            ]
          },
          "metadata": {
            "tags": []
          }
        },
        {
          "output_type": "display_data",
          "data": {
            "text/html": [
              "<pre>| 9330         | 1.67496      | 5h 9m        |</pre>"
            ],
            "text/plain": [
              "| 9330         | 1.67496      | 5h 9m        |"
            ]
          },
          "metadata": {
            "tags": []
          }
        },
        {
          "output_type": "display_data",
          "data": {
            "text/html": [
              "<pre>| 9335         | 1.70147      | 5h 9m        |</pre>"
            ],
            "text/plain": [
              "| 9335         | 1.70147      | 5h 9m        |"
            ]
          },
          "metadata": {
            "tags": []
          }
        },
        {
          "output_type": "display_data",
          "data": {
            "text/html": [
              "<pre>| 9340         | 1.70732      | 5h 9m        |</pre>"
            ],
            "text/plain": [
              "| 9340         | 1.70732      | 5h 9m        |"
            ]
          },
          "metadata": {
            "tags": []
          }
        },
        {
          "output_type": "display_data",
          "data": {
            "text/html": [
              "<pre>| 9345         | 1.67291      | 5h 10m       |</pre>"
            ],
            "text/plain": [
              "| 9345         | 1.67291      | 5h 10m       |"
            ]
          },
          "metadata": {
            "tags": []
          }
        },
        {
          "output_type": "display_data",
          "data": {
            "text/html": [
              "<pre>| 9350         | 1.6912       | 5h 10m       |</pre>"
            ],
            "text/plain": [
              "| 9350         | 1.6912       | 5h 10m       |"
            ]
          },
          "metadata": {
            "tags": []
          }
        },
        {
          "output_type": "display_data",
          "data": {
            "text/html": [
              "<pre>| 9355         | 1.67419      | 5h 10m       |</pre>"
            ],
            "text/plain": [
              "| 9355         | 1.67419      | 5h 10m       |"
            ]
          },
          "metadata": {
            "tags": []
          }
        },
        {
          "output_type": "display_data",
          "data": {
            "text/html": [
              "<pre>| 9360         | 1.66973      | 5h 10m       |</pre>"
            ],
            "text/plain": [
              "| 9360         | 1.66973      | 5h 10m       |"
            ]
          },
          "metadata": {
            "tags": []
          }
        },
        {
          "output_type": "display_data",
          "data": {
            "text/html": [
              "<pre>| 9365         | 1.69654      | 5h 10m       |</pre>"
            ],
            "text/plain": [
              "| 9365         | 1.69654      | 5h 10m       |"
            ]
          },
          "metadata": {
            "tags": []
          }
        },
        {
          "output_type": "display_data",
          "data": {
            "text/html": [
              "<pre>| 9370         | 1.76531      | 5h 10m       |</pre>"
            ],
            "text/plain": [
              "| 9370         | 1.76531      | 5h 10m       |"
            ]
          },
          "metadata": {
            "tags": []
          }
        },
        {
          "output_type": "display_data",
          "data": {
            "text/html": [
              "<pre>| 9375         | 1.7471       | 5h 11m       |</pre>"
            ],
            "text/plain": [
              "| 9375         | 1.7471       | 5h 11m       |"
            ]
          },
          "metadata": {
            "tags": []
          }
        },
        {
          "output_type": "display_data",
          "data": {
            "text/html": [
              "<pre>| 9380         | 1.73495      | 5h 11m       |</pre>"
            ],
            "text/plain": [
              "| 9380         | 1.73495      | 5h 11m       |"
            ]
          },
          "metadata": {
            "tags": []
          }
        },
        {
          "output_type": "display_data",
          "data": {
            "text/html": [
              "<pre>| 9385         | 1.74962      | 5h 11m       |</pre>"
            ],
            "text/plain": [
              "| 9385         | 1.74962      | 5h 11m       |"
            ]
          },
          "metadata": {
            "tags": []
          }
        },
        {
          "output_type": "display_data",
          "data": {
            "text/html": [
              "<pre>| 9390         | 1.79432      | 5h 11m       |</pre>"
            ],
            "text/plain": [
              "| 9390         | 1.79432      | 5h 11m       |"
            ]
          },
          "metadata": {
            "tags": []
          }
        },
        {
          "output_type": "display_data",
          "data": {
            "text/html": [
              "<pre>| 9395         | 1.71831      | 5h 11m       |</pre>"
            ],
            "text/plain": [
              "| 9395         | 1.71831      | 5h 11m       |"
            ]
          },
          "metadata": {
            "tags": []
          }
        },
        {
          "output_type": "display_data",
          "data": {
            "text/html": [
              "<pre>| 9400         | 1.69092      | 5h 11m       |</pre>"
            ],
            "text/plain": [
              "| 9400         | 1.69092      | 5h 11m       |"
            ]
          },
          "metadata": {
            "tags": []
          }
        },
        {
          "output_type": "display_data",
          "data": {
            "text/html": [
              "<pre>| 9405         | 1.71251      | 5h 12m       |</pre>"
            ],
            "text/plain": [
              "| 9405         | 1.71251      | 5h 12m       |"
            ]
          },
          "metadata": {
            "tags": []
          }
        },
        {
          "output_type": "display_data",
          "data": {
            "text/html": [
              "<pre>| 9410         | 1.67298      | 5h 12m       |</pre>"
            ],
            "text/plain": [
              "| 9410         | 1.67298      | 5h 12m       |"
            ]
          },
          "metadata": {
            "tags": []
          }
        },
        {
          "output_type": "display_data",
          "data": {
            "text/html": [
              "<pre>| 9415         | 1.64335      | 5h 12m       |</pre>"
            ],
            "text/plain": [
              "| 9415         | 1.64335      | 5h 12m       |"
            ]
          },
          "metadata": {
            "tags": []
          }
        },
        {
          "output_type": "display_data",
          "data": {
            "text/html": [
              "<pre>| 9420         | 1.63453      | 5h 12m       |</pre>"
            ],
            "text/plain": [
              "| 9420         | 1.63453      | 5h 12m       |"
            ]
          },
          "metadata": {
            "tags": []
          }
        },
        {
          "output_type": "display_data",
          "data": {
            "text/html": [
              "<pre>| 9425         | 1.61456      | 5h 12m       |</pre>"
            ],
            "text/plain": [
              "| 9425         | 1.61456      | 5h 12m       |"
            ]
          },
          "metadata": {
            "tags": []
          }
        },
        {
          "output_type": "display_data",
          "data": {
            "text/html": [
              "<pre>| 9430         | 1.63722      | 5h 12m       |</pre>"
            ],
            "text/plain": [
              "| 9430         | 1.63722      | 5h 12m       |"
            ]
          },
          "metadata": {
            "tags": []
          }
        },
        {
          "output_type": "display_data",
          "data": {
            "text/html": [
              "<pre>| 9435         | 1.62288      | 5h 13m       |</pre>"
            ],
            "text/plain": [
              "| 9435         | 1.62288      | 5h 13m       |"
            ]
          },
          "metadata": {
            "tags": []
          }
        },
        {
          "output_type": "display_data",
          "data": {
            "text/html": [
              "<pre>| 9440         | 1.67045      | 5h 13m       |</pre>"
            ],
            "text/plain": [
              "| 9440         | 1.67045      | 5h 13m       |"
            ]
          },
          "metadata": {
            "tags": []
          }
        },
        {
          "output_type": "display_data",
          "data": {
            "text/html": [
              "<pre>| 9445         | 1.64331      | 5h 13m       |</pre>"
            ],
            "text/plain": [
              "| 9445         | 1.64331      | 5h 13m       |"
            ]
          },
          "metadata": {
            "tags": []
          }
        },
        {
          "output_type": "display_data",
          "data": {
            "text/html": [
              "<pre>| 9450         | 1.66119      | 5h 13m       |</pre>"
            ],
            "text/plain": [
              "| 9450         | 1.66119      | 5h 13m       |"
            ]
          },
          "metadata": {
            "tags": []
          }
        },
        {
          "output_type": "display_data",
          "data": {
            "text/html": [
              "<pre>| 9455         | 1.67625      | 5h 13m       |</pre>"
            ],
            "text/plain": [
              "| 9455         | 1.67625      | 5h 13m       |"
            ]
          },
          "metadata": {
            "tags": []
          }
        },
        {
          "output_type": "display_data",
          "data": {
            "text/html": [
              "<pre>| 9460         | 1.69716      | 5h 13m       |</pre>"
            ],
            "text/plain": [
              "| 9460         | 1.69716      | 5h 13m       |"
            ]
          },
          "metadata": {
            "tags": []
          }
        },
        {
          "output_type": "display_data",
          "data": {
            "text/html": [
              "<pre>| 9465         | 1.71203      | 5h 14m       |</pre>"
            ],
            "text/plain": [
              "| 9465         | 1.71203      | 5h 14m       |"
            ]
          },
          "metadata": {
            "tags": []
          }
        },
        {
          "output_type": "display_data",
          "data": {
            "text/html": [
              "<pre>| 9470         | 1.69787      | 5h 14m       |</pre>"
            ],
            "text/plain": [
              "| 9470         | 1.69787      | 5h 14m       |"
            ]
          },
          "metadata": {
            "tags": []
          }
        },
        {
          "output_type": "display_data",
          "data": {
            "text/html": [
              "<pre>| 9475         | 1.68954      | 5h 14m       |</pre>"
            ],
            "text/plain": [
              "| 9475         | 1.68954      | 5h 14m       |"
            ]
          },
          "metadata": {
            "tags": []
          }
        },
        {
          "output_type": "display_data",
          "data": {
            "text/html": [
              "<pre>| 9480         | 1.67513      | 5h 14m       |</pre>"
            ],
            "text/plain": [
              "| 9480         | 1.67513      | 5h 14m       |"
            ]
          },
          "metadata": {
            "tags": []
          }
        },
        {
          "output_type": "display_data",
          "data": {
            "text/html": [
              "<pre>| 9485         | 1.69511      | 5h 14m       |</pre>"
            ],
            "text/plain": [
              "| 9485         | 1.69511      | 5h 14m       |"
            ]
          },
          "metadata": {
            "tags": []
          }
        },
        {
          "output_type": "display_data",
          "data": {
            "text/html": [
              "<pre>| 9490         | 1.75634      | 5h 14m       |</pre>"
            ],
            "text/plain": [
              "| 9490         | 1.75634      | 5h 14m       |"
            ]
          },
          "metadata": {
            "tags": []
          }
        },
        {
          "output_type": "display_data",
          "data": {
            "text/html": [
              "<pre>| 9495         | 1.69987      | 5h 15m       |</pre>"
            ],
            "text/plain": [
              "| 9495         | 1.69987      | 5h 15m       |"
            ]
          },
          "metadata": {
            "tags": []
          }
        },
        {
          "output_type": "display_data",
          "data": {
            "text/html": [
              "<pre>| 9500         | 1.69083      | 5h 15m       |</pre>"
            ],
            "text/plain": [
              "| 9500         | 1.69083      | 5h 15m       |"
            ]
          },
          "metadata": {
            "tags": []
          }
        },
        {
          "output_type": "display_data",
          "data": {
            "text/html": [
              "<pre>| 9505         | 1.65421      | 5h 15m       |</pre>"
            ],
            "text/plain": [
              "| 9505         | 1.65421      | 5h 15m       |"
            ]
          },
          "metadata": {
            "tags": []
          }
        },
        {
          "output_type": "display_data",
          "data": {
            "text/html": [
              "<pre>| 9510         | 1.71601      | 5h 15m       |</pre>"
            ],
            "text/plain": [
              "| 9510         | 1.71601      | 5h 15m       |"
            ]
          },
          "metadata": {
            "tags": []
          }
        },
        {
          "output_type": "display_data",
          "data": {
            "text/html": [
              "<pre>| 9515         | 1.69482      | 5h 15m       |</pre>"
            ],
            "text/plain": [
              "| 9515         | 1.69482      | 5h 15m       |"
            ]
          },
          "metadata": {
            "tags": []
          }
        },
        {
          "output_type": "display_data",
          "data": {
            "text/html": [
              "<pre>| 9520         | 1.72627      | 5h 15m       |</pre>"
            ],
            "text/plain": [
              "| 9520         | 1.72627      | 5h 15m       |"
            ]
          },
          "metadata": {
            "tags": []
          }
        },
        {
          "output_type": "display_data",
          "data": {
            "text/html": [
              "<pre>| 9525         | 1.62258      | 5h 16m       |</pre>"
            ],
            "text/plain": [
              "| 9525         | 1.62258      | 5h 16m       |"
            ]
          },
          "metadata": {
            "tags": []
          }
        },
        {
          "output_type": "display_data",
          "data": {
            "text/html": [
              "<pre>| 9530         | 1.62775      | 5h 16m       |</pre>"
            ],
            "text/plain": [
              "| 9530         | 1.62775      | 5h 16m       |"
            ]
          },
          "metadata": {
            "tags": []
          }
        },
        {
          "output_type": "display_data",
          "data": {
            "text/html": [
              "<pre>| 9535         | 1.67129      | 5h 16m       |</pre>"
            ],
            "text/plain": [
              "| 9535         | 1.67129      | 5h 16m       |"
            ]
          },
          "metadata": {
            "tags": []
          }
        },
        {
          "output_type": "display_data",
          "data": {
            "text/html": [
              "<pre>| 9540         | 1.71987      | 5h 16m       |</pre>"
            ],
            "text/plain": [
              "| 9540         | 1.71987      | 5h 16m       |"
            ]
          },
          "metadata": {
            "tags": []
          }
        },
        {
          "output_type": "display_data",
          "data": {
            "text/html": [
              "<pre>| 9545         | 1.74196      | 5h 16m       |</pre>"
            ],
            "text/plain": [
              "| 9545         | 1.74196      | 5h 16m       |"
            ]
          },
          "metadata": {
            "tags": []
          }
        },
        {
          "output_type": "display_data",
          "data": {
            "text/html": [
              "<pre>| 9550         | 1.75453      | 5h 16m       |</pre>"
            ],
            "text/plain": [
              "| 9550         | 1.75453      | 5h 16m       |"
            ]
          },
          "metadata": {
            "tags": []
          }
        },
        {
          "output_type": "display_data",
          "data": {
            "text/html": [
              "<pre>| 9555         | 1.75912      | 5h 17m       |</pre>"
            ],
            "text/plain": [
              "| 9555         | 1.75912      | 5h 17m       |"
            ]
          },
          "metadata": {
            "tags": []
          }
        },
        {
          "output_type": "display_data",
          "data": {
            "text/html": [
              "<pre>| 9560         | 1.7836       | 5h 17m       |</pre>"
            ],
            "text/plain": [
              "| 9560         | 1.7836       | 5h 17m       |"
            ]
          },
          "metadata": {
            "tags": []
          }
        },
        {
          "output_type": "display_data",
          "data": {
            "text/html": [
              "<pre>| 9565         | 1.72265      | 5h 17m       |</pre>"
            ],
            "text/plain": [
              "| 9565         | 1.72265      | 5h 17m       |"
            ]
          },
          "metadata": {
            "tags": []
          }
        },
        {
          "output_type": "display_data",
          "data": {
            "text/html": [
              "<pre>| 9570         | 1.65782      | 5h 17m       |</pre>"
            ],
            "text/plain": [
              "| 9570         | 1.65782      | 5h 17m       |"
            ]
          },
          "metadata": {
            "tags": []
          }
        },
        {
          "output_type": "display_data",
          "data": {
            "text/html": [
              "<pre>| 9575         | 1.64363      | 5h 17m       |</pre>"
            ],
            "text/plain": [
              "| 9575         | 1.64363      | 5h 17m       |"
            ]
          },
          "metadata": {
            "tags": []
          }
        },
        {
          "output_type": "display_data",
          "data": {
            "text/html": [
              "<pre>| 9580         | 1.66854      | 5h 17m       |</pre>"
            ],
            "text/plain": [
              "| 9580         | 1.66854      | 5h 17m       |"
            ]
          },
          "metadata": {
            "tags": []
          }
        },
        {
          "output_type": "display_data",
          "data": {
            "text/html": [
              "<pre>| 9585         | 1.69178      | 5h 18m       |</pre>"
            ],
            "text/plain": [
              "| 9585         | 1.69178      | 5h 18m       |"
            ]
          },
          "metadata": {
            "tags": []
          }
        },
        {
          "output_type": "display_data",
          "data": {
            "text/html": [
              "<pre>| 9590         | 1.64557      | 5h 18m       |</pre>"
            ],
            "text/plain": [
              "| 9590         | 1.64557      | 5h 18m       |"
            ]
          },
          "metadata": {
            "tags": []
          }
        },
        {
          "output_type": "display_data",
          "data": {
            "text/html": [
              "<pre>| 9595         | 1.6438       | 5h 18m       |</pre>"
            ],
            "text/plain": [
              "| 9595         | 1.6438       | 5h 18m       |"
            ]
          },
          "metadata": {
            "tags": []
          }
        },
        {
          "output_type": "display_data",
          "data": {
            "text/html": [
              "<pre>| 9600         | 1.6789       | 5h 18m       |</pre>"
            ],
            "text/plain": [
              "| 9600         | 1.6789       | 5h 18m       |"
            ]
          },
          "metadata": {
            "tags": []
          }
        },
        {
          "output_type": "display_data",
          "data": {
            "text/html": [
              "<pre>| 9605         | 1.67527      | 5h 18m       |</pre>"
            ],
            "text/plain": [
              "| 9605         | 1.67527      | 5h 18m       |"
            ]
          },
          "metadata": {
            "tags": []
          }
        },
        {
          "output_type": "display_data",
          "data": {
            "text/html": [
              "<pre>| 9610         | 1.6859       | 5h 18m       |</pre>"
            ],
            "text/plain": [
              "| 9610         | 1.6859       | 5h 18m       |"
            ]
          },
          "metadata": {
            "tags": []
          }
        },
        {
          "output_type": "display_data",
          "data": {
            "text/html": [
              "<pre>| 9615         | 1.73694      | 5h 19m       |</pre>"
            ],
            "text/plain": [
              "| 9615         | 1.73694      | 5h 19m       |"
            ]
          },
          "metadata": {
            "tags": []
          }
        },
        {
          "output_type": "display_data",
          "data": {
            "text/html": [
              "<pre>| 9620         | 1.7282       | 5h 19m       |</pre>"
            ],
            "text/plain": [
              "| 9620         | 1.7282       | 5h 19m       |"
            ]
          },
          "metadata": {
            "tags": []
          }
        },
        {
          "output_type": "display_data",
          "data": {
            "text/html": [
              "<pre>| 9625         | 1.68134      | 5h 19m       |</pre>"
            ],
            "text/plain": [
              "| 9625         | 1.68134      | 5h 19m       |"
            ]
          },
          "metadata": {
            "tags": []
          }
        },
        {
          "output_type": "display_data",
          "data": {
            "text/html": [
              "<pre>| 9630         | 1.66932      | 5h 19m       |</pre>"
            ],
            "text/plain": [
              "| 9630         | 1.66932      | 5h 19m       |"
            ]
          },
          "metadata": {
            "tags": []
          }
        },
        {
          "output_type": "display_data",
          "data": {
            "text/html": [
              "<pre>| 9635         | 1.67957      | 5h 19m       |</pre>"
            ],
            "text/plain": [
              "| 9635         | 1.67957      | 5h 19m       |"
            ]
          },
          "metadata": {
            "tags": []
          }
        },
        {
          "output_type": "display_data",
          "data": {
            "text/html": [
              "<pre>| 9640         | 1.78947      | 5h 19m       |</pre>"
            ],
            "text/plain": [
              "| 9640         | 1.78947      | 5h 19m       |"
            ]
          },
          "metadata": {
            "tags": []
          }
        },
        {
          "output_type": "display_data",
          "data": {
            "text/html": [
              "<pre>| 9645         | 1.73883      | 5h 20m       |</pre>"
            ],
            "text/plain": [
              "| 9645         | 1.73883      | 5h 20m       |"
            ]
          },
          "metadata": {
            "tags": []
          }
        },
        {
          "output_type": "display_data",
          "data": {
            "text/html": [
              "<pre>| 9650         | 1.74653      | 5h 20m       |</pre>"
            ],
            "text/plain": [
              "| 9650         | 1.74653      | 5h 20m       |"
            ]
          },
          "metadata": {
            "tags": []
          }
        },
        {
          "output_type": "display_data",
          "data": {
            "text/html": [
              "<pre>| 9655         | 1.6999       | 5h 20m       |</pre>"
            ],
            "text/plain": [
              "| 9655         | 1.6999       | 5h 20m       |"
            ]
          },
          "metadata": {
            "tags": []
          }
        },
        {
          "output_type": "display_data",
          "data": {
            "text/html": [
              "<pre>| 9660         | 1.68802      | 5h 20m       |</pre>"
            ],
            "text/plain": [
              "| 9660         | 1.68802      | 5h 20m       |"
            ]
          },
          "metadata": {
            "tags": []
          }
        },
        {
          "output_type": "display_data",
          "data": {
            "text/html": [
              "<pre>| 9665         | 1.69977      | 5h 20m       |</pre>"
            ],
            "text/plain": [
              "| 9665         | 1.69977      | 5h 20m       |"
            ]
          },
          "metadata": {
            "tags": []
          }
        },
        {
          "output_type": "display_data",
          "data": {
            "text/html": [
              "<pre>| 9670         | 1.68601      | 5h 20m       |</pre>"
            ],
            "text/plain": [
              "| 9670         | 1.68601      | 5h 20m       |"
            ]
          },
          "metadata": {
            "tags": []
          }
        },
        {
          "output_type": "display_data",
          "data": {
            "text/html": [
              "<pre>| 9675         | 1.69281      | 5h 21m       |</pre>"
            ],
            "text/plain": [
              "| 9675         | 1.69281      | 5h 21m       |"
            ]
          },
          "metadata": {
            "tags": []
          }
        },
        {
          "output_type": "display_data",
          "data": {
            "text/html": [
              "<pre>| 9680         | 1.73952      | 5h 21m       |</pre>"
            ],
            "text/plain": [
              "| 9680         | 1.73952      | 5h 21m       |"
            ]
          },
          "metadata": {
            "tags": []
          }
        },
        {
          "output_type": "display_data",
          "data": {
            "text/html": [
              "<pre>| 9685         | 1.73207      | 5h 21m       |</pre>"
            ],
            "text/plain": [
              "| 9685         | 1.73207      | 5h 21m       |"
            ]
          },
          "metadata": {
            "tags": []
          }
        },
        {
          "output_type": "display_data",
          "data": {
            "text/html": [
              "<pre>| 9690         | 1.68982      | 5h 21m       |</pre>"
            ],
            "text/plain": [
              "| 9690         | 1.68982      | 5h 21m       |"
            ]
          },
          "metadata": {
            "tags": []
          }
        },
        {
          "output_type": "display_data",
          "data": {
            "text/html": [
              "<pre>| 9695         | 1.71176      | 5h 21m       |</pre>"
            ],
            "text/plain": [
              "| 9695         | 1.71176      | 5h 21m       |"
            ]
          },
          "metadata": {
            "tags": []
          }
        },
        {
          "output_type": "display_data",
          "data": {
            "text/html": [
              "<pre>| 9700         | 1.6968       | 5h 21m       |</pre>"
            ],
            "text/plain": [
              "| 9700         | 1.6968       | 5h 21m       |"
            ]
          },
          "metadata": {
            "tags": []
          }
        },
        {
          "output_type": "display_data",
          "data": {
            "text/html": [
              "<pre>| 9705         | 1.66676      | 5h 22m       |</pre>"
            ],
            "text/plain": [
              "| 9705         | 1.66676      | 5h 22m       |"
            ]
          },
          "metadata": {
            "tags": []
          }
        },
        {
          "output_type": "display_data",
          "data": {
            "text/html": [
              "<pre>| 9710         | 1.63368      | 5h 22m       |</pre>"
            ],
            "text/plain": [
              "| 9710         | 1.63368      | 5h 22m       |"
            ]
          },
          "metadata": {
            "tags": []
          }
        },
        {
          "output_type": "display_data",
          "data": {
            "text/html": [
              "<pre>| 9715         | 1.67552      | 5h 22m       |</pre>"
            ],
            "text/plain": [
              "| 9715         | 1.67552      | 5h 22m       |"
            ]
          },
          "metadata": {
            "tags": []
          }
        },
        {
          "output_type": "display_data",
          "data": {
            "text/html": [
              "<pre>| 9720         | 1.74258      | 5h 22m       |</pre>"
            ],
            "text/plain": [
              "| 9720         | 1.74258      | 5h 22m       |"
            ]
          },
          "metadata": {
            "tags": []
          }
        },
        {
          "output_type": "display_data",
          "data": {
            "text/html": [
              "<pre>| 9725         | 1.76484      | 5h 22m       |</pre>"
            ],
            "text/plain": [
              "| 9725         | 1.76484      | 5h 22m       |"
            ]
          },
          "metadata": {
            "tags": []
          }
        },
        {
          "output_type": "display_data",
          "data": {
            "text/html": [
              "<pre>| 9730         | 1.73558      | 5h 22m       |</pre>"
            ],
            "text/plain": [
              "| 9730         | 1.73558      | 5h 22m       |"
            ]
          },
          "metadata": {
            "tags": []
          }
        },
        {
          "output_type": "display_data",
          "data": {
            "text/html": [
              "<pre>| 9735         | 1.82193      | 5h 23m       |</pre>"
            ],
            "text/plain": [
              "| 9735         | 1.82193      | 5h 23m       |"
            ]
          },
          "metadata": {
            "tags": []
          }
        },
        {
          "output_type": "display_data",
          "data": {
            "text/html": [
              "<pre>| 9740         | 1.78587      | 5h 23m       |</pre>"
            ],
            "text/plain": [
              "| 9740         | 1.78587      | 5h 23m       |"
            ]
          },
          "metadata": {
            "tags": []
          }
        },
        {
          "output_type": "display_data",
          "data": {
            "text/html": [
              "<pre>| 9745         | 1.73055      | 5h 23m       |</pre>"
            ],
            "text/plain": [
              "| 9745         | 1.73055      | 5h 23m       |"
            ]
          },
          "metadata": {
            "tags": []
          }
        },
        {
          "output_type": "display_data",
          "data": {
            "text/html": [
              "<pre>| 9750         | 1.67795      | 5h 23m       |</pre>"
            ],
            "text/plain": [
              "| 9750         | 1.67795      | 5h 23m       |"
            ]
          },
          "metadata": {
            "tags": []
          }
        },
        {
          "output_type": "display_data",
          "data": {
            "text/html": [
              "<pre>| 9755         | 1.72082      | 5h 23m       |</pre>"
            ],
            "text/plain": [
              "| 9755         | 1.72082      | 5h 23m       |"
            ]
          },
          "metadata": {
            "tags": []
          }
        },
        {
          "output_type": "display_data",
          "data": {
            "text/html": [
              "<pre>| 9760         | 1.75998      | 5h 23m       |</pre>"
            ],
            "text/plain": [
              "| 9760         | 1.75998      | 5h 23m       |"
            ]
          },
          "metadata": {
            "tags": []
          }
        },
        {
          "output_type": "display_data",
          "data": {
            "text/html": [
              "<pre>| 9765         | 1.75607      | 5h 24m       |</pre>"
            ],
            "text/plain": [
              "| 9765         | 1.75607      | 5h 24m       |"
            ]
          },
          "metadata": {
            "tags": []
          }
        },
        {
          "output_type": "display_data",
          "data": {
            "text/html": [
              "<pre>| 9770         | 1.76997      | 5h 24m       |</pre>"
            ],
            "text/plain": [
              "| 9770         | 1.76997      | 5h 24m       |"
            ]
          },
          "metadata": {
            "tags": []
          }
        },
        {
          "output_type": "display_data",
          "data": {
            "text/html": [
              "<pre>| 9775         | 1.73911      | 5h 24m       |</pre>"
            ],
            "text/plain": [
              "| 9775         | 1.73911      | 5h 24m       |"
            ]
          },
          "metadata": {
            "tags": []
          }
        },
        {
          "output_type": "display_data",
          "data": {
            "text/html": [
              "<pre>| 9780         | 1.75914      | 5h 24m       |</pre>"
            ],
            "text/plain": [
              "| 9780         | 1.75914      | 5h 24m       |"
            ]
          },
          "metadata": {
            "tags": []
          }
        },
        {
          "output_type": "display_data",
          "data": {
            "text/html": [
              "<pre>| 9785         | 1.66638      | 5h 24m       |</pre>"
            ],
            "text/plain": [
              "| 9785         | 1.66638      | 5h 24m       |"
            ]
          },
          "metadata": {
            "tags": []
          }
        },
        {
          "output_type": "display_data",
          "data": {
            "text/html": [
              "<pre>| 9790         | 1.69183      | 5h 24m       |</pre>"
            ],
            "text/plain": [
              "| 9790         | 1.69183      | 5h 24m       |"
            ]
          },
          "metadata": {
            "tags": []
          }
        },
        {
          "output_type": "display_data",
          "data": {
            "text/html": [
              "<pre>| 9795         | 1.66372      | 5h 25m       |</pre>"
            ],
            "text/plain": [
              "| 9795         | 1.66372      | 5h 25m       |"
            ]
          },
          "metadata": {
            "tags": []
          }
        },
        {
          "output_type": "display_data",
          "data": {
            "text/html": [
              "<pre>| 9800         | 1.70446      | 5h 25m       |</pre>"
            ],
            "text/plain": [
              "| 9800         | 1.70446      | 5h 25m       |"
            ]
          },
          "metadata": {
            "tags": []
          }
        },
        {
          "output_type": "display_data",
          "data": {
            "text/html": [
              "<pre>| 9805         | 1.71493      | 5h 25m       |</pre>"
            ],
            "text/plain": [
              "| 9805         | 1.71493      | 5h 25m       |"
            ]
          },
          "metadata": {
            "tags": []
          }
        },
        {
          "output_type": "display_data",
          "data": {
            "text/html": [
              "<pre>| 9810         | 1.69445      | 5h 25m       |</pre>"
            ],
            "text/plain": [
              "| 9810         | 1.69445      | 5h 25m       |"
            ]
          },
          "metadata": {
            "tags": []
          }
        },
        {
          "output_type": "display_data",
          "data": {
            "text/html": [
              "<pre>| 9815         | 1.70456      | 5h 25m       |</pre>"
            ],
            "text/plain": [
              "| 9815         | 1.70456      | 5h 25m       |"
            ]
          },
          "metadata": {
            "tags": []
          }
        },
        {
          "output_type": "display_data",
          "data": {
            "text/html": [
              "<pre>| 9820         | 1.68444      | 5h 25m       |</pre>"
            ],
            "text/plain": [
              "| 9820         | 1.68444      | 5h 25m       |"
            ]
          },
          "metadata": {
            "tags": []
          }
        },
        {
          "output_type": "display_data",
          "data": {
            "text/html": [
              "<pre>| 9825         | 1.70128      | 5h 26m       |</pre>"
            ],
            "text/plain": [
              "| 9825         | 1.70128      | 5h 26m       |"
            ]
          },
          "metadata": {
            "tags": []
          }
        },
        {
          "output_type": "display_data",
          "data": {
            "text/html": [
              "<pre>| 9830         | 1.66564      | 5h 26m       |</pre>"
            ],
            "text/plain": [
              "| 9830         | 1.66564      | 5h 26m       |"
            ]
          },
          "metadata": {
            "tags": []
          }
        },
        {
          "output_type": "display_data",
          "data": {
            "text/html": [
              "<pre>| 9835         | 1.63779      | 5h 26m       |</pre>"
            ],
            "text/plain": [
              "| 9835         | 1.63779      | 5h 26m       |"
            ]
          },
          "metadata": {
            "tags": []
          }
        },
        {
          "output_type": "display_data",
          "data": {
            "text/html": [
              "<pre>| 9840         | 1.64867      | 5h 26m       |</pre>"
            ],
            "text/plain": [
              "| 9840         | 1.64867      | 5h 26m       |"
            ]
          },
          "metadata": {
            "tags": []
          }
        },
        {
          "output_type": "display_data",
          "data": {
            "text/html": [
              "<pre>| 9845         | 1.68778      | 5h 26m       |</pre>"
            ],
            "text/plain": [
              "| 9845         | 1.68778      | 5h 26m       |"
            ]
          },
          "metadata": {
            "tags": []
          }
        },
        {
          "output_type": "display_data",
          "data": {
            "text/html": [
              "<pre>| 9850         | 1.66532      | 5h 26m       |</pre>"
            ],
            "text/plain": [
              "| 9850         | 1.66532      | 5h 26m       |"
            ]
          },
          "metadata": {
            "tags": []
          }
        },
        {
          "output_type": "display_data",
          "data": {
            "text/html": [
              "<pre>| 9855         | 1.66411      | 5h 27m       |</pre>"
            ],
            "text/plain": [
              "| 9855         | 1.66411      | 5h 27m       |"
            ]
          },
          "metadata": {
            "tags": []
          }
        },
        {
          "output_type": "display_data",
          "data": {
            "text/html": [
              "<pre>| 9860         | 1.65206      | 5h 27m       |</pre>"
            ],
            "text/plain": [
              "| 9860         | 1.65206      | 5h 27m       |"
            ]
          },
          "metadata": {
            "tags": []
          }
        },
        {
          "output_type": "display_data",
          "data": {
            "text/html": [
              "<pre>| 9865         | 1.68733      | 5h 27m       |</pre>"
            ],
            "text/plain": [
              "| 9865         | 1.68733      | 5h 27m       |"
            ]
          },
          "metadata": {
            "tags": []
          }
        },
        {
          "output_type": "display_data",
          "data": {
            "text/html": [
              "<pre>| 9870         | 1.7291       | 5h 27m       |</pre>"
            ],
            "text/plain": [
              "| 9870         | 1.7291       | 5h 27m       |"
            ]
          },
          "metadata": {
            "tags": []
          }
        },
        {
          "output_type": "display_data",
          "data": {
            "text/html": [
              "<pre>| 9875         | 1.67407      | 5h 27m       |</pre>"
            ],
            "text/plain": [
              "| 9875         | 1.67407      | 5h 27m       |"
            ]
          },
          "metadata": {
            "tags": []
          }
        },
        {
          "output_type": "display_data",
          "data": {
            "text/html": [
              "<pre>| 9880         | 1.61769      | 5h 27m       |</pre>"
            ],
            "text/plain": [
              "| 9880         | 1.61769      | 5h 27m       |"
            ]
          },
          "metadata": {
            "tags": []
          }
        },
        {
          "output_type": "display_data",
          "data": {
            "text/html": [
              "<pre>| 9885         | 1.6294       | 5h 28m       |</pre>"
            ],
            "text/plain": [
              "| 9885         | 1.6294       | 5h 28m       |"
            ]
          },
          "metadata": {
            "tags": []
          }
        },
        {
          "output_type": "display_data",
          "data": {
            "text/html": [
              "<pre>| 9890         | 1.66661      | 5h 28m       |</pre>"
            ],
            "text/plain": [
              "| 9890         | 1.66661      | 5h 28m       |"
            ]
          },
          "metadata": {
            "tags": []
          }
        },
        {
          "output_type": "display_data",
          "data": {
            "text/html": [
              "<pre>| 9895         | 1.6807       | 5h 28m       |</pre>"
            ],
            "text/plain": [
              "| 9895         | 1.6807       | 5h 28m       |"
            ]
          },
          "metadata": {
            "tags": []
          }
        },
        {
          "output_type": "display_data",
          "data": {
            "text/html": [
              "<pre>| 9900         | 1.70699      | 5h 28m       |</pre>"
            ],
            "text/plain": [
              "| 9900         | 1.70699      | 5h 28m       |"
            ]
          },
          "metadata": {
            "tags": []
          }
        },
        {
          "output_type": "display_data",
          "data": {
            "text/html": [
              "<pre>| 9905         | 1.72476      | 5h 28m       |</pre>"
            ],
            "text/plain": [
              "| 9905         | 1.72476      | 5h 28m       |"
            ]
          },
          "metadata": {
            "tags": []
          }
        },
        {
          "output_type": "display_data",
          "data": {
            "text/html": [
              "<pre>| 9910         | 1.71384      | 5h 28m       |</pre>"
            ],
            "text/plain": [
              "| 9910         | 1.71384      | 5h 28m       |"
            ]
          },
          "metadata": {
            "tags": []
          }
        },
        {
          "output_type": "display_data",
          "data": {
            "text/html": [
              "<pre>| 9915         | 1.65102      | 5h 29m       |</pre>"
            ],
            "text/plain": [
              "| 9915         | 1.65102      | 5h 29m       |"
            ]
          },
          "metadata": {
            "tags": []
          }
        },
        {
          "output_type": "display_data",
          "data": {
            "text/html": [
              "<pre>| 9920         | 1.68808      | 5h 29m       |</pre>"
            ],
            "text/plain": [
              "| 9920         | 1.68808      | 5h 29m       |"
            ]
          },
          "metadata": {
            "tags": []
          }
        },
        {
          "output_type": "display_data",
          "data": {
            "text/html": [
              "<pre>| 9925         | 1.70159      | 5h 29m       |</pre>"
            ],
            "text/plain": [
              "| 9925         | 1.70159      | 5h 29m       |"
            ]
          },
          "metadata": {
            "tags": []
          }
        },
        {
          "output_type": "display_data",
          "data": {
            "text/html": [
              "<pre>| 9930         | 1.68815      | 5h 29m       |</pre>"
            ],
            "text/plain": [
              "| 9930         | 1.68815      | 5h 29m       |"
            ]
          },
          "metadata": {
            "tags": []
          }
        },
        {
          "output_type": "display_data",
          "data": {
            "text/html": [
              "<pre>| 9935         | 1.70214      | 5h 29m       |</pre>"
            ],
            "text/plain": [
              "| 9935         | 1.70214      | 5h 29m       |"
            ]
          },
          "metadata": {
            "tags": []
          }
        },
        {
          "output_type": "display_data",
          "data": {
            "text/html": [
              "<pre>| 9940         | 1.70777      | 5h 29m       |</pre>"
            ],
            "text/plain": [
              "| 9940         | 1.70777      | 5h 29m       |"
            ]
          },
          "metadata": {
            "tags": []
          }
        },
        {
          "output_type": "display_data",
          "data": {
            "text/html": [
              "<pre>| 9945         | 1.71174      | 5h 30m       |</pre>"
            ],
            "text/plain": [
              "| 9945         | 1.71174      | 5h 30m       |"
            ]
          },
          "metadata": {
            "tags": []
          }
        },
        {
          "output_type": "display_data",
          "data": {
            "text/html": [
              "<pre>| 9950         | 1.70074      | 5h 30m       |</pre>"
            ],
            "text/plain": [
              "| 9950         | 1.70074      | 5h 30m       |"
            ]
          },
          "metadata": {
            "tags": []
          }
        },
        {
          "output_type": "display_data",
          "data": {
            "text/html": [
              "<pre>| 9955         | 1.67733      | 5h 30m       |</pre>"
            ],
            "text/plain": [
              "| 9955         | 1.67733      | 5h 30m       |"
            ]
          },
          "metadata": {
            "tags": []
          }
        },
        {
          "output_type": "display_data",
          "data": {
            "text/html": [
              "<pre>| 9960         | 1.74957      | 5h 30m       |</pre>"
            ],
            "text/plain": [
              "| 9960         | 1.74957      | 5h 30m       |"
            ]
          },
          "metadata": {
            "tags": []
          }
        },
        {
          "output_type": "display_data",
          "data": {
            "text/html": [
              "<pre>| 9965         | 1.84304      | 5h 30m       |</pre>"
            ],
            "text/plain": [
              "| 9965         | 1.84304      | 5h 30m       |"
            ]
          },
          "metadata": {
            "tags": []
          }
        },
        {
          "output_type": "display_data",
          "data": {
            "text/html": [
              "<pre>| 9970         | 1.79436      | 5h 30m       |</pre>"
            ],
            "text/plain": [
              "| 9970         | 1.79436      | 5h 30m       |"
            ]
          },
          "metadata": {
            "tags": []
          }
        },
        {
          "output_type": "display_data",
          "data": {
            "text/html": [
              "<pre>| 9975         | 1.78526      | 5h 31m       |</pre>"
            ],
            "text/plain": [
              "| 9975         | 1.78526      | 5h 31m       |"
            ]
          },
          "metadata": {
            "tags": []
          }
        },
        {
          "output_type": "display_data",
          "data": {
            "text/html": [
              "<pre>| 9980         | 1.78304      | 5h 31m       |</pre>"
            ],
            "text/plain": [
              "| 9980         | 1.78304      | 5h 31m       |"
            ]
          },
          "metadata": {
            "tags": []
          }
        },
        {
          "output_type": "display_data",
          "data": {
            "text/html": [
              "<pre>| 9985         | 1.76911      | 5h 31m       |</pre>"
            ],
            "text/plain": [
              "| 9985         | 1.76911      | 5h 31m       |"
            ]
          },
          "metadata": {
            "tags": []
          }
        },
        {
          "output_type": "display_data",
          "data": {
            "text/html": [
              "<pre>| 9990         | 1.71205      | 5h 31m       |</pre>"
            ],
            "text/plain": [
              "| 9990         | 1.71205      | 5h 31m       |"
            ]
          },
          "metadata": {
            "tags": []
          }
        },
        {
          "output_type": "display_data",
          "data": {
            "text/html": [
              "<pre>| 9995         | 1.67687      | 5h 31m       |</pre>"
            ],
            "text/plain": [
              "| 9995         | 1.67687      | 5h 31m       |"
            ]
          },
          "metadata": {
            "tags": []
          }
        },
        {
          "output_type": "display_data",
          "data": {
            "text/html": [
              "<pre>| 10000        | 1.64221      | 5h 31m       |</pre>"
            ],
            "text/plain": [
              "| 10000        | 1.64221      | 5h 31m       |"
            ]
          },
          "metadata": {
            "tags": []
          }
        },
        {
          "output_type": "display_data",
          "data": {
            "text/html": [
              "<pre>+--------------+--------------+--------------+</pre>"
            ],
            "text/plain": [
              "+--------------+--------------+--------------+"
            ]
          },
          "metadata": {
            "tags": []
          }
        }
      ]
    },
    {
      "cell_type": "markdown",
      "metadata": {
        "id": "XW-3xy3B6Nou",
        "colab_type": "text"
      },
      "source": [
        "## Output model data to folder and Core ML file\n",
        "\n",
        "Save the model output and test the results of the model on the held-out data to measure performance"
      ]
    },
    {
      "cell_type": "code",
      "metadata": {
        "id": "dFJ7fwC537ls",
        "colab_type": "code",
        "colab": {}
      },
      "source": [
        "# Save the model for later use in Turi Create\n",
        "model.save(model_path+model_name+'.model')\n",
        "\n",
        "# Export for use in Core ML\n",
        "model.export_coreml(model_path+model_name+'.mlmodel')"
      ],
      "execution_count": 0,
      "outputs": []
    },
    {
      "cell_type": "markdown",
      "metadata": {
        "id": "wn-baPpLXlwJ",
        "colab_type": "text"
      },
      "source": [
        "## Calculate metrics for the model created above"
      ]
    },
    {
      "cell_type": "code",
      "metadata": {
        "id": "0-_piqac3TDH",
        "colab_type": "code",
        "colab": {}
      },
      "source": [
        "# Save predictions to an SArray\n",
        "# predictions = model.predict(test_data)\n",
        "\n",
        "# Evaluate the model and save the results into a dictionary\n",
        "metrics = model.evaluate(test_data)"
      ],
      "execution_count": 0,
      "outputs": []
    },
    {
      "cell_type": "code",
      "metadata": {
        "id": "VzvMeQkh7q3O",
        "colab_type": "code",
        "outputId": "6030354c-335d-4fdd-ce84-b6110fcec02e",
        "colab": {
          "base_uri": "https://localhost:8080/",
          "height": 918
        }
      },
      "source": [
        "metrics"
      ],
      "execution_count": 0,
      "outputs": [
        {
          "output_type": "execute_result",
          "data": {
            "text/plain": [
              "{'average_precision_50': {'10c': 0.9311220645904541,\n",
              "  '10d': 0.9251116514205933,\n",
              "  '10h': 0.9323518872261047,\n",
              "  '10s': 0.8614382147789001,\n",
              "  '2c': 0.9276739358901978,\n",
              "  '2d': 0.892318844795227,\n",
              "  '2h': 0.9165557622909546,\n",
              "  '2s': 0.904819130897522,\n",
              "  '3c': 0.9477072358131409,\n",
              "  '3d': 0.8853217959403992,\n",
              "  '3h': 0.9238818287849426,\n",
              "  '3s': 0.909757673740387,\n",
              "  '4c': 0.9058488607406616,\n",
              "  '4d': 0.8872219324111938,\n",
              "  '4h': 0.9512495398521423,\n",
              "  '4s': 0.9109499454498291,\n",
              "  '5c': 0.8831149339675903,\n",
              "  '5d': 0.9630988240242004,\n",
              "  '5h': 0.9324344992637634,\n",
              "  '5s': 0.8956222534179688,\n",
              "  '6c': 0.9476646184921265,\n",
              "  '6d': 0.959263265132904,\n",
              "  '6h': 0.9547578692436218,\n",
              "  '6s': 0.9342634677886963,\n",
              "  '7c': 0.9143210053443909,\n",
              "  '7d': 0.8977290391921997,\n",
              "  '7h': 0.853547990322113,\n",
              "  '7s': 0.8792589902877808,\n",
              "  '8c': 0.9081507921218872,\n",
              "  '8d': 0.9319689273834229,\n",
              "  '8h': 0.9496854543685913,\n",
              "  '8s': 0.9125145673751831,\n",
              "  '9c': 0.9475542306900024,\n",
              "  '9d': 0.9469661116600037,\n",
              "  '9h': 0.9419347047805786,\n",
              "  '9s': 0.928752601146698,\n",
              "  'Ac': 0.9243770241737366,\n",
              "  'Ad': 0.9013211131095886,\n",
              "  'Ah': 0.9101271033287048,\n",
              "  'As': 0.8794512748718262,\n",
              "  'Jc': 0.9270381331443787,\n",
              "  'Jd': 0.9001502394676208,\n",
              "  'Jh': 0.8715850710868835,\n",
              "  'Js': 0.8831149339675903,\n",
              "  'Kc': 0.9135036468505859,\n",
              "  'Kd': 0.9233784675598145,\n",
              "  'Kh': 0.9098739624023438,\n",
              "  'Ks': 0.8609567284584045,\n",
              "  'Qc': 0.8922333121299744,\n",
              "  'Qd': 0.8873147368431091,\n",
              "  'Qh': 0.8991014361381531,\n",
              "  'Qs': 0.8436562418937683},\n",
              " 'mean_average_precision_50': 0.911983072757721}"
            ]
          },
          "metadata": {
            "tags": []
          },
          "execution_count": 25
        }
      ]
    },
    {
      "cell_type": "markdown",
      "metadata": {
        "id": "ASaTz17YXpBP",
        "colab_type": "text"
      },
      "source": [
        "# References\n",
        "\n",
        "- [Object Detection API overview](https://apple.github.io/turicreate/docs/userguide/object_detection/)\n",
        "\n",
        "- [Core ML Deployment](https://apple.github.io/turicreate/docs/userguide/object_detection/export-coreml.html)\n",
        "\n",
        "- [Overview of using GPU for Turi Create with linux machine](https://github.com/apple/turicreate/blob/master/LinuxGPU.md)"
      ]
    }
  ]
}