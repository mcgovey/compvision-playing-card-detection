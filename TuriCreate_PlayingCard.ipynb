{
  "nbformat": 4,
  "nbformat_minor": 0,
  "metadata": {
    "colab": {
      "name": "TuriCreate_PlayingCard.ipynb",
      "provenance": [],
      "collapsed_sections": [],
      "toc_visible": true,
      "machine_shape": "hm",
      "mount_file_id": "1G40XxZVYLB5RwF8dnl5VVpRcKs7yd_Ux",
      "authorship_tag": "ABX9TyMWCcmoE5/asgkHTzSkACww",
      "include_colab_link": true
    },
    "kernelspec": {
      "name": "python3",
      "display_name": "Python 3"
    },
    "accelerator": "GPU"
  },
  "cells": [
    {
      "cell_type": "markdown",
      "metadata": {
        "id": "view-in-github",
        "colab_type": "text"
      },
      "source": [
        "<a href=\"https://colab.research.google.com/github/mcgovey/compvision-playing-card-detection/blob/master/TuriCreate_PlayingCard.ipynb\" target=\"_parent\"><img src=\"https://colab.research.google.com/assets/colab-badge.svg\" alt=\"Open In Colab\"/></a>"
      ]
    },
    {
      "cell_type": "code",
      "metadata": {
        "id": "43qYhUR0fvlN",
        "colab_type": "code",
        "outputId": "5525a96f-6d0a-4e44-c73d-8327ff76e826",
        "colab": {
          "base_uri": "https://localhost:8080/",
          "height": 1000
        }
      },
      "source": [
        "!pip install turicreate"
      ],
      "execution_count": 1,
      "outputs": [
        {
          "output_type": "stream",
          "text": [
            "Collecting turicreate\n",
            "\u001b[?25l  Downloading https://files.pythonhosted.org/packages/ee/3c/11f0818f117bc80bab78b5b04d492316f949d005bb1c6b3e05f31182b20e/turicreate-6.2.2-cp36-cp36m-manylinux1_x86_64.whl (91.8MB)\n",
            "\u001b[K     |████████████████████████████████| 91.8MB 34kB/s \n",
            "\u001b[?25hRequirement already satisfied: pandas>=0.23.2 in /usr/local/lib/python3.6/dist-packages (from turicreate) (1.0.3)\n",
            "Requirement already satisfied: scipy>=1.1.0 in /usr/local/lib/python3.6/dist-packages (from turicreate) (1.4.1)\n",
            "Requirement already satisfied: numpy in /usr/local/lib/python3.6/dist-packages (from turicreate) (1.18.4)\n",
            "Requirement already satisfied: requests>=2.9.1 in /usr/local/lib/python3.6/dist-packages (from turicreate) (2.23.0)\n",
            "Requirement already satisfied: decorator>=4.0.9 in /usr/local/lib/python3.6/dist-packages (from turicreate) (4.4.2)\n",
            "Collecting tensorflow<=2.0.1,>=2.0.0\n",
            "\u001b[?25l  Downloading https://files.pythonhosted.org/packages/43/16/b07e3f7a4a024b47918f7018967eb984b0c542458a6141d8c48515aa81d4/tensorflow-2.0.1-cp36-cp36m-manylinux2010_x86_64.whl (86.3MB)\n",
            "\u001b[K     |████████████████████████████████| 86.3MB 37kB/s \n",
            "\u001b[?25hCollecting resampy==0.2.1\n",
            "\u001b[?25l  Downloading https://files.pythonhosted.org/packages/14/b6/66a06d85474190b50aee1a6c09cdc95bb405ac47338b27e9b21409da1760/resampy-0.2.1.tar.gz (322kB)\n",
            "\u001b[K     |████████████████████████████████| 327kB 68.9MB/s \n",
            "\u001b[?25hRequirement already satisfied: six>=1.10.0 in /usr/local/lib/python3.6/dist-packages (from turicreate) (1.12.0)\n",
            "Requirement already satisfied: prettytable==0.7.2 in /usr/local/lib/python3.6/dist-packages (from turicreate) (0.7.2)\n",
            "Collecting coremltools==3.3\n",
            "\u001b[?25l  Downloading https://files.pythonhosted.org/packages/77/19/611916d1ef326d38857d93af5ba184f6ad7491642e0fa4f9082e7d82f034/coremltools-3.3-cp36-none-manylinux1_x86_64.whl (3.4MB)\n",
            "\u001b[K     |████████████████████████████████| 3.4MB 73.8MB/s \n",
            "\u001b[?25hRequirement already satisfied: pillow>=5.2.0 in /usr/local/lib/python3.6/dist-packages (from turicreate) (7.0.0)\n",
            "Requirement already satisfied: python-dateutil>=2.6.1 in /usr/local/lib/python3.6/dist-packages (from pandas>=0.23.2->turicreate) (2.8.1)\n",
            "Requirement already satisfied: pytz>=2017.2 in /usr/local/lib/python3.6/dist-packages (from pandas>=0.23.2->turicreate) (2018.9)\n",
            "Requirement already satisfied: idna<3,>=2.5 in /usr/local/lib/python3.6/dist-packages (from requests>=2.9.1->turicreate) (2.9)\n",
            "Requirement already satisfied: chardet<4,>=3.0.2 in /usr/local/lib/python3.6/dist-packages (from requests>=2.9.1->turicreate) (3.0.4)\n",
            "Requirement already satisfied: certifi>=2017.4.17 in /usr/local/lib/python3.6/dist-packages (from requests>=2.9.1->turicreate) (2020.4.5.1)\n",
            "Requirement already satisfied: urllib3!=1.25.0,!=1.25.1,<1.26,>=1.21.1 in /usr/local/lib/python3.6/dist-packages (from requests>=2.9.1->turicreate) (1.24.3)\n",
            "Requirement already satisfied: keras-preprocessing>=1.0.5 in /usr/local/lib/python3.6/dist-packages (from tensorflow<=2.0.1,>=2.0.0->turicreate) (1.1.2)\n",
            "Requirement already satisfied: opt-einsum>=2.3.2 in /usr/local/lib/python3.6/dist-packages (from tensorflow<=2.0.1,>=2.0.0->turicreate) (3.2.1)\n",
            "Requirement already satisfied: grpcio>=1.8.6 in /usr/local/lib/python3.6/dist-packages (from tensorflow<=2.0.1,>=2.0.0->turicreate) (1.29.0)\n",
            "Collecting tensorboard<2.1.0,>=2.0.0\n",
            "\u001b[?25l  Downloading https://files.pythonhosted.org/packages/76/54/99b9d5d52d5cb732f099baaaf7740403e83fe6b0cedde940fabd2b13d75a/tensorboard-2.0.2-py3-none-any.whl (3.8MB)\n",
            "\u001b[K     |████████████████████████████████| 3.8MB 70.6MB/s \n",
            "\u001b[?25hRequirement already satisfied: termcolor>=1.1.0 in /usr/local/lib/python3.6/dist-packages (from tensorflow<=2.0.1,>=2.0.0->turicreate) (1.1.0)\n",
            "Collecting gast==0.2.2\n",
            "  Downloading https://files.pythonhosted.org/packages/4e/35/11749bf99b2d4e3cceb4d55ca22590b0d7c2c62b9de38ac4a4a7f4687421/gast-0.2.2.tar.gz\n",
            "Requirement already satisfied: astor>=0.6.0 in /usr/local/lib/python3.6/dist-packages (from tensorflow<=2.0.1,>=2.0.0->turicreate) (0.8.1)\n",
            "Requirement already satisfied: protobuf>=3.6.1 in /usr/local/lib/python3.6/dist-packages (from tensorflow<=2.0.1,>=2.0.0->turicreate) (3.10.0)\n",
            "Requirement already satisfied: wrapt>=1.11.1 in /usr/local/lib/python3.6/dist-packages (from tensorflow<=2.0.1,>=2.0.0->turicreate) (1.12.1)\n",
            "Requirement already satisfied: wheel>=0.26; python_version >= \"3\" in /usr/local/lib/python3.6/dist-packages (from tensorflow<=2.0.1,>=2.0.0->turicreate) (0.34.2)\n",
            "Collecting tensorflow-estimator<2.1.0,>=2.0.0\n",
            "\u001b[?25l  Downloading https://files.pythonhosted.org/packages/fc/08/8b927337b7019c374719145d1dceba21a8bb909b93b1ad6f8fb7d22c1ca1/tensorflow_estimator-2.0.1-py2.py3-none-any.whl (449kB)\n",
            "\u001b[K     |████████████████████████████████| 450kB 60.0MB/s \n",
            "\u001b[?25hRequirement already satisfied: keras-applications>=1.0.8 in /usr/local/lib/python3.6/dist-packages (from tensorflow<=2.0.1,>=2.0.0->turicreate) (1.0.8)\n",
            "Requirement already satisfied: absl-py>=0.7.0 in /usr/local/lib/python3.6/dist-packages (from tensorflow<=2.0.1,>=2.0.0->turicreate) (0.9.0)\n",
            "Requirement already satisfied: google-pasta>=0.1.6 in /usr/local/lib/python3.6/dist-packages (from tensorflow<=2.0.1,>=2.0.0->turicreate) (0.2.0)\n",
            "Requirement already satisfied: numba>=0.32 in /usr/local/lib/python3.6/dist-packages (from resampy==0.2.1->turicreate) (0.48.0)\n",
            "Requirement already satisfied: google-auth-oauthlib<0.5,>=0.4.1 in /usr/local/lib/python3.6/dist-packages (from tensorboard<2.1.0,>=2.0.0->tensorflow<=2.0.1,>=2.0.0->turicreate) (0.4.1)\n",
            "Requirement already satisfied: setuptools>=41.0.0 in /usr/local/lib/python3.6/dist-packages (from tensorboard<2.1.0,>=2.0.0->tensorflow<=2.0.1,>=2.0.0->turicreate) (46.3.0)\n",
            "Requirement already satisfied: google-auth<2,>=1.6.3 in /usr/local/lib/python3.6/dist-packages (from tensorboard<2.1.0,>=2.0.0->tensorflow<=2.0.1,>=2.0.0->turicreate) (1.7.2)\n",
            "Requirement already satisfied: werkzeug>=0.11.15 in /usr/local/lib/python3.6/dist-packages (from tensorboard<2.1.0,>=2.0.0->tensorflow<=2.0.1,>=2.0.0->turicreate) (1.0.1)\n",
            "Requirement already satisfied: markdown>=2.6.8 in /usr/local/lib/python3.6/dist-packages (from tensorboard<2.1.0,>=2.0.0->tensorflow<=2.0.1,>=2.0.0->turicreate) (3.2.2)\n",
            "Requirement already satisfied: h5py in /usr/local/lib/python3.6/dist-packages (from keras-applications>=1.0.8->tensorflow<=2.0.1,>=2.0.0->turicreate) (2.10.0)\n",
            "Requirement already satisfied: llvmlite<0.32.0,>=0.31.0dev0 in /usr/local/lib/python3.6/dist-packages (from numba>=0.32->resampy==0.2.1->turicreate) (0.31.0)\n",
            "Requirement already satisfied: requests-oauthlib>=0.7.0 in /usr/local/lib/python3.6/dist-packages (from google-auth-oauthlib<0.5,>=0.4.1->tensorboard<2.1.0,>=2.0.0->tensorflow<=2.0.1,>=2.0.0->turicreate) (1.3.0)\n",
            "Requirement already satisfied: pyasn1-modules>=0.2.1 in /usr/local/lib/python3.6/dist-packages (from google-auth<2,>=1.6.3->tensorboard<2.1.0,>=2.0.0->tensorflow<=2.0.1,>=2.0.0->turicreate) (0.2.8)\n",
            "Requirement already satisfied: rsa<4.1,>=3.1.4 in /usr/local/lib/python3.6/dist-packages (from google-auth<2,>=1.6.3->tensorboard<2.1.0,>=2.0.0->tensorflow<=2.0.1,>=2.0.0->turicreate) (4.0)\n",
            "Requirement already satisfied: cachetools<3.2,>=2.0.0 in /usr/local/lib/python3.6/dist-packages (from google-auth<2,>=1.6.3->tensorboard<2.1.0,>=2.0.0->tensorflow<=2.0.1,>=2.0.0->turicreate) (3.1.1)\n",
            "Requirement already satisfied: importlib-metadata; python_version < \"3.8\" in /usr/local/lib/python3.6/dist-packages (from markdown>=2.6.8->tensorboard<2.1.0,>=2.0.0->tensorflow<=2.0.1,>=2.0.0->turicreate) (1.6.0)\n",
            "Requirement already satisfied: oauthlib>=3.0.0 in /usr/local/lib/python3.6/dist-packages (from requests-oauthlib>=0.7.0->google-auth-oauthlib<0.5,>=0.4.1->tensorboard<2.1.0,>=2.0.0->tensorflow<=2.0.1,>=2.0.0->turicreate) (3.1.0)\n",
            "Requirement already satisfied: pyasn1<0.5.0,>=0.4.6 in /usr/local/lib/python3.6/dist-packages (from pyasn1-modules>=0.2.1->google-auth<2,>=1.6.3->tensorboard<2.1.0,>=2.0.0->tensorflow<=2.0.1,>=2.0.0->turicreate) (0.4.8)\n",
            "Requirement already satisfied: zipp>=0.5 in /usr/local/lib/python3.6/dist-packages (from importlib-metadata; python_version < \"3.8\"->markdown>=2.6.8->tensorboard<2.1.0,>=2.0.0->tensorflow<=2.0.1,>=2.0.0->turicreate) (3.1.0)\n",
            "Building wheels for collected packages: resampy, gast\n",
            "  Building wheel for resampy (setup.py) ... \u001b[?25l\u001b[?25hdone\n",
            "  Created wheel for resampy: filename=resampy-0.2.1-cp36-none-any.whl size=320850 sha256=f624664be1924b0762b8efa597c50dc10ac021681760618730f351ea3ba879ef\n",
            "  Stored in directory: /root/.cache/pip/wheels/ff/4f/ed/2e6c676c23efe5394bb40ade50662e90eb46e29b48324c5f9b\n",
            "  Building wheel for gast (setup.py) ... \u001b[?25l\u001b[?25hdone\n",
            "  Created wheel for gast: filename=gast-0.2.2-cp36-none-any.whl size=7540 sha256=b331216e731cc2785110bf8c6653fb5252ef8fb9b708e589bdd36867b9767527\n",
            "  Stored in directory: /root/.cache/pip/wheels/5c/2e/7e/a1d4d4fcebe6c381f378ce7743a3ced3699feb89bcfbdadadd\n",
            "Successfully built resampy gast\n",
            "\u001b[31mERROR: tensorflow-probability 0.10.0 has requirement gast>=0.3.2, but you'll have gast 0.2.2 which is incompatible.\u001b[0m\n",
            "Installing collected packages: tensorboard, gast, tensorflow-estimator, tensorflow, resampy, coremltools, turicreate\n",
            "  Found existing installation: tensorboard 2.2.1\n",
            "    Uninstalling tensorboard-2.2.1:\n",
            "      Successfully uninstalled tensorboard-2.2.1\n",
            "  Found existing installation: gast 0.3.3\n",
            "    Uninstalling gast-0.3.3:\n",
            "      Successfully uninstalled gast-0.3.3\n",
            "  Found existing installation: tensorflow-estimator 2.2.0\n",
            "    Uninstalling tensorflow-estimator-2.2.0:\n",
            "      Successfully uninstalled tensorflow-estimator-2.2.0\n",
            "  Found existing installation: tensorflow 2.2.0\n",
            "    Uninstalling tensorflow-2.2.0:\n",
            "      Successfully uninstalled tensorflow-2.2.0\n",
            "  Found existing installation: resampy 0.2.2\n",
            "    Uninstalling resampy-0.2.2:\n",
            "      Successfully uninstalled resampy-0.2.2\n",
            "Successfully installed coremltools-3.3 gast-0.2.2 resampy-0.2.1 tensorboard-2.0.2 tensorflow-2.0.1 tensorflow-estimator-2.0.1 turicreate-6.2.2\n"
          ],
          "name": "stdout"
        }
      ]
    },
    {
      "cell_type": "code",
      "metadata": {
        "id": "z2xtYP4UDq09",
        "colab_type": "code",
        "outputId": "267a8e97-f3a5-44fb-f5e8-4fdcb205b17c",
        "colab": {
          "base_uri": "https://localhost:8080/",
          "height": 51
        }
      },
      "source": [
        "!pip uninstall -y tensorflow\n"
      ],
      "execution_count": 3,
      "outputs": [
        {
          "output_type": "stream",
          "text": [
            "Uninstalling tensorflow-2.0.1:\n",
            "  Successfully uninstalled tensorflow-2.0.1\n"
          ],
          "name": "stdout"
        }
      ]
    },
    {
      "cell_type": "code",
      "metadata": {
        "id": "-XHr98p4D4_d",
        "colab_type": "code",
        "outputId": "504c0ee2-9aa3-4946-e4d0-88f2a0603e2c",
        "colab": {
          "base_uri": "https://localhost:8080/",
          "height": 972
        }
      },
      "source": [
        "!pip install tensorflow-gpu"
      ],
      "execution_count": 4,
      "outputs": [
        {
          "output_type": "stream",
          "text": [
            "Collecting tensorflow-gpu\n",
            "\u001b[?25l  Downloading https://files.pythonhosted.org/packages/31/bf/c28971266ca854a64f4b26f07c4112ddd61f30b4d1f18108b954a746f8ea/tensorflow_gpu-2.2.0-cp36-cp36m-manylinux2010_x86_64.whl (516.2MB)\n",
            "\u001b[K     |████████████████████████████████| 516.2MB 28kB/s \n",
            "\u001b[?25hCollecting gast==0.3.3\n",
            "  Downloading https://files.pythonhosted.org/packages/d6/84/759f5dd23fec8ba71952d97bcc7e2c9d7d63bdc582421f3cd4be845f0c98/gast-0.3.3-py2.py3-none-any.whl\n",
            "Collecting tensorboard<2.3.0,>=2.2.0\n",
            "\u001b[?25l  Downloading https://files.pythonhosted.org/packages/1d/fd/4f3ca1516cbb3713259ef229abd9314bba0077ef6070285dde0dd1ed21b2/tensorboard-2.2.1-py3-none-any.whl (3.0MB)\n",
            "\u001b[K     |████████████████████████████████| 3.0MB 38.9MB/s \n",
            "\u001b[?25hRequirement already satisfied: wheel>=0.26; python_version >= \"3\" in /usr/local/lib/python3.6/dist-packages (from tensorflow-gpu) (0.34.2)\n",
            "Collecting tensorflow-estimator<2.3.0,>=2.2.0\n",
            "\u001b[?25l  Downloading https://files.pythonhosted.org/packages/a4/f5/926ae53d6a226ec0fda5208e0e581cffed895ccc89e36ba76a8e60895b78/tensorflow_estimator-2.2.0-py2.py3-none-any.whl (454kB)\n",
            "\u001b[K     |████████████████████████████████| 460kB 66.5MB/s \n",
            "\u001b[?25hRequirement already satisfied: astunparse==1.6.3 in /usr/local/lib/python3.6/dist-packages (from tensorflow-gpu) (1.6.3)\n",
            "Requirement already satisfied: opt-einsum>=2.3.2 in /usr/local/lib/python3.6/dist-packages (from tensorflow-gpu) (3.2.1)\n",
            "Requirement already satisfied: termcolor>=1.1.0 in /usr/local/lib/python3.6/dist-packages (from tensorflow-gpu) (1.1.0)\n",
            "Requirement already satisfied: google-pasta>=0.1.8 in /usr/local/lib/python3.6/dist-packages (from tensorflow-gpu) (0.2.0)\n",
            "Requirement already satisfied: wrapt>=1.11.1 in /usr/local/lib/python3.6/dist-packages (from tensorflow-gpu) (1.12.1)\n",
            "Requirement already satisfied: h5py<2.11.0,>=2.10.0 in /usr/local/lib/python3.6/dist-packages (from tensorflow-gpu) (2.10.0)\n",
            "Requirement already satisfied: numpy<2.0,>=1.16.0 in /usr/local/lib/python3.6/dist-packages (from tensorflow-gpu) (1.18.4)\n",
            "Requirement already satisfied: absl-py>=0.7.0 in /usr/local/lib/python3.6/dist-packages (from tensorflow-gpu) (0.9.0)\n",
            "Requirement already satisfied: scipy==1.4.1; python_version >= \"3\" in /usr/local/lib/python3.6/dist-packages (from tensorflow-gpu) (1.4.1)\n",
            "Requirement already satisfied: protobuf>=3.8.0 in /usr/local/lib/python3.6/dist-packages (from tensorflow-gpu) (3.10.0)\n",
            "Requirement already satisfied: grpcio>=1.8.6 in /usr/local/lib/python3.6/dist-packages (from tensorflow-gpu) (1.29.0)\n",
            "Requirement already satisfied: six>=1.12.0 in /usr/local/lib/python3.6/dist-packages (from tensorflow-gpu) (1.12.0)\n",
            "Requirement already satisfied: keras-preprocessing>=1.1.0 in /usr/local/lib/python3.6/dist-packages (from tensorflow-gpu) (1.1.2)\n",
            "Requirement already satisfied: requests<3,>=2.21.0 in /usr/local/lib/python3.6/dist-packages (from tensorboard<2.3.0,>=2.2.0->tensorflow-gpu) (2.23.0)\n",
            "Requirement already satisfied: tensorboard-plugin-wit>=1.6.0 in /usr/local/lib/python3.6/dist-packages (from tensorboard<2.3.0,>=2.2.0->tensorflow-gpu) (1.6.0.post3)\n",
            "Requirement already satisfied: markdown>=2.6.8 in /usr/local/lib/python3.6/dist-packages (from tensorboard<2.3.0,>=2.2.0->tensorflow-gpu) (3.2.2)\n",
            "Requirement already satisfied: werkzeug>=0.11.15 in /usr/local/lib/python3.6/dist-packages (from tensorboard<2.3.0,>=2.2.0->tensorflow-gpu) (1.0.1)\n",
            "Requirement already satisfied: setuptools>=41.0.0 in /usr/local/lib/python3.6/dist-packages (from tensorboard<2.3.0,>=2.2.0->tensorflow-gpu) (46.3.0)\n",
            "Requirement already satisfied: google-auth-oauthlib<0.5,>=0.4.1 in /usr/local/lib/python3.6/dist-packages (from tensorboard<2.3.0,>=2.2.0->tensorflow-gpu) (0.4.1)\n",
            "Requirement already satisfied: google-auth<2,>=1.6.3 in /usr/local/lib/python3.6/dist-packages (from tensorboard<2.3.0,>=2.2.0->tensorflow-gpu) (1.7.2)\n",
            "Requirement already satisfied: idna<3,>=2.5 in /usr/local/lib/python3.6/dist-packages (from requests<3,>=2.21.0->tensorboard<2.3.0,>=2.2.0->tensorflow-gpu) (2.9)\n",
            "Requirement already satisfied: urllib3!=1.25.0,!=1.25.1,<1.26,>=1.21.1 in /usr/local/lib/python3.6/dist-packages (from requests<3,>=2.21.0->tensorboard<2.3.0,>=2.2.0->tensorflow-gpu) (1.24.3)\n",
            "Requirement already satisfied: certifi>=2017.4.17 in /usr/local/lib/python3.6/dist-packages (from requests<3,>=2.21.0->tensorboard<2.3.0,>=2.2.0->tensorflow-gpu) (2020.4.5.1)\n",
            "Requirement already satisfied: chardet<4,>=3.0.2 in /usr/local/lib/python3.6/dist-packages (from requests<3,>=2.21.0->tensorboard<2.3.0,>=2.2.0->tensorflow-gpu) (3.0.4)\n",
            "Requirement already satisfied: importlib-metadata; python_version < \"3.8\" in /usr/local/lib/python3.6/dist-packages (from markdown>=2.6.8->tensorboard<2.3.0,>=2.2.0->tensorflow-gpu) (1.6.0)\n",
            "Requirement already satisfied: requests-oauthlib>=0.7.0 in /usr/local/lib/python3.6/dist-packages (from google-auth-oauthlib<0.5,>=0.4.1->tensorboard<2.3.0,>=2.2.0->tensorflow-gpu) (1.3.0)\n",
            "Requirement already satisfied: rsa<4.1,>=3.1.4 in /usr/local/lib/python3.6/dist-packages (from google-auth<2,>=1.6.3->tensorboard<2.3.0,>=2.2.0->tensorflow-gpu) (4.0)\n",
            "Requirement already satisfied: pyasn1-modules>=0.2.1 in /usr/local/lib/python3.6/dist-packages (from google-auth<2,>=1.6.3->tensorboard<2.3.0,>=2.2.0->tensorflow-gpu) (0.2.8)\n",
            "Requirement already satisfied: cachetools<3.2,>=2.0.0 in /usr/local/lib/python3.6/dist-packages (from google-auth<2,>=1.6.3->tensorboard<2.3.0,>=2.2.0->tensorflow-gpu) (3.1.1)\n",
            "Requirement already satisfied: zipp>=0.5 in /usr/local/lib/python3.6/dist-packages (from importlib-metadata; python_version < \"3.8\"->markdown>=2.6.8->tensorboard<2.3.0,>=2.2.0->tensorflow-gpu) (3.1.0)\n",
            "Requirement already satisfied: oauthlib>=3.0.0 in /usr/local/lib/python3.6/dist-packages (from requests-oauthlib>=0.7.0->google-auth-oauthlib<0.5,>=0.4.1->tensorboard<2.3.0,>=2.2.0->tensorflow-gpu) (3.1.0)\n",
            "Requirement already satisfied: pyasn1>=0.1.3 in /usr/local/lib/python3.6/dist-packages (from rsa<4.1,>=3.1.4->google-auth<2,>=1.6.3->tensorboard<2.3.0,>=2.2.0->tensorflow-gpu) (0.4.8)\n",
            "Installing collected packages: gast, tensorboard, tensorflow-estimator, tensorflow-gpu\n",
            "  Found existing installation: gast 0.2.2\n",
            "    Uninstalling gast-0.2.2:\n",
            "      Successfully uninstalled gast-0.2.2\n",
            "  Found existing installation: tensorboard 2.0.2\n",
            "    Uninstalling tensorboard-2.0.2:\n",
            "      Successfully uninstalled tensorboard-2.0.2\n",
            "  Found existing installation: tensorflow-estimator 2.0.1\n",
            "    Uninstalling tensorflow-estimator-2.0.1:\n",
            "      Successfully uninstalled tensorflow-estimator-2.0.1\n",
            "Successfully installed gast-0.3.3 tensorboard-2.2.1 tensorflow-estimator-2.2.0 tensorflow-gpu-2.2.0\n"
          ],
          "name": "stdout"
        }
      ]
    },
    {
      "cell_type": "markdown",
      "metadata": {
        "id": "WAXm5-1yIUJk",
        "colab_type": "text"
      },
      "source": [
        "Load Turi Create and set variables needed for working with sframe and saving model output"
      ]
    },
    {
      "cell_type": "code",
      "metadata": {
        "id": "7ziq5byP4EzD",
        "colab_type": "code",
        "colab": {}
      },
      "source": [
        "import turicreate as tc\n",
        "\n",
        "# set ref variables used below\n",
        "sFrameNameStr = 'ig03.sframe'\n",
        "model_path = 'drive/My Drive/Data/model_data/'\n",
        "sFrameName = model_path + sFrameNameStr\n",
        "model_name = 'card_model_0_2'\n",
        "iterations = 3000"
      ],
      "execution_count": 0,
      "outputs": []
    },
    {
      "cell_type": "markdown",
      "metadata": {
        "id": "OoT6jU1nID5j",
        "colab_type": "text"
      },
      "source": [
        "Set the environment variable for GPU detection of CUDA"
      ]
    },
    {
      "cell_type": "code",
      "metadata": {
        "id": "evMZL2tWDzst",
        "colab_type": "code",
        "colab": {}
      },
      "source": [
        "!export LD_LIBRARY_PATH=/usr/local/cuda/lib64:$LD_LIBRARY_PATH"
      ],
      "execution_count": 0,
      "outputs": []
    },
    {
      "cell_type": "markdown",
      "metadata": {
        "id": "vJUYDfGv4Agk",
        "colab_type": "text"
      },
      "source": [
        "## Train a model based on the data created above"
      ]
    },
    {
      "cell_type": "code",
      "metadata": {
        "id": "B894Rzt722K9",
        "colab_type": "code",
        "outputId": "bd0a9e3e-6c45-447b-f150-cbbb2b3b2e68",
        "colab": {
          "base_uri": "https://localhost:8080/",
          "height": 1000
        }
      },
      "source": [
        "# make sure all gpus are used\n",
        "tc.config.set_num_gpus(-1)\n",
        "\n",
        "# Load the data\n",
        "data = tc.SFrame(sFrameName)\n",
        "\n",
        "# Make a train-test split\n",
        "train_data, test_data = data.random_split(0.8)\n",
        "\n",
        "# Create a model\n",
        "model = tc.object_detector.create(train_data, max_iterations=iterations)\n"
      ],
      "execution_count": 0,
      "outputs": [
        {
          "output_type": "stream",
          "text": [
            "Using 'image' as feature column\n",
            "Using 'annotations' as annotations column\n"
          ],
          "name": "stdout"
        },
        {
          "output_type": "display_data",
          "data": {
            "text/html": [
              "<pre>Using a GPU to create model.</pre>"
            ],
            "text/plain": [
              "Using a GPU to create model."
            ]
          },
          "metadata": {
            "tags": []
          }
        },
        {
          "output_type": "stream",
          "text": [
            "WARNING:tensorflow:From /usr/local/lib/python3.6/dist-packages/tensorflow/python/compat/v2_compat.py:96: disable_resource_variables (from tensorflow.python.ops.variable_scope) is deprecated and will be removed in a future version.\n",
            "Instructions for updating:\n",
            "non-resource variables are not supported in the long term\n"
          ],
          "name": "stdout"
        },
        {
          "output_type": "display_data",
          "data": {
            "text/html": [
              "<pre>Setting 'batch_size' to 32</pre>"
            ],
            "text/plain": [
              "Setting 'batch_size' to 32"
            ]
          },
          "metadata": {
            "tags": []
          }
        },
        {
          "output_type": "display_data",
          "data": {
            "text/html": [
              "<pre>+--------------+--------------+--------------+</pre>"
            ],
            "text/plain": [
              "+--------------+--------------+--------------+"
            ]
          },
          "metadata": {
            "tags": []
          }
        },
        {
          "output_type": "display_data",
          "data": {
            "text/html": [
              "<pre>| Iteration    | Loss         | Elapsed Time |</pre>"
            ],
            "text/plain": [
              "| Iteration    | Loss         | Elapsed Time |"
            ]
          },
          "metadata": {
            "tags": []
          }
        },
        {
          "output_type": "display_data",
          "data": {
            "text/html": [
              "<pre>+--------------+--------------+--------------+</pre>"
            ],
            "text/plain": [
              "+--------------+--------------+--------------+"
            ]
          },
          "metadata": {
            "tags": []
          }
        },
        {
          "output_type": "display_data",
          "data": {
            "text/html": [
              "<pre>| 1            | 13.8859      | 18.20s       |</pre>"
            ],
            "text/plain": [
              "| 1            | 13.8859      | 18.20s       |"
            ]
          },
          "metadata": {
            "tags": []
          }
        },
        {
          "output_type": "display_data",
          "data": {
            "text/html": [
              "<pre>| 2            | 13.8683      | 20.24s       |</pre>"
            ],
            "text/plain": [
              "| 2            | 13.8683      | 20.24s       |"
            ]
          },
          "metadata": {
            "tags": []
          }
        },
        {
          "output_type": "display_data",
          "data": {
            "text/html": [
              "<pre>| 3            | 13.8735      | 22.33s       |</pre>"
            ],
            "text/plain": [
              "| 3            | 13.8735      | 22.33s       |"
            ]
          },
          "metadata": {
            "tags": []
          }
        },
        {
          "output_type": "display_data",
          "data": {
            "text/html": [
              "<pre>| 4            | 13.8533      | 24.41s       |</pre>"
            ],
            "text/plain": [
              "| 4            | 13.8533      | 24.41s       |"
            ]
          },
          "metadata": {
            "tags": []
          }
        },
        {
          "output_type": "display_data",
          "data": {
            "text/html": [
              "<pre>| 5            | 13.8457      | 26.45s       |</pre>"
            ],
            "text/plain": [
              "| 5            | 13.8457      | 26.45s       |"
            ]
          },
          "metadata": {
            "tags": []
          }
        },
        {
          "output_type": "display_data",
          "data": {
            "text/html": [
              "<pre>| 10           | 13.719       | 36.80s       |</pre>"
            ],
            "text/plain": [
              "| 10           | 13.719       | 36.80s       |"
            ]
          },
          "metadata": {
            "tags": []
          }
        },
        {
          "output_type": "display_data",
          "data": {
            "text/html": [
              "<pre>| 15           | 13.5307      | 47.14s       |</pre>"
            ],
            "text/plain": [
              "| 15           | 13.5307      | 47.14s       |"
            ]
          },
          "metadata": {
            "tags": []
          }
        },
        {
          "output_type": "display_data",
          "data": {
            "text/html": [
              "<pre>| 20           | 13.3309      | 57.62s       |</pre>"
            ],
            "text/plain": [
              "| 20           | 13.3309      | 57.62s       |"
            ]
          },
          "metadata": {
            "tags": []
          }
        },
        {
          "output_type": "display_data",
          "data": {
            "text/html": [
              "<pre>| 25           | 13.0714      | 1m 8s        |</pre>"
            ],
            "text/plain": [
              "| 25           | 13.0714      | 1m 8s        |"
            ]
          },
          "metadata": {
            "tags": []
          }
        },
        {
          "output_type": "display_data",
          "data": {
            "text/html": [
              "<pre>| 30           | 12.7014      | 1m 18s       |</pre>"
            ],
            "text/plain": [
              "| 30           | 12.7014      | 1m 18s       |"
            ]
          },
          "metadata": {
            "tags": []
          }
        },
        {
          "output_type": "display_data",
          "data": {
            "text/html": [
              "<pre>| 35           | 12.3527      | 1m 29s       |</pre>"
            ],
            "text/plain": [
              "| 35           | 12.3527      | 1m 29s       |"
            ]
          },
          "metadata": {
            "tags": []
          }
        },
        {
          "output_type": "display_data",
          "data": {
            "text/html": [
              "<pre>| 40           | 12.1489      | 1m 39s       |</pre>"
            ],
            "text/plain": [
              "| 40           | 12.1489      | 1m 39s       |"
            ]
          },
          "metadata": {
            "tags": []
          }
        },
        {
          "output_type": "display_data",
          "data": {
            "text/html": [
              "<pre>| 45           | 11.8807      | 1m 49s       |</pre>"
            ],
            "text/plain": [
              "| 45           | 11.8807      | 1m 49s       |"
            ]
          },
          "metadata": {
            "tags": []
          }
        },
        {
          "output_type": "display_data",
          "data": {
            "text/html": [
              "<pre>| 50           | 11.6503      | 2m 0s        |</pre>"
            ],
            "text/plain": [
              "| 50           | 11.6503      | 2m 0s        |"
            ]
          },
          "metadata": {
            "tags": []
          }
        },
        {
          "output_type": "display_data",
          "data": {
            "text/html": [
              "<pre>| 55           | 11.4635      | 2m 10s       |</pre>"
            ],
            "text/plain": [
              "| 55           | 11.4635      | 2m 10s       |"
            ]
          },
          "metadata": {
            "tags": []
          }
        },
        {
          "output_type": "display_data",
          "data": {
            "text/html": [
              "<pre>| 60           | 11.1551      | 2m 21s       |</pre>"
            ],
            "text/plain": [
              "| 60           | 11.1551      | 2m 21s       |"
            ]
          },
          "metadata": {
            "tags": []
          }
        },
        {
          "output_type": "display_data",
          "data": {
            "text/html": [
              "<pre>| 65           | 10.9114      | 2m 31s       |</pre>"
            ],
            "text/plain": [
              "| 65           | 10.9114      | 2m 31s       |"
            ]
          },
          "metadata": {
            "tags": []
          }
        },
        {
          "output_type": "display_data",
          "data": {
            "text/html": [
              "<pre>| 70           | 10.7091      | 2m 42s       |</pre>"
            ],
            "text/plain": [
              "| 70           | 10.7091      | 2m 42s       |"
            ]
          },
          "metadata": {
            "tags": []
          }
        },
        {
          "output_type": "display_data",
          "data": {
            "text/html": [
              "<pre>| 75           | 10.5637      | 2m 52s       |</pre>"
            ],
            "text/plain": [
              "| 75           | 10.5637      | 2m 52s       |"
            ]
          },
          "metadata": {
            "tags": []
          }
        },
        {
          "output_type": "display_data",
          "data": {
            "text/html": [
              "<pre>| 80           | 10.2895      | 3m 2s        |</pre>"
            ],
            "text/plain": [
              "| 80           | 10.2895      | 3m 2s        |"
            ]
          },
          "metadata": {
            "tags": []
          }
        },
        {
          "output_type": "display_data",
          "data": {
            "text/html": [
              "<pre>| 85           | 10.1148      | 3m 12s       |</pre>"
            ],
            "text/plain": [
              "| 85           | 10.1148      | 3m 12s       |"
            ]
          },
          "metadata": {
            "tags": []
          }
        },
        {
          "output_type": "display_data",
          "data": {
            "text/html": [
              "<pre>| 90           | 9.94386      | 3m 23s       |</pre>"
            ],
            "text/plain": [
              "| 90           | 9.94386      | 3m 23s       |"
            ]
          },
          "metadata": {
            "tags": []
          }
        },
        {
          "output_type": "display_data",
          "data": {
            "text/html": [
              "<pre>| 95           | 9.75645      | 3m 34s       |</pre>"
            ],
            "text/plain": [
              "| 95           | 9.75645      | 3m 34s       |"
            ]
          },
          "metadata": {
            "tags": []
          }
        },
        {
          "output_type": "display_data",
          "data": {
            "text/html": [
              "<pre>| 100          | 9.6279       | 3m 44s       |</pre>"
            ],
            "text/plain": [
              "| 100          | 9.6279       | 3m 44s       |"
            ]
          },
          "metadata": {
            "tags": []
          }
        },
        {
          "output_type": "display_data",
          "data": {
            "text/html": [
              "<pre>| 105          | 9.44793      | 3m 54s       |</pre>"
            ],
            "text/plain": [
              "| 105          | 9.44793      | 3m 54s       |"
            ]
          },
          "metadata": {
            "tags": []
          }
        },
        {
          "output_type": "display_data",
          "data": {
            "text/html": [
              "<pre>| 110          | 9.32166      | 4m 5s        |</pre>"
            ],
            "text/plain": [
              "| 110          | 9.32166      | 4m 5s        |"
            ]
          },
          "metadata": {
            "tags": []
          }
        },
        {
          "output_type": "display_data",
          "data": {
            "text/html": [
              "<pre>| 115          | 9.15929      | 4m 15s       |</pre>"
            ],
            "text/plain": [
              "| 115          | 9.15929      | 4m 15s       |"
            ]
          },
          "metadata": {
            "tags": []
          }
        },
        {
          "output_type": "display_data",
          "data": {
            "text/html": [
              "<pre>| 120          | 9.03623      | 4m 26s       |</pre>"
            ],
            "text/plain": [
              "| 120          | 9.03623      | 4m 26s       |"
            ]
          },
          "metadata": {
            "tags": []
          }
        },
        {
          "output_type": "display_data",
          "data": {
            "text/html": [
              "<pre>| 125          | 8.9621       | 4m 36s       |</pre>"
            ],
            "text/plain": [
              "| 125          | 8.9621       | 4m 36s       |"
            ]
          },
          "metadata": {
            "tags": []
          }
        },
        {
          "output_type": "display_data",
          "data": {
            "text/html": [
              "<pre>| 130          | 8.77782      | 4m 46s       |</pre>"
            ],
            "text/plain": [
              "| 130          | 8.77782      | 4m 46s       |"
            ]
          },
          "metadata": {
            "tags": []
          }
        },
        {
          "output_type": "display_data",
          "data": {
            "text/html": [
              "<pre>| 135          | 8.66596      | 4m 57s       |</pre>"
            ],
            "text/plain": [
              "| 135          | 8.66596      | 4m 57s       |"
            ]
          },
          "metadata": {
            "tags": []
          }
        },
        {
          "output_type": "display_data",
          "data": {
            "text/html": [
              "<pre>| 140          | 8.52221      | 5m 7s        |</pre>"
            ],
            "text/plain": [
              "| 140          | 8.52221      | 5m 7s        |"
            ]
          },
          "metadata": {
            "tags": []
          }
        },
        {
          "output_type": "display_data",
          "data": {
            "text/html": [
              "<pre>| 145          | 8.41868      | 5m 17s       |</pre>"
            ],
            "text/plain": [
              "| 145          | 8.41868      | 5m 17s       |"
            ]
          },
          "metadata": {
            "tags": []
          }
        },
        {
          "output_type": "display_data",
          "data": {
            "text/html": [
              "<pre>| 150          | 8.4396       | 5m 28s       |</pre>"
            ],
            "text/plain": [
              "| 150          | 8.4396       | 5m 28s       |"
            ]
          },
          "metadata": {
            "tags": []
          }
        },
        {
          "output_type": "display_data",
          "data": {
            "text/html": [
              "<pre>| 155          | 8.23798      | 5m 38s       |</pre>"
            ],
            "text/plain": [
              "| 155          | 8.23798      | 5m 38s       |"
            ]
          },
          "metadata": {
            "tags": []
          }
        },
        {
          "output_type": "display_data",
          "data": {
            "text/html": [
              "<pre>| 160          | 8.22015      | 5m 49s       |</pre>"
            ],
            "text/plain": [
              "| 160          | 8.22015      | 5m 49s       |"
            ]
          },
          "metadata": {
            "tags": []
          }
        },
        {
          "output_type": "display_data",
          "data": {
            "text/html": [
              "<pre>| 165          | 8.20384      | 5m 59s       |</pre>"
            ],
            "text/plain": [
              "| 165          | 8.20384      | 5m 59s       |"
            ]
          },
          "metadata": {
            "tags": []
          }
        },
        {
          "output_type": "display_data",
          "data": {
            "text/html": [
              "<pre>| 170          | 8.16716      | 6m 10s       |</pre>"
            ],
            "text/plain": [
              "| 170          | 8.16716      | 6m 10s       |"
            ]
          },
          "metadata": {
            "tags": []
          }
        },
        {
          "output_type": "display_data",
          "data": {
            "text/html": [
              "<pre>| 175          | 8.08321      | 6m 20s       |</pre>"
            ],
            "text/plain": [
              "| 175          | 8.08321      | 6m 20s       |"
            ]
          },
          "metadata": {
            "tags": []
          }
        },
        {
          "output_type": "display_data",
          "data": {
            "text/html": [
              "<pre>| 180          | 8.06932      | 6m 31s       |</pre>"
            ],
            "text/plain": [
              "| 180          | 8.06932      | 6m 31s       |"
            ]
          },
          "metadata": {
            "tags": []
          }
        },
        {
          "output_type": "display_data",
          "data": {
            "text/html": [
              "<pre>| 185          | 7.96413      | 6m 41s       |</pre>"
            ],
            "text/plain": [
              "| 185          | 7.96413      | 6m 41s       |"
            ]
          },
          "metadata": {
            "tags": []
          }
        },
        {
          "output_type": "display_data",
          "data": {
            "text/html": [
              "<pre>| 190          | 7.83839      | 6m 51s       |</pre>"
            ],
            "text/plain": [
              "| 190          | 7.83839      | 6m 51s       |"
            ]
          },
          "metadata": {
            "tags": []
          }
        },
        {
          "output_type": "display_data",
          "data": {
            "text/html": [
              "<pre>| 195          | 7.77575      | 7m 2s        |</pre>"
            ],
            "text/plain": [
              "| 195          | 7.77575      | 7m 2s        |"
            ]
          },
          "metadata": {
            "tags": []
          }
        },
        {
          "output_type": "display_data",
          "data": {
            "text/html": [
              "<pre>| 200          | 7.53275      | 7m 12s       |</pre>"
            ],
            "text/plain": [
              "| 200          | 7.53275      | 7m 12s       |"
            ]
          },
          "metadata": {
            "tags": []
          }
        },
        {
          "output_type": "display_data",
          "data": {
            "text/html": [
              "<pre>| 205          | 7.57194      | 7m 22s       |</pre>"
            ],
            "text/plain": [
              "| 205          | 7.57194      | 7m 22s       |"
            ]
          },
          "metadata": {
            "tags": []
          }
        },
        {
          "output_type": "display_data",
          "data": {
            "text/html": [
              "<pre>| 210          | 7.57079      | 7m 32s       |</pre>"
            ],
            "text/plain": [
              "| 210          | 7.57079      | 7m 32s       |"
            ]
          },
          "metadata": {
            "tags": []
          }
        },
        {
          "output_type": "display_data",
          "data": {
            "text/html": [
              "<pre>| 215          | 7.48948      | 7m 43s       |</pre>"
            ],
            "text/plain": [
              "| 215          | 7.48948      | 7m 43s       |"
            ]
          },
          "metadata": {
            "tags": []
          }
        },
        {
          "output_type": "display_data",
          "data": {
            "text/html": [
              "<pre>| 220          | 7.45306      | 7m 53s       |</pre>"
            ],
            "text/plain": [
              "| 220          | 7.45306      | 7m 53s       |"
            ]
          },
          "metadata": {
            "tags": []
          }
        },
        {
          "output_type": "display_data",
          "data": {
            "text/html": [
              "<pre>| 225          | 7.40127      | 8m 4s        |</pre>"
            ],
            "text/plain": [
              "| 225          | 7.40127      | 8m 4s        |"
            ]
          },
          "metadata": {
            "tags": []
          }
        },
        {
          "output_type": "display_data",
          "data": {
            "text/html": [
              "<pre>| 230          | 7.36953      | 8m 14s       |</pre>"
            ],
            "text/plain": [
              "| 230          | 7.36953      | 8m 14s       |"
            ]
          },
          "metadata": {
            "tags": []
          }
        },
        {
          "output_type": "display_data",
          "data": {
            "text/html": [
              "<pre>| 235          | 7.27657      | 8m 24s       |</pre>"
            ],
            "text/plain": [
              "| 235          | 7.27657      | 8m 24s       |"
            ]
          },
          "metadata": {
            "tags": []
          }
        },
        {
          "output_type": "display_data",
          "data": {
            "text/html": [
              "<pre>| 240          | 7.26601      | 8m 35s       |</pre>"
            ],
            "text/plain": [
              "| 240          | 7.26601      | 8m 35s       |"
            ]
          },
          "metadata": {
            "tags": []
          }
        },
        {
          "output_type": "display_data",
          "data": {
            "text/html": [
              "<pre>| 245          | 7.19211      | 8m 45s       |</pre>"
            ],
            "text/plain": [
              "| 245          | 7.19211      | 8m 45s       |"
            ]
          },
          "metadata": {
            "tags": []
          }
        },
        {
          "output_type": "display_data",
          "data": {
            "text/html": [
              "<pre>| 250          | 7.11138      | 8m 56s       |</pre>"
            ],
            "text/plain": [
              "| 250          | 7.11138      | 8m 56s       |"
            ]
          },
          "metadata": {
            "tags": []
          }
        },
        {
          "output_type": "display_data",
          "data": {
            "text/html": [
              "<pre>| 255          | 7.02208      | 9m 6s        |</pre>"
            ],
            "text/plain": [
              "| 255          | 7.02208      | 9m 6s        |"
            ]
          },
          "metadata": {
            "tags": []
          }
        },
        {
          "output_type": "display_data",
          "data": {
            "text/html": [
              "<pre>| 260          | 7.00932      | 9m 16s       |</pre>"
            ],
            "text/plain": [
              "| 260          | 7.00932      | 9m 16s       |"
            ]
          },
          "metadata": {
            "tags": []
          }
        },
        {
          "output_type": "display_data",
          "data": {
            "text/html": [
              "<pre>| 265          | 6.90055      | 9m 27s       |</pre>"
            ],
            "text/plain": [
              "| 265          | 6.90055      | 9m 27s       |"
            ]
          },
          "metadata": {
            "tags": []
          }
        },
        {
          "output_type": "display_data",
          "data": {
            "text/html": [
              "<pre>| 270          | 6.83298      | 9m 37s       |</pre>"
            ],
            "text/plain": [
              "| 270          | 6.83298      | 9m 37s       |"
            ]
          },
          "metadata": {
            "tags": []
          }
        },
        {
          "output_type": "display_data",
          "data": {
            "text/html": [
              "<pre>| 275          | 6.77692      | 9m 48s       |</pre>"
            ],
            "text/plain": [
              "| 275          | 6.77692      | 9m 48s       |"
            ]
          },
          "metadata": {
            "tags": []
          }
        },
        {
          "output_type": "display_data",
          "data": {
            "text/html": [
              "<pre>| 280          | 6.70674      | 9m 58s       |</pre>"
            ],
            "text/plain": [
              "| 280          | 6.70674      | 9m 58s       |"
            ]
          },
          "metadata": {
            "tags": []
          }
        },
        {
          "output_type": "display_data",
          "data": {
            "text/html": [
              "<pre>| 285          | 6.66591      | 10m 8s       |</pre>"
            ],
            "text/plain": [
              "| 285          | 6.66591      | 10m 8s       |"
            ]
          },
          "metadata": {
            "tags": []
          }
        },
        {
          "output_type": "display_data",
          "data": {
            "text/html": [
              "<pre>| 290          | 6.64628      | 10m 19s      |</pre>"
            ],
            "text/plain": [
              "| 290          | 6.64628      | 10m 19s      |"
            ]
          },
          "metadata": {
            "tags": []
          }
        },
        {
          "output_type": "display_data",
          "data": {
            "text/html": [
              "<pre>| 295          | 6.53808      | 10m 29s      |</pre>"
            ],
            "text/plain": [
              "| 295          | 6.53808      | 10m 29s      |"
            ]
          },
          "metadata": {
            "tags": []
          }
        },
        {
          "output_type": "display_data",
          "data": {
            "text/html": [
              "<pre>| 300          | 6.56991      | 10m 39s      |</pre>"
            ],
            "text/plain": [
              "| 300          | 6.56991      | 10m 39s      |"
            ]
          },
          "metadata": {
            "tags": []
          }
        },
        {
          "output_type": "display_data",
          "data": {
            "text/html": [
              "<pre>| 305          | 6.53675      | 10m 50s      |</pre>"
            ],
            "text/plain": [
              "| 305          | 6.53675      | 10m 50s      |"
            ]
          },
          "metadata": {
            "tags": []
          }
        },
        {
          "output_type": "display_data",
          "data": {
            "text/html": [
              "<pre>| 310          | 6.43662      | 11m 0s       |</pre>"
            ],
            "text/plain": [
              "| 310          | 6.43662      | 11m 0s       |"
            ]
          },
          "metadata": {
            "tags": []
          }
        },
        {
          "output_type": "display_data",
          "data": {
            "text/html": [
              "<pre>| 315          | 6.46338      | 11m 10s      |</pre>"
            ],
            "text/plain": [
              "| 315          | 6.46338      | 11m 10s      |"
            ]
          },
          "metadata": {
            "tags": []
          }
        },
        {
          "output_type": "display_data",
          "data": {
            "text/html": [
              "<pre>| 320          | 6.40359      | 11m 21s      |</pre>"
            ],
            "text/plain": [
              "| 320          | 6.40359      | 11m 21s      |"
            ]
          },
          "metadata": {
            "tags": []
          }
        },
        {
          "output_type": "display_data",
          "data": {
            "text/html": [
              "<pre>| 325          | 6.41851      | 11m 31s      |</pre>"
            ],
            "text/plain": [
              "| 325          | 6.41851      | 11m 31s      |"
            ]
          },
          "metadata": {
            "tags": []
          }
        },
        {
          "output_type": "display_data",
          "data": {
            "text/html": [
              "<pre>| 330          | 6.38017      | 11m 42s      |</pre>"
            ],
            "text/plain": [
              "| 330          | 6.38017      | 11m 42s      |"
            ]
          },
          "metadata": {
            "tags": []
          }
        },
        {
          "output_type": "display_data",
          "data": {
            "text/html": [
              "<pre>| 335          | 6.35772      | 11m 52s      |</pre>"
            ],
            "text/plain": [
              "| 335          | 6.35772      | 11m 52s      |"
            ]
          },
          "metadata": {
            "tags": []
          }
        },
        {
          "output_type": "display_data",
          "data": {
            "text/html": [
              "<pre>| 340          | 6.21612      | 12m 2s       |</pre>"
            ],
            "text/plain": [
              "| 340          | 6.21612      | 12m 2s       |"
            ]
          },
          "metadata": {
            "tags": []
          }
        },
        {
          "output_type": "display_data",
          "data": {
            "text/html": [
              "<pre>| 345          | 6.29796      | 12m 13s      |</pre>"
            ],
            "text/plain": [
              "| 345          | 6.29796      | 12m 13s      |"
            ]
          },
          "metadata": {
            "tags": []
          }
        },
        {
          "output_type": "display_data",
          "data": {
            "text/html": [
              "<pre>| 350          | 6.2817       | 12m 23s      |</pre>"
            ],
            "text/plain": [
              "| 350          | 6.2817       | 12m 23s      |"
            ]
          },
          "metadata": {
            "tags": []
          }
        },
        {
          "output_type": "display_data",
          "data": {
            "text/html": [
              "<pre>| 355          | 6.14328      | 12m 33s      |</pre>"
            ],
            "text/plain": [
              "| 355          | 6.14328      | 12m 33s      |"
            ]
          },
          "metadata": {
            "tags": []
          }
        },
        {
          "output_type": "display_data",
          "data": {
            "text/html": [
              "<pre>| 360          | 6.1113       | 12m 43s      |</pre>"
            ],
            "text/plain": [
              "| 360          | 6.1113       | 12m 43s      |"
            ]
          },
          "metadata": {
            "tags": []
          }
        },
        {
          "output_type": "display_data",
          "data": {
            "text/html": [
              "<pre>| 365          | 6.07452      | 12m 54s      |</pre>"
            ],
            "text/plain": [
              "| 365          | 6.07452      | 12m 54s      |"
            ]
          },
          "metadata": {
            "tags": []
          }
        },
        {
          "output_type": "display_data",
          "data": {
            "text/html": [
              "<pre>| 370          | 5.98742      | 13m 4s       |</pre>"
            ],
            "text/plain": [
              "| 370          | 5.98742      | 13m 4s       |"
            ]
          },
          "metadata": {
            "tags": []
          }
        },
        {
          "output_type": "display_data",
          "data": {
            "text/html": [
              "<pre>| 375          | 6.00815      | 13m 14s      |</pre>"
            ],
            "text/plain": [
              "| 375          | 6.00815      | 13m 14s      |"
            ]
          },
          "metadata": {
            "tags": []
          }
        },
        {
          "output_type": "display_data",
          "data": {
            "text/html": [
              "<pre>| 380          | 6.03452      | 13m 25s      |</pre>"
            ],
            "text/plain": [
              "| 380          | 6.03452      | 13m 25s      |"
            ]
          },
          "metadata": {
            "tags": []
          }
        },
        {
          "output_type": "display_data",
          "data": {
            "text/html": [
              "<pre>| 385          | 6.03131      | 13m 35s      |</pre>"
            ],
            "text/plain": [
              "| 385          | 6.03131      | 13m 35s      |"
            ]
          },
          "metadata": {
            "tags": []
          }
        },
        {
          "output_type": "display_data",
          "data": {
            "text/html": [
              "<pre>| 390          | 5.86853      | 13m 45s      |</pre>"
            ],
            "text/plain": [
              "| 390          | 5.86853      | 13m 45s      |"
            ]
          },
          "metadata": {
            "tags": []
          }
        },
        {
          "output_type": "display_data",
          "data": {
            "text/html": [
              "<pre>| 395          | 5.89928      | 13m 56s      |</pre>"
            ],
            "text/plain": [
              "| 395          | 5.89928      | 13m 56s      |"
            ]
          },
          "metadata": {
            "tags": []
          }
        },
        {
          "output_type": "display_data",
          "data": {
            "text/html": [
              "<pre>| 400          | 5.83294      | 14m 6s       |</pre>"
            ],
            "text/plain": [
              "| 400          | 5.83294      | 14m 6s       |"
            ]
          },
          "metadata": {
            "tags": []
          }
        },
        {
          "output_type": "display_data",
          "data": {
            "text/html": [
              "<pre>| 405          | 5.77151      | 14m 16s      |</pre>"
            ],
            "text/plain": [
              "| 405          | 5.77151      | 14m 16s      |"
            ]
          },
          "metadata": {
            "tags": []
          }
        },
        {
          "output_type": "display_data",
          "data": {
            "text/html": [
              "<pre>| 410          | 5.69629      | 14m 27s      |</pre>"
            ],
            "text/plain": [
              "| 410          | 5.69629      | 14m 27s      |"
            ]
          },
          "metadata": {
            "tags": []
          }
        },
        {
          "output_type": "display_data",
          "data": {
            "text/html": [
              "<pre>| 415          | 5.78315      | 14m 37s      |</pre>"
            ],
            "text/plain": [
              "| 415          | 5.78315      | 14m 37s      |"
            ]
          },
          "metadata": {
            "tags": []
          }
        },
        {
          "output_type": "display_data",
          "data": {
            "text/html": [
              "<pre>| 420          | 5.72429      | 14m 47s      |</pre>"
            ],
            "text/plain": [
              "| 420          | 5.72429      | 14m 47s      |"
            ]
          },
          "metadata": {
            "tags": []
          }
        },
        {
          "output_type": "display_data",
          "data": {
            "text/html": [
              "<pre>| 425          | 5.69496      | 14m 58s      |</pre>"
            ],
            "text/plain": [
              "| 425          | 5.69496      | 14m 58s      |"
            ]
          },
          "metadata": {
            "tags": []
          }
        },
        {
          "output_type": "display_data",
          "data": {
            "text/html": [
              "<pre>| 430          | 5.61755      | 15m 8s       |</pre>"
            ],
            "text/plain": [
              "| 430          | 5.61755      | 15m 8s       |"
            ]
          },
          "metadata": {
            "tags": []
          }
        },
        {
          "output_type": "display_data",
          "data": {
            "text/html": [
              "<pre>| 435          | 5.65178      | 15m 18s      |</pre>"
            ],
            "text/plain": [
              "| 435          | 5.65178      | 15m 18s      |"
            ]
          },
          "metadata": {
            "tags": []
          }
        },
        {
          "output_type": "display_data",
          "data": {
            "text/html": [
              "<pre>| 440          | 5.58606      | 15m 29s      |</pre>"
            ],
            "text/plain": [
              "| 440          | 5.58606      | 15m 29s      |"
            ]
          },
          "metadata": {
            "tags": []
          }
        },
        {
          "output_type": "display_data",
          "data": {
            "text/html": [
              "<pre>| 445          | 5.61987      | 15m 39s      |</pre>"
            ],
            "text/plain": [
              "| 445          | 5.61987      | 15m 39s      |"
            ]
          },
          "metadata": {
            "tags": []
          }
        },
        {
          "output_type": "display_data",
          "data": {
            "text/html": [
              "<pre>| 450          | 5.6788       | 15m 49s      |</pre>"
            ],
            "text/plain": [
              "| 450          | 5.6788       | 15m 49s      |"
            ]
          },
          "metadata": {
            "tags": []
          }
        },
        {
          "output_type": "display_data",
          "data": {
            "text/html": [
              "<pre>| 455          | 5.67696      | 16m 0s       |</pre>"
            ],
            "text/plain": [
              "| 455          | 5.67696      | 16m 0s       |"
            ]
          },
          "metadata": {
            "tags": []
          }
        },
        {
          "output_type": "display_data",
          "data": {
            "text/html": [
              "<pre>| 460          | 5.6919       | 16m 10s      |</pre>"
            ],
            "text/plain": [
              "| 460          | 5.6919       | 16m 10s      |"
            ]
          },
          "metadata": {
            "tags": []
          }
        },
        {
          "output_type": "display_data",
          "data": {
            "text/html": [
              "<pre>| 465          | 5.61026      | 16m 20s      |</pre>"
            ],
            "text/plain": [
              "| 465          | 5.61026      | 16m 20s      |"
            ]
          },
          "metadata": {
            "tags": []
          }
        },
        {
          "output_type": "display_data",
          "data": {
            "text/html": [
              "<pre>| 470          | 5.53012      | 16m 30s      |</pre>"
            ],
            "text/plain": [
              "| 470          | 5.53012      | 16m 30s      |"
            ]
          },
          "metadata": {
            "tags": []
          }
        },
        {
          "output_type": "display_data",
          "data": {
            "text/html": [
              "<pre>| 475          | 5.57889      | 16m 41s      |</pre>"
            ],
            "text/plain": [
              "| 475          | 5.57889      | 16m 41s      |"
            ]
          },
          "metadata": {
            "tags": []
          }
        },
        {
          "output_type": "display_data",
          "data": {
            "text/html": [
              "<pre>| 480          | 5.46257      | 16m 51s      |</pre>"
            ],
            "text/plain": [
              "| 480          | 5.46257      | 16m 51s      |"
            ]
          },
          "metadata": {
            "tags": []
          }
        },
        {
          "output_type": "display_data",
          "data": {
            "text/html": [
              "<pre>| 485          | 5.36028      | 17m 2s       |</pre>"
            ],
            "text/plain": [
              "| 485          | 5.36028      | 17m 2s       |"
            ]
          },
          "metadata": {
            "tags": []
          }
        },
        {
          "output_type": "display_data",
          "data": {
            "text/html": [
              "<pre>| 490          | 5.14924      | 17m 12s      |</pre>"
            ],
            "text/plain": [
              "| 490          | 5.14924      | 17m 12s      |"
            ]
          },
          "metadata": {
            "tags": []
          }
        },
        {
          "output_type": "display_data",
          "data": {
            "text/html": [
              "<pre>| 495          | 5.20863      | 17m 22s      |</pre>"
            ],
            "text/plain": [
              "| 495          | 5.20863      | 17m 22s      |"
            ]
          },
          "metadata": {
            "tags": []
          }
        },
        {
          "output_type": "display_data",
          "data": {
            "text/html": [
              "<pre>| 500          | 5.34101      | 17m 32s      |</pre>"
            ],
            "text/plain": [
              "| 500          | 5.34101      | 17m 32s      |"
            ]
          },
          "metadata": {
            "tags": []
          }
        },
        {
          "output_type": "display_data",
          "data": {
            "text/html": [
              "<pre>| 505          | 5.34964      | 17m 43s      |</pre>"
            ],
            "text/plain": [
              "| 505          | 5.34964      | 17m 43s      |"
            ]
          },
          "metadata": {
            "tags": []
          }
        },
        {
          "output_type": "display_data",
          "data": {
            "text/html": [
              "<pre>| 510          | 5.40633      | 17m 53s      |</pre>"
            ],
            "text/plain": [
              "| 510          | 5.40633      | 17m 53s      |"
            ]
          },
          "metadata": {
            "tags": []
          }
        },
        {
          "output_type": "display_data",
          "data": {
            "text/html": [
              "<pre>| 515          | 5.22051      | 18m 4s       |</pre>"
            ],
            "text/plain": [
              "| 515          | 5.22051      | 18m 4s       |"
            ]
          },
          "metadata": {
            "tags": []
          }
        },
        {
          "output_type": "display_data",
          "data": {
            "text/html": [
              "<pre>| 520          | 5.26929      | 18m 14s      |</pre>"
            ],
            "text/plain": [
              "| 520          | 5.26929      | 18m 14s      |"
            ]
          },
          "metadata": {
            "tags": []
          }
        },
        {
          "output_type": "display_data",
          "data": {
            "text/html": [
              "<pre>| 525          | 5.19531      | 18m 24s      |</pre>"
            ],
            "text/plain": [
              "| 525          | 5.19531      | 18m 24s      |"
            ]
          },
          "metadata": {
            "tags": []
          }
        },
        {
          "output_type": "display_data",
          "data": {
            "text/html": [
              "<pre>| 530          | 5.15715      | 18m 34s      |</pre>"
            ],
            "text/plain": [
              "| 530          | 5.15715      | 18m 34s      |"
            ]
          },
          "metadata": {
            "tags": []
          }
        },
        {
          "output_type": "display_data",
          "data": {
            "text/html": [
              "<pre>| 535          | 5.06938      | 18m 45s      |</pre>"
            ],
            "text/plain": [
              "| 535          | 5.06938      | 18m 45s      |"
            ]
          },
          "metadata": {
            "tags": []
          }
        },
        {
          "output_type": "display_data",
          "data": {
            "text/html": [
              "<pre>| 540          | 4.98969      | 18m 55s      |</pre>"
            ],
            "text/plain": [
              "| 540          | 4.98969      | 18m 55s      |"
            ]
          },
          "metadata": {
            "tags": []
          }
        },
        {
          "output_type": "display_data",
          "data": {
            "text/html": [
              "<pre>| 545          | 4.89315      | 19m 6s       |</pre>"
            ],
            "text/plain": [
              "| 545          | 4.89315      | 19m 6s       |"
            ]
          },
          "metadata": {
            "tags": []
          }
        },
        {
          "output_type": "display_data",
          "data": {
            "text/html": [
              "<pre>| 550          | 4.85664      | 19m 16s      |</pre>"
            ],
            "text/plain": [
              "| 550          | 4.85664      | 19m 16s      |"
            ]
          },
          "metadata": {
            "tags": []
          }
        },
        {
          "output_type": "display_data",
          "data": {
            "text/html": [
              "<pre>| 555          | 4.98174      | 19m 26s      |</pre>"
            ],
            "text/plain": [
              "| 555          | 4.98174      | 19m 26s      |"
            ]
          },
          "metadata": {
            "tags": []
          }
        },
        {
          "output_type": "display_data",
          "data": {
            "text/html": [
              "<pre>| 560          | 5.09377      | 19m 36s      |</pre>"
            ],
            "text/plain": [
              "| 560          | 5.09377      | 19m 36s      |"
            ]
          },
          "metadata": {
            "tags": []
          }
        },
        {
          "output_type": "display_data",
          "data": {
            "text/html": [
              "<pre>| 565          | 5.01956      | 19m 47s      |</pre>"
            ],
            "text/plain": [
              "| 565          | 5.01956      | 19m 47s      |"
            ]
          },
          "metadata": {
            "tags": []
          }
        },
        {
          "output_type": "display_data",
          "data": {
            "text/html": [
              "<pre>| 570          | 5.05571      | 19m 57s      |</pre>"
            ],
            "text/plain": [
              "| 570          | 5.05571      | 19m 57s      |"
            ]
          },
          "metadata": {
            "tags": []
          }
        },
        {
          "output_type": "display_data",
          "data": {
            "text/html": [
              "<pre>| 575          | 5.04534      | 20m 7s       |</pre>"
            ],
            "text/plain": [
              "| 575          | 5.04534      | 20m 7s       |"
            ]
          },
          "metadata": {
            "tags": []
          }
        },
        {
          "output_type": "display_data",
          "data": {
            "text/html": [
              "<pre>| 580          | 4.89641      | 20m 18s      |</pre>"
            ],
            "text/plain": [
              "| 580          | 4.89641      | 20m 18s      |"
            ]
          },
          "metadata": {
            "tags": []
          }
        },
        {
          "output_type": "display_data",
          "data": {
            "text/html": [
              "<pre>| 585          | 4.85044      | 20m 28s      |</pre>"
            ],
            "text/plain": [
              "| 585          | 4.85044      | 20m 28s      |"
            ]
          },
          "metadata": {
            "tags": []
          }
        },
        {
          "output_type": "display_data",
          "data": {
            "text/html": [
              "<pre>| 590          | 4.94163      | 20m 38s      |</pre>"
            ],
            "text/plain": [
              "| 590          | 4.94163      | 20m 38s      |"
            ]
          },
          "metadata": {
            "tags": []
          }
        },
        {
          "output_type": "display_data",
          "data": {
            "text/html": [
              "<pre>| 595          | 4.90923      | 20m 49s      |</pre>"
            ],
            "text/plain": [
              "| 595          | 4.90923      | 20m 49s      |"
            ]
          },
          "metadata": {
            "tags": []
          }
        },
        {
          "output_type": "display_data",
          "data": {
            "text/html": [
              "<pre>| 600          | 4.98572      | 20m 59s      |</pre>"
            ],
            "text/plain": [
              "| 600          | 4.98572      | 20m 59s      |"
            ]
          },
          "metadata": {
            "tags": []
          }
        },
        {
          "output_type": "display_data",
          "data": {
            "text/html": [
              "<pre>| 605          | 4.96123      | 21m 9s       |</pre>"
            ],
            "text/plain": [
              "| 605          | 4.96123      | 21m 9s       |"
            ]
          },
          "metadata": {
            "tags": []
          }
        },
        {
          "output_type": "display_data",
          "data": {
            "text/html": [
              "<pre>| 610          | 4.75966      | 21m 20s      |</pre>"
            ],
            "text/plain": [
              "| 610          | 4.75966      | 21m 20s      |"
            ]
          },
          "metadata": {
            "tags": []
          }
        },
        {
          "output_type": "display_data",
          "data": {
            "text/html": [
              "<pre>| 615          | 4.73965      | 21m 30s      |</pre>"
            ],
            "text/plain": [
              "| 615          | 4.73965      | 21m 30s      |"
            ]
          },
          "metadata": {
            "tags": []
          }
        },
        {
          "output_type": "display_data",
          "data": {
            "text/html": [
              "<pre>| 620          | 4.73268      | 21m 40s      |</pre>"
            ],
            "text/plain": [
              "| 620          | 4.73268      | 21m 40s      |"
            ]
          },
          "metadata": {
            "tags": []
          }
        },
        {
          "output_type": "display_data",
          "data": {
            "text/html": [
              "<pre>| 625          | 4.88404      | 21m 50s      |</pre>"
            ],
            "text/plain": [
              "| 625          | 4.88404      | 21m 50s      |"
            ]
          },
          "metadata": {
            "tags": []
          }
        },
        {
          "output_type": "display_data",
          "data": {
            "text/html": [
              "<pre>| 630          | 4.77691      | 22m 1s       |</pre>"
            ],
            "text/plain": [
              "| 630          | 4.77691      | 22m 1s       |"
            ]
          },
          "metadata": {
            "tags": []
          }
        },
        {
          "output_type": "display_data",
          "data": {
            "text/html": [
              "<pre>| 635          | 4.71254      | 22m 11s      |</pre>"
            ],
            "text/plain": [
              "| 635          | 4.71254      | 22m 11s      |"
            ]
          },
          "metadata": {
            "tags": []
          }
        },
        {
          "output_type": "display_data",
          "data": {
            "text/html": [
              "<pre>| 640          | 4.77878      | 22m 22s      |</pre>"
            ],
            "text/plain": [
              "| 640          | 4.77878      | 22m 22s      |"
            ]
          },
          "metadata": {
            "tags": []
          }
        },
        {
          "output_type": "display_data",
          "data": {
            "text/html": [
              "<pre>| 645          | 4.65658      | 22m 32s      |</pre>"
            ],
            "text/plain": [
              "| 645          | 4.65658      | 22m 32s      |"
            ]
          },
          "metadata": {
            "tags": []
          }
        },
        {
          "output_type": "display_data",
          "data": {
            "text/html": [
              "<pre>| 650          | 4.78407      | 22m 42s      |</pre>"
            ],
            "text/plain": [
              "| 650          | 4.78407      | 22m 42s      |"
            ]
          },
          "metadata": {
            "tags": []
          }
        },
        {
          "output_type": "display_data",
          "data": {
            "text/html": [
              "<pre>| 655          | 4.75009      | 22m 52s      |</pre>"
            ],
            "text/plain": [
              "| 655          | 4.75009      | 22m 52s      |"
            ]
          },
          "metadata": {
            "tags": []
          }
        },
        {
          "output_type": "display_data",
          "data": {
            "text/html": [
              "<pre>| 660          | 4.66612      | 23m 3s       |</pre>"
            ],
            "text/plain": [
              "| 660          | 4.66612      | 23m 3s       |"
            ]
          },
          "metadata": {
            "tags": []
          }
        },
        {
          "output_type": "display_data",
          "data": {
            "text/html": [
              "<pre>| 665          | 4.68236      | 23m 13s      |</pre>"
            ],
            "text/plain": [
              "| 665          | 4.68236      | 23m 13s      |"
            ]
          },
          "metadata": {
            "tags": []
          }
        },
        {
          "output_type": "display_data",
          "data": {
            "text/html": [
              "<pre>| 670          | 4.64084      | 23m 23s      |</pre>"
            ],
            "text/plain": [
              "| 670          | 4.64084      | 23m 23s      |"
            ]
          },
          "metadata": {
            "tags": []
          }
        },
        {
          "output_type": "display_data",
          "data": {
            "text/html": [
              "<pre>| 675          | 4.51517      | 23m 34s      |</pre>"
            ],
            "text/plain": [
              "| 675          | 4.51517      | 23m 34s      |"
            ]
          },
          "metadata": {
            "tags": []
          }
        },
        {
          "output_type": "display_data",
          "data": {
            "text/html": [
              "<pre>| 680          | 4.4393       | 23m 44s      |</pre>"
            ],
            "text/plain": [
              "| 680          | 4.4393       | 23m 44s      |"
            ]
          },
          "metadata": {
            "tags": []
          }
        },
        {
          "output_type": "display_data",
          "data": {
            "text/html": [
              "<pre>| 685          | 4.54462      | 23m 54s      |</pre>"
            ],
            "text/plain": [
              "| 685          | 4.54462      | 23m 54s      |"
            ]
          },
          "metadata": {
            "tags": []
          }
        },
        {
          "output_type": "display_data",
          "data": {
            "text/html": [
              "<pre>| 690          | 4.51966      | 24m 4s       |</pre>"
            ],
            "text/plain": [
              "| 690          | 4.51966      | 24m 4s       |"
            ]
          },
          "metadata": {
            "tags": []
          }
        },
        {
          "output_type": "display_data",
          "data": {
            "text/html": [
              "<pre>| 695          | 4.39597      | 24m 15s      |</pre>"
            ],
            "text/plain": [
              "| 695          | 4.39597      | 24m 15s      |"
            ]
          },
          "metadata": {
            "tags": []
          }
        },
        {
          "output_type": "display_data",
          "data": {
            "text/html": [
              "<pre>| 700          | 4.45935      | 24m 25s      |</pre>"
            ],
            "text/plain": [
              "| 700          | 4.45935      | 24m 25s      |"
            ]
          },
          "metadata": {
            "tags": []
          }
        },
        {
          "output_type": "display_data",
          "data": {
            "text/html": [
              "<pre>| 705          | 4.45936      | 24m 35s      |</pre>"
            ],
            "text/plain": [
              "| 705          | 4.45936      | 24m 35s      |"
            ]
          },
          "metadata": {
            "tags": []
          }
        },
        {
          "output_type": "display_data",
          "data": {
            "text/html": [
              "<pre>| 710          | 4.35825      | 24m 46s      |</pre>"
            ],
            "text/plain": [
              "| 710          | 4.35825      | 24m 46s      |"
            ]
          },
          "metadata": {
            "tags": []
          }
        },
        {
          "output_type": "display_data",
          "data": {
            "text/html": [
              "<pre>| 715          | 4.42368      | 24m 56s      |</pre>"
            ],
            "text/plain": [
              "| 715          | 4.42368      | 24m 56s      |"
            ]
          },
          "metadata": {
            "tags": []
          }
        },
        {
          "output_type": "display_data",
          "data": {
            "text/html": [
              "<pre>| 720          | 4.27463      | 25m 6s       |</pre>"
            ],
            "text/plain": [
              "| 720          | 4.27463      | 25m 6s       |"
            ]
          },
          "metadata": {
            "tags": []
          }
        },
        {
          "output_type": "display_data",
          "data": {
            "text/html": [
              "<pre>| 725          | 4.42915      | 25m 16s      |</pre>"
            ],
            "text/plain": [
              "| 725          | 4.42915      | 25m 16s      |"
            ]
          },
          "metadata": {
            "tags": []
          }
        },
        {
          "output_type": "display_data",
          "data": {
            "text/html": [
              "<pre>| 730          | 4.33843      | 25m 27s      |</pre>"
            ],
            "text/plain": [
              "| 730          | 4.33843      | 25m 27s      |"
            ]
          },
          "metadata": {
            "tags": []
          }
        },
        {
          "output_type": "display_data",
          "data": {
            "text/html": [
              "<pre>| 735          | 4.30712      | 25m 37s      |</pre>"
            ],
            "text/plain": [
              "| 735          | 4.30712      | 25m 37s      |"
            ]
          },
          "metadata": {
            "tags": []
          }
        },
        {
          "output_type": "display_data",
          "data": {
            "text/html": [
              "<pre>| 740          | 4.23096      | 25m 47s      |</pre>"
            ],
            "text/plain": [
              "| 740          | 4.23096      | 25m 47s      |"
            ]
          },
          "metadata": {
            "tags": []
          }
        },
        {
          "output_type": "display_data",
          "data": {
            "text/html": [
              "<pre>| 745          | 4.2578       | 25m 57s      |</pre>"
            ],
            "text/plain": [
              "| 745          | 4.2578       | 25m 57s      |"
            ]
          },
          "metadata": {
            "tags": []
          }
        },
        {
          "output_type": "display_data",
          "data": {
            "text/html": [
              "<pre>| 750          | 4.40378      | 26m 7s       |</pre>"
            ],
            "text/plain": [
              "| 750          | 4.40378      | 26m 7s       |"
            ]
          },
          "metadata": {
            "tags": []
          }
        },
        {
          "output_type": "display_data",
          "data": {
            "text/html": [
              "<pre>| 755          | 4.35849      | 26m 18s      |</pre>"
            ],
            "text/plain": [
              "| 755          | 4.35849      | 26m 18s      |"
            ]
          },
          "metadata": {
            "tags": []
          }
        },
        {
          "output_type": "display_data",
          "data": {
            "text/html": [
              "<pre>| 760          | 4.27933      | 26m 28s      |</pre>"
            ],
            "text/plain": [
              "| 760          | 4.27933      | 26m 28s      |"
            ]
          },
          "metadata": {
            "tags": []
          }
        },
        {
          "output_type": "display_data",
          "data": {
            "text/html": [
              "<pre>| 765          | 4.33343      | 26m 38s      |</pre>"
            ],
            "text/plain": [
              "| 765          | 4.33343      | 26m 38s      |"
            ]
          },
          "metadata": {
            "tags": []
          }
        },
        {
          "output_type": "display_data",
          "data": {
            "text/html": [
              "<pre>| 770          | 4.36779      | 26m 48s      |</pre>"
            ],
            "text/plain": [
              "| 770          | 4.36779      | 26m 48s      |"
            ]
          },
          "metadata": {
            "tags": []
          }
        },
        {
          "output_type": "display_data",
          "data": {
            "text/html": [
              "<pre>| 775          | 4.31169      | 26m 58s      |</pre>"
            ],
            "text/plain": [
              "| 775          | 4.31169      | 26m 58s      |"
            ]
          },
          "metadata": {
            "tags": []
          }
        },
        {
          "output_type": "display_data",
          "data": {
            "text/html": [
              "<pre>| 780          | 4.22099      | 27m 9s       |</pre>"
            ],
            "text/plain": [
              "| 780          | 4.22099      | 27m 9s       |"
            ]
          },
          "metadata": {
            "tags": []
          }
        },
        {
          "output_type": "display_data",
          "data": {
            "text/html": [
              "<pre>| 785          | 4.25587      | 27m 19s      |</pre>"
            ],
            "text/plain": [
              "| 785          | 4.25587      | 27m 19s      |"
            ]
          },
          "metadata": {
            "tags": []
          }
        },
        {
          "output_type": "display_data",
          "data": {
            "text/html": [
              "<pre>| 790          | 4.16371      | 27m 29s      |</pre>"
            ],
            "text/plain": [
              "| 790          | 4.16371      | 27m 29s      |"
            ]
          },
          "metadata": {
            "tags": []
          }
        },
        {
          "output_type": "display_data",
          "data": {
            "text/html": [
              "<pre>| 795          | 4.12235      | 27m 40s      |</pre>"
            ],
            "text/plain": [
              "| 795          | 4.12235      | 27m 40s      |"
            ]
          },
          "metadata": {
            "tags": []
          }
        },
        {
          "output_type": "display_data",
          "data": {
            "text/html": [
              "<pre>| 800          | 4.13382      | 27m 50s      |</pre>"
            ],
            "text/plain": [
              "| 800          | 4.13382      | 27m 50s      |"
            ]
          },
          "metadata": {
            "tags": []
          }
        },
        {
          "output_type": "display_data",
          "data": {
            "text/html": [
              "<pre>| 805          | 4.19927      | 28m 0s       |</pre>"
            ],
            "text/plain": [
              "| 805          | 4.19927      | 28m 0s       |"
            ]
          },
          "metadata": {
            "tags": []
          }
        },
        {
          "output_type": "display_data",
          "data": {
            "text/html": [
              "<pre>| 810          | 4.21618      | 28m 10s      |</pre>"
            ],
            "text/plain": [
              "| 810          | 4.21618      | 28m 10s      |"
            ]
          },
          "metadata": {
            "tags": []
          }
        },
        {
          "output_type": "display_data",
          "data": {
            "text/html": [
              "<pre>| 815          | 4.26842      | 28m 21s      |</pre>"
            ],
            "text/plain": [
              "| 815          | 4.26842      | 28m 21s      |"
            ]
          },
          "metadata": {
            "tags": []
          }
        },
        {
          "output_type": "display_data",
          "data": {
            "text/html": [
              "<pre>| 820          | 4.20826      | 28m 31s      |</pre>"
            ],
            "text/plain": [
              "| 820          | 4.20826      | 28m 31s      |"
            ]
          },
          "metadata": {
            "tags": []
          }
        },
        {
          "output_type": "display_data",
          "data": {
            "text/html": [
              "<pre>| 825          | 4.12576      | 28m 41s      |</pre>"
            ],
            "text/plain": [
              "| 825          | 4.12576      | 28m 41s      |"
            ]
          },
          "metadata": {
            "tags": []
          }
        },
        {
          "output_type": "display_data",
          "data": {
            "text/html": [
              "<pre>| 830          | 4.08572      | 28m 51s      |</pre>"
            ],
            "text/plain": [
              "| 830          | 4.08572      | 28m 51s      |"
            ]
          },
          "metadata": {
            "tags": []
          }
        },
        {
          "output_type": "display_data",
          "data": {
            "text/html": [
              "<pre>| 835          | 4.02359      | 29m 1s       |</pre>"
            ],
            "text/plain": [
              "| 835          | 4.02359      | 29m 1s       |"
            ]
          },
          "metadata": {
            "tags": []
          }
        },
        {
          "output_type": "display_data",
          "data": {
            "text/html": [
              "<pre>| 840          | 4.12457      | 29m 12s      |</pre>"
            ],
            "text/plain": [
              "| 840          | 4.12457      | 29m 12s      |"
            ]
          },
          "metadata": {
            "tags": []
          }
        },
        {
          "output_type": "display_data",
          "data": {
            "text/html": [
              "<pre>| 845          | 4.09864      | 29m 22s      |</pre>"
            ],
            "text/plain": [
              "| 845          | 4.09864      | 29m 22s      |"
            ]
          },
          "metadata": {
            "tags": []
          }
        },
        {
          "output_type": "display_data",
          "data": {
            "text/html": [
              "<pre>| 850          | 3.98368      | 29m 33s      |</pre>"
            ],
            "text/plain": [
              "| 850          | 3.98368      | 29m 33s      |"
            ]
          },
          "metadata": {
            "tags": []
          }
        },
        {
          "output_type": "display_data",
          "data": {
            "text/html": [
              "<pre>| 855          | 4.04999      | 29m 43s      |</pre>"
            ],
            "text/plain": [
              "| 855          | 4.04999      | 29m 43s      |"
            ]
          },
          "metadata": {
            "tags": []
          }
        },
        {
          "output_type": "display_data",
          "data": {
            "text/html": [
              "<pre>| 860          | 3.96566      | 29m 53s      |</pre>"
            ],
            "text/plain": [
              "| 860          | 3.96566      | 29m 53s      |"
            ]
          },
          "metadata": {
            "tags": []
          }
        },
        {
          "output_type": "display_data",
          "data": {
            "text/html": [
              "<pre>| 865          | 3.82724      | 30m 3s       |</pre>"
            ],
            "text/plain": [
              "| 865          | 3.82724      | 30m 3s       |"
            ]
          },
          "metadata": {
            "tags": []
          }
        },
        {
          "output_type": "display_data",
          "data": {
            "text/html": [
              "<pre>| 870          | 3.96608      | 30m 13s      |</pre>"
            ],
            "text/plain": [
              "| 870          | 3.96608      | 30m 13s      |"
            ]
          },
          "metadata": {
            "tags": []
          }
        },
        {
          "output_type": "display_data",
          "data": {
            "text/html": [
              "<pre>| 875          | 4.03995      | 30m 24s      |</pre>"
            ],
            "text/plain": [
              "| 875          | 4.03995      | 30m 24s      |"
            ]
          },
          "metadata": {
            "tags": []
          }
        },
        {
          "output_type": "display_data",
          "data": {
            "text/html": [
              "<pre>| 880          | 4.11062      | 30m 34s      |</pre>"
            ],
            "text/plain": [
              "| 880          | 4.11062      | 30m 34s      |"
            ]
          },
          "metadata": {
            "tags": []
          }
        },
        {
          "output_type": "display_data",
          "data": {
            "text/html": [
              "<pre>| 885          | 4.17191      | 30m 44s      |</pre>"
            ],
            "text/plain": [
              "| 885          | 4.17191      | 30m 44s      |"
            ]
          },
          "metadata": {
            "tags": []
          }
        },
        {
          "output_type": "display_data",
          "data": {
            "text/html": [
              "<pre>| 890          | 4.11596      | 30m 54s      |</pre>"
            ],
            "text/plain": [
              "| 890          | 4.11596      | 30m 54s      |"
            ]
          },
          "metadata": {
            "tags": []
          }
        },
        {
          "output_type": "display_data",
          "data": {
            "text/html": [
              "<pre>| 895          | 4.01975      | 31m 4s       |</pre>"
            ],
            "text/plain": [
              "| 895          | 4.01975      | 31m 4s       |"
            ]
          },
          "metadata": {
            "tags": []
          }
        },
        {
          "output_type": "display_data",
          "data": {
            "text/html": [
              "<pre>| 900          | 4.02502      | 31m 15s      |</pre>"
            ],
            "text/plain": [
              "| 900          | 4.02502      | 31m 15s      |"
            ]
          },
          "metadata": {
            "tags": []
          }
        },
        {
          "output_type": "display_data",
          "data": {
            "text/html": [
              "<pre>| 905          | 3.9758       | 31m 25s      |</pre>"
            ],
            "text/plain": [
              "| 905          | 3.9758       | 31m 25s      |"
            ]
          },
          "metadata": {
            "tags": []
          }
        },
        {
          "output_type": "display_data",
          "data": {
            "text/html": [
              "<pre>| 910          | 4.02361      | 31m 35s      |</pre>"
            ],
            "text/plain": [
              "| 910          | 4.02361      | 31m 35s      |"
            ]
          },
          "metadata": {
            "tags": []
          }
        },
        {
          "output_type": "display_data",
          "data": {
            "text/html": [
              "<pre>| 915          | 4.09413      | 31m 46s      |</pre>"
            ],
            "text/plain": [
              "| 915          | 4.09413      | 31m 46s      |"
            ]
          },
          "metadata": {
            "tags": []
          }
        },
        {
          "output_type": "display_data",
          "data": {
            "text/html": [
              "<pre>| 920          | 3.97976      | 31m 56s      |</pre>"
            ],
            "text/plain": [
              "| 920          | 3.97976      | 31m 56s      |"
            ]
          },
          "metadata": {
            "tags": []
          }
        },
        {
          "output_type": "display_data",
          "data": {
            "text/html": [
              "<pre>| 925          | 3.92389      | 32m 6s       |</pre>"
            ],
            "text/plain": [
              "| 925          | 3.92389      | 32m 6s       |"
            ]
          },
          "metadata": {
            "tags": []
          }
        },
        {
          "output_type": "display_data",
          "data": {
            "text/html": [
              "<pre>| 930          | 4.06267      | 32m 16s      |</pre>"
            ],
            "text/plain": [
              "| 930          | 4.06267      | 32m 16s      |"
            ]
          },
          "metadata": {
            "tags": []
          }
        },
        {
          "output_type": "display_data",
          "data": {
            "text/html": [
              "<pre>| 935          | 4.00224      | 32m 26s      |</pre>"
            ],
            "text/plain": [
              "| 935          | 4.00224      | 32m 26s      |"
            ]
          },
          "metadata": {
            "tags": []
          }
        },
        {
          "output_type": "display_data",
          "data": {
            "text/html": [
              "<pre>| 940          | 3.94501      | 32m 36s      |</pre>"
            ],
            "text/plain": [
              "| 940          | 3.94501      | 32m 36s      |"
            ]
          },
          "metadata": {
            "tags": []
          }
        },
        {
          "output_type": "display_data",
          "data": {
            "text/html": [
              "<pre>| 945          | 3.95172      | 32m 47s      |</pre>"
            ],
            "text/plain": [
              "| 945          | 3.95172      | 32m 47s      |"
            ]
          },
          "metadata": {
            "tags": []
          }
        },
        {
          "output_type": "display_data",
          "data": {
            "text/html": [
              "<pre>| 950          | 3.82024      | 32m 57s      |</pre>"
            ],
            "text/plain": [
              "| 950          | 3.82024      | 32m 57s      |"
            ]
          },
          "metadata": {
            "tags": []
          }
        },
        {
          "output_type": "display_data",
          "data": {
            "text/html": [
              "<pre>| 955          | 3.79874      | 33m 7s       |</pre>"
            ],
            "text/plain": [
              "| 955          | 3.79874      | 33m 7s       |"
            ]
          },
          "metadata": {
            "tags": []
          }
        },
        {
          "output_type": "display_data",
          "data": {
            "text/html": [
              "<pre>| 960          | 3.81311      | 33m 17s      |</pre>"
            ],
            "text/plain": [
              "| 960          | 3.81311      | 33m 17s      |"
            ]
          },
          "metadata": {
            "tags": []
          }
        },
        {
          "output_type": "display_data",
          "data": {
            "text/html": [
              "<pre>| 965          | 3.76481      | 33m 28s      |</pre>"
            ],
            "text/plain": [
              "| 965          | 3.76481      | 33m 28s      |"
            ]
          },
          "metadata": {
            "tags": []
          }
        },
        {
          "output_type": "display_data",
          "data": {
            "text/html": [
              "<pre>| 970          | 3.72881      | 33m 38s      |</pre>"
            ],
            "text/plain": [
              "| 970          | 3.72881      | 33m 38s      |"
            ]
          },
          "metadata": {
            "tags": []
          }
        },
        {
          "output_type": "display_data",
          "data": {
            "text/html": [
              "<pre>| 975          | 3.67107      | 33m 48s      |</pre>"
            ],
            "text/plain": [
              "| 975          | 3.67107      | 33m 48s      |"
            ]
          },
          "metadata": {
            "tags": []
          }
        },
        {
          "output_type": "display_data",
          "data": {
            "text/html": [
              "<pre>| 980          | 3.74636      | 33m 58s      |</pre>"
            ],
            "text/plain": [
              "| 980          | 3.74636      | 33m 58s      |"
            ]
          },
          "metadata": {
            "tags": []
          }
        },
        {
          "output_type": "display_data",
          "data": {
            "text/html": [
              "<pre>| 985          | 3.6718       | 34m 8s       |</pre>"
            ],
            "text/plain": [
              "| 985          | 3.6718       | 34m 8s       |"
            ]
          },
          "metadata": {
            "tags": []
          }
        },
        {
          "output_type": "display_data",
          "data": {
            "text/html": [
              "<pre>| 990          | 3.63973      | 34m 18s      |</pre>"
            ],
            "text/plain": [
              "| 990          | 3.63973      | 34m 18s      |"
            ]
          },
          "metadata": {
            "tags": []
          }
        },
        {
          "output_type": "display_data",
          "data": {
            "text/html": [
              "<pre>| 995          | 3.73405      | 34m 29s      |</pre>"
            ],
            "text/plain": [
              "| 995          | 3.73405      | 34m 29s      |"
            ]
          },
          "metadata": {
            "tags": []
          }
        },
        {
          "output_type": "display_data",
          "data": {
            "text/html": [
              "<pre>| 1000         | 3.71387      | 34m 39s      |</pre>"
            ],
            "text/plain": [
              "| 1000         | 3.71387      | 34m 39s      |"
            ]
          },
          "metadata": {
            "tags": []
          }
        },
        {
          "output_type": "display_data",
          "data": {
            "text/html": [
              "<pre>| 1005         | 3.78718      | 34m 49s      |</pre>"
            ],
            "text/plain": [
              "| 1005         | 3.78718      | 34m 49s      |"
            ]
          },
          "metadata": {
            "tags": []
          }
        },
        {
          "output_type": "display_data",
          "data": {
            "text/html": [
              "<pre>| 1010         | 3.77444      | 34m 59s      |</pre>"
            ],
            "text/plain": [
              "| 1010         | 3.77444      | 34m 59s      |"
            ]
          },
          "metadata": {
            "tags": []
          }
        },
        {
          "output_type": "display_data",
          "data": {
            "text/html": [
              "<pre>| 1015         | 3.75356      | 35m 9s       |</pre>"
            ],
            "text/plain": [
              "| 1015         | 3.75356      | 35m 9s       |"
            ]
          },
          "metadata": {
            "tags": []
          }
        },
        {
          "output_type": "display_data",
          "data": {
            "text/html": [
              "<pre>| 1020         | 3.63043      | 35m 20s      |</pre>"
            ],
            "text/plain": [
              "| 1020         | 3.63043      | 35m 20s      |"
            ]
          },
          "metadata": {
            "tags": []
          }
        },
        {
          "output_type": "display_data",
          "data": {
            "text/html": [
              "<pre>| 1025         | 3.50159      | 35m 30s      |</pre>"
            ],
            "text/plain": [
              "| 1025         | 3.50159      | 35m 30s      |"
            ]
          },
          "metadata": {
            "tags": []
          }
        },
        {
          "output_type": "display_data",
          "data": {
            "text/html": [
              "<pre>| 1030         | 3.40581      | 35m 40s      |</pre>"
            ],
            "text/plain": [
              "| 1030         | 3.40581      | 35m 40s      |"
            ]
          },
          "metadata": {
            "tags": []
          }
        },
        {
          "output_type": "display_data",
          "data": {
            "text/html": [
              "<pre>| 1035         | 3.45927      | 35m 50s      |</pre>"
            ],
            "text/plain": [
              "| 1035         | 3.45927      | 35m 50s      |"
            ]
          },
          "metadata": {
            "tags": []
          }
        },
        {
          "output_type": "display_data",
          "data": {
            "text/html": [
              "<pre>| 1040         | 3.4287       | 36m 1s       |</pre>"
            ],
            "text/plain": [
              "| 1040         | 3.4287       | 36m 1s       |"
            ]
          },
          "metadata": {
            "tags": []
          }
        },
        {
          "output_type": "display_data",
          "data": {
            "text/html": [
              "<pre>| 1045         | 3.35079      | 36m 11s      |</pre>"
            ],
            "text/plain": [
              "| 1045         | 3.35079      | 36m 11s      |"
            ]
          },
          "metadata": {
            "tags": []
          }
        },
        {
          "output_type": "display_data",
          "data": {
            "text/html": [
              "<pre>| 1050         | 3.40531      | 36m 21s      |</pre>"
            ],
            "text/plain": [
              "| 1050         | 3.40531      | 36m 21s      |"
            ]
          },
          "metadata": {
            "tags": []
          }
        },
        {
          "output_type": "display_data",
          "data": {
            "text/html": [
              "<pre>| 1055         | 3.47273      | 36m 31s      |</pre>"
            ],
            "text/plain": [
              "| 1055         | 3.47273      | 36m 31s      |"
            ]
          },
          "metadata": {
            "tags": []
          }
        },
        {
          "output_type": "display_data",
          "data": {
            "text/html": [
              "<pre>| 1060         | 3.47757      | 36m 42s      |</pre>"
            ],
            "text/plain": [
              "| 1060         | 3.47757      | 36m 42s      |"
            ]
          },
          "metadata": {
            "tags": []
          }
        },
        {
          "output_type": "display_data",
          "data": {
            "text/html": [
              "<pre>| 1065         | 3.3754       | 36m 52s      |</pre>"
            ],
            "text/plain": [
              "| 1065         | 3.3754       | 36m 52s      |"
            ]
          },
          "metadata": {
            "tags": []
          }
        },
        {
          "output_type": "display_data",
          "data": {
            "text/html": [
              "<pre>| 1070         | 3.35166      | 37m 2s       |</pre>"
            ],
            "text/plain": [
              "| 1070         | 3.35166      | 37m 2s       |"
            ]
          },
          "metadata": {
            "tags": []
          }
        },
        {
          "output_type": "display_data",
          "data": {
            "text/html": [
              "<pre>| 1075         | 3.37716      | 37m 12s      |</pre>"
            ],
            "text/plain": [
              "| 1075         | 3.37716      | 37m 12s      |"
            ]
          },
          "metadata": {
            "tags": []
          }
        },
        {
          "output_type": "display_data",
          "data": {
            "text/html": [
              "<pre>| 1080         | 3.30565      | 37m 22s      |</pre>"
            ],
            "text/plain": [
              "| 1080         | 3.30565      | 37m 22s      |"
            ]
          },
          "metadata": {
            "tags": []
          }
        },
        {
          "output_type": "display_data",
          "data": {
            "text/html": [
              "<pre>| 1085         | 3.24564      | 37m 33s      |</pre>"
            ],
            "text/plain": [
              "| 1085         | 3.24564      | 37m 33s      |"
            ]
          },
          "metadata": {
            "tags": []
          }
        },
        {
          "output_type": "display_data",
          "data": {
            "text/html": [
              "<pre>| 1090         | 3.26183      | 37m 43s      |</pre>"
            ],
            "text/plain": [
              "| 1090         | 3.26183      | 37m 43s      |"
            ]
          },
          "metadata": {
            "tags": []
          }
        },
        {
          "output_type": "display_data",
          "data": {
            "text/html": [
              "<pre>| 1095         | 3.28474      | 37m 53s      |</pre>"
            ],
            "text/plain": [
              "| 1095         | 3.28474      | 37m 53s      |"
            ]
          },
          "metadata": {
            "tags": []
          }
        },
        {
          "output_type": "display_data",
          "data": {
            "text/html": [
              "<pre>| 1100         | 3.40514      | 38m 3s       |</pre>"
            ],
            "text/plain": [
              "| 1100         | 3.40514      | 38m 3s       |"
            ]
          },
          "metadata": {
            "tags": []
          }
        },
        {
          "output_type": "display_data",
          "data": {
            "text/html": [
              "<pre>| 1105         | 3.29278      | 38m 14s      |</pre>"
            ],
            "text/plain": [
              "| 1105         | 3.29278      | 38m 14s      |"
            ]
          },
          "metadata": {
            "tags": []
          }
        },
        {
          "output_type": "display_data",
          "data": {
            "text/html": [
              "<pre>| 1110         | 3.26451      | 38m 24s      |</pre>"
            ],
            "text/plain": [
              "| 1110         | 3.26451      | 38m 24s      |"
            ]
          },
          "metadata": {
            "tags": []
          }
        },
        {
          "output_type": "display_data",
          "data": {
            "text/html": [
              "<pre>| 1115         | 3.16741      | 38m 34s      |</pre>"
            ],
            "text/plain": [
              "| 1115         | 3.16741      | 38m 34s      |"
            ]
          },
          "metadata": {
            "tags": []
          }
        },
        {
          "output_type": "display_data",
          "data": {
            "text/html": [
              "<pre>| 1120         | 3.27796      | 38m 44s      |</pre>"
            ],
            "text/plain": [
              "| 1120         | 3.27796      | 38m 44s      |"
            ]
          },
          "metadata": {
            "tags": []
          }
        },
        {
          "output_type": "display_data",
          "data": {
            "text/html": [
              "<pre>| 1125         | 3.17552      | 38m 55s      |</pre>"
            ],
            "text/plain": [
              "| 1125         | 3.17552      | 38m 55s      |"
            ]
          },
          "metadata": {
            "tags": []
          }
        },
        {
          "output_type": "display_data",
          "data": {
            "text/html": [
              "<pre>| 1130         | 3.20344      | 39m 5s       |</pre>"
            ],
            "text/plain": [
              "| 1130         | 3.20344      | 39m 5s       |"
            ]
          },
          "metadata": {
            "tags": []
          }
        },
        {
          "output_type": "display_data",
          "data": {
            "text/html": [
              "<pre>| 1135         | 3.19747      | 39m 15s      |</pre>"
            ],
            "text/plain": [
              "| 1135         | 3.19747      | 39m 15s      |"
            ]
          },
          "metadata": {
            "tags": []
          }
        },
        {
          "output_type": "display_data",
          "data": {
            "text/html": [
              "<pre>| 1140         | 3.14579      | 39m 25s      |</pre>"
            ],
            "text/plain": [
              "| 1140         | 3.14579      | 39m 25s      |"
            ]
          },
          "metadata": {
            "tags": []
          }
        },
        {
          "output_type": "display_data",
          "data": {
            "text/html": [
              "<pre>| 1145         | 3.26727      | 39m 35s      |</pre>"
            ],
            "text/plain": [
              "| 1145         | 3.26727      | 39m 35s      |"
            ]
          },
          "metadata": {
            "tags": []
          }
        },
        {
          "output_type": "display_data",
          "data": {
            "text/html": [
              "<pre>| 1150         | 3.25403      | 39m 46s      |</pre>"
            ],
            "text/plain": [
              "| 1150         | 3.25403      | 39m 46s      |"
            ]
          },
          "metadata": {
            "tags": []
          }
        },
        {
          "output_type": "display_data",
          "data": {
            "text/html": [
              "<pre>| 1155         | 3.23697      | 39m 56s      |</pre>"
            ],
            "text/plain": [
              "| 1155         | 3.23697      | 39m 56s      |"
            ]
          },
          "metadata": {
            "tags": []
          }
        },
        {
          "output_type": "display_data",
          "data": {
            "text/html": [
              "<pre>| 1160         | 3.23502      | 40m 6s       |</pre>"
            ],
            "text/plain": [
              "| 1160         | 3.23502      | 40m 6s       |"
            ]
          },
          "metadata": {
            "tags": []
          }
        },
        {
          "output_type": "display_data",
          "data": {
            "text/html": [
              "<pre>| 1165         | 3.26785      | 40m 16s      |</pre>"
            ],
            "text/plain": [
              "| 1165         | 3.26785      | 40m 16s      |"
            ]
          },
          "metadata": {
            "tags": []
          }
        },
        {
          "output_type": "display_data",
          "data": {
            "text/html": [
              "<pre>| 1170         | 3.19228      | 40m 27s      |</pre>"
            ],
            "text/plain": [
              "| 1170         | 3.19228      | 40m 27s      |"
            ]
          },
          "metadata": {
            "tags": []
          }
        },
        {
          "output_type": "display_data",
          "data": {
            "text/html": [
              "<pre>| 1175         | 3.17492      | 40m 37s      |</pre>"
            ],
            "text/plain": [
              "| 1175         | 3.17492      | 40m 37s      |"
            ]
          },
          "metadata": {
            "tags": []
          }
        },
        {
          "output_type": "display_data",
          "data": {
            "text/html": [
              "<pre>| 1180         | 3.20242      | 40m 47s      |</pre>"
            ],
            "text/plain": [
              "| 1180         | 3.20242      | 40m 47s      |"
            ]
          },
          "metadata": {
            "tags": []
          }
        },
        {
          "output_type": "display_data",
          "data": {
            "text/html": [
              "<pre>| 1185         | 3.08972      | 40m 58s      |</pre>"
            ],
            "text/plain": [
              "| 1185         | 3.08972      | 40m 58s      |"
            ]
          },
          "metadata": {
            "tags": []
          }
        },
        {
          "output_type": "display_data",
          "data": {
            "text/html": [
              "<pre>| 1190         | 3.11353      | 41m 8s       |</pre>"
            ],
            "text/plain": [
              "| 1190         | 3.11353      | 41m 8s       |"
            ]
          },
          "metadata": {
            "tags": []
          }
        },
        {
          "output_type": "display_data",
          "data": {
            "text/html": [
              "<pre>| 1195         | 3.22699      | 41m 18s      |</pre>"
            ],
            "text/plain": [
              "| 1195         | 3.22699      | 41m 18s      |"
            ]
          },
          "metadata": {
            "tags": []
          }
        },
        {
          "output_type": "display_data",
          "data": {
            "text/html": [
              "<pre>| 1200         | 3.10831      | 41m 28s      |</pre>"
            ],
            "text/plain": [
              "| 1200         | 3.10831      | 41m 28s      |"
            ]
          },
          "metadata": {
            "tags": []
          }
        },
        {
          "output_type": "display_data",
          "data": {
            "text/html": [
              "<pre>| 1205         | 3.07275      | 41m 38s      |</pre>"
            ],
            "text/plain": [
              "| 1205         | 3.07275      | 41m 38s      |"
            ]
          },
          "metadata": {
            "tags": []
          }
        },
        {
          "output_type": "display_data",
          "data": {
            "text/html": [
              "<pre>| 1210         | 3.0963       | 41m 49s      |</pre>"
            ],
            "text/plain": [
              "| 1210         | 3.0963       | 41m 49s      |"
            ]
          },
          "metadata": {
            "tags": []
          }
        },
        {
          "output_type": "display_data",
          "data": {
            "text/html": [
              "<pre>| 1215         | 3.12041      | 41m 59s      |</pre>"
            ],
            "text/plain": [
              "| 1215         | 3.12041      | 41m 59s      |"
            ]
          },
          "metadata": {
            "tags": []
          }
        },
        {
          "output_type": "display_data",
          "data": {
            "text/html": [
              "<pre>| 1220         | 3.14895      | 42m 9s       |</pre>"
            ],
            "text/plain": [
              "| 1220         | 3.14895      | 42m 9s       |"
            ]
          },
          "metadata": {
            "tags": []
          }
        },
        {
          "output_type": "display_data",
          "data": {
            "text/html": [
              "<pre>| 1225         | 3.14613      | 42m 19s      |</pre>"
            ],
            "text/plain": [
              "| 1225         | 3.14613      | 42m 19s      |"
            ]
          },
          "metadata": {
            "tags": []
          }
        },
        {
          "output_type": "display_data",
          "data": {
            "text/html": [
              "<pre>| 1230         | 3.19645      | 42m 29s      |</pre>"
            ],
            "text/plain": [
              "| 1230         | 3.19645      | 42m 29s      |"
            ]
          },
          "metadata": {
            "tags": []
          }
        },
        {
          "output_type": "display_data",
          "data": {
            "text/html": [
              "<pre>| 1235         | 3.11043      | 42m 39s      |</pre>"
            ],
            "text/plain": [
              "| 1235         | 3.11043      | 42m 39s      |"
            ]
          },
          "metadata": {
            "tags": []
          }
        },
        {
          "output_type": "display_data",
          "data": {
            "text/html": [
              "<pre>| 1240         | 3.09221      | 42m 50s      |</pre>"
            ],
            "text/plain": [
              "| 1240         | 3.09221      | 42m 50s      |"
            ]
          },
          "metadata": {
            "tags": []
          }
        },
        {
          "output_type": "display_data",
          "data": {
            "text/html": [
              "<pre>| 1245         | 3.11796      | 43m 0s       |</pre>"
            ],
            "text/plain": [
              "| 1245         | 3.11796      | 43m 0s       |"
            ]
          },
          "metadata": {
            "tags": []
          }
        },
        {
          "output_type": "display_data",
          "data": {
            "text/html": [
              "<pre>| 1250         | 3.0208       | 43m 10s      |</pre>"
            ],
            "text/plain": [
              "| 1250         | 3.0208       | 43m 10s      |"
            ]
          },
          "metadata": {
            "tags": []
          }
        },
        {
          "output_type": "display_data",
          "data": {
            "text/html": [
              "<pre>| 1255         | 3.09541      | 43m 20s      |</pre>"
            ],
            "text/plain": [
              "| 1255         | 3.09541      | 43m 20s      |"
            ]
          },
          "metadata": {
            "tags": []
          }
        },
        {
          "output_type": "display_data",
          "data": {
            "text/html": [
              "<pre>| 1260         | 3.16191      | 43m 30s      |</pre>"
            ],
            "text/plain": [
              "| 1260         | 3.16191      | 43m 30s      |"
            ]
          },
          "metadata": {
            "tags": []
          }
        },
        {
          "output_type": "display_data",
          "data": {
            "text/html": [
              "<pre>| 1265         | 3.12119      | 43m 40s      |</pre>"
            ],
            "text/plain": [
              "| 1265         | 3.12119      | 43m 40s      |"
            ]
          },
          "metadata": {
            "tags": []
          }
        },
        {
          "output_type": "display_data",
          "data": {
            "text/html": [
              "<pre>| 1270         | 3.09241      | 43m 50s      |</pre>"
            ],
            "text/plain": [
              "| 1270         | 3.09241      | 43m 50s      |"
            ]
          },
          "metadata": {
            "tags": []
          }
        },
        {
          "output_type": "display_data",
          "data": {
            "text/html": [
              "<pre>| 1275         | 3.04746      | 44m 1s       |</pre>"
            ],
            "text/plain": [
              "| 1275         | 3.04746      | 44m 1s       |"
            ]
          },
          "metadata": {
            "tags": []
          }
        },
        {
          "output_type": "display_data",
          "data": {
            "text/html": [
              "<pre>| 1280         | 3.0544       | 44m 11s      |</pre>"
            ],
            "text/plain": [
              "| 1280         | 3.0544       | 44m 11s      |"
            ]
          },
          "metadata": {
            "tags": []
          }
        },
        {
          "output_type": "display_data",
          "data": {
            "text/html": [
              "<pre>| 1285         | 3.04491      | 44m 21s      |</pre>"
            ],
            "text/plain": [
              "| 1285         | 3.04491      | 44m 21s      |"
            ]
          },
          "metadata": {
            "tags": []
          }
        },
        {
          "output_type": "display_data",
          "data": {
            "text/html": [
              "<pre>| 1290         | 3.11879      | 44m 31s      |</pre>"
            ],
            "text/plain": [
              "| 1290         | 3.11879      | 44m 31s      |"
            ]
          },
          "metadata": {
            "tags": []
          }
        },
        {
          "output_type": "display_data",
          "data": {
            "text/html": [
              "<pre>| 1295         | 3.05032      | 44m 41s      |</pre>"
            ],
            "text/plain": [
              "| 1295         | 3.05032      | 44m 41s      |"
            ]
          },
          "metadata": {
            "tags": []
          }
        },
        {
          "output_type": "display_data",
          "data": {
            "text/html": [
              "<pre>| 1300         | 3.0458       | 44m 51s      |</pre>"
            ],
            "text/plain": [
              "| 1300         | 3.0458       | 44m 51s      |"
            ]
          },
          "metadata": {
            "tags": []
          }
        },
        {
          "output_type": "display_data",
          "data": {
            "text/html": [
              "<pre>| 1305         | 3.0969       | 45m 1s       |</pre>"
            ],
            "text/plain": [
              "| 1305         | 3.0969       | 45m 1s       |"
            ]
          },
          "metadata": {
            "tags": []
          }
        },
        {
          "output_type": "display_data",
          "data": {
            "text/html": [
              "<pre>| 1310         | 3.13942      | 45m 12s      |</pre>"
            ],
            "text/plain": [
              "| 1310         | 3.13942      | 45m 12s      |"
            ]
          },
          "metadata": {
            "tags": []
          }
        },
        {
          "output_type": "display_data",
          "data": {
            "text/html": [
              "<pre>| 1315         | 3.15349      | 45m 22s      |</pre>"
            ],
            "text/plain": [
              "| 1315         | 3.15349      | 45m 22s      |"
            ]
          },
          "metadata": {
            "tags": []
          }
        },
        {
          "output_type": "display_data",
          "data": {
            "text/html": [
              "<pre>| 1320         | 3.07892      | 45m 32s      |</pre>"
            ],
            "text/plain": [
              "| 1320         | 3.07892      | 45m 32s      |"
            ]
          },
          "metadata": {
            "tags": []
          }
        },
        {
          "output_type": "display_data",
          "data": {
            "text/html": [
              "<pre>| 1325         | 3.13637      | 45m 42s      |</pre>"
            ],
            "text/plain": [
              "| 1325         | 3.13637      | 45m 42s      |"
            ]
          },
          "metadata": {
            "tags": []
          }
        },
        {
          "output_type": "display_data",
          "data": {
            "text/html": [
              "<pre>| 1330         | 3.10141      | 45m 53s      |</pre>"
            ],
            "text/plain": [
              "| 1330         | 3.10141      | 45m 53s      |"
            ]
          },
          "metadata": {
            "tags": []
          }
        },
        {
          "output_type": "display_data",
          "data": {
            "text/html": [
              "<pre>| 1335         | 3.15295      | 46m 3s       |</pre>"
            ],
            "text/plain": [
              "| 1335         | 3.15295      | 46m 3s       |"
            ]
          },
          "metadata": {
            "tags": []
          }
        },
        {
          "output_type": "display_data",
          "data": {
            "text/html": [
              "<pre>| 1340         | 3.06998      | 46m 13s      |</pre>"
            ],
            "text/plain": [
              "| 1340         | 3.06998      | 46m 13s      |"
            ]
          },
          "metadata": {
            "tags": []
          }
        },
        {
          "output_type": "display_data",
          "data": {
            "text/html": [
              "<pre>| 1345         | 3.04494      | 46m 23s      |</pre>"
            ],
            "text/plain": [
              "| 1345         | 3.04494      | 46m 23s      |"
            ]
          },
          "metadata": {
            "tags": []
          }
        },
        {
          "output_type": "display_data",
          "data": {
            "text/html": [
              "<pre>| 1350         | 3.04869      | 46m 33s      |</pre>"
            ],
            "text/plain": [
              "| 1350         | 3.04869      | 46m 33s      |"
            ]
          },
          "metadata": {
            "tags": []
          }
        },
        {
          "output_type": "display_data",
          "data": {
            "text/html": [
              "<pre>| 1355         | 3.15665      | 46m 43s      |</pre>"
            ],
            "text/plain": [
              "| 1355         | 3.15665      | 46m 43s      |"
            ]
          },
          "metadata": {
            "tags": []
          }
        },
        {
          "output_type": "display_data",
          "data": {
            "text/html": [
              "<pre>| 1360         | 3.11584      | 46m 54s      |</pre>"
            ],
            "text/plain": [
              "| 1360         | 3.11584      | 46m 54s      |"
            ]
          },
          "metadata": {
            "tags": []
          }
        },
        {
          "output_type": "display_data",
          "data": {
            "text/html": [
              "<pre>| 1365         | 3.1427       | 47m 4s       |</pre>"
            ],
            "text/plain": [
              "| 1365         | 3.1427       | 47m 4s       |"
            ]
          },
          "metadata": {
            "tags": []
          }
        },
        {
          "output_type": "display_data",
          "data": {
            "text/html": [
              "<pre>| 1370         | 3.0733       | 47m 14s      |</pre>"
            ],
            "text/plain": [
              "| 1370         | 3.0733       | 47m 14s      |"
            ]
          },
          "metadata": {
            "tags": []
          }
        },
        {
          "output_type": "display_data",
          "data": {
            "text/html": [
              "<pre>| 1375         | 3.17551      | 47m 24s      |</pre>"
            ],
            "text/plain": [
              "| 1375         | 3.17551      | 47m 24s      |"
            ]
          },
          "metadata": {
            "tags": []
          }
        },
        {
          "output_type": "display_data",
          "data": {
            "text/html": [
              "<pre>| 1380         | 3.12801      | 47m 34s      |</pre>"
            ],
            "text/plain": [
              "| 1380         | 3.12801      | 47m 34s      |"
            ]
          },
          "metadata": {
            "tags": []
          }
        },
        {
          "output_type": "display_data",
          "data": {
            "text/html": [
              "<pre>| 1385         | 3.12068      | 47m 44s      |</pre>"
            ],
            "text/plain": [
              "| 1385         | 3.12068      | 47m 44s      |"
            ]
          },
          "metadata": {
            "tags": []
          }
        },
        {
          "output_type": "display_data",
          "data": {
            "text/html": [
              "<pre>| 1390         | 3.0643       | 47m 54s      |</pre>"
            ],
            "text/plain": [
              "| 1390         | 3.0643       | 47m 54s      |"
            ]
          },
          "metadata": {
            "tags": []
          }
        },
        {
          "output_type": "display_data",
          "data": {
            "text/html": [
              "<pre>| 1395         | 2.99883      | 48m 4s       |</pre>"
            ],
            "text/plain": [
              "| 1395         | 2.99883      | 48m 4s       |"
            ]
          },
          "metadata": {
            "tags": []
          }
        },
        {
          "output_type": "display_data",
          "data": {
            "text/html": [
              "<pre>| 1400         | 2.97774      | 48m 15s      |</pre>"
            ],
            "text/plain": [
              "| 1400         | 2.97774      | 48m 15s      |"
            ]
          },
          "metadata": {
            "tags": []
          }
        },
        {
          "output_type": "display_data",
          "data": {
            "text/html": [
              "<pre>| 1405         | 2.93627      | 48m 25s      |</pre>"
            ],
            "text/plain": [
              "| 1405         | 2.93627      | 48m 25s      |"
            ]
          },
          "metadata": {
            "tags": []
          }
        },
        {
          "output_type": "display_data",
          "data": {
            "text/html": [
              "<pre>| 1410         | 2.93451      | 48m 35s      |</pre>"
            ],
            "text/plain": [
              "| 1410         | 2.93451      | 48m 35s      |"
            ]
          },
          "metadata": {
            "tags": []
          }
        },
        {
          "output_type": "display_data",
          "data": {
            "text/html": [
              "<pre>| 1415         | 3.08729      | 48m 45s      |</pre>"
            ],
            "text/plain": [
              "| 1415         | 3.08729      | 48m 45s      |"
            ]
          },
          "metadata": {
            "tags": []
          }
        },
        {
          "output_type": "display_data",
          "data": {
            "text/html": [
              "<pre>| 1420         | 3.19117      | 48m 55s      |</pre>"
            ],
            "text/plain": [
              "| 1420         | 3.19117      | 48m 55s      |"
            ]
          },
          "metadata": {
            "tags": []
          }
        },
        {
          "output_type": "display_data",
          "data": {
            "text/html": [
              "<pre>| 1425         | 3.0619       | 49m 6s       |</pre>"
            ],
            "text/plain": [
              "| 1425         | 3.0619       | 49m 6s       |"
            ]
          },
          "metadata": {
            "tags": []
          }
        },
        {
          "output_type": "display_data",
          "data": {
            "text/html": [
              "<pre>| 1430         | 3.00534      | 49m 16s      |</pre>"
            ],
            "text/plain": [
              "| 1430         | 3.00534      | 49m 16s      |"
            ]
          },
          "metadata": {
            "tags": []
          }
        },
        {
          "output_type": "display_data",
          "data": {
            "text/html": [
              "<pre>| 1435         | 3.01269      | 49m 26s      |</pre>"
            ],
            "text/plain": [
              "| 1435         | 3.01269      | 49m 26s      |"
            ]
          },
          "metadata": {
            "tags": []
          }
        },
        {
          "output_type": "display_data",
          "data": {
            "text/html": [
              "<pre>| 1440         | 2.92692      | 49m 36s      |</pre>"
            ],
            "text/plain": [
              "| 1440         | 2.92692      | 49m 36s      |"
            ]
          },
          "metadata": {
            "tags": []
          }
        },
        {
          "output_type": "display_data",
          "data": {
            "text/html": [
              "<pre>| 1445         | 3.01813      | 49m 46s      |</pre>"
            ],
            "text/plain": [
              "| 1445         | 3.01813      | 49m 46s      |"
            ]
          },
          "metadata": {
            "tags": []
          }
        },
        {
          "output_type": "display_data",
          "data": {
            "text/html": [
              "<pre>| 1450         | 2.93899      | 49m 56s      |</pre>"
            ],
            "text/plain": [
              "| 1450         | 2.93899      | 49m 56s      |"
            ]
          },
          "metadata": {
            "tags": []
          }
        },
        {
          "output_type": "display_data",
          "data": {
            "text/html": [
              "<pre>| 1455         | 2.91073      | 50m 6s       |</pre>"
            ],
            "text/plain": [
              "| 1455         | 2.91073      | 50m 6s       |"
            ]
          },
          "metadata": {
            "tags": []
          }
        },
        {
          "output_type": "display_data",
          "data": {
            "text/html": [
              "<pre>| 1460         | 2.96679      | 50m 16s      |</pre>"
            ],
            "text/plain": [
              "| 1460         | 2.96679      | 50m 16s      |"
            ]
          },
          "metadata": {
            "tags": []
          }
        },
        {
          "output_type": "display_data",
          "data": {
            "text/html": [
              "<pre>| 1465         | 3.0097       | 50m 27s      |</pre>"
            ],
            "text/plain": [
              "| 1465         | 3.0097       | 50m 27s      |"
            ]
          },
          "metadata": {
            "tags": []
          }
        },
        {
          "output_type": "display_data",
          "data": {
            "text/html": [
              "<pre>| 1470         | 3.08532      | 50m 37s      |</pre>"
            ],
            "text/plain": [
              "| 1470         | 3.08532      | 50m 37s      |"
            ]
          },
          "metadata": {
            "tags": []
          }
        },
        {
          "output_type": "display_data",
          "data": {
            "text/html": [
              "<pre>| 1475         | 3.19356      | 50m 47s      |</pre>"
            ],
            "text/plain": [
              "| 1475         | 3.19356      | 50m 47s      |"
            ]
          },
          "metadata": {
            "tags": []
          }
        },
        {
          "output_type": "display_data",
          "data": {
            "text/html": [
              "<pre>| 1480         | 3.16837      | 50m 57s      |</pre>"
            ],
            "text/plain": [
              "| 1480         | 3.16837      | 50m 57s      |"
            ]
          },
          "metadata": {
            "tags": []
          }
        },
        {
          "output_type": "display_data",
          "data": {
            "text/html": [
              "<pre>| 1485         | 3.09519      | 51m 8s       |</pre>"
            ],
            "text/plain": [
              "| 1485         | 3.09519      | 51m 8s       |"
            ]
          },
          "metadata": {
            "tags": []
          }
        },
        {
          "output_type": "display_data",
          "data": {
            "text/html": [
              "<pre>| 1490         | 3.15848      | 51m 18s      |</pre>"
            ],
            "text/plain": [
              "| 1490         | 3.15848      | 51m 18s      |"
            ]
          },
          "metadata": {
            "tags": []
          }
        },
        {
          "output_type": "display_data",
          "data": {
            "text/html": [
              "<pre>| 1495         | 3.15959      | 51m 28s      |</pre>"
            ],
            "text/plain": [
              "| 1495         | 3.15959      | 51m 28s      |"
            ]
          },
          "metadata": {
            "tags": []
          }
        },
        {
          "output_type": "display_data",
          "data": {
            "text/html": [
              "<pre>| 1500         | 3.18541      | 51m 38s      |</pre>"
            ],
            "text/plain": [
              "| 1500         | 3.18541      | 51m 38s      |"
            ]
          },
          "metadata": {
            "tags": []
          }
        },
        {
          "output_type": "display_data",
          "data": {
            "text/html": [
              "<pre>| 1505         | 3.11571      | 51m 48s      |</pre>"
            ],
            "text/plain": [
              "| 1505         | 3.11571      | 51m 48s      |"
            ]
          },
          "metadata": {
            "tags": []
          }
        },
        {
          "output_type": "display_data",
          "data": {
            "text/html": [
              "<pre>| 1510         | 3.16766      | 51m 58s      |</pre>"
            ],
            "text/plain": [
              "| 1510         | 3.16766      | 51m 58s      |"
            ]
          },
          "metadata": {
            "tags": []
          }
        },
        {
          "output_type": "display_data",
          "data": {
            "text/html": [
              "<pre>| 1515         | 3.13646      | 52m 8s       |</pre>"
            ],
            "text/plain": [
              "| 1515         | 3.13646      | 52m 8s       |"
            ]
          },
          "metadata": {
            "tags": []
          }
        },
        {
          "output_type": "display_data",
          "data": {
            "text/html": [
              "<pre>| 1520         | 3.16659      | 52m 18s      |</pre>"
            ],
            "text/plain": [
              "| 1520         | 3.16659      | 52m 18s      |"
            ]
          },
          "metadata": {
            "tags": []
          }
        },
        {
          "output_type": "display_data",
          "data": {
            "text/html": [
              "<pre>| 1525         | 3.03788      | 52m 29s      |</pre>"
            ],
            "text/plain": [
              "| 1525         | 3.03788      | 52m 29s      |"
            ]
          },
          "metadata": {
            "tags": []
          }
        },
        {
          "output_type": "display_data",
          "data": {
            "text/html": [
              "<pre>| 1530         | 3.06054      | 52m 39s      |</pre>"
            ],
            "text/plain": [
              "| 1530         | 3.06054      | 52m 39s      |"
            ]
          },
          "metadata": {
            "tags": []
          }
        },
        {
          "output_type": "display_data",
          "data": {
            "text/html": [
              "<pre>| 1535         | 3.05575      | 52m 49s      |</pre>"
            ],
            "text/plain": [
              "| 1535         | 3.05575      | 52m 49s      |"
            ]
          },
          "metadata": {
            "tags": []
          }
        },
        {
          "output_type": "display_data",
          "data": {
            "text/html": [
              "<pre>| 1540         | 3.0875       | 52m 59s      |</pre>"
            ],
            "text/plain": [
              "| 1540         | 3.0875       | 52m 59s      |"
            ]
          },
          "metadata": {
            "tags": []
          }
        },
        {
          "output_type": "display_data",
          "data": {
            "text/html": [
              "<pre>| 1545         | 3.1464       | 53m 9s       |</pre>"
            ],
            "text/plain": [
              "| 1545         | 3.1464       | 53m 9s       |"
            ]
          },
          "metadata": {
            "tags": []
          }
        },
        {
          "output_type": "display_data",
          "data": {
            "text/html": [
              "<pre>| 1550         | 3.12369      | 53m 19s      |</pre>"
            ],
            "text/plain": [
              "| 1550         | 3.12369      | 53m 19s      |"
            ]
          },
          "metadata": {
            "tags": []
          }
        },
        {
          "output_type": "display_data",
          "data": {
            "text/html": [
              "<pre>| 1555         | 3.00641      | 53m 29s      |</pre>"
            ],
            "text/plain": [
              "| 1555         | 3.00641      | 53m 29s      |"
            ]
          },
          "metadata": {
            "tags": []
          }
        },
        {
          "output_type": "display_data",
          "data": {
            "text/html": [
              "<pre>| 1560         | 2.99707      | 53m 39s      |</pre>"
            ],
            "text/plain": [
              "| 1560         | 2.99707      | 53m 39s      |"
            ]
          },
          "metadata": {
            "tags": []
          }
        },
        {
          "output_type": "display_data",
          "data": {
            "text/html": [
              "<pre>| 1565         | 3.0569       | 53m 49s      |</pre>"
            ],
            "text/plain": [
              "| 1565         | 3.0569       | 53m 49s      |"
            ]
          },
          "metadata": {
            "tags": []
          }
        },
        {
          "output_type": "display_data",
          "data": {
            "text/html": [
              "<pre>| 1570         | 2.96039      | 53m 59s      |</pre>"
            ],
            "text/plain": [
              "| 1570         | 2.96039      | 53m 59s      |"
            ]
          },
          "metadata": {
            "tags": []
          }
        },
        {
          "output_type": "display_data",
          "data": {
            "text/html": [
              "<pre>| 1575         | 2.96626      | 54m 10s      |</pre>"
            ],
            "text/plain": [
              "| 1575         | 2.96626      | 54m 10s      |"
            ]
          },
          "metadata": {
            "tags": []
          }
        },
        {
          "output_type": "display_data",
          "data": {
            "text/html": [
              "<pre>| 1580         | 2.97279      | 54m 20s      |</pre>"
            ],
            "text/plain": [
              "| 1580         | 2.97279      | 54m 20s      |"
            ]
          },
          "metadata": {
            "tags": []
          }
        },
        {
          "output_type": "display_data",
          "data": {
            "text/html": [
              "<pre>| 1585         | 2.96541      | 54m 30s      |</pre>"
            ],
            "text/plain": [
              "| 1585         | 2.96541      | 54m 30s      |"
            ]
          },
          "metadata": {
            "tags": []
          }
        },
        {
          "output_type": "display_data",
          "data": {
            "text/html": [
              "<pre>| 1590         | 2.99256      | 54m 40s      |</pre>"
            ],
            "text/plain": [
              "| 1590         | 2.99256      | 54m 40s      |"
            ]
          },
          "metadata": {
            "tags": []
          }
        },
        {
          "output_type": "display_data",
          "data": {
            "text/html": [
              "<pre>| 1595         | 2.9344       | 54m 50s      |</pre>"
            ],
            "text/plain": [
              "| 1595         | 2.9344       | 54m 50s      |"
            ]
          },
          "metadata": {
            "tags": []
          }
        },
        {
          "output_type": "display_data",
          "data": {
            "text/html": [
              "<pre>| 1600         | 3.07302      | 55m 1s       |</pre>"
            ],
            "text/plain": [
              "| 1600         | 3.07302      | 55m 1s       |"
            ]
          },
          "metadata": {
            "tags": []
          }
        },
        {
          "output_type": "display_data",
          "data": {
            "text/html": [
              "<pre>| 1605         | 3.02515      | 55m 11s      |</pre>"
            ],
            "text/plain": [
              "| 1605         | 3.02515      | 55m 11s      |"
            ]
          },
          "metadata": {
            "tags": []
          }
        },
        {
          "output_type": "display_data",
          "data": {
            "text/html": [
              "<pre>| 1610         | 3.05034      | 55m 21s      |</pre>"
            ],
            "text/plain": [
              "| 1610         | 3.05034      | 55m 21s      |"
            ]
          },
          "metadata": {
            "tags": []
          }
        },
        {
          "output_type": "display_data",
          "data": {
            "text/html": [
              "<pre>| 1615         | 2.98141      | 55m 31s      |</pre>"
            ],
            "text/plain": [
              "| 1615         | 2.98141      | 55m 31s      |"
            ]
          },
          "metadata": {
            "tags": []
          }
        },
        {
          "output_type": "display_data",
          "data": {
            "text/html": [
              "<pre>| 1620         | 2.94775      | 55m 41s      |</pre>"
            ],
            "text/plain": [
              "| 1620         | 2.94775      | 55m 41s      |"
            ]
          },
          "metadata": {
            "tags": []
          }
        },
        {
          "output_type": "display_data",
          "data": {
            "text/html": [
              "<pre>| 1625         | 3.00941      | 55m 51s      |</pre>"
            ],
            "text/plain": [
              "| 1625         | 3.00941      | 55m 51s      |"
            ]
          },
          "metadata": {
            "tags": []
          }
        },
        {
          "output_type": "display_data",
          "data": {
            "text/html": [
              "<pre>| 1630         | 3.00486      | 56m 2s       |</pre>"
            ],
            "text/plain": [
              "| 1630         | 3.00486      | 56m 2s       |"
            ]
          },
          "metadata": {
            "tags": []
          }
        },
        {
          "output_type": "display_data",
          "data": {
            "text/html": [
              "<pre>| 1635         | 3.01299      | 56m 12s      |</pre>"
            ],
            "text/plain": [
              "| 1635         | 3.01299      | 56m 12s      |"
            ]
          },
          "metadata": {
            "tags": []
          }
        },
        {
          "output_type": "display_data",
          "data": {
            "text/html": [
              "<pre>| 1640         | 3.10145      | 56m 22s      |</pre>"
            ],
            "text/plain": [
              "| 1640         | 3.10145      | 56m 22s      |"
            ]
          },
          "metadata": {
            "tags": []
          }
        },
        {
          "output_type": "display_data",
          "data": {
            "text/html": [
              "<pre>| 1645         | 2.97285      | 56m 32s      |</pre>"
            ],
            "text/plain": [
              "| 1645         | 2.97285      | 56m 32s      |"
            ]
          },
          "metadata": {
            "tags": []
          }
        },
        {
          "output_type": "display_data",
          "data": {
            "text/html": [
              "<pre>| 1650         | 2.93768      | 56m 42s      |</pre>"
            ],
            "text/plain": [
              "| 1650         | 2.93768      | 56m 42s      |"
            ]
          },
          "metadata": {
            "tags": []
          }
        },
        {
          "output_type": "display_data",
          "data": {
            "text/html": [
              "<pre>| 1655         | 2.99476      | 56m 52s      |</pre>"
            ],
            "text/plain": [
              "| 1655         | 2.99476      | 56m 52s      |"
            ]
          },
          "metadata": {
            "tags": []
          }
        },
        {
          "output_type": "display_data",
          "data": {
            "text/html": [
              "<pre>| 1660         | 3.00624      | 57m 3s       |</pre>"
            ],
            "text/plain": [
              "| 1660         | 3.00624      | 57m 3s       |"
            ]
          },
          "metadata": {
            "tags": []
          }
        },
        {
          "output_type": "display_data",
          "data": {
            "text/html": [
              "<pre>| 1665         | 3.05395      | 57m 13s      |</pre>"
            ],
            "text/plain": [
              "| 1665         | 3.05395      | 57m 13s      |"
            ]
          },
          "metadata": {
            "tags": []
          }
        },
        {
          "output_type": "display_data",
          "data": {
            "text/html": [
              "<pre>| 1670         | 3.05753      | 57m 23s      |</pre>"
            ],
            "text/plain": [
              "| 1670         | 3.05753      | 57m 23s      |"
            ]
          },
          "metadata": {
            "tags": []
          }
        },
        {
          "output_type": "display_data",
          "data": {
            "text/html": [
              "<pre>| 1675         | 3.0431       | 57m 33s      |</pre>"
            ],
            "text/plain": [
              "| 1675         | 3.0431       | 57m 33s      |"
            ]
          },
          "metadata": {
            "tags": []
          }
        },
        {
          "output_type": "display_data",
          "data": {
            "text/html": [
              "<pre>| 1680         | 3.04188      | 57m 43s      |</pre>"
            ],
            "text/plain": [
              "| 1680         | 3.04188      | 57m 43s      |"
            ]
          },
          "metadata": {
            "tags": []
          }
        },
        {
          "output_type": "display_data",
          "data": {
            "text/html": [
              "<pre>| 1685         | 3.02284      | 57m 53s      |</pre>"
            ],
            "text/plain": [
              "| 1685         | 3.02284      | 57m 53s      |"
            ]
          },
          "metadata": {
            "tags": []
          }
        },
        {
          "output_type": "display_data",
          "data": {
            "text/html": [
              "<pre>| 1690         | 3.0213       | 58m 4s       |</pre>"
            ],
            "text/plain": [
              "| 1690         | 3.0213       | 58m 4s       |"
            ]
          },
          "metadata": {
            "tags": []
          }
        },
        {
          "output_type": "display_data",
          "data": {
            "text/html": [
              "<pre>| 1695         | 2.98578      | 58m 14s      |</pre>"
            ],
            "text/plain": [
              "| 1695         | 2.98578      | 58m 14s      |"
            ]
          },
          "metadata": {
            "tags": []
          }
        },
        {
          "output_type": "display_data",
          "data": {
            "text/html": [
              "<pre>| 1700         | 3.08774      | 58m 24s      |</pre>"
            ],
            "text/plain": [
              "| 1700         | 3.08774      | 58m 24s      |"
            ]
          },
          "metadata": {
            "tags": []
          }
        },
        {
          "output_type": "display_data",
          "data": {
            "text/html": [
              "<pre>| 1705         | 3.11722      | 58m 34s      |</pre>"
            ],
            "text/plain": [
              "| 1705         | 3.11722      | 58m 34s      |"
            ]
          },
          "metadata": {
            "tags": []
          }
        },
        {
          "output_type": "display_data",
          "data": {
            "text/html": [
              "<pre>| 1710         | 3.02398      | 58m 44s      |</pre>"
            ],
            "text/plain": [
              "| 1710         | 3.02398      | 58m 44s      |"
            ]
          },
          "metadata": {
            "tags": []
          }
        },
        {
          "output_type": "display_data",
          "data": {
            "text/html": [
              "<pre>| 1715         | 3.03144      | 58m 54s      |</pre>"
            ],
            "text/plain": [
              "| 1715         | 3.03144      | 58m 54s      |"
            ]
          },
          "metadata": {
            "tags": []
          }
        },
        {
          "output_type": "display_data",
          "data": {
            "text/html": [
              "<pre>| 1720         | 3.01881      | 59m 5s       |</pre>"
            ],
            "text/plain": [
              "| 1720         | 3.01881      | 59m 5s       |"
            ]
          },
          "metadata": {
            "tags": []
          }
        },
        {
          "output_type": "display_data",
          "data": {
            "text/html": [
              "<pre>| 1725         | 2.94439      | 59m 15s      |</pre>"
            ],
            "text/plain": [
              "| 1725         | 2.94439      | 59m 15s      |"
            ]
          },
          "metadata": {
            "tags": []
          }
        },
        {
          "output_type": "display_data",
          "data": {
            "text/html": [
              "<pre>| 1730         | 2.99823      | 59m 25s      |</pre>"
            ],
            "text/plain": [
              "| 1730         | 2.99823      | 59m 25s      |"
            ]
          },
          "metadata": {
            "tags": []
          }
        },
        {
          "output_type": "display_data",
          "data": {
            "text/html": [
              "<pre>| 1735         | 2.94147      | 59m 35s      |</pre>"
            ],
            "text/plain": [
              "| 1735         | 2.94147      | 59m 35s      |"
            ]
          },
          "metadata": {
            "tags": []
          }
        },
        {
          "output_type": "display_data",
          "data": {
            "text/html": [
              "<pre>| 1740         | 3.05578      | 59m 46s      |</pre>"
            ],
            "text/plain": [
              "| 1740         | 3.05578      | 59m 46s      |"
            ]
          },
          "metadata": {
            "tags": []
          }
        },
        {
          "output_type": "display_data",
          "data": {
            "text/html": [
              "<pre>| 1745         | 3.0428       | 59m 56s      |</pre>"
            ],
            "text/plain": [
              "| 1745         | 3.0428       | 59m 56s      |"
            ]
          },
          "metadata": {
            "tags": []
          }
        },
        {
          "output_type": "display_data",
          "data": {
            "text/html": [
              "<pre>| 1750         | 3.04457      | 1h 0m        |</pre>"
            ],
            "text/plain": [
              "| 1750         | 3.04457      | 1h 0m        |"
            ]
          },
          "metadata": {
            "tags": []
          }
        },
        {
          "output_type": "display_data",
          "data": {
            "text/html": [
              "<pre>| 1755         | 2.98178      | 1h 0m        |</pre>"
            ],
            "text/plain": [
              "| 1755         | 2.98178      | 1h 0m        |"
            ]
          },
          "metadata": {
            "tags": []
          }
        },
        {
          "output_type": "display_data",
          "data": {
            "text/html": [
              "<pre>| 1760         | 3.00854      | 1h 0m        |</pre>"
            ],
            "text/plain": [
              "| 1760         | 3.00854      | 1h 0m        |"
            ]
          },
          "metadata": {
            "tags": []
          }
        },
        {
          "output_type": "display_data",
          "data": {
            "text/html": [
              "<pre>| 1765         | 3.09064      | 1h 0m        |</pre>"
            ],
            "text/plain": [
              "| 1765         | 3.09064      | 1h 0m        |"
            ]
          },
          "metadata": {
            "tags": []
          }
        },
        {
          "output_type": "display_data",
          "data": {
            "text/html": [
              "<pre>| 1770         | 2.9973       | 1h 0m        |</pre>"
            ],
            "text/plain": [
              "| 1770         | 2.9973       | 1h 0m        |"
            ]
          },
          "metadata": {
            "tags": []
          }
        },
        {
          "output_type": "display_data",
          "data": {
            "text/html": [
              "<pre>| 1775         | 2.99464      | 1h 0m        |</pre>"
            ],
            "text/plain": [
              "| 1775         | 2.99464      | 1h 0m        |"
            ]
          },
          "metadata": {
            "tags": []
          }
        },
        {
          "output_type": "display_data",
          "data": {
            "text/html": [
              "<pre>| 1780         | 2.9432       | 1h 1m        |</pre>"
            ],
            "text/plain": [
              "| 1780         | 2.9432       | 1h 1m        |"
            ]
          },
          "metadata": {
            "tags": []
          }
        },
        {
          "output_type": "display_data",
          "data": {
            "text/html": [
              "<pre>| 1785         | 2.89508      | 1h 1m        |</pre>"
            ],
            "text/plain": [
              "| 1785         | 2.89508      | 1h 1m        |"
            ]
          },
          "metadata": {
            "tags": []
          }
        },
        {
          "output_type": "display_data",
          "data": {
            "text/html": [
              "<pre>| 1790         | 2.93922      | 1h 1m        |</pre>"
            ],
            "text/plain": [
              "| 1790         | 2.93922      | 1h 1m        |"
            ]
          },
          "metadata": {
            "tags": []
          }
        },
        {
          "output_type": "display_data",
          "data": {
            "text/html": [
              "<pre>| 1795         | 2.97046      | 1h 1m        |</pre>"
            ],
            "text/plain": [
              "| 1795         | 2.97046      | 1h 1m        |"
            ]
          },
          "metadata": {
            "tags": []
          }
        },
        {
          "output_type": "display_data",
          "data": {
            "text/html": [
              "<pre>| 1800         | 2.97299      | 1h 1m        |</pre>"
            ],
            "text/plain": [
              "| 1800         | 2.97299      | 1h 1m        |"
            ]
          },
          "metadata": {
            "tags": []
          }
        },
        {
          "output_type": "display_data",
          "data": {
            "text/html": [
              "<pre>| 1805         | 3.01338      | 1h 1m        |</pre>"
            ],
            "text/plain": [
              "| 1805         | 3.01338      | 1h 1m        |"
            ]
          },
          "metadata": {
            "tags": []
          }
        },
        {
          "output_type": "display_data",
          "data": {
            "text/html": [
              "<pre>| 1810         | 2.90214      | 1h 2m        |</pre>"
            ],
            "text/plain": [
              "| 1810         | 2.90214      | 1h 2m        |"
            ]
          },
          "metadata": {
            "tags": []
          }
        },
        {
          "output_type": "display_data",
          "data": {
            "text/html": [
              "<pre>| 1815         | 3.04097      | 1h 2m        |</pre>"
            ],
            "text/plain": [
              "| 1815         | 3.04097      | 1h 2m        |"
            ]
          },
          "metadata": {
            "tags": []
          }
        },
        {
          "output_type": "display_data",
          "data": {
            "text/html": [
              "<pre>| 1820         | 3.07241      | 1h 2m        |</pre>"
            ],
            "text/plain": [
              "| 1820         | 3.07241      | 1h 2m        |"
            ]
          },
          "metadata": {
            "tags": []
          }
        },
        {
          "output_type": "display_data",
          "data": {
            "text/html": [
              "<pre>| 1825         | 3.14176      | 1h 2m        |</pre>"
            ],
            "text/plain": [
              "| 1825         | 3.14176      | 1h 2m        |"
            ]
          },
          "metadata": {
            "tags": []
          }
        },
        {
          "output_type": "display_data",
          "data": {
            "text/html": [
              "<pre>| 1830         | 3.06832      | 1h 2m        |</pre>"
            ],
            "text/plain": [
              "| 1830         | 3.06832      | 1h 2m        |"
            ]
          },
          "metadata": {
            "tags": []
          }
        },
        {
          "output_type": "display_data",
          "data": {
            "text/html": [
              "<pre>| 1835         | 2.98992      | 1h 3m        |</pre>"
            ],
            "text/plain": [
              "| 1835         | 2.98992      | 1h 3m        |"
            ]
          },
          "metadata": {
            "tags": []
          }
        },
        {
          "output_type": "display_data",
          "data": {
            "text/html": [
              "<pre>| 1840         | 3.0139       | 1h 3m        |</pre>"
            ],
            "text/plain": [
              "| 1840         | 3.0139       | 1h 3m        |"
            ]
          },
          "metadata": {
            "tags": []
          }
        },
        {
          "output_type": "display_data",
          "data": {
            "text/html": [
              "<pre>| 1845         | 3.02064      | 1h 3m        |</pre>"
            ],
            "text/plain": [
              "| 1845         | 3.02064      | 1h 3m        |"
            ]
          },
          "metadata": {
            "tags": []
          }
        },
        {
          "output_type": "display_data",
          "data": {
            "text/html": [
              "<pre>| 1850         | 2.94738      | 1h 3m        |</pre>"
            ],
            "text/plain": [
              "| 1850         | 2.94738      | 1h 3m        |"
            ]
          },
          "metadata": {
            "tags": []
          }
        },
        {
          "output_type": "display_data",
          "data": {
            "text/html": [
              "<pre>| 1855         | 2.99079      | 1h 3m        |</pre>"
            ],
            "text/plain": [
              "| 1855         | 2.99079      | 1h 3m        |"
            ]
          },
          "metadata": {
            "tags": []
          }
        },
        {
          "output_type": "display_data",
          "data": {
            "text/html": [
              "<pre>| 1860         | 2.95576      | 1h 3m        |</pre>"
            ],
            "text/plain": [
              "| 1860         | 2.95576      | 1h 3m        |"
            ]
          },
          "metadata": {
            "tags": []
          }
        },
        {
          "output_type": "display_data",
          "data": {
            "text/html": [
              "<pre>| 1865         | 2.92561      | 1h 4m        |</pre>"
            ],
            "text/plain": [
              "| 1865         | 2.92561      | 1h 4m        |"
            ]
          },
          "metadata": {
            "tags": []
          }
        },
        {
          "output_type": "display_data",
          "data": {
            "text/html": [
              "<pre>| 1870         | 2.90442      | 1h 4m        |</pre>"
            ],
            "text/plain": [
              "| 1870         | 2.90442      | 1h 4m        |"
            ]
          },
          "metadata": {
            "tags": []
          }
        },
        {
          "output_type": "display_data",
          "data": {
            "text/html": [
              "<pre>| 1875         | 2.9497       | 1h 4m        |</pre>"
            ],
            "text/plain": [
              "| 1875         | 2.9497       | 1h 4m        |"
            ]
          },
          "metadata": {
            "tags": []
          }
        },
        {
          "output_type": "display_data",
          "data": {
            "text/html": [
              "<pre>| 1880         | 2.99593      | 1h 4m        |</pre>"
            ],
            "text/plain": [
              "| 1880         | 2.99593      | 1h 4m        |"
            ]
          },
          "metadata": {
            "tags": []
          }
        },
        {
          "output_type": "display_data",
          "data": {
            "text/html": [
              "<pre>| 1885         | 3.05774      | 1h 4m        |</pre>"
            ],
            "text/plain": [
              "| 1885         | 3.05774      | 1h 4m        |"
            ]
          },
          "metadata": {
            "tags": []
          }
        },
        {
          "output_type": "display_data",
          "data": {
            "text/html": [
              "<pre>| 1890         | 3.04653      | 1h 4m        |</pre>"
            ],
            "text/plain": [
              "| 1890         | 3.04653      | 1h 4m        |"
            ]
          },
          "metadata": {
            "tags": []
          }
        },
        {
          "output_type": "display_data",
          "data": {
            "text/html": [
              "<pre>| 1895         | 3.16341      | 1h 5m        |</pre>"
            ],
            "text/plain": [
              "| 1895         | 3.16341      | 1h 5m        |"
            ]
          },
          "metadata": {
            "tags": []
          }
        },
        {
          "output_type": "display_data",
          "data": {
            "text/html": [
              "<pre>| 1900         | 3.05649      | 1h 5m        |</pre>"
            ],
            "text/plain": [
              "| 1900         | 3.05649      | 1h 5m        |"
            ]
          },
          "metadata": {
            "tags": []
          }
        },
        {
          "output_type": "display_data",
          "data": {
            "text/html": [
              "<pre>| 1905         | 3.08802      | 1h 5m        |</pre>"
            ],
            "text/plain": [
              "| 1905         | 3.08802      | 1h 5m        |"
            ]
          },
          "metadata": {
            "tags": []
          }
        },
        {
          "output_type": "display_data",
          "data": {
            "text/html": [
              "<pre>| 1910         | 3.06104      | 1h 5m        |</pre>"
            ],
            "text/plain": [
              "| 1910         | 3.06104      | 1h 5m        |"
            ]
          },
          "metadata": {
            "tags": []
          }
        },
        {
          "output_type": "display_data",
          "data": {
            "text/html": [
              "<pre>| 1915         | 3.06902      | 1h 5m        |</pre>"
            ],
            "text/plain": [
              "| 1915         | 3.06902      | 1h 5m        |"
            ]
          },
          "metadata": {
            "tags": []
          }
        },
        {
          "output_type": "display_data",
          "data": {
            "text/html": [
              "<pre>| 1920         | 3.08595      | 1h 5m        |</pre>"
            ],
            "text/plain": [
              "| 1920         | 3.08595      | 1h 5m        |"
            ]
          },
          "metadata": {
            "tags": []
          }
        },
        {
          "output_type": "display_data",
          "data": {
            "text/html": [
              "<pre>| 1925         | 3.09469      | 1h 6m        |</pre>"
            ],
            "text/plain": [
              "| 1925         | 3.09469      | 1h 6m        |"
            ]
          },
          "metadata": {
            "tags": []
          }
        },
        {
          "output_type": "display_data",
          "data": {
            "text/html": [
              "<pre>| 1930         | 3.09502      | 1h 6m        |</pre>"
            ],
            "text/plain": [
              "| 1930         | 3.09502      | 1h 6m        |"
            ]
          },
          "metadata": {
            "tags": []
          }
        },
        {
          "output_type": "display_data",
          "data": {
            "text/html": [
              "<pre>| 1935         | 3.04141      | 1h 6m        |</pre>"
            ],
            "text/plain": [
              "| 1935         | 3.04141      | 1h 6m        |"
            ]
          },
          "metadata": {
            "tags": []
          }
        },
        {
          "output_type": "display_data",
          "data": {
            "text/html": [
              "<pre>| 1940         | 2.986        | 1h 6m        |</pre>"
            ],
            "text/plain": [
              "| 1940         | 2.986        | 1h 6m        |"
            ]
          },
          "metadata": {
            "tags": []
          }
        },
        {
          "output_type": "display_data",
          "data": {
            "text/html": [
              "<pre>| 1945         | 3.07812      | 1h 6m        |</pre>"
            ],
            "text/plain": [
              "| 1945         | 3.07812      | 1h 6m        |"
            ]
          },
          "metadata": {
            "tags": []
          }
        },
        {
          "output_type": "display_data",
          "data": {
            "text/html": [
              "<pre>| 1950         | 2.99653      | 1h 6m        |</pre>"
            ],
            "text/plain": [
              "| 1950         | 2.99653      | 1h 6m        |"
            ]
          },
          "metadata": {
            "tags": []
          }
        },
        {
          "output_type": "display_data",
          "data": {
            "text/html": [
              "<pre>| 1955         | 2.92312      | 1h 7m        |</pre>"
            ],
            "text/plain": [
              "| 1955         | 2.92312      | 1h 7m        |"
            ]
          },
          "metadata": {
            "tags": []
          }
        },
        {
          "output_type": "display_data",
          "data": {
            "text/html": [
              "<pre>| 1960         | 2.90783      | 1h 7m        |</pre>"
            ],
            "text/plain": [
              "| 1960         | 2.90783      | 1h 7m        |"
            ]
          },
          "metadata": {
            "tags": []
          }
        },
        {
          "output_type": "display_data",
          "data": {
            "text/html": [
              "<pre>| 1965         | 2.99434      | 1h 7m        |</pre>"
            ],
            "text/plain": [
              "| 1965         | 2.99434      | 1h 7m        |"
            ]
          },
          "metadata": {
            "tags": []
          }
        },
        {
          "output_type": "display_data",
          "data": {
            "text/html": [
              "<pre>| 1970         | 3.0199       | 1h 7m        |</pre>"
            ],
            "text/plain": [
              "| 1970         | 3.0199       | 1h 7m        |"
            ]
          },
          "metadata": {
            "tags": []
          }
        },
        {
          "output_type": "display_data",
          "data": {
            "text/html": [
              "<pre>| 1975         | 2.99136      | 1h 7m        |</pre>"
            ],
            "text/plain": [
              "| 1975         | 2.99136      | 1h 7m        |"
            ]
          },
          "metadata": {
            "tags": []
          }
        },
        {
          "output_type": "display_data",
          "data": {
            "text/html": [
              "<pre>| 1980         | 2.93132      | 1h 7m        |</pre>"
            ],
            "text/plain": [
              "| 1980         | 2.93132      | 1h 7m        |"
            ]
          },
          "metadata": {
            "tags": []
          }
        },
        {
          "output_type": "display_data",
          "data": {
            "text/html": [
              "<pre>| 1985         | 3.06341      | 1h 8m        |</pre>"
            ],
            "text/plain": [
              "| 1985         | 3.06341      | 1h 8m        |"
            ]
          },
          "metadata": {
            "tags": []
          }
        },
        {
          "output_type": "display_data",
          "data": {
            "text/html": [
              "<pre>| 1990         | 3.10931      | 1h 8m        |</pre>"
            ],
            "text/plain": [
              "| 1990         | 3.10931      | 1h 8m        |"
            ]
          },
          "metadata": {
            "tags": []
          }
        },
        {
          "output_type": "display_data",
          "data": {
            "text/html": [
              "<pre>| 1995         | 3.00952      | 1h 8m        |</pre>"
            ],
            "text/plain": [
              "| 1995         | 3.00952      | 1h 8m        |"
            ]
          },
          "metadata": {
            "tags": []
          }
        },
        {
          "output_type": "display_data",
          "data": {
            "text/html": [
              "<pre>| 2000         | 3.05733      | 1h 8m        |</pre>"
            ],
            "text/plain": [
              "| 2000         | 3.05733      | 1h 8m        |"
            ]
          },
          "metadata": {
            "tags": []
          }
        },
        {
          "output_type": "display_data",
          "data": {
            "text/html": [
              "<pre>+--------------+--------------+--------------+</pre>"
            ],
            "text/plain": [
              "+--------------+--------------+--------------+"
            ]
          },
          "metadata": {
            "tags": []
          }
        }
      ]
    },
    {
      "cell_type": "code",
      "metadata": {
        "id": "dFJ7fwC537ls",
        "colab_type": "code",
        "colab": {}
      },
      "source": [
        "\n",
        "# Save the model for later use in Turi Create\n",
        "model.save(model_path+model_name+'.model')\n",
        "\n",
        "# Export for use in Core ML\n",
        "model.export_coreml(model_path+model_name+'.mlmodel')"
      ],
      "execution_count": 0,
      "outputs": []
    },
    {
      "cell_type": "code",
      "metadata": {
        "id": "0-_piqac3TDH",
        "colab_type": "code",
        "colab": {}
      },
      "source": [
        "\n",
        "# Save predictions to an SArray\n",
        "predictions = model.predict(test_data)\n",
        "\n",
        "# Evaluate the model and save the results into a dictionary\n",
        "metrics = model.evaluate(test_data)\n"
      ],
      "execution_count": 0,
      "outputs": []
    },
    {
      "cell_type": "code",
      "metadata": {
        "id": "VzvMeQkh7q3O",
        "colab_type": "code",
        "outputId": "7a399801-59c9-46cc-bc1f-7346421138a8",
        "colab": {
          "base_uri": "https://localhost:8080/",
          "height": 907
        }
      },
      "source": [
        "metrics"
      ],
      "execution_count": 0,
      "outputs": [
        {
          "output_type": "execute_result",
          "data": {
            "text/plain": [
              "{'average_precision_50': {'10c': 0.6519862413406372,\n",
              "  '10d': 0.53125,\n",
              "  '10h': 0.638626754283905,\n",
              "  '10s': 0.7370802164077759,\n",
              "  '2c': 0.8285242915153503,\n",
              "  '2d': 0.6680381298065186,\n",
              "  '2h': 0.48572832345962524,\n",
              "  '2s': 0.7707588076591492,\n",
              "  '3c': 0.8550686240196228,\n",
              "  '3d': 0.7854894995689392,\n",
              "  '3h': 0.7749999761581421,\n",
              "  '3s': 0.7841619253158569,\n",
              "  '4c': 0.5748807191848755,\n",
              "  '4d': 0.9679144024848938,\n",
              "  '4h': 0.6848739981651306,\n",
              "  '4s': 0.5037925243377686,\n",
              "  '5c': 0.7703996896743774,\n",
              "  '5d': 0.8629329204559326,\n",
              "  '5h': 0.7800852656364441,\n",
              "  '5s': 0.7730263471603394,\n",
              "  '6c': 0.9264346957206726,\n",
              "  '6d': 0.5040954947471619,\n",
              "  '6h': 0.5328322649002075,\n",
              "  '6s': 0.6428651809692383,\n",
              "  '7c': 0.5436022877693176,\n",
              "  '7d': 0.6758429408073425,\n",
              "  '7h': 0.6549450755119324,\n",
              "  '7s': 0.6428571343421936,\n",
              "  '8c': 0.4266853332519531,\n",
              "  '8d': 0.7660608887672424,\n",
              "  '8h': 0.6727485656738281,\n",
              "  '8s': 0.6932345628738403,\n",
              "  '9c': 0.6224969625473022,\n",
              "  '9d': 0.81380695104599,\n",
              "  '9h': 0.7611688375473022,\n",
              "  '9s': 0.6318387985229492,\n",
              "  'Ac': 0.5703812837600708,\n",
              "  'Ad': 0.6359195113182068,\n",
              "  'Ah': 0.704779326915741,\n",
              "  'As': 0.6710668206214905,\n",
              "  'Jc': 0.5809382200241089,\n",
              "  'Jd': 0.5105820298194885,\n",
              "  'Jh': 0.6704781651496887,\n",
              "  'Js': 0.6025120615959167,\n",
              "  'Kc': 0.4805147051811218,\n",
              "  'Kd': 0.8200985193252563,\n",
              "  'Kh': 0.6087194085121155,\n",
              "  'Ks': 0.6001426577568054,\n",
              "  'Qc': 0.7797258496284485,\n",
              "  'Qd': 0.8263558149337769,\n",
              "  'Qh': 0.7549257874488831,\n",
              "  'Qs': 0.6483286619186401},\n",
              " 'mean_average_precision_50': 0.6808961033821106}"
            ]
          },
          "metadata": {
            "tags": []
          },
          "execution_count": 6
        }
      ]
    },
    {
      "cell_type": "code",
      "metadata": {
        "id": "QW93qebX4Wkn",
        "colab_type": "code",
        "colab": {}
      },
      "source": [
        ""
      ],
      "execution_count": 0,
      "outputs": []
    }
  ]
}