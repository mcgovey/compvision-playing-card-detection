{
  "nbformat": 4,
  "nbformat_minor": 0,
  "metadata": {
    "colab": {
      "name": "TuriCreate_PlayingCard_sFrameCreate.ipynb",
      "provenance": [],
      "collapsed_sections": [],
      "toc_visible": true,
      "machine_shape": "hm",
      "mount_file_id": "1IY-XJyvkcc2oKCJK6SyyHtGxv_VIzlmy",
      "authorship_tag": "ABX9TyMofkseXc8ocWZVk/WU8W3e",
      "include_colab_link": true
    },
    "kernelspec": {
      "name": "python3",
      "display_name": "Python 3"
    }
  },
  "cells": [
    {
      "cell_type": "markdown",
      "metadata": {
        "id": "view-in-github",
        "colab_type": "text"
      },
      "source": [
        "<a href=\"https://colab.research.google.com/github/mcgovey/compvision-playing-card-detection/blob/master/TuriCreate_PlayingCard_sFrameCreate.ipynb\" target=\"_parent\"><img src=\"https://colab.research.google.com/assets/colab-badge.svg\" alt=\"Open In Colab\"/></a>"
      ]
    },
    {
      "cell_type": "markdown",
      "metadata": {
        "id": "6Q3xWSkvksWQ",
        "colab_type": "text"
      },
      "source": [
        "# Data Set Creation for Object Detection Model using Turi Create\n",
        "Author: Kevin McGovern\n",
        "\n",
        "Last Updated: May 28, 2020\n",
        "\n",
        "This notebook is used to create an sframe that will be used by Turi Create to build an object detection model.\n",
        "\n"
      ]
    },
    {
      "cell_type": "markdown",
      "metadata": {
        "id": "52RkWexLENcw",
        "colab_type": "text"
      },
      "source": [
        "## Dependencies Install"
      ]
    },
    {
      "cell_type": "code",
      "metadata": {
        "id": "43qYhUR0fvlN",
        "colab_type": "code",
        "colab": {}
      },
      "source": [
        "%%capture\n",
        "!pip install turicreate"
      ],
      "execution_count": 0,
      "outputs": []
    },
    {
      "cell_type": "markdown",
      "metadata": {
        "id": "wRyHEvf9EIsD",
        "colab_type": "text"
      },
      "source": [
        "## Imports and Create Reference Files"
      ]
    },
    {
      "cell_type": "code",
      "metadata": {
        "id": "oCKHhqD2EVSu",
        "colab_type": "code",
        "colab": {}
      },
      "source": [
        "import turicreate as tc\n",
        "import os"
      ],
      "execution_count": 0,
      "outputs": []
    },
    {
      "cell_type": "code",
      "metadata": {
        "id": "7ziq5byP4EzD",
        "colab_type": "code",
        "colab": {}
      },
      "source": [
        "# create output files\n",
        "file_name = \"img_class_train\"\n",
        "image_path = 'drive/My Drive/Data/card_train/'\n",
        "csv_path = image_path + file_name + \".csv\"\n",
        "\n",
        "# set ref variables used below to save SFrame file\n",
        "sFrameName = 'ig03.sframe'\n",
        "model_path = 'drive/My Drive/Data/model_data/'\n",
        "sFramePath = model_path + sFrameName"
      ],
      "execution_count": 0,
      "outputs": []
    },
    {
      "cell_type": "markdown",
      "metadata": {
        "id": "XBTMBRWrEzVh",
        "colab_type": "text"
      },
      "source": [
        "## Load the data and manipulate csv\n",
        "Read the csv data containing the annotations into a SFrame then create the bounding boxes in the required format."
      ]
    },
    {
      "cell_type": "code",
      "metadata": {
        "id": "tyQfQ75XE0jg",
        "colab_type": "code",
        "colab": {
          "base_uri": "https://localhost:8080/",
          "height": 204
        },
        "outputId": "0c008488-b7fb-4766-be27-f53cdd3cfe03"
      },
      "source": [
        "# import csv with annotations\n",
        "csv_sf = tc.SFrame.read_csv(csv_path)"
      ],
      "execution_count": 6,
      "outputs": [
        {
          "output_type": "display_data",
          "data": {
            "text/html": [
              "<pre>Finished parsing file /content/drive/My Drive/Data/card_train/img_class_train.csv</pre>"
            ],
            "text/plain": [
              "Finished parsing file /content/drive/My Drive/Data/card_train/img_class_train.csv"
            ]
          },
          "metadata": {
            "tags": []
          }
        },
        {
          "output_type": "display_data",
          "data": {
            "text/html": [
              "<pre>Parsing completed. Parsed 100 lines in 1.0745 secs.</pre>"
            ],
            "text/plain": [
              "Parsing completed. Parsed 100 lines in 1.0745 secs."
            ]
          },
          "metadata": {
            "tags": []
          }
        },
        {
          "output_type": "stream",
          "text": [
            "------------------------------------------------------\n",
            "Inferred types from first 100 line(s) of file as \n",
            "column_type_hints=[str,int,str,int,int,int,int]\n",
            "If parsing fails due to incorrect types, you can correct\n",
            "the inferred type list above and pass it to read_csv in\n",
            "the column_type_hints argument\n",
            "------------------------------------------------------\n"
          ],
          "name": "stdout"
        },
        {
          "output_type": "display_data",
          "data": {
            "text/html": [
              "<pre>Finished parsing file /content/drive/My Drive/Data/card_train/img_class_train.csv</pre>"
            ],
            "text/plain": [
              "Finished parsing file /content/drive/My Drive/Data/card_train/img_class_train.csv"
            ]
          },
          "metadata": {
            "tags": []
          }
        },
        {
          "output_type": "display_data",
          "data": {
            "text/html": [
              "<pre>Parsing completed. Parsed 34701 lines in 0.05516 secs.</pre>"
            ],
            "text/plain": [
              "Parsing completed. Parsed 34701 lines in 0.05516 secs."
            ]
          },
          "metadata": {
            "tags": []
          }
        }
      ]
    },
    {
      "cell_type": "code",
      "metadata": {
        "id": "RHe08Yv70Pjg",
        "colab_type": "code",
        "outputId": "c87d31b3-9345-4d47-c4a8-da2d13df3671",
        "colab": {
          "base_uri": "https://localhost:8080/",
          "height": 449
        }
      },
      "source": [
        "def row_to_bbox_coordinates(row):\n",
        "    \"\"\"\n",
        "    Takes a row and returns a dictionary representing bounding\n",
        "    box coordinates:  (center_x, center_y, width, height)  e.g. {'x': 100, 'y': 120, 'width': 80, 'height': 120}\n",
        "    \"\"\"\n",
        "    return {'x': row['xMin'] + (row['xMax'] - row['xMin'])/2, \n",
        "            'width': (row['xMax'] - row['xMin']),\n",
        "            'y': row['yMin'] + (row['yMax'] - row['yMin'])/2, \n",
        "            'height': (row['yMax'] - row['yMin'])}\n",
        "\n",
        "csv_sf['coordinates'] = csv_sf.apply(row_to_bbox_coordinates)\n",
        "# delete no longer needed columns\n",
        "del csv_sf['id'], csv_sf['xMin'], csv_sf['xMax'], csv_sf['yMin'], csv_sf['yMax']\n",
        "# rename columns\n",
        "csv_sf = csv_sf.rename({'name': 'label', 'image': 'name'})\n",
        "csv_sf"
      ],
      "execution_count": 7,
      "outputs": [
        {
          "output_type": "execute_result",
          "data": {
            "text/html": [
              "<div style=\"max-height:1000px;max-width:1500px;overflow:auto;\"><table frame=\"box\" rules=\"cols\">\n",
              "    <tr>\n",
              "        <th style=\"padding-left: 1em; padding-right: 1em; text-align: center\">name</th>\n",
              "        <th style=\"padding-left: 1em; padding-right: 1em; text-align: center\">label</th>\n",
              "        <th style=\"padding-left: 1em; padding-right: 1em; text-align: center\">coordinates</th>\n",
              "    </tr>\n",
              "    <tr>\n",
              "        <td style=\"padding-left: 1em; padding-right: 1em; text-align: center; vertical-align: top\">000077131.jpg</td>\n",
              "        <td style=\"padding-left: 1em; padding-right: 1em; text-align: center; vertical-align: top\">3d</td>\n",
              "        <td style=\"padding-left: 1em; padding-right: 1em; text-align: center; vertical-align: top\">{&#x27;x&#x27;: 434.5, &#x27;width&#x27;: 59,<br>&#x27;y&#x27;: 412.5, &#x27;height&#x27;: ...</td>\n",
              "    </tr>\n",
              "    <tr>\n",
              "        <td style=\"padding-left: 1em; padding-right: 1em; text-align: center; vertical-align: top\">000077131.jpg</td>\n",
              "        <td style=\"padding-left: 1em; padding-right: 1em; text-align: center; vertical-align: top\">3d</td>\n",
              "        <td style=\"padding-left: 1em; padding-right: 1em; text-align: center; vertical-align: top\">{&#x27;x&#x27;: 436.5, &#x27;width&#x27;: 59,<br>&#x27;y&#x27;: 84.5, &#x27;height&#x27;: 67} ...</td>\n",
              "    </tr>\n",
              "    <tr>\n",
              "        <td style=\"padding-left: 1em; padding-right: 1em; text-align: center; vertical-align: top\">000077131.jpg</td>\n",
              "        <td style=\"padding-left: 1em; padding-right: 1em; text-align: center; vertical-align: top\">3d</td>\n",
              "        <td style=\"padding-left: 1em; padding-right: 1em; text-align: center; vertical-align: top\">{&#x27;x&#x27;: 467.0, &#x27;width&#x27;: 52,<br>&#x27;y&#x27;: 176.0, &#x27;height&#x27;: ...</td>\n",
              "    </tr>\n",
              "    <tr>\n",
              "        <td style=\"padding-left: 1em; padding-right: 1em; text-align: center; vertical-align: top\">000077131.jpg</td>\n",
              "        <td style=\"padding-left: 1em; padding-right: 1em; text-align: center; vertical-align: top\">3d</td>\n",
              "        <td style=\"padding-left: 1em; padding-right: 1em; text-align: center; vertical-align: top\">{&#x27;x&#x27;: 281.5, &#x27;width&#x27;: 51,<br>&#x27;y&#x27;: 270.0, &#x27;height&#x27;: ...</td>\n",
              "    </tr>\n",
              "    <tr>\n",
              "        <td style=\"padding-left: 1em; padding-right: 1em; text-align: center; vertical-align: top\">000119307.jpg</td>\n",
              "        <td style=\"padding-left: 1em; padding-right: 1em; text-align: center; vertical-align: top\">10c</td>\n",
              "        <td style=\"padding-left: 1em; padding-right: 1em; text-align: center; vertical-align: top\">{&#x27;x&#x27;: 472.0, &#x27;width&#x27;: 74,<br>&#x27;y&#x27;: 328.5, &#x27;height&#x27;: ...</td>\n",
              "    </tr>\n",
              "    <tr>\n",
              "        <td style=\"padding-left: 1em; padding-right: 1em; text-align: center; vertical-align: top\">000119307.jpg</td>\n",
              "        <td style=\"padding-left: 1em; padding-right: 1em; text-align: center; vertical-align: top\">2h</td>\n",
              "        <td style=\"padding-left: 1em; padding-right: 1em; text-align: center; vertical-align: top\">{&#x27;x&#x27;: 473.0, &#x27;width&#x27;: 80,<br>&#x27;y&#x27;: 387.0, &#x27;height&#x27;: ...</td>\n",
              "    </tr>\n",
              "    <tr>\n",
              "        <td style=\"padding-left: 1em; padding-right: 1em; text-align: center; vertical-align: top\">000119307.jpg</td>\n",
              "        <td style=\"padding-left: 1em; padding-right: 1em; text-align: center; vertical-align: top\">Ks</td>\n",
              "        <td style=\"padding-left: 1em; padding-right: 1em; text-align: center; vertical-align: top\">{&#x27;x&#x27;: 463.5, &#x27;width&#x27;: 83,<br>&#x27;y&#x27;: 456.0, &#x27;height&#x27;: ...</td>\n",
              "    </tr>\n",
              "    <tr>\n",
              "        <td style=\"padding-left: 1em; padding-right: 1em; text-align: center; vertical-align: top\">000119307.jpg</td>\n",
              "        <td style=\"padding-left: 1em; padding-right: 1em; text-align: center; vertical-align: top\">Ks</td>\n",
              "        <td style=\"padding-left: 1em; padding-right: 1em; text-align: center; vertical-align: top\">{&#x27;x&#x27;: 189.0, &#x27;width&#x27;: 78,<br>&#x27;y&#x27;: 614.0, &#x27;height&#x27;: ...</td>\n",
              "    </tr>\n",
              "    <tr>\n",
              "        <td style=\"padding-left: 1em; padding-right: 1em; text-align: center; vertical-align: top\">000254235.jpg</td>\n",
              "        <td style=\"padding-left: 1em; padding-right: 1em; text-align: center; vertical-align: top\">8c</td>\n",
              "        <td style=\"padding-left: 1em; padding-right: 1em; text-align: center; vertical-align: top\">{&#x27;x&#x27;: 419.0, &#x27;width&#x27;: 56,<br>&#x27;y&#x27;: 59.5, &#x27;height&#x27;: 71} ...</td>\n",
              "    </tr>\n",
              "    <tr>\n",
              "        <td style=\"padding-left: 1em; padding-right: 1em; text-align: center; vertical-align: top\">000254235.jpg</td>\n",
              "        <td style=\"padding-left: 1em; padding-right: 1em; text-align: center; vertical-align: top\">8d</td>\n",
              "        <td style=\"padding-left: 1em; padding-right: 1em; text-align: center; vertical-align: top\">{&#x27;x&#x27;: 481.5, &#x27;width&#x27;: 61,<br>&#x27;y&#x27;: 114.5, &#x27;height&#x27;: ...</td>\n",
              "    </tr>\n",
              "</table>\n",
              "[34701 rows x 3 columns]<br/>Note: Only the head of the SFrame is printed.<br/>You can use print_rows(num_rows=m, num_columns=n) to print more rows and columns.\n",
              "</div>"
            ],
            "text/plain": [
              "Columns:\n",
              "\tname\tstr\n",
              "\tlabel\tstr\n",
              "\tcoordinates\tdict\n",
              "\n",
              "Rows: 34701\n",
              "\n",
              "Data:\n",
              "+---------------+-------+-------------------------------+\n",
              "|      name     | label |          coordinates          |\n",
              "+---------------+-------+-------------------------------+\n",
              "| 000077131.jpg |   3d  | {'x': 434.5, 'width': 59, ... |\n",
              "| 000077131.jpg |   3d  | {'x': 436.5, 'width': 59, ... |\n",
              "| 000077131.jpg |   3d  | {'x': 467.0, 'width': 52, ... |\n",
              "| 000077131.jpg |   3d  | {'x': 281.5, 'width': 51, ... |\n",
              "| 000119307.jpg |  10c  | {'x': 472.0, 'width': 74, ... |\n",
              "| 000119307.jpg |   2h  | {'x': 473.0, 'width': 80, ... |\n",
              "| 000119307.jpg |   Ks  | {'x': 463.5, 'width': 83, ... |\n",
              "| 000119307.jpg |   Ks  | {'x': 189.0, 'width': 78, ... |\n",
              "| 000254235.jpg |   8c  | {'x': 419.0, 'width': 56, ... |\n",
              "| 000254235.jpg |   8d  | {'x': 481.5, 'width': 61, ... |\n",
              "+---------------+-------+-------------------------------+\n",
              "[34701 rows x 3 columns]\n",
              "Note: Only the head of the SFrame is printed.\n",
              "You can use print_rows(num_rows=m, num_columns=n) to print more rows and columns."
            ]
          },
          "metadata": {
            "tags": []
          },
          "execution_count": 7
        }
      ]
    },
    {
      "cell_type": "markdown",
      "metadata": {
        "id": "b_JuoEroJBWh",
        "colab_type": "text"
      },
      "source": [
        "## Load Images from Drive Folder"
      ]
    },
    {
      "cell_type": "code",
      "metadata": {
        "id": "Vb-hJBW6z7q1",
        "colab_type": "code",
        "outputId": "eebb844b-92d6-4f19-b9c5-9d00bcbf5b67",
        "colab": {
          "base_uri": "https://localhost:8080/",
          "height": 1000
        }
      },
      "source": [
        "# Load all images in random order\n",
        "sf_images = tc.image_analysis.load_images(image_path, recursive=True,\n",
        "                                       random_order=True)"
      ],
      "execution_count": 8,
      "outputs": [
        {
          "output_type": "display_data",
          "data": {
            "text/html": [
              "<pre>Read 5 images in 5.77395 secs\tspeed: 0.865958 file/sec</pre>"
            ],
            "text/plain": [
              "Read 5 images in 5.77395 secs\tspeed: 0.865958 file/sec"
            ]
          },
          "metadata": {
            "tags": []
          }
        },
        {
          "output_type": "display_data",
          "data": {
            "text/html": [
              "<pre>Read 11 images in 10.9528 secs\tspeed: 1.15856 file/sec</pre>"
            ],
            "text/plain": [
              "Read 11 images in 10.9528 secs\tspeed: 1.15856 file/sec"
            ]
          },
          "metadata": {
            "tags": []
          }
        },
        {
          "output_type": "display_data",
          "data": {
            "text/html": [
              "<pre>Read 17 images in 16.0254 secs\tspeed: 1.18282 file/sec</pre>"
            ],
            "text/plain": [
              "Read 17 images in 16.0254 secs\tspeed: 1.18282 file/sec"
            ]
          },
          "metadata": {
            "tags": []
          }
        },
        {
          "output_type": "display_data",
          "data": {
            "text/html": [
              "<pre>Read 24 images in 21.8065 secs\tspeed: 1.21084 file/sec</pre>"
            ],
            "text/plain": [
              "Read 24 images in 21.8065 secs\tspeed: 1.21084 file/sec"
            ]
          },
          "metadata": {
            "tags": []
          }
        },
        {
          "output_type": "display_data",
          "data": {
            "text/html": [
              "<pre>Read 30 images in 27.1837 secs\tspeed: 1.11583 file/sec</pre>"
            ],
            "text/plain": [
              "Read 30 images in 27.1837 secs\tspeed: 1.11583 file/sec"
            ]
          },
          "metadata": {
            "tags": []
          }
        },
        {
          "output_type": "display_data",
          "data": {
            "text/html": [
              "<pre>Read 36 images in 32.292 secs\tspeed: 1.17455 file/sec</pre>"
            ],
            "text/plain": [
              "Read 36 images in 32.292 secs\tspeed: 1.17455 file/sec"
            ]
          },
          "metadata": {
            "tags": []
          }
        },
        {
          "output_type": "display_data",
          "data": {
            "text/html": [
              "<pre>Read 43 images in 38.1643 secs\tspeed: 1.19204 file/sec</pre>"
            ],
            "text/plain": [
              "Read 43 images in 38.1643 secs\tspeed: 1.19204 file/sec"
            ]
          },
          "metadata": {
            "tags": []
          }
        },
        {
          "output_type": "display_data",
          "data": {
            "text/html": [
              "<pre>Read 49 images in 43.1864 secs\tspeed: 1.19472 file/sec</pre>"
            ],
            "text/plain": [
              "Read 49 images in 43.1864 secs\tspeed: 1.19472 file/sec"
            ]
          },
          "metadata": {
            "tags": []
          }
        },
        {
          "output_type": "display_data",
          "data": {
            "text/html": [
              "<pre>Read 56 images in 48.9813 secs\tspeed: 1.20795 file/sec</pre>"
            ],
            "text/plain": [
              "Read 56 images in 48.9813 secs\tspeed: 1.20795 file/sec"
            ]
          },
          "metadata": {
            "tags": []
          }
        },
        {
          "output_type": "display_data",
          "data": {
            "text/html": [
              "<pre>Read 62 images in 54.1561 secs\tspeed: 1.15947 file/sec</pre>"
            ],
            "text/plain": [
              "Read 62 images in 54.1561 secs\tspeed: 1.15947 file/sec"
            ]
          },
          "metadata": {
            "tags": []
          }
        },
        {
          "output_type": "display_data",
          "data": {
            "text/html": [
              "<pre>Read 67 images in 59.2622 secs\tspeed: 0.97922 file/sec</pre>"
            ],
            "text/plain": [
              "Read 67 images in 59.2622 secs\tspeed: 0.97922 file/sec"
            ]
          },
          "metadata": {
            "tags": []
          }
        },
        {
          "output_type": "display_data",
          "data": {
            "text/html": [
              "<pre>Read 74 images in 64.787 secs\tspeed: 1.26703 file/sec</pre>"
            ],
            "text/plain": [
              "Read 74 images in 64.787 secs\tspeed: 1.26703 file/sec"
            ]
          },
          "metadata": {
            "tags": []
          }
        },
        {
          "output_type": "display_data",
          "data": {
            "text/html": [
              "<pre>Read 80 images in 70.7856 secs\tspeed: 1.00022 file/sec</pre>"
            ],
            "text/plain": [
              "Read 80 images in 70.7856 secs\tspeed: 1.00022 file/sec"
            ]
          },
          "metadata": {
            "tags": []
          }
        },
        {
          "output_type": "display_data",
          "data": {
            "text/html": [
              "<pre>Read 86 images in 76.656 secs\tspeed: 1.02208 file/sec</pre>"
            ],
            "text/plain": [
              "Read 86 images in 76.656 secs\tspeed: 1.02208 file/sec"
            ]
          },
          "metadata": {
            "tags": []
          }
        },
        {
          "output_type": "display_data",
          "data": {
            "text/html": [
              "<pre>Read 91 images in 82.6088 secs\tspeed: 0.839949 file/sec</pre>"
            ],
            "text/plain": [
              "Read 91 images in 82.6088 secs\tspeed: 0.839949 file/sec"
            ]
          },
          "metadata": {
            "tags": []
          }
        },
        {
          "output_type": "display_data",
          "data": {
            "text/html": [
              "<pre>Read 98 images in 88.3334 secs\tspeed: 1.22277 file/sec</pre>"
            ],
            "text/plain": [
              "Read 98 images in 88.3334 secs\tspeed: 1.22277 file/sec"
            ]
          },
          "metadata": {
            "tags": []
          }
        },
        {
          "output_type": "display_data",
          "data": {
            "text/html": [
              "<pre>Read 105 images in 94.066 secs\tspeed: 1.22108 file/sec</pre>"
            ],
            "text/plain": [
              "Read 105 images in 94.066 secs\tspeed: 1.22108 file/sec"
            ]
          },
          "metadata": {
            "tags": []
          }
        },
        {
          "output_type": "display_data",
          "data": {
            "text/html": [
              "<pre>Read 110 images in 99.2416 secs\tspeed: 0.966081 file/sec</pre>"
            ],
            "text/plain": [
              "Read 110 images in 99.2416 secs\tspeed: 0.966081 file/sec"
            ]
          },
          "metadata": {
            "tags": []
          }
        },
        {
          "output_type": "display_data",
          "data": {
            "text/html": [
              "<pre>Read 117 images in 104.878 secs\tspeed: 1.2419 file/sec</pre>"
            ],
            "text/plain": [
              "Read 117 images in 104.878 secs\tspeed: 1.2419 file/sec"
            ]
          },
          "metadata": {
            "tags": []
          }
        },
        {
          "output_type": "display_data",
          "data": {
            "text/html": [
              "<pre>Read 124 images in 110.687 secs\tspeed: 1.20514 file/sec</pre>"
            ],
            "text/plain": [
              "Read 124 images in 110.687 secs\tspeed: 1.20514 file/sec"
            ]
          },
          "metadata": {
            "tags": []
          }
        },
        {
          "output_type": "display_data",
          "data": {
            "text/html": [
              "<pre>Read 130 images in 115.701 secs\tspeed: 1.19659 file/sec</pre>"
            ],
            "text/plain": [
              "Read 130 images in 115.701 secs\tspeed: 1.19659 file/sec"
            ]
          },
          "metadata": {
            "tags": []
          }
        },
        {
          "output_type": "display_data",
          "data": {
            "text/html": [
              "<pre>Read 136 images in 120.838 secs\tspeed: 1.16801 file/sec</pre>"
            ],
            "text/plain": [
              "Read 136 images in 120.838 secs\tspeed: 1.16801 file/sec"
            ]
          },
          "metadata": {
            "tags": []
          }
        },
        {
          "output_type": "display_data",
          "data": {
            "text/html": [
              "<pre>Read 142 images in 126.001 secs\tspeed: 1.16194 file/sec</pre>"
            ],
            "text/plain": [
              "Read 142 images in 126.001 secs\tspeed: 1.16194 file/sec"
            ]
          },
          "metadata": {
            "tags": []
          }
        },
        {
          "output_type": "display_data",
          "data": {
            "text/html": [
              "<pre>Read 149 images in 131.69 secs\tspeed: 1.23046 file/sec</pre>"
            ],
            "text/plain": [
              "Read 149 images in 131.69 secs\tspeed: 1.23046 file/sec"
            ]
          },
          "metadata": {
            "tags": []
          }
        },
        {
          "output_type": "display_data",
          "data": {
            "text/html": [
              "<pre>Read 156 images in 137.137 secs\tspeed: 1.28529 file/sec</pre>"
            ],
            "text/plain": [
              "Read 156 images in 137.137 secs\tspeed: 1.28529 file/sec"
            ]
          },
          "metadata": {
            "tags": []
          }
        },
        {
          "output_type": "display_data",
          "data": {
            "text/html": [
              "<pre>Read 163 images in 142.635 secs\tspeed: 1.27308 file/sec</pre>"
            ],
            "text/plain": [
              "Read 163 images in 142.635 secs\tspeed: 1.27308 file/sec"
            ]
          },
          "metadata": {
            "tags": []
          }
        },
        {
          "output_type": "display_data",
          "data": {
            "text/html": [
              "<pre>Read 170 images in 148.016 secs\tspeed: 1.30101 file/sec</pre>"
            ],
            "text/plain": [
              "Read 170 images in 148.016 secs\tspeed: 1.30101 file/sec"
            ]
          },
          "metadata": {
            "tags": []
          }
        },
        {
          "output_type": "display_data",
          "data": {
            "text/html": [
              "<pre>Read 176 images in 153.7 secs\tspeed: 1.05546 file/sec</pre>"
            ],
            "text/plain": [
              "Read 176 images in 153.7 secs\tspeed: 1.05546 file/sec"
            ]
          },
          "metadata": {
            "tags": []
          }
        },
        {
          "output_type": "display_data",
          "data": {
            "text/html": [
              "<pre>Read 181 images in 159.327 secs\tspeed: 0.888689 file/sec</pre>"
            ],
            "text/plain": [
              "Read 181 images in 159.327 secs\tspeed: 0.888689 file/sec"
            ]
          },
          "metadata": {
            "tags": []
          }
        },
        {
          "output_type": "display_data",
          "data": {
            "text/html": [
              "<pre>Read 188 images in 165.569 secs\tspeed: 1.12138 file/sec</pre>"
            ],
            "text/plain": [
              "Read 188 images in 165.569 secs\tspeed: 1.12138 file/sec"
            ]
          },
          "metadata": {
            "tags": []
          }
        },
        {
          "output_type": "display_data",
          "data": {
            "text/html": [
              "<pre>Read 195 images in 171.314 secs\tspeed: 1.21851 file/sec</pre>"
            ],
            "text/plain": [
              "Read 195 images in 171.314 secs\tspeed: 1.21851 file/sec"
            ]
          },
          "metadata": {
            "tags": []
          }
        },
        {
          "output_type": "display_data",
          "data": {
            "text/html": [
              "<pre>Read 201 images in 176.665 secs\tspeed: 1.12118 file/sec</pre>"
            ],
            "text/plain": [
              "Read 201 images in 176.665 secs\tspeed: 1.12118 file/sec"
            ]
          },
          "metadata": {
            "tags": []
          }
        },
        {
          "output_type": "display_data",
          "data": {
            "text/html": [
              "<pre>Read 206 images in 181.73 secs\tspeed: 0.987094 file/sec</pre>"
            ],
            "text/plain": [
              "Read 206 images in 181.73 secs\tspeed: 0.987094 file/sec"
            ]
          },
          "metadata": {
            "tags": []
          }
        },
        {
          "output_type": "display_data",
          "data": {
            "text/html": [
              "<pre>Read 213 images in 187.498 secs\tspeed: 1.21372 file/sec</pre>"
            ],
            "text/plain": [
              "Read 213 images in 187.498 secs\tspeed: 1.21372 file/sec"
            ]
          },
          "metadata": {
            "tags": []
          }
        },
        {
          "output_type": "display_data",
          "data": {
            "text/html": [
              "<pre>Read 219 images in 192.929 secs\tspeed: 1.10467 file/sec</pre>"
            ],
            "text/plain": [
              "Read 219 images in 192.929 secs\tspeed: 1.10467 file/sec"
            ]
          },
          "metadata": {
            "tags": []
          }
        },
        {
          "output_type": "display_data",
          "data": {
            "text/html": [
              "<pre>Read 225 images in 197.973 secs\tspeed: 1.1896 file/sec</pre>"
            ],
            "text/plain": [
              "Read 225 images in 197.973 secs\tspeed: 1.1896 file/sec"
            ]
          },
          "metadata": {
            "tags": []
          }
        },
        {
          "output_type": "display_data",
          "data": {
            "text/html": [
              "<pre>Read 230 images in 203.17 secs\tspeed: 0.962079 file/sec</pre>"
            ],
            "text/plain": [
              "Read 230 images in 203.17 secs\tspeed: 0.962079 file/sec"
            ]
          },
          "metadata": {
            "tags": []
          }
        },
        {
          "output_type": "display_data",
          "data": {
            "text/html": [
              "<pre>Read 235 images in 208.324 secs\tspeed: 0.970126 file/sec</pre>"
            ],
            "text/plain": [
              "Read 235 images in 208.324 secs\tspeed: 0.970126 file/sec"
            ]
          },
          "metadata": {
            "tags": []
          }
        },
        {
          "output_type": "display_data",
          "data": {
            "text/html": [
              "<pre>Read 240 images in 214.494 secs\tspeed: 0.810446 file/sec</pre>"
            ],
            "text/plain": [
              "Read 240 images in 214.494 secs\tspeed: 0.810446 file/sec"
            ]
          },
          "metadata": {
            "tags": []
          }
        },
        {
          "output_type": "display_data",
          "data": {
            "text/html": [
              "<pre>Read 244 images in 224.012 secs\tspeed: 0.420245 file/sec</pre>"
            ],
            "text/plain": [
              "Read 244 images in 224.012 secs\tspeed: 0.420245 file/sec"
            ]
          },
          "metadata": {
            "tags": []
          }
        },
        {
          "output_type": "display_data",
          "data": {
            "text/html": [
              "<pre>Read 247 images in 231.945 secs\tspeed: 0.378148 file/sec</pre>"
            ],
            "text/plain": [
              "Read 247 images in 231.945 secs\tspeed: 0.378148 file/sec"
            ]
          },
          "metadata": {
            "tags": []
          }
        },
        {
          "output_type": "display_data",
          "data": {
            "text/html": [
              "<pre>Read 252 images in 237.13 secs\tspeed: 0.964401 file/sec</pre>"
            ],
            "text/plain": [
              "Read 252 images in 237.13 secs\tspeed: 0.964401 file/sec"
            ]
          },
          "metadata": {
            "tags": []
          }
        },
        {
          "output_type": "display_data",
          "data": {
            "text/html": [
              "<pre>Read 256 images in 247.209 secs\tspeed: 0.396871 file/sec</pre>"
            ],
            "text/plain": [
              "Read 256 images in 247.209 secs\tspeed: 0.396871 file/sec"
            ]
          },
          "metadata": {
            "tags": []
          }
        },
        {
          "output_type": "display_data",
          "data": {
            "text/html": [
              "<pre>Read 261 images in 252.334 secs\tspeed: 0.975541 file/sec</pre>"
            ],
            "text/plain": [
              "Read 261 images in 252.334 secs\tspeed: 0.975541 file/sec"
            ]
          },
          "metadata": {
            "tags": []
          }
        },
        {
          "output_type": "display_data",
          "data": {
            "text/html": [
              "<pre>Read 268 images in 258.247 secs\tspeed: 1.18382 file/sec</pre>"
            ],
            "text/plain": [
              "Read 268 images in 258.247 secs\tspeed: 1.18382 file/sec"
            ]
          },
          "metadata": {
            "tags": []
          }
        },
        {
          "output_type": "display_data",
          "data": {
            "text/html": [
              "<pre>Read 275 images in 264.477 secs\tspeed: 1.12351 file/sec</pre>"
            ],
            "text/plain": [
              "Read 275 images in 264.477 secs\tspeed: 1.12351 file/sec"
            ]
          },
          "metadata": {
            "tags": []
          }
        },
        {
          "output_type": "display_data",
          "data": {
            "text/html": [
              "<pre>Read 281 images in 269.499 secs\tspeed: 1.19478 file/sec</pre>"
            ],
            "text/plain": [
              "Read 281 images in 269.499 secs\tspeed: 1.19478 file/sec"
            ]
          },
          "metadata": {
            "tags": []
          }
        },
        {
          "output_type": "display_data",
          "data": {
            "text/html": [
              "<pre>Read 287 images in 275.17 secs\tspeed: 1.05801 file/sec</pre>"
            ],
            "text/plain": [
              "Read 287 images in 275.17 secs\tspeed: 1.05801 file/sec"
            ]
          },
          "metadata": {
            "tags": []
          }
        },
        {
          "output_type": "display_data",
          "data": {
            "text/html": [
              "<pre>Read 294 images in 281.056 secs\tspeed: 1.18934 file/sec</pre>"
            ],
            "text/plain": [
              "Read 294 images in 281.056 secs\tspeed: 1.18934 file/sec"
            ]
          },
          "metadata": {
            "tags": []
          }
        },
        {
          "output_type": "display_data",
          "data": {
            "text/html": [
              "<pre>Read 300 images in 286.29 secs\tspeed: 1.14645 file/sec</pre>"
            ],
            "text/plain": [
              "Read 300 images in 286.29 secs\tspeed: 1.14645 file/sec"
            ]
          },
          "metadata": {
            "tags": []
          }
        },
        {
          "output_type": "display_data",
          "data": {
            "text/html": [
              "<pre>Read 307 images in 291.974 secs\tspeed: 1.2315 file/sec</pre>"
            ],
            "text/plain": [
              "Read 307 images in 291.974 secs\tspeed: 1.2315 file/sec"
            ]
          },
          "metadata": {
            "tags": []
          }
        },
        {
          "output_type": "display_data",
          "data": {
            "text/html": [
              "<pre>Read 312 images in 297.836 secs\tspeed: 0.85295 file/sec</pre>"
            ],
            "text/plain": [
              "Read 312 images in 297.836 secs\tspeed: 0.85295 file/sec"
            ]
          },
          "metadata": {
            "tags": []
          }
        },
        {
          "output_type": "display_data",
          "data": {
            "text/html": [
              "<pre>Read 318 images in 303.124 secs\tspeed: 1.13463 file/sec</pre>"
            ],
            "text/plain": [
              "Read 318 images in 303.124 secs\tspeed: 1.13463 file/sec"
            ]
          },
          "metadata": {
            "tags": []
          }
        },
        {
          "output_type": "display_data",
          "data": {
            "text/html": [
              "<pre>Read 324 images in 308.605 secs\tspeed: 1.0947 file/sec</pre>"
            ],
            "text/plain": [
              "Read 324 images in 308.605 secs\tspeed: 1.0947 file/sec"
            ]
          },
          "metadata": {
            "tags": []
          }
        },
        {
          "output_type": "display_data",
          "data": {
            "text/html": [
              "<pre>Read 330 images in 314.194 secs\tspeed: 1.07343 file/sec</pre>"
            ],
            "text/plain": [
              "Read 330 images in 314.194 secs\tspeed: 1.07343 file/sec"
            ]
          },
          "metadata": {
            "tags": []
          }
        },
        {
          "output_type": "display_data",
          "data": {
            "text/html": [
              "<pre>Read 334 images in 319.613 secs\tspeed: 0.738214 file/sec</pre>"
            ],
            "text/plain": [
              "Read 334 images in 319.613 secs\tspeed: 0.738214 file/sec"
            ]
          },
          "metadata": {
            "tags": []
          }
        },
        {
          "output_type": "display_data",
          "data": {
            "text/html": [
              "<pre>Read 341 images in 324.943 secs\tspeed: 1.31331 file/sec</pre>"
            ],
            "text/plain": [
              "Read 341 images in 324.943 secs\tspeed: 1.31331 file/sec"
            ]
          },
          "metadata": {
            "tags": []
          }
        },
        {
          "output_type": "display_data",
          "data": {
            "text/html": [
              "<pre>Read 348 images in 330.634 secs\tspeed: 1.22989 file/sec</pre>"
            ],
            "text/plain": [
              "Read 348 images in 330.634 secs\tspeed: 1.22989 file/sec"
            ]
          },
          "metadata": {
            "tags": []
          }
        },
        {
          "output_type": "display_data",
          "data": {
            "text/html": [
              "<pre>Read 355 images in 336.144 secs\tspeed: 1.2706 file/sec</pre>"
            ],
            "text/plain": [
              "Read 355 images in 336.144 secs\tspeed: 1.2706 file/sec"
            ]
          },
          "metadata": {
            "tags": []
          }
        },
        {
          "output_type": "display_data",
          "data": {
            "text/html": [
              "<pre>Read 356 images in 348.492 secs\tspeed: 0.0809789 file/sec</pre>"
            ],
            "text/plain": [
              "Read 356 images in 348.492 secs\tspeed: 0.0809789 file/sec"
            ]
          },
          "metadata": {
            "tags": []
          }
        },
        {
          "output_type": "display_data",
          "data": {
            "text/html": [
              "<pre>Read 363 images in 354.005 secs\tspeed: 1.26978 file/sec</pre>"
            ],
            "text/plain": [
              "Read 363 images in 354.005 secs\tspeed: 1.26978 file/sec"
            ]
          },
          "metadata": {
            "tags": []
          }
        },
        {
          "output_type": "display_data",
          "data": {
            "text/html": [
              "<pre>Read 368 images in 359.224 secs\tspeed: 0.958014 file/sec</pre>"
            ],
            "text/plain": [
              "Read 368 images in 359.224 secs\tspeed: 0.958014 file/sec"
            ]
          },
          "metadata": {
            "tags": []
          }
        },
        {
          "output_type": "display_data",
          "data": {
            "text/html": [
              "<pre>Read 374 images in 364.936 secs\tspeed: 1.05055 file/sec</pre>"
            ],
            "text/plain": [
              "Read 374 images in 364.936 secs\tspeed: 1.05055 file/sec"
            ]
          },
          "metadata": {
            "tags": []
          }
        },
        {
          "output_type": "display_data",
          "data": {
            "text/html": [
              "<pre>Read 381 images in 370.476 secs\tspeed: 1.2634 file/sec</pre>"
            ],
            "text/plain": [
              "Read 381 images in 370.476 secs\tspeed: 1.2634 file/sec"
            ]
          },
          "metadata": {
            "tags": []
          }
        },
        {
          "output_type": "display_data",
          "data": {
            "text/html": [
              "<pre>Read 387 images in 375.548 secs\tspeed: 1.18306 file/sec</pre>"
            ],
            "text/plain": [
              "Read 387 images in 375.548 secs\tspeed: 1.18306 file/sec"
            ]
          },
          "metadata": {
            "tags": []
          }
        },
        {
          "output_type": "display_data",
          "data": {
            "text/html": [
              "<pre>Read 393 images in 380.662 secs\tspeed: 1.17328 file/sec</pre>"
            ],
            "text/plain": [
              "Read 393 images in 380.662 secs\tspeed: 1.17328 file/sec"
            ]
          },
          "metadata": {
            "tags": []
          }
        },
        {
          "output_type": "display_data",
          "data": {
            "text/html": [
              "<pre>Read 398 images in 385.784 secs\tspeed: 0.976201 file/sec</pre>"
            ],
            "text/plain": [
              "Read 398 images in 385.784 secs\tspeed: 0.976201 file/sec"
            ]
          },
          "metadata": {
            "tags": []
          }
        },
        {
          "output_type": "display_data",
          "data": {
            "text/html": [
              "<pre>Read 403 images in 390.838 secs\tspeed: 0.989148 file/sec</pre>"
            ],
            "text/plain": [
              "Read 403 images in 390.838 secs\tspeed: 0.989148 file/sec"
            ]
          },
          "metadata": {
            "tags": []
          }
        },
        {
          "output_type": "display_data",
          "data": {
            "text/html": [
              "<pre>Read 409 images in 396.146 secs\tspeed: 1.13047 file/sec</pre>"
            ],
            "text/plain": [
              "Read 409 images in 396.146 secs\tspeed: 1.13047 file/sec"
            ]
          },
          "metadata": {
            "tags": []
          }
        },
        {
          "output_type": "display_data",
          "data": {
            "text/html": [
              "<pre>Read 414 images in 401.58 secs\tspeed: 0.920079 file/sec</pre>"
            ],
            "text/plain": [
              "Read 414 images in 401.58 secs\tspeed: 0.920079 file/sec"
            ]
          },
          "metadata": {
            "tags": []
          }
        },
        {
          "output_type": "display_data",
          "data": {
            "text/html": [
              "<pre>Read 419 images in 406.797 secs\tspeed: 0.958381 file/sec</pre>"
            ],
            "text/plain": [
              "Read 419 images in 406.797 secs\tspeed: 0.958381 file/sec"
            ]
          },
          "metadata": {
            "tags": []
          }
        },
        {
          "output_type": "display_data",
          "data": {
            "text/html": [
              "<pre>Read 426 images in 412.582 secs\tspeed: 1.21001 file/sec</pre>"
            ],
            "text/plain": [
              "Read 426 images in 412.582 secs\tspeed: 1.21001 file/sec"
            ]
          },
          "metadata": {
            "tags": []
          }
        },
        {
          "output_type": "display_data",
          "data": {
            "text/html": [
              "<pre>Read 431 images in 417.731 secs\tspeed: 0.97121 file/sec</pre>"
            ],
            "text/plain": [
              "Read 431 images in 417.731 secs\tspeed: 0.97121 file/sec"
            ]
          },
          "metadata": {
            "tags": []
          }
        },
        {
          "output_type": "display_data",
          "data": {
            "text/html": [
              "<pre>Read 437 images in 422.927 secs\tspeed: 1.15456 file/sec</pre>"
            ],
            "text/plain": [
              "Read 437 images in 422.927 secs\tspeed: 1.15456 file/sec"
            ]
          },
          "metadata": {
            "tags": []
          }
        },
        {
          "output_type": "display_data",
          "data": {
            "text/html": [
              "<pre>Read 443 images in 428.228 secs\tspeed: 1.132 file/sec</pre>"
            ],
            "text/plain": [
              "Read 443 images in 428.228 secs\tspeed: 1.132 file/sec"
            ]
          },
          "metadata": {
            "tags": []
          }
        },
        {
          "output_type": "display_data",
          "data": {
            "text/html": [
              "<pre>Read 450 images in 433.866 secs\tspeed: 1.24157 file/sec</pre>"
            ],
            "text/plain": [
              "Read 450 images in 433.866 secs\tspeed: 1.24157 file/sec"
            ]
          },
          "metadata": {
            "tags": []
          }
        },
        {
          "output_type": "display_data",
          "data": {
            "text/html": [
              "<pre>Read 457 images in 439.618 secs\tspeed: 1.2169 file/sec</pre>"
            ],
            "text/plain": [
              "Read 457 images in 439.618 secs\tspeed: 1.2169 file/sec"
            ]
          },
          "metadata": {
            "tags": []
          }
        },
        {
          "output_type": "display_data",
          "data": {
            "text/html": [
              "<pre>Read 463 images in 445.084 secs\tspeed: 1.0978 file/sec</pre>"
            ],
            "text/plain": [
              "Read 463 images in 445.084 secs\tspeed: 1.0978 file/sec"
            ]
          },
          "metadata": {
            "tags": []
          }
        },
        {
          "output_type": "display_data",
          "data": {
            "text/html": [
              "<pre>Read 470 images in 450.59 secs\tspeed: 1.2713 file/sec</pre>"
            ],
            "text/plain": [
              "Read 470 images in 450.59 secs\tspeed: 1.2713 file/sec"
            ]
          },
          "metadata": {
            "tags": []
          }
        },
        {
          "output_type": "display_data",
          "data": {
            "text/html": [
              "<pre>Read 477 images in 456.062 secs\tspeed: 1.27912 file/sec</pre>"
            ],
            "text/plain": [
              "Read 477 images in 456.062 secs\tspeed: 1.27912 file/sec"
            ]
          },
          "metadata": {
            "tags": []
          }
        },
        {
          "output_type": "display_data",
          "data": {
            "text/html": [
              "<pre>Read 483 images in 461.559 secs\tspeed: 1.09154 file/sec</pre>"
            ],
            "text/plain": [
              "Read 483 images in 461.559 secs\tspeed: 1.09154 file/sec"
            ]
          },
          "metadata": {
            "tags": []
          }
        },
        {
          "output_type": "display_data",
          "data": {
            "text/html": [
              "<pre>Read 489 images in 467.506 secs\tspeed: 1.00891 file/sec</pre>"
            ],
            "text/plain": [
              "Read 489 images in 467.506 secs\tspeed: 1.00891 file/sec"
            ]
          },
          "metadata": {
            "tags": []
          }
        },
        {
          "output_type": "display_data",
          "data": {
            "text/html": [
              "<pre>Read 495 images in 473.173 secs\tspeed: 1.05877 file/sec</pre>"
            ],
            "text/plain": [
              "Read 495 images in 473.173 secs\tspeed: 1.05877 file/sec"
            ]
          },
          "metadata": {
            "tags": []
          }
        },
        {
          "output_type": "display_data",
          "data": {
            "text/html": [
              "<pre>Read 500 images in 478.433 secs\tspeed: 0.950644 file/sec</pre>"
            ],
            "text/plain": [
              "Read 500 images in 478.433 secs\tspeed: 0.950644 file/sec"
            ]
          },
          "metadata": {
            "tags": []
          }
        },
        {
          "output_type": "display_data",
          "data": {
            "text/html": [
              "<pre>Read 506 images in 484.183 secs\tspeed: 1.04336 file/sec</pre>"
            ],
            "text/plain": [
              "Read 506 images in 484.183 secs\tspeed: 1.04336 file/sec"
            ]
          },
          "metadata": {
            "tags": []
          }
        },
        {
          "output_type": "display_data",
          "data": {
            "text/html": [
              "<pre>Read 511 images in 489.899 secs\tspeed: 0.874728 file/sec</pre>"
            ],
            "text/plain": [
              "Read 511 images in 489.899 secs\tspeed: 0.874728 file/sec"
            ]
          },
          "metadata": {
            "tags": []
          }
        },
        {
          "output_type": "display_data",
          "data": {
            "text/html": [
              "<pre>Read 518 images in 495.522 secs\tspeed: 1.24505 file/sec</pre>"
            ],
            "text/plain": [
              "Read 518 images in 495.522 secs\tspeed: 1.24505 file/sec"
            ]
          },
          "metadata": {
            "tags": []
          }
        },
        {
          "output_type": "display_data",
          "data": {
            "text/html": [
              "<pre>Read 524 images in 500.528 secs\tspeed: 1.19848 file/sec</pre>"
            ],
            "text/plain": [
              "Read 524 images in 500.528 secs\tspeed: 1.19848 file/sec"
            ]
          },
          "metadata": {
            "tags": []
          }
        },
        {
          "output_type": "display_data",
          "data": {
            "text/html": [
              "<pre>Read 526 images in 532.089 secs\tspeed: 0.0633693 file/sec</pre>"
            ],
            "text/plain": [
              "Read 526 images in 532.089 secs\tspeed: 0.0633693 file/sec"
            ]
          },
          "metadata": {
            "tags": []
          }
        },
        {
          "output_type": "display_data",
          "data": {
            "text/html": [
              "<pre>Read 532 images in 537.202 secs\tspeed: 1.17346 file/sec</pre>"
            ],
            "text/plain": [
              "Read 532 images in 537.202 secs\tspeed: 1.17346 file/sec"
            ]
          },
          "metadata": {
            "tags": []
          }
        },
        {
          "output_type": "display_data",
          "data": {
            "text/html": [
              "<pre>Read 538 images in 542.222 secs\tspeed: 1.19516 file/sec</pre>"
            ],
            "text/plain": [
              "Read 538 images in 542.222 secs\tspeed: 1.19516 file/sec"
            ]
          },
          "metadata": {
            "tags": []
          }
        },
        {
          "output_type": "display_data",
          "data": {
            "text/html": [
              "<pre>Read 544 images in 547.633 secs\tspeed: 1.10897 file/sec</pre>"
            ],
            "text/plain": [
              "Read 544 images in 547.633 secs\tspeed: 1.10897 file/sec"
            ]
          },
          "metadata": {
            "tags": []
          }
        },
        {
          "output_type": "display_data",
          "data": {
            "text/html": [
              "<pre>Read 551 images in 553.362 secs\tspeed: 1.22179 file/sec</pre>"
            ],
            "text/plain": [
              "Read 551 images in 553.362 secs\tspeed: 1.22179 file/sec"
            ]
          },
          "metadata": {
            "tags": []
          }
        },
        {
          "output_type": "display_data",
          "data": {
            "text/html": [
              "<pre>Read 558 images in 559.166 secs\tspeed: 1.20606 file/sec</pre>"
            ],
            "text/plain": [
              "Read 558 images in 559.166 secs\tspeed: 1.20606 file/sec"
            ]
          },
          "metadata": {
            "tags": []
          }
        },
        {
          "output_type": "display_data",
          "data": {
            "text/html": [
              "<pre>Read 563 images in 565.258 secs\tspeed: 0.820764 file/sec</pre>"
            ],
            "text/plain": [
              "Read 563 images in 565.258 secs\tspeed: 0.820764 file/sec"
            ]
          },
          "metadata": {
            "tags": []
          }
        },
        {
          "output_type": "display_data",
          "data": {
            "text/html": [
              "<pre>Read 570 images in 570.94 secs\tspeed: 1.23198 file/sec</pre>"
            ],
            "text/plain": [
              "Read 570 images in 570.94 secs\tspeed: 1.23198 file/sec"
            ]
          },
          "metadata": {
            "tags": []
          }
        },
        {
          "output_type": "display_data",
          "data": {
            "text/html": [
              "<pre>Read 576 images in 576.7 secs\tspeed: 1.04173 file/sec</pre>"
            ],
            "text/plain": [
              "Read 576 images in 576.7 secs\tspeed: 1.04173 file/sec"
            ]
          },
          "metadata": {
            "tags": []
          }
        },
        {
          "output_type": "display_data",
          "data": {
            "text/html": [
              "<pre>Read 582 images in 581.817 secs\tspeed: 1.17243 file/sec</pre>"
            ],
            "text/plain": [
              "Read 582 images in 581.817 secs\tspeed: 1.17243 file/sec"
            ]
          },
          "metadata": {
            "tags": []
          }
        },
        {
          "output_type": "display_data",
          "data": {
            "text/html": [
              "<pre>Read 588 images in 587.243 secs\tspeed: 1.10585 file/sec</pre>"
            ],
            "text/plain": [
              "Read 588 images in 587.243 secs\tspeed: 1.10585 file/sec"
            ]
          },
          "metadata": {
            "tags": []
          }
        },
        {
          "output_type": "display_data",
          "data": {
            "text/html": [
              "<pre>Read 595 images in 592.994 secs\tspeed: 1.21713 file/sec</pre>"
            ],
            "text/plain": [
              "Read 595 images in 592.994 secs\tspeed: 1.21713 file/sec"
            ]
          },
          "metadata": {
            "tags": []
          }
        },
        {
          "output_type": "display_data",
          "data": {
            "text/html": [
              "<pre>Read 601 images in 598.583 secs\tspeed: 1.07349 file/sec</pre>"
            ],
            "text/plain": [
              "Read 601 images in 598.583 secs\tspeed: 1.07349 file/sec"
            ]
          },
          "metadata": {
            "tags": []
          }
        },
        {
          "output_type": "display_data",
          "data": {
            "text/html": [
              "<pre>Read 607 images in 603.751 secs\tspeed: 1.16109 file/sec</pre>"
            ],
            "text/plain": [
              "Read 607 images in 603.751 secs\tspeed: 1.16109 file/sec"
            ]
          },
          "metadata": {
            "tags": []
          }
        },
        {
          "output_type": "display_data",
          "data": {
            "text/html": [
              "<pre>Read 611 images in 608.948 secs\tspeed: 0.769631 file/sec</pre>"
            ],
            "text/plain": [
              "Read 611 images in 608.948 secs\tspeed: 0.769631 file/sec"
            ]
          },
          "metadata": {
            "tags": []
          }
        },
        {
          "output_type": "display_data",
          "data": {
            "text/html": [
              "<pre>Read 618 images in 614.615 secs\tspeed: 1.23531 file/sec</pre>"
            ],
            "text/plain": [
              "Read 618 images in 614.615 secs\tspeed: 1.23531 file/sec"
            ]
          },
          "metadata": {
            "tags": []
          }
        },
        {
          "output_type": "display_data",
          "data": {
            "text/html": [
              "<pre>Read 625 images in 620.159 secs\tspeed: 1.26255 file/sec</pre>"
            ],
            "text/plain": [
              "Read 625 images in 620.159 secs\tspeed: 1.26255 file/sec"
            ]
          },
          "metadata": {
            "tags": []
          }
        },
        {
          "output_type": "display_data",
          "data": {
            "text/html": [
              "<pre>Read 631 images in 625.828 secs\tspeed: 1.05844 file/sec</pre>"
            ],
            "text/plain": [
              "Read 631 images in 625.828 secs\tspeed: 1.05844 file/sec"
            ]
          },
          "metadata": {
            "tags": []
          }
        },
        {
          "output_type": "display_data",
          "data": {
            "text/html": [
              "<pre>Read 638 images in 631.503 secs\tspeed: 1.23353 file/sec</pre>"
            ],
            "text/plain": [
              "Read 638 images in 631.503 secs\tspeed: 1.23353 file/sec"
            ]
          },
          "metadata": {
            "tags": []
          }
        },
        {
          "output_type": "display_data",
          "data": {
            "text/html": [
              "<pre>Read 645 images in 637.149 secs\tspeed: 1.23982 file/sec</pre>"
            ],
            "text/plain": [
              "Read 645 images in 637.149 secs\tspeed: 1.23982 file/sec"
            ]
          },
          "metadata": {
            "tags": []
          }
        },
        {
          "output_type": "display_data",
          "data": {
            "text/html": [
              "<pre>Read 651 images in 642.819 secs\tspeed: 1.05818 file/sec</pre>"
            ],
            "text/plain": [
              "Read 651 images in 642.819 secs\tspeed: 1.05818 file/sec"
            ]
          },
          "metadata": {
            "tags": []
          }
        },
        {
          "output_type": "display_data",
          "data": {
            "text/html": [
              "<pre>Read 658 images in 648.468 secs\tspeed: 1.23904 file/sec</pre>"
            ],
            "text/plain": [
              "Read 658 images in 648.468 secs\tspeed: 1.23904 file/sec"
            ]
          },
          "metadata": {
            "tags": []
          }
        },
        {
          "output_type": "display_data",
          "data": {
            "text/html": [
              "<pre>Read 665 images in 654.013 secs\tspeed: 1.26251 file/sec</pre>"
            ],
            "text/plain": [
              "Read 665 images in 654.013 secs\tspeed: 1.26251 file/sec"
            ]
          },
          "metadata": {
            "tags": []
          }
        },
        {
          "output_type": "display_data",
          "data": {
            "text/html": [
              "<pre>Read 672 images in 659.57 secs\tspeed: 1.25971 file/sec</pre>"
            ],
            "text/plain": [
              "Read 672 images in 659.57 secs\tspeed: 1.25971 file/sec"
            ]
          },
          "metadata": {
            "tags": []
          }
        },
        {
          "output_type": "display_data",
          "data": {
            "text/html": [
              "<pre>Read 679 images in 665.314 secs\tspeed: 1.21863 file/sec</pre>"
            ],
            "text/plain": [
              "Read 679 images in 665.314 secs\tspeed: 1.21863 file/sec"
            ]
          },
          "metadata": {
            "tags": []
          }
        },
        {
          "output_type": "display_data",
          "data": {
            "text/html": [
              "<pre>Read 685 images in 670.478 secs\tspeed: 1.1619 file/sec</pre>"
            ],
            "text/plain": [
              "Read 685 images in 670.478 secs\tspeed: 1.1619 file/sec"
            ]
          },
          "metadata": {
            "tags": []
          }
        },
        {
          "output_type": "display_data",
          "data": {
            "text/html": [
              "<pre>Read 691 images in 675.685 secs\tspeed: 1.1523 file/sec</pre>"
            ],
            "text/plain": [
              "Read 691 images in 675.685 secs\tspeed: 1.1523 file/sec"
            ]
          },
          "metadata": {
            "tags": []
          }
        },
        {
          "output_type": "display_data",
          "data": {
            "text/html": [
              "<pre>Read 698 images in 681.354 secs\tspeed: 1.23478 file/sec</pre>"
            ],
            "text/plain": [
              "Read 698 images in 681.354 secs\tspeed: 1.23478 file/sec"
            ]
          },
          "metadata": {
            "tags": []
          }
        },
        {
          "output_type": "display_data",
          "data": {
            "text/html": [
              "<pre>Read 704 images in 686.625 secs\tspeed: 1.13819 file/sec</pre>"
            ],
            "text/plain": [
              "Read 704 images in 686.625 secs\tspeed: 1.13819 file/sec"
            ]
          },
          "metadata": {
            "tags": []
          }
        },
        {
          "output_type": "display_data",
          "data": {
            "text/html": [
              "<pre>Read 710 images in 691.673 secs\tspeed: 1.18873 file/sec</pre>"
            ],
            "text/plain": [
              "Read 710 images in 691.673 secs\tspeed: 1.18873 file/sec"
            ]
          },
          "metadata": {
            "tags": []
          }
        },
        {
          "output_type": "display_data",
          "data": {
            "text/html": [
              "<pre>Read 717 images in 697.656 secs\tspeed: 1.16989 file/sec</pre>"
            ],
            "text/plain": [
              "Read 717 images in 697.656 secs\tspeed: 1.16989 file/sec"
            ]
          },
          "metadata": {
            "tags": []
          }
        },
        {
          "output_type": "display_data",
          "data": {
            "text/html": [
              "<pre>Read 724 images in 703.257 secs\tspeed: 1.24984 file/sec</pre>"
            ],
            "text/plain": [
              "Read 724 images in 703.257 secs\tspeed: 1.24984 file/sec"
            ]
          },
          "metadata": {
            "tags": []
          }
        },
        {
          "output_type": "display_data",
          "data": {
            "text/html": [
              "<pre>Read 731 images in 708.847 secs\tspeed: 1.25224 file/sec</pre>"
            ],
            "text/plain": [
              "Read 731 images in 708.847 secs\tspeed: 1.25224 file/sec"
            ]
          },
          "metadata": {
            "tags": []
          }
        },
        {
          "output_type": "display_data",
          "data": {
            "text/html": [
              "<pre>Read 737 images in 713.94 secs\tspeed: 1.17802 file/sec</pre>"
            ],
            "text/plain": [
              "Read 737 images in 713.94 secs\tspeed: 1.17802 file/sec"
            ]
          },
          "metadata": {
            "tags": []
          }
        },
        {
          "output_type": "display_data",
          "data": {
            "text/html": [
              "<pre>Read 743 images in 719.438 secs\tspeed: 1.09137 file/sec</pre>"
            ],
            "text/plain": [
              "Read 743 images in 719.438 secs\tspeed: 1.09137 file/sec"
            ]
          },
          "metadata": {
            "tags": []
          }
        },
        {
          "output_type": "display_data",
          "data": {
            "text/html": [
              "<pre>Read 749 images in 724.568 secs\tspeed: 1.16946 file/sec</pre>"
            ],
            "text/plain": [
              "Read 749 images in 724.568 secs\tspeed: 1.16946 file/sec"
            ]
          },
          "metadata": {
            "tags": []
          }
        },
        {
          "output_type": "display_data",
          "data": {
            "text/html": [
              "<pre>Read 756 images in 730.27 secs\tspeed: 1.22775 file/sec</pre>"
            ],
            "text/plain": [
              "Read 756 images in 730.27 secs\tspeed: 1.22775 file/sec"
            ]
          },
          "metadata": {
            "tags": []
          }
        },
        {
          "output_type": "display_data",
          "data": {
            "text/html": [
              "<pre>Read 762 images in 735.446 secs\tspeed: 1.1591 file/sec</pre>"
            ],
            "text/plain": [
              "Read 762 images in 735.446 secs\tspeed: 1.1591 file/sec"
            ]
          },
          "metadata": {
            "tags": []
          }
        },
        {
          "output_type": "display_data",
          "data": {
            "text/html": [
              "<pre>Read 768 images in 741.016 secs\tspeed: 1.07723 file/sec</pre>"
            ],
            "text/plain": [
              "Read 768 images in 741.016 secs\tspeed: 1.07723 file/sec"
            ]
          },
          "metadata": {
            "tags": []
          }
        },
        {
          "output_type": "display_data",
          "data": {
            "text/html": [
              "<pre>Read 775 images in 746.48 secs\tspeed: 1.28105 file/sec</pre>"
            ],
            "text/plain": [
              "Read 775 images in 746.48 secs\tspeed: 1.28105 file/sec"
            ]
          },
          "metadata": {
            "tags": []
          }
        },
        {
          "output_type": "display_data",
          "data": {
            "text/html": [
              "<pre>Read 782 images in 751.954 secs\tspeed: 1.2789 file/sec</pre>"
            ],
            "text/plain": [
              "Read 782 images in 751.954 secs\tspeed: 1.2789 file/sec"
            ]
          },
          "metadata": {
            "tags": []
          }
        },
        {
          "output_type": "display_data",
          "data": {
            "text/html": [
              "<pre>Read 789 images in 757.694 secs\tspeed: 1.21938 file/sec</pre>"
            ],
            "text/plain": [
              "Read 789 images in 757.694 secs\tspeed: 1.21938 file/sec"
            ]
          },
          "metadata": {
            "tags": []
          }
        },
        {
          "output_type": "display_data",
          "data": {
            "text/html": [
              "<pre>Read 794 images in 762.918 secs\tspeed: 0.957128 file/sec</pre>"
            ],
            "text/plain": [
              "Read 794 images in 762.918 secs\tspeed: 0.957128 file/sec"
            ]
          },
          "metadata": {
            "tags": []
          }
        },
        {
          "output_type": "display_data",
          "data": {
            "text/html": [
              "<pre>Read 800 images in 768.685 secs\tspeed: 1.0404 file/sec</pre>"
            ],
            "text/plain": [
              "Read 800 images in 768.685 secs\tspeed: 1.0404 file/sec"
            ]
          },
          "metadata": {
            "tags": []
          }
        },
        {
          "output_type": "display_data",
          "data": {
            "text/html": [
              "<pre>Read 807 images in 774.293 secs\tspeed: 1.24833 file/sec</pre>"
            ],
            "text/plain": [
              "Read 807 images in 774.293 secs\tspeed: 1.24833 file/sec"
            ]
          },
          "metadata": {
            "tags": []
          }
        },
        {
          "output_type": "display_data",
          "data": {
            "text/html": [
              "<pre>Read 814 images in 779.966 secs\tspeed: 1.23378 file/sec</pre>"
            ],
            "text/plain": [
              "Read 814 images in 779.966 secs\tspeed: 1.23378 file/sec"
            ]
          },
          "metadata": {
            "tags": []
          }
        },
        {
          "output_type": "display_data",
          "data": {
            "text/html": [
              "<pre>Read 821 images in 785.451 secs\tspeed: 1.27636 file/sec</pre>"
            ],
            "text/plain": [
              "Read 821 images in 785.451 secs\tspeed: 1.27636 file/sec"
            ]
          },
          "metadata": {
            "tags": []
          }
        },
        {
          "output_type": "display_data",
          "data": {
            "text/html": [
              "<pre>Read 826 images in 791.113 secs\tspeed: 0.882983 file/sec</pre>"
            ],
            "text/plain": [
              "Read 826 images in 791.113 secs\tspeed: 0.882983 file/sec"
            ]
          },
          "metadata": {
            "tags": []
          }
        },
        {
          "output_type": "display_data",
          "data": {
            "text/html": [
              "<pre>Read 833 images in 796.704 secs\tspeed: 1.25218 file/sec</pre>"
            ],
            "text/plain": [
              "Read 833 images in 796.704 secs\tspeed: 1.25218 file/sec"
            ]
          },
          "metadata": {
            "tags": []
          }
        },
        {
          "output_type": "display_data",
          "data": {
            "text/html": [
              "<pre>Read 839 images in 802.368 secs\tspeed: 1.05931 file/sec</pre>"
            ],
            "text/plain": [
              "Read 839 images in 802.368 secs\tspeed: 1.05931 file/sec"
            ]
          },
          "metadata": {
            "tags": []
          }
        },
        {
          "output_type": "display_data",
          "data": {
            "text/html": [
              "<pre>Read 845 images in 807.676 secs\tspeed: 1.13038 file/sec</pre>"
            ],
            "text/plain": [
              "Read 845 images in 807.676 secs\tspeed: 1.13038 file/sec"
            ]
          },
          "metadata": {
            "tags": []
          }
        },
        {
          "output_type": "display_data",
          "data": {
            "text/html": [
              "<pre>Read 852 images in 813.336 secs\tspeed: 1.23662 file/sec</pre>"
            ],
            "text/plain": [
              "Read 852 images in 813.336 secs\tspeed: 1.23662 file/sec"
            ]
          },
          "metadata": {
            "tags": []
          }
        },
        {
          "output_type": "display_data",
          "data": {
            "text/html": [
              "<pre>Read 859 images in 818.796 secs\tspeed: 1.28209 file/sec</pre>"
            ],
            "text/plain": [
              "Read 859 images in 818.796 secs\tspeed: 1.28209 file/sec"
            ]
          },
          "metadata": {
            "tags": []
          }
        },
        {
          "output_type": "display_data",
          "data": {
            "text/html": [
              "<pre>Read 863 images in 823.924 secs\tspeed: 0.77999 file/sec</pre>"
            ],
            "text/plain": [
              "Read 863 images in 823.924 secs\tspeed: 0.77999 file/sec"
            ]
          },
          "metadata": {
            "tags": []
          }
        },
        {
          "output_type": "display_data",
          "data": {
            "text/html": [
              "<pre>Read 870 images in 829.392 secs\tspeed: 1.28017 file/sec</pre>"
            ],
            "text/plain": [
              "Read 870 images in 829.392 secs\tspeed: 1.28017 file/sec"
            ]
          },
          "metadata": {
            "tags": []
          }
        },
        {
          "output_type": "display_data",
          "data": {
            "text/html": [
              "<pre>Read 877 images in 835.089 secs\tspeed: 1.22882 file/sec</pre>"
            ],
            "text/plain": [
              "Read 877 images in 835.089 secs\tspeed: 1.22882 file/sec"
            ]
          },
          "metadata": {
            "tags": []
          }
        },
        {
          "output_type": "display_data",
          "data": {
            "text/html": [
              "<pre>Read 884 images in 840.884 secs\tspeed: 1.20784 file/sec</pre>"
            ],
            "text/plain": [
              "Read 884 images in 840.884 secs\tspeed: 1.20784 file/sec"
            ]
          },
          "metadata": {
            "tags": []
          }
        },
        {
          "output_type": "display_data",
          "data": {
            "text/html": [
              "<pre>Read 891 images in 846.508 secs\tspeed: 1.24481 file/sec</pre>"
            ],
            "text/plain": [
              "Read 891 images in 846.508 secs\tspeed: 1.24481 file/sec"
            ]
          },
          "metadata": {
            "tags": []
          }
        },
        {
          "output_type": "display_data",
          "data": {
            "text/html": [
              "<pre>Read 897 images in 852.707 secs\tspeed: 0.967787 file/sec</pre>"
            ],
            "text/plain": [
              "Read 897 images in 852.707 secs\tspeed: 0.967787 file/sec"
            ]
          },
          "metadata": {
            "tags": []
          }
        },
        {
          "output_type": "display_data",
          "data": {
            "text/html": [
              "<pre>Read 903 images in 858.382 secs\tspeed: 1.05743 file/sec</pre>"
            ],
            "text/plain": [
              "Read 903 images in 858.382 secs\tspeed: 1.05743 file/sec"
            ]
          },
          "metadata": {
            "tags": []
          }
        },
        {
          "output_type": "display_data",
          "data": {
            "text/html": [
              "<pre>Read 910 images in 864.015 secs\tspeed: 1.24266 file/sec</pre>"
            ],
            "text/plain": [
              "Read 910 images in 864.015 secs\tspeed: 1.24266 file/sec"
            ]
          },
          "metadata": {
            "tags": []
          }
        },
        {
          "output_type": "display_data",
          "data": {
            "text/html": [
              "<pre>Read 917 images in 870.138 secs\tspeed: 1.14316 file/sec</pre>"
            ],
            "text/plain": [
              "Read 917 images in 870.138 secs\tspeed: 1.14316 file/sec"
            ]
          },
          "metadata": {
            "tags": []
          }
        },
        {
          "output_type": "display_data",
          "data": {
            "text/html": [
              "<pre>Read 923 images in 875.406 secs\tspeed: 1.13906 file/sec</pre>"
            ],
            "text/plain": [
              "Read 923 images in 875.406 secs\tspeed: 1.13906 file/sec"
            ]
          },
          "metadata": {
            "tags": []
          }
        },
        {
          "output_type": "display_data",
          "data": {
            "text/html": [
              "<pre>Read 929 images in 880.692 secs\tspeed: 1.13489 file/sec</pre>"
            ],
            "text/plain": [
              "Read 929 images in 880.692 secs\tspeed: 1.13489 file/sec"
            ]
          },
          "metadata": {
            "tags": []
          }
        },
        {
          "output_type": "display_data",
          "data": {
            "text/html": [
              "<pre>Read 936 images in 886.3 secs\tspeed: 1.24834 file/sec</pre>"
            ],
            "text/plain": [
              "Read 936 images in 886.3 secs\tspeed: 1.24834 file/sec"
            ]
          },
          "metadata": {
            "tags": []
          }
        },
        {
          "output_type": "display_data",
          "data": {
            "text/html": [
              "<pre>Read 943 images in 891.649 secs\tspeed: 1.30862 file/sec</pre>"
            ],
            "text/plain": [
              "Read 943 images in 891.649 secs\tspeed: 1.30862 file/sec"
            ]
          },
          "metadata": {
            "tags": []
          }
        },
        {
          "output_type": "display_data",
          "data": {
            "text/html": [
              "<pre>Read 949 images in 897.362 secs\tspeed: 1.05024 file/sec</pre>"
            ],
            "text/plain": [
              "Read 949 images in 897.362 secs\tspeed: 1.05024 file/sec"
            ]
          },
          "metadata": {
            "tags": []
          }
        },
        {
          "output_type": "display_data",
          "data": {
            "text/html": [
              "<pre>Read 955 images in 903.041 secs\tspeed: 1.05657 file/sec</pre>"
            ],
            "text/plain": [
              "Read 955 images in 903.041 secs\tspeed: 1.05657 file/sec"
            ]
          },
          "metadata": {
            "tags": []
          }
        },
        {
          "output_type": "display_data",
          "data": {
            "text/html": [
              "<pre>Read 962 images in 908.657 secs\tspeed: 1.24641 file/sec</pre>"
            ],
            "text/plain": [
              "Read 962 images in 908.657 secs\tspeed: 1.24641 file/sec"
            ]
          },
          "metadata": {
            "tags": []
          }
        },
        {
          "output_type": "display_data",
          "data": {
            "text/html": [
              "<pre>Read 969 images in 914.447 secs\tspeed: 1.20888 file/sec</pre>"
            ],
            "text/plain": [
              "Read 969 images in 914.447 secs\tspeed: 1.20888 file/sec"
            ]
          },
          "metadata": {
            "tags": []
          }
        },
        {
          "output_type": "display_data",
          "data": {
            "text/html": [
              "<pre>Read 976 images in 920.234 secs\tspeed: 1.20972 file/sec</pre>"
            ],
            "text/plain": [
              "Read 976 images in 920.234 secs\tspeed: 1.20972 file/sec"
            ]
          },
          "metadata": {
            "tags": []
          }
        },
        {
          "output_type": "display_data",
          "data": {
            "text/html": [
              "<pre>Read 982 images in 925.736 secs\tspeed: 1.09052 file/sec</pre>"
            ],
            "text/plain": [
              "Read 982 images in 925.736 secs\tspeed: 1.09052 file/sec"
            ]
          },
          "metadata": {
            "tags": []
          }
        },
        {
          "output_type": "display_data",
          "data": {
            "text/html": [
              "<pre>Read 988 images in 931.287 secs\tspeed: 1.08078 file/sec</pre>"
            ],
            "text/plain": [
              "Read 988 images in 931.287 secs\tspeed: 1.08078 file/sec"
            ]
          },
          "metadata": {
            "tags": []
          }
        },
        {
          "output_type": "display_data",
          "data": {
            "text/html": [
              "<pre>Read 995 images in 936.875 secs\tspeed: 1.25262 file/sec</pre>"
            ],
            "text/plain": [
              "Read 995 images in 936.875 secs\tspeed: 1.25262 file/sec"
            ]
          },
          "metadata": {
            "tags": []
          }
        },
        {
          "output_type": "display_data",
          "data": {
            "text/html": [
              "<pre>Read 1002 images in 942.503 secs\tspeed: 1.24385 file/sec</pre>"
            ],
            "text/plain": [
              "Read 1002 images in 942.503 secs\tspeed: 1.24385 file/sec"
            ]
          },
          "metadata": {
            "tags": []
          }
        },
        {
          "output_type": "display_data",
          "data": {
            "text/html": [
              "<pre>Read 1008 images in 947.609 secs\tspeed: 1.17506 file/sec</pre>"
            ],
            "text/plain": [
              "Read 1008 images in 947.609 secs\tspeed: 1.17506 file/sec"
            ]
          },
          "metadata": {
            "tags": []
          }
        },
        {
          "output_type": "display_data",
          "data": {
            "text/html": [
              "<pre>Read 1014 images in 952.893 secs\tspeed: 1.13566 file/sec</pre>"
            ],
            "text/plain": [
              "Read 1014 images in 952.893 secs\tspeed: 1.13566 file/sec"
            ]
          },
          "metadata": {
            "tags": []
          }
        },
        {
          "output_type": "display_data",
          "data": {
            "text/html": [
              "<pre>Read 1020 images in 957.919 secs\tspeed: 1.19359 file/sec</pre>"
            ],
            "text/plain": [
              "Read 1020 images in 957.919 secs\tspeed: 1.19359 file/sec"
            ]
          },
          "metadata": {
            "tags": []
          }
        },
        {
          "output_type": "display_data",
          "data": {
            "text/html": [
              "<pre>Read 1027 images in 963.63 secs\tspeed: 1.22569 file/sec</pre>"
            ],
            "text/plain": [
              "Read 1027 images in 963.63 secs\tspeed: 1.22569 file/sec"
            ]
          },
          "metadata": {
            "tags": []
          }
        },
        {
          "output_type": "display_data",
          "data": {
            "text/html": [
              "<pre>Read 1033 images in 969.081 secs\tspeed: 1.10091 file/sec</pre>"
            ],
            "text/plain": [
              "Read 1033 images in 969.081 secs\tspeed: 1.10091 file/sec"
            ]
          },
          "metadata": {
            "tags": []
          }
        },
        {
          "output_type": "display_data",
          "data": {
            "text/html": [
              "<pre>Read 1040 images in 974.836 secs\tspeed: 1.21614 file/sec</pre>"
            ],
            "text/plain": [
              "Read 1040 images in 974.836 secs\tspeed: 1.21614 file/sec"
            ]
          },
          "metadata": {
            "tags": []
          }
        },
        {
          "output_type": "display_data",
          "data": {
            "text/html": [
              "<pre>Read 1047 images in 980.583 secs\tspeed: 1.21807 file/sec</pre>"
            ],
            "text/plain": [
              "Read 1047 images in 980.583 secs\tspeed: 1.21807 file/sec"
            ]
          },
          "metadata": {
            "tags": []
          }
        },
        {
          "output_type": "display_data",
          "data": {
            "text/html": [
              "<pre>Read 1053 images in 986.441 secs\tspeed: 1.02431 file/sec</pre>"
            ],
            "text/plain": [
              "Read 1053 images in 986.441 secs\tspeed: 1.02431 file/sec"
            ]
          },
          "metadata": {
            "tags": []
          }
        },
        {
          "output_type": "display_data",
          "data": {
            "text/html": [
              "<pre>Read 1060 images in 992.036 secs\tspeed: 1.25102 file/sec</pre>"
            ],
            "text/plain": [
              "Read 1060 images in 992.036 secs\tspeed: 1.25102 file/sec"
            ]
          },
          "metadata": {
            "tags": []
          }
        },
        {
          "output_type": "display_data",
          "data": {
            "text/html": [
              "<pre>Read 1067 images in 997.647 secs\tspeed: 1.2476 file/sec</pre>"
            ],
            "text/plain": [
              "Read 1067 images in 997.647 secs\tspeed: 1.2476 file/sec"
            ]
          },
          "metadata": {
            "tags": []
          }
        },
        {
          "output_type": "display_data",
          "data": {
            "text/html": [
              "<pre>Read 1074 images in 1003.27 secs\tspeed: 1.24513 file/sec</pre>"
            ],
            "text/plain": [
              "Read 1074 images in 1003.27 secs\tspeed: 1.24513 file/sec"
            ]
          },
          "metadata": {
            "tags": []
          }
        },
        {
          "output_type": "display_data",
          "data": {
            "text/html": [
              "<pre>Read 1080 images in 1008.86 secs\tspeed: 1.07405 file/sec</pre>"
            ],
            "text/plain": [
              "Read 1080 images in 1008.86 secs\tspeed: 1.07405 file/sec"
            ]
          },
          "metadata": {
            "tags": []
          }
        },
        {
          "output_type": "display_data",
          "data": {
            "text/html": [
              "<pre>Read 1087 images in 1014.33 secs\tspeed: 1.27884 file/sec</pre>"
            ],
            "text/plain": [
              "Read 1087 images in 1014.33 secs\tspeed: 1.27884 file/sec"
            ]
          },
          "metadata": {
            "tags": []
          }
        },
        {
          "output_type": "display_data",
          "data": {
            "text/html": [
              "<pre>Read 1094 images in 1019.95 secs\tspeed: 1.24607 file/sec</pre>"
            ],
            "text/plain": [
              "Read 1094 images in 1019.95 secs\tspeed: 1.24607 file/sec"
            ]
          },
          "metadata": {
            "tags": []
          }
        },
        {
          "output_type": "display_data",
          "data": {
            "text/html": [
              "<pre>Read 1100 images in 1025 secs\tspeed: 1.18707 file/sec</pre>"
            ],
            "text/plain": [
              "Read 1100 images in 1025 secs\tspeed: 1.18707 file/sec"
            ]
          },
          "metadata": {
            "tags": []
          }
        },
        {
          "output_type": "display_data",
          "data": {
            "text/html": [
              "<pre>Read 1106 images in 1030.47 secs\tspeed: 1.09704 file/sec</pre>"
            ],
            "text/plain": [
              "Read 1106 images in 1030.47 secs\tspeed: 1.09704 file/sec"
            ]
          },
          "metadata": {
            "tags": []
          }
        },
        {
          "output_type": "display_data",
          "data": {
            "text/html": [
              "<pre>Read 1113 images in 1036.12 secs\tspeed: 1.23894 file/sec</pre>"
            ],
            "text/plain": [
              "Read 1113 images in 1036.12 secs\tspeed: 1.23894 file/sec"
            ]
          },
          "metadata": {
            "tags": []
          }
        },
        {
          "output_type": "display_data",
          "data": {
            "text/html": [
              "<pre>Read 1120 images in 1041.4 secs\tspeed: 1.32482 file/sec</pre>"
            ],
            "text/plain": [
              "Read 1120 images in 1041.4 secs\tspeed: 1.32482 file/sec"
            ]
          },
          "metadata": {
            "tags": []
          }
        },
        {
          "output_type": "display_data",
          "data": {
            "text/html": [
              "<pre>Read 1127 images in 1046.88 secs\tspeed: 1.27833 file/sec</pre>"
            ],
            "text/plain": [
              "Read 1127 images in 1046.88 secs\tspeed: 1.27833 file/sec"
            ]
          },
          "metadata": {
            "tags": []
          }
        },
        {
          "output_type": "display_data",
          "data": {
            "text/html": [
              "<pre>Read 1133 images in 1052.17 secs\tspeed: 1.13348 file/sec</pre>"
            ],
            "text/plain": [
              "Read 1133 images in 1052.17 secs\tspeed: 1.13348 file/sec"
            ]
          },
          "metadata": {
            "tags": []
          }
        },
        {
          "output_type": "display_data",
          "data": {
            "text/html": [
              "<pre>Read 1140 images in 1057.88 secs\tspeed: 1.22605 file/sec</pre>"
            ],
            "text/plain": [
              "Read 1140 images in 1057.88 secs\tspeed: 1.22605 file/sec"
            ]
          },
          "metadata": {
            "tags": []
          }
        },
        {
          "output_type": "display_data",
          "data": {
            "text/html": [
              "<pre>Read 1146 images in 1063.82 secs\tspeed: 1.0103 file/sec</pre>"
            ],
            "text/plain": [
              "Read 1146 images in 1063.82 secs\tspeed: 1.0103 file/sec"
            ]
          },
          "metadata": {
            "tags": []
          }
        },
        {
          "output_type": "display_data",
          "data": {
            "text/html": [
              "<pre>Read 1152 images in 1069.4 secs\tspeed: 1.07566 file/sec</pre>"
            ],
            "text/plain": [
              "Read 1152 images in 1069.4 secs\tspeed: 1.07566 file/sec"
            ]
          },
          "metadata": {
            "tags": []
          }
        },
        {
          "output_type": "display_data",
          "data": {
            "text/html": [
              "<pre>Read 1159 images in 1075.09 secs\tspeed: 1.23023 file/sec</pre>"
            ],
            "text/plain": [
              "Read 1159 images in 1075.09 secs\tspeed: 1.23023 file/sec"
            ]
          },
          "metadata": {
            "tags": []
          }
        },
        {
          "output_type": "display_data",
          "data": {
            "text/html": [
              "<pre>Read 1164 images in 1080.87 secs\tspeed: 0.864761 file/sec</pre>"
            ],
            "text/plain": [
              "Read 1164 images in 1080.87 secs\tspeed: 0.864761 file/sec"
            ]
          },
          "metadata": {
            "tags": []
          }
        },
        {
          "output_type": "display_data",
          "data": {
            "text/html": [
              "<pre>Read 1170 images in 1085.99 secs\tspeed: 1.17299 file/sec</pre>"
            ],
            "text/plain": [
              "Read 1170 images in 1085.99 secs\tspeed: 1.17299 file/sec"
            ]
          },
          "metadata": {
            "tags": []
          }
        },
        {
          "output_type": "display_data",
          "data": {
            "text/html": [
              "<pre>Read 1177 images in 1091.75 secs\tspeed: 1.21541 file/sec</pre>"
            ],
            "text/plain": [
              "Read 1177 images in 1091.75 secs\tspeed: 1.21541 file/sec"
            ]
          },
          "metadata": {
            "tags": []
          }
        },
        {
          "output_type": "display_data",
          "data": {
            "text/html": [
              "<pre>Read 1183 images in 1096.8 secs\tspeed: 1.18717 file/sec</pre>"
            ],
            "text/plain": [
              "Read 1183 images in 1096.8 secs\tspeed: 1.18717 file/sec"
            ]
          },
          "metadata": {
            "tags": []
          }
        },
        {
          "output_type": "display_data",
          "data": {
            "text/html": [
              "<pre>Read 1189 images in 1102.32 secs\tspeed: 1.08663 file/sec</pre>"
            ],
            "text/plain": [
              "Read 1189 images in 1102.32 secs\tspeed: 1.08663 file/sec"
            ]
          },
          "metadata": {
            "tags": []
          }
        },
        {
          "output_type": "display_data",
          "data": {
            "text/html": [
              "<pre>Read 1194 images in 1107.88 secs\tspeed: 0.899471 file/sec</pre>"
            ],
            "text/plain": [
              "Read 1194 images in 1107.88 secs\tspeed: 0.899471 file/sec"
            ]
          },
          "metadata": {
            "tags": []
          }
        },
        {
          "output_type": "display_data",
          "data": {
            "text/html": [
              "<pre>Read 1200 images in 1113.13 secs\tspeed: 1.14333 file/sec</pre>"
            ],
            "text/plain": [
              "Read 1200 images in 1113.13 secs\tspeed: 1.14333 file/sec"
            ]
          },
          "metadata": {
            "tags": []
          }
        },
        {
          "output_type": "display_data",
          "data": {
            "text/html": [
              "<pre>Read 1206 images in 1118.79 secs\tspeed: 1.05894 file/sec</pre>"
            ],
            "text/plain": [
              "Read 1206 images in 1118.79 secs\tspeed: 1.05894 file/sec"
            ]
          },
          "metadata": {
            "tags": []
          }
        },
        {
          "output_type": "display_data",
          "data": {
            "text/html": [
              "<pre>Read 1213 images in 1124.53 secs\tspeed: 1.22119 file/sec</pre>"
            ],
            "text/plain": [
              "Read 1213 images in 1124.53 secs\tspeed: 1.22119 file/sec"
            ]
          },
          "metadata": {
            "tags": []
          }
        },
        {
          "output_type": "display_data",
          "data": {
            "text/html": [
              "<pre>Read 1217 images in 1129.65 secs\tspeed: 0.780739 file/sec</pre>"
            ],
            "text/plain": [
              "Read 1217 images in 1129.65 secs\tspeed: 0.780739 file/sec"
            ]
          },
          "metadata": {
            "tags": []
          }
        },
        {
          "output_type": "display_data",
          "data": {
            "text/html": [
              "<pre>Read 1223 images in 1135.52 secs\tspeed: 1.02242 file/sec</pre>"
            ],
            "text/plain": [
              "Read 1223 images in 1135.52 secs\tspeed: 1.02242 file/sec"
            ]
          },
          "metadata": {
            "tags": []
          }
        },
        {
          "output_type": "display_data",
          "data": {
            "text/html": [
              "<pre>Read 1229 images in 1141.27 secs\tspeed: 1.04287 file/sec</pre>"
            ],
            "text/plain": [
              "Read 1229 images in 1141.27 secs\tspeed: 1.04287 file/sec"
            ]
          },
          "metadata": {
            "tags": []
          }
        },
        {
          "output_type": "display_data",
          "data": {
            "text/html": [
              "<pre>Read 1234 images in 1146.95 secs\tspeed: 0.880177 file/sec</pre>"
            ],
            "text/plain": [
              "Read 1234 images in 1146.95 secs\tspeed: 0.880177 file/sec"
            ]
          },
          "metadata": {
            "tags": []
          }
        },
        {
          "output_type": "display_data",
          "data": {
            "text/html": [
              "<pre>Read 1239 images in 1152.23 secs\tspeed: 0.948096 file/sec</pre>"
            ],
            "text/plain": [
              "Read 1239 images in 1152.23 secs\tspeed: 0.948096 file/sec"
            ]
          },
          "metadata": {
            "tags": []
          }
        },
        {
          "output_type": "display_data",
          "data": {
            "text/html": [
              "<pre>Read 1246 images in 1158.24 secs\tspeed: 1.16432 file/sec</pre>"
            ],
            "text/plain": [
              "Read 1246 images in 1158.24 secs\tspeed: 1.16432 file/sec"
            ]
          },
          "metadata": {
            "tags": []
          }
        },
        {
          "output_type": "display_data",
          "data": {
            "text/html": [
              "<pre>Read 1253 images in 1163.95 secs\tspeed: 1.22468 file/sec</pre>"
            ],
            "text/plain": [
              "Read 1253 images in 1163.95 secs\tspeed: 1.22468 file/sec"
            ]
          },
          "metadata": {
            "tags": []
          }
        },
        {
          "output_type": "display_data",
          "data": {
            "text/html": [
              "<pre>Read 1260 images in 1169.7 secs\tspeed: 1.21764 file/sec</pre>"
            ],
            "text/plain": [
              "Read 1260 images in 1169.7 secs\tspeed: 1.21764 file/sec"
            ]
          },
          "metadata": {
            "tags": []
          }
        },
        {
          "output_type": "display_data",
          "data": {
            "text/html": [
              "<pre>Read 1266 images in 1174.98 secs\tspeed: 1.13767 file/sec</pre>"
            ],
            "text/plain": [
              "Read 1266 images in 1174.98 secs\tspeed: 1.13767 file/sec"
            ]
          },
          "metadata": {
            "tags": []
          }
        },
        {
          "output_type": "display_data",
          "data": {
            "text/html": [
              "<pre>Read 1273 images in 1180.97 secs\tspeed: 1.16763 file/sec</pre>"
            ],
            "text/plain": [
              "Read 1273 images in 1180.97 secs\tspeed: 1.16763 file/sec"
            ]
          },
          "metadata": {
            "tags": []
          }
        },
        {
          "output_type": "display_data",
          "data": {
            "text/html": [
              "<pre>Read 1280 images in 1186.75 secs\tspeed: 1.21081 file/sec</pre>"
            ],
            "text/plain": [
              "Read 1280 images in 1186.75 secs\tspeed: 1.21081 file/sec"
            ]
          },
          "metadata": {
            "tags": []
          }
        },
        {
          "output_type": "display_data",
          "data": {
            "text/html": [
              "<pre>Read 1287 images in 1192.29 secs\tspeed: 1.26414 file/sec</pre>"
            ],
            "text/plain": [
              "Read 1287 images in 1192.29 secs\tspeed: 1.26414 file/sec"
            ]
          },
          "metadata": {
            "tags": []
          }
        },
        {
          "output_type": "display_data",
          "data": {
            "text/html": [
              "<pre>Read 1293 images in 1197.89 secs\tspeed: 1.07238 file/sec</pre>"
            ],
            "text/plain": [
              "Read 1293 images in 1197.89 secs\tspeed: 1.07238 file/sec"
            ]
          },
          "metadata": {
            "tags": []
          }
        },
        {
          "output_type": "display_data",
          "data": {
            "text/html": [
              "<pre>Read 1299 images in 1203.01 secs\tspeed: 1.17107 file/sec</pre>"
            ],
            "text/plain": [
              "Read 1299 images in 1203.01 secs\tspeed: 1.17107 file/sec"
            ]
          },
          "metadata": {
            "tags": []
          }
        },
        {
          "output_type": "display_data",
          "data": {
            "text/html": [
              "<pre>Read 1306 images in 1208.55 secs\tspeed: 1.26293 file/sec</pre>"
            ],
            "text/plain": [
              "Read 1306 images in 1208.55 secs\tspeed: 1.26293 file/sec"
            ]
          },
          "metadata": {
            "tags": []
          }
        },
        {
          "output_type": "display_data",
          "data": {
            "text/html": [
              "<pre>Read 1312 images in 1213.66 secs\tspeed: 1.17339 file/sec</pre>"
            ],
            "text/plain": [
              "Read 1312 images in 1213.66 secs\tspeed: 1.17339 file/sec"
            ]
          },
          "metadata": {
            "tags": []
          }
        },
        {
          "output_type": "display_data",
          "data": {
            "text/html": [
              "<pre>Read 1318 images in 1219.36 secs\tspeed: 1.05304 file/sec</pre>"
            ],
            "text/plain": [
              "Read 1318 images in 1219.36 secs\tspeed: 1.05304 file/sec"
            ]
          },
          "metadata": {
            "tags": []
          }
        },
        {
          "output_type": "display_data",
          "data": {
            "text/html": [
              "<pre>Read 1325 images in 1224.93 secs\tspeed: 1.25827 file/sec</pre>"
            ],
            "text/plain": [
              "Read 1325 images in 1224.93 secs\tspeed: 1.25827 file/sec"
            ]
          },
          "metadata": {
            "tags": []
          }
        },
        {
          "output_type": "display_data",
          "data": {
            "text/html": [
              "<pre>Read 1330 images in 1230.45 secs\tspeed: 0.90489 file/sec</pre>"
            ],
            "text/plain": [
              "Read 1330 images in 1230.45 secs\tspeed: 0.90489 file/sec"
            ]
          },
          "metadata": {
            "tags": []
          }
        },
        {
          "output_type": "display_data",
          "data": {
            "text/html": [
              "<pre>Read 1335 images in 1235.59 secs\tspeed: 0.972692 file/sec</pre>"
            ],
            "text/plain": [
              "Read 1335 images in 1235.59 secs\tspeed: 0.972692 file/sec"
            ]
          },
          "metadata": {
            "tags": []
          }
        },
        {
          "output_type": "display_data",
          "data": {
            "text/html": [
              "<pre>Read 1340 images in 1240.88 secs\tspeed: 0.945599 file/sec</pre>"
            ],
            "text/plain": [
              "Read 1340 images in 1240.88 secs\tspeed: 0.945599 file/sec"
            ]
          },
          "metadata": {
            "tags": []
          }
        },
        {
          "output_type": "display_data",
          "data": {
            "text/html": [
              "<pre>Read 1346 images in 1246.05 secs\tspeed: 1.16031 file/sec</pre>"
            ],
            "text/plain": [
              "Read 1346 images in 1246.05 secs\tspeed: 1.16031 file/sec"
            ]
          },
          "metadata": {
            "tags": []
          }
        },
        {
          "output_type": "display_data",
          "data": {
            "text/html": [
              "<pre>Read 1353 images in 1251.58 secs\tspeed: 1.26573 file/sec</pre>"
            ],
            "text/plain": [
              "Read 1353 images in 1251.58 secs\tspeed: 1.26573 file/sec"
            ]
          },
          "metadata": {
            "tags": []
          }
        },
        {
          "output_type": "display_data",
          "data": {
            "text/html": [
              "<pre>Read 1359 images in 1256.82 secs\tspeed: 1.14466 file/sec</pre>"
            ],
            "text/plain": [
              "Read 1359 images in 1256.82 secs\tspeed: 1.14466 file/sec"
            ]
          },
          "metadata": {
            "tags": []
          }
        },
        {
          "output_type": "display_data",
          "data": {
            "text/html": [
              "<pre>Read 1365 images in 1262.35 secs\tspeed: 1.08504 file/sec</pre>"
            ],
            "text/plain": [
              "Read 1365 images in 1262.35 secs\tspeed: 1.08504 file/sec"
            ]
          },
          "metadata": {
            "tags": []
          }
        },
        {
          "output_type": "display_data",
          "data": {
            "text/html": [
              "<pre>Read 1372 images in 1268.02 secs\tspeed: 1.2353 file/sec</pre>"
            ],
            "text/plain": [
              "Read 1372 images in 1268.02 secs\tspeed: 1.2353 file/sec"
            ]
          },
          "metadata": {
            "tags": []
          }
        },
        {
          "output_type": "display_data",
          "data": {
            "text/html": [
              "<pre>Read 1378 images in 1273.18 secs\tspeed: 1.16168 file/sec</pre>"
            ],
            "text/plain": [
              "Read 1378 images in 1273.18 secs\tspeed: 1.16168 file/sec"
            ]
          },
          "metadata": {
            "tags": []
          }
        },
        {
          "output_type": "display_data",
          "data": {
            "text/html": [
              "<pre>Read 1385 images in 1278.95 secs\tspeed: 1.21379 file/sec</pre>"
            ],
            "text/plain": [
              "Read 1385 images in 1278.95 secs\tspeed: 1.21379 file/sec"
            ]
          },
          "metadata": {
            "tags": []
          }
        },
        {
          "output_type": "display_data",
          "data": {
            "text/html": [
              "<pre>Read 1391 images in 1284.06 secs\tspeed: 1.17335 file/sec</pre>"
            ],
            "text/plain": [
              "Read 1391 images in 1284.06 secs\tspeed: 1.17335 file/sec"
            ]
          },
          "metadata": {
            "tags": []
          }
        },
        {
          "output_type": "display_data",
          "data": {
            "text/html": [
              "<pre>Read 1397 images in 1289.42 secs\tspeed: 1.12105 file/sec</pre>"
            ],
            "text/plain": [
              "Read 1397 images in 1289.42 secs\tspeed: 1.12105 file/sec"
            ]
          },
          "metadata": {
            "tags": []
          }
        },
        {
          "output_type": "display_data",
          "data": {
            "text/html": [
              "<pre>Read 1403 images in 1295.52 secs\tspeed: 0.983763 file/sec</pre>"
            ],
            "text/plain": [
              "Read 1403 images in 1295.52 secs\tspeed: 0.983763 file/sec"
            ]
          },
          "metadata": {
            "tags": []
          }
        },
        {
          "output_type": "display_data",
          "data": {
            "text/html": [
              "<pre>Read 1409 images in 1301.08 secs\tspeed: 1.07789 file/sec</pre>"
            ],
            "text/plain": [
              "Read 1409 images in 1301.08 secs\tspeed: 1.07789 file/sec"
            ]
          },
          "metadata": {
            "tags": []
          }
        },
        {
          "output_type": "display_data",
          "data": {
            "text/html": [
              "<pre>Read 1415 images in 1306.09 secs\tspeed: 1.19793 file/sec</pre>"
            ],
            "text/plain": [
              "Read 1415 images in 1306.09 secs\tspeed: 1.19793 file/sec"
            ]
          },
          "metadata": {
            "tags": []
          }
        },
        {
          "output_type": "display_data",
          "data": {
            "text/html": [
              "<pre>Read 1421 images in 1311.4 secs\tspeed: 1.12932 file/sec</pre>"
            ],
            "text/plain": [
              "Read 1421 images in 1311.4 secs\tspeed: 1.12932 file/sec"
            ]
          },
          "metadata": {
            "tags": []
          }
        },
        {
          "output_type": "display_data",
          "data": {
            "text/html": [
              "<pre>Read 1427 images in 1317.33 secs\tspeed: 1.01204 file/sec</pre>"
            ],
            "text/plain": [
              "Read 1427 images in 1317.33 secs\tspeed: 1.01204 file/sec"
            ]
          },
          "metadata": {
            "tags": []
          }
        },
        {
          "output_type": "display_data",
          "data": {
            "text/html": [
              "<pre>Read 1432 images in 1323.12 secs\tspeed: 0.864248 file/sec</pre>"
            ],
            "text/plain": [
              "Read 1432 images in 1323.12 secs\tspeed: 0.864248 file/sec"
            ]
          },
          "metadata": {
            "tags": []
          }
        },
        {
          "output_type": "display_data",
          "data": {
            "text/html": [
              "<pre>Read 1439 images in 1328.81 secs\tspeed: 1.22899 file/sec</pre>"
            ],
            "text/plain": [
              "Read 1439 images in 1328.81 secs\tspeed: 1.22899 file/sec"
            ]
          },
          "metadata": {
            "tags": []
          }
        },
        {
          "output_type": "display_data",
          "data": {
            "text/html": [
              "<pre>Read 1445 images in 1334.52 secs\tspeed: 1.05175 file/sec</pre>"
            ],
            "text/plain": [
              "Read 1445 images in 1334.52 secs\tspeed: 1.05175 file/sec"
            ]
          },
          "metadata": {
            "tags": []
          }
        },
        {
          "output_type": "display_data",
          "data": {
            "text/html": [
              "<pre>Read 1451 images in 1339.77 secs\tspeed: 1.1425 file/sec</pre>"
            ],
            "text/plain": [
              "Read 1451 images in 1339.77 secs\tspeed: 1.1425 file/sec"
            ]
          },
          "metadata": {
            "tags": []
          }
        },
        {
          "output_type": "display_data",
          "data": {
            "text/html": [
              "<pre>Read 1457 images in 1345.1 secs\tspeed: 1.12587 file/sec</pre>"
            ],
            "text/plain": [
              "Read 1457 images in 1345.1 secs\tspeed: 1.12587 file/sec"
            ]
          },
          "metadata": {
            "tags": []
          }
        },
        {
          "output_type": "display_data",
          "data": {
            "text/html": [
              "<pre>Read 1464 images in 1350.6 secs\tspeed: 1.27209 file/sec</pre>"
            ],
            "text/plain": [
              "Read 1464 images in 1350.6 secs\tspeed: 1.27209 file/sec"
            ]
          },
          "metadata": {
            "tags": []
          }
        },
        {
          "output_type": "display_data",
          "data": {
            "text/html": [
              "<pre>Read 1471 images in 1356.67 secs\tspeed: 1.15404 file/sec</pre>"
            ],
            "text/plain": [
              "Read 1471 images in 1356.67 secs\tspeed: 1.15404 file/sec"
            ]
          },
          "metadata": {
            "tags": []
          }
        },
        {
          "output_type": "display_data",
          "data": {
            "text/html": [
              "<pre>Read 1478 images in 1362.45 secs\tspeed: 1.21034 file/sec</pre>"
            ],
            "text/plain": [
              "Read 1478 images in 1362.45 secs\tspeed: 1.21034 file/sec"
            ]
          },
          "metadata": {
            "tags": []
          }
        },
        {
          "output_type": "display_data",
          "data": {
            "text/html": [
              "<pre>Read 1484 images in 1367.55 secs\tspeed: 1.17787 file/sec</pre>"
            ],
            "text/plain": [
              "Read 1484 images in 1367.55 secs\tspeed: 1.17787 file/sec"
            ]
          },
          "metadata": {
            "tags": []
          }
        },
        {
          "output_type": "display_data",
          "data": {
            "text/html": [
              "<pre>Read 1490 images in 1373.4 secs\tspeed: 1.02435 file/sec</pre>"
            ],
            "text/plain": [
              "Read 1490 images in 1373.4 secs\tspeed: 1.02435 file/sec"
            ]
          },
          "metadata": {
            "tags": []
          }
        },
        {
          "output_type": "display_data",
          "data": {
            "text/html": [
              "<pre>Read 1496 images in 1379.77 secs\tspeed: 0.942271 file/sec</pre>"
            ],
            "text/plain": [
              "Read 1496 images in 1379.77 secs\tspeed: 0.942271 file/sec"
            ]
          },
          "metadata": {
            "tags": []
          }
        },
        {
          "output_type": "display_data",
          "data": {
            "text/html": [
              "<pre>Read 1501 images in 1385.83 secs\tspeed: 0.824619 file/sec</pre>"
            ],
            "text/plain": [
              "Read 1501 images in 1385.83 secs\tspeed: 0.824619 file/sec"
            ]
          },
          "metadata": {
            "tags": []
          }
        },
        {
          "output_type": "display_data",
          "data": {
            "text/html": [
              "<pre>Read 1505 images in 1391.31 secs\tspeed: 0.730466 file/sec</pre>"
            ],
            "text/plain": [
              "Read 1505 images in 1391.31 secs\tspeed: 0.730466 file/sec"
            ]
          },
          "metadata": {
            "tags": []
          }
        },
        {
          "output_type": "display_data",
          "data": {
            "text/html": [
              "<pre>Read 1509 images in 1396.69 secs\tspeed: 0.743083 file/sec</pre>"
            ],
            "text/plain": [
              "Read 1509 images in 1396.69 secs\tspeed: 0.743083 file/sec"
            ]
          },
          "metadata": {
            "tags": []
          }
        },
        {
          "output_type": "display_data",
          "data": {
            "text/html": [
              "<pre>Read 1515 images in 1403.09 secs\tspeed: 0.937984 file/sec</pre>"
            ],
            "text/plain": [
              "Read 1515 images in 1403.09 secs\tspeed: 0.937984 file/sec"
            ]
          },
          "metadata": {
            "tags": []
          }
        },
        {
          "output_type": "display_data",
          "data": {
            "text/html": [
              "<pre>Read 1520 images in 1408.45 secs\tspeed: 0.932629 file/sec</pre>"
            ],
            "text/plain": [
              "Read 1520 images in 1408.45 secs\tspeed: 0.932629 file/sec"
            ]
          },
          "metadata": {
            "tags": []
          }
        },
        {
          "output_type": "display_data",
          "data": {
            "text/html": [
              "<pre>Read 1526 images in 1413.83 secs\tspeed: 1.11451 file/sec</pre>"
            ],
            "text/plain": [
              "Read 1526 images in 1413.83 secs\tspeed: 1.11451 file/sec"
            ]
          },
          "metadata": {
            "tags": []
          }
        },
        {
          "output_type": "display_data",
          "data": {
            "text/html": [
              "<pre>Read 1532 images in 1419.65 secs\tspeed: 1.03071 file/sec</pre>"
            ],
            "text/plain": [
              "Read 1532 images in 1419.65 secs\tspeed: 1.03071 file/sec"
            ]
          },
          "metadata": {
            "tags": []
          }
        },
        {
          "output_type": "display_data",
          "data": {
            "text/html": [
              "<pre>Read 1539 images in 1425.27 secs\tspeed: 1.24653 file/sec</pre>"
            ],
            "text/plain": [
              "Read 1539 images in 1425.27 secs\tspeed: 1.24653 file/sec"
            ]
          },
          "metadata": {
            "tags": []
          }
        },
        {
          "output_type": "display_data",
          "data": {
            "text/html": [
              "<pre>Read 1546 images in 1431.01 secs\tspeed: 1.21937 file/sec</pre>"
            ],
            "text/plain": [
              "Read 1546 images in 1431.01 secs\tspeed: 1.21937 file/sec"
            ]
          },
          "metadata": {
            "tags": []
          }
        },
        {
          "output_type": "display_data",
          "data": {
            "text/html": [
              "<pre>Read 1552 images in 1436.79 secs\tspeed: 1.03786 file/sec</pre>"
            ],
            "text/plain": [
              "Read 1552 images in 1436.79 secs\tspeed: 1.03786 file/sec"
            ]
          },
          "metadata": {
            "tags": []
          }
        },
        {
          "output_type": "display_data",
          "data": {
            "text/html": [
              "<pre>Read 1559 images in 1442.35 secs\tspeed: 1.25926 file/sec</pre>"
            ],
            "text/plain": [
              "Read 1559 images in 1442.35 secs\tspeed: 1.25926 file/sec"
            ]
          },
          "metadata": {
            "tags": []
          }
        },
        {
          "output_type": "display_data",
          "data": {
            "text/html": [
              "<pre>Read 1566 images in 1448.04 secs\tspeed: 1.23035 file/sec</pre>"
            ],
            "text/plain": [
              "Read 1566 images in 1448.04 secs\tspeed: 1.23035 file/sec"
            ]
          },
          "metadata": {
            "tags": []
          }
        },
        {
          "output_type": "display_data",
          "data": {
            "text/html": [
              "<pre>Read 1572 images in 1453.6 secs\tspeed: 1.07865 file/sec</pre>"
            ],
            "text/plain": [
              "Read 1572 images in 1453.6 secs\tspeed: 1.07865 file/sec"
            ]
          },
          "metadata": {
            "tags": []
          }
        },
        {
          "output_type": "display_data",
          "data": {
            "text/html": [
              "<pre>Read 1578 images in 1459.75 secs\tspeed: 0.976591 file/sec</pre>"
            ],
            "text/plain": [
              "Read 1578 images in 1459.75 secs\tspeed: 0.976591 file/sec"
            ]
          },
          "metadata": {
            "tags": []
          }
        },
        {
          "output_type": "display_data",
          "data": {
            "text/html": [
              "<pre>Read 1584 images in 1465.17 secs\tspeed: 1.10602 file/sec</pre>"
            ],
            "text/plain": [
              "Read 1584 images in 1465.17 secs\tspeed: 1.10602 file/sec"
            ]
          },
          "metadata": {
            "tags": []
          }
        },
        {
          "output_type": "display_data",
          "data": {
            "text/html": [
              "<pre>Read 1589 images in 1470.2 secs\tspeed: 0.995284 file/sec</pre>"
            ],
            "text/plain": [
              "Read 1589 images in 1470.2 secs\tspeed: 0.995284 file/sec"
            ]
          },
          "metadata": {
            "tags": []
          }
        },
        {
          "output_type": "display_data",
          "data": {
            "text/html": [
              "<pre>Read 1595 images in 1475.7 secs\tspeed: 1.09006 file/sec</pre>"
            ],
            "text/plain": [
              "Read 1595 images in 1475.7 secs\tspeed: 1.09006 file/sec"
            ]
          },
          "metadata": {
            "tags": []
          }
        },
        {
          "output_type": "display_data",
          "data": {
            "text/html": [
              "<pre>Read 1600 images in 1480.86 secs\tspeed: 0.96837 file/sec</pre>"
            ],
            "text/plain": [
              "Read 1600 images in 1480.86 secs\tspeed: 0.96837 file/sec"
            ]
          },
          "metadata": {
            "tags": []
          }
        },
        {
          "output_type": "display_data",
          "data": {
            "text/html": [
              "<pre>Read 1606 images in 1485.91 secs\tspeed: 1.18827 file/sec</pre>"
            ],
            "text/plain": [
              "Read 1606 images in 1485.91 secs\tspeed: 1.18827 file/sec"
            ]
          },
          "metadata": {
            "tags": []
          }
        },
        {
          "output_type": "display_data",
          "data": {
            "text/html": [
              "<pre>Read 1611 images in 1490.97 secs\tspeed: 0.989403 file/sec</pre>"
            ],
            "text/plain": [
              "Read 1611 images in 1490.97 secs\tspeed: 0.989403 file/sec"
            ]
          },
          "metadata": {
            "tags": []
          }
        },
        {
          "output_type": "display_data",
          "data": {
            "text/html": [
              "<pre>Read 1616 images in 1496.68 secs\tspeed: 0.875646 file/sec</pre>"
            ],
            "text/plain": [
              "Read 1616 images in 1496.68 secs\tspeed: 0.875646 file/sec"
            ]
          },
          "metadata": {
            "tags": []
          }
        },
        {
          "output_type": "display_data",
          "data": {
            "text/html": [
              "<pre>Read 1621 images in 1502.69 secs\tspeed: 0.830834 file/sec</pre>"
            ],
            "text/plain": [
              "Read 1621 images in 1502.69 secs\tspeed: 0.830834 file/sec"
            ]
          },
          "metadata": {
            "tags": []
          }
        },
        {
          "output_type": "display_data",
          "data": {
            "text/html": [
              "<pre>Read 1627 images in 1507.75 secs\tspeed: 1.18615 file/sec</pre>"
            ],
            "text/plain": [
              "Read 1627 images in 1507.75 secs\tspeed: 1.18615 file/sec"
            ]
          },
          "metadata": {
            "tags": []
          }
        },
        {
          "output_type": "display_data",
          "data": {
            "text/html": [
              "<pre>Read 1634 images in 1513.42 secs\tspeed: 1.23474 file/sec</pre>"
            ],
            "text/plain": [
              "Read 1634 images in 1513.42 secs\tspeed: 1.23474 file/sec"
            ]
          },
          "metadata": {
            "tags": []
          }
        },
        {
          "output_type": "display_data",
          "data": {
            "text/html": [
              "<pre>Read 1640 images in 1519.02 secs\tspeed: 1.07098 file/sec</pre>"
            ],
            "text/plain": [
              "Read 1640 images in 1519.02 secs\tspeed: 1.07098 file/sec"
            ]
          },
          "metadata": {
            "tags": []
          }
        },
        {
          "output_type": "display_data",
          "data": {
            "text/html": [
              "<pre>Read 1646 images in 1524.22 secs\tspeed: 1.15521 file/sec</pre>"
            ],
            "text/plain": [
              "Read 1646 images in 1524.22 secs\tspeed: 1.15521 file/sec"
            ]
          },
          "metadata": {
            "tags": []
          }
        },
        {
          "output_type": "display_data",
          "data": {
            "text/html": [
              "<pre>Read 1650 images in 1529.56 secs\tspeed: 0.74898 file/sec</pre>"
            ],
            "text/plain": [
              "Read 1650 images in 1529.56 secs\tspeed: 0.74898 file/sec"
            ]
          },
          "metadata": {
            "tags": []
          }
        },
        {
          "output_type": "display_data",
          "data": {
            "text/html": [
              "<pre>Read 1656 images in 1535.16 secs\tspeed: 1.07138 file/sec</pre>"
            ],
            "text/plain": [
              "Read 1656 images in 1535.16 secs\tspeed: 1.07138 file/sec"
            ]
          },
          "metadata": {
            "tags": []
          }
        },
        {
          "output_type": "display_data",
          "data": {
            "text/html": [
              "<pre>Read 1661 images in 1540.79 secs\tspeed: 0.887874 file/sec</pre>"
            ],
            "text/plain": [
              "Read 1661 images in 1540.79 secs\tspeed: 0.887874 file/sec"
            ]
          },
          "metadata": {
            "tags": []
          }
        },
        {
          "output_type": "display_data",
          "data": {
            "text/html": [
              "<pre>Read 1666 images in 1546.25 secs\tspeed: 0.916223 file/sec</pre>"
            ],
            "text/plain": [
              "Read 1666 images in 1546.25 secs\tspeed: 0.916223 file/sec"
            ]
          },
          "metadata": {
            "tags": []
          }
        },
        {
          "output_type": "display_data",
          "data": {
            "text/html": [
              "<pre>Read 1672 images in 1552.15 secs\tspeed: 1.01571 file/sec</pre>"
            ],
            "text/plain": [
              "Read 1672 images in 1552.15 secs\tspeed: 1.01571 file/sec"
            ]
          },
          "metadata": {
            "tags": []
          }
        },
        {
          "output_type": "display_data",
          "data": {
            "text/html": [
              "<pre>Read 1675 images in 1557.24 secs\tspeed: 0.589714 file/sec</pre>"
            ],
            "text/plain": [
              "Read 1675 images in 1557.24 secs\tspeed: 0.589714 file/sec"
            ]
          },
          "metadata": {
            "tags": []
          }
        },
        {
          "output_type": "display_data",
          "data": {
            "text/html": [
              "<pre>Read 1679 images in 1564.43 secs\tspeed: 0.556602 file/sec</pre>"
            ],
            "text/plain": [
              "Read 1679 images in 1564.43 secs\tspeed: 0.556602 file/sec"
            ]
          },
          "metadata": {
            "tags": []
          }
        },
        {
          "output_type": "display_data",
          "data": {
            "text/html": [
              "<pre>Read 1684 images in 1569.64 secs\tspeed: 0.959925 file/sec</pre>"
            ],
            "text/plain": [
              "Read 1684 images in 1569.64 secs\tspeed: 0.959925 file/sec"
            ]
          },
          "metadata": {
            "tags": []
          }
        },
        {
          "output_type": "display_data",
          "data": {
            "text/html": [
              "<pre>Read 1689 images in 1574.71 secs\tspeed: 0.985154 file/sec</pre>"
            ],
            "text/plain": [
              "Read 1689 images in 1574.71 secs\tspeed: 0.985154 file/sec"
            ]
          },
          "metadata": {
            "tags": []
          }
        },
        {
          "output_type": "display_data",
          "data": {
            "text/html": [
              "<pre>Read 1696 images in 1580.41 secs\tspeed: 1.22831 file/sec</pre>"
            ],
            "text/plain": [
              "Read 1696 images in 1580.41 secs\tspeed: 1.22831 file/sec"
            ]
          },
          "metadata": {
            "tags": []
          }
        },
        {
          "output_type": "display_data",
          "data": {
            "text/html": [
              "<pre>Read 1701 images in 1585.67 secs\tspeed: 0.95093 file/sec</pre>"
            ],
            "text/plain": [
              "Read 1701 images in 1585.67 secs\tspeed: 0.95093 file/sec"
            ]
          },
          "metadata": {
            "tags": []
          }
        },
        {
          "output_type": "display_data",
          "data": {
            "text/html": [
              "<pre>Read 1708 images in 1591.45 secs\tspeed: 1.21019 file/sec</pre>"
            ],
            "text/plain": [
              "Read 1708 images in 1591.45 secs\tspeed: 1.21019 file/sec"
            ]
          },
          "metadata": {
            "tags": []
          }
        },
        {
          "output_type": "display_data",
          "data": {
            "text/html": [
              "<pre>Read 1715 images in 1596.97 secs\tspeed: 1.2678 file/sec</pre>"
            ],
            "text/plain": [
              "Read 1715 images in 1596.97 secs\tspeed: 1.2678 file/sec"
            ]
          },
          "metadata": {
            "tags": []
          }
        },
        {
          "output_type": "display_data",
          "data": {
            "text/html": [
              "<pre>Read 1721 images in 1602.46 secs\tspeed: 1.09366 file/sec</pre>"
            ],
            "text/plain": [
              "Read 1721 images in 1602.46 secs\tspeed: 1.09366 file/sec"
            ]
          },
          "metadata": {
            "tags": []
          }
        },
        {
          "output_type": "display_data",
          "data": {
            "text/html": [
              "<pre>Read 1727 images in 1607.98 secs\tspeed: 1.08705 file/sec</pre>"
            ],
            "text/plain": [
              "Read 1727 images in 1607.98 secs\tspeed: 1.08705 file/sec"
            ]
          },
          "metadata": {
            "tags": []
          }
        },
        {
          "output_type": "display_data",
          "data": {
            "text/html": [
              "<pre>Read 1733 images in 1613.34 secs\tspeed: 1.11905 file/sec</pre>"
            ],
            "text/plain": [
              "Read 1733 images in 1613.34 secs\tspeed: 1.11905 file/sec"
            ]
          },
          "metadata": {
            "tags": []
          }
        },
        {
          "output_type": "display_data",
          "data": {
            "text/html": [
              "<pre>Read 1739 images in 1618.51 secs\tspeed: 1.16187 file/sec</pre>"
            ],
            "text/plain": [
              "Read 1739 images in 1618.51 secs\tspeed: 1.16187 file/sec"
            ]
          },
          "metadata": {
            "tags": []
          }
        },
        {
          "output_type": "display_data",
          "data": {
            "text/html": [
              "<pre>Read 1745 images in 1623.81 secs\tspeed: 1.13033 file/sec</pre>"
            ],
            "text/plain": [
              "Read 1745 images in 1623.81 secs\tspeed: 1.13033 file/sec"
            ]
          },
          "metadata": {
            "tags": []
          }
        },
        {
          "output_type": "display_data",
          "data": {
            "text/html": [
              "<pre>Read 1752 images in 1629.28 secs\tspeed: 1.2815 file/sec</pre>"
            ],
            "text/plain": [
              "Read 1752 images in 1629.28 secs\tspeed: 1.2815 file/sec"
            ]
          },
          "metadata": {
            "tags": []
          }
        },
        {
          "output_type": "display_data",
          "data": {
            "text/html": [
              "<pre>Read 1758 images in 1634.38 secs\tspeed: 1.17679 file/sec</pre>"
            ],
            "text/plain": [
              "Read 1758 images in 1634.38 secs\tspeed: 1.17679 file/sec"
            ]
          },
          "metadata": {
            "tags": []
          }
        },
        {
          "output_type": "display_data",
          "data": {
            "text/html": [
              "<pre>Read 1764 images in 1639.75 secs\tspeed: 1.11704 file/sec</pre>"
            ],
            "text/plain": [
              "Read 1764 images in 1639.75 secs\tspeed: 1.11704 file/sec"
            ]
          },
          "metadata": {
            "tags": []
          }
        },
        {
          "output_type": "display_data",
          "data": {
            "text/html": [
              "<pre>Read 1770 images in 1645.53 secs\tspeed: 1.03697 file/sec</pre>"
            ],
            "text/plain": [
              "Read 1770 images in 1645.53 secs\tspeed: 1.03697 file/sec"
            ]
          },
          "metadata": {
            "tags": []
          }
        },
        {
          "output_type": "display_data",
          "data": {
            "text/html": [
              "<pre>Read 1774 images in 1651.24 secs\tspeed: 0.701187 file/sec</pre>"
            ],
            "text/plain": [
              "Read 1774 images in 1651.24 secs\tspeed: 0.701187 file/sec"
            ]
          },
          "metadata": {
            "tags": []
          }
        },
        {
          "output_type": "display_data",
          "data": {
            "text/html": [
              "<pre>Read 1781 images in 1656.94 secs\tspeed: 1.22834 file/sec</pre>"
            ],
            "text/plain": [
              "Read 1781 images in 1656.94 secs\tspeed: 1.22834 file/sec"
            ]
          },
          "metadata": {
            "tags": []
          }
        },
        {
          "output_type": "display_data",
          "data": {
            "text/html": [
              "<pre>Read 1788 images in 1662.44 secs\tspeed: 1.27116 file/sec</pre>"
            ],
            "text/plain": [
              "Read 1788 images in 1662.44 secs\tspeed: 1.27116 file/sec"
            ]
          },
          "metadata": {
            "tags": []
          }
        },
        {
          "output_type": "display_data",
          "data": {
            "text/html": [
              "<pre>Read 1795 images in 1668.31 secs\tspeed: 1.19276 file/sec</pre>"
            ],
            "text/plain": [
              "Read 1795 images in 1668.31 secs\tspeed: 1.19276 file/sec"
            ]
          },
          "metadata": {
            "tags": []
          }
        },
        {
          "output_type": "display_data",
          "data": {
            "text/html": [
              "<pre>Read 1801 images in 1673.6 secs\tspeed: 1.13494 file/sec</pre>"
            ],
            "text/plain": [
              "Read 1801 images in 1673.6 secs\tspeed: 1.13494 file/sec"
            ]
          },
          "metadata": {
            "tags": []
          }
        },
        {
          "output_type": "display_data",
          "data": {
            "text/html": [
              "<pre>Read 1807 images in 1678.97 secs\tspeed: 1.11691 file/sec</pre>"
            ],
            "text/plain": [
              "Read 1807 images in 1678.97 secs\tspeed: 1.11691 file/sec"
            ]
          },
          "metadata": {
            "tags": []
          }
        },
        {
          "output_type": "display_data",
          "data": {
            "text/html": [
              "<pre>Read 1814 images in 1684.55 secs\tspeed: 1.25495 file/sec</pre>"
            ],
            "text/plain": [
              "Read 1814 images in 1684.55 secs\tspeed: 1.25495 file/sec"
            ]
          },
          "metadata": {
            "tags": []
          }
        },
        {
          "output_type": "display_data",
          "data": {
            "text/html": [
              "<pre>Read 1821 images in 1690.06 secs\tspeed: 1.27057 file/sec</pre>"
            ],
            "text/plain": [
              "Read 1821 images in 1690.06 secs\tspeed: 1.27057 file/sec"
            ]
          },
          "metadata": {
            "tags": []
          }
        },
        {
          "output_type": "display_data",
          "data": {
            "text/html": [
              "<pre>Read 1827 images in 1695.12 secs\tspeed: 1.18487 file/sec</pre>"
            ],
            "text/plain": [
              "Read 1827 images in 1695.12 secs\tspeed: 1.18487 file/sec"
            ]
          },
          "metadata": {
            "tags": []
          }
        },
        {
          "output_type": "display_data",
          "data": {
            "text/html": [
              "<pre>Read 1834 images in 1700.56 secs\tspeed: 1.28679 file/sec</pre>"
            ],
            "text/plain": [
              "Read 1834 images in 1700.56 secs\tspeed: 1.28679 file/sec"
            ]
          },
          "metadata": {
            "tags": []
          }
        },
        {
          "output_type": "display_data",
          "data": {
            "text/html": [
              "<pre>Read 1840 images in 1706.28 secs\tspeed: 1.04998 file/sec</pre>"
            ],
            "text/plain": [
              "Read 1840 images in 1706.28 secs\tspeed: 1.04998 file/sec"
            ]
          },
          "metadata": {
            "tags": []
          }
        },
        {
          "output_type": "display_data",
          "data": {
            "text/html": [
              "<pre>Read 1846 images in 1711.48 secs\tspeed: 1.15273 file/sec</pre>"
            ],
            "text/plain": [
              "Read 1846 images in 1711.48 secs\tspeed: 1.15273 file/sec"
            ]
          },
          "metadata": {
            "tags": []
          }
        },
        {
          "output_type": "display_data",
          "data": {
            "text/html": [
              "<pre>Read 1853 images in 1717.39 secs\tspeed: 1.18433 file/sec</pre>"
            ],
            "text/plain": [
              "Read 1853 images in 1717.39 secs\tspeed: 1.18433 file/sec"
            ]
          },
          "metadata": {
            "tags": []
          }
        },
        {
          "output_type": "display_data",
          "data": {
            "text/html": [
              "<pre>Read 1859 images in 1722.54 secs\tspeed: 1.16549 file/sec</pre>"
            ],
            "text/plain": [
              "Read 1859 images in 1722.54 secs\tspeed: 1.16549 file/sec"
            ]
          },
          "metadata": {
            "tags": []
          }
        },
        {
          "output_type": "display_data",
          "data": {
            "text/html": [
              "<pre>Read 1866 images in 1728.33 secs\tspeed: 1.20799 file/sec</pre>"
            ],
            "text/plain": [
              "Read 1866 images in 1728.33 secs\tspeed: 1.20799 file/sec"
            ]
          },
          "metadata": {
            "tags": []
          }
        },
        {
          "output_type": "display_data",
          "data": {
            "text/html": [
              "<pre>Read 1873 images in 1733.76 secs\tspeed: 1.29104 file/sec</pre>"
            ],
            "text/plain": [
              "Read 1873 images in 1733.76 secs\tspeed: 1.29104 file/sec"
            ]
          },
          "metadata": {
            "tags": []
          }
        },
        {
          "output_type": "display_data",
          "data": {
            "text/html": [
              "<pre>Read 1880 images in 1739.48 secs\tspeed: 1.22269 file/sec</pre>"
            ],
            "text/plain": [
              "Read 1880 images in 1739.48 secs\tspeed: 1.22269 file/sec"
            ]
          },
          "metadata": {
            "tags": []
          }
        },
        {
          "output_type": "display_data",
          "data": {
            "text/html": [
              "<pre>Read 1887 images in 1745.09 secs\tspeed: 1.24884 file/sec</pre>"
            ],
            "text/plain": [
              "Read 1887 images in 1745.09 secs\tspeed: 1.24884 file/sec"
            ]
          },
          "metadata": {
            "tags": []
          }
        },
        {
          "output_type": "display_data",
          "data": {
            "text/html": [
              "<pre>Read 1894 images in 1751.31 secs\tspeed: 1.12523 file/sec</pre>"
            ],
            "text/plain": [
              "Read 1894 images in 1751.31 secs\tspeed: 1.12523 file/sec"
            ]
          },
          "metadata": {
            "tags": []
          }
        },
        {
          "output_type": "display_data",
          "data": {
            "text/html": [
              "<pre>Read 1901 images in 1756.72 secs\tspeed: 1.29306 file/sec</pre>"
            ],
            "text/plain": [
              "Read 1901 images in 1756.72 secs\tspeed: 1.29306 file/sec"
            ]
          },
          "metadata": {
            "tags": []
          }
        },
        {
          "output_type": "display_data",
          "data": {
            "text/html": [
              "<pre>Read 1908 images in 1762.57 secs\tspeed: 1.19734 file/sec</pre>"
            ],
            "text/plain": [
              "Read 1908 images in 1762.57 secs\tspeed: 1.19734 file/sec"
            ]
          },
          "metadata": {
            "tags": []
          }
        },
        {
          "output_type": "display_data",
          "data": {
            "text/html": [
              "<pre>Read 1914 images in 1767.62 secs\tspeed: 1.188 file/sec</pre>"
            ],
            "text/plain": [
              "Read 1914 images in 1767.62 secs\tspeed: 1.188 file/sec"
            ]
          },
          "metadata": {
            "tags": []
          }
        },
        {
          "output_type": "display_data",
          "data": {
            "text/html": [
              "<pre>Read 1921 images in 1773.06 secs\tspeed: 1.28512 file/sec</pre>"
            ],
            "text/plain": [
              "Read 1921 images in 1773.06 secs\tspeed: 1.28512 file/sec"
            ]
          },
          "metadata": {
            "tags": []
          }
        },
        {
          "output_type": "display_data",
          "data": {
            "text/html": [
              "<pre>Read 1928 images in 1778.63 secs\tspeed: 1.25822 file/sec</pre>"
            ],
            "text/plain": [
              "Read 1928 images in 1778.63 secs\tspeed: 1.25822 file/sec"
            ]
          },
          "metadata": {
            "tags": []
          }
        },
        {
          "output_type": "display_data",
          "data": {
            "text/html": [
              "<pre>Read 1935 images in 1784.26 secs\tspeed: 1.24341 file/sec</pre>"
            ],
            "text/plain": [
              "Read 1935 images in 1784.26 secs\tspeed: 1.24341 file/sec"
            ]
          },
          "metadata": {
            "tags": []
          }
        },
        {
          "output_type": "display_data",
          "data": {
            "text/html": [
              "<pre>Read 1941 images in 1789.46 secs\tspeed: 1.15279 file/sec</pre>"
            ],
            "text/plain": [
              "Read 1941 images in 1789.46 secs\tspeed: 1.15279 file/sec"
            ]
          },
          "metadata": {
            "tags": []
          }
        },
        {
          "output_type": "display_data",
          "data": {
            "text/html": [
              "<pre>Read 1943 images in 1796.21 secs\tspeed: 0.296381 file/sec</pre>"
            ],
            "text/plain": [
              "Read 1943 images in 1796.21 secs\tspeed: 0.296381 file/sec"
            ]
          },
          "metadata": {
            "tags": []
          }
        },
        {
          "output_type": "display_data",
          "data": {
            "text/html": [
              "<pre>Read 1949 images in 1801.56 secs\tspeed: 1.12138 file/sec</pre>"
            ],
            "text/plain": [
              "Read 1949 images in 1801.56 secs\tspeed: 1.12138 file/sec"
            ]
          },
          "metadata": {
            "tags": []
          }
        },
        {
          "output_type": "display_data",
          "data": {
            "text/html": [
              "<pre>Read 1955 images in 1806.94 secs\tspeed: 1.11458 file/sec</pre>"
            ],
            "text/plain": [
              "Read 1955 images in 1806.94 secs\tspeed: 1.11458 file/sec"
            ]
          },
          "metadata": {
            "tags": []
          }
        },
        {
          "output_type": "display_data",
          "data": {
            "text/html": [
              "<pre>Read 1962 images in 1812.94 secs\tspeed: 1.16744 file/sec</pre>"
            ],
            "text/plain": [
              "Read 1962 images in 1812.94 secs\tspeed: 1.16744 file/sec"
            ]
          },
          "metadata": {
            "tags": []
          }
        },
        {
          "output_type": "display_data",
          "data": {
            "text/html": [
              "<pre>Read 1969 images in 1818.57 secs\tspeed: 1.24347 file/sec</pre>"
            ],
            "text/plain": [
              "Read 1969 images in 1818.57 secs\tspeed: 1.24347 file/sec"
            ]
          },
          "metadata": {
            "tags": []
          }
        },
        {
          "output_type": "display_data",
          "data": {
            "text/html": [
              "<pre>Read 1976 images in 1824.1 secs\tspeed: 1.26578 file/sec</pre>"
            ],
            "text/plain": [
              "Read 1976 images in 1824.1 secs\tspeed: 1.26578 file/sec"
            ]
          },
          "metadata": {
            "tags": []
          }
        },
        {
          "output_type": "display_data",
          "data": {
            "text/html": [
              "<pre>Read 1982 images in 1829.43 secs\tspeed: 1.12481 file/sec</pre>"
            ],
            "text/plain": [
              "Read 1982 images in 1829.43 secs\tspeed: 1.12481 file/sec"
            ]
          },
          "metadata": {
            "tags": []
          }
        },
        {
          "output_type": "display_data",
          "data": {
            "text/html": [
              "<pre>Read 1989 images in 1835.05 secs\tspeed: 1.24584 file/sec</pre>"
            ],
            "text/plain": [
              "Read 1989 images in 1835.05 secs\tspeed: 1.24584 file/sec"
            ]
          },
          "metadata": {
            "tags": []
          }
        },
        {
          "output_type": "display_data",
          "data": {
            "text/html": [
              "<pre>Read 1996 images in 1840.62 secs\tspeed: 1.25748 file/sec</pre>"
            ],
            "text/plain": [
              "Read 1996 images in 1840.62 secs\tspeed: 1.25748 file/sec"
            ]
          },
          "metadata": {
            "tags": []
          }
        },
        {
          "output_type": "display_data",
          "data": {
            "text/html": [
              "<pre>Read 2002 images in 1845.77 secs\tspeed: 1.16468 file/sec</pre>"
            ],
            "text/plain": [
              "Read 2002 images in 1845.77 secs\tspeed: 1.16468 file/sec"
            ]
          },
          "metadata": {
            "tags": []
          }
        },
        {
          "output_type": "display_data",
          "data": {
            "text/html": [
              "<pre>Read 2009 images in 1851.19 secs\tspeed: 1.29247 file/sec</pre>"
            ],
            "text/plain": [
              "Read 2009 images in 1851.19 secs\tspeed: 1.29247 file/sec"
            ]
          },
          "metadata": {
            "tags": []
          }
        },
        {
          "output_type": "display_data",
          "data": {
            "text/html": [
              "<pre>Read 2016 images in 1856.86 secs\tspeed: 1.23348 file/sec</pre>"
            ],
            "text/plain": [
              "Read 2016 images in 1856.86 secs\tspeed: 1.23348 file/sec"
            ]
          },
          "metadata": {
            "tags": []
          }
        },
        {
          "output_type": "display_data",
          "data": {
            "text/html": [
              "<pre>Read 2023 images in 1862.56 secs\tspeed: 1.22818 file/sec</pre>"
            ],
            "text/plain": [
              "Read 2023 images in 1862.56 secs\tspeed: 1.22818 file/sec"
            ]
          },
          "metadata": {
            "tags": []
          }
        },
        {
          "output_type": "display_data",
          "data": {
            "text/html": [
              "<pre>Read 2029 images in 1867.7 secs\tspeed: 1.16666 file/sec</pre>"
            ],
            "text/plain": [
              "Read 2029 images in 1867.7 secs\tspeed: 1.16666 file/sec"
            ]
          },
          "metadata": {
            "tags": []
          }
        },
        {
          "output_type": "display_data",
          "data": {
            "text/html": [
              "<pre>Read 2031 images in 1873.56 secs\tspeed: 0.34178 file/sec</pre>"
            ],
            "text/plain": [
              "Read 2031 images in 1873.56 secs\tspeed: 0.34178 file/sec"
            ]
          },
          "metadata": {
            "tags": []
          }
        },
        {
          "output_type": "display_data",
          "data": {
            "text/html": [
              "<pre>Read 2035 images in 1878.56 secs\tspeed: 0.798766 file/sec</pre>"
            ],
            "text/plain": [
              "Read 2035 images in 1878.56 secs\tspeed: 0.798766 file/sec"
            ]
          },
          "metadata": {
            "tags": []
          }
        },
        {
          "output_type": "display_data",
          "data": {
            "text/html": [
              "<pre>Read 2042 images in 1883.89 secs\tspeed: 1.31345 file/sec</pre>"
            ],
            "text/plain": [
              "Read 2042 images in 1883.89 secs\tspeed: 1.31345 file/sec"
            ]
          },
          "metadata": {
            "tags": []
          }
        },
        {
          "output_type": "display_data",
          "data": {
            "text/html": [
              "<pre>Read 2049 images in 1889.58 secs\tspeed: 1.23117 file/sec</pre>"
            ],
            "text/plain": [
              "Read 2049 images in 1889.58 secs\tspeed: 1.23117 file/sec"
            ]
          },
          "metadata": {
            "tags": []
          }
        },
        {
          "output_type": "display_data",
          "data": {
            "text/html": [
              "<pre>Read 2056 images in 1895.43 secs\tspeed: 1.19641 file/sec</pre>"
            ],
            "text/plain": [
              "Read 2056 images in 1895.43 secs\tspeed: 1.19641 file/sec"
            ]
          },
          "metadata": {
            "tags": []
          }
        },
        {
          "output_type": "display_data",
          "data": {
            "text/html": [
              "<pre>Read 2063 images in 1901.12 secs\tspeed: 1.23101 file/sec</pre>"
            ],
            "text/plain": [
              "Read 2063 images in 1901.12 secs\tspeed: 1.23101 file/sec"
            ]
          },
          "metadata": {
            "tags": []
          }
        },
        {
          "output_type": "display_data",
          "data": {
            "text/html": [
              "<pre>Read 2070 images in 1907.1 secs\tspeed: 1.17045 file/sec</pre>"
            ],
            "text/plain": [
              "Read 2070 images in 1907.1 secs\tspeed: 1.17045 file/sec"
            ]
          },
          "metadata": {
            "tags": []
          }
        },
        {
          "output_type": "display_data",
          "data": {
            "text/html": [
              "<pre>Read 2076 images in 1912.17 secs\tspeed: 1.18357 file/sec</pre>"
            ],
            "text/plain": [
              "Read 2076 images in 1912.17 secs\tspeed: 1.18357 file/sec"
            ]
          },
          "metadata": {
            "tags": []
          }
        },
        {
          "output_type": "display_data",
          "data": {
            "text/html": [
              "<pre>Read 2081 images in 1917.62 secs\tspeed: 0.916207 file/sec</pre>"
            ],
            "text/plain": [
              "Read 2081 images in 1917.62 secs\tspeed: 0.916207 file/sec"
            ]
          },
          "metadata": {
            "tags": []
          }
        },
        {
          "output_type": "display_data",
          "data": {
            "text/html": [
              "<pre>Read 2088 images in 1923.15 secs\tspeed: 1.26758 file/sec</pre>"
            ],
            "text/plain": [
              "Read 2088 images in 1923.15 secs\tspeed: 1.26758 file/sec"
            ]
          },
          "metadata": {
            "tags": []
          }
        },
        {
          "output_type": "display_data",
          "data": {
            "text/html": [
              "<pre>Read 2094 images in 1928.59 secs\tspeed: 1.10207 file/sec</pre>"
            ],
            "text/plain": [
              "Read 2094 images in 1928.59 secs\tspeed: 1.10207 file/sec"
            ]
          },
          "metadata": {
            "tags": []
          }
        },
        {
          "output_type": "display_data",
          "data": {
            "text/html": [
              "<pre>Read 2101 images in 1934.36 secs\tspeed: 1.21288 file/sec</pre>"
            ],
            "text/plain": [
              "Read 2101 images in 1934.36 secs\tspeed: 1.21288 file/sec"
            ]
          },
          "metadata": {
            "tags": []
          }
        },
        {
          "output_type": "display_data",
          "data": {
            "text/html": [
              "<pre>Read 2108 images in 1940.11 secs\tspeed: 1.21778 file/sec</pre>"
            ],
            "text/plain": [
              "Read 2108 images in 1940.11 secs\tspeed: 1.21778 file/sec"
            ]
          },
          "metadata": {
            "tags": []
          }
        },
        {
          "output_type": "display_data",
          "data": {
            "text/html": [
              "<pre>Read 2115 images in 1945.65 secs\tspeed: 1.26395 file/sec</pre>"
            ],
            "text/plain": [
              "Read 2115 images in 1945.65 secs\tspeed: 1.26395 file/sec"
            ]
          },
          "metadata": {
            "tags": []
          }
        },
        {
          "output_type": "display_data",
          "data": {
            "text/html": [
              "<pre>Read 2120 images in 1950.65 secs\tspeed: 0.998905 file/sec</pre>"
            ],
            "text/plain": [
              "Read 2120 images in 1950.65 secs\tspeed: 0.998905 file/sec"
            ]
          },
          "metadata": {
            "tags": []
          }
        },
        {
          "output_type": "display_data",
          "data": {
            "text/html": [
              "<pre>Read 2126 images in 1956.01 secs\tspeed: 1.12106 file/sec</pre>"
            ],
            "text/plain": [
              "Read 2126 images in 1956.01 secs\tspeed: 1.12106 file/sec"
            ]
          },
          "metadata": {
            "tags": []
          }
        },
        {
          "output_type": "display_data",
          "data": {
            "text/html": [
              "<pre>Read 2132 images in 1961.59 secs\tspeed: 1.07487 file/sec</pre>"
            ],
            "text/plain": [
              "Read 2132 images in 1961.59 secs\tspeed: 1.07487 file/sec"
            ]
          },
          "metadata": {
            "tags": []
          }
        },
        {
          "output_type": "display_data",
          "data": {
            "text/html": [
              "<pre>Read 2136 images in 1968.33 secs\tspeed: 0.593433 file/sec</pre>"
            ],
            "text/plain": [
              "Read 2136 images in 1968.33 secs\tspeed: 0.593433 file/sec"
            ]
          },
          "metadata": {
            "tags": []
          }
        },
        {
          "output_type": "display_data",
          "data": {
            "text/html": [
              "<pre>Read 2143 images in 1974.11 secs\tspeed: 1.2109 file/sec</pre>"
            ],
            "text/plain": [
              "Read 2143 images in 1974.11 secs\tspeed: 1.2109 file/sec"
            ]
          },
          "metadata": {
            "tags": []
          }
        },
        {
          "output_type": "display_data",
          "data": {
            "text/html": [
              "<pre>Read 2149 images in 1979.13 secs\tspeed: 1.19433 file/sec</pre>"
            ],
            "text/plain": [
              "Read 2149 images in 1979.13 secs\tspeed: 1.19433 file/sec"
            ]
          },
          "metadata": {
            "tags": []
          }
        },
        {
          "output_type": "display_data",
          "data": {
            "text/html": [
              "<pre>Read 2155 images in 1984.18 secs\tspeed: 1.18818 file/sec</pre>"
            ],
            "text/plain": [
              "Read 2155 images in 1984.18 secs\tspeed: 1.18818 file/sec"
            ]
          },
          "metadata": {
            "tags": []
          }
        },
        {
          "output_type": "display_data",
          "data": {
            "text/html": [
              "<pre>Read 2161 images in 1989.34 secs\tspeed: 1.16343 file/sec</pre>"
            ],
            "text/plain": [
              "Read 2161 images in 1989.34 secs\tspeed: 1.16343 file/sec"
            ]
          },
          "metadata": {
            "tags": []
          }
        },
        {
          "output_type": "display_data",
          "data": {
            "text/html": [
              "<pre>Read 2167 images in 1994.65 secs\tspeed: 1.13074 file/sec</pre>"
            ],
            "text/plain": [
              "Read 2167 images in 1994.65 secs\tspeed: 1.13074 file/sec"
            ]
          },
          "metadata": {
            "tags": []
          }
        },
        {
          "output_type": "display_data",
          "data": {
            "text/html": [
              "<pre>Read 2173 images in 2000.02 secs\tspeed: 1.11585 file/sec</pre>"
            ],
            "text/plain": [
              "Read 2173 images in 2000.02 secs\tspeed: 1.11585 file/sec"
            ]
          },
          "metadata": {
            "tags": []
          }
        },
        {
          "output_type": "display_data",
          "data": {
            "text/html": [
              "<pre>Read 2180 images in 2005.73 secs\tspeed: 1.2272 file/sec</pre>"
            ],
            "text/plain": [
              "Read 2180 images in 2005.73 secs\tspeed: 1.2272 file/sec"
            ]
          },
          "metadata": {
            "tags": []
          }
        },
        {
          "output_type": "display_data",
          "data": {
            "text/html": [
              "<pre>Read 2186 images in 2011.17 secs\tspeed: 1.10288 file/sec</pre>"
            ],
            "text/plain": [
              "Read 2186 images in 2011.17 secs\tspeed: 1.10288 file/sec"
            ]
          },
          "metadata": {
            "tags": []
          }
        },
        {
          "output_type": "display_data",
          "data": {
            "text/html": [
              "<pre>Read 2193 images in 2016.9 secs\tspeed: 1.22005 file/sec</pre>"
            ],
            "text/plain": [
              "Read 2193 images in 2016.9 secs\tspeed: 1.22005 file/sec"
            ]
          },
          "metadata": {
            "tags": []
          }
        },
        {
          "output_type": "display_data",
          "data": {
            "text/html": [
              "<pre>Read 2199 images in 2022.58 secs\tspeed: 1.05683 file/sec</pre>"
            ],
            "text/plain": [
              "Read 2199 images in 2022.58 secs\tspeed: 1.05683 file/sec"
            ]
          },
          "metadata": {
            "tags": []
          }
        },
        {
          "output_type": "display_data",
          "data": {
            "text/html": [
              "<pre>Read 2205 images in 2028.06 secs\tspeed: 1.09553 file/sec</pre>"
            ],
            "text/plain": [
              "Read 2205 images in 2028.06 secs\tspeed: 1.09553 file/sec"
            ]
          },
          "metadata": {
            "tags": []
          }
        },
        {
          "output_type": "display_data",
          "data": {
            "text/html": [
              "<pre>Read 2211 images in 2033.34 secs\tspeed: 1.13655 file/sec</pre>"
            ],
            "text/plain": [
              "Read 2211 images in 2033.34 secs\tspeed: 1.13655 file/sec"
            ]
          },
          "metadata": {
            "tags": []
          }
        },
        {
          "output_type": "display_data",
          "data": {
            "text/html": [
              "<pre>Read 2218 images in 2038.87 secs\tspeed: 1.26444 file/sec</pre>"
            ],
            "text/plain": [
              "Read 2218 images in 2038.87 secs\tspeed: 1.26444 file/sec"
            ]
          },
          "metadata": {
            "tags": []
          }
        },
        {
          "output_type": "display_data",
          "data": {
            "text/html": [
              "<pre>Read 2224 images in 2043.98 secs\tspeed: 1.17469 file/sec</pre>"
            ],
            "text/plain": [
              "Read 2224 images in 2043.98 secs\tspeed: 1.17469 file/sec"
            ]
          },
          "metadata": {
            "tags": []
          }
        },
        {
          "output_type": "display_data",
          "data": {
            "text/html": [
              "<pre>Read 2231 images in 2049.51 secs\tspeed: 1.26623 file/sec</pre>"
            ],
            "text/plain": [
              "Read 2231 images in 2049.51 secs\tspeed: 1.26623 file/sec"
            ]
          },
          "metadata": {
            "tags": []
          }
        },
        {
          "output_type": "display_data",
          "data": {
            "text/html": [
              "<pre>Read 2237 images in 2054.83 secs\tspeed: 1.1272 file/sec</pre>"
            ],
            "text/plain": [
              "Read 2237 images in 2054.83 secs\tspeed: 1.1272 file/sec"
            ]
          },
          "metadata": {
            "tags": []
          }
        },
        {
          "output_type": "display_data",
          "data": {
            "text/html": [
              "<pre>Read 2243 images in 2060.61 secs\tspeed: 1.03847 file/sec</pre>"
            ],
            "text/plain": [
              "Read 2243 images in 2060.61 secs\tspeed: 1.03847 file/sec"
            ]
          },
          "metadata": {
            "tags": []
          }
        },
        {
          "output_type": "display_data",
          "data": {
            "text/html": [
              "<pre>Read 2249 images in 2065.72 secs\tspeed: 1.17425 file/sec</pre>"
            ],
            "text/plain": [
              "Read 2249 images in 2065.72 secs\tspeed: 1.17425 file/sec"
            ]
          },
          "metadata": {
            "tags": []
          }
        },
        {
          "output_type": "display_data",
          "data": {
            "text/html": [
              "<pre>Read 2256 images in 2071.47 secs\tspeed: 1.21829 file/sec</pre>"
            ],
            "text/plain": [
              "Read 2256 images in 2071.47 secs\tspeed: 1.21829 file/sec"
            ]
          },
          "metadata": {
            "tags": []
          }
        },
        {
          "output_type": "display_data",
          "data": {
            "text/html": [
              "<pre>Read 2262 images in 2076.84 secs\tspeed: 1.11563 file/sec</pre>"
            ],
            "text/plain": [
              "Read 2262 images in 2076.84 secs\tspeed: 1.11563 file/sec"
            ]
          },
          "metadata": {
            "tags": []
          }
        },
        {
          "output_type": "display_data",
          "data": {
            "text/html": [
              "<pre>Read 2269 images in 2082.87 secs\tspeed: 1.16082 file/sec</pre>"
            ],
            "text/plain": [
              "Read 2269 images in 2082.87 secs\tspeed: 1.16082 file/sec"
            ]
          },
          "metadata": {
            "tags": []
          }
        },
        {
          "output_type": "display_data",
          "data": {
            "text/html": [
              "<pre>Read 2275 images in 2088.03 secs\tspeed: 1.16414 file/sec</pre>"
            ],
            "text/plain": [
              "Read 2275 images in 2088.03 secs\tspeed: 1.16414 file/sec"
            ]
          },
          "metadata": {
            "tags": []
          }
        },
        {
          "output_type": "display_data",
          "data": {
            "text/html": [
              "<pre>Read 2281 images in 2093.08 secs\tspeed: 1.1887 file/sec</pre>"
            ],
            "text/plain": [
              "Read 2281 images in 2093.08 secs\tspeed: 1.1887 file/sec"
            ]
          },
          "metadata": {
            "tags": []
          }
        },
        {
          "output_type": "display_data",
          "data": {
            "text/html": [
              "<pre>Read 2288 images in 2098.71 secs\tspeed: 1.2422 file/sec</pre>"
            ],
            "text/plain": [
              "Read 2288 images in 2098.71 secs\tspeed: 1.2422 file/sec"
            ]
          },
          "metadata": {
            "tags": []
          }
        },
        {
          "output_type": "display_data",
          "data": {
            "text/html": [
              "<pre>Read 2293 images in 2104.01 secs\tspeed: 0.94396 file/sec</pre>"
            ],
            "text/plain": [
              "Read 2293 images in 2104.01 secs\tspeed: 0.94396 file/sec"
            ]
          },
          "metadata": {
            "tags": []
          }
        },
        {
          "output_type": "display_data",
          "data": {
            "text/html": [
              "<pre>Read 2300 images in 2109.73 secs\tspeed: 1.22399 file/sec</pre>"
            ],
            "text/plain": [
              "Read 2300 images in 2109.73 secs\tspeed: 1.22399 file/sec"
            ]
          },
          "metadata": {
            "tags": []
          }
        },
        {
          "output_type": "display_data",
          "data": {
            "text/html": [
              "<pre>Read 2307 images in 2115.24 secs\tspeed: 1.27 file/sec</pre>"
            ],
            "text/plain": [
              "Read 2307 images in 2115.24 secs\tspeed: 1.27 file/sec"
            ]
          },
          "metadata": {
            "tags": []
          }
        },
        {
          "output_type": "display_data",
          "data": {
            "text/html": [
              "<pre>Read 2313 images in 2120.94 secs\tspeed: 1.0531 file/sec</pre>"
            ],
            "text/plain": [
              "Read 2313 images in 2120.94 secs\tspeed: 1.0531 file/sec"
            ]
          },
          "metadata": {
            "tags": []
          }
        },
        {
          "output_type": "display_data",
          "data": {
            "text/html": [
              "<pre>Read 2319 images in 2126.01 secs\tspeed: 1.18223 file/sec</pre>"
            ],
            "text/plain": [
              "Read 2319 images in 2126.01 secs\tspeed: 1.18223 file/sec"
            ]
          },
          "metadata": {
            "tags": []
          }
        },
        {
          "output_type": "display_data",
          "data": {
            "text/html": [
              "<pre>Read 2326 images in 2132.38 secs\tspeed: 1.0999 file/sec</pre>"
            ],
            "text/plain": [
              "Read 2326 images in 2132.38 secs\tspeed: 1.0999 file/sec"
            ]
          },
          "metadata": {
            "tags": []
          }
        },
        {
          "output_type": "display_data",
          "data": {
            "text/html": [
              "<pre>Read 2333 images in 2138.2 secs\tspeed: 1.20287 file/sec</pre>"
            ],
            "text/plain": [
              "Read 2333 images in 2138.2 secs\tspeed: 1.20287 file/sec"
            ]
          },
          "metadata": {
            "tags": []
          }
        },
        {
          "output_type": "display_data",
          "data": {
            "text/html": [
              "<pre>Read 2339 images in 2143.26 secs\tspeed: 1.18363 file/sec</pre>"
            ],
            "text/plain": [
              "Read 2339 images in 2143.26 secs\tspeed: 1.18363 file/sec"
            ]
          },
          "metadata": {
            "tags": []
          }
        },
        {
          "output_type": "display_data",
          "data": {
            "text/html": [
              "<pre>Read 2346 images in 2149 secs\tspeed: 1.22013 file/sec</pre>"
            ],
            "text/plain": [
              "Read 2346 images in 2149 secs\tspeed: 1.22013 file/sec"
            ]
          },
          "metadata": {
            "tags": []
          }
        },
        {
          "output_type": "display_data",
          "data": {
            "text/html": [
              "<pre>Read 2353 images in 2154.31 secs\tspeed: 1.31764 file/sec</pre>"
            ],
            "text/plain": [
              "Read 2353 images in 2154.31 secs\tspeed: 1.31764 file/sec"
            ]
          },
          "metadata": {
            "tags": []
          }
        },
        {
          "output_type": "display_data",
          "data": {
            "text/html": [
              "<pre>Read 2360 images in 2160.04 secs\tspeed: 1.22217 file/sec</pre>"
            ],
            "text/plain": [
              "Read 2360 images in 2160.04 secs\tspeed: 1.22217 file/sec"
            ]
          },
          "metadata": {
            "tags": []
          }
        },
        {
          "output_type": "display_data",
          "data": {
            "text/html": [
              "<pre>Read 2367 images in 2165.69 secs\tspeed: 1.23978 file/sec</pre>"
            ],
            "text/plain": [
              "Read 2367 images in 2165.69 secs\tspeed: 1.23978 file/sec"
            ]
          },
          "metadata": {
            "tags": []
          }
        },
        {
          "output_type": "display_data",
          "data": {
            "text/html": [
              "<pre>Read 2373 images in 2170.85 secs\tspeed: 1.16206 file/sec</pre>"
            ],
            "text/plain": [
              "Read 2373 images in 2170.85 secs\tspeed: 1.16206 file/sec"
            ]
          },
          "metadata": {
            "tags": []
          }
        },
        {
          "output_type": "display_data",
          "data": {
            "text/html": [
              "<pre>Read 2379 images in 2175.85 secs\tspeed: 1.19927 file/sec</pre>"
            ],
            "text/plain": [
              "Read 2379 images in 2175.85 secs\tspeed: 1.19927 file/sec"
            ]
          },
          "metadata": {
            "tags": []
          }
        },
        {
          "output_type": "display_data",
          "data": {
            "text/html": [
              "<pre>Read 2386 images in 2181.64 secs\tspeed: 1.20927 file/sec</pre>"
            ],
            "text/plain": [
              "Read 2386 images in 2181.64 secs\tspeed: 1.20927 file/sec"
            ]
          },
          "metadata": {
            "tags": []
          }
        },
        {
          "output_type": "display_data",
          "data": {
            "text/html": [
              "<pre>Read 2392 images in 2186.87 secs\tspeed: 1.14729 file/sec</pre>"
            ],
            "text/plain": [
              "Read 2392 images in 2186.87 secs\tspeed: 1.14729 file/sec"
            ]
          },
          "metadata": {
            "tags": []
          }
        },
        {
          "output_type": "display_data",
          "data": {
            "text/html": [
              "<pre>Read 2398 images in 2191.95 secs\tspeed: 1.18155 file/sec</pre>"
            ],
            "text/plain": [
              "Read 2398 images in 2191.95 secs\tspeed: 1.18155 file/sec"
            ]
          },
          "metadata": {
            "tags": []
          }
        },
        {
          "output_type": "display_data",
          "data": {
            "text/html": [
              "<pre>Read 2405 images in 2197.65 secs\tspeed: 1.22887 file/sec</pre>"
            ],
            "text/plain": [
              "Read 2405 images in 2197.65 secs\tspeed: 1.22887 file/sec"
            ]
          },
          "metadata": {
            "tags": []
          }
        },
        {
          "output_type": "display_data",
          "data": {
            "text/html": [
              "<pre>Read 2412 images in 2203.02 secs\tspeed: 1.30151 file/sec</pre>"
            ],
            "text/plain": [
              "Read 2412 images in 2203.02 secs\tspeed: 1.30151 file/sec"
            ]
          },
          "metadata": {
            "tags": []
          }
        },
        {
          "output_type": "display_data",
          "data": {
            "text/html": [
              "<pre>Read 2419 images in 2208.59 secs\tspeed: 1.25842 file/sec</pre>"
            ],
            "text/plain": [
              "Read 2419 images in 2208.59 secs\tspeed: 1.25842 file/sec"
            ]
          },
          "metadata": {
            "tags": []
          }
        },
        {
          "output_type": "display_data",
          "data": {
            "text/html": [
              "<pre>Read 2425 images in 2213.72 secs\tspeed: 1.16788 file/sec</pre>"
            ],
            "text/plain": [
              "Read 2425 images in 2213.72 secs\tspeed: 1.16788 file/sec"
            ]
          },
          "metadata": {
            "tags": []
          }
        },
        {
          "output_type": "display_data",
          "data": {
            "text/html": [
              "<pre>Read 2432 images in 2219.3 secs\tspeed: 1.25468 file/sec</pre>"
            ],
            "text/plain": [
              "Read 2432 images in 2219.3 secs\tspeed: 1.25468 file/sec"
            ]
          },
          "metadata": {
            "tags": []
          }
        },
        {
          "output_type": "display_data",
          "data": {
            "text/html": [
              "<pre>Read 2439 images in 2224.74 secs\tspeed: 1.28832 file/sec</pre>"
            ],
            "text/plain": [
              "Read 2439 images in 2224.74 secs\tspeed: 1.28832 file/sec"
            ]
          },
          "metadata": {
            "tags": []
          }
        },
        {
          "output_type": "display_data",
          "data": {
            "text/html": [
              "<pre>Read 2445 images in 2230.36 secs\tspeed: 1.06658 file/sec</pre>"
            ],
            "text/plain": [
              "Read 2445 images in 2230.36 secs\tspeed: 1.06658 file/sec"
            ]
          },
          "metadata": {
            "tags": []
          }
        },
        {
          "output_type": "display_data",
          "data": {
            "text/html": [
              "<pre>Read 2452 images in 2236.06 secs\tspeed: 1.22846 file/sec</pre>"
            ],
            "text/plain": [
              "Read 2452 images in 2236.06 secs\tspeed: 1.22846 file/sec"
            ]
          },
          "metadata": {
            "tags": []
          }
        },
        {
          "output_type": "display_data",
          "data": {
            "text/html": [
              "<pre>Read 2458 images in 2241.43 secs\tspeed: 1.11819 file/sec</pre>"
            ],
            "text/plain": [
              "Read 2458 images in 2241.43 secs\tspeed: 1.11819 file/sec"
            ]
          },
          "metadata": {
            "tags": []
          }
        },
        {
          "output_type": "display_data",
          "data": {
            "text/html": [
              "<pre>Read 2464 images in 2247.08 secs\tspeed: 1.0617 file/sec</pre>"
            ],
            "text/plain": [
              "Read 2464 images in 2247.08 secs\tspeed: 1.0617 file/sec"
            ]
          },
          "metadata": {
            "tags": []
          }
        },
        {
          "output_type": "display_data",
          "data": {
            "text/html": [
              "<pre>Read 2471 images in 2252.54 secs\tspeed: 1.28182 file/sec</pre>"
            ],
            "text/plain": [
              "Read 2471 images in 2252.54 secs\tspeed: 1.28182 file/sec"
            ]
          },
          "metadata": {
            "tags": []
          }
        },
        {
          "output_type": "display_data",
          "data": {
            "text/html": [
              "<pre>Read 2478 images in 2258.04 secs\tspeed: 1.27184 file/sec</pre>"
            ],
            "text/plain": [
              "Read 2478 images in 2258.04 secs\tspeed: 1.27184 file/sec"
            ]
          },
          "metadata": {
            "tags": []
          }
        },
        {
          "output_type": "display_data",
          "data": {
            "text/html": [
              "<pre>Read 2484 images in 2263.13 secs\tspeed: 1.17966 file/sec</pre>"
            ],
            "text/plain": [
              "Read 2484 images in 2263.13 secs\tspeed: 1.17966 file/sec"
            ]
          },
          "metadata": {
            "tags": []
          }
        },
        {
          "output_type": "display_data",
          "data": {
            "text/html": [
              "<pre>Read 2491 images in 2268.5 secs\tspeed: 1.30333 file/sec</pre>"
            ],
            "text/plain": [
              "Read 2491 images in 2268.5 secs\tspeed: 1.30333 file/sec"
            ]
          },
          "metadata": {
            "tags": []
          }
        },
        {
          "output_type": "display_data",
          "data": {
            "text/html": [
              "<pre>Read 2497 images in 2273.82 secs\tspeed: 1.12797 file/sec</pre>"
            ],
            "text/plain": [
              "Read 2497 images in 2273.82 secs\tspeed: 1.12797 file/sec"
            ]
          },
          "metadata": {
            "tags": []
          }
        },
        {
          "output_type": "display_data",
          "data": {
            "text/html": [
              "<pre>Read 2503 images in 2278.88 secs\tspeed: 1.18607 file/sec</pre>"
            ],
            "text/plain": [
              "Read 2503 images in 2278.88 secs\tspeed: 1.18607 file/sec"
            ]
          },
          "metadata": {
            "tags": []
          }
        },
        {
          "output_type": "display_data",
          "data": {
            "text/html": [
              "<pre>Read 2510 images in 2284.59 secs\tspeed: 1.22501 file/sec</pre>"
            ],
            "text/plain": [
              "Read 2510 images in 2284.59 secs\tspeed: 1.22501 file/sec"
            ]
          },
          "metadata": {
            "tags": []
          }
        },
        {
          "output_type": "display_data",
          "data": {
            "text/html": [
              "<pre>Read 2517 images in 2290.24 secs\tspeed: 1.2402 file/sec</pre>"
            ],
            "text/plain": [
              "Read 2517 images in 2290.24 secs\tspeed: 1.2402 file/sec"
            ]
          },
          "metadata": {
            "tags": []
          }
        },
        {
          "output_type": "display_data",
          "data": {
            "text/html": [
              "<pre>Read 2524 images in 2295.82 secs\tspeed: 1.25423 file/sec</pre>"
            ],
            "text/plain": [
              "Read 2524 images in 2295.82 secs\tspeed: 1.25423 file/sec"
            ]
          },
          "metadata": {
            "tags": []
          }
        },
        {
          "output_type": "display_data",
          "data": {
            "text/html": [
              "<pre>Read 2531 images in 2301.46 secs\tspeed: 1.24127 file/sec</pre>"
            ],
            "text/plain": [
              "Read 2531 images in 2301.46 secs\tspeed: 1.24127 file/sec"
            ]
          },
          "metadata": {
            "tags": []
          }
        },
        {
          "output_type": "display_data",
          "data": {
            "text/html": [
              "<pre>Read 2538 images in 2307.25 secs\tspeed: 1.20901 file/sec</pre>"
            ],
            "text/plain": [
              "Read 2538 images in 2307.25 secs\tspeed: 1.20901 file/sec"
            ]
          },
          "metadata": {
            "tags": []
          }
        },
        {
          "output_type": "display_data",
          "data": {
            "text/html": [
              "<pre>Read 2545 images in 2312.78 secs\tspeed: 1.26411 file/sec</pre>"
            ],
            "text/plain": [
              "Read 2545 images in 2312.78 secs\tspeed: 1.26411 file/sec"
            ]
          },
          "metadata": {
            "tags": []
          }
        },
        {
          "output_type": "display_data",
          "data": {
            "text/html": [
              "<pre>Read 2552 images in 2318.5 secs\tspeed: 1.22436 file/sec</pre>"
            ],
            "text/plain": [
              "Read 2552 images in 2318.5 secs\tspeed: 1.22436 file/sec"
            ]
          },
          "metadata": {
            "tags": []
          }
        },
        {
          "output_type": "display_data",
          "data": {
            "text/html": [
              "<pre>Read 2557 images in 2324.08 secs\tspeed: 0.89677 file/sec</pre>"
            ],
            "text/plain": [
              "Read 2557 images in 2324.08 secs\tspeed: 0.89677 file/sec"
            ]
          },
          "metadata": {
            "tags": []
          }
        },
        {
          "output_type": "display_data",
          "data": {
            "text/html": [
              "<pre>Read 2563 images in 2329.41 secs\tspeed: 1.12486 file/sec</pre>"
            ],
            "text/plain": [
              "Read 2563 images in 2329.41 secs\tspeed: 1.12486 file/sec"
            ]
          },
          "metadata": {
            "tags": []
          }
        },
        {
          "output_type": "display_data",
          "data": {
            "text/html": [
              "<pre>Read 2570 images in 2335.04 secs\tspeed: 1.2428 file/sec</pre>"
            ],
            "text/plain": [
              "Read 2570 images in 2335.04 secs\tspeed: 1.2428 file/sec"
            ]
          },
          "metadata": {
            "tags": []
          }
        },
        {
          "output_type": "display_data",
          "data": {
            "text/html": [
              "<pre>Read 2577 images in 2340.57 secs\tspeed: 1.26576 file/sec</pre>"
            ],
            "text/plain": [
              "Read 2577 images in 2340.57 secs\tspeed: 1.26576 file/sec"
            ]
          },
          "metadata": {
            "tags": []
          }
        },
        {
          "output_type": "display_data",
          "data": {
            "text/html": [
              "<pre>Read 2584 images in 2346.21 secs\tspeed: 1.24166 file/sec</pre>"
            ],
            "text/plain": [
              "Read 2584 images in 2346.21 secs\tspeed: 1.24166 file/sec"
            ]
          },
          "metadata": {
            "tags": []
          }
        },
        {
          "output_type": "display_data",
          "data": {
            "text/html": [
              "<pre>Read 2591 images in 2351.72 secs\tspeed: 1.27059 file/sec</pre>"
            ],
            "text/plain": [
              "Read 2591 images in 2351.72 secs\tspeed: 1.27059 file/sec"
            ]
          },
          "metadata": {
            "tags": []
          }
        },
        {
          "output_type": "display_data",
          "data": {
            "text/html": [
              "<pre>Read 2598 images in 2357.92 secs\tspeed: 1.12926 file/sec</pre>"
            ],
            "text/plain": [
              "Read 2598 images in 2357.92 secs\tspeed: 1.12926 file/sec"
            ]
          },
          "metadata": {
            "tags": []
          }
        },
        {
          "output_type": "display_data",
          "data": {
            "text/html": [
              "<pre>Read 2605 images in 2363.66 secs\tspeed: 1.21903 file/sec</pre>"
            ],
            "text/plain": [
              "Read 2605 images in 2363.66 secs\tspeed: 1.21903 file/sec"
            ]
          },
          "metadata": {
            "tags": []
          }
        },
        {
          "output_type": "display_data",
          "data": {
            "text/html": [
              "<pre>Read 2612 images in 2369.17 secs\tspeed: 1.27103 file/sec</pre>"
            ],
            "text/plain": [
              "Read 2612 images in 2369.17 secs\tspeed: 1.27103 file/sec"
            ]
          },
          "metadata": {
            "tags": []
          }
        },
        {
          "output_type": "display_data",
          "data": {
            "text/html": [
              "<pre>Read 2619 images in 2374.63 secs\tspeed: 1.28237 file/sec</pre>"
            ],
            "text/plain": [
              "Read 2619 images in 2374.63 secs\tspeed: 1.28237 file/sec"
            ]
          },
          "metadata": {
            "tags": []
          }
        },
        {
          "output_type": "display_data",
          "data": {
            "text/html": [
              "<pre>Read 2626 images in 2380.19 secs\tspeed: 1.25914 file/sec</pre>"
            ],
            "text/plain": [
              "Read 2626 images in 2380.19 secs\tspeed: 1.25914 file/sec"
            ]
          },
          "metadata": {
            "tags": []
          }
        },
        {
          "output_type": "display_data",
          "data": {
            "text/html": [
              "<pre>Read 2631 images in 2385.41 secs\tspeed: 0.957295 file/sec</pre>"
            ],
            "text/plain": [
              "Read 2631 images in 2385.41 secs\tspeed: 0.957295 file/sec"
            ]
          },
          "metadata": {
            "tags": []
          }
        },
        {
          "output_type": "display_data",
          "data": {
            "text/html": [
              "<pre>Read 2638 images in 2390.95 secs\tspeed: 1.26369 file/sec</pre>"
            ],
            "text/plain": [
              "Read 2638 images in 2390.95 secs\tspeed: 1.26369 file/sec"
            ]
          },
          "metadata": {
            "tags": []
          }
        },
        {
          "output_type": "display_data",
          "data": {
            "text/html": [
              "<pre>Read 2644 images in 2396.8 secs\tspeed: 1.02501 file/sec</pre>"
            ],
            "text/plain": [
              "Read 2644 images in 2396.8 secs\tspeed: 1.02501 file/sec"
            ]
          },
          "metadata": {
            "tags": []
          }
        },
        {
          "output_type": "display_data",
          "data": {
            "text/html": [
              "<pre>Read 2650 images in 2402.26 secs\tspeed: 1.09978 file/sec</pre>"
            ],
            "text/plain": [
              "Read 2650 images in 2402.26 secs\tspeed: 1.09978 file/sec"
            ]
          },
          "metadata": {
            "tags": []
          }
        },
        {
          "output_type": "display_data",
          "data": {
            "text/html": [
              "<pre>Read 2656 images in 2407.49 secs\tspeed: 1.1472 file/sec</pre>"
            ],
            "text/plain": [
              "Read 2656 images in 2407.49 secs\tspeed: 1.1472 file/sec"
            ]
          },
          "metadata": {
            "tags": []
          }
        },
        {
          "output_type": "display_data",
          "data": {
            "text/html": [
              "<pre>Read 2663 images in 2413.18 secs\tspeed: 1.23104 file/sec</pre>"
            ],
            "text/plain": [
              "Read 2663 images in 2413.18 secs\tspeed: 1.23104 file/sec"
            ]
          },
          "metadata": {
            "tags": []
          }
        },
        {
          "output_type": "display_data",
          "data": {
            "text/html": [
              "<pre>Read 2670 images in 2418.67 secs\tspeed: 1.27427 file/sec</pre>"
            ],
            "text/plain": [
              "Read 2670 images in 2418.67 secs\tspeed: 1.27427 file/sec"
            ]
          },
          "metadata": {
            "tags": []
          }
        },
        {
          "output_type": "display_data",
          "data": {
            "text/html": [
              "<pre>Read 2677 images in 2424.51 secs\tspeed: 1.19907 file/sec</pre>"
            ],
            "text/plain": [
              "Read 2677 images in 2424.51 secs\tspeed: 1.19907 file/sec"
            ]
          },
          "metadata": {
            "tags": []
          }
        },
        {
          "output_type": "display_data",
          "data": {
            "text/html": [
              "<pre>Read 2684 images in 2430.1 secs\tspeed: 1.25099 file/sec</pre>"
            ],
            "text/plain": [
              "Read 2684 images in 2430.1 secs\tspeed: 1.25099 file/sec"
            ]
          },
          "metadata": {
            "tags": []
          }
        },
        {
          "output_type": "display_data",
          "data": {
            "text/html": [
              "<pre>Read 2691 images in 2435.77 secs\tspeed: 1.23506 file/sec</pre>"
            ],
            "text/plain": [
              "Read 2691 images in 2435.77 secs\tspeed: 1.23506 file/sec"
            ]
          },
          "metadata": {
            "tags": []
          }
        },
        {
          "output_type": "display_data",
          "data": {
            "text/html": [
              "<pre>Read 2697 images in 2440.8 secs\tspeed: 1.19363 file/sec</pre>"
            ],
            "text/plain": [
              "Read 2697 images in 2440.8 secs\tspeed: 1.19363 file/sec"
            ]
          },
          "metadata": {
            "tags": []
          }
        },
        {
          "output_type": "display_data",
          "data": {
            "text/html": [
              "<pre>Read 2703 images in 2445.89 secs\tspeed: 1.17703 file/sec</pre>"
            ],
            "text/plain": [
              "Read 2703 images in 2445.89 secs\tspeed: 1.17703 file/sec"
            ]
          },
          "metadata": {
            "tags": []
          }
        },
        {
          "output_type": "display_data",
          "data": {
            "text/html": [
              "<pre>Read 2709 images in 2453.19 secs\tspeed: 0.822069 file/sec</pre>"
            ],
            "text/plain": [
              "Read 2709 images in 2453.19 secs\tspeed: 0.822069 file/sec"
            ]
          },
          "metadata": {
            "tags": []
          }
        },
        {
          "output_type": "display_data",
          "data": {
            "text/html": [
              "<pre>Read 2715 images in 2458.61 secs\tspeed: 1.10686 file/sec</pre>"
            ],
            "text/plain": [
              "Read 2715 images in 2458.61 secs\tspeed: 1.10686 file/sec"
            ]
          },
          "metadata": {
            "tags": []
          }
        },
        {
          "output_type": "display_data",
          "data": {
            "text/html": [
              "<pre>Read 2722 images in 2464.38 secs\tspeed: 1.21294 file/sec</pre>"
            ],
            "text/plain": [
              "Read 2722 images in 2464.38 secs\tspeed: 1.21294 file/sec"
            ]
          },
          "metadata": {
            "tags": []
          }
        },
        {
          "output_type": "display_data",
          "data": {
            "text/html": [
              "<pre>Read 2729 images in 2469.76 secs\tspeed: 1.30211 file/sec</pre>"
            ],
            "text/plain": [
              "Read 2729 images in 2469.76 secs\tspeed: 1.30211 file/sec"
            ]
          },
          "metadata": {
            "tags": []
          }
        },
        {
          "output_type": "display_data",
          "data": {
            "text/html": [
              "<pre>Read 2735 images in 2474.9 secs\tspeed: 1.16848 file/sec</pre>"
            ],
            "text/plain": [
              "Read 2735 images in 2474.9 secs\tspeed: 1.16848 file/sec"
            ]
          },
          "metadata": {
            "tags": []
          }
        },
        {
          "output_type": "display_data",
          "data": {
            "text/html": [
              "<pre>Read 2742 images in 2480.52 secs\tspeed: 1.24505 file/sec</pre>"
            ],
            "text/plain": [
              "Read 2742 images in 2480.52 secs\tspeed: 1.24505 file/sec"
            ]
          },
          "metadata": {
            "tags": []
          }
        },
        {
          "output_type": "display_data",
          "data": {
            "text/html": [
              "<pre>Read 2748 images in 2485.61 secs\tspeed: 1.17709 file/sec</pre>"
            ],
            "text/plain": [
              "Read 2748 images in 2485.61 secs\tspeed: 1.17709 file/sec"
            ]
          },
          "metadata": {
            "tags": []
          }
        },
        {
          "output_type": "display_data",
          "data": {
            "text/html": [
              "<pre>Read 2754 images in 2491.16 secs\tspeed: 1.08274 file/sec</pre>"
            ],
            "text/plain": [
              "Read 2754 images in 2491.16 secs\tspeed: 1.08274 file/sec"
            ]
          },
          "metadata": {
            "tags": []
          }
        },
        {
          "output_type": "display_data",
          "data": {
            "text/html": [
              "<pre>Read 2760 images in 2496.24 secs\tspeed: 1.1794 file/sec</pre>"
            ],
            "text/plain": [
              "Read 2760 images in 2496.24 secs\tspeed: 1.1794 file/sec"
            ]
          },
          "metadata": {
            "tags": []
          }
        },
        {
          "output_type": "display_data",
          "data": {
            "text/html": [
              "<pre>Read 2767 images in 2501.7 secs\tspeed: 1.28282 file/sec</pre>"
            ],
            "text/plain": [
              "Read 2767 images in 2501.7 secs\tspeed: 1.28282 file/sec"
            ]
          },
          "metadata": {
            "tags": []
          }
        },
        {
          "output_type": "display_data",
          "data": {
            "text/html": [
              "<pre>Read 2772 images in 2507.47 secs\tspeed: 0.865918 file/sec</pre>"
            ],
            "text/plain": [
              "Read 2772 images in 2507.47 secs\tspeed: 0.865918 file/sec"
            ]
          },
          "metadata": {
            "tags": []
          }
        },
        {
          "output_type": "display_data",
          "data": {
            "text/html": [
              "<pre>Read 2779 images in 2513.2 secs\tspeed: 1.22219 file/sec</pre>"
            ],
            "text/plain": [
              "Read 2779 images in 2513.2 secs\tspeed: 1.22219 file/sec"
            ]
          },
          "metadata": {
            "tags": []
          }
        },
        {
          "output_type": "display_data",
          "data": {
            "text/html": [
              "<pre>Read 2786 images in 2518.82 secs\tspeed: 1.24582 file/sec</pre>"
            ],
            "text/plain": [
              "Read 2786 images in 2518.82 secs\tspeed: 1.24582 file/sec"
            ]
          },
          "metadata": {
            "tags": []
          }
        },
        {
          "output_type": "display_data",
          "data": {
            "text/html": [
              "<pre>Read 2792 images in 2523.91 secs\tspeed: 1.17822 file/sec</pre>"
            ],
            "text/plain": [
              "Read 2792 images in 2523.91 secs\tspeed: 1.17822 file/sec"
            ]
          },
          "metadata": {
            "tags": []
          }
        },
        {
          "output_type": "display_data",
          "data": {
            "text/html": [
              "<pre>Read 2797 images in 2529.56 secs\tspeed: 0.885787 file/sec</pre>"
            ],
            "text/plain": [
              "Read 2797 images in 2529.56 secs\tspeed: 0.885787 file/sec"
            ]
          },
          "metadata": {
            "tags": []
          }
        },
        {
          "output_type": "display_data",
          "data": {
            "text/html": [
              "<pre>Read 2802 images in 2534.92 secs\tspeed: 0.932712 file/sec</pre>"
            ],
            "text/plain": [
              "Read 2802 images in 2534.92 secs\tspeed: 0.932712 file/sec"
            ]
          },
          "metadata": {
            "tags": []
          }
        },
        {
          "output_type": "display_data",
          "data": {
            "text/html": [
              "<pre>Read 2809 images in 2540.44 secs\tspeed: 1.2686 file/sec</pre>"
            ],
            "text/plain": [
              "Read 2809 images in 2540.44 secs\tspeed: 1.2686 file/sec"
            ]
          },
          "metadata": {
            "tags": []
          }
        },
        {
          "output_type": "display_data",
          "data": {
            "text/html": [
              "<pre>Read 2815 images in 2546.12 secs\tspeed: 1.05566 file/sec</pre>"
            ],
            "text/plain": [
              "Read 2815 images in 2546.12 secs\tspeed: 1.05566 file/sec"
            ]
          },
          "metadata": {
            "tags": []
          }
        },
        {
          "output_type": "display_data",
          "data": {
            "text/html": [
              "<pre>Read 2821 images in 2551.16 secs\tspeed: 1.1911 file/sec</pre>"
            ],
            "text/plain": [
              "Read 2821 images in 2551.16 secs\tspeed: 1.1911 file/sec"
            ]
          },
          "metadata": {
            "tags": []
          }
        },
        {
          "output_type": "display_data",
          "data": {
            "text/html": [
              "<pre>Read 2827 images in 2556.48 secs\tspeed: 1.12727 file/sec</pre>"
            ],
            "text/plain": [
              "Read 2827 images in 2556.48 secs\tspeed: 1.12727 file/sec"
            ]
          },
          "metadata": {
            "tags": []
          }
        },
        {
          "output_type": "display_data",
          "data": {
            "text/html": [
              "<pre>Read 2834 images in 2562.19 secs\tspeed: 1.22694 file/sec</pre>"
            ],
            "text/plain": [
              "Read 2834 images in 2562.19 secs\tspeed: 1.22694 file/sec"
            ]
          },
          "metadata": {
            "tags": []
          }
        },
        {
          "output_type": "display_data",
          "data": {
            "text/html": [
              "<pre>Read 2841 images in 2567.68 secs\tspeed: 1.27477 file/sec</pre>"
            ],
            "text/plain": [
              "Read 2841 images in 2567.68 secs\tspeed: 1.27477 file/sec"
            ]
          },
          "metadata": {
            "tags": []
          }
        },
        {
          "output_type": "display_data",
          "data": {
            "text/html": [
              "<pre>Read 2847 images in 2572.78 secs\tspeed: 1.17483 file/sec</pre>"
            ],
            "text/plain": [
              "Read 2847 images in 2572.78 secs\tspeed: 1.17483 file/sec"
            ]
          },
          "metadata": {
            "tags": []
          }
        },
        {
          "output_type": "display_data",
          "data": {
            "text/html": [
              "<pre>Read 2853 images in 2577.9 secs\tspeed: 1.17278 file/sec</pre>"
            ],
            "text/plain": [
              "Read 2853 images in 2577.9 secs\tspeed: 1.17278 file/sec"
            ]
          },
          "metadata": {
            "tags": []
          }
        },
        {
          "output_type": "display_data",
          "data": {
            "text/html": [
              "<pre>Read 2859 images in 2582.96 secs\tspeed: 1.18517 file/sec</pre>"
            ],
            "text/plain": [
              "Read 2859 images in 2582.96 secs\tspeed: 1.18517 file/sec"
            ]
          },
          "metadata": {
            "tags": []
          }
        },
        {
          "output_type": "display_data",
          "data": {
            "text/html": [
              "<pre>Read 2865 images in 2588.43 secs\tspeed: 1.09759 file/sec</pre>"
            ],
            "text/plain": [
              "Read 2865 images in 2588.43 secs\tspeed: 1.09759 file/sec"
            ]
          },
          "metadata": {
            "tags": []
          }
        },
        {
          "output_type": "display_data",
          "data": {
            "text/html": [
              "<pre>Read 2872 images in 2594.04 secs\tspeed: 1.2485 file/sec</pre>"
            ],
            "text/plain": [
              "Read 2872 images in 2594.04 secs\tspeed: 1.2485 file/sec"
            ]
          },
          "metadata": {
            "tags": []
          }
        },
        {
          "output_type": "display_data",
          "data": {
            "text/html": [
              "<pre>Read 2878 images in 2599.65 secs\tspeed: 1.06896 file/sec</pre>"
            ],
            "text/plain": [
              "Read 2878 images in 2599.65 secs\tspeed: 1.06896 file/sec"
            ]
          },
          "metadata": {
            "tags": []
          }
        },
        {
          "output_type": "display_data",
          "data": {
            "text/html": [
              "<pre>Read 2885 images in 2605.12 secs\tspeed: 1.27962 file/sec</pre>"
            ],
            "text/plain": [
              "Read 2885 images in 2605.12 secs\tspeed: 1.27962 file/sec"
            ]
          },
          "metadata": {
            "tags": []
          }
        },
        {
          "output_type": "display_data",
          "data": {
            "text/html": [
              "<pre>Read 2891 images in 2610.28 secs\tspeed: 1.16256 file/sec</pre>"
            ],
            "text/plain": [
              "Read 2891 images in 2610.28 secs\tspeed: 1.16256 file/sec"
            ]
          },
          "metadata": {
            "tags": []
          }
        },
        {
          "output_type": "display_data",
          "data": {
            "text/html": [
              "<pre>Read 2898 images in 2615.85 secs\tspeed: 1.25647 file/sec</pre>"
            ],
            "text/plain": [
              "Read 2898 images in 2615.85 secs\tspeed: 1.25647 file/sec"
            ]
          },
          "metadata": {
            "tags": []
          }
        },
        {
          "output_type": "display_data",
          "data": {
            "text/html": [
              "<pre>Read 2905 images in 2621.4 secs\tspeed: 1.2623 file/sec</pre>"
            ],
            "text/plain": [
              "Read 2905 images in 2621.4 secs\tspeed: 1.2623 file/sec"
            ]
          },
          "metadata": {
            "tags": []
          }
        },
        {
          "output_type": "display_data",
          "data": {
            "text/html": [
              "<pre>Read 2912 images in 2626.91 secs\tspeed: 1.26946 file/sec</pre>"
            ],
            "text/plain": [
              "Read 2912 images in 2626.91 secs\tspeed: 1.26946 file/sec"
            ]
          },
          "metadata": {
            "tags": []
          }
        },
        {
          "output_type": "display_data",
          "data": {
            "text/html": [
              "<pre>Read 2919 images in 2632.83 secs\tspeed: 1.18322 file/sec</pre>"
            ],
            "text/plain": [
              "Read 2919 images in 2632.83 secs\tspeed: 1.18322 file/sec"
            ]
          },
          "metadata": {
            "tags": []
          }
        },
        {
          "output_type": "display_data",
          "data": {
            "text/html": [
              "<pre>Read 2926 images in 2638.34 secs\tspeed: 1.26955 file/sec</pre>"
            ],
            "text/plain": [
              "Read 2926 images in 2638.34 secs\tspeed: 1.26955 file/sec"
            ]
          },
          "metadata": {
            "tags": []
          }
        },
        {
          "output_type": "display_data",
          "data": {
            "text/html": [
              "<pre>Read 2933 images in 2644 secs\tspeed: 1.23792 file/sec</pre>"
            ],
            "text/plain": [
              "Read 2933 images in 2644 secs\tspeed: 1.23792 file/sec"
            ]
          },
          "metadata": {
            "tags": []
          }
        },
        {
          "output_type": "display_data",
          "data": {
            "text/html": [
              "<pre>Read 2940 images in 2649.73 secs\tspeed: 1.22098 file/sec</pre>"
            ],
            "text/plain": [
              "Read 2940 images in 2649.73 secs\tspeed: 1.22098 file/sec"
            ]
          },
          "metadata": {
            "tags": []
          }
        },
        {
          "output_type": "display_data",
          "data": {
            "text/html": [
              "<pre>Read 2947 images in 2655.33 secs\tspeed: 1.24944 file/sec</pre>"
            ],
            "text/plain": [
              "Read 2947 images in 2655.33 secs\tspeed: 1.24944 file/sec"
            ]
          },
          "metadata": {
            "tags": []
          }
        },
        {
          "output_type": "display_data",
          "data": {
            "text/html": [
              "<pre>Read 2953 images in 2660.4 secs\tspeed: 1.18279 file/sec</pre>"
            ],
            "text/plain": [
              "Read 2953 images in 2660.4 secs\tspeed: 1.18279 file/sec"
            ]
          },
          "metadata": {
            "tags": []
          }
        },
        {
          "output_type": "display_data",
          "data": {
            "text/html": [
              "<pre>Read 2960 images in 2666.09 secs\tspeed: 1.23103 file/sec</pre>"
            ],
            "text/plain": [
              "Read 2960 images in 2666.09 secs\tspeed: 1.23103 file/sec"
            ]
          },
          "metadata": {
            "tags": []
          }
        },
        {
          "output_type": "display_data",
          "data": {
            "text/html": [
              "<pre>Read 2965 images in 2671.39 secs\tspeed: 0.942972 file/sec</pre>"
            ],
            "text/plain": [
              "Read 2965 images in 2671.39 secs\tspeed: 0.942972 file/sec"
            ]
          },
          "metadata": {
            "tags": []
          }
        },
        {
          "output_type": "display_data",
          "data": {
            "text/html": [
              "<pre>Read 2972 images in 2677.13 secs\tspeed: 1.2195 file/sec</pre>"
            ],
            "text/plain": [
              "Read 2972 images in 2677.13 secs\tspeed: 1.2195 file/sec"
            ]
          },
          "metadata": {
            "tags": []
          }
        },
        {
          "output_type": "display_data",
          "data": {
            "text/html": [
              "<pre>Read 2979 images in 2683.49 secs\tspeed: 1.10134 file/sec</pre>"
            ],
            "text/plain": [
              "Read 2979 images in 2683.49 secs\tspeed: 1.10134 file/sec"
            ]
          },
          "metadata": {
            "tags": []
          }
        },
        {
          "output_type": "display_data",
          "data": {
            "text/html": [
              "<pre>Read 2985 images in 2688.6 secs\tspeed: 1.17423 file/sec</pre>"
            ],
            "text/plain": [
              "Read 2985 images in 2688.6 secs\tspeed: 1.17423 file/sec"
            ]
          },
          "metadata": {
            "tags": []
          }
        },
        {
          "output_type": "display_data",
          "data": {
            "text/html": [
              "<pre>Read 2992 images in 2694.3 secs\tspeed: 1.22769 file/sec</pre>"
            ],
            "text/plain": [
              "Read 2992 images in 2694.3 secs\tspeed: 1.22769 file/sec"
            ]
          },
          "metadata": {
            "tags": []
          }
        },
        {
          "output_type": "display_data",
          "data": {
            "text/html": [
              "<pre>Read 2998 images in 2699.52 secs\tspeed: 1.14847 file/sec</pre>"
            ],
            "text/plain": [
              "Read 2998 images in 2699.52 secs\tspeed: 1.14847 file/sec"
            ]
          },
          "metadata": {
            "tags": []
          }
        },
        {
          "output_type": "display_data",
          "data": {
            "text/html": [
              "<pre>Read 3005 images in 2705.01 secs\tspeed: 1.27652 file/sec</pre>"
            ],
            "text/plain": [
              "Read 3005 images in 2705.01 secs\tspeed: 1.27652 file/sec"
            ]
          },
          "metadata": {
            "tags": []
          }
        },
        {
          "output_type": "display_data",
          "data": {
            "text/html": [
              "<pre>Read 3012 images in 2713.04 secs\tspeed: 0.870951 file/sec</pre>"
            ],
            "text/plain": [
              "Read 3012 images in 2713.04 secs\tspeed: 0.870951 file/sec"
            ]
          },
          "metadata": {
            "tags": []
          }
        },
        {
          "output_type": "display_data",
          "data": {
            "text/html": [
              "<pre>Read 3017 images in 2719.31 secs\tspeed: 0.797611 file/sec</pre>"
            ],
            "text/plain": [
              "Read 3017 images in 2719.31 secs\tspeed: 0.797611 file/sec"
            ]
          },
          "metadata": {
            "tags": []
          }
        },
        {
          "output_type": "display_data",
          "data": {
            "text/html": [
              "<pre>Read 3024 images in 2725.13 secs\tspeed: 1.20437 file/sec</pre>"
            ],
            "text/plain": [
              "Read 3024 images in 2725.13 secs\tspeed: 1.20437 file/sec"
            ]
          },
          "metadata": {
            "tags": []
          }
        },
        {
          "output_type": "display_data",
          "data": {
            "text/html": [
              "<pre>Read 3031 images in 2730.7 secs\tspeed: 1.25605 file/sec</pre>"
            ],
            "text/plain": [
              "Read 3031 images in 2730.7 secs\tspeed: 1.25605 file/sec"
            ]
          },
          "metadata": {
            "tags": []
          }
        },
        {
          "output_type": "display_data",
          "data": {
            "text/html": [
              "<pre>Read 3038 images in 2736.18 secs\tspeed: 1.27781 file/sec</pre>"
            ],
            "text/plain": [
              "Read 3038 images in 2736.18 secs\tspeed: 1.27781 file/sec"
            ]
          },
          "metadata": {
            "tags": []
          }
        },
        {
          "output_type": "display_data",
          "data": {
            "text/html": [
              "<pre>Read 3045 images in 2741.79 secs\tspeed: 1.24705 file/sec</pre>"
            ],
            "text/plain": [
              "Read 3045 images in 2741.79 secs\tspeed: 1.24705 file/sec"
            ]
          },
          "metadata": {
            "tags": []
          }
        },
        {
          "output_type": "display_data",
          "data": {
            "text/html": [
              "<pre>Read 3051 images in 2747.37 secs\tspeed: 1.07555 file/sec</pre>"
            ],
            "text/plain": [
              "Read 3051 images in 2747.37 secs\tspeed: 1.07555 file/sec"
            ]
          },
          "metadata": {
            "tags": []
          }
        },
        {
          "output_type": "display_data",
          "data": {
            "text/html": [
              "<pre>Read 3058 images in 2752.8 secs\tspeed: 1.28815 file/sec</pre>"
            ],
            "text/plain": [
              "Read 3058 images in 2752.8 secs\tspeed: 1.28815 file/sec"
            ]
          },
          "metadata": {
            "tags": []
          }
        },
        {
          "output_type": "display_data",
          "data": {
            "text/html": [
              "<pre>Read 3065 images in 2758.55 secs\tspeed: 1.21716 file/sec</pre>"
            ],
            "text/plain": [
              "Read 3065 images in 2758.55 secs\tspeed: 1.21716 file/sec"
            ]
          },
          "metadata": {
            "tags": []
          }
        },
        {
          "output_type": "display_data",
          "data": {
            "text/html": [
              "<pre>Read 3071 images in 2764.12 secs\tspeed: 1.07807 file/sec</pre>"
            ],
            "text/plain": [
              "Read 3071 images in 2764.12 secs\tspeed: 1.07807 file/sec"
            ]
          },
          "metadata": {
            "tags": []
          }
        },
        {
          "output_type": "display_data",
          "data": {
            "text/html": [
              "<pre>Read 3076 images in 2769.66 secs\tspeed: 0.901827 file/sec</pre>"
            ],
            "text/plain": [
              "Read 3076 images in 2769.66 secs\tspeed: 0.901827 file/sec"
            ]
          },
          "metadata": {
            "tags": []
          }
        },
        {
          "output_type": "display_data",
          "data": {
            "text/html": [
              "<pre>Read 3083 images in 2775.17 secs\tspeed: 1.27115 file/sec</pre>"
            ],
            "text/plain": [
              "Read 3083 images in 2775.17 secs\tspeed: 1.27115 file/sec"
            ]
          },
          "metadata": {
            "tags": []
          }
        },
        {
          "output_type": "display_data",
          "data": {
            "text/html": [
              "<pre>Read 3089 images in 2780.21 secs\tspeed: 1.19032 file/sec</pre>"
            ],
            "text/plain": [
              "Read 3089 images in 2780.21 secs\tspeed: 1.19032 file/sec"
            ]
          },
          "metadata": {
            "tags": []
          }
        },
        {
          "output_type": "display_data",
          "data": {
            "text/html": [
              "<pre>Read 3096 images in 2785.9 secs\tspeed: 1.22988 file/sec</pre>"
            ],
            "text/plain": [
              "Read 3096 images in 2785.9 secs\tspeed: 1.22988 file/sec"
            ]
          },
          "metadata": {
            "tags": []
          }
        },
        {
          "output_type": "display_data",
          "data": {
            "text/html": [
              "<pre>Read 3103 images in 2791.6 secs\tspeed: 1.22967 file/sec</pre>"
            ],
            "text/plain": [
              "Read 3103 images in 2791.6 secs\tspeed: 1.22967 file/sec"
            ]
          },
          "metadata": {
            "tags": []
          }
        },
        {
          "output_type": "display_data",
          "data": {
            "text/html": [
              "<pre>Read 3109 images in 2798.69 secs\tspeed: 0.845779 file/sec</pre>"
            ],
            "text/plain": [
              "Read 3109 images in 2798.69 secs\tspeed: 0.845779 file/sec"
            ]
          },
          "metadata": {
            "tags": []
          }
        },
        {
          "output_type": "display_data",
          "data": {
            "text/html": [
              "<pre>Read 3114 images in 2803.7 secs\tspeed: 0.998606 file/sec</pre>"
            ],
            "text/plain": [
              "Read 3114 images in 2803.7 secs\tspeed: 0.998606 file/sec"
            ]
          },
          "metadata": {
            "tags": []
          }
        },
        {
          "output_type": "display_data",
          "data": {
            "text/html": [
              "<pre>Read 3121 images in 2809.2 secs\tspeed: 1.27166 file/sec</pre>"
            ],
            "text/plain": [
              "Read 3121 images in 2809.2 secs\tspeed: 1.27166 file/sec"
            ]
          },
          "metadata": {
            "tags": []
          }
        },
        {
          "output_type": "display_data",
          "data": {
            "text/html": [
              "<pre>Read 3128 images in 2814.86 secs\tspeed: 1.2363 file/sec</pre>"
            ],
            "text/plain": [
              "Read 3128 images in 2814.86 secs\tspeed: 1.2363 file/sec"
            ]
          },
          "metadata": {
            "tags": []
          }
        },
        {
          "output_type": "display_data",
          "data": {
            "text/html": [
              "<pre>Read 3135 images in 2820.26 secs\tspeed: 1.29758 file/sec</pre>"
            ],
            "text/plain": [
              "Read 3135 images in 2820.26 secs\tspeed: 1.29758 file/sec"
            ]
          },
          "metadata": {
            "tags": []
          }
        },
        {
          "output_type": "display_data",
          "data": {
            "text/html": [
              "<pre>Read 3142 images in 2825.94 secs\tspeed: 1.23153 file/sec</pre>"
            ],
            "text/plain": [
              "Read 3142 images in 2825.94 secs\tspeed: 1.23153 file/sec"
            ]
          },
          "metadata": {
            "tags": []
          }
        },
        {
          "output_type": "display_data",
          "data": {
            "text/html": [
              "<pre>Read 3149 images in 2831.55 secs\tspeed: 1.24914 file/sec</pre>"
            ],
            "text/plain": [
              "Read 3149 images in 2831.55 secs\tspeed: 1.24914 file/sec"
            ]
          },
          "metadata": {
            "tags": []
          }
        },
        {
          "output_type": "display_data",
          "data": {
            "text/html": [
              "<pre>Read 3152 images in 2836.85 secs\tspeed: 0.565427 file/sec</pre>"
            ],
            "text/plain": [
              "Read 3152 images in 2836.85 secs\tspeed: 0.565427 file/sec"
            ]
          },
          "metadata": {
            "tags": []
          }
        },
        {
          "output_type": "display_data",
          "data": {
            "text/html": [
              "<pre>Read 3159 images in 2842.43 secs\tspeed: 1.25546 file/sec</pre>"
            ],
            "text/plain": [
              "Read 3159 images in 2842.43 secs\tspeed: 1.25546 file/sec"
            ]
          },
          "metadata": {
            "tags": []
          }
        },
        {
          "output_type": "display_data",
          "data": {
            "text/html": [
              "<pre>Read 3166 images in 2847.89 secs\tspeed: 1.28134 file/sec</pre>"
            ],
            "text/plain": [
              "Read 3166 images in 2847.89 secs\tspeed: 1.28134 file/sec"
            ]
          },
          "metadata": {
            "tags": []
          }
        },
        {
          "output_type": "display_data",
          "data": {
            "text/html": [
              "<pre>Read 3173 images in 2853.67 secs\tspeed: 1.21088 file/sec</pre>"
            ],
            "text/plain": [
              "Read 3173 images in 2853.67 secs\tspeed: 1.21088 file/sec"
            ]
          },
          "metadata": {
            "tags": []
          }
        },
        {
          "output_type": "display_data",
          "data": {
            "text/html": [
              "<pre>Read 3179 images in 2859.39 secs\tspeed: 1.05002 file/sec</pre>"
            ],
            "text/plain": [
              "Read 3179 images in 2859.39 secs\tspeed: 1.05002 file/sec"
            ]
          },
          "metadata": {
            "tags": []
          }
        },
        {
          "output_type": "display_data",
          "data": {
            "text/html": [
              "<pre>Read 3186 images in 2864.86 secs\tspeed: 1.27863 file/sec</pre>"
            ],
            "text/plain": [
              "Read 3186 images in 2864.86 secs\tspeed: 1.27863 file/sec"
            ]
          },
          "metadata": {
            "tags": []
          }
        },
        {
          "output_type": "display_data",
          "data": {
            "text/html": [
              "<pre>Read 3193 images in 2870.57 secs\tspeed: 1.22623 file/sec</pre>"
            ],
            "text/plain": [
              "Read 3193 images in 2870.57 secs\tspeed: 1.22623 file/sec"
            ]
          },
          "metadata": {
            "tags": []
          }
        },
        {
          "output_type": "display_data",
          "data": {
            "text/html": [
              "<pre>Read 3200 images in 2876.06 secs\tspeed: 1.27573 file/sec</pre>"
            ],
            "text/plain": [
              "Read 3200 images in 2876.06 secs\tspeed: 1.27573 file/sec"
            ]
          },
          "metadata": {
            "tags": []
          }
        },
        {
          "output_type": "display_data",
          "data": {
            "text/html": [
              "<pre>Read 3206 images in 2881.16 secs\tspeed: 1.17648 file/sec</pre>"
            ],
            "text/plain": [
              "Read 3206 images in 2881.16 secs\tspeed: 1.17648 file/sec"
            ]
          },
          "metadata": {
            "tags": []
          }
        },
        {
          "output_type": "display_data",
          "data": {
            "text/html": [
              "<pre>Read 3212 images in 2886.28 secs\tspeed: 1.17155 file/sec</pre>"
            ],
            "text/plain": [
              "Read 3212 images in 2886.28 secs\tspeed: 1.17155 file/sec"
            ]
          },
          "metadata": {
            "tags": []
          }
        },
        {
          "output_type": "display_data",
          "data": {
            "text/html": [
              "<pre>Read 3218 images in 2891.7 secs\tspeed: 1.10707 file/sec</pre>"
            ],
            "text/plain": [
              "Read 3218 images in 2891.7 secs\tspeed: 1.10707 file/sec"
            ]
          },
          "metadata": {
            "tags": []
          }
        },
        {
          "output_type": "display_data",
          "data": {
            "text/html": [
              "<pre>Read 3225 images in 2897.51 secs\tspeed: 1.2043 file/sec</pre>"
            ],
            "text/plain": [
              "Read 3225 images in 2897.51 secs\tspeed: 1.2043 file/sec"
            ]
          },
          "metadata": {
            "tags": []
          }
        },
        {
          "output_type": "display_data",
          "data": {
            "text/html": [
              "<pre>Read 3232 images in 2903.2 secs\tspeed: 1.22953 file/sec</pre>"
            ],
            "text/plain": [
              "Read 3232 images in 2903.2 secs\tspeed: 1.22953 file/sec"
            ]
          },
          "metadata": {
            "tags": []
          }
        },
        {
          "output_type": "display_data",
          "data": {
            "text/html": [
              "<pre>Read 3239 images in 2908.75 secs\tspeed: 1.26248 file/sec</pre>"
            ],
            "text/plain": [
              "Read 3239 images in 2908.75 secs\tspeed: 1.26248 file/sec"
            ]
          },
          "metadata": {
            "tags": []
          }
        },
        {
          "output_type": "display_data",
          "data": {
            "text/html": [
              "<pre>Read 3246 images in 2914.48 secs\tspeed: 1.22002 file/sec</pre>"
            ],
            "text/plain": [
              "Read 3246 images in 2914.48 secs\tspeed: 1.22002 file/sec"
            ]
          },
          "metadata": {
            "tags": []
          }
        },
        {
          "output_type": "display_data",
          "data": {
            "text/html": [
              "<pre>Read 3253 images in 2919.89 secs\tspeed: 1.29468 file/sec</pre>"
            ],
            "text/plain": [
              "Read 3253 images in 2919.89 secs\tspeed: 1.29468 file/sec"
            ]
          },
          "metadata": {
            "tags": []
          }
        },
        {
          "output_type": "display_data",
          "data": {
            "text/html": [
              "<pre>Read 3260 images in 2925.34 secs\tspeed: 1.2837 file/sec</pre>"
            ],
            "text/plain": [
              "Read 3260 images in 2925.34 secs\tspeed: 1.2837 file/sec"
            ]
          },
          "metadata": {
            "tags": []
          }
        },
        {
          "output_type": "display_data",
          "data": {
            "text/html": [
              "<pre>Read 3267 images in 2930.91 secs\tspeed: 1.25698 file/sec</pre>"
            ],
            "text/plain": [
              "Read 3267 images in 2930.91 secs\tspeed: 1.25698 file/sec"
            ]
          },
          "metadata": {
            "tags": []
          }
        },
        {
          "output_type": "display_data",
          "data": {
            "text/html": [
              "<pre>Read 3274 images in 2936.32 secs\tspeed: 1.29367 file/sec</pre>"
            ],
            "text/plain": [
              "Read 3274 images in 2936.32 secs\tspeed: 1.29367 file/sec"
            ]
          },
          "metadata": {
            "tags": []
          }
        },
        {
          "output_type": "display_data",
          "data": {
            "text/html": [
              "<pre>Read 3280 images in 2941.35 secs\tspeed: 1.19327 file/sec</pre>"
            ],
            "text/plain": [
              "Read 3280 images in 2941.35 secs\tspeed: 1.19327 file/sec"
            ]
          },
          "metadata": {
            "tags": []
          }
        },
        {
          "output_type": "display_data",
          "data": {
            "text/html": [
              "<pre>Read 3286 images in 2946.49 secs\tspeed: 1.16685 file/sec</pre>"
            ],
            "text/plain": [
              "Read 3286 images in 2946.49 secs\tspeed: 1.16685 file/sec"
            ]
          },
          "metadata": {
            "tags": []
          }
        },
        {
          "output_type": "display_data",
          "data": {
            "text/html": [
              "<pre>Read 3292 images in 2952.22 secs\tspeed: 1.04755 file/sec</pre>"
            ],
            "text/plain": [
              "Read 3292 images in 2952.22 secs\tspeed: 1.04755 file/sec"
            ]
          },
          "metadata": {
            "tags": []
          }
        },
        {
          "output_type": "display_data",
          "data": {
            "text/html": [
              "<pre>Read 3299 images in 2957.82 secs\tspeed: 1.25127 file/sec</pre>"
            ],
            "text/plain": [
              "Read 3299 images in 2957.82 secs\tspeed: 1.25127 file/sec"
            ]
          },
          "metadata": {
            "tags": []
          }
        },
        {
          "output_type": "display_data",
          "data": {
            "text/html": [
              "<pre>Read 3306 images in 2963.49 secs\tspeed: 1.23316 file/sec</pre>"
            ],
            "text/plain": [
              "Read 3306 images in 2963.49 secs\tspeed: 1.23316 file/sec"
            ]
          },
          "metadata": {
            "tags": []
          }
        },
        {
          "output_type": "display_data",
          "data": {
            "text/html": [
              "<pre>Read 3313 images in 2973.94 secs\tspeed: 0.670166 file/sec</pre>"
            ],
            "text/plain": [
              "Read 3313 images in 2973.94 secs\tspeed: 0.670166 file/sec"
            ]
          },
          "metadata": {
            "tags": []
          }
        },
        {
          "output_type": "display_data",
          "data": {
            "text/html": [
              "<pre>Read 3319 images in 2979.56 secs\tspeed: 1.06675 file/sec</pre>"
            ],
            "text/plain": [
              "Read 3319 images in 2979.56 secs\tspeed: 1.06675 file/sec"
            ]
          },
          "metadata": {
            "tags": []
          }
        },
        {
          "output_type": "display_data",
          "data": {
            "text/html": [
              "<pre>Read 3325 images in 2985.07 secs\tspeed: 1.08929 file/sec</pre>"
            ],
            "text/plain": [
              "Read 3325 images in 2985.07 secs\tspeed: 1.08929 file/sec"
            ]
          },
          "metadata": {
            "tags": []
          }
        },
        {
          "output_type": "display_data",
          "data": {
            "text/html": [
              "<pre>Read 3332 images in 2990.51 secs\tspeed: 1.28728 file/sec</pre>"
            ],
            "text/plain": [
              "Read 3332 images in 2990.51 secs\tspeed: 1.28728 file/sec"
            ]
          },
          "metadata": {
            "tags": []
          }
        },
        {
          "output_type": "display_data",
          "data": {
            "text/html": [
              "<pre>Read 3339 images in 2995.8 secs\tspeed: 1.32349 file/sec</pre>"
            ],
            "text/plain": [
              "Read 3339 images in 2995.8 secs\tspeed: 1.32349 file/sec"
            ]
          },
          "metadata": {
            "tags": []
          }
        },
        {
          "output_type": "display_data",
          "data": {
            "text/html": [
              "<pre>Read 3346 images in 3001.27 secs\tspeed: 1.27962 file/sec</pre>"
            ],
            "text/plain": [
              "Read 3346 images in 3001.27 secs\tspeed: 1.27962 file/sec"
            ]
          },
          "metadata": {
            "tags": []
          }
        },
        {
          "output_type": "display_data",
          "data": {
            "text/html": [
              "<pre>Read 3353 images in 3006.95 secs\tspeed: 1.2323 file/sec</pre>"
            ],
            "text/plain": [
              "Read 3353 images in 3006.95 secs\tspeed: 1.2323 file/sec"
            ]
          },
          "metadata": {
            "tags": []
          }
        },
        {
          "output_type": "display_data",
          "data": {
            "text/html": [
              "<pre>Read 3359 images in 3012.02 secs\tspeed: 1.18392 file/sec</pre>"
            ],
            "text/plain": [
              "Read 3359 images in 3012.02 secs\tspeed: 1.18392 file/sec"
            ]
          },
          "metadata": {
            "tags": []
          }
        },
        {
          "output_type": "display_data",
          "data": {
            "text/html": [
              "<pre>Read 3366 images in 3017.43 secs\tspeed: 1.29239 file/sec</pre>"
            ],
            "text/plain": [
              "Read 3366 images in 3017.43 secs\tspeed: 1.29239 file/sec"
            ]
          },
          "metadata": {
            "tags": []
          }
        },
        {
          "output_type": "display_data",
          "data": {
            "text/html": [
              "<pre>Read 3371 images in 3023.15 secs\tspeed: 0.874127 file/sec</pre>"
            ],
            "text/plain": [
              "Read 3371 images in 3023.15 secs\tspeed: 0.874127 file/sec"
            ]
          },
          "metadata": {
            "tags": []
          }
        },
        {
          "output_type": "display_data",
          "data": {
            "text/html": [
              "<pre>Read 3378 images in 3028.8 secs\tspeed: 1.23884 file/sec</pre>"
            ],
            "text/plain": [
              "Read 3378 images in 3028.8 secs\tspeed: 1.23884 file/sec"
            ]
          },
          "metadata": {
            "tags": []
          }
        },
        {
          "output_type": "display_data",
          "data": {
            "text/html": [
              "<pre>Read 3384 images in 3034.06 secs\tspeed: 1.14205 file/sec</pre>"
            ],
            "text/plain": [
              "Read 3384 images in 3034.06 secs\tspeed: 1.14205 file/sec"
            ]
          },
          "metadata": {
            "tags": []
          }
        },
        {
          "output_type": "display_data",
          "data": {
            "text/html": [
              "<pre>Read 3390 images in 3039.11 secs\tspeed: 1.18804 file/sec</pre>"
            ],
            "text/plain": [
              "Read 3390 images in 3039.11 secs\tspeed: 1.18804 file/sec"
            ]
          },
          "metadata": {
            "tags": []
          }
        },
        {
          "output_type": "display_data",
          "data": {
            "text/html": [
              "<pre>Read 3396 images in 3045.33 secs\tspeed: 0.963433 file/sec</pre>"
            ],
            "text/plain": [
              "Read 3396 images in 3045.33 secs\tspeed: 0.963433 file/sec"
            ]
          },
          "metadata": {
            "tags": []
          }
        },
        {
          "output_type": "display_data",
          "data": {
            "text/html": [
              "<pre>Read 3402 images in 3050.5 secs\tspeed: 1.16256 file/sec</pre>"
            ],
            "text/plain": [
              "Read 3402 images in 3050.5 secs\tspeed: 1.16256 file/sec"
            ]
          },
          "metadata": {
            "tags": []
          }
        },
        {
          "output_type": "display_data",
          "data": {
            "text/html": [
              "<pre>Read 3408 images in 3055.62 secs\tspeed: 1.17032 file/sec</pre>"
            ],
            "text/plain": [
              "Read 3408 images in 3055.62 secs\tspeed: 1.17032 file/sec"
            ]
          },
          "metadata": {
            "tags": []
          }
        },
        {
          "output_type": "display_data",
          "data": {
            "text/html": [
              "<pre>Read 3413 images in 3060.8 secs\tspeed: 0.966258 file/sec</pre>"
            ],
            "text/plain": [
              "Read 3413 images in 3060.8 secs\tspeed: 0.966258 file/sec"
            ]
          },
          "metadata": {
            "tags": []
          }
        },
        {
          "output_type": "display_data",
          "data": {
            "text/html": [
              "<pre>Read 3420 images in 3066.29 secs\tspeed: 1.27532 file/sec</pre>"
            ],
            "text/plain": [
              "Read 3420 images in 3066.29 secs\tspeed: 1.27532 file/sec"
            ]
          },
          "metadata": {
            "tags": []
          }
        },
        {
          "output_type": "display_data",
          "data": {
            "text/html": [
              "<pre>Read 3426 images in 3071.67 secs\tspeed: 1.11449 file/sec</pre>"
            ],
            "text/plain": [
              "Read 3426 images in 3071.67 secs\tspeed: 1.11449 file/sec"
            ]
          },
          "metadata": {
            "tags": []
          }
        },
        {
          "output_type": "display_data",
          "data": {
            "text/html": [
              "<pre>Read 3433 images in 3077.04 secs\tspeed: 1.30335 file/sec</pre>"
            ],
            "text/plain": [
              "Read 3433 images in 3077.04 secs\tspeed: 1.30335 file/sec"
            ]
          },
          "metadata": {
            "tags": []
          }
        },
        {
          "output_type": "display_data",
          "data": {
            "text/html": [
              "<pre>Read 3439 images in 3082.37 secs\tspeed: 1.1253 file/sec</pre>"
            ],
            "text/plain": [
              "Read 3439 images in 3082.37 secs\tspeed: 1.1253 file/sec"
            ]
          },
          "metadata": {
            "tags": []
          }
        },
        {
          "output_type": "display_data",
          "data": {
            "text/html": [
              "<pre>Read 3446 images in 3088.06 secs\tspeed: 1.2299 file/sec</pre>"
            ],
            "text/plain": [
              "Read 3446 images in 3088.06 secs\tspeed: 1.2299 file/sec"
            ]
          },
          "metadata": {
            "tags": []
          }
        },
        {
          "output_type": "display_data",
          "data": {
            "text/html": [
              "<pre>Read 3453 images in 3093.51 secs\tspeed: 1.28607 file/sec</pre>"
            ],
            "text/plain": [
              "Read 3453 images in 3093.51 secs\tspeed: 1.28607 file/sec"
            ]
          },
          "metadata": {
            "tags": []
          }
        },
        {
          "output_type": "display_data",
          "data": {
            "text/html": [
              "<pre>Read 3459 images in 3099.3 secs\tspeed: 1.03549 file/sec</pre>"
            ],
            "text/plain": [
              "Read 3459 images in 3099.3 secs\tspeed: 1.03549 file/sec"
            ]
          },
          "metadata": {
            "tags": []
          }
        },
        {
          "output_type": "display_data",
          "data": {
            "text/html": [
              "<pre>Read 3466 images in 3104.63 secs\tspeed: 1.31446 file/sec</pre>"
            ],
            "text/plain": [
              "Read 3466 images in 3104.63 secs\tspeed: 1.31446 file/sec"
            ]
          },
          "metadata": {
            "tags": []
          }
        },
        {
          "output_type": "display_data",
          "data": {
            "text/html": [
              "<pre>Read 3473 images in 3109.99 secs\tspeed: 1.30448 file/sec</pre>"
            ],
            "text/plain": [
              "Read 3473 images in 3109.99 secs\tspeed: 1.30448 file/sec"
            ]
          },
          "metadata": {
            "tags": []
          }
        },
        {
          "output_type": "display_data",
          "data": {
            "text/html": [
              "<pre>Read 3480 images in 3115.71 secs\tspeed: 1.22387 file/sec</pre>"
            ],
            "text/plain": [
              "Read 3480 images in 3115.71 secs\tspeed: 1.22387 file/sec"
            ]
          },
          "metadata": {
            "tags": []
          }
        },
        {
          "output_type": "display_data",
          "data": {
            "text/html": [
              "<pre>Read 3486 images in 3121.38 secs\tspeed: 1.05888 file/sec</pre>"
            ],
            "text/plain": [
              "Read 3486 images in 3121.38 secs\tspeed: 1.05888 file/sec"
            ]
          },
          "metadata": {
            "tags": []
          }
        },
        {
          "output_type": "display_data",
          "data": {
            "text/html": [
              "<pre>Read 3492 images in 3126.69 secs\tspeed: 1.13032 file/sec</pre>"
            ],
            "text/plain": [
              "Read 3492 images in 3126.69 secs\tspeed: 1.13032 file/sec"
            ]
          },
          "metadata": {
            "tags": []
          }
        },
        {
          "output_type": "display_data",
          "data": {
            "text/html": [
              "<pre>Read 3499 images in 3132.37 secs\tspeed: 1.23265 file/sec</pre>"
            ],
            "text/plain": [
              "Read 3499 images in 3132.37 secs\tspeed: 1.23265 file/sec"
            ]
          },
          "metadata": {
            "tags": []
          }
        },
        {
          "output_type": "display_data",
          "data": {
            "text/html": [
              "<pre>Read 3505 images in 3138.01 secs\tspeed: 1.06278 file/sec</pre>"
            ],
            "text/plain": [
              "Read 3505 images in 3138.01 secs\tspeed: 1.06278 file/sec"
            ]
          },
          "metadata": {
            "tags": []
          }
        },
        {
          "output_type": "display_data",
          "data": {
            "text/html": [
              "<pre>Read 3511 images in 3143.63 secs\tspeed: 1.06741 file/sec</pre>"
            ],
            "text/plain": [
              "Read 3511 images in 3143.63 secs\tspeed: 1.06741 file/sec"
            ]
          },
          "metadata": {
            "tags": []
          }
        },
        {
          "output_type": "display_data",
          "data": {
            "text/html": [
              "<pre>Read 3518 images in 3149.32 secs\tspeed: 1.23123 file/sec</pre>"
            ],
            "text/plain": [
              "Read 3518 images in 3149.32 secs\tspeed: 1.23123 file/sec"
            ]
          },
          "metadata": {
            "tags": []
          }
        },
        {
          "output_type": "display_data",
          "data": {
            "text/html": [
              "<pre>Read 3525 images in 3154.7 secs\tspeed: 1.30096 file/sec</pre>"
            ],
            "text/plain": [
              "Read 3525 images in 3154.7 secs\tspeed: 1.30096 file/sec"
            ]
          },
          "metadata": {
            "tags": []
          }
        },
        {
          "output_type": "display_data",
          "data": {
            "text/html": [
              "<pre>Read 3532 images in 3160.23 secs\tspeed: 1.26611 file/sec</pre>"
            ],
            "text/plain": [
              "Read 3532 images in 3160.23 secs\tspeed: 1.26611 file/sec"
            ]
          },
          "metadata": {
            "tags": []
          }
        },
        {
          "output_type": "display_data",
          "data": {
            "text/html": [
              "<pre>Read 3539 images in 3165.97 secs\tspeed: 1.21881 file/sec</pre>"
            ],
            "text/plain": [
              "Read 3539 images in 3165.97 secs\tspeed: 1.21881 file/sec"
            ]
          },
          "metadata": {
            "tags": []
          }
        },
        {
          "output_type": "display_data",
          "data": {
            "text/html": [
              "<pre>Read 3546 images in 3171.41 secs\tspeed: 1.28799 file/sec</pre>"
            ],
            "text/plain": [
              "Read 3546 images in 3171.41 secs\tspeed: 1.28799 file/sec"
            ]
          },
          "metadata": {
            "tags": []
          }
        },
        {
          "output_type": "display_data",
          "data": {
            "text/html": [
              "<pre>Read 3553 images in 3176.81 secs\tspeed: 1.29617 file/sec</pre>"
            ],
            "text/plain": [
              "Read 3553 images in 3176.81 secs\tspeed: 1.29617 file/sec"
            ]
          },
          "metadata": {
            "tags": []
          }
        },
        {
          "output_type": "display_data",
          "data": {
            "text/html": [
              "<pre>Read 3560 images in 3182.13 secs\tspeed: 1.31522 file/sec</pre>"
            ],
            "text/plain": [
              "Read 3560 images in 3182.13 secs\tspeed: 1.31522 file/sec"
            ]
          },
          "metadata": {
            "tags": []
          }
        },
        {
          "output_type": "display_data",
          "data": {
            "text/html": [
              "<pre>Read 3565 images in 3193.29 secs\tspeed: 0.448112 file/sec</pre>"
            ],
            "text/plain": [
              "Read 3565 images in 3193.29 secs\tspeed: 0.448112 file/sec"
            ]
          },
          "metadata": {
            "tags": []
          }
        },
        {
          "output_type": "display_data",
          "data": {
            "text/html": [
              "<pre>Read 3572 images in 3199.11 secs\tspeed: 1.20114 file/sec</pre>"
            ],
            "text/plain": [
              "Read 3572 images in 3199.11 secs\tspeed: 1.20114 file/sec"
            ]
          },
          "metadata": {
            "tags": []
          }
        },
        {
          "output_type": "display_data",
          "data": {
            "text/html": [
              "<pre>Read 3579 images in 3204.72 secs\tspeed: 1.24947 file/sec</pre>"
            ],
            "text/plain": [
              "Read 3579 images in 3204.72 secs\tspeed: 1.24947 file/sec"
            ]
          },
          "metadata": {
            "tags": []
          }
        },
        {
          "output_type": "display_data",
          "data": {
            "text/html": [
              "<pre>Read 3586 images in 3210.13 secs\tspeed: 1.29413 file/sec</pre>"
            ],
            "text/plain": [
              "Read 3586 images in 3210.13 secs\tspeed: 1.29413 file/sec"
            ]
          },
          "metadata": {
            "tags": []
          }
        },
        {
          "output_type": "display_data",
          "data": {
            "text/html": [
              "<pre>Read 3593 images in 3216.18 secs\tspeed: 1.15513 file/sec</pre>"
            ],
            "text/plain": [
              "Read 3593 images in 3216.18 secs\tspeed: 1.15513 file/sec"
            ]
          },
          "metadata": {
            "tags": []
          }
        },
        {
          "output_type": "display_data",
          "data": {
            "text/html": [
              "<pre>Read 3599 images in 3221.26 secs\tspeed: 1.18232 file/sec</pre>"
            ],
            "text/plain": [
              "Read 3599 images in 3221.26 secs\tspeed: 1.18232 file/sec"
            ]
          },
          "metadata": {
            "tags": []
          }
        },
        {
          "output_type": "display_data",
          "data": {
            "text/html": [
              "<pre>Read 3606 images in 3226.92 secs\tspeed: 1.23602 file/sec</pre>"
            ],
            "text/plain": [
              "Read 3606 images in 3226.92 secs\tspeed: 1.23602 file/sec"
            ]
          },
          "metadata": {
            "tags": []
          }
        },
        {
          "output_type": "display_data",
          "data": {
            "text/html": [
              "<pre>Read 3612 images in 3232.09 secs\tspeed: 1.16213 file/sec</pre>"
            ],
            "text/plain": [
              "Read 3612 images in 3232.09 secs\tspeed: 1.16213 file/sec"
            ]
          },
          "metadata": {
            "tags": []
          }
        },
        {
          "output_type": "display_data",
          "data": {
            "text/html": [
              "<pre>Read 3619 images in 3237.52 secs\tspeed: 1.28931 file/sec</pre>"
            ],
            "text/plain": [
              "Read 3619 images in 3237.52 secs\tspeed: 1.28931 file/sec"
            ]
          },
          "metadata": {
            "tags": []
          }
        },
        {
          "output_type": "display_data",
          "data": {
            "text/html": [
              "<pre>Read 3626 images in 3243.01 secs\tspeed: 1.27359 file/sec</pre>"
            ],
            "text/plain": [
              "Read 3626 images in 3243.01 secs\tspeed: 1.27359 file/sec"
            ]
          },
          "metadata": {
            "tags": []
          }
        },
        {
          "output_type": "display_data",
          "data": {
            "text/html": [
              "<pre>Read 3633 images in 3248.75 secs\tspeed: 1.21938 file/sec</pre>"
            ],
            "text/plain": [
              "Read 3633 images in 3248.75 secs\tspeed: 1.21938 file/sec"
            ]
          },
          "metadata": {
            "tags": []
          }
        },
        {
          "output_type": "display_data",
          "data": {
            "text/html": [
              "<pre>Read 3640 images in 3254.47 secs\tspeed: 1.22342 file/sec</pre>"
            ],
            "text/plain": [
              "Read 3640 images in 3254.47 secs\tspeed: 1.22342 file/sec"
            ]
          },
          "metadata": {
            "tags": []
          }
        },
        {
          "output_type": "display_data",
          "data": {
            "text/html": [
              "<pre>Read 3646 images in 3260.98 secs\tspeed: 0.92232 file/sec</pre>"
            ],
            "text/plain": [
              "Read 3646 images in 3260.98 secs\tspeed: 0.92232 file/sec"
            ]
          },
          "metadata": {
            "tags": []
          }
        },
        {
          "output_type": "display_data",
          "data": {
            "text/html": [
              "<pre>Read 3653 images in 3266.43 secs\tspeed: 1.28304 file/sec</pre>"
            ],
            "text/plain": [
              "Read 3653 images in 3266.43 secs\tspeed: 1.28304 file/sec"
            ]
          },
          "metadata": {
            "tags": []
          }
        },
        {
          "output_type": "display_data",
          "data": {
            "text/html": [
              "<pre>Read 3659 images in 3271.47 secs\tspeed: 1.19164 file/sec</pre>"
            ],
            "text/plain": [
              "Read 3659 images in 3271.47 secs\tspeed: 1.19164 file/sec"
            ]
          },
          "metadata": {
            "tags": []
          }
        },
        {
          "output_type": "display_data",
          "data": {
            "text/html": [
              "<pre>Read 3666 images in 3277 secs\tspeed: 1.26598 file/sec</pre>"
            ],
            "text/plain": [
              "Read 3666 images in 3277 secs\tspeed: 1.26598 file/sec"
            ]
          },
          "metadata": {
            "tags": []
          }
        },
        {
          "output_type": "display_data",
          "data": {
            "text/html": [
              "<pre>Read 3672 images in 3282.1 secs\tspeed: 1.17631 file/sec</pre>"
            ],
            "text/plain": [
              "Read 3672 images in 3282.1 secs\tspeed: 1.17631 file/sec"
            ]
          },
          "metadata": {
            "tags": []
          }
        },
        {
          "output_type": "display_data",
          "data": {
            "text/html": [
              "<pre>Read 3679 images in 3287.82 secs\tspeed: 1.22364 file/sec</pre>"
            ],
            "text/plain": [
              "Read 3679 images in 3287.82 secs\tspeed: 1.22364 file/sec"
            ]
          },
          "metadata": {
            "tags": []
          }
        },
        {
          "output_type": "display_data",
          "data": {
            "text/html": [
              "<pre>Read 3685 images in 3293.52 secs\tspeed: 1.05189 file/sec</pre>"
            ],
            "text/plain": [
              "Read 3685 images in 3293.52 secs\tspeed: 1.05189 file/sec"
            ]
          },
          "metadata": {
            "tags": []
          }
        },
        {
          "output_type": "display_data",
          "data": {
            "text/html": [
              "<pre>Read 3692 images in 3298.94 secs\tspeed: 1.29315 file/sec</pre>"
            ],
            "text/plain": [
              "Read 3692 images in 3298.94 secs\tspeed: 1.29315 file/sec"
            ]
          },
          "metadata": {
            "tags": []
          }
        },
        {
          "output_type": "display_data",
          "data": {
            "text/html": [
              "<pre>Read 3699 images in 3304.72 secs\tspeed: 1.21139 file/sec</pre>"
            ],
            "text/plain": [
              "Read 3699 images in 3304.72 secs\tspeed: 1.21139 file/sec"
            ]
          },
          "metadata": {
            "tags": []
          }
        },
        {
          "output_type": "display_data",
          "data": {
            "text/html": [
              "<pre>Read 3705 images in 3309.75 secs\tspeed: 1.19254 file/sec</pre>"
            ],
            "text/plain": [
              "Read 3705 images in 3309.75 secs\tspeed: 1.19254 file/sec"
            ]
          },
          "metadata": {
            "tags": []
          }
        },
        {
          "output_type": "display_data",
          "data": {
            "text/html": [
              "<pre>Read 3711 images in 3315.02 secs\tspeed: 1.13844 file/sec</pre>"
            ],
            "text/plain": [
              "Read 3711 images in 3315.02 secs\tspeed: 1.13844 file/sec"
            ]
          },
          "metadata": {
            "tags": []
          }
        },
        {
          "output_type": "display_data",
          "data": {
            "text/html": [
              "<pre>Read 3718 images in 3320.59 secs\tspeed: 1.25657 file/sec</pre>"
            ],
            "text/plain": [
              "Read 3718 images in 3320.59 secs\tspeed: 1.25657 file/sec"
            ]
          },
          "metadata": {
            "tags": []
          }
        },
        {
          "output_type": "display_data",
          "data": {
            "text/html": [
              "<pre>Read 3725 images in 3326.17 secs\tspeed: 1.25439 file/sec</pre>"
            ],
            "text/plain": [
              "Read 3725 images in 3326.17 secs\tspeed: 1.25439 file/sec"
            ]
          },
          "metadata": {
            "tags": []
          }
        },
        {
          "output_type": "display_data",
          "data": {
            "text/html": [
              "<pre>Read 3732 images in 3332.03 secs\tspeed: 1.19438 file/sec</pre>"
            ],
            "text/plain": [
              "Read 3732 images in 3332.03 secs\tspeed: 1.19438 file/sec"
            ]
          },
          "metadata": {
            "tags": []
          }
        },
        {
          "output_type": "display_data",
          "data": {
            "text/html": [
              "<pre>Read 3738 images in 3337.09 secs\tspeed: 1.18505 file/sec</pre>"
            ],
            "text/plain": [
              "Read 3738 images in 3337.09 secs\tspeed: 1.18505 file/sec"
            ]
          },
          "metadata": {
            "tags": []
          }
        },
        {
          "output_type": "display_data",
          "data": {
            "text/html": [
              "<pre>Read 3745 images in 3342.59 secs\tspeed: 1.27448 file/sec</pre>"
            ],
            "text/plain": [
              "Read 3745 images in 3342.59 secs\tspeed: 1.27448 file/sec"
            ]
          },
          "metadata": {
            "tags": []
          }
        },
        {
          "output_type": "display_data",
          "data": {
            "text/html": [
              "<pre>Read 3752 images in 3348.11 secs\tspeed: 1.26788 file/sec</pre>"
            ],
            "text/plain": [
              "Read 3752 images in 3348.11 secs\tspeed: 1.26788 file/sec"
            ]
          },
          "metadata": {
            "tags": []
          }
        },
        {
          "output_type": "display_data",
          "data": {
            "text/html": [
              "<pre>Read 3759 images in 3353.89 secs\tspeed: 1.21031 file/sec</pre>"
            ],
            "text/plain": [
              "Read 3759 images in 3353.89 secs\tspeed: 1.21031 file/sec"
            ]
          },
          "metadata": {
            "tags": []
          }
        },
        {
          "output_type": "display_data",
          "data": {
            "text/html": [
              "<pre>Read 3764 images in 3359.73 secs\tspeed: 0.856097 file/sec</pre>"
            ],
            "text/plain": [
              "Read 3764 images in 3359.73 secs\tspeed: 0.856097 file/sec"
            ]
          },
          "metadata": {
            "tags": []
          }
        },
        {
          "output_type": "display_data",
          "data": {
            "text/html": [
              "<pre>Read 3771 images in 3365.3 secs\tspeed: 1.25622 file/sec</pre>"
            ],
            "text/plain": [
              "Read 3771 images in 3365.3 secs\tspeed: 1.25622 file/sec"
            ]
          },
          "metadata": {
            "tags": []
          }
        },
        {
          "output_type": "display_data",
          "data": {
            "text/html": [
              "<pre>Read 3778 images in 3370.73 secs\tspeed: 1.28972 file/sec</pre>"
            ],
            "text/plain": [
              "Read 3778 images in 3370.73 secs\tspeed: 1.28972 file/sec"
            ]
          },
          "metadata": {
            "tags": []
          }
        },
        {
          "output_type": "display_data",
          "data": {
            "text/html": [
              "<pre>Read 3784 images in 3375.74 secs\tspeed: 1.19677 file/sec</pre>"
            ],
            "text/plain": [
              "Read 3784 images in 3375.74 secs\tspeed: 1.19677 file/sec"
            ]
          },
          "metadata": {
            "tags": []
          }
        },
        {
          "output_type": "display_data",
          "data": {
            "text/html": [
              "<pre>Read 3791 images in 3381.25 secs\tspeed: 1.27018 file/sec</pre>"
            ],
            "text/plain": [
              "Read 3791 images in 3381.25 secs\tspeed: 1.27018 file/sec"
            ]
          },
          "metadata": {
            "tags": []
          }
        },
        {
          "output_type": "display_data",
          "data": {
            "text/html": [
              "<pre>Read 3798 images in 3386.69 secs\tspeed: 1.28673 file/sec</pre>"
            ],
            "text/plain": [
              "Read 3798 images in 3386.69 secs\tspeed: 1.28673 file/sec"
            ]
          },
          "metadata": {
            "tags": []
          }
        },
        {
          "output_type": "display_data",
          "data": {
            "text/html": [
              "<pre>Read 3804 images in 3391.77 secs\tspeed: 1.18285 file/sec</pre>"
            ],
            "text/plain": [
              "Read 3804 images in 3391.77 secs\tspeed: 1.18285 file/sec"
            ]
          },
          "metadata": {
            "tags": []
          }
        },
        {
          "output_type": "display_data",
          "data": {
            "text/html": [
              "<pre>Read 3811 images in 3397.31 secs\tspeed: 1.2637 file/sec</pre>"
            ],
            "text/plain": [
              "Read 3811 images in 3397.31 secs\tspeed: 1.2637 file/sec"
            ]
          },
          "metadata": {
            "tags": []
          }
        },
        {
          "output_type": "display_data",
          "data": {
            "text/html": [
              "<pre>Read 3818 images in 3402.95 secs\tspeed: 1.24139 file/sec</pre>"
            ],
            "text/plain": [
              "Read 3818 images in 3402.95 secs\tspeed: 1.24139 file/sec"
            ]
          },
          "metadata": {
            "tags": []
          }
        },
        {
          "output_type": "display_data",
          "data": {
            "text/html": [
              "<pre>Read 3825 images in 3408.46 secs\tspeed: 1.26921 file/sec</pre>"
            ],
            "text/plain": [
              "Read 3825 images in 3408.46 secs\tspeed: 1.26921 file/sec"
            ]
          },
          "metadata": {
            "tags": []
          }
        },
        {
          "output_type": "display_data",
          "data": {
            "text/html": [
              "<pre>Read 3831 images in 3413.53 secs\tspeed: 1.18371 file/sec</pre>"
            ],
            "text/plain": [
              "Read 3831 images in 3413.53 secs\tspeed: 1.18371 file/sec"
            ]
          },
          "metadata": {
            "tags": []
          }
        },
        {
          "output_type": "display_data",
          "data": {
            "text/html": [
              "<pre>Read 3837 images in 3418.61 secs\tspeed: 1.18069 file/sec</pre>"
            ],
            "text/plain": [
              "Read 3837 images in 3418.61 secs\tspeed: 1.18069 file/sec"
            ]
          },
          "metadata": {
            "tags": []
          }
        },
        {
          "output_type": "display_data",
          "data": {
            "text/html": [
              "<pre>Read 3844 images in 3423.98 secs\tspeed: 1.30275 file/sec</pre>"
            ],
            "text/plain": [
              "Read 3844 images in 3423.98 secs\tspeed: 1.30275 file/sec"
            ]
          },
          "metadata": {
            "tags": []
          }
        },
        {
          "output_type": "display_data",
          "data": {
            "text/html": [
              "<pre>Read 3851 images in 3429.72 secs\tspeed: 1.22138 file/sec</pre>"
            ],
            "text/plain": [
              "Read 3851 images in 3429.72 secs\tspeed: 1.22138 file/sec"
            ]
          },
          "metadata": {
            "tags": []
          }
        },
        {
          "output_type": "display_data",
          "data": {
            "text/html": [
              "<pre>Read 3856 images in 3434.74 secs\tspeed: 0.995918 file/sec</pre>"
            ],
            "text/plain": [
              "Read 3856 images in 3434.74 secs\tspeed: 0.995918 file/sec"
            ]
          },
          "metadata": {
            "tags": []
          }
        },
        {
          "output_type": "display_data",
          "data": {
            "text/html": [
              "<pre>Read 3863 images in 3440.14 secs\tspeed: 1.29487 file/sec</pre>"
            ],
            "text/plain": [
              "Read 3863 images in 3440.14 secs\tspeed: 1.29487 file/sec"
            ]
          },
          "metadata": {
            "tags": []
          }
        },
        {
          "output_type": "display_data",
          "data": {
            "text/html": [
              "<pre>Read 3870 images in 3445.85 secs\tspeed: 1.22668 file/sec</pre>"
            ],
            "text/plain": [
              "Read 3870 images in 3445.85 secs\tspeed: 1.22668 file/sec"
            ]
          },
          "metadata": {
            "tags": []
          }
        },
        {
          "output_type": "display_data",
          "data": {
            "text/html": [
              "<pre>Read 3877 images in 3451.57 secs\tspeed: 1.22431 file/sec</pre>"
            ],
            "text/plain": [
              "Read 3877 images in 3451.57 secs\tspeed: 1.22431 file/sec"
            ]
          },
          "metadata": {
            "tags": []
          }
        },
        {
          "output_type": "display_data",
          "data": {
            "text/html": [
              "<pre>Read 3884 images in 3457.34 secs\tspeed: 1.21197 file/sec</pre>"
            ],
            "text/plain": [
              "Read 3884 images in 3457.34 secs\tspeed: 1.21197 file/sec"
            ]
          },
          "metadata": {
            "tags": []
          }
        },
        {
          "output_type": "display_data",
          "data": {
            "text/html": [
              "<pre>Read 3891 images in 3463.17 secs\tspeed: 1.20171 file/sec</pre>"
            ],
            "text/plain": [
              "Read 3891 images in 3463.17 secs\tspeed: 1.20171 file/sec"
            ]
          },
          "metadata": {
            "tags": []
          }
        },
        {
          "output_type": "display_data",
          "data": {
            "text/html": [
              "<pre>Read 3898 images in 3468.74 secs\tspeed: 1.25716 file/sec</pre>"
            ],
            "text/plain": [
              "Read 3898 images in 3468.74 secs\tspeed: 1.25716 file/sec"
            ]
          },
          "metadata": {
            "tags": []
          }
        },
        {
          "output_type": "display_data",
          "data": {
            "text/html": [
              "<pre>Read 3905 images in 3474.49 secs\tspeed: 1.21669 file/sec</pre>"
            ],
            "text/plain": [
              "Read 3905 images in 3474.49 secs\tspeed: 1.21669 file/sec"
            ]
          },
          "metadata": {
            "tags": []
          }
        },
        {
          "output_type": "display_data",
          "data": {
            "text/html": [
              "<pre>Read 3912 images in 3480.13 secs\tspeed: 1.24155 file/sec</pre>"
            ],
            "text/plain": [
              "Read 3912 images in 3480.13 secs\tspeed: 1.24155 file/sec"
            ]
          },
          "metadata": {
            "tags": []
          }
        },
        {
          "output_type": "display_data",
          "data": {
            "text/html": [
              "<pre>Read 3919 images in 3485.53 secs\tspeed: 1.29509 file/sec</pre>"
            ],
            "text/plain": [
              "Read 3919 images in 3485.53 secs\tspeed: 1.29509 file/sec"
            ]
          },
          "metadata": {
            "tags": []
          }
        },
        {
          "output_type": "display_data",
          "data": {
            "text/html": [
              "<pre>Read 3926 images in 3491.03 secs\tspeed: 1.27368 file/sec</pre>"
            ],
            "text/plain": [
              "Read 3926 images in 3491.03 secs\tspeed: 1.27368 file/sec"
            ]
          },
          "metadata": {
            "tags": []
          }
        },
        {
          "output_type": "display_data",
          "data": {
            "text/html": [
              "<pre>Read 3933 images in 3496.66 secs\tspeed: 1.24225 file/sec</pre>"
            ],
            "text/plain": [
              "Read 3933 images in 3496.66 secs\tspeed: 1.24225 file/sec"
            ]
          },
          "metadata": {
            "tags": []
          }
        },
        {
          "output_type": "display_data",
          "data": {
            "text/html": [
              "<pre>Read 3940 images in 3502.82 secs\tspeed: 1.13666 file/sec</pre>"
            ],
            "text/plain": [
              "Read 3940 images in 3502.82 secs\tspeed: 1.13666 file/sec"
            ]
          },
          "metadata": {
            "tags": []
          }
        },
        {
          "output_type": "display_data",
          "data": {
            "text/html": [
              "<pre>Read 3947 images in 3508.36 secs\tspeed: 1.2635 file/sec</pre>"
            ],
            "text/plain": [
              "Read 3947 images in 3508.36 secs\tspeed: 1.2635 file/sec"
            ]
          },
          "metadata": {
            "tags": []
          }
        },
        {
          "output_type": "display_data",
          "data": {
            "text/html": [
              "<pre>Read 3954 images in 3513.73 secs\tspeed: 1.30347 file/sec</pre>"
            ],
            "text/plain": [
              "Read 3954 images in 3513.73 secs\tspeed: 1.30347 file/sec"
            ]
          },
          "metadata": {
            "tags": []
          }
        },
        {
          "output_type": "display_data",
          "data": {
            "text/html": [
              "<pre>Read 3961 images in 3519.12 secs\tspeed: 1.29938 file/sec</pre>"
            ],
            "text/plain": [
              "Read 3961 images in 3519.12 secs\tspeed: 1.29938 file/sec"
            ]
          },
          "metadata": {
            "tags": []
          }
        },
        {
          "output_type": "display_data",
          "data": {
            "text/html": [
              "<pre>Read 3968 images in 3524.71 secs\tspeed: 1.25114 file/sec</pre>"
            ],
            "text/plain": [
              "Read 3968 images in 3524.71 secs\tspeed: 1.25114 file/sec"
            ]
          },
          "metadata": {
            "tags": []
          }
        },
        {
          "output_type": "display_data",
          "data": {
            "text/html": [
              "<pre>Read 3975 images in 3530.51 secs\tspeed: 1.2078 file/sec</pre>"
            ],
            "text/plain": [
              "Read 3975 images in 3530.51 secs\tspeed: 1.2078 file/sec"
            ]
          },
          "metadata": {
            "tags": []
          }
        },
        {
          "output_type": "display_data",
          "data": {
            "text/html": [
              "<pre>Read 3981 images in 3535.68 secs\tspeed: 1.16112 file/sec</pre>"
            ],
            "text/plain": [
              "Read 3981 images in 3535.68 secs\tspeed: 1.16112 file/sec"
            ]
          },
          "metadata": {
            "tags": []
          }
        },
        {
          "output_type": "display_data",
          "data": {
            "text/html": [
              "<pre>Read 3988 images in 3541.54 secs\tspeed: 1.19296 file/sec</pre>"
            ],
            "text/plain": [
              "Read 3988 images in 3541.54 secs\tspeed: 1.19296 file/sec"
            ]
          },
          "metadata": {
            "tags": []
          }
        },
        {
          "output_type": "display_data",
          "data": {
            "text/html": [
              "<pre>Read 3995 images in 3547.07 secs\tspeed: 1.26581 file/sec</pre>"
            ],
            "text/plain": [
              "Read 3995 images in 3547.07 secs\tspeed: 1.26581 file/sec"
            ]
          },
          "metadata": {
            "tags": []
          }
        },
        {
          "output_type": "display_data",
          "data": {
            "text/html": [
              "<pre>Read 4002 images in 3552.64 secs\tspeed: 1.25844 file/sec</pre>"
            ],
            "text/plain": [
              "Read 4002 images in 3552.64 secs\tspeed: 1.25844 file/sec"
            ]
          },
          "metadata": {
            "tags": []
          }
        },
        {
          "output_type": "display_data",
          "data": {
            "text/html": [
              "<pre>Read 4009 images in 3558.17 secs\tspeed: 1.26496 file/sec</pre>"
            ],
            "text/plain": [
              "Read 4009 images in 3558.17 secs\tspeed: 1.26496 file/sec"
            ]
          },
          "metadata": {
            "tags": []
          }
        },
        {
          "output_type": "display_data",
          "data": {
            "text/html": [
              "<pre>Read 4016 images in 3563.65 secs\tspeed: 1.27853 file/sec</pre>"
            ],
            "text/plain": [
              "Read 4016 images in 3563.65 secs\tspeed: 1.27853 file/sec"
            ]
          },
          "metadata": {
            "tags": []
          }
        },
        {
          "output_type": "display_data",
          "data": {
            "text/html": [
              "<pre>Read 4023 images in 3569.12 secs\tspeed: 1.27767 file/sec</pre>"
            ],
            "text/plain": [
              "Read 4023 images in 3569.12 secs\tspeed: 1.27767 file/sec"
            ]
          },
          "metadata": {
            "tags": []
          }
        },
        {
          "output_type": "display_data",
          "data": {
            "text/html": [
              "<pre>Read 4030 images in 3574.62 secs\tspeed: 1.2729 file/sec</pre>"
            ],
            "text/plain": [
              "Read 4030 images in 3574.62 secs\tspeed: 1.2729 file/sec"
            ]
          },
          "metadata": {
            "tags": []
          }
        },
        {
          "output_type": "display_data",
          "data": {
            "text/html": [
              "<pre>Read 4037 images in 3580.05 secs\tspeed: 1.28981 file/sec</pre>"
            ],
            "text/plain": [
              "Read 4037 images in 3580.05 secs\tspeed: 1.28981 file/sec"
            ]
          },
          "metadata": {
            "tags": []
          }
        },
        {
          "output_type": "display_data",
          "data": {
            "text/html": [
              "<pre>Read 4044 images in 3585.69 secs\tspeed: 1.24107 file/sec</pre>"
            ],
            "text/plain": [
              "Read 4044 images in 3585.69 secs\tspeed: 1.24107 file/sec"
            ]
          },
          "metadata": {
            "tags": []
          }
        },
        {
          "output_type": "display_data",
          "data": {
            "text/html": [
              "<pre>Read 4051 images in 3591.28 secs\tspeed: 1.25266 file/sec</pre>"
            ],
            "text/plain": [
              "Read 4051 images in 3591.28 secs\tspeed: 1.25266 file/sec"
            ]
          },
          "metadata": {
            "tags": []
          }
        },
        {
          "output_type": "display_data",
          "data": {
            "text/html": [
              "<pre>Read 4057 images in 3596.77 secs\tspeed: 1.09248 file/sec</pre>"
            ],
            "text/plain": [
              "Read 4057 images in 3596.77 secs\tspeed: 1.09248 file/sec"
            ]
          },
          "metadata": {
            "tags": []
          }
        },
        {
          "output_type": "display_data",
          "data": {
            "text/html": [
              "<pre>Read 4064 images in 3602.33 secs\tspeed: 1.25899 file/sec</pre>"
            ],
            "text/plain": [
              "Read 4064 images in 3602.33 secs\tspeed: 1.25899 file/sec"
            ]
          },
          "metadata": {
            "tags": []
          }
        },
        {
          "output_type": "display_data",
          "data": {
            "text/html": [
              "<pre>Read 4071 images in 3607.81 secs\tspeed: 1.27726 file/sec</pre>"
            ],
            "text/plain": [
              "Read 4071 images in 3607.81 secs\tspeed: 1.27726 file/sec"
            ]
          },
          "metadata": {
            "tags": []
          }
        },
        {
          "output_type": "display_data",
          "data": {
            "text/html": [
              "<pre>Read 4078 images in 3613.41 secs\tspeed: 1.25143 file/sec</pre>"
            ],
            "text/plain": [
              "Read 4078 images in 3613.41 secs\tspeed: 1.25143 file/sec"
            ]
          },
          "metadata": {
            "tags": []
          }
        },
        {
          "output_type": "display_data",
          "data": {
            "text/html": [
              "<pre>Read 4085 images in 3618.89 secs\tspeed: 1.27566 file/sec</pre>"
            ],
            "text/plain": [
              "Read 4085 images in 3618.89 secs\tspeed: 1.27566 file/sec"
            ]
          },
          "metadata": {
            "tags": []
          }
        },
        {
          "output_type": "display_data",
          "data": {
            "text/html": [
              "<pre>Read 4092 images in 3624.6 secs\tspeed: 1.22642 file/sec</pre>"
            ],
            "text/plain": [
              "Read 4092 images in 3624.6 secs\tspeed: 1.22642 file/sec"
            ]
          },
          "metadata": {
            "tags": []
          }
        },
        {
          "output_type": "display_data",
          "data": {
            "text/html": [
              "<pre>Read 4099 images in 3630.24 secs\tspeed: 1.24204 file/sec</pre>"
            ],
            "text/plain": [
              "Read 4099 images in 3630.24 secs\tspeed: 1.24204 file/sec"
            ]
          },
          "metadata": {
            "tags": []
          }
        },
        {
          "output_type": "display_data",
          "data": {
            "text/html": [
              "<pre>Read 4106 images in 3635.69 secs\tspeed: 1.28315 file/sec</pre>"
            ],
            "text/plain": [
              "Read 4106 images in 3635.69 secs\tspeed: 1.28315 file/sec"
            ]
          },
          "metadata": {
            "tags": []
          }
        },
        {
          "output_type": "display_data",
          "data": {
            "text/html": [
              "<pre>Read 4113 images in 3641.44 secs\tspeed: 1.21817 file/sec</pre>"
            ],
            "text/plain": [
              "Read 4113 images in 3641.44 secs\tspeed: 1.21817 file/sec"
            ]
          },
          "metadata": {
            "tags": []
          }
        },
        {
          "output_type": "display_data",
          "data": {
            "text/html": [
              "<pre>Read 4119 images in 3646.68 secs\tspeed: 1.14407 file/sec</pre>"
            ],
            "text/plain": [
              "Read 4119 images in 3646.68 secs\tspeed: 1.14407 file/sec"
            ]
          },
          "metadata": {
            "tags": []
          }
        },
        {
          "output_type": "display_data",
          "data": {
            "text/html": [
              "<pre>Read 4126 images in 3651.97 secs\tspeed: 1.32424 file/sec</pre>"
            ],
            "text/plain": [
              "Read 4126 images in 3651.97 secs\tspeed: 1.32424 file/sec"
            ]
          },
          "metadata": {
            "tags": []
          }
        },
        {
          "output_type": "display_data",
          "data": {
            "text/html": [
              "<pre>Read 4133 images in 3657.61 secs\tspeed: 1.23981 file/sec</pre>"
            ],
            "text/plain": [
              "Read 4133 images in 3657.61 secs\tspeed: 1.23981 file/sec"
            ]
          },
          "metadata": {
            "tags": []
          }
        },
        {
          "output_type": "display_data",
          "data": {
            "text/html": [
              "<pre>Read 4140 images in 3663.28 secs\tspeed: 1.2354 file/sec</pre>"
            ],
            "text/plain": [
              "Read 4140 images in 3663.28 secs\tspeed: 1.2354 file/sec"
            ]
          },
          "metadata": {
            "tags": []
          }
        },
        {
          "output_type": "display_data",
          "data": {
            "text/html": [
              "<pre>Read 4145 images in 3668.41 secs\tspeed: 0.974659 file/sec</pre>"
            ],
            "text/plain": [
              "Read 4145 images in 3668.41 secs\tspeed: 0.974659 file/sec"
            ]
          },
          "metadata": {
            "tags": []
          }
        },
        {
          "output_type": "display_data",
          "data": {
            "text/html": [
              "<pre>Read 4151 images in 3673.76 secs\tspeed: 1.12165 file/sec</pre>"
            ],
            "text/plain": [
              "Read 4151 images in 3673.76 secs\tspeed: 1.12165 file/sec"
            ]
          },
          "metadata": {
            "tags": []
          }
        },
        {
          "output_type": "display_data",
          "data": {
            "text/html": [
              "<pre>Read 4156 images in 3679.06 secs\tspeed: 0.944069 file/sec</pre>"
            ],
            "text/plain": [
              "Read 4156 images in 3679.06 secs\tspeed: 0.944069 file/sec"
            ]
          },
          "metadata": {
            "tags": []
          }
        },
        {
          "output_type": "display_data",
          "data": {
            "text/html": [
              "<pre>Read 4163 images in 3684.86 secs\tspeed: 1.20516 file/sec</pre>"
            ],
            "text/plain": [
              "Read 4163 images in 3684.86 secs\tspeed: 1.20516 file/sec"
            ]
          },
          "metadata": {
            "tags": []
          }
        },
        {
          "output_type": "display_data",
          "data": {
            "text/html": [
              "<pre>Read 4170 images in 3690.38 secs\tspeed: 1.26906 file/sec</pre>"
            ],
            "text/plain": [
              "Read 4170 images in 3690.38 secs\tspeed: 1.26906 file/sec"
            ]
          },
          "metadata": {
            "tags": []
          }
        },
        {
          "output_type": "display_data",
          "data": {
            "text/html": [
              "<pre>Read 4176 images in 3695.45 secs\tspeed: 1.18455 file/sec</pre>"
            ],
            "text/plain": [
              "Read 4176 images in 3695.45 secs\tspeed: 1.18455 file/sec"
            ]
          },
          "metadata": {
            "tags": []
          }
        },
        {
          "output_type": "display_data",
          "data": {
            "text/html": [
              "<pre>Read 4183 images in 3701.07 secs\tspeed: 1.2452 file/sec</pre>"
            ],
            "text/plain": [
              "Read 4183 images in 3701.07 secs\tspeed: 1.2452 file/sec"
            ]
          },
          "metadata": {
            "tags": []
          }
        },
        {
          "output_type": "display_data",
          "data": {
            "text/html": [
              "<pre>Read 4190 images in 3706.49 secs\tspeed: 1.29184 file/sec</pre>"
            ],
            "text/plain": [
              "Read 4190 images in 3706.49 secs\tspeed: 1.29184 file/sec"
            ]
          },
          "metadata": {
            "tags": []
          }
        },
        {
          "output_type": "display_data",
          "data": {
            "text/html": [
              "<pre>Read 4197 images in 3712.27 secs\tspeed: 1.20942 file/sec</pre>"
            ],
            "text/plain": [
              "Read 4197 images in 3712.27 secs\tspeed: 1.20942 file/sec"
            ]
          },
          "metadata": {
            "tags": []
          }
        },
        {
          "output_type": "display_data",
          "data": {
            "text/html": [
              "<pre>Read 4204 images in 3717.96 secs\tspeed: 1.23107 file/sec</pre>"
            ],
            "text/plain": [
              "Read 4204 images in 3717.96 secs\tspeed: 1.23107 file/sec"
            ]
          },
          "metadata": {
            "tags": []
          }
        },
        {
          "output_type": "display_data",
          "data": {
            "text/html": [
              "<pre>Read 4210 images in 3723.49 secs\tspeed: 1.08481 file/sec</pre>"
            ],
            "text/plain": [
              "Read 4210 images in 3723.49 secs\tspeed: 1.08481 file/sec"
            ]
          },
          "metadata": {
            "tags": []
          }
        },
        {
          "output_type": "display_data",
          "data": {
            "text/html": [
              "<pre>Read 4217 images in 3728.98 secs\tspeed: 1.27564 file/sec</pre>"
            ],
            "text/plain": [
              "Read 4217 images in 3728.98 secs\tspeed: 1.27564 file/sec"
            ]
          },
          "metadata": {
            "tags": []
          }
        },
        {
          "output_type": "display_data",
          "data": {
            "text/html": [
              "<pre>Read 4224 images in 3734.39 secs\tspeed: 1.29342 file/sec</pre>"
            ],
            "text/plain": [
              "Read 4224 images in 3734.39 secs\tspeed: 1.29342 file/sec"
            ]
          },
          "metadata": {
            "tags": []
          }
        },
        {
          "output_type": "display_data",
          "data": {
            "text/html": [
              "<pre>Read 4231 images in 3739.83 secs\tspeed: 1.28721 file/sec</pre>"
            ],
            "text/plain": [
              "Read 4231 images in 3739.83 secs\tspeed: 1.28721 file/sec"
            ]
          },
          "metadata": {
            "tags": []
          }
        },
        {
          "output_type": "display_data",
          "data": {
            "text/html": [
              "<pre>Read 4237 images in 3745.19 secs\tspeed: 1.11858 file/sec</pre>"
            ],
            "text/plain": [
              "Read 4237 images in 3745.19 secs\tspeed: 1.11858 file/sec"
            ]
          },
          "metadata": {
            "tags": []
          }
        },
        {
          "output_type": "display_data",
          "data": {
            "text/html": [
              "<pre>Read 4243 images in 3750.59 secs\tspeed: 1.11149 file/sec</pre>"
            ],
            "text/plain": [
              "Read 4243 images in 3750.59 secs\tspeed: 1.11149 file/sec"
            ]
          },
          "metadata": {
            "tags": []
          }
        },
        {
          "output_type": "display_data",
          "data": {
            "text/html": [
              "<pre>Read 4248 images in 3755.96 secs\tspeed: 0.930873 file/sec</pre>"
            ],
            "text/plain": [
              "Read 4248 images in 3755.96 secs\tspeed: 0.930873 file/sec"
            ]
          },
          "metadata": {
            "tags": []
          }
        },
        {
          "output_type": "display_data",
          "data": {
            "text/html": [
              "<pre>Read 4255 images in 3761.63 secs\tspeed: 1.23578 file/sec</pre>"
            ],
            "text/plain": [
              "Read 4255 images in 3761.63 secs\tspeed: 1.23578 file/sec"
            ]
          },
          "metadata": {
            "tags": []
          }
        },
        {
          "output_type": "display_data",
          "data": {
            "text/html": [
              "<pre>Read 4262 images in 3767.35 secs\tspeed: 1.22279 file/sec</pre>"
            ],
            "text/plain": [
              "Read 4262 images in 3767.35 secs\tspeed: 1.22279 file/sec"
            ]
          },
          "metadata": {
            "tags": []
          }
        },
        {
          "output_type": "display_data",
          "data": {
            "text/html": [
              "<pre>Read 4268 images in 3773.09 secs\tspeed: 1.04577 file/sec</pre>"
            ],
            "text/plain": [
              "Read 4268 images in 3773.09 secs\tspeed: 1.04577 file/sec"
            ]
          },
          "metadata": {
            "tags": []
          }
        },
        {
          "output_type": "display_data",
          "data": {
            "text/html": [
              "<pre>Read 4275 images in 3778.83 secs\tspeed: 1.21895 file/sec</pre>"
            ],
            "text/plain": [
              "Read 4275 images in 3778.83 secs\tspeed: 1.21895 file/sec"
            ]
          },
          "metadata": {
            "tags": []
          }
        },
        {
          "output_type": "display_data",
          "data": {
            "text/html": [
              "<pre>Read 4282 images in 3784.67 secs\tspeed: 1.19786 file/sec</pre>"
            ],
            "text/plain": [
              "Read 4282 images in 3784.67 secs\tspeed: 1.19786 file/sec"
            ]
          },
          "metadata": {
            "tags": []
          }
        },
        {
          "output_type": "display_data",
          "data": {
            "text/html": [
              "<pre>Read 4288 images in 3789.74 secs\tspeed: 1.18431 file/sec</pre>"
            ],
            "text/plain": [
              "Read 4288 images in 3789.74 secs\tspeed: 1.18431 file/sec"
            ]
          },
          "metadata": {
            "tags": []
          }
        },
        {
          "output_type": "display_data",
          "data": {
            "text/html": [
              "<pre>Read 4295 images in 3795.21 secs\tspeed: 1.28019 file/sec</pre>"
            ],
            "text/plain": [
              "Read 4295 images in 3795.21 secs\tspeed: 1.28019 file/sec"
            ]
          },
          "metadata": {
            "tags": []
          }
        },
        {
          "output_type": "display_data",
          "data": {
            "text/html": [
              "<pre>Read 4302 images in 3801.39 secs\tspeed: 1.13174 file/sec</pre>"
            ],
            "text/plain": [
              "Read 4302 images in 3801.39 secs\tspeed: 1.13174 file/sec"
            ]
          },
          "metadata": {
            "tags": []
          }
        },
        {
          "output_type": "display_data",
          "data": {
            "text/html": [
              "<pre>Read 4308 images in 3807.78 secs\tspeed: 0.939827 file/sec</pre>"
            ],
            "text/plain": [
              "Read 4308 images in 3807.78 secs\tspeed: 0.939827 file/sec"
            ]
          },
          "metadata": {
            "tags": []
          }
        },
        {
          "output_type": "display_data",
          "data": {
            "text/html": [
              "<pre>Read 4314 images in 3813.22 secs\tspeed: 1.10178 file/sec</pre>"
            ],
            "text/plain": [
              "Read 4314 images in 3813.22 secs\tspeed: 1.10178 file/sec"
            ]
          },
          "metadata": {
            "tags": []
          }
        },
        {
          "output_type": "display_data",
          "data": {
            "text/html": [
              "<pre>Read 4315 images in 3828.11 secs\tspeed: 0.0671703 file/sec</pre>"
            ],
            "text/plain": [
              "Read 4315 images in 3828.11 secs\tspeed: 0.0671703 file/sec"
            ]
          },
          "metadata": {
            "tags": []
          }
        },
        {
          "output_type": "display_data",
          "data": {
            "text/html": [
              "<pre>Read 4319 images in 3844.74 secs\tspeed: 0.240541 file/sec</pre>"
            ],
            "text/plain": [
              "Read 4319 images in 3844.74 secs\tspeed: 0.240541 file/sec"
            ]
          },
          "metadata": {
            "tags": []
          }
        },
        {
          "output_type": "display_data",
          "data": {
            "text/html": [
              "<pre>Read 4324 images in 3850.21 secs\tspeed: 0.914628 file/sec</pre>"
            ],
            "text/plain": [
              "Read 4324 images in 3850.21 secs\tspeed: 0.914628 file/sec"
            ]
          },
          "metadata": {
            "tags": []
          }
        },
        {
          "output_type": "display_data",
          "data": {
            "text/html": [
              "<pre>Read 4330 images in 3855.5 secs\tspeed: 1.13292 file/sec</pre>"
            ],
            "text/plain": [
              "Read 4330 images in 3855.5 secs\tspeed: 1.13292 file/sec"
            ]
          },
          "metadata": {
            "tags": []
          }
        },
        {
          "output_type": "display_data",
          "data": {
            "text/html": [
              "<pre>Read 4335 images in 3860.5 secs\tspeed: 0.999821 file/sec</pre>"
            ],
            "text/plain": [
              "Read 4335 images in 3860.5 secs\tspeed: 0.999821 file/sec"
            ]
          },
          "metadata": {
            "tags": []
          }
        },
        {
          "output_type": "display_data",
          "data": {
            "text/html": [
              "<pre>Read 4341 images in 3865.53 secs\tspeed: 1.1948 file/sec</pre>"
            ],
            "text/plain": [
              "Read 4341 images in 3865.53 secs\tspeed: 1.1948 file/sec"
            ]
          },
          "metadata": {
            "tags": []
          }
        },
        {
          "output_type": "display_data",
          "data": {
            "text/html": [
              "<pre>Read 4347 images in 3871.14 secs\tspeed: 1.06921 file/sec</pre>"
            ],
            "text/plain": [
              "Read 4347 images in 3871.14 secs\tspeed: 1.06921 file/sec"
            ]
          },
          "metadata": {
            "tags": []
          }
        },
        {
          "output_type": "display_data",
          "data": {
            "text/html": [
              "<pre>Read 4352 images in 3876.43 secs\tspeed: 0.944098 file/sec</pre>"
            ],
            "text/plain": [
              "Read 4352 images in 3876.43 secs\tspeed: 0.944098 file/sec"
            ]
          },
          "metadata": {
            "tags": []
          }
        },
        {
          "output_type": "display_data",
          "data": {
            "text/html": [
              "<pre>Read 4358 images in 3882.07 secs\tspeed: 1.06439 file/sec</pre>"
            ],
            "text/plain": [
              "Read 4358 images in 3882.07 secs\tspeed: 1.06439 file/sec"
            ]
          },
          "metadata": {
            "tags": []
          }
        },
        {
          "output_type": "display_data",
          "data": {
            "text/html": [
              "<pre>Read 4363 images in 3888.4 secs\tspeed: 0.789526 file/sec</pre>"
            ],
            "text/plain": [
              "Read 4363 images in 3888.4 secs\tspeed: 0.789526 file/sec"
            ]
          },
          "metadata": {
            "tags": []
          }
        },
        {
          "output_type": "display_data",
          "data": {
            "text/html": [
              "<pre>Read 4368 images in 3894.14 secs\tspeed: 0.872104 file/sec</pre>"
            ],
            "text/plain": [
              "Read 4368 images in 3894.14 secs\tspeed: 0.872104 file/sec"
            ]
          },
          "metadata": {
            "tags": []
          }
        },
        {
          "output_type": "display_data",
          "data": {
            "text/html": [
              "<pre>Read 4373 images in 3900.87 secs\tspeed: 0.742406 file/sec</pre>"
            ],
            "text/plain": [
              "Read 4373 images in 3900.87 secs\tspeed: 0.742406 file/sec"
            ]
          },
          "metadata": {
            "tags": []
          }
        },
        {
          "output_type": "display_data",
          "data": {
            "text/html": [
              "<pre>Read 4378 images in 3907.26 secs\tspeed: 0.782513 file/sec</pre>"
            ],
            "text/plain": [
              "Read 4378 images in 3907.26 secs\tspeed: 0.782513 file/sec"
            ]
          },
          "metadata": {
            "tags": []
          }
        },
        {
          "output_type": "display_data",
          "data": {
            "text/html": [
              "<pre>Read 4384 images in 3912.49 secs\tspeed: 1.14791 file/sec</pre>"
            ],
            "text/plain": [
              "Read 4384 images in 3912.49 secs\tspeed: 1.14791 file/sec"
            ]
          },
          "metadata": {
            "tags": []
          }
        },
        {
          "output_type": "display_data",
          "data": {
            "text/html": [
              "<pre>Read 4390 images in 3918.83 secs\tspeed: 0.945712 file/sec</pre>"
            ],
            "text/plain": [
              "Read 4390 images in 3918.83 secs\tspeed: 0.945712 file/sec"
            ]
          },
          "metadata": {
            "tags": []
          }
        },
        {
          "output_type": "display_data",
          "data": {
            "text/html": [
              "<pre>Read 4397 images in 3924.53 secs\tspeed: 1.22813 file/sec</pre>"
            ],
            "text/plain": [
              "Read 4397 images in 3924.53 secs\tspeed: 1.22813 file/sec"
            ]
          },
          "metadata": {
            "tags": []
          }
        },
        {
          "output_type": "display_data",
          "data": {
            "text/html": [
              "<pre>Read 4403 images in 3930.44 secs\tspeed: 1.01637 file/sec</pre>"
            ],
            "text/plain": [
              "Read 4403 images in 3930.44 secs\tspeed: 1.01637 file/sec"
            ]
          },
          "metadata": {
            "tags": []
          }
        },
        {
          "output_type": "display_data",
          "data": {
            "text/html": [
              "<pre>Read 4407 images in 3936.37 secs\tspeed: 0.674478 file/sec</pre>"
            ],
            "text/plain": [
              "Read 4407 images in 3936.37 secs\tspeed: 0.674478 file/sec"
            ]
          },
          "metadata": {
            "tags": []
          }
        },
        {
          "output_type": "display_data",
          "data": {
            "text/html": [
              "<pre>Read 4411 images in 3941.51 secs\tspeed: 0.777722 file/sec</pre>"
            ],
            "text/plain": [
              "Read 4411 images in 3941.51 secs\tspeed: 0.777722 file/sec"
            ]
          },
          "metadata": {
            "tags": []
          }
        },
        {
          "output_type": "display_data",
          "data": {
            "text/html": [
              "<pre>Read 4415 images in 3965.77 secs\tspeed: 0.164875 file/sec</pre>"
            ],
            "text/plain": [
              "Read 4415 images in 3965.77 secs\tspeed: 0.164875 file/sec"
            ]
          },
          "metadata": {
            "tags": []
          }
        },
        {
          "output_type": "display_data",
          "data": {
            "text/html": [
              "<pre>Read 4421 images in 3971.48 secs\tspeed: 1.05017 file/sec</pre>"
            ],
            "text/plain": [
              "Read 4421 images in 3971.48 secs\tspeed: 1.05017 file/sec"
            ]
          },
          "metadata": {
            "tags": []
          }
        },
        {
          "output_type": "display_data",
          "data": {
            "text/html": [
              "<pre>Read 4425 images in 3987.54 secs\tspeed: 0.249107 file/sec</pre>"
            ],
            "text/plain": [
              "Read 4425 images in 3987.54 secs\tspeed: 0.249107 file/sec"
            ]
          },
          "metadata": {
            "tags": []
          }
        },
        {
          "output_type": "display_data",
          "data": {
            "text/html": [
              "<pre>Read 4431 images in 3993.59 secs\tspeed: 0.992073 file/sec</pre>"
            ],
            "text/plain": [
              "Read 4431 images in 3993.59 secs\tspeed: 0.992073 file/sec"
            ]
          },
          "metadata": {
            "tags": []
          }
        },
        {
          "output_type": "display_data",
          "data": {
            "text/html": [
              "<pre>Read 4434 images in 3998.66 secs\tspeed: 0.591475 file/sec</pre>"
            ],
            "text/plain": [
              "Read 4434 images in 3998.66 secs\tspeed: 0.591475 file/sec"
            ]
          },
          "metadata": {
            "tags": []
          }
        },
        {
          "output_type": "display_data",
          "data": {
            "text/html": [
              "<pre>Read 4440 images in 4004.05 secs\tspeed: 1.11354 file/sec</pre>"
            ],
            "text/plain": [
              "Read 4440 images in 4004.05 secs\tspeed: 1.11354 file/sec"
            ]
          },
          "metadata": {
            "tags": []
          }
        },
        {
          "output_type": "display_data",
          "data": {
            "text/html": [
              "<pre>Read 4446 images in 4009.39 secs\tspeed: 1.12433 file/sec</pre>"
            ],
            "text/plain": [
              "Read 4446 images in 4009.39 secs\tspeed: 1.12433 file/sec"
            ]
          },
          "metadata": {
            "tags": []
          }
        },
        {
          "output_type": "display_data",
          "data": {
            "text/html": [
              "<pre>Read 4450 images in 4017.98 secs\tspeed: 0.465678 file/sec</pre>"
            ],
            "text/plain": [
              "Read 4450 images in 4017.98 secs\tspeed: 0.465678 file/sec"
            ]
          },
          "metadata": {
            "tags": []
          }
        },
        {
          "output_type": "display_data",
          "data": {
            "text/html": [
              "<pre>Read 4456 images in 4023.51 secs\tspeed: 1.08501 file/sec</pre>"
            ],
            "text/plain": [
              "Read 4456 images in 4023.51 secs\tspeed: 1.08501 file/sec"
            ]
          },
          "metadata": {
            "tags": []
          }
        },
        {
          "output_type": "display_data",
          "data": {
            "text/html": [
              "<pre>Read 4460 images in 4028.51 secs\tspeed: 0.799073 file/sec</pre>"
            ],
            "text/plain": [
              "Read 4460 images in 4028.51 secs\tspeed: 0.799073 file/sec"
            ]
          },
          "metadata": {
            "tags": []
          }
        },
        {
          "output_type": "display_data",
          "data": {
            "text/html": [
              "<pre>Read 4462 images in 4034.51 secs\tspeed: 0.333424 file/sec</pre>"
            ],
            "text/plain": [
              "Read 4462 images in 4034.51 secs\tspeed: 0.333424 file/sec"
            ]
          },
          "metadata": {
            "tags": []
          }
        },
        {
          "output_type": "display_data",
          "data": {
            "text/html": [
              "<pre>Read 4467 images in 4039.82 secs\tspeed: 0.941755 file/sec</pre>"
            ],
            "text/plain": [
              "Read 4467 images in 4039.82 secs\tspeed: 0.941755 file/sec"
            ]
          },
          "metadata": {
            "tags": []
          }
        },
        {
          "output_type": "display_data",
          "data": {
            "text/html": [
              "<pre>Read 4472 images in 4045.08 secs\tspeed: 0.950265 file/sec</pre>"
            ],
            "text/plain": [
              "Read 4472 images in 4045.08 secs\tspeed: 0.950265 file/sec"
            ]
          },
          "metadata": {
            "tags": []
          }
        },
        {
          "output_type": "display_data",
          "data": {
            "text/html": [
              "<pre>Read 4473 images in 4054.1 secs\tspeed: 0.11085 file/sec</pre>"
            ],
            "text/plain": [
              "Read 4473 images in 4054.1 secs\tspeed: 0.11085 file/sec"
            ]
          },
          "metadata": {
            "tags": []
          }
        },
        {
          "output_type": "display_data",
          "data": {
            "text/html": [
              "<pre>Read 4478 images in 4059.11 secs\tspeed: 0.998464 file/sec</pre>"
            ],
            "text/plain": [
              "Read 4478 images in 4059.11 secs\tspeed: 0.998464 file/sec"
            ]
          },
          "metadata": {
            "tags": []
          }
        },
        {
          "output_type": "display_data",
          "data": {
            "text/html": [
              "<pre>Read 4483 images in 4064.59 secs\tspeed: 0.912963 file/sec</pre>"
            ],
            "text/plain": [
              "Read 4483 images in 4064.59 secs\tspeed: 0.912963 file/sec"
            ]
          },
          "metadata": {
            "tags": []
          }
        },
        {
          "output_type": "display_data",
          "data": {
            "text/html": [
              "<pre>Read 4489 images in 4070.01 secs\tspeed: 1.10661 file/sec</pre>"
            ],
            "text/plain": [
              "Read 4489 images in 4070.01 secs\tspeed: 1.10661 file/sec"
            ]
          },
          "metadata": {
            "tags": []
          }
        },
        {
          "output_type": "display_data",
          "data": {
            "text/html": [
              "<pre>Read 4494 images in 4075.1 secs\tspeed: 0.98194 file/sec</pre>"
            ],
            "text/plain": [
              "Read 4494 images in 4075.1 secs\tspeed: 0.98194 file/sec"
            ]
          },
          "metadata": {
            "tags": []
          }
        },
        {
          "output_type": "display_data",
          "data": {
            "text/html": [
              "<pre>Read 4500 images in 4080.32 secs\tspeed: 1.14952 file/sec</pre>"
            ],
            "text/plain": [
              "Read 4500 images in 4080.32 secs\tspeed: 1.14952 file/sec"
            ]
          },
          "metadata": {
            "tags": []
          }
        },
        {
          "output_type": "display_data",
          "data": {
            "text/html": [
              "<pre>Read 4502 images in 4093.09 secs\tspeed: 0.156572 file/sec</pre>"
            ],
            "text/plain": [
              "Read 4502 images in 4093.09 secs\tspeed: 0.156572 file/sec"
            ]
          },
          "metadata": {
            "tags": []
          }
        },
        {
          "output_type": "display_data",
          "data": {
            "text/html": [
              "<pre>Read 4507 images in 4098.43 secs\tspeed: 0.937272 file/sec</pre>"
            ],
            "text/plain": [
              "Read 4507 images in 4098.43 secs\tspeed: 0.937272 file/sec"
            ]
          },
          "metadata": {
            "tags": []
          }
        },
        {
          "output_type": "display_data",
          "data": {
            "text/html": [
              "<pre>Read 4513 images in 4103.95 secs\tspeed: 1.08602 file/sec</pre>"
            ],
            "text/plain": [
              "Read 4513 images in 4103.95 secs\tspeed: 1.08602 file/sec"
            ]
          },
          "metadata": {
            "tags": []
          }
        },
        {
          "output_type": "display_data",
          "data": {
            "text/html": [
              "<pre>Read 4519 images in 4109.69 secs\tspeed: 1.04504 file/sec</pre>"
            ],
            "text/plain": [
              "Read 4519 images in 4109.69 secs\tspeed: 1.04504 file/sec"
            ]
          },
          "metadata": {
            "tags": []
          }
        },
        {
          "output_type": "display_data",
          "data": {
            "text/html": [
              "<pre>Read 4525 images in 4115.15 secs\tspeed: 1.09957 file/sec</pre>"
            ],
            "text/plain": [
              "Read 4525 images in 4115.15 secs\tspeed: 1.09957 file/sec"
            ]
          },
          "metadata": {
            "tags": []
          }
        },
        {
          "output_type": "display_data",
          "data": {
            "text/html": [
              "<pre>Read 4532 images in 4120.83 secs\tspeed: 1.23325 file/sec</pre>"
            ],
            "text/plain": [
              "Read 4532 images in 4120.83 secs\tspeed: 1.23325 file/sec"
            ]
          },
          "metadata": {
            "tags": []
          }
        },
        {
          "output_type": "display_data",
          "data": {
            "text/html": [
              "<pre>Read 4538 images in 4125.92 secs\tspeed: 1.17912 file/sec</pre>"
            ],
            "text/plain": [
              "Read 4538 images in 4125.92 secs\tspeed: 1.17912 file/sec"
            ]
          },
          "metadata": {
            "tags": []
          }
        },
        {
          "output_type": "display_data",
          "data": {
            "text/html": [
              "<pre>Read 4544 images in 4131.29 secs\tspeed: 1.11732 file/sec</pre>"
            ],
            "text/plain": [
              "Read 4544 images in 4131.29 secs\tspeed: 1.11732 file/sec"
            ]
          },
          "metadata": {
            "tags": []
          }
        },
        {
          "output_type": "display_data",
          "data": {
            "text/html": [
              "<pre>Read 4550 images in 4136.49 secs\tspeed: 1.15344 file/sec</pre>"
            ],
            "text/plain": [
              "Read 4550 images in 4136.49 secs\tspeed: 1.15344 file/sec"
            ]
          },
          "metadata": {
            "tags": []
          }
        },
        {
          "output_type": "display_data",
          "data": {
            "text/html": [
              "<pre>Read 4556 images in 4141.93 secs\tspeed: 1.10138 file/sec</pre>"
            ],
            "text/plain": [
              "Read 4556 images in 4141.93 secs\tspeed: 1.10138 file/sec"
            ]
          },
          "metadata": {
            "tags": []
          }
        },
        {
          "output_type": "display_data",
          "data": {
            "text/html": [
              "<pre>Read 4561 images in 4148.29 secs\tspeed: 0.786782 file/sec</pre>"
            ],
            "text/plain": [
              "Read 4561 images in 4148.29 secs\tspeed: 0.786782 file/sec"
            ]
          },
          "metadata": {
            "tags": []
          }
        },
        {
          "output_type": "display_data",
          "data": {
            "text/html": [
              "<pre>Read 4568 images in 4154.67 secs\tspeed: 1.09796 file/sec</pre>"
            ],
            "text/plain": [
              "Read 4568 images in 4154.67 secs\tspeed: 1.09796 file/sec"
            ]
          },
          "metadata": {
            "tags": []
          }
        },
        {
          "output_type": "display_data",
          "data": {
            "text/html": [
              "<pre>Read 4572 images in 4159.91 secs\tspeed: 0.762161 file/sec</pre>"
            ],
            "text/plain": [
              "Read 4572 images in 4159.91 secs\tspeed: 0.762161 file/sec"
            ]
          },
          "metadata": {
            "tags": []
          }
        },
        {
          "output_type": "display_data",
          "data": {
            "text/html": [
              "<pre>Read 4578 images in 4165.22 secs\tspeed: 1.13037 file/sec</pre>"
            ],
            "text/plain": [
              "Read 4578 images in 4165.22 secs\tspeed: 1.13037 file/sec"
            ]
          },
          "metadata": {
            "tags": []
          }
        },
        {
          "output_type": "display_data",
          "data": {
            "text/html": [
              "<pre>Read 4584 images in 4170.25 secs\tspeed: 1.19338 file/sec</pre>"
            ],
            "text/plain": [
              "Read 4584 images in 4170.25 secs\tspeed: 1.19338 file/sec"
            ]
          },
          "metadata": {
            "tags": []
          }
        },
        {
          "output_type": "display_data",
          "data": {
            "text/html": [
              "<pre>Read 4590 images in 4175.76 secs\tspeed: 1.08966 file/sec</pre>"
            ],
            "text/plain": [
              "Read 4590 images in 4175.76 secs\tspeed: 1.08966 file/sec"
            ]
          },
          "metadata": {
            "tags": []
          }
        },
        {
          "output_type": "display_data",
          "data": {
            "text/html": [
              "<pre>Read 4597 images in 4181.37 secs\tspeed: 1.24585 file/sec</pre>"
            ],
            "text/plain": [
              "Read 4597 images in 4181.37 secs\tspeed: 1.24585 file/sec"
            ]
          },
          "metadata": {
            "tags": []
          }
        },
        {
          "output_type": "display_data",
          "data": {
            "text/html": [
              "<pre>Read 4603 images in 4186.42 secs\tspeed: 1.18827 file/sec</pre>"
            ],
            "text/plain": [
              "Read 4603 images in 4186.42 secs\tspeed: 1.18827 file/sec"
            ]
          },
          "metadata": {
            "tags": []
          }
        },
        {
          "output_type": "display_data",
          "data": {
            "text/html": [
              "<pre>Read 4609 images in 4191.65 secs\tspeed: 1.14841 file/sec</pre>"
            ],
            "text/plain": [
              "Read 4609 images in 4191.65 secs\tspeed: 1.14841 file/sec"
            ]
          },
          "metadata": {
            "tags": []
          }
        },
        {
          "output_type": "display_data",
          "data": {
            "text/html": [
              "<pre>Read 4614 images in 4197.46 secs\tspeed: 0.860652 file/sec</pre>"
            ],
            "text/plain": [
              "Read 4614 images in 4197.46 secs\tspeed: 0.860652 file/sec"
            ]
          },
          "metadata": {
            "tags": []
          }
        },
        {
          "output_type": "display_data",
          "data": {
            "text/html": [
              "<pre>Read 4620 images in 4203.28 secs\tspeed: 1.03132 file/sec</pre>"
            ],
            "text/plain": [
              "Read 4620 images in 4203.28 secs\tspeed: 1.03132 file/sec"
            ]
          },
          "metadata": {
            "tags": []
          }
        },
        {
          "output_type": "display_data",
          "data": {
            "text/html": [
              "<pre>Read 4625 images in 4208.64 secs\tspeed: 0.932065 file/sec</pre>"
            ],
            "text/plain": [
              "Read 4625 images in 4208.64 secs\tspeed: 0.932065 file/sec"
            ]
          },
          "metadata": {
            "tags": []
          }
        },
        {
          "output_type": "display_data",
          "data": {
            "text/html": [
              "<pre>Read 4628 images in 4213.8 secs\tspeed: 0.58192 file/sec</pre>"
            ],
            "text/plain": [
              "Read 4628 images in 4213.8 secs\tspeed: 0.58192 file/sec"
            ]
          },
          "metadata": {
            "tags": []
          }
        },
        {
          "output_type": "display_data",
          "data": {
            "text/html": [
              "<pre>Read 4633 images in 4219.35 secs\tspeed: 0.900392 file/sec</pre>"
            ],
            "text/plain": [
              "Read 4633 images in 4219.35 secs\tspeed: 0.900392 file/sec"
            ]
          },
          "metadata": {
            "tags": []
          }
        },
        {
          "output_type": "display_data",
          "data": {
            "text/html": [
              "<pre>Read 4638 images in 4224.59 secs\tspeed: 0.954435 file/sec</pre>"
            ],
            "text/plain": [
              "Read 4638 images in 4224.59 secs\tspeed: 0.954435 file/sec"
            ]
          },
          "metadata": {
            "tags": []
          }
        },
        {
          "output_type": "display_data",
          "data": {
            "text/html": [
              "<pre>Read 4643 images in 4229.72 secs\tspeed: 0.974617 file/sec</pre>"
            ],
            "text/plain": [
              "Read 4643 images in 4229.72 secs\tspeed: 0.974617 file/sec"
            ]
          },
          "metadata": {
            "tags": []
          }
        },
        {
          "output_type": "display_data",
          "data": {
            "text/html": [
              "<pre>Read 4648 images in 4234.85 secs\tspeed: 0.973553 file/sec</pre>"
            ],
            "text/plain": [
              "Read 4648 images in 4234.85 secs\tspeed: 0.973553 file/sec"
            ]
          },
          "metadata": {
            "tags": []
          }
        },
        {
          "output_type": "display_data",
          "data": {
            "text/html": [
              "<pre>Read 4654 images in 4239.86 secs\tspeed: 1.19823 file/sec</pre>"
            ],
            "text/plain": [
              "Read 4654 images in 4239.86 secs\tspeed: 1.19823 file/sec"
            ]
          },
          "metadata": {
            "tags": []
          }
        },
        {
          "output_type": "display_data",
          "data": {
            "text/html": [
              "<pre>Read 4660 images in 4245.13 secs\tspeed: 1.13753 file/sec</pre>"
            ],
            "text/plain": [
              "Read 4660 images in 4245.13 secs\tspeed: 1.13753 file/sec"
            ]
          },
          "metadata": {
            "tags": []
          }
        },
        {
          "output_type": "display_data",
          "data": {
            "text/html": [
              "<pre>Read 4665 images in 4250.14 secs\tspeed: 0.999571 file/sec</pre>"
            ],
            "text/plain": [
              "Read 4665 images in 4250.14 secs\tspeed: 0.999571 file/sec"
            ]
          },
          "metadata": {
            "tags": []
          }
        },
        {
          "output_type": "display_data",
          "data": {
            "text/html": [
              "<pre>Read 4672 images in 4255.73 secs\tspeed: 1.25157 file/sec</pre>"
            ],
            "text/plain": [
              "Read 4672 images in 4255.73 secs\tspeed: 1.25157 file/sec"
            ]
          },
          "metadata": {
            "tags": []
          }
        },
        {
          "output_type": "display_data",
          "data": {
            "text/html": [
              "<pre>Read 4678 images in 4260.9 secs\tspeed: 1.16132 file/sec</pre>"
            ],
            "text/plain": [
              "Read 4678 images in 4260.9 secs\tspeed: 1.16132 file/sec"
            ]
          },
          "metadata": {
            "tags": []
          }
        },
        {
          "output_type": "display_data",
          "data": {
            "text/html": [
              "<pre>Read 4683 images in 4266.06 secs\tspeed: 0.967428 file/sec</pre>"
            ],
            "text/plain": [
              "Read 4683 images in 4266.06 secs\tspeed: 0.967428 file/sec"
            ]
          },
          "metadata": {
            "tags": []
          }
        },
        {
          "output_type": "display_data",
          "data": {
            "text/html": [
              "<pre>Read 4690 images in 4271.83 secs\tspeed: 1.21374 file/sec</pre>"
            ],
            "text/plain": [
              "Read 4690 images in 4271.83 secs\tspeed: 1.21374 file/sec"
            ]
          },
          "metadata": {
            "tags": []
          }
        },
        {
          "output_type": "display_data",
          "data": {
            "text/html": [
              "<pre>Read 4696 images in 4277.19 secs\tspeed: 1.12052 file/sec</pre>"
            ],
            "text/plain": [
              "Read 4696 images in 4277.19 secs\tspeed: 1.12052 file/sec"
            ]
          },
          "metadata": {
            "tags": []
          }
        },
        {
          "output_type": "display_data",
          "data": {
            "text/html": [
              "<pre>Read 4698 images in 4283.43 secs\tspeed: 0.320525 file/sec</pre>"
            ],
            "text/plain": [
              "Read 4698 images in 4283.43 secs\tspeed: 0.320525 file/sec"
            ]
          },
          "metadata": {
            "tags": []
          }
        },
        {
          "output_type": "display_data",
          "data": {
            "text/html": [
              "<pre>Read 4703 images in 4289.12 secs\tspeed: 0.878798 file/sec</pre>"
            ],
            "text/plain": [
              "Read 4703 images in 4289.12 secs\tspeed: 0.878798 file/sec"
            ]
          },
          "metadata": {
            "tags": []
          }
        },
        {
          "output_type": "display_data",
          "data": {
            "text/html": [
              "<pre>Read 4709 images in 4295.28 secs\tspeed: 0.973118 file/sec</pre>"
            ],
            "text/plain": [
              "Read 4709 images in 4295.28 secs\tspeed: 0.973118 file/sec"
            ]
          },
          "metadata": {
            "tags": []
          }
        },
        {
          "output_type": "display_data",
          "data": {
            "text/html": [
              "<pre>Read 4714 images in 4303.12 secs\tspeed: 0.637758 file/sec</pre>"
            ],
            "text/plain": [
              "Read 4714 images in 4303.12 secs\tspeed: 0.637758 file/sec"
            ]
          },
          "metadata": {
            "tags": []
          }
        },
        {
          "output_type": "display_data",
          "data": {
            "text/html": [
              "<pre>Read 4715 images in 4309.88 secs\tspeed: 0.147994 file/sec</pre>"
            ],
            "text/plain": [
              "Read 4715 images in 4309.88 secs\tspeed: 0.147994 file/sec"
            ]
          },
          "metadata": {
            "tags": []
          }
        },
        {
          "output_type": "display_data",
          "data": {
            "text/html": [
              "<pre>Read 4721 images in 4315.33 secs\tspeed: 1.1014 file/sec</pre>"
            ],
            "text/plain": [
              "Read 4721 images in 4315.33 secs\tspeed: 1.1014 file/sec"
            ]
          },
          "metadata": {
            "tags": []
          }
        },
        {
          "output_type": "display_data",
          "data": {
            "text/html": [
              "<pre>Read 4728 images in 4321.02 secs\tspeed: 1.22863 file/sec</pre>"
            ],
            "text/plain": [
              "Read 4728 images in 4321.02 secs\tspeed: 1.22863 file/sec"
            ]
          },
          "metadata": {
            "tags": []
          }
        },
        {
          "output_type": "display_data",
          "data": {
            "text/html": [
              "<pre>Read 4734 images in 4326.47 secs\tspeed: 1.10173 file/sec</pre>"
            ],
            "text/plain": [
              "Read 4734 images in 4326.47 secs\tspeed: 1.10173 file/sec"
            ]
          },
          "metadata": {
            "tags": []
          }
        },
        {
          "output_type": "display_data",
          "data": {
            "text/html": [
              "<pre>Read 4740 images in 4331.84 secs\tspeed: 1.11822 file/sec</pre>"
            ],
            "text/plain": [
              "Read 4740 images in 4331.84 secs\tspeed: 1.11822 file/sec"
            ]
          },
          "metadata": {
            "tags": []
          }
        },
        {
          "output_type": "display_data",
          "data": {
            "text/html": [
              "<pre>Read 4746 images in 4337.34 secs\tspeed: 1.08961 file/sec</pre>"
            ],
            "text/plain": [
              "Read 4746 images in 4337.34 secs\tspeed: 1.08961 file/sec"
            ]
          },
          "metadata": {
            "tags": []
          }
        },
        {
          "output_type": "display_data",
          "data": {
            "text/html": [
              "<pre>Read 4752 images in 4342.77 secs\tspeed: 1.10595 file/sec</pre>"
            ],
            "text/plain": [
              "Read 4752 images in 4342.77 secs\tspeed: 1.10595 file/sec"
            ]
          },
          "metadata": {
            "tags": []
          }
        },
        {
          "output_type": "display_data",
          "data": {
            "text/html": [
              "<pre>Read 4757 images in 4348.1 secs\tspeed: 0.938173 file/sec</pre>"
            ],
            "text/plain": [
              "Read 4757 images in 4348.1 secs\tspeed: 0.938173 file/sec"
            ]
          },
          "metadata": {
            "tags": []
          }
        },
        {
          "output_type": "display_data",
          "data": {
            "text/html": [
              "<pre>Read 4764 images in 4353.82 secs\tspeed: 1.22244 file/sec</pre>"
            ],
            "text/plain": [
              "Read 4764 images in 4353.82 secs\tspeed: 1.22244 file/sec"
            ]
          },
          "metadata": {
            "tags": []
          }
        },
        {
          "output_type": "display_data",
          "data": {
            "text/html": [
              "<pre>Read 4770 images in 4359.49 secs\tspeed: 1.05794 file/sec</pre>"
            ],
            "text/plain": [
              "Read 4770 images in 4359.49 secs\tspeed: 1.05794 file/sec"
            ]
          },
          "metadata": {
            "tags": []
          }
        },
        {
          "output_type": "display_data",
          "data": {
            "text/html": [
              "<pre>Read 4776 images in 4365.21 secs\tspeed: 1.05036 file/sec</pre>"
            ],
            "text/plain": [
              "Read 4776 images in 4365.21 secs\tspeed: 1.05036 file/sec"
            ]
          },
          "metadata": {
            "tags": []
          }
        },
        {
          "output_type": "display_data",
          "data": {
            "text/html": [
              "<pre>Read 4782 images in 4370.87 secs\tspeed: 1.05909 file/sec</pre>"
            ],
            "text/plain": [
              "Read 4782 images in 4370.87 secs\tspeed: 1.05909 file/sec"
            ]
          },
          "metadata": {
            "tags": []
          }
        },
        {
          "output_type": "display_data",
          "data": {
            "text/html": [
              "<pre>Read 4787 images in 4384.85 secs\tspeed: 0.35772 file/sec</pre>"
            ],
            "text/plain": [
              "Read 4787 images in 4384.85 secs\tspeed: 0.35772 file/sec"
            ]
          },
          "metadata": {
            "tags": []
          }
        },
        {
          "output_type": "display_data",
          "data": {
            "text/html": [
              "<pre>Read 4791 images in 4390.76 secs\tspeed: 0.677235 file/sec</pre>"
            ],
            "text/plain": [
              "Read 4791 images in 4390.76 secs\tspeed: 0.677235 file/sec"
            ]
          },
          "metadata": {
            "tags": []
          }
        },
        {
          "output_type": "display_data",
          "data": {
            "text/html": [
              "<pre>Read 4797 images in 4396.2 secs\tspeed: 1.10112 file/sec</pre>"
            ],
            "text/plain": [
              "Read 4797 images in 4396.2 secs\tspeed: 1.10112 file/sec"
            ]
          },
          "metadata": {
            "tags": []
          }
        },
        {
          "output_type": "display_data",
          "data": {
            "text/html": [
              "<pre>Read 4804 images in 4401.88 secs\tspeed: 1.23284 file/sec</pre>"
            ],
            "text/plain": [
              "Read 4804 images in 4401.88 secs\tspeed: 1.23284 file/sec"
            ]
          },
          "metadata": {
            "tags": []
          }
        },
        {
          "output_type": "display_data",
          "data": {
            "text/html": [
              "<pre>Read 4807 images in 4414.53 secs\tspeed: 0.237231 file/sec</pre>"
            ],
            "text/plain": [
              "Read 4807 images in 4414.53 secs\tspeed: 0.237231 file/sec"
            ]
          },
          "metadata": {
            "tags": []
          }
        },
        {
          "output_type": "display_data",
          "data": {
            "text/html": [
              "<pre>Read 4813 images in 4419.88 secs\tspeed: 1.12089 file/sec</pre>"
            ],
            "text/plain": [
              "Read 4813 images in 4419.88 secs\tspeed: 1.12089 file/sec"
            ]
          },
          "metadata": {
            "tags": []
          }
        },
        {
          "output_type": "display_data",
          "data": {
            "text/html": [
              "<pre>Read 4819 images in 4425.09 secs\tspeed: 1.15119 file/sec</pre>"
            ],
            "text/plain": [
              "Read 4819 images in 4425.09 secs\tspeed: 1.15119 file/sec"
            ]
          },
          "metadata": {
            "tags": []
          }
        },
        {
          "output_type": "display_data",
          "data": {
            "text/html": [
              "<pre>Read 4825 images in 4430.31 secs\tspeed: 1.14977 file/sec</pre>"
            ],
            "text/plain": [
              "Read 4825 images in 4430.31 secs\tspeed: 1.14977 file/sec"
            ]
          },
          "metadata": {
            "tags": []
          }
        },
        {
          "output_type": "display_data",
          "data": {
            "text/html": [
              "<pre>Read 4831 images in 4435.7 secs\tspeed: 1.11402 file/sec</pre>"
            ],
            "text/plain": [
              "Read 4831 images in 4435.7 secs\tspeed: 1.11402 file/sec"
            ]
          },
          "metadata": {
            "tags": []
          }
        },
        {
          "output_type": "display_data",
          "data": {
            "text/html": [
              "<pre>Read 4838 images in 4442.02 secs\tspeed: 1.10673 file/sec</pre>"
            ],
            "text/plain": [
              "Read 4838 images in 4442.02 secs\tspeed: 1.10673 file/sec"
            ]
          },
          "metadata": {
            "tags": []
          }
        },
        {
          "output_type": "display_data",
          "data": {
            "text/html": [
              "<pre>Read 4844 images in 4447.38 secs\tspeed: 1.12047 file/sec</pre>"
            ],
            "text/plain": [
              "Read 4844 images in 4447.38 secs\tspeed: 1.12047 file/sec"
            ]
          },
          "metadata": {
            "tags": []
          }
        },
        {
          "output_type": "display_data",
          "data": {
            "text/html": [
              "<pre>Read 4851 images in 4452.89 secs\tspeed: 1.26962 file/sec</pre>"
            ],
            "text/plain": [
              "Read 4851 images in 4452.89 secs\tspeed: 1.26962 file/sec"
            ]
          },
          "metadata": {
            "tags": []
          }
        },
        {
          "output_type": "display_data",
          "data": {
            "text/html": [
              "<pre>Read 4857 images in 4458.46 secs\tspeed: 1.07697 file/sec</pre>"
            ],
            "text/plain": [
              "Read 4857 images in 4458.46 secs\tspeed: 1.07697 file/sec"
            ]
          },
          "metadata": {
            "tags": []
          }
        },
        {
          "output_type": "display_data",
          "data": {
            "text/html": [
              "<pre>Read 4862 images in 4466.38 secs\tspeed: 0.631229 file/sec</pre>"
            ],
            "text/plain": [
              "Read 4862 images in 4466.38 secs\tspeed: 0.631229 file/sec"
            ]
          },
          "metadata": {
            "tags": []
          }
        },
        {
          "output_type": "display_data",
          "data": {
            "text/html": [
              "<pre>Read 4864 images in 4471.69 secs\tspeed: 0.377182 file/sec</pre>"
            ],
            "text/plain": [
              "Read 4864 images in 4471.69 secs\tspeed: 0.377182 file/sec"
            ]
          },
          "metadata": {
            "tags": []
          }
        },
        {
          "output_type": "display_data",
          "data": {
            "text/html": [
              "<pre>Read 4870 images in 4477.02 secs\tspeed: 1.12539 file/sec</pre>"
            ],
            "text/plain": [
              "Read 4870 images in 4477.02 secs\tspeed: 1.12539 file/sec"
            ]
          },
          "metadata": {
            "tags": []
          }
        },
        {
          "output_type": "display_data",
          "data": {
            "text/html": [
              "<pre>Read 4876 images in 4483.16 secs\tspeed: 0.976532 file/sec</pre>"
            ],
            "text/plain": [
              "Read 4876 images in 4483.16 secs\tspeed: 0.976532 file/sec"
            ]
          },
          "metadata": {
            "tags": []
          }
        },
        {
          "output_type": "display_data",
          "data": {
            "text/html": [
              "<pre>Read 4882 images in 4489.25 secs\tspeed: 0.985878 file/sec</pre>"
            ],
            "text/plain": [
              "Read 4882 images in 4489.25 secs\tspeed: 0.985878 file/sec"
            ]
          },
          "metadata": {
            "tags": []
          }
        },
        {
          "output_type": "display_data",
          "data": {
            "text/html": [
              "<pre>Read 4888 images in 4494.72 secs\tspeed: 1.09619 file/sec</pre>"
            ],
            "text/plain": [
              "Read 4888 images in 4494.72 secs\tspeed: 1.09619 file/sec"
            ]
          },
          "metadata": {
            "tags": []
          }
        },
        {
          "output_type": "display_data",
          "data": {
            "text/html": [
              "<pre>Read 4893 images in 4499.93 secs\tspeed: 0.95993 file/sec</pre>"
            ],
            "text/plain": [
              "Read 4893 images in 4499.93 secs\tspeed: 0.95993 file/sec"
            ]
          },
          "metadata": {
            "tags": []
          }
        },
        {
          "output_type": "display_data",
          "data": {
            "text/html": [
              "<pre>Read 4899 images in 4505.46 secs\tspeed: 1.08587 file/sec</pre>"
            ],
            "text/plain": [
              "Read 4899 images in 4505.46 secs\tspeed: 1.08587 file/sec"
            ]
          },
          "metadata": {
            "tags": []
          }
        },
        {
          "output_type": "display_data",
          "data": {
            "text/html": [
              "<pre>Read 4905 images in 4510.48 secs\tspeed: 1.19442 file/sec</pre>"
            ],
            "text/plain": [
              "Read 4905 images in 4510.48 secs\tspeed: 1.19442 file/sec"
            ]
          },
          "metadata": {
            "tags": []
          }
        },
        {
          "output_type": "display_data",
          "data": {
            "text/html": [
              "<pre>Read 4912 images in 4516.36 secs\tspeed: 1.18938 file/sec</pre>"
            ],
            "text/plain": [
              "Read 4912 images in 4516.36 secs\tspeed: 1.18938 file/sec"
            ]
          },
          "metadata": {
            "tags": []
          }
        },
        {
          "output_type": "display_data",
          "data": {
            "text/html": [
              "<pre>Read 4918 images in 4522.05 secs\tspeed: 1.05605 file/sec</pre>"
            ],
            "text/plain": [
              "Read 4918 images in 4522.05 secs\tspeed: 1.05605 file/sec"
            ]
          },
          "metadata": {
            "tags": []
          }
        },
        {
          "output_type": "display_data",
          "data": {
            "text/html": [
              "<pre>Read 4924 images in 4527.58 secs\tspeed: 1.08422 file/sec</pre>"
            ],
            "text/plain": [
              "Read 4924 images in 4527.58 secs\tspeed: 1.08422 file/sec"
            ]
          },
          "metadata": {
            "tags": []
          }
        },
        {
          "output_type": "display_data",
          "data": {
            "text/html": [
              "<pre>Read 4926 images in 4533.15 secs\tspeed: 0.359257 file/sec</pre>"
            ],
            "text/plain": [
              "Read 4926 images in 4533.15 secs\tspeed: 0.359257 file/sec"
            ]
          },
          "metadata": {
            "tags": []
          }
        },
        {
          "output_type": "display_data",
          "data": {
            "text/html": [
              "<pre>Read 4931 images in 4538.96 secs\tspeed: 0.860745 file/sec</pre>"
            ],
            "text/plain": [
              "Read 4931 images in 4538.96 secs\tspeed: 0.860745 file/sec"
            ]
          },
          "metadata": {
            "tags": []
          }
        },
        {
          "output_type": "display_data",
          "data": {
            "text/html": [
              "<pre>Read 4936 images in 4544.05 secs\tspeed: 0.981984 file/sec</pre>"
            ],
            "text/plain": [
              "Read 4936 images in 4544.05 secs\tspeed: 0.981984 file/sec"
            ]
          },
          "metadata": {
            "tags": []
          }
        },
        {
          "output_type": "display_data",
          "data": {
            "text/html": [
              "<pre>Read 4941 images in 4550.76 secs\tspeed: 0.744851 file/sec</pre>"
            ],
            "text/plain": [
              "Read 4941 images in 4550.76 secs\tspeed: 0.744851 file/sec"
            ]
          },
          "metadata": {
            "tags": []
          }
        },
        {
          "output_type": "display_data",
          "data": {
            "text/html": [
              "<pre>Read 4945 images in 4556.46 secs\tspeed: 0.701381 file/sec</pre>"
            ],
            "text/plain": [
              "Read 4945 images in 4556.46 secs\tspeed: 0.701381 file/sec"
            ]
          },
          "metadata": {
            "tags": []
          }
        },
        {
          "output_type": "display_data",
          "data": {
            "text/html": [
              "<pre>Read 4950 images in 4561.84 secs\tspeed: 0.93038 file/sec</pre>"
            ],
            "text/plain": [
              "Read 4950 images in 4561.84 secs\tspeed: 0.93038 file/sec"
            ]
          },
          "metadata": {
            "tags": []
          }
        },
        {
          "output_type": "display_data",
          "data": {
            "text/html": [
              "<pre>Read 4955 images in 4567.36 secs\tspeed: 0.904622 file/sec</pre>"
            ],
            "text/plain": [
              "Read 4955 images in 4567.36 secs\tspeed: 0.904622 file/sec"
            ]
          },
          "metadata": {
            "tags": []
          }
        },
        {
          "output_type": "display_data",
          "data": {
            "text/html": [
              "<pre>Read 4960 images in 4573.01 secs\tspeed: 0.885797 file/sec</pre>"
            ],
            "text/plain": [
              "Read 4960 images in 4573.01 secs\tspeed: 0.885797 file/sec"
            ]
          },
          "metadata": {
            "tags": []
          }
        },
        {
          "output_type": "display_data",
          "data": {
            "text/html": [
              "<pre>Read 4964 images in 4578.08 secs\tspeed: 0.788782 file/sec</pre>"
            ],
            "text/plain": [
              "Read 4964 images in 4578.08 secs\tspeed: 0.788782 file/sec"
            ]
          },
          "metadata": {
            "tags": []
          }
        },
        {
          "output_type": "display_data",
          "data": {
            "text/html": [
              "<pre>Read 4969 images in 4583.77 secs\tspeed: 0.878716 file/sec</pre>"
            ],
            "text/plain": [
              "Read 4969 images in 4583.77 secs\tspeed: 0.878716 file/sec"
            ]
          },
          "metadata": {
            "tags": []
          }
        },
        {
          "output_type": "display_data",
          "data": {
            "text/html": [
              "<pre>Read 4975 images in 4589.61 secs\tspeed: 1.02665 file/sec</pre>"
            ],
            "text/plain": [
              "Read 4975 images in 4589.61 secs\tspeed: 1.02665 file/sec"
            ]
          },
          "metadata": {
            "tags": []
          }
        },
        {
          "output_type": "display_data",
          "data": {
            "text/html": [
              "<pre>Read 4980 images in 4594.76 secs\tspeed: 0.972464 file/sec</pre>"
            ],
            "text/plain": [
              "Read 4980 images in 4594.76 secs\tspeed: 0.972464 file/sec"
            ]
          },
          "metadata": {
            "tags": []
          }
        },
        {
          "output_type": "display_data",
          "data": {
            "text/html": [
              "<pre>Read 4986 images in 4600.06 secs\tspeed: 1.13087 file/sec</pre>"
            ],
            "text/plain": [
              "Read 4986 images in 4600.06 secs\tspeed: 1.13087 file/sec"
            ]
          },
          "metadata": {
            "tags": []
          }
        },
        {
          "output_type": "display_data",
          "data": {
            "text/html": [
              "<pre>Read 4993 images in 4605.61 secs\tspeed: 1.26266 file/sec</pre>"
            ],
            "text/plain": [
              "Read 4993 images in 4605.61 secs\tspeed: 1.26266 file/sec"
            ]
          },
          "metadata": {
            "tags": []
          }
        },
        {
          "output_type": "display_data",
          "data": {
            "text/html": [
              "<pre>Read 4999 images in 4610.69 secs\tspeed: 1.17915 file/sec</pre>"
            ],
            "text/plain": [
              "Read 4999 images in 4610.69 secs\tspeed: 1.17915 file/sec"
            ]
          },
          "metadata": {
            "tags": []
          }
        },
        {
          "output_type": "display_data",
          "data": {
            "text/html": [
              "<pre>Read 5004 images in 4615.85 secs\tspeed: 0.969617 file/sec</pre>"
            ],
            "text/plain": [
              "Read 5004 images in 4615.85 secs\tspeed: 0.969617 file/sec"
            ]
          },
          "metadata": {
            "tags": []
          }
        },
        {
          "output_type": "display_data",
          "data": {
            "text/html": [
              "<pre>Read 5010 images in 4620.91 secs\tspeed: 1.18632 file/sec</pre>"
            ],
            "text/plain": [
              "Read 5010 images in 4620.91 secs\tspeed: 1.18632 file/sec"
            ]
          },
          "metadata": {
            "tags": []
          }
        },
        {
          "output_type": "display_data",
          "data": {
            "text/html": [
              "<pre>Read 5015 images in 4626 secs\tspeed: 0.98132 file/sec</pre>"
            ],
            "text/plain": [
              "Read 5015 images in 4626 secs\tspeed: 0.98132 file/sec"
            ]
          },
          "metadata": {
            "tags": []
          }
        },
        {
          "output_type": "display_data",
          "data": {
            "text/html": [
              "<pre>Read 5021 images in 4631.33 secs\tspeed: 1.12547 file/sec</pre>"
            ],
            "text/plain": [
              "Read 5021 images in 4631.33 secs\tspeed: 1.12547 file/sec"
            ]
          },
          "metadata": {
            "tags": []
          }
        },
        {
          "output_type": "display_data",
          "data": {
            "text/html": [
              "<pre>Read 5026 images in 4637.27 secs\tspeed: 0.841956 file/sec</pre>"
            ],
            "text/plain": [
              "Read 5026 images in 4637.27 secs\tspeed: 0.841956 file/sec"
            ]
          },
          "metadata": {
            "tags": []
          }
        },
        {
          "output_type": "display_data",
          "data": {
            "text/html": [
              "<pre>Read 5031 images in 4643.15 secs\tspeed: 0.850392 file/sec</pre>"
            ],
            "text/plain": [
              "Read 5031 images in 4643.15 secs\tspeed: 0.850392 file/sec"
            ]
          },
          "metadata": {
            "tags": []
          }
        },
        {
          "output_type": "display_data",
          "data": {
            "text/html": [
              "<pre>Read 5037 images in 4648.69 secs\tspeed: 1.08353 file/sec</pre>"
            ],
            "text/plain": [
              "Read 5037 images in 4648.69 secs\tspeed: 1.08353 file/sec"
            ]
          },
          "metadata": {
            "tags": []
          }
        },
        {
          "output_type": "display_data",
          "data": {
            "text/html": [
              "<pre>Read 5041 images in 4653.94 secs\tspeed: 0.762454 file/sec</pre>"
            ],
            "text/plain": [
              "Read 5041 images in 4653.94 secs\tspeed: 0.762454 file/sec"
            ]
          },
          "metadata": {
            "tags": []
          }
        },
        {
          "output_type": "display_data",
          "data": {
            "text/html": [
              "<pre>Read 5047 images in 4659 secs\tspeed: 1.18539 file/sec</pre>"
            ],
            "text/plain": [
              "Read 5047 images in 4659 secs\tspeed: 1.18539 file/sec"
            ]
          },
          "metadata": {
            "tags": []
          }
        },
        {
          "output_type": "display_data",
          "data": {
            "text/html": [
              "<pre>Read 5048 images in 4664.7 secs\tspeed: 0.175338 file/sec</pre>"
            ],
            "text/plain": [
              "Read 5048 images in 4664.7 secs\tspeed: 0.175338 file/sec"
            ]
          },
          "metadata": {
            "tags": []
          }
        },
        {
          "output_type": "display_data",
          "data": {
            "text/html": [
              "<pre>Read 5052 images in 4671.97 secs\tspeed: 0.549976 file/sec</pre>"
            ],
            "text/plain": [
              "Read 5052 images in 4671.97 secs\tspeed: 0.549976 file/sec"
            ]
          },
          "metadata": {
            "tags": []
          }
        },
        {
          "output_type": "display_data",
          "data": {
            "text/html": [
              "<pre>Read 5057 images in 4687.08 secs\tspeed: 0.330898 file/sec</pre>"
            ],
            "text/plain": [
              "Read 5057 images in 4687.08 secs\tspeed: 0.330898 file/sec"
            ]
          },
          "metadata": {
            "tags": []
          }
        },
        {
          "output_type": "display_data",
          "data": {
            "text/html": [
              "<pre>Read 5063 images in 4692.63 secs\tspeed: 1.08146 file/sec</pre>"
            ],
            "text/plain": [
              "Read 5063 images in 4692.63 secs\tspeed: 1.08146 file/sec"
            ]
          },
          "metadata": {
            "tags": []
          }
        },
        {
          "output_type": "display_data",
          "data": {
            "text/html": [
              "<pre>Read 5067 images in 4700.1 secs\tspeed: 0.535369 file/sec</pre>"
            ],
            "text/plain": [
              "Read 5067 images in 4700.1 secs\tspeed: 0.535369 file/sec"
            ]
          },
          "metadata": {
            "tags": []
          }
        },
        {
          "output_type": "display_data",
          "data": {
            "text/html": [
              "<pre>Read 5073 images in 4705.63 secs\tspeed: 1.08676 file/sec</pre>"
            ],
            "text/plain": [
              "Read 5073 images in 4705.63 secs\tspeed: 1.08676 file/sec"
            ]
          },
          "metadata": {
            "tags": []
          }
        },
        {
          "output_type": "display_data",
          "data": {
            "text/html": [
              "<pre>Read 5079 images in 4710.91 secs\tspeed: 1.13514 file/sec</pre>"
            ],
            "text/plain": [
              "Read 5079 images in 4710.91 secs\tspeed: 1.13514 file/sec"
            ]
          },
          "metadata": {
            "tags": []
          }
        },
        {
          "output_type": "display_data",
          "data": {
            "text/html": [
              "<pre>Read 5084 images in 4715.93 secs\tspeed: 0.996068 file/sec</pre>"
            ],
            "text/plain": [
              "Read 5084 images in 4715.93 secs\tspeed: 0.996068 file/sec"
            ]
          },
          "metadata": {
            "tags": []
          }
        },
        {
          "output_type": "display_data",
          "data": {
            "text/html": [
              "<pre>Read 5089 images in 4723.1 secs\tspeed: 0.697249 file/sec</pre>"
            ],
            "text/plain": [
              "Read 5089 images in 4723.1 secs\tspeed: 0.697249 file/sec"
            ]
          },
          "metadata": {
            "tags": []
          }
        },
        {
          "output_type": "display_data",
          "data": {
            "text/html": [
              "<pre>Read 5096 images in 4729.42 secs\tspeed: 1.10763 file/sec</pre>"
            ],
            "text/plain": [
              "Read 5096 images in 4729.42 secs\tspeed: 1.10763 file/sec"
            ]
          },
          "metadata": {
            "tags": []
          }
        },
        {
          "output_type": "display_data",
          "data": {
            "text/html": [
              "<pre>Read 5101 images in 4734.61 secs\tspeed: 0.964241 file/sec</pre>"
            ],
            "text/plain": [
              "Read 5101 images in 4734.61 secs\tspeed: 0.964241 file/sec"
            ]
          },
          "metadata": {
            "tags": []
          }
        },
        {
          "output_type": "display_data",
          "data": {
            "text/html": [
              "<pre>Read 5105 images in 4740.28 secs\tspeed: 0.705299 file/sec</pre>"
            ],
            "text/plain": [
              "Read 5105 images in 4740.28 secs\tspeed: 0.705299 file/sec"
            ]
          },
          "metadata": {
            "tags": []
          }
        },
        {
          "output_type": "display_data",
          "data": {
            "text/html": [
              "<pre>Read 5111 images in 4746.09 secs\tspeed: 1.03157 file/sec</pre>"
            ],
            "text/plain": [
              "Read 5111 images in 4746.09 secs\tspeed: 1.03157 file/sec"
            ]
          },
          "metadata": {
            "tags": []
          }
        },
        {
          "output_type": "display_data",
          "data": {
            "text/html": [
              "<pre>Read 5118 images in 4751.46 secs\tspeed: 1.3049 file/sec</pre>"
            ],
            "text/plain": [
              "Read 5118 images in 4751.46 secs\tspeed: 1.3049 file/sec"
            ]
          },
          "metadata": {
            "tags": []
          }
        },
        {
          "output_type": "display_data",
          "data": {
            "text/html": [
              "<pre>Read 5125 images in 4757.12 secs\tspeed: 1.23737 file/sec</pre>"
            ],
            "text/plain": [
              "Read 5125 images in 4757.12 secs\tspeed: 1.23737 file/sec"
            ]
          },
          "metadata": {
            "tags": []
          }
        },
        {
          "output_type": "display_data",
          "data": {
            "text/html": [
              "<pre>Read 5126 images in 4774.98 secs\tspeed: 0.0559924 file/sec</pre>"
            ],
            "text/plain": [
              "Read 5126 images in 4774.98 secs\tspeed: 0.0559924 file/sec"
            ]
          },
          "metadata": {
            "tags": []
          }
        },
        {
          "output_type": "display_data",
          "data": {
            "text/html": [
              "<pre>Read 5131 images in 4780.51 secs\tspeed: 0.903935 file/sec</pre>"
            ],
            "text/plain": [
              "Read 5131 images in 4780.51 secs\tspeed: 0.903935 file/sec"
            ]
          },
          "metadata": {
            "tags": []
          }
        },
        {
          "output_type": "display_data",
          "data": {
            "text/html": [
              "<pre>Read 5137 images in 4785.82 secs\tspeed: 1.13001 file/sec</pre>"
            ],
            "text/plain": [
              "Read 5137 images in 4785.82 secs\tspeed: 1.13001 file/sec"
            ]
          },
          "metadata": {
            "tags": []
          }
        },
        {
          "output_type": "display_data",
          "data": {
            "text/html": [
              "<pre>Read 5138 images in 4800.65 secs\tspeed: 0.0674044 file/sec</pre>"
            ],
            "text/plain": [
              "Read 5138 images in 4800.65 secs\tspeed: 0.0674044 file/sec"
            ]
          },
          "metadata": {
            "tags": []
          }
        },
        {
          "output_type": "display_data",
          "data": {
            "text/html": [
              "<pre>Read 5144 images in 4806.6 secs\tspeed: 1.00841 file/sec</pre>"
            ],
            "text/plain": [
              "Read 5144 images in 4806.6 secs\tspeed: 1.00841 file/sec"
            ]
          },
          "metadata": {
            "tags": []
          }
        },
        {
          "output_type": "display_data",
          "data": {
            "text/html": [
              "<pre>Read 5147 images in 4838.86 secs\tspeed: 0.0930103 file/sec</pre>"
            ],
            "text/plain": [
              "Read 5147 images in 4838.86 secs\tspeed: 0.0930103 file/sec"
            ]
          },
          "metadata": {
            "tags": []
          }
        },
        {
          "output_type": "display_data",
          "data": {
            "text/html": [
              "<pre>Read 5152 images in 4844.06 secs\tspeed: 0.961892 file/sec</pre>"
            ],
            "text/plain": [
              "Read 5152 images in 4844.06 secs\tspeed: 0.961892 file/sec"
            ]
          },
          "metadata": {
            "tags": []
          }
        },
        {
          "output_type": "display_data",
          "data": {
            "text/html": [
              "<pre>Read 5158 images in 4849.38 secs\tspeed: 1.1276 file/sec</pre>"
            ],
            "text/plain": [
              "Read 5158 images in 4849.38 secs\tspeed: 1.1276 file/sec"
            ]
          },
          "metadata": {
            "tags": []
          }
        },
        {
          "output_type": "display_data",
          "data": {
            "text/html": [
              "<pre>Read 5164 images in 4854.7 secs\tspeed: 1.12652 file/sec</pre>"
            ],
            "text/plain": [
              "Read 5164 images in 4854.7 secs\tspeed: 1.12652 file/sec"
            ]
          },
          "metadata": {
            "tags": []
          }
        },
        {
          "output_type": "display_data",
          "data": {
            "text/html": [
              "<pre>Read 5169 images in 4859.99 secs\tspeed: 0.94494 file/sec</pre>"
            ],
            "text/plain": [
              "Read 5169 images in 4859.99 secs\tspeed: 0.94494 file/sec"
            ]
          },
          "metadata": {
            "tags": []
          }
        },
        {
          "output_type": "display_data",
          "data": {
            "text/html": [
              "<pre>Read 5175 images in 4865.45 secs\tspeed: 1.10057 file/sec</pre>"
            ],
            "text/plain": [
              "Read 5175 images in 4865.45 secs\tspeed: 1.10057 file/sec"
            ]
          },
          "metadata": {
            "tags": []
          }
        },
        {
          "output_type": "display_data",
          "data": {
            "text/html": [
              "<pre>Read 5180 images in 4870.47 secs\tspeed: 0.995561 file/sec</pre>"
            ],
            "text/plain": [
              "Read 5180 images in 4870.47 secs\tspeed: 0.995561 file/sec"
            ]
          },
          "metadata": {
            "tags": []
          }
        },
        {
          "output_type": "display_data",
          "data": {
            "text/html": [
              "<pre>Read 5186 images in 4876.2 secs\tspeed: 1.04707 file/sec</pre>"
            ],
            "text/plain": [
              "Read 5186 images in 4876.2 secs\tspeed: 1.04707 file/sec"
            ]
          },
          "metadata": {
            "tags": []
          }
        },
        {
          "output_type": "display_data",
          "data": {
            "text/html": [
              "<pre>Read 5191 images in 4881.32 secs\tspeed: 0.976448 file/sec</pre>"
            ],
            "text/plain": [
              "Read 5191 images in 4881.32 secs\tspeed: 0.976448 file/sec"
            ]
          },
          "metadata": {
            "tags": []
          }
        },
        {
          "output_type": "display_data",
          "data": {
            "text/html": [
              "<pre>Read 5195 images in 4886.35 secs\tspeed: 0.795296 file/sec</pre>"
            ],
            "text/plain": [
              "Read 5195 images in 4886.35 secs\tspeed: 0.795296 file/sec"
            ]
          },
          "metadata": {
            "tags": []
          }
        },
        {
          "output_type": "display_data",
          "data": {
            "text/html": [
              "<pre>Read 5199 images in 4899.28 secs\tspeed: 0.309346 file/sec</pre>"
            ],
            "text/plain": [
              "Read 5199 images in 4899.28 secs\tspeed: 0.309346 file/sec"
            ]
          },
          "metadata": {
            "tags": []
          }
        },
        {
          "output_type": "display_data",
          "data": {
            "text/html": [
              "<pre>Read 5205 images in 4904.32 secs\tspeed: 1.19024 file/sec</pre>"
            ],
            "text/plain": [
              "Read 5205 images in 4904.32 secs\tspeed: 1.19024 file/sec"
            ]
          },
          "metadata": {
            "tags": []
          }
        },
        {
          "output_type": "display_data",
          "data": {
            "text/html": [
              "<pre>Read 5209 images in 4909.93 secs\tspeed: 0.71329 file/sec</pre>"
            ],
            "text/plain": [
              "Read 5209 images in 4909.93 secs\tspeed: 0.71329 file/sec"
            ]
          },
          "metadata": {
            "tags": []
          }
        },
        {
          "output_type": "display_data",
          "data": {
            "text/html": [
              "<pre>Read 5215 images in 4915.16 secs\tspeed: 1.14574 file/sec</pre>"
            ],
            "text/plain": [
              "Read 5215 images in 4915.16 secs\tspeed: 1.14574 file/sec"
            ]
          },
          "metadata": {
            "tags": []
          }
        },
        {
          "output_type": "display_data",
          "data": {
            "text/html": [
              "<pre>Read 5222 images in 4920.67 secs\tspeed: 1.2724 file/sec</pre>"
            ],
            "text/plain": [
              "Read 5222 images in 4920.67 secs\tspeed: 1.2724 file/sec"
            ]
          },
          "metadata": {
            "tags": []
          }
        },
        {
          "output_type": "display_data",
          "data": {
            "text/html": [
              "<pre>Read 5228 images in 4925.93 secs\tspeed: 1.13895 file/sec</pre>"
            ],
            "text/plain": [
              "Read 5228 images in 4925.93 secs\tspeed: 1.13895 file/sec"
            ]
          },
          "metadata": {
            "tags": []
          }
        },
        {
          "output_type": "display_data",
          "data": {
            "text/html": [
              "<pre>Read 5235 images in 4931.69 secs\tspeed: 1.21572 file/sec</pre>"
            ],
            "text/plain": [
              "Read 5235 images in 4931.69 secs\tspeed: 1.21572 file/sec"
            ]
          },
          "metadata": {
            "tags": []
          }
        },
        {
          "output_type": "display_data",
          "data": {
            "text/html": [
              "<pre>Read 5240 images in 4936.81 secs\tspeed: 0.976875 file/sec</pre>"
            ],
            "text/plain": [
              "Read 5240 images in 4936.81 secs\tspeed: 0.976875 file/sec"
            ]
          },
          "metadata": {
            "tags": []
          }
        },
        {
          "output_type": "display_data",
          "data": {
            "text/html": [
              "<pre>Read 5245 images in 4941.86 secs\tspeed: 0.990786 file/sec</pre>"
            ],
            "text/plain": [
              "Read 5245 images in 4941.86 secs\tspeed: 0.990786 file/sec"
            ]
          },
          "metadata": {
            "tags": []
          }
        },
        {
          "output_type": "display_data",
          "data": {
            "text/html": [
              "<pre>Read 5250 images in 4947 secs\tspeed: 0.971503 file/sec</pre>"
            ],
            "text/plain": [
              "Read 5250 images in 4947 secs\tspeed: 0.971503 file/sec"
            ]
          },
          "metadata": {
            "tags": []
          }
        },
        {
          "output_type": "display_data",
          "data": {
            "text/html": [
              "<pre>Read 5255 images in 4953.12 secs\tspeed: 0.817146 file/sec</pre>"
            ],
            "text/plain": [
              "Read 5255 images in 4953.12 secs\tspeed: 0.817146 file/sec"
            ]
          },
          "metadata": {
            "tags": []
          }
        },
        {
          "output_type": "display_data",
          "data": {
            "text/html": [
              "<pre>Read 5262 images in 4959.68 secs\tspeed: 1.06685 file/sec</pre>"
            ],
            "text/plain": [
              "Read 5262 images in 4959.68 secs\tspeed: 1.06685 file/sec"
            ]
          },
          "metadata": {
            "tags": []
          }
        },
        {
          "output_type": "display_data",
          "data": {
            "text/html": [
              "<pre>Read 5269 images in 4965.33 secs\tspeed: 1.24074 file/sec</pre>"
            ],
            "text/plain": [
              "Read 5269 images in 4965.33 secs\tspeed: 1.24074 file/sec"
            ]
          },
          "metadata": {
            "tags": []
          }
        },
        {
          "output_type": "display_data",
          "data": {
            "text/html": [
              "<pre>Read 5275 images in 4970.8 secs\tspeed: 1.09546 file/sec</pre>"
            ],
            "text/plain": [
              "Read 5275 images in 4970.8 secs\tspeed: 1.09546 file/sec"
            ]
          },
          "metadata": {
            "tags": []
          }
        },
        {
          "output_type": "display_data",
          "data": {
            "text/html": [
              "<pre>Read 5280 images in 4976.53 secs\tspeed: 0.87322 file/sec</pre>"
            ],
            "text/plain": [
              "Read 5280 images in 4976.53 secs\tspeed: 0.87322 file/sec"
            ]
          },
          "metadata": {
            "tags": []
          }
        },
        {
          "output_type": "display_data",
          "data": {
            "text/html": [
              "<pre>Read 5281 images in 4986.1 secs\tspeed: 0.104438 file/sec</pre>"
            ],
            "text/plain": [
              "Read 5281 images in 4986.1 secs\tspeed: 0.104438 file/sec"
            ]
          },
          "metadata": {
            "tags": []
          }
        },
        {
          "output_type": "display_data",
          "data": {
            "text/html": [
              "<pre>Read 5287 images in 4991.26 secs\tspeed: 1.16248 file/sec</pre>"
            ],
            "text/plain": [
              "Read 5287 images in 4991.26 secs\tspeed: 1.16248 file/sec"
            ]
          },
          "metadata": {
            "tags": []
          }
        },
        {
          "output_type": "display_data",
          "data": {
            "text/html": [
              "<pre>Read 5288 images in 5006.36 secs\tspeed: 0.0662582 file/sec</pre>"
            ],
            "text/plain": [
              "Read 5288 images in 5006.36 secs\tspeed: 0.0662582 file/sec"
            ]
          },
          "metadata": {
            "tags": []
          }
        },
        {
          "output_type": "display_data",
          "data": {
            "text/html": [
              "<pre>Read 5295 images in 5012.04 secs\tspeed: 1.23223 file/sec</pre>"
            ],
            "text/plain": [
              "Read 5295 images in 5012.04 secs\tspeed: 1.23223 file/sec"
            ]
          },
          "metadata": {
            "tags": []
          }
        },
        {
          "output_type": "display_data",
          "data": {
            "text/html": [
              "<pre>Read 5302 images in 5017.65 secs\tspeed: 1.24696 file/sec</pre>"
            ],
            "text/plain": [
              "Read 5302 images in 5017.65 secs\tspeed: 1.24696 file/sec"
            ]
          },
          "metadata": {
            "tags": []
          }
        },
        {
          "output_type": "display_data",
          "data": {
            "text/html": [
              "<pre>Read 5309 images in 5023.41 secs\tspeed: 1.21662 file/sec</pre>"
            ],
            "text/plain": [
              "Read 5309 images in 5023.41 secs\tspeed: 1.21662 file/sec"
            ]
          },
          "metadata": {
            "tags": []
          }
        },
        {
          "output_type": "display_data",
          "data": {
            "text/html": [
              "<pre>Read 5314 images in 5028.74 secs\tspeed: 0.937112 file/sec</pre>"
            ],
            "text/plain": [
              "Read 5314 images in 5028.74 secs\tspeed: 0.937112 file/sec"
            ]
          },
          "metadata": {
            "tags": []
          }
        },
        {
          "output_type": "display_data",
          "data": {
            "text/html": [
              "<pre>Read 5320 images in 5033.9 secs\tspeed: 1.16225 file/sec</pre>"
            ],
            "text/plain": [
              "Read 5320 images in 5033.9 secs\tspeed: 1.16225 file/sec"
            ]
          },
          "metadata": {
            "tags": []
          }
        },
        {
          "output_type": "display_data",
          "data": {
            "text/html": [
              "<pre>Read 5326 images in 5039.7 secs\tspeed: 1.03489 file/sec</pre>"
            ],
            "text/plain": [
              "Read 5326 images in 5039.7 secs\tspeed: 1.03489 file/sec"
            ]
          },
          "metadata": {
            "tags": []
          }
        },
        {
          "output_type": "display_data",
          "data": {
            "text/html": [
              "<pre>Read 5333 images in 5045.51 secs\tspeed: 1.20552 file/sec</pre>"
            ],
            "text/plain": [
              "Read 5333 images in 5045.51 secs\tspeed: 1.20552 file/sec"
            ]
          },
          "metadata": {
            "tags": []
          }
        },
        {
          "output_type": "display_data",
          "data": {
            "text/html": [
              "<pre>Read 5339 images in 5051.28 secs\tspeed: 1.04025 file/sec</pre>"
            ],
            "text/plain": [
              "Read 5339 images in 5051.28 secs\tspeed: 1.04025 file/sec"
            ]
          },
          "metadata": {
            "tags": []
          }
        },
        {
          "output_type": "display_data",
          "data": {
            "text/html": [
              "<pre>Read 5344 images in 5056.34 secs\tspeed: 0.98667 file/sec</pre>"
            ],
            "text/plain": [
              "Read 5344 images in 5056.34 secs\tspeed: 0.98667 file/sec"
            ]
          },
          "metadata": {
            "tags": []
          }
        },
        {
          "output_type": "display_data",
          "data": {
            "text/html": [
              "<pre>Read 5350 images in 5062.47 secs\tspeed: 0.978668 file/sec</pre>"
            ],
            "text/plain": [
              "Read 5350 images in 5062.47 secs\tspeed: 0.978668 file/sec"
            ]
          },
          "metadata": {
            "tags": []
          }
        },
        {
          "output_type": "display_data",
          "data": {
            "text/html": [
              "<pre>Read 5355 images in 5067.78 secs\tspeed: 0.941854 file/sec</pre>"
            ],
            "text/plain": [
              "Read 5355 images in 5067.78 secs\tspeed: 0.941854 file/sec"
            ]
          },
          "metadata": {
            "tags": []
          }
        },
        {
          "output_type": "display_data",
          "data": {
            "text/html": [
              "<pre>Read 5362 images in 5073.56 secs\tspeed: 1.21252 file/sec</pre>"
            ],
            "text/plain": [
              "Read 5362 images in 5073.56 secs\tspeed: 1.21252 file/sec"
            ]
          },
          "metadata": {
            "tags": []
          }
        },
        {
          "output_type": "display_data",
          "data": {
            "text/html": [
              "<pre>Read 5369 images in 5079.7 secs\tspeed: 1.13918 file/sec</pre>"
            ],
            "text/plain": [
              "Read 5369 images in 5079.7 secs\tspeed: 1.13918 file/sec"
            ]
          },
          "metadata": {
            "tags": []
          }
        },
        {
          "output_type": "display_data",
          "data": {
            "text/html": [
              "<pre>Read 5374 images in 5085.06 secs\tspeed: 0.93246 file/sec</pre>"
            ],
            "text/plain": [
              "Read 5374 images in 5085.06 secs\tspeed: 0.93246 file/sec"
            ]
          },
          "metadata": {
            "tags": []
          }
        },
        {
          "output_type": "display_data",
          "data": {
            "text/html": [
              "<pre>Read 5380 images in 5090.74 secs\tspeed: 1.05715 file/sec</pre>"
            ],
            "text/plain": [
              "Read 5380 images in 5090.74 secs\tspeed: 1.05715 file/sec"
            ]
          },
          "metadata": {
            "tags": []
          }
        },
        {
          "output_type": "display_data",
          "data": {
            "text/html": [
              "<pre>Read 5386 images in 5095.78 secs\tspeed: 1.19006 file/sec</pre>"
            ],
            "text/plain": [
              "Read 5386 images in 5095.78 secs\tspeed: 1.19006 file/sec"
            ]
          },
          "metadata": {
            "tags": []
          }
        },
        {
          "output_type": "display_data",
          "data": {
            "text/html": [
              "<pre>Read 5393 images in 5101.2 secs\tspeed: 1.29112 file/sec</pre>"
            ],
            "text/plain": [
              "Read 5393 images in 5101.2 secs\tspeed: 1.29112 file/sec"
            ]
          },
          "metadata": {
            "tags": []
          }
        },
        {
          "output_type": "display_data",
          "data": {
            "text/html": [
              "<pre>Read 5400 images in 5106.93 secs\tspeed: 1.22189 file/sec</pre>"
            ],
            "text/plain": [
              "Read 5400 images in 5106.93 secs\tspeed: 1.22189 file/sec"
            ]
          },
          "metadata": {
            "tags": []
          }
        },
        {
          "output_type": "display_data",
          "data": {
            "text/html": [
              "<pre>Read 5407 images in 5112.54 secs\tspeed: 1.24823 file/sec</pre>"
            ],
            "text/plain": [
              "Read 5407 images in 5112.54 secs\tspeed: 1.24823 file/sec"
            ]
          },
          "metadata": {
            "tags": []
          }
        },
        {
          "output_type": "display_data",
          "data": {
            "text/html": [
              "<pre>Read 5414 images in 5118.19 secs\tspeed: 1.23957 file/sec</pre>"
            ],
            "text/plain": [
              "Read 5414 images in 5118.19 secs\tspeed: 1.23957 file/sec"
            ]
          },
          "metadata": {
            "tags": []
          }
        },
        {
          "output_type": "display_data",
          "data": {
            "text/html": [
              "<pre>Read 5419 images in 5123.75 secs\tspeed: 0.898308 file/sec</pre>"
            ],
            "text/plain": [
              "Read 5419 images in 5123.75 secs\tspeed: 0.898308 file/sec"
            ]
          },
          "metadata": {
            "tags": []
          }
        },
        {
          "output_type": "display_data",
          "data": {
            "text/html": [
              "<pre>Read 5424 images in 5129.36 secs\tspeed: 0.890724 file/sec</pre>"
            ],
            "text/plain": [
              "Read 5424 images in 5129.36 secs\tspeed: 0.890724 file/sec"
            ]
          },
          "metadata": {
            "tags": []
          }
        },
        {
          "output_type": "display_data",
          "data": {
            "text/html": [
              "<pre>Read 5430 images in 5135.06 secs\tspeed: 1.05305 file/sec</pre>"
            ],
            "text/plain": [
              "Read 5430 images in 5135.06 secs\tspeed: 1.05305 file/sec"
            ]
          },
          "metadata": {
            "tags": []
          }
        },
        {
          "output_type": "display_data",
          "data": {
            "text/html": [
              "<pre>Read 5435 images in 5140.32 secs\tspeed: 0.95077 file/sec</pre>"
            ],
            "text/plain": [
              "Read 5435 images in 5140.32 secs\tspeed: 0.95077 file/sec"
            ]
          },
          "metadata": {
            "tags": []
          }
        },
        {
          "output_type": "display_data",
          "data": {
            "text/html": [
              "<pre>Read 5441 images in 5146.2 secs\tspeed: 1.01983 file/sec</pre>"
            ],
            "text/plain": [
              "Read 5441 images in 5146.2 secs\tspeed: 1.01983 file/sec"
            ]
          },
          "metadata": {
            "tags": []
          }
        },
        {
          "output_type": "display_data",
          "data": {
            "text/html": [
              "<pre>Read 5448 images in 5152.12 secs\tspeed: 1.1842 file/sec</pre>"
            ],
            "text/plain": [
              "Read 5448 images in 5152.12 secs\tspeed: 1.1842 file/sec"
            ]
          },
          "metadata": {
            "tags": []
          }
        },
        {
          "output_type": "display_data",
          "data": {
            "text/html": [
              "<pre>Read 5454 images in 5157.14 secs\tspeed: 1.1945 file/sec</pre>"
            ],
            "text/plain": [
              "Read 5454 images in 5157.14 secs\tspeed: 1.1945 file/sec"
            ]
          },
          "metadata": {
            "tags": []
          }
        },
        {
          "output_type": "display_data",
          "data": {
            "text/html": [
              "<pre>Read 5460 images in 5162.88 secs\tspeed: 1.04532 file/sec</pre>"
            ],
            "text/plain": [
              "Read 5460 images in 5162.88 secs\tspeed: 1.04532 file/sec"
            ]
          },
          "metadata": {
            "tags": []
          }
        },
        {
          "output_type": "display_data",
          "data": {
            "text/html": [
              "<pre>Read 5466 images in 5177.05 secs\tspeed: 0.423504 file/sec</pre>"
            ],
            "text/plain": [
              "Read 5466 images in 5177.05 secs\tspeed: 0.423504 file/sec"
            ]
          },
          "metadata": {
            "tags": []
          }
        },
        {
          "output_type": "display_data",
          "data": {
            "text/html": [
              "<pre>Read 5473 images in 5182.66 secs\tspeed: 1.24629 file/sec</pre>"
            ],
            "text/plain": [
              "Read 5473 images in 5182.66 secs\tspeed: 1.24629 file/sec"
            ]
          },
          "metadata": {
            "tags": []
          }
        },
        {
          "output_type": "display_data",
          "data": {
            "text/html": [
              "<pre>Read 5479 images in 5188.12 secs\tspeed: 1.09995 file/sec</pre>"
            ],
            "text/plain": [
              "Read 5479 images in 5188.12 secs\tspeed: 1.09995 file/sec"
            ]
          },
          "metadata": {
            "tags": []
          }
        },
        {
          "output_type": "display_data",
          "data": {
            "text/html": [
              "<pre>Read 5486 images in 5193.55 secs\tspeed: 1.28974 file/sec</pre>"
            ],
            "text/plain": [
              "Read 5486 images in 5193.55 secs\tspeed: 1.28974 file/sec"
            ]
          },
          "metadata": {
            "tags": []
          }
        },
        {
          "output_type": "display_data",
          "data": {
            "text/html": [
              "<pre>Read 5492 images in 5198.65 secs\tspeed: 1.1751 file/sec</pre>"
            ],
            "text/plain": [
              "Read 5492 images in 5198.65 secs\tspeed: 1.1751 file/sec"
            ]
          },
          "metadata": {
            "tags": []
          }
        },
        {
          "output_type": "display_data",
          "data": {
            "text/html": [
              "<pre>Read 5496 images in 5203.75 secs\tspeed: 0.784986 file/sec</pre>"
            ],
            "text/plain": [
              "Read 5496 images in 5203.75 secs\tspeed: 0.784986 file/sec"
            ]
          },
          "metadata": {
            "tags": []
          }
        },
        {
          "output_type": "display_data",
          "data": {
            "text/html": [
              "<pre>Read 5500 images in 5209.83 secs\tspeed: 0.657904 file/sec</pre>"
            ],
            "text/plain": [
              "Read 5500 images in 5209.83 secs\tspeed: 0.657904 file/sec"
            ]
          },
          "metadata": {
            "tags": []
          }
        },
        {
          "output_type": "display_data",
          "data": {
            "text/html": [
              "<pre>Read 5505 images in 5215.22 secs\tspeed: 0.927017 file/sec</pre>"
            ],
            "text/plain": [
              "Read 5505 images in 5215.22 secs\tspeed: 0.927017 file/sec"
            ]
          },
          "metadata": {
            "tags": []
          }
        },
        {
          "output_type": "display_data",
          "data": {
            "text/html": [
              "<pre>Read 5510 images in 5220.96 secs\tspeed: 0.871733 file/sec</pre>"
            ],
            "text/plain": [
              "Read 5510 images in 5220.96 secs\tspeed: 0.871733 file/sec"
            ]
          },
          "metadata": {
            "tags": []
          }
        },
        {
          "output_type": "display_data",
          "data": {
            "text/html": [
              "<pre>Read 5515 images in 5226.18 secs\tspeed: 0.956527 file/sec</pre>"
            ],
            "text/plain": [
              "Read 5515 images in 5226.18 secs\tspeed: 0.956527 file/sec"
            ]
          },
          "metadata": {
            "tags": []
          }
        },
        {
          "output_type": "display_data",
          "data": {
            "text/html": [
              "<pre>Read 5520 images in 5232.13 secs\tspeed: 0.840366 file/sec</pre>"
            ],
            "text/plain": [
              "Read 5520 images in 5232.13 secs\tspeed: 0.840366 file/sec"
            ]
          },
          "metadata": {
            "tags": []
          }
        },
        {
          "output_type": "display_data",
          "data": {
            "text/html": [
              "<pre>Read 5524 images in 5241.02 secs\tspeed: 0.449938 file/sec</pre>"
            ],
            "text/plain": [
              "Read 5524 images in 5241.02 secs\tspeed: 0.449938 file/sec"
            ]
          },
          "metadata": {
            "tags": []
          }
        },
        {
          "output_type": "display_data",
          "data": {
            "text/html": [
              "<pre>Read 5530 images in 5246.64 secs\tspeed: 1.06782 file/sec</pre>"
            ],
            "text/plain": [
              "Read 5530 images in 5246.64 secs\tspeed: 1.06782 file/sec"
            ]
          },
          "metadata": {
            "tags": []
          }
        },
        {
          "output_type": "display_data",
          "data": {
            "text/html": [
              "<pre>Read 5532 images in 5263.03 secs\tspeed: 0.122016 file/sec</pre>"
            ],
            "text/plain": [
              "Read 5532 images in 5263.03 secs\tspeed: 0.122016 file/sec"
            ]
          },
          "metadata": {
            "tags": []
          }
        },
        {
          "output_type": "display_data",
          "data": {
            "text/html": [
              "<pre>Read 5538 images in 5268.22 secs\tspeed: 1.15682 file/sec</pre>"
            ],
            "text/plain": [
              "Read 5538 images in 5268.22 secs\tspeed: 1.15682 file/sec"
            ]
          },
          "metadata": {
            "tags": []
          }
        },
        {
          "output_type": "display_data",
          "data": {
            "text/html": [
              "<pre>Read 5544 images in 5273.51 secs\tspeed: 1.13384 file/sec</pre>"
            ],
            "text/plain": [
              "Read 5544 images in 5273.51 secs\tspeed: 1.13384 file/sec"
            ]
          },
          "metadata": {
            "tags": []
          }
        },
        {
          "output_type": "display_data",
          "data": {
            "text/html": [
              "<pre>Read 5548 images in 5279.06 secs\tspeed: 0.720817 file/sec</pre>"
            ],
            "text/plain": [
              "Read 5548 images in 5279.06 secs\tspeed: 0.720817 file/sec"
            ]
          },
          "metadata": {
            "tags": []
          }
        },
        {
          "output_type": "display_data",
          "data": {
            "text/html": [
              "<pre>Read 5554 images in 5284.95 secs\tspeed: 1.0188 file/sec</pre>"
            ],
            "text/plain": [
              "Read 5554 images in 5284.95 secs\tspeed: 1.0188 file/sec"
            ]
          },
          "metadata": {
            "tags": []
          }
        },
        {
          "output_type": "display_data",
          "data": {
            "text/html": [
              "<pre>Read 5559 images in 5290.59 secs\tspeed: 0.885854 file/sec</pre>"
            ],
            "text/plain": [
              "Read 5559 images in 5290.59 secs\tspeed: 0.885854 file/sec"
            ]
          },
          "metadata": {
            "tags": []
          }
        },
        {
          "output_type": "display_data",
          "data": {
            "text/html": [
              "<pre>Read 5564 images in 5295.78 secs\tspeed: 0.96425 file/sec</pre>"
            ],
            "text/plain": [
              "Read 5564 images in 5295.78 secs\tspeed: 0.96425 file/sec"
            ]
          },
          "metadata": {
            "tags": []
          }
        },
        {
          "output_type": "display_data",
          "data": {
            "text/html": [
              "<pre>Read 5569 images in 5310.72 secs\tspeed: 0.334695 file/sec</pre>"
            ],
            "text/plain": [
              "Read 5569 images in 5310.72 secs\tspeed: 0.334695 file/sec"
            ]
          },
          "metadata": {
            "tags": []
          }
        },
        {
          "output_type": "display_data",
          "data": {
            "text/html": [
              "<pre>Read 5575 images in 5316.32 secs\tspeed: 1.07085 file/sec</pre>"
            ],
            "text/plain": [
              "Read 5575 images in 5316.32 secs\tspeed: 1.07085 file/sec"
            ]
          },
          "metadata": {
            "tags": []
          }
        },
        {
          "output_type": "display_data",
          "data": {
            "text/html": [
              "<pre>Read 5580 images in 5321.55 secs\tspeed: 0.956254 file/sec</pre>"
            ],
            "text/plain": [
              "Read 5580 images in 5321.55 secs\tspeed: 0.956254 file/sec"
            ]
          },
          "metadata": {
            "tags": []
          }
        },
        {
          "output_type": "display_data",
          "data": {
            "text/html": [
              "<pre>Read 5586 images in 5327.49 secs\tspeed: 1.00951 file/sec</pre>"
            ],
            "text/plain": [
              "Read 5586 images in 5327.49 secs\tspeed: 1.00951 file/sec"
            ]
          },
          "metadata": {
            "tags": []
          }
        },
        {
          "output_type": "display_data",
          "data": {
            "text/html": [
              "<pre>Read 5592 images in 5332.82 secs\tspeed: 1.12742 file/sec</pre>"
            ],
            "text/plain": [
              "Read 5592 images in 5332.82 secs\tspeed: 1.12742 file/sec"
            ]
          },
          "metadata": {
            "tags": []
          }
        },
        {
          "output_type": "display_data",
          "data": {
            "text/html": [
              "<pre>Read 5597 images in 5340.37 secs\tspeed: 0.6617 file/sec</pre>"
            ],
            "text/plain": [
              "Read 5597 images in 5340.37 secs\tspeed: 0.6617 file/sec"
            ]
          },
          "metadata": {
            "tags": []
          }
        },
        {
          "output_type": "display_data",
          "data": {
            "text/html": [
              "<pre>Read 5600 images in 5347.81 secs\tspeed: 0.403634 file/sec</pre>"
            ],
            "text/plain": [
              "Read 5600 images in 5347.81 secs\tspeed: 0.403634 file/sec"
            ]
          },
          "metadata": {
            "tags": []
          }
        },
        {
          "output_type": "display_data",
          "data": {
            "text/html": [
              "<pre>Read 5602 images in 5353.02 secs\tspeed: 0.383546 file/sec</pre>"
            ],
            "text/plain": [
              "Read 5602 images in 5353.02 secs\tspeed: 0.383546 file/sec"
            ]
          },
          "metadata": {
            "tags": []
          }
        },
        {
          "output_type": "display_data",
          "data": {
            "text/html": [
              "<pre>Read 5607 images in 5358.51 secs\tspeed: 0.911468 file/sec</pre>"
            ],
            "text/plain": [
              "Read 5607 images in 5358.51 secs\tspeed: 0.911468 file/sec"
            ]
          },
          "metadata": {
            "tags": []
          }
        },
        {
          "output_type": "display_data",
          "data": {
            "text/html": [
              "<pre>Read 5613 images in 5363.56 secs\tspeed: 1.18687 file/sec</pre>"
            ],
            "text/plain": [
              "Read 5613 images in 5363.56 secs\tspeed: 1.18687 file/sec"
            ]
          },
          "metadata": {
            "tags": []
          }
        },
        {
          "output_type": "display_data",
          "data": {
            "text/html": [
              "<pre>Read 5620 images in 5375.95 secs\tspeed: 0.565219 file/sec</pre>"
            ],
            "text/plain": [
              "Read 5620 images in 5375.95 secs\tspeed: 0.565219 file/sec"
            ]
          },
          "metadata": {
            "tags": []
          }
        },
        {
          "output_type": "display_data",
          "data": {
            "text/html": [
              "<pre>Read 5625 images in 5381.35 secs\tspeed: 0.925321 file/sec</pre>"
            ],
            "text/plain": [
              "Read 5625 images in 5381.35 secs\tspeed: 0.925321 file/sec"
            ]
          },
          "metadata": {
            "tags": []
          }
        },
        {
          "output_type": "display_data",
          "data": {
            "text/html": [
              "<pre>Read 5631 images in 5386.51 secs\tspeed: 1.16331 file/sec</pre>"
            ],
            "text/plain": [
              "Read 5631 images in 5386.51 secs\tspeed: 1.16331 file/sec"
            ]
          },
          "metadata": {
            "tags": []
          }
        },
        {
          "output_type": "display_data",
          "data": {
            "text/html": [
              "<pre>Read 5636 images in 5391.93 secs\tspeed: 0.922695 file/sec</pre>"
            ],
            "text/plain": [
              "Read 5636 images in 5391.93 secs\tspeed: 0.922695 file/sec"
            ]
          },
          "metadata": {
            "tags": []
          }
        },
        {
          "output_type": "display_data",
          "data": {
            "text/html": [
              "<pre>Read 5640 images in 5397.38 secs\tspeed: 0.733342 file/sec</pre>"
            ],
            "text/plain": [
              "Read 5640 images in 5397.38 secs\tspeed: 0.733342 file/sec"
            ]
          },
          "metadata": {
            "tags": []
          }
        },
        {
          "output_type": "display_data",
          "data": {
            "text/html": [
              "<pre>Read 5645 images in 5402.73 secs\tspeed: 0.93534 file/sec</pre>"
            ],
            "text/plain": [
              "Read 5645 images in 5402.73 secs\tspeed: 0.93534 file/sec"
            ]
          },
          "metadata": {
            "tags": []
          }
        },
        {
          "output_type": "display_data",
          "data": {
            "text/html": [
              "<pre>Read 5650 images in 5407.96 secs\tspeed: 0.95481 file/sec</pre>"
            ],
            "text/plain": [
              "Read 5650 images in 5407.96 secs\tspeed: 0.95481 file/sec"
            ]
          },
          "metadata": {
            "tags": []
          }
        },
        {
          "output_type": "display_data",
          "data": {
            "text/html": [
              "<pre>Read 5656 images in 5413.35 secs\tspeed: 1.11268 file/sec</pre>"
            ],
            "text/plain": [
              "Read 5656 images in 5413.35 secs\tspeed: 1.11268 file/sec"
            ]
          },
          "metadata": {
            "tags": []
          }
        },
        {
          "output_type": "display_data",
          "data": {
            "text/html": [
              "<pre>Read 5657 images in 5435.21 secs\tspeed: 0.0457558 file/sec</pre>"
            ],
            "text/plain": [
              "Read 5657 images in 5435.21 secs\tspeed: 0.0457558 file/sec"
            ]
          },
          "metadata": {
            "tags": []
          }
        },
        {
          "output_type": "display_data",
          "data": {
            "text/html": [
              "<pre>Read 5662 images in 5458.2 secs\tspeed: 0.217447 file/sec</pre>"
            ],
            "text/plain": [
              "Read 5662 images in 5458.2 secs\tspeed: 0.217447 file/sec"
            ]
          },
          "metadata": {
            "tags": []
          }
        },
        {
          "output_type": "display_data",
          "data": {
            "text/html": [
              "<pre>Read 5668 images in 5463.77 secs\tspeed: 1.07863 file/sec</pre>"
            ],
            "text/plain": [
              "Read 5668 images in 5463.77 secs\tspeed: 1.07863 file/sec"
            ]
          },
          "metadata": {
            "tags": []
          }
        },
        {
          "output_type": "display_data",
          "data": {
            "text/html": [
              "<pre>Read 5674 images in 5469.09 secs\tspeed: 1.12627 file/sec</pre>"
            ],
            "text/plain": [
              "Read 5674 images in 5469.09 secs\tspeed: 1.12627 file/sec"
            ]
          },
          "metadata": {
            "tags": []
          }
        },
        {
          "output_type": "display_data",
          "data": {
            "text/html": [
              "<pre>Read 5679 images in 5478.94 secs\tspeed: 0.507909 file/sec</pre>"
            ],
            "text/plain": [
              "Read 5679 images in 5478.94 secs\tspeed: 0.507909 file/sec"
            ]
          },
          "metadata": {
            "tags": []
          }
        },
        {
          "output_type": "display_data",
          "data": {
            "text/html": [
              "<pre>Read 5683 images in 5484.17 secs\tspeed: 0.764679 file/sec</pre>"
            ],
            "text/plain": [
              "Read 5683 images in 5484.17 secs\tspeed: 0.764679 file/sec"
            ]
          },
          "metadata": {
            "tags": []
          }
        },
        {
          "output_type": "display_data",
          "data": {
            "text/html": [
              "<pre>Read 5689 images in 5489.3 secs\tspeed: 1.17014 file/sec</pre>"
            ],
            "text/plain": [
              "Read 5689 images in 5489.3 secs\tspeed: 1.17014 file/sec"
            ]
          },
          "metadata": {
            "tags": []
          }
        },
        {
          "output_type": "display_data",
          "data": {
            "text/html": [
              "<pre>Read 5695 images in 5494.7 secs\tspeed: 1.11132 file/sec</pre>"
            ],
            "text/plain": [
              "Read 5695 images in 5494.7 secs\tspeed: 1.11132 file/sec"
            ]
          },
          "metadata": {
            "tags": []
          }
        },
        {
          "output_type": "display_data",
          "data": {
            "text/html": [
              "<pre>Read 5696 images in 5501.03 secs\tspeed: 0.157891 file/sec</pre>"
            ],
            "text/plain": [
              "Read 5696 images in 5501.03 secs\tspeed: 0.157891 file/sec"
            ]
          },
          "metadata": {
            "tags": []
          }
        },
        {
          "output_type": "display_data",
          "data": {
            "text/html": [
              "<pre>Read 5701 images in 5506.29 secs\tspeed: 0.950971 file/sec</pre>"
            ],
            "text/plain": [
              "Read 5701 images in 5506.29 secs\tspeed: 0.950971 file/sec"
            ]
          },
          "metadata": {
            "tags": []
          }
        },
        {
          "output_type": "display_data",
          "data": {
            "text/html": [
              "<pre>Read 5707 images in 5511.39 secs\tspeed: 1.17531 file/sec</pre>"
            ],
            "text/plain": [
              "Read 5707 images in 5511.39 secs\tspeed: 1.17531 file/sec"
            ]
          },
          "metadata": {
            "tags": []
          }
        },
        {
          "output_type": "display_data",
          "data": {
            "text/html": [
              "<pre>Read 5711 images in 5516.51 secs\tspeed: 0.78158 file/sec</pre>"
            ],
            "text/plain": [
              "Read 5711 images in 5516.51 secs\tspeed: 0.78158 file/sec"
            ]
          },
          "metadata": {
            "tags": []
          }
        },
        {
          "output_type": "display_data",
          "data": {
            "text/html": [
              "<pre>Read 5718 images in 5522.07 secs\tspeed: 1.25808 file/sec</pre>"
            ],
            "text/plain": [
              "Read 5718 images in 5522.07 secs\tspeed: 1.25808 file/sec"
            ]
          },
          "metadata": {
            "tags": []
          }
        },
        {
          "output_type": "display_data",
          "data": {
            "text/html": [
              "<pre>Read 5725 images in 5527.62 secs\tspeed: 1.26275 file/sec</pre>"
            ],
            "text/plain": [
              "Read 5725 images in 5527.62 secs\tspeed: 1.26275 file/sec"
            ]
          },
          "metadata": {
            "tags": []
          }
        },
        {
          "output_type": "display_data",
          "data": {
            "text/html": [
              "<pre>Read 5730 images in 5532.67 secs\tspeed: 0.988656 file/sec</pre>"
            ],
            "text/plain": [
              "Read 5730 images in 5532.67 secs\tspeed: 0.988656 file/sec"
            ]
          },
          "metadata": {
            "tags": []
          }
        },
        {
          "output_type": "display_data",
          "data": {
            "text/html": [
              "<pre>Read 5736 images in 5538.14 secs\tspeed: 1.0982 file/sec</pre>"
            ],
            "text/plain": [
              "Read 5736 images in 5538.14 secs\tspeed: 1.0982 file/sec"
            ]
          },
          "metadata": {
            "tags": []
          }
        },
        {
          "output_type": "display_data",
          "data": {
            "text/html": [
              "<pre>Read 5742 images in 5543.88 secs\tspeed: 1.04486 file/sec</pre>"
            ],
            "text/plain": [
              "Read 5742 images in 5543.88 secs\tspeed: 1.04486 file/sec"
            ]
          },
          "metadata": {
            "tags": []
          }
        },
        {
          "output_type": "display_data",
          "data": {
            "text/html": [
              "<pre>Read 5747 images in 5549.78 secs\tspeed: 0.847944 file/sec</pre>"
            ],
            "text/plain": [
              "Read 5747 images in 5549.78 secs\tspeed: 0.847944 file/sec"
            ]
          },
          "metadata": {
            "tags": []
          }
        },
        {
          "output_type": "display_data",
          "data": {
            "text/html": [
              "<pre>Read 5751 images in 5554.88 secs\tspeed: 0.783941 file/sec</pre>"
            ],
            "text/plain": [
              "Read 5751 images in 5554.88 secs\tspeed: 0.783941 file/sec"
            ]
          },
          "metadata": {
            "tags": []
          }
        },
        {
          "output_type": "display_data",
          "data": {
            "text/html": [
              "<pre>Read 5757 images in 5560.42 secs\tspeed: 1.08335 file/sec</pre>"
            ],
            "text/plain": [
              "Read 5757 images in 5560.42 secs\tspeed: 1.08335 file/sec"
            ]
          },
          "metadata": {
            "tags": []
          }
        },
        {
          "output_type": "display_data",
          "data": {
            "text/html": [
              "<pre>Read 5762 images in 5567 secs\tspeed: 0.75986 file/sec</pre>"
            ],
            "text/plain": [
              "Read 5762 images in 5567 secs\tspeed: 0.75986 file/sec"
            ]
          },
          "metadata": {
            "tags": []
          }
        },
        {
          "output_type": "display_data",
          "data": {
            "text/html": [
              "<pre>Read 5767 images in 5573.13 secs\tspeed: 0.815484 file/sec</pre>"
            ],
            "text/plain": [
              "Read 5767 images in 5573.13 secs\tspeed: 0.815484 file/sec"
            ]
          },
          "metadata": {
            "tags": []
          }
        },
        {
          "output_type": "display_data",
          "data": {
            "text/html": [
              "<pre>Read 5770 images in 5578.3 secs\tspeed: 0.580488 file/sec</pre>"
            ],
            "text/plain": [
              "Read 5770 images in 5578.3 secs\tspeed: 0.580488 file/sec"
            ]
          },
          "metadata": {
            "tags": []
          }
        },
        {
          "output_type": "display_data",
          "data": {
            "text/html": [
              "<pre>Read 5776 images in 5583.83 secs\tspeed: 1.08451 file/sec</pre>"
            ],
            "text/plain": [
              "Read 5776 images in 5583.83 secs\tspeed: 1.08451 file/sec"
            ]
          },
          "metadata": {
            "tags": []
          }
        },
        {
          "output_type": "display_data",
          "data": {
            "text/html": [
              "<pre>Read 5782 images in 5589.8 secs\tspeed: 1.00443 file/sec</pre>"
            ],
            "text/plain": [
              "Read 5782 images in 5589.8 secs\tspeed: 1.00443 file/sec"
            ]
          },
          "metadata": {
            "tags": []
          }
        },
        {
          "output_type": "display_data",
          "data": {
            "text/html": [
              "<pre>Read 5788 images in 5619.24 secs\tspeed: 0.203811 file/sec</pre>"
            ],
            "text/plain": [
              "Read 5788 images in 5619.24 secs\tspeed: 0.203811 file/sec"
            ]
          },
          "metadata": {
            "tags": []
          }
        },
        {
          "output_type": "display_data",
          "data": {
            "text/html": [
              "<pre>Read 5794 images in 5624.45 secs\tspeed: 1.15237 file/sec</pre>"
            ],
            "text/plain": [
              "Read 5794 images in 5624.45 secs\tspeed: 1.15237 file/sec"
            ]
          },
          "metadata": {
            "tags": []
          }
        },
        {
          "output_type": "display_data",
          "data": {
            "text/html": [
              "<pre>Read 5800 images in 5630.17 secs\tspeed: 1.0487 file/sec</pre>"
            ],
            "text/plain": [
              "Read 5800 images in 5630.17 secs\tspeed: 1.0487 file/sec"
            ]
          },
          "metadata": {
            "tags": []
          }
        },
        {
          "output_type": "display_data",
          "data": {
            "text/html": [
              "<pre>Read 5807 images in 5637.44 secs\tspeed: 0.96237 file/sec</pre>"
            ],
            "text/plain": [
              "Read 5807 images in 5637.44 secs\tspeed: 0.96237 file/sec"
            ]
          },
          "metadata": {
            "tags": []
          }
        },
        {
          "output_type": "display_data",
          "data": {
            "text/html": [
              "<pre>Read 5810 images in 5643.02 secs\tspeed: 0.538253 file/sec</pre>"
            ],
            "text/plain": [
              "Read 5810 images in 5643.02 secs\tspeed: 0.538253 file/sec"
            ]
          },
          "metadata": {
            "tags": []
          }
        },
        {
          "output_type": "display_data",
          "data": {
            "text/html": [
              "<pre>Read 5817 images in 5649.08 secs\tspeed: 1.15378 file/sec</pre>"
            ],
            "text/plain": [
              "Read 5817 images in 5649.08 secs\tspeed: 1.15378 file/sec"
            ]
          },
          "metadata": {
            "tags": []
          }
        },
        {
          "output_type": "display_data",
          "data": {
            "text/html": [
              "<pre>Read 5822 images in 5654.24 secs\tspeed: 0.969772 file/sec</pre>"
            ],
            "text/plain": [
              "Read 5822 images in 5654.24 secs\tspeed: 0.969772 file/sec"
            ]
          },
          "metadata": {
            "tags": []
          }
        },
        {
          "output_type": "display_data",
          "data": {
            "text/html": [
              "<pre>Read 5827 images in 5663.09 secs\tspeed: 0.5648 file/sec</pre>"
            ],
            "text/plain": [
              "Read 5827 images in 5663.09 secs\tspeed: 0.5648 file/sec"
            ]
          },
          "metadata": {
            "tags": []
          }
        },
        {
          "output_type": "display_data",
          "data": {
            "text/html": [
              "<pre>Read 5832 images in 5668.37 secs\tspeed: 0.947627 file/sec</pre>"
            ],
            "text/plain": [
              "Read 5832 images in 5668.37 secs\tspeed: 0.947627 file/sec"
            ]
          },
          "metadata": {
            "tags": []
          }
        },
        {
          "output_type": "display_data",
          "data": {
            "text/html": [
              "<pre>Read 5836 images in 5673.51 secs\tspeed: 0.778452 file/sec</pre>"
            ],
            "text/plain": [
              "Read 5836 images in 5673.51 secs\tspeed: 0.778452 file/sec"
            ]
          },
          "metadata": {
            "tags": []
          }
        },
        {
          "output_type": "display_data",
          "data": {
            "text/html": [
              "<pre>Read 5841 images in 5679.79 secs\tspeed: 0.795635 file/sec</pre>"
            ],
            "text/plain": [
              "Read 5841 images in 5679.79 secs\tspeed: 0.795635 file/sec"
            ]
          },
          "metadata": {
            "tags": []
          }
        },
        {
          "output_type": "display_data",
          "data": {
            "text/html": [
              "<pre>Read 5847 images in 5685.81 secs\tspeed: 0.996662 file/sec</pre>"
            ],
            "text/plain": [
              "Read 5847 images in 5685.81 secs\tspeed: 0.996662 file/sec"
            ]
          },
          "metadata": {
            "tags": []
          }
        },
        {
          "output_type": "display_data",
          "data": {
            "text/html": [
              "<pre>Read 5853 images in 5691.21 secs\tspeed: 1.11146 file/sec</pre>"
            ],
            "text/plain": [
              "Read 5853 images in 5691.21 secs\tspeed: 1.11146 file/sec"
            ]
          },
          "metadata": {
            "tags": []
          }
        },
        {
          "output_type": "display_data",
          "data": {
            "text/html": [
              "<pre>Read 5857 images in 5696.36 secs\tspeed: 0.777329 file/sec</pre>"
            ],
            "text/plain": [
              "Read 5857 images in 5696.36 secs\tspeed: 0.777329 file/sec"
            ]
          },
          "metadata": {
            "tags": []
          }
        },
        {
          "output_type": "display_data",
          "data": {
            "text/html": [
              "<pre>Read 5862 images in 5702.86 secs\tspeed: 0.768785 file/sec</pre>"
            ],
            "text/plain": [
              "Read 5862 images in 5702.86 secs\tspeed: 0.768785 file/sec"
            ]
          },
          "metadata": {
            "tags": []
          }
        },
        {
          "output_type": "display_data",
          "data": {
            "text/html": [
              "<pre>Read 5866 images in 5708.26 secs\tspeed: 0.741267 file/sec</pre>"
            ],
            "text/plain": [
              "Read 5866 images in 5708.26 secs\tspeed: 0.741267 file/sec"
            ]
          },
          "metadata": {
            "tags": []
          }
        },
        {
          "output_type": "display_data",
          "data": {
            "text/html": [
              "<pre>Read 5872 images in 5713.54 secs\tspeed: 1.13531 file/sec</pre>"
            ],
            "text/plain": [
              "Read 5872 images in 5713.54 secs\tspeed: 1.13531 file/sec"
            ]
          },
          "metadata": {
            "tags": []
          }
        },
        {
          "output_type": "display_data",
          "data": {
            "text/html": [
              "<pre>Read 5879 images in 5719.73 secs\tspeed: 1.13089 file/sec</pre>"
            ],
            "text/plain": [
              "Read 5879 images in 5719.73 secs\tspeed: 1.13089 file/sec"
            ]
          },
          "metadata": {
            "tags": []
          }
        },
        {
          "output_type": "display_data",
          "data": {
            "text/html": [
              "<pre>Read 5885 images in 5724.95 secs\tspeed: 1.14859 file/sec</pre>"
            ],
            "text/plain": [
              "Read 5885 images in 5724.95 secs\tspeed: 1.14859 file/sec"
            ]
          },
          "metadata": {
            "tags": []
          }
        },
        {
          "output_type": "display_data",
          "data": {
            "text/html": [
              "<pre>Read 5891 images in 5730.19 secs\tspeed: 1.14594 file/sec</pre>"
            ],
            "text/plain": [
              "Read 5891 images in 5730.19 secs\tspeed: 1.14594 file/sec"
            ]
          },
          "metadata": {
            "tags": []
          }
        },
        {
          "output_type": "display_data",
          "data": {
            "text/html": [
              "<pre>Read 5895 images in 5735.43 secs\tspeed: 0.763501 file/sec</pre>"
            ],
            "text/plain": [
              "Read 5895 images in 5735.43 secs\tspeed: 0.763501 file/sec"
            ]
          },
          "metadata": {
            "tags": []
          }
        },
        {
          "output_type": "display_data",
          "data": {
            "text/html": [
              "<pre>Read 5901 images in 5740.93 secs\tspeed: 1.0901 file/sec</pre>"
            ],
            "text/plain": [
              "Read 5901 images in 5740.93 secs\tspeed: 1.0901 file/sec"
            ]
          },
          "metadata": {
            "tags": []
          }
        },
        {
          "output_type": "display_data",
          "data": {
            "text/html": [
              "<pre>Read 5902 images in 5747.02 secs\tspeed: 0.164403 file/sec</pre>"
            ],
            "text/plain": [
              "Read 5902 images in 5747.02 secs\tspeed: 0.164403 file/sec"
            ]
          },
          "metadata": {
            "tags": []
          }
        },
        {
          "output_type": "display_data",
          "data": {
            "text/html": [
              "<pre>Read 5908 images in 5754.23 secs\tspeed: 0.831418 file/sec</pre>"
            ],
            "text/plain": [
              "Read 5908 images in 5754.23 secs\tspeed: 0.831418 file/sec"
            ]
          },
          "metadata": {
            "tags": []
          }
        },
        {
          "output_type": "display_data",
          "data": {
            "text/html": [
              "<pre>Read 5910 images in 5761.89 secs\tspeed: 0.261168 file/sec</pre>"
            ],
            "text/plain": [
              "Read 5910 images in 5761.89 secs\tspeed: 0.261168 file/sec"
            ]
          },
          "metadata": {
            "tags": []
          }
        },
        {
          "output_type": "display_data",
          "data": {
            "text/html": [
              "<pre>Read 5916 images in 5767.24 secs\tspeed: 1.12259 file/sec</pre>"
            ],
            "text/plain": [
              "Read 5916 images in 5767.24 secs\tspeed: 1.12259 file/sec"
            ]
          },
          "metadata": {
            "tags": []
          }
        },
        {
          "output_type": "display_data",
          "data": {
            "text/html": [
              "<pre>Read 5923 images in 5772.88 secs\tspeed: 1.23945 file/sec</pre>"
            ],
            "text/plain": [
              "Read 5923 images in 5772.88 secs\tspeed: 1.23945 file/sec"
            ]
          },
          "metadata": {
            "tags": []
          }
        },
        {
          "output_type": "display_data",
          "data": {
            "text/html": [
              "<pre>Read 5930 images in 5778.54 secs\tspeed: 1.23714 file/sec</pre>"
            ],
            "text/plain": [
              "Read 5930 images in 5778.54 secs\tspeed: 1.23714 file/sec"
            ]
          },
          "metadata": {
            "tags": []
          }
        },
        {
          "output_type": "display_data",
          "data": {
            "text/html": [
              "<pre>Read 5936 images in 5783.62 secs\tspeed: 1.18233 file/sec</pre>"
            ],
            "text/plain": [
              "Read 5936 images in 5783.62 secs\tspeed: 1.18233 file/sec"
            ]
          },
          "metadata": {
            "tags": []
          }
        },
        {
          "output_type": "display_data",
          "data": {
            "text/html": [
              "<pre>Read 5942 images in 5789.3 secs\tspeed: 1.05659 file/sec</pre>"
            ],
            "text/plain": [
              "Read 5942 images in 5789.3 secs\tspeed: 1.05659 file/sec"
            ]
          },
          "metadata": {
            "tags": []
          }
        },
        {
          "output_type": "display_data",
          "data": {
            "text/html": [
              "<pre>Read 5948 images in 5794.35 secs\tspeed: 1.18808 file/sec</pre>"
            ],
            "text/plain": [
              "Read 5948 images in 5794.35 secs\tspeed: 1.18808 file/sec"
            ]
          },
          "metadata": {
            "tags": []
          }
        },
        {
          "output_type": "display_data",
          "data": {
            "text/html": [
              "<pre>Read 5953 images in 5800 secs\tspeed: 0.884962 file/sec</pre>"
            ],
            "text/plain": [
              "Read 5953 images in 5800 secs\tspeed: 0.884962 file/sec"
            ]
          },
          "metadata": {
            "tags": []
          }
        },
        {
          "output_type": "display_data",
          "data": {
            "text/html": [
              "<pre>Read 5958 images in 5805.43 secs\tspeed: 0.919465 file/sec</pre>"
            ],
            "text/plain": [
              "Read 5958 images in 5805.43 secs\tspeed: 0.919465 file/sec"
            ]
          },
          "metadata": {
            "tags": []
          }
        },
        {
          "output_type": "display_data",
          "data": {
            "text/html": [
              "<pre>Read 5964 images in 5811.05 secs\tspeed: 1.06885 file/sec</pre>"
            ],
            "text/plain": [
              "Read 5964 images in 5811.05 secs\tspeed: 1.06885 file/sec"
            ]
          },
          "metadata": {
            "tags": []
          }
        },
        {
          "output_type": "display_data",
          "data": {
            "text/html": [
              "<pre>Read 5970 images in 5816.81 secs\tspeed: 1.04145 file/sec</pre>"
            ],
            "text/plain": [
              "Read 5970 images in 5816.81 secs\tspeed: 1.04145 file/sec"
            ]
          },
          "metadata": {
            "tags": []
          }
        },
        {
          "output_type": "display_data",
          "data": {
            "text/html": [
              "<pre>Read 5975 images in 5828.28 secs\tspeed: 0.435946 file/sec</pre>"
            ],
            "text/plain": [
              "Read 5975 images in 5828.28 secs\tspeed: 0.435946 file/sec"
            ]
          },
          "metadata": {
            "tags": []
          }
        },
        {
          "output_type": "display_data",
          "data": {
            "text/html": [
              "<pre>Read 5979 images in 5833.65 secs\tspeed: 0.744123 file/sec</pre>"
            ],
            "text/plain": [
              "Read 5979 images in 5833.65 secs\tspeed: 0.744123 file/sec"
            ]
          },
          "metadata": {
            "tags": []
          }
        },
        {
          "output_type": "display_data",
          "data": {
            "text/html": [
              "<pre>Read 5985 images in 5839.38 secs\tspeed: 1.04708 file/sec</pre>"
            ],
            "text/plain": [
              "Read 5985 images in 5839.38 secs\tspeed: 1.04708 file/sec"
            ]
          },
          "metadata": {
            "tags": []
          }
        },
        {
          "output_type": "display_data",
          "data": {
            "text/html": [
              "<pre>Read 5991 images in 5844.55 secs\tspeed: 1.16158 file/sec</pre>"
            ],
            "text/plain": [
              "Read 5991 images in 5844.55 secs\tspeed: 1.16158 file/sec"
            ]
          },
          "metadata": {
            "tags": []
          }
        },
        {
          "output_type": "display_data",
          "data": {
            "text/html": [
              "<pre>Read 5992 images in 5856.71 secs\tspeed: 0.0822147 file/sec</pre>"
            ],
            "text/plain": [
              "Read 5992 images in 5856.71 secs\tspeed: 0.0822147 file/sec"
            ]
          },
          "metadata": {
            "tags": []
          }
        },
        {
          "output_type": "display_data",
          "data": {
            "text/html": [
              "<pre>Read 5997 images in 5862.21 secs\tspeed: 0.909296 file/sec</pre>"
            ],
            "text/plain": [
              "Read 5997 images in 5862.21 secs\tspeed: 0.909296 file/sec"
            ]
          },
          "metadata": {
            "tags": []
          }
        },
        {
          "output_type": "display_data",
          "data": {
            "text/html": [
              "<pre>Read 6004 images in 5867.89 secs\tspeed: 1.23255 file/sec</pre>"
            ],
            "text/plain": [
              "Read 6004 images in 5867.89 secs\tspeed: 1.23255 file/sec"
            ]
          },
          "metadata": {
            "tags": []
          }
        },
        {
          "output_type": "display_data",
          "data": {
            "text/html": [
              "<pre>Read 6011 images in 5873.56 secs\tspeed: 1.23367 file/sec</pre>"
            ],
            "text/plain": [
              "Read 6011 images in 5873.56 secs\tspeed: 1.23367 file/sec"
            ]
          },
          "metadata": {
            "tags": []
          }
        },
        {
          "output_type": "display_data",
          "data": {
            "text/html": [
              "<pre>Read 6017 images in 5879.09 secs\tspeed: 1.08655 file/sec</pre>"
            ],
            "text/plain": [
              "Read 6017 images in 5879.09 secs\tspeed: 1.08655 file/sec"
            ]
          },
          "metadata": {
            "tags": []
          }
        },
        {
          "output_type": "display_data",
          "data": {
            "text/html": [
              "<pre>Read 6023 images in 5884.45 secs\tspeed: 1.11935 file/sec</pre>"
            ],
            "text/plain": [
              "Read 6023 images in 5884.45 secs\tspeed: 1.11935 file/sec"
            ]
          },
          "metadata": {
            "tags": []
          }
        },
        {
          "output_type": "display_data",
          "data": {
            "text/html": [
              "<pre>Read 6030 images in 5890.64 secs\tspeed: 1.13092 file/sec</pre>"
            ],
            "text/plain": [
              "Read 6030 images in 5890.64 secs\tspeed: 1.13092 file/sec"
            ]
          },
          "metadata": {
            "tags": []
          }
        },
        {
          "output_type": "display_data",
          "data": {
            "text/html": [
              "<pre>Read 6031 images in 5896.92 secs\tspeed: 0.159007 file/sec</pre>"
            ],
            "text/plain": [
              "Read 6031 images in 5896.92 secs\tspeed: 0.159007 file/sec"
            ]
          },
          "metadata": {
            "tags": []
          }
        },
        {
          "output_type": "display_data",
          "data": {
            "text/html": [
              "<pre>Read 6037 images in 5902.05 secs\tspeed: 1.17006 file/sec</pre>"
            ],
            "text/plain": [
              "Read 6037 images in 5902.05 secs\tspeed: 1.17006 file/sec"
            ]
          },
          "metadata": {
            "tags": []
          }
        },
        {
          "output_type": "display_data",
          "data": {
            "text/html": [
              "<pre>Read 6043 images in 5907.17 secs\tspeed: 1.17349 file/sec</pre>"
            ],
            "text/plain": [
              "Read 6043 images in 5907.17 secs\tspeed: 1.17349 file/sec"
            ]
          },
          "metadata": {
            "tags": []
          }
        },
        {
          "output_type": "display_data",
          "data": {
            "text/html": [
              "<pre>Read 6045 images in 5915.62 secs\tspeed: 0.236671 file/sec</pre>"
            ],
            "text/plain": [
              "Read 6045 images in 5915.62 secs\tspeed: 0.236671 file/sec"
            ]
          },
          "metadata": {
            "tags": []
          }
        },
        {
          "output_type": "display_data",
          "data": {
            "text/html": [
              "<pre>Read 6050 images in 5921.41 secs\tspeed: 0.863665 file/sec</pre>"
            ],
            "text/plain": [
              "Read 6050 images in 5921.41 secs\tspeed: 0.863665 file/sec"
            ]
          },
          "metadata": {
            "tags": []
          }
        },
        {
          "output_type": "display_data",
          "data": {
            "text/html": [
              "<pre>Read 6055 images in 5926.71 secs\tspeed: 0.942386 file/sec</pre>"
            ],
            "text/plain": [
              "Read 6055 images in 5926.71 secs\tspeed: 0.942386 file/sec"
            ]
          },
          "metadata": {
            "tags": []
          }
        },
        {
          "output_type": "display_data",
          "data": {
            "text/html": [
              "<pre>Read 6059 images in 5942.28 secs\tspeed: 0.25687 file/sec</pre>"
            ],
            "text/plain": [
              "Read 6059 images in 5942.28 secs\tspeed: 0.25687 file/sec"
            ]
          },
          "metadata": {
            "tags": []
          }
        },
        {
          "output_type": "display_data",
          "data": {
            "text/html": [
              "<pre>Read 6064 images in 5947.76 secs\tspeed: 0.912791 file/sec</pre>"
            ],
            "text/plain": [
              "Read 6064 images in 5947.76 secs\tspeed: 0.912791 file/sec"
            ]
          },
          "metadata": {
            "tags": []
          }
        },
        {
          "output_type": "display_data",
          "data": {
            "text/html": [
              "<pre>Read 6070 images in 5953.37 secs\tspeed: 1.07002 file/sec</pre>"
            ],
            "text/plain": [
              "Read 6070 images in 5953.37 secs\tspeed: 1.07002 file/sec"
            ]
          },
          "metadata": {
            "tags": []
          }
        },
        {
          "output_type": "display_data",
          "data": {
            "text/html": [
              "<pre>Read 6073 images in 5963.2 secs\tspeed: 0.305083 file/sec</pre>"
            ],
            "text/plain": [
              "Read 6073 images in 5963.2 secs\tspeed: 0.305083 file/sec"
            ]
          },
          "metadata": {
            "tags": []
          }
        },
        {
          "output_type": "display_data",
          "data": {
            "text/html": [
              "<pre>Read 6078 images in 5968.69 secs\tspeed: 0.911775 file/sec</pre>"
            ],
            "text/plain": [
              "Read 6078 images in 5968.69 secs\tspeed: 0.911775 file/sec"
            ]
          },
          "metadata": {
            "tags": []
          }
        },
        {
          "output_type": "display_data",
          "data": {
            "text/html": [
              "<pre>Read 6084 images in 5973.8 secs\tspeed: 1.17296 file/sec</pre>"
            ],
            "text/plain": [
              "Read 6084 images in 5973.8 secs\tspeed: 1.17296 file/sec"
            ]
          },
          "metadata": {
            "tags": []
          }
        },
        {
          "output_type": "display_data",
          "data": {
            "text/html": [
              "<pre>Read 6090 images in 5978.92 secs\tspeed: 1.17145 file/sec</pre>"
            ],
            "text/plain": [
              "Read 6090 images in 5978.92 secs\tspeed: 1.17145 file/sec"
            ]
          },
          "metadata": {
            "tags": []
          }
        },
        {
          "output_type": "display_data",
          "data": {
            "text/html": [
              "<pre>Read 6096 images in 5984.87 secs\tspeed: 1.0089 file/sec</pre>"
            ],
            "text/plain": [
              "Read 6096 images in 5984.87 secs\tspeed: 1.0089 file/sec"
            ]
          },
          "metadata": {
            "tags": []
          }
        },
        {
          "output_type": "display_data",
          "data": {
            "text/html": [
              "<pre>Read 6101 images in 5990.57 secs\tspeed: 0.876987 file/sec</pre>"
            ],
            "text/plain": [
              "Read 6101 images in 5990.57 secs\tspeed: 0.876987 file/sec"
            ]
          },
          "metadata": {
            "tags": []
          }
        },
        {
          "output_type": "display_data",
          "data": {
            "text/html": [
              "<pre>Read 6107 images in 5996.14 secs\tspeed: 1.07823 file/sec</pre>"
            ],
            "text/plain": [
              "Read 6107 images in 5996.14 secs\tspeed: 1.07823 file/sec"
            ]
          },
          "metadata": {
            "tags": []
          }
        },
        {
          "output_type": "display_data",
          "data": {
            "text/html": [
              "<pre>Read 6114 images in 6001.74 secs\tspeed: 1.2481 file/sec</pre>"
            ],
            "text/plain": [
              "Read 6114 images in 6001.74 secs\tspeed: 1.2481 file/sec"
            ]
          },
          "metadata": {
            "tags": []
          }
        },
        {
          "output_type": "display_data",
          "data": {
            "text/html": [
              "<pre>Read 6117 images in 6007.33 secs\tspeed: 0.536958 file/sec</pre>"
            ],
            "text/plain": [
              "Read 6117 images in 6007.33 secs\tspeed: 0.536958 file/sec"
            ]
          },
          "metadata": {
            "tags": []
          }
        },
        {
          "output_type": "display_data",
          "data": {
            "text/html": [
              "<pre>Read 6123 images in 6012.65 secs\tspeed: 1.12911 file/sec</pre>"
            ],
            "text/plain": [
              "Read 6123 images in 6012.65 secs\tspeed: 1.12911 file/sec"
            ]
          },
          "metadata": {
            "tags": []
          }
        },
        {
          "output_type": "display_data",
          "data": {
            "text/html": [
              "<pre>Read 6127 images in 6019.06 secs\tspeed: 0.623295 file/sec</pre>"
            ],
            "text/plain": [
              "Read 6127 images in 6019.06 secs\tspeed: 0.623295 file/sec"
            ]
          },
          "metadata": {
            "tags": []
          }
        },
        {
          "output_type": "display_data",
          "data": {
            "text/html": [
              "<pre>Read 6132 images in 6024.38 secs\tspeed: 0.940817 file/sec</pre>"
            ],
            "text/plain": [
              "Read 6132 images in 6024.38 secs\tspeed: 0.940817 file/sec"
            ]
          },
          "metadata": {
            "tags": []
          }
        },
        {
          "output_type": "display_data",
          "data": {
            "text/html": [
              "<pre>Read 6137 images in 6029.98 secs\tspeed: 0.892483 file/sec</pre>"
            ],
            "text/plain": [
              "Read 6137 images in 6029.98 secs\tspeed: 0.892483 file/sec"
            ]
          },
          "metadata": {
            "tags": []
          }
        },
        {
          "output_type": "display_data",
          "data": {
            "text/html": [
              "<pre>Read 6139 images in 6035.66 secs\tspeed: 0.351818 file/sec</pre>"
            ],
            "text/plain": [
              "Read 6139 images in 6035.66 secs\tspeed: 0.351818 file/sec"
            ]
          },
          "metadata": {
            "tags": []
          }
        },
        {
          "output_type": "display_data",
          "data": {
            "text/html": [
              "<pre>Read 6145 images in 6040.78 secs\tspeed: 1.17208 file/sec</pre>"
            ],
            "text/plain": [
              "Read 6145 images in 6040.78 secs\tspeed: 1.17208 file/sec"
            ]
          },
          "metadata": {
            "tags": []
          }
        },
        {
          "output_type": "display_data",
          "data": {
            "text/html": [
              "<pre>Read 6150 images in 6046.19 secs\tspeed: 0.924082 file/sec</pre>"
            ],
            "text/plain": [
              "Read 6150 images in 6046.19 secs\tspeed: 0.924082 file/sec"
            ]
          },
          "metadata": {
            "tags": []
          }
        },
        {
          "output_type": "display_data",
          "data": {
            "text/html": [
              "<pre>Read 6156 images in 6051.2 secs\tspeed: 1.19795 file/sec</pre>"
            ],
            "text/plain": [
              "Read 6156 images in 6051.2 secs\tspeed: 1.19795 file/sec"
            ]
          },
          "metadata": {
            "tags": []
          }
        },
        {
          "output_type": "display_data",
          "data": {
            "text/html": [
              "<pre>Read 6163 images in 6056.74 secs\tspeed: 1.26331 file/sec</pre>"
            ],
            "text/plain": [
              "Read 6163 images in 6056.74 secs\tspeed: 1.26331 file/sec"
            ]
          },
          "metadata": {
            "tags": []
          }
        },
        {
          "output_type": "display_data",
          "data": {
            "text/html": [
              "<pre>Read 6170 images in 6062.38 secs\tspeed: 1.24177 file/sec</pre>"
            ],
            "text/plain": [
              "Read 6170 images in 6062.38 secs\tspeed: 1.24177 file/sec"
            ]
          },
          "metadata": {
            "tags": []
          }
        },
        {
          "output_type": "display_data",
          "data": {
            "text/html": [
              "<pre>Read 6177 images in 6068.09 secs\tspeed: 1.22595 file/sec</pre>"
            ],
            "text/plain": [
              "Read 6177 images in 6068.09 secs\tspeed: 1.22595 file/sec"
            ]
          },
          "metadata": {
            "tags": []
          }
        },
        {
          "output_type": "display_data",
          "data": {
            "text/html": [
              "<pre>Read 6183 images in 6074.5 secs\tspeed: 0.935761 file/sec</pre>"
            ],
            "text/plain": [
              "Read 6183 images in 6074.5 secs\tspeed: 0.935761 file/sec"
            ]
          },
          "metadata": {
            "tags": []
          }
        },
        {
          "output_type": "display_data",
          "data": {
            "text/html": [
              "<pre>Read 6189 images in 6079.94 secs\tspeed: 1.10299 file/sec</pre>"
            ],
            "text/plain": [
              "Read 6189 images in 6079.94 secs\tspeed: 1.10299 file/sec"
            ]
          },
          "metadata": {
            "tags": []
          }
        },
        {
          "output_type": "display_data",
          "data": {
            "text/html": [
              "<pre>Read 6195 images in 6085.69 secs\tspeed: 1.04375 file/sec</pre>"
            ],
            "text/plain": [
              "Read 6195 images in 6085.69 secs\tspeed: 1.04375 file/sec"
            ]
          },
          "metadata": {
            "tags": []
          }
        },
        {
          "output_type": "display_data",
          "data": {
            "text/html": [
              "<pre>Read 6200 images in 6091.32 secs\tspeed: 0.888255 file/sec</pre>"
            ],
            "text/plain": [
              "Read 6200 images in 6091.32 secs\tspeed: 0.888255 file/sec"
            ]
          },
          "metadata": {
            "tags": []
          }
        },
        {
          "output_type": "display_data",
          "data": {
            "text/html": [
              "<pre>Read 6205 images in 6097.14 secs\tspeed: 0.858722 file/sec</pre>"
            ],
            "text/plain": [
              "Read 6205 images in 6097.14 secs\tspeed: 0.858722 file/sec"
            ]
          },
          "metadata": {
            "tags": []
          }
        },
        {
          "output_type": "display_data",
          "data": {
            "text/html": [
              "<pre>Read 6210 images in 6103.51 secs\tspeed: 0.784643 file/sec</pre>"
            ],
            "text/plain": [
              "Read 6210 images in 6103.51 secs\tspeed: 0.784643 file/sec"
            ]
          },
          "metadata": {
            "tags": []
          }
        },
        {
          "output_type": "display_data",
          "data": {
            "text/html": [
              "<pre>Read 6216 images in 6109.27 secs\tspeed: 1.04178 file/sec</pre>"
            ],
            "text/plain": [
              "Read 6216 images in 6109.27 secs\tspeed: 1.04178 file/sec"
            ]
          },
          "metadata": {
            "tags": []
          }
        },
        {
          "output_type": "display_data",
          "data": {
            "text/html": [
              "<pre>Read 6221 images in 6114.41 secs\tspeed: 0.973214 file/sec</pre>"
            ],
            "text/plain": [
              "Read 6221 images in 6114.41 secs\tspeed: 0.973214 file/sec"
            ]
          },
          "metadata": {
            "tags": []
          }
        },
        {
          "output_type": "display_data",
          "data": {
            "text/html": [
              "<pre>Read 6226 images in 6122.84 secs\tspeed: 0.592947 file/sec</pre>"
            ],
            "text/plain": [
              "Read 6226 images in 6122.84 secs\tspeed: 0.592947 file/sec"
            ]
          },
          "metadata": {
            "tags": []
          }
        },
        {
          "output_type": "display_data",
          "data": {
            "text/html": [
              "<pre>Read 6231 images in 6127.92 secs\tspeed: 0.984489 file/sec</pre>"
            ],
            "text/plain": [
              "Read 6231 images in 6127.92 secs\tspeed: 0.984489 file/sec"
            ]
          },
          "metadata": {
            "tags": []
          }
        },
        {
          "output_type": "display_data",
          "data": {
            "text/html": [
              "<pre>Read 6237 images in 6133.03 secs\tspeed: 1.17477 file/sec</pre>"
            ],
            "text/plain": [
              "Read 6237 images in 6133.03 secs\tspeed: 1.17477 file/sec"
            ]
          },
          "metadata": {
            "tags": []
          }
        },
        {
          "output_type": "display_data",
          "data": {
            "text/html": [
              "<pre>Read 6243 images in 6138.14 secs\tspeed: 1.17427 file/sec</pre>"
            ],
            "text/plain": [
              "Read 6243 images in 6138.14 secs\tspeed: 1.17427 file/sec"
            ]
          },
          "metadata": {
            "tags": []
          }
        },
        {
          "output_type": "display_data",
          "data": {
            "text/html": [
              "<pre>Read 6249 images in 6143.92 secs\tspeed: 1.03823 file/sec</pre>"
            ],
            "text/plain": [
              "Read 6249 images in 6143.92 secs\tspeed: 1.03823 file/sec"
            ]
          },
          "metadata": {
            "tags": []
          }
        },
        {
          "output_type": "display_data",
          "data": {
            "text/html": [
              "<pre>Read 6253 images in 6150.23 secs\tspeed: 0.634284 file/sec</pre>"
            ],
            "text/plain": [
              "Read 6253 images in 6150.23 secs\tspeed: 0.634284 file/sec"
            ]
          },
          "metadata": {
            "tags": []
          }
        },
        {
          "output_type": "display_data",
          "data": {
            "text/html": [
              "<pre>Read 6260 images in 6155.77 secs\tspeed: 1.26314 file/sec</pre>"
            ],
            "text/plain": [
              "Read 6260 images in 6155.77 secs\tspeed: 1.26314 file/sec"
            ]
          },
          "metadata": {
            "tags": []
          }
        },
        {
          "output_type": "display_data",
          "data": {
            "text/html": [
              "<pre>Read 6266 images in 6163.47 secs\tspeed: 0.778444 file/sec</pre>"
            ],
            "text/plain": [
              "Read 6266 images in 6163.47 secs\tspeed: 0.778444 file/sec"
            ]
          },
          "metadata": {
            "tags": []
          }
        },
        {
          "output_type": "display_data",
          "data": {
            "text/html": [
              "<pre>Read 6272 images in 6169.26 secs\tspeed: 1.03745 file/sec</pre>"
            ],
            "text/plain": [
              "Read 6272 images in 6169.26 secs\tspeed: 1.03745 file/sec"
            ]
          },
          "metadata": {
            "tags": []
          }
        },
        {
          "output_type": "display_data",
          "data": {
            "text/html": [
              "<pre>Read 6279 images in 6175.15 secs\tspeed: 1.18838 file/sec</pre>"
            ],
            "text/plain": [
              "Read 6279 images in 6175.15 secs\tspeed: 1.18838 file/sec"
            ]
          },
          "metadata": {
            "tags": []
          }
        },
        {
          "output_type": "display_data",
          "data": {
            "text/html": [
              "<pre>Read 6285 images in 6180.34 secs\tspeed: 1.15614 file/sec</pre>"
            ],
            "text/plain": [
              "Read 6285 images in 6180.34 secs\tspeed: 1.15614 file/sec"
            ]
          },
          "metadata": {
            "tags": []
          }
        },
        {
          "output_type": "display_data",
          "data": {
            "text/html": [
              "<pre>Read 6291 images in 6185.78 secs\tspeed: 1.10332 file/sec</pre>"
            ],
            "text/plain": [
              "Read 6291 images in 6185.78 secs\tspeed: 1.10332 file/sec"
            ]
          },
          "metadata": {
            "tags": []
          }
        },
        {
          "output_type": "display_data",
          "data": {
            "text/html": [
              "<pre>Read 6297 images in 6191.38 secs\tspeed: 1.0705 file/sec</pre>"
            ],
            "text/plain": [
              "Read 6297 images in 6191.38 secs\tspeed: 1.0705 file/sec"
            ]
          },
          "metadata": {
            "tags": []
          }
        },
        {
          "output_type": "display_data",
          "data": {
            "text/html": [
              "<pre>Read 6303 images in 6197.66 secs\tspeed: 0.955956 file/sec</pre>"
            ],
            "text/plain": [
              "Read 6303 images in 6197.66 secs\tspeed: 0.955956 file/sec"
            ]
          },
          "metadata": {
            "tags": []
          }
        },
        {
          "output_type": "display_data",
          "data": {
            "text/html": [
              "<pre>Read 6310 images in 6203.39 secs\tspeed: 1.22118 file/sec</pre>"
            ],
            "text/plain": [
              "Read 6310 images in 6203.39 secs\tspeed: 1.22118 file/sec"
            ]
          },
          "metadata": {
            "tags": []
          }
        },
        {
          "output_type": "display_data",
          "data": {
            "text/html": [
              "<pre>Read 6316 images in 6208.98 secs\tspeed: 1.07305 file/sec</pre>"
            ],
            "text/plain": [
              "Read 6316 images in 6208.98 secs\tspeed: 1.07305 file/sec"
            ]
          },
          "metadata": {
            "tags": []
          }
        },
        {
          "output_type": "display_data",
          "data": {
            "text/html": [
              "<pre>Read 6323 images in 6214.76 secs\tspeed: 1.21063 file/sec</pre>"
            ],
            "text/plain": [
              "Read 6323 images in 6214.76 secs\tspeed: 1.21063 file/sec"
            ]
          },
          "metadata": {
            "tags": []
          }
        },
        {
          "output_type": "display_data",
          "data": {
            "text/html": [
              "<pre>Read 6330 images in 6220.53 secs\tspeed: 1.21431 file/sec</pre>"
            ],
            "text/plain": [
              "Read 6330 images in 6220.53 secs\tspeed: 1.21431 file/sec"
            ]
          },
          "metadata": {
            "tags": []
          }
        },
        {
          "output_type": "display_data",
          "data": {
            "text/html": [
              "<pre>Read 6336 images in 6226.67 secs\tspeed: 0.976128 file/sec</pre>"
            ],
            "text/plain": [
              "Read 6336 images in 6226.67 secs\tspeed: 0.976128 file/sec"
            ]
          },
          "metadata": {
            "tags": []
          }
        },
        {
          "output_type": "display_data",
          "data": {
            "text/html": [
              "<pre>Read 6343 images in 6232.28 secs\tspeed: 1.24964 file/sec</pre>"
            ],
            "text/plain": [
              "Read 6343 images in 6232.28 secs\tspeed: 1.24964 file/sec"
            ]
          },
          "metadata": {
            "tags": []
          }
        },
        {
          "output_type": "display_data",
          "data": {
            "text/html": [
              "<pre>Read 6350 images in 6238.98 secs\tspeed: 1.04462 file/sec</pre>"
            ],
            "text/plain": [
              "Read 6350 images in 6238.98 secs\tspeed: 1.04462 file/sec"
            ]
          },
          "metadata": {
            "tags": []
          }
        },
        {
          "output_type": "display_data",
          "data": {
            "text/html": [
              "<pre>Read 6357 images in 6245.3 secs\tspeed: 1.1074 file/sec</pre>"
            ],
            "text/plain": [
              "Read 6357 images in 6245.3 secs\tspeed: 1.1074 file/sec"
            ]
          },
          "metadata": {
            "tags": []
          }
        },
        {
          "output_type": "display_data",
          "data": {
            "text/html": [
              "<pre>Read 6364 images in 6250.74 secs\tspeed: 1.28594 file/sec</pre>"
            ],
            "text/plain": [
              "Read 6364 images in 6250.74 secs\tspeed: 1.28594 file/sec"
            ]
          },
          "metadata": {
            "tags": []
          }
        },
        {
          "output_type": "display_data",
          "data": {
            "text/html": [
              "<pre>Read 6371 images in 6256.31 secs\tspeed: 1.25681 file/sec</pre>"
            ],
            "text/plain": [
              "Read 6371 images in 6256.31 secs\tspeed: 1.25681 file/sec"
            ]
          },
          "metadata": {
            "tags": []
          }
        },
        {
          "output_type": "display_data",
          "data": {
            "text/html": [
              "<pre>Read 6378 images in 6261.85 secs\tspeed: 1.26415 file/sec</pre>"
            ],
            "text/plain": [
              "Read 6378 images in 6261.85 secs\tspeed: 1.26415 file/sec"
            ]
          },
          "metadata": {
            "tags": []
          }
        },
        {
          "output_type": "display_data",
          "data": {
            "text/html": [
              "<pre>Read 6385 images in 6267.55 secs\tspeed: 1.22704 file/sec</pre>"
            ],
            "text/plain": [
              "Read 6385 images in 6267.55 secs\tspeed: 1.22704 file/sec"
            ]
          },
          "metadata": {
            "tags": []
          }
        },
        {
          "output_type": "display_data",
          "data": {
            "text/html": [
              "<pre>Read 6390 images in 6272.94 secs\tspeed: 0.928193 file/sec</pre>"
            ],
            "text/plain": [
              "Read 6390 images in 6272.94 secs\tspeed: 0.928193 file/sec"
            ]
          },
          "metadata": {
            "tags": []
          }
        },
        {
          "output_type": "display_data",
          "data": {
            "text/html": [
              "<pre>Read 6397 images in 6278.31 secs\tspeed: 1.30295 file/sec</pre>"
            ],
            "text/plain": [
              "Read 6397 images in 6278.31 secs\tspeed: 1.30295 file/sec"
            ]
          },
          "metadata": {
            "tags": []
          }
        },
        {
          "output_type": "display_data",
          "data": {
            "text/html": [
              "<pre>Read 6401 images in 6283.36 secs\tspeed: 0.792153 file/sec</pre>"
            ],
            "text/plain": [
              "Read 6401 images in 6283.36 secs\tspeed: 0.792153 file/sec"
            ]
          },
          "metadata": {
            "tags": []
          }
        },
        {
          "output_type": "display_data",
          "data": {
            "text/html": [
              "<pre>Read 6406 images in 6289.17 secs\tspeed: 0.860974 file/sec</pre>"
            ],
            "text/plain": [
              "Read 6406 images in 6289.17 secs\tspeed: 0.860974 file/sec"
            ]
          },
          "metadata": {
            "tags": []
          }
        },
        {
          "output_type": "display_data",
          "data": {
            "text/html": [
              "<pre>Read 6412 images in 6294.78 secs\tspeed: 1.06918 file/sec</pre>"
            ],
            "text/plain": [
              "Read 6412 images in 6294.78 secs\tspeed: 1.06918 file/sec"
            ]
          },
          "metadata": {
            "tags": []
          }
        },
        {
          "output_type": "display_data",
          "data": {
            "text/html": [
              "<pre>Read 6418 images in 6299.95 secs\tspeed: 1.15991 file/sec</pre>"
            ],
            "text/plain": [
              "Read 6418 images in 6299.95 secs\tspeed: 1.15991 file/sec"
            ]
          },
          "metadata": {
            "tags": []
          }
        },
        {
          "output_type": "display_data",
          "data": {
            "text/html": [
              "<pre>Read 6423 images in 6305.56 secs\tspeed: 0.892215 file/sec</pre>"
            ],
            "text/plain": [
              "Read 6423 images in 6305.56 secs\tspeed: 0.892215 file/sec"
            ]
          },
          "metadata": {
            "tags": []
          }
        },
        {
          "output_type": "display_data",
          "data": {
            "text/html": [
              "<pre>Read 6429 images in 6317.84 secs\tspeed: 0.488381 file/sec</pre>"
            ],
            "text/plain": [
              "Read 6429 images in 6317.84 secs\tspeed: 0.488381 file/sec"
            ]
          },
          "metadata": {
            "tags": []
          }
        },
        {
          "output_type": "display_data",
          "data": {
            "text/html": [
              "<pre>Read 6435 images in 6323.66 secs\tspeed: 1.03161 file/sec</pre>"
            ],
            "text/plain": [
              "Read 6435 images in 6323.66 secs\tspeed: 1.03161 file/sec"
            ]
          },
          "metadata": {
            "tags": []
          }
        },
        {
          "output_type": "display_data",
          "data": {
            "text/html": [
              "<pre>Read 6442 images in 6329.21 secs\tspeed: 1.26192 file/sec</pre>"
            ],
            "text/plain": [
              "Read 6442 images in 6329.21 secs\tspeed: 1.26192 file/sec"
            ]
          },
          "metadata": {
            "tags": []
          }
        },
        {
          "output_type": "display_data",
          "data": {
            "text/html": [
              "<pre>Read 6449 images in 6334.81 secs\tspeed: 1.24848 file/sec</pre>"
            ],
            "text/plain": [
              "Read 6449 images in 6334.81 secs\tspeed: 1.24848 file/sec"
            ]
          },
          "metadata": {
            "tags": []
          }
        },
        {
          "output_type": "display_data",
          "data": {
            "text/html": [
              "<pre>Read 6456 images in 6340.42 secs\tspeed: 1.24846 file/sec</pre>"
            ],
            "text/plain": [
              "Read 6456 images in 6340.42 secs\tspeed: 1.24846 file/sec"
            ]
          },
          "metadata": {
            "tags": []
          }
        },
        {
          "output_type": "display_data",
          "data": {
            "text/html": [
              "<pre>Read 6460 images in 6345.43 secs\tspeed: 0.798721 file/sec</pre>"
            ],
            "text/plain": [
              "Read 6460 images in 6345.43 secs\tspeed: 0.798721 file/sec"
            ]
          },
          "metadata": {
            "tags": []
          }
        },
        {
          "output_type": "display_data",
          "data": {
            "text/html": [
              "<pre>Read 6467 images in 6351.09 secs\tspeed: 1.23605 file/sec</pre>"
            ],
            "text/plain": [
              "Read 6467 images in 6351.09 secs\tspeed: 1.23605 file/sec"
            ]
          },
          "metadata": {
            "tags": []
          }
        },
        {
          "output_type": "display_data",
          "data": {
            "text/html": [
              "<pre>Read 6474 images in 6356.71 secs\tspeed: 1.24524 file/sec</pre>"
            ],
            "text/plain": [
              "Read 6474 images in 6356.71 secs\tspeed: 1.24524 file/sec"
            ]
          },
          "metadata": {
            "tags": []
          }
        },
        {
          "output_type": "display_data",
          "data": {
            "text/html": [
              "<pre>Read 6481 images in 6362.24 secs\tspeed: 1.26739 file/sec</pre>"
            ],
            "text/plain": [
              "Read 6481 images in 6362.24 secs\tspeed: 1.26739 file/sec"
            ]
          },
          "metadata": {
            "tags": []
          }
        },
        {
          "output_type": "display_data",
          "data": {
            "text/html": [
              "<pre>Read 6487 images in 6367.43 secs\tspeed: 1.1564 file/sec</pre>"
            ],
            "text/plain": [
              "Read 6487 images in 6367.43 secs\tspeed: 1.1564 file/sec"
            ]
          },
          "metadata": {
            "tags": []
          }
        },
        {
          "output_type": "display_data",
          "data": {
            "text/html": [
              "<pre>Read 6493 images in 6373.42 secs\tspeed: 1.00092 file/sec</pre>"
            ],
            "text/plain": [
              "Read 6493 images in 6373.42 secs\tspeed: 1.00092 file/sec"
            ]
          },
          "metadata": {
            "tags": []
          }
        },
        {
          "output_type": "display_data",
          "data": {
            "text/html": [
              "<pre>Read 6500 images in 6378.94 secs\tspeed: 1.26776 file/sec</pre>"
            ],
            "text/plain": [
              "Read 6500 images in 6378.94 secs\tspeed: 1.26776 file/sec"
            ]
          },
          "metadata": {
            "tags": []
          }
        },
        {
          "output_type": "display_data",
          "data": {
            "text/html": [
              "<pre>Read 6506 images in 6384.07 secs\tspeed: 1.16985 file/sec</pre>"
            ],
            "text/plain": [
              "Read 6506 images in 6384.07 secs\tspeed: 1.16985 file/sec"
            ]
          },
          "metadata": {
            "tags": []
          }
        },
        {
          "output_type": "display_data",
          "data": {
            "text/html": [
              "<pre>Read 6510 images in 6389.38 secs\tspeed: 0.753485 file/sec</pre>"
            ],
            "text/plain": [
              "Read 6510 images in 6389.38 secs\tspeed: 0.753485 file/sec"
            ]
          },
          "metadata": {
            "tags": []
          }
        },
        {
          "output_type": "display_data",
          "data": {
            "text/html": [
              "<pre>Read 6515 images in 6395.01 secs\tspeed: 0.887857 file/sec</pre>"
            ],
            "text/plain": [
              "Read 6515 images in 6395.01 secs\tspeed: 0.887857 file/sec"
            ]
          },
          "metadata": {
            "tags": []
          }
        },
        {
          "output_type": "display_data",
          "data": {
            "text/html": [
              "<pre>Read 6522 images in 6400.6 secs\tspeed: 1.25182 file/sec</pre>"
            ],
            "text/plain": [
              "Read 6522 images in 6400.6 secs\tspeed: 1.25182 file/sec"
            ]
          },
          "metadata": {
            "tags": []
          }
        },
        {
          "output_type": "display_data",
          "data": {
            "text/html": [
              "<pre>Read 6529 images in 6406.1 secs\tspeed: 1.27328 file/sec</pre>"
            ],
            "text/plain": [
              "Read 6529 images in 6406.1 secs\tspeed: 1.27328 file/sec"
            ]
          },
          "metadata": {
            "tags": []
          }
        },
        {
          "output_type": "display_data",
          "data": {
            "text/html": [
              "<pre>Read 6535 images in 6411.18 secs\tspeed: 1.1815 file/sec</pre>"
            ],
            "text/plain": [
              "Read 6535 images in 6411.18 secs\tspeed: 1.1815 file/sec"
            ]
          },
          "metadata": {
            "tags": []
          }
        },
        {
          "output_type": "display_data",
          "data": {
            "text/html": [
              "<pre>Read 6542 images in 6417.35 secs\tspeed: 1.13442 file/sec</pre>"
            ],
            "text/plain": [
              "Read 6542 images in 6417.35 secs\tspeed: 1.13442 file/sec"
            ]
          },
          "metadata": {
            "tags": []
          }
        },
        {
          "output_type": "display_data",
          "data": {
            "text/html": [
              "<pre>Read 6549 images in 6422.94 secs\tspeed: 1.25088 file/sec</pre>"
            ],
            "text/plain": [
              "Read 6549 images in 6422.94 secs\tspeed: 1.25088 file/sec"
            ]
          },
          "metadata": {
            "tags": []
          }
        },
        {
          "output_type": "display_data",
          "data": {
            "text/html": [
              "<pre>Read 6556 images in 6428.62 secs\tspeed: 1.23393 file/sec</pre>"
            ],
            "text/plain": [
              "Read 6556 images in 6428.62 secs\tspeed: 1.23393 file/sec"
            ]
          },
          "metadata": {
            "tags": []
          }
        },
        {
          "output_type": "display_data",
          "data": {
            "text/html": [
              "<pre>Read 6563 images in 6433.94 secs\tspeed: 1.31557 file/sec</pre>"
            ],
            "text/plain": [
              "Read 6563 images in 6433.94 secs\tspeed: 1.31557 file/sec"
            ]
          },
          "metadata": {
            "tags": []
          }
        },
        {
          "output_type": "display_data",
          "data": {
            "text/html": [
              "<pre>Read 6566 images in 6439.36 secs\tspeed: 0.553749 file/sec</pre>"
            ],
            "text/plain": [
              "Read 6566 images in 6439.36 secs\tspeed: 0.553749 file/sec"
            ]
          },
          "metadata": {
            "tags": []
          }
        },
        {
          "output_type": "display_data",
          "data": {
            "text/html": [
              "<pre>Read 6572 images in 6444.36 secs\tspeed: 1.19903 file/sec</pre>"
            ],
            "text/plain": [
              "Read 6572 images in 6444.36 secs\tspeed: 1.19903 file/sec"
            ]
          },
          "metadata": {
            "tags": []
          }
        },
        {
          "output_type": "display_data",
          "data": {
            "text/html": [
              "<pre>Read 6578 images in 6449.99 secs\tspeed: 1.06567 file/sec</pre>"
            ],
            "text/plain": [
              "Read 6578 images in 6449.99 secs\tspeed: 1.06567 file/sec"
            ]
          },
          "metadata": {
            "tags": []
          }
        },
        {
          "output_type": "display_data",
          "data": {
            "text/html": [
              "<pre>Read 6582 images in 6456.81 secs\tspeed: 0.58625 file/sec</pre>"
            ],
            "text/plain": [
              "Read 6582 images in 6456.81 secs\tspeed: 0.58625 file/sec"
            ]
          },
          "metadata": {
            "tags": []
          }
        },
        {
          "output_type": "display_data",
          "data": {
            "text/html": [
              "<pre>Read 6588 images in 6462.36 secs\tspeed: 1.08079 file/sec</pre>"
            ],
            "text/plain": [
              "Read 6588 images in 6462.36 secs\tspeed: 1.08079 file/sec"
            ]
          },
          "metadata": {
            "tags": []
          }
        },
        {
          "output_type": "display_data",
          "data": {
            "text/html": [
              "<pre>Read 6595 images in 6468.12 secs\tspeed: 1.21602 file/sec</pre>"
            ],
            "text/plain": [
              "Read 6595 images in 6468.12 secs\tspeed: 1.21602 file/sec"
            ]
          },
          "metadata": {
            "tags": []
          }
        },
        {
          "output_type": "display_data",
          "data": {
            "text/html": [
              "<pre>Read 6601 images in 6473.65 secs\tspeed: 1.08616 file/sec</pre>"
            ],
            "text/plain": [
              "Read 6601 images in 6473.65 secs\tspeed: 1.08616 file/sec"
            ]
          },
          "metadata": {
            "tags": []
          }
        },
        {
          "output_type": "display_data",
          "data": {
            "text/html": [
              "<pre>Read 6607 images in 6478.81 secs\tspeed: 1.16205 file/sec</pre>"
            ],
            "text/plain": [
              "Read 6607 images in 6478.81 secs\tspeed: 1.16205 file/sec"
            ]
          },
          "metadata": {
            "tags": []
          }
        },
        {
          "output_type": "display_data",
          "data": {
            "text/html": [
              "<pre>Read 6613 images in 6484.2 secs\tspeed: 1.11224 file/sec</pre>"
            ],
            "text/plain": [
              "Read 6613 images in 6484.2 secs\tspeed: 1.11224 file/sec"
            ]
          },
          "metadata": {
            "tags": []
          }
        },
        {
          "output_type": "display_data",
          "data": {
            "text/html": [
              "<pre>Read 6619 images in 6489.61 secs\tspeed: 1.10998 file/sec</pre>"
            ],
            "text/plain": [
              "Read 6619 images in 6489.61 secs\tspeed: 1.10998 file/sec"
            ]
          },
          "metadata": {
            "tags": []
          }
        },
        {
          "output_type": "display_data",
          "data": {
            "text/html": [
              "<pre>Read 6626 images in 6495.32 secs\tspeed: 1.22505 file/sec</pre>"
            ],
            "text/plain": [
              "Read 6626 images in 6495.32 secs\tspeed: 1.22505 file/sec"
            ]
          },
          "metadata": {
            "tags": []
          }
        },
        {
          "output_type": "display_data",
          "data": {
            "text/html": [
              "<pre>Read 6632 images in 6501.25 secs\tspeed: 1.01288 file/sec</pre>"
            ],
            "text/plain": [
              "Read 6632 images in 6501.25 secs\tspeed: 1.01288 file/sec"
            ]
          },
          "metadata": {
            "tags": []
          }
        },
        {
          "output_type": "display_data",
          "data": {
            "text/html": [
              "<pre>Read 6638 images in 6507.15 secs\tspeed: 1.01575 file/sec</pre>"
            ],
            "text/plain": [
              "Read 6638 images in 6507.15 secs\tspeed: 1.01575 file/sec"
            ]
          },
          "metadata": {
            "tags": []
          }
        },
        {
          "output_type": "display_data",
          "data": {
            "text/html": [
              "<pre>Read 6643 images in 6515.68 secs\tspeed: 0.586444 file/sec</pre>"
            ],
            "text/plain": [
              "Read 6643 images in 6515.68 secs\tspeed: 0.586444 file/sec"
            ]
          },
          "metadata": {
            "tags": []
          }
        },
        {
          "output_type": "display_data",
          "data": {
            "text/html": [
              "<pre>Read 6650 images in 6521.32 secs\tspeed: 1.24091 file/sec</pre>"
            ],
            "text/plain": [
              "Read 6650 images in 6521.32 secs\tspeed: 1.24091 file/sec"
            ]
          },
          "metadata": {
            "tags": []
          }
        },
        {
          "output_type": "display_data",
          "data": {
            "text/html": [
              "<pre>Read 6656 images in 6526.48 secs\tspeed: 1.16257 file/sec</pre>"
            ],
            "text/plain": [
              "Read 6656 images in 6526.48 secs\tspeed: 1.16257 file/sec"
            ]
          },
          "metadata": {
            "tags": []
          }
        },
        {
          "output_type": "display_data",
          "data": {
            "text/html": [
              "<pre>Read 6663 images in 6532.11 secs\tspeed: 1.24452 file/sec</pre>"
            ],
            "text/plain": [
              "Read 6663 images in 6532.11 secs\tspeed: 1.24452 file/sec"
            ]
          },
          "metadata": {
            "tags": []
          }
        },
        {
          "output_type": "display_data",
          "data": {
            "text/html": [
              "<pre>Read 6670 images in 6537.55 secs\tspeed: 1.28575 file/sec</pre>"
            ],
            "text/plain": [
              "Read 6670 images in 6537.55 secs\tspeed: 1.28575 file/sec"
            ]
          },
          "metadata": {
            "tags": []
          }
        },
        {
          "output_type": "display_data",
          "data": {
            "text/html": [
              "<pre>Read 6676 images in 6543.26 secs\tspeed: 1.05126 file/sec</pre>"
            ],
            "text/plain": [
              "Read 6676 images in 6543.26 secs\tspeed: 1.05126 file/sec"
            ]
          },
          "metadata": {
            "tags": []
          }
        },
        {
          "output_type": "display_data",
          "data": {
            "text/html": [
              "<pre>Read 6682 images in 6549.08 secs\tspeed: 1.03088 file/sec</pre>"
            ],
            "text/plain": [
              "Read 6682 images in 6549.08 secs\tspeed: 1.03088 file/sec"
            ]
          },
          "metadata": {
            "tags": []
          }
        },
        {
          "output_type": "display_data",
          "data": {
            "text/html": [
              "<pre>Read 6688 images in 6554.69 secs\tspeed: 1.0682 file/sec</pre>"
            ],
            "text/plain": [
              "Read 6688 images in 6554.69 secs\tspeed: 1.0682 file/sec"
            ]
          },
          "metadata": {
            "tags": []
          }
        },
        {
          "output_type": "display_data",
          "data": {
            "text/html": [
              "<pre>Read 6693 images in 6560 secs\tspeed: 0.942102 file/sec</pre>"
            ],
            "text/plain": [
              "Read 6693 images in 6560 secs\tspeed: 0.942102 file/sec"
            ]
          },
          "metadata": {
            "tags": []
          }
        },
        {
          "output_type": "display_data",
          "data": {
            "text/html": [
              "<pre>Read 6700 images in 6565.62 secs\tspeed: 1.24634 file/sec</pre>"
            ],
            "text/plain": [
              "Read 6700 images in 6565.62 secs\tspeed: 1.24634 file/sec"
            ]
          },
          "metadata": {
            "tags": []
          }
        },
        {
          "output_type": "display_data",
          "data": {
            "text/html": [
              "<pre>Read 6705 images in 6571.59 secs\tspeed: 0.837978 file/sec</pre>"
            ],
            "text/plain": [
              "Read 6705 images in 6571.59 secs\tspeed: 0.837978 file/sec"
            ]
          },
          "metadata": {
            "tags": []
          }
        },
        {
          "output_type": "display_data",
          "data": {
            "text/html": [
              "<pre>Read 6710 images in 6576.71 secs\tspeed: 0.975008 file/sec</pre>"
            ],
            "text/plain": [
              "Read 6710 images in 6576.71 secs\tspeed: 0.975008 file/sec"
            ]
          },
          "metadata": {
            "tags": []
          }
        },
        {
          "output_type": "display_data",
          "data": {
            "text/html": [
              "<pre>Read 6716 images in 6581.78 secs\tspeed: 1.1853 file/sec</pre>"
            ],
            "text/plain": [
              "Read 6716 images in 6581.78 secs\tspeed: 1.1853 file/sec"
            ]
          },
          "metadata": {
            "tags": []
          }
        },
        {
          "output_type": "display_data",
          "data": {
            "text/html": [
              "<pre>Read 6723 images in 6587.16 secs\tspeed: 1.30087 file/sec</pre>"
            ],
            "text/plain": [
              "Read 6723 images in 6587.16 secs\tspeed: 1.30087 file/sec"
            ]
          },
          "metadata": {
            "tags": []
          }
        },
        {
          "output_type": "display_data",
          "data": {
            "text/html": [
              "<pre>Read 6727 images in 6596.22 secs\tspeed: 0.441198 file/sec</pre>"
            ],
            "text/plain": [
              "Read 6727 images in 6596.22 secs\tspeed: 0.441198 file/sec"
            ]
          },
          "metadata": {
            "tags": []
          }
        },
        {
          "output_type": "display_data",
          "data": {
            "text/html": [
              "<pre>Read 6734 images in 6601.9 secs\tspeed: 1.23321 file/sec</pre>"
            ],
            "text/plain": [
              "Read 6734 images in 6601.9 secs\tspeed: 1.23321 file/sec"
            ]
          },
          "metadata": {
            "tags": []
          }
        },
        {
          "output_type": "display_data",
          "data": {
            "text/html": [
              "<pre>Read 6739 images in 6609.48 secs\tspeed: 0.659687 file/sec</pre>"
            ],
            "text/plain": [
              "Read 6739 images in 6609.48 secs\tspeed: 0.659687 file/sec"
            ]
          },
          "metadata": {
            "tags": []
          }
        },
        {
          "output_type": "display_data",
          "data": {
            "text/html": [
              "<pre>Read 6744 images in 6615.33 secs\tspeed: 0.854258 file/sec</pre>"
            ],
            "text/plain": [
              "Read 6744 images in 6615.33 secs\tspeed: 0.854258 file/sec"
            ]
          },
          "metadata": {
            "tags": []
          }
        },
        {
          "output_type": "display_data",
          "data": {
            "text/html": [
              "<pre>Read 6750 images in 6620.78 secs\tspeed: 1.10213 file/sec</pre>"
            ],
            "text/plain": [
              "Read 6750 images in 6620.78 secs\tspeed: 1.10213 file/sec"
            ]
          },
          "metadata": {
            "tags": []
          }
        },
        {
          "output_type": "display_data",
          "data": {
            "text/html": [
              "<pre>Read 6757 images in 6626.15 secs\tspeed: 1.3032 file/sec</pre>"
            ],
            "text/plain": [
              "Read 6757 images in 6626.15 secs\tspeed: 1.3032 file/sec"
            ]
          },
          "metadata": {
            "tags": []
          }
        },
        {
          "output_type": "display_data",
          "data": {
            "text/html": [
              "<pre>Read 6762 images in 6631.95 secs\tspeed: 0.861113 file/sec</pre>"
            ],
            "text/plain": [
              "Read 6762 images in 6631.95 secs\tspeed: 0.861113 file/sec"
            ]
          },
          "metadata": {
            "tags": []
          }
        },
        {
          "output_type": "display_data",
          "data": {
            "text/html": [
              "<pre>Read 6763 images in 6642.7 secs\tspeed: 0.0930391 file/sec</pre>"
            ],
            "text/plain": [
              "Read 6763 images in 6642.7 secs\tspeed: 0.0930391 file/sec"
            ]
          },
          "metadata": {
            "tags": []
          }
        },
        {
          "output_type": "display_data",
          "data": {
            "text/html": [
              "<pre>Read 6770 images in 6648.24 secs\tspeed: 1.26413 file/sec</pre>"
            ],
            "text/plain": [
              "Read 6770 images in 6648.24 secs\tspeed: 1.26413 file/sec"
            ]
          },
          "metadata": {
            "tags": []
          }
        },
        {
          "output_type": "display_data",
          "data": {
            "text/html": [
              "<pre>Read 6776 images in 6653.55 secs\tspeed: 1.13051 file/sec</pre>"
            ],
            "text/plain": [
              "Read 6776 images in 6653.55 secs\tspeed: 1.13051 file/sec"
            ]
          },
          "metadata": {
            "tags": []
          }
        },
        {
          "output_type": "display_data",
          "data": {
            "text/html": [
              "<pre>Read 6782 images in 6659.07 secs\tspeed: 1.08704 file/sec</pre>"
            ],
            "text/plain": [
              "Read 6782 images in 6659.07 secs\tspeed: 1.08704 file/sec"
            ]
          },
          "metadata": {
            "tags": []
          }
        },
        {
          "output_type": "display_data",
          "data": {
            "text/html": [
              "<pre>Read 6787 images in 6667.06 secs\tspeed: 0.625222 file/sec</pre>"
            ],
            "text/plain": [
              "Read 6787 images in 6667.06 secs\tspeed: 0.625222 file/sec"
            ]
          },
          "metadata": {
            "tags": []
          }
        },
        {
          "output_type": "display_data",
          "data": {
            "text/html": [
              "<pre>Read 6792 images in 6672.82 secs\tspeed: 0.869073 file/sec</pre>"
            ],
            "text/plain": [
              "Read 6792 images in 6672.82 secs\tspeed: 0.869073 file/sec"
            ]
          },
          "metadata": {
            "tags": []
          }
        },
        {
          "output_type": "display_data",
          "data": {
            "text/html": [
              "<pre>Read 6798 images in 6677.94 secs\tspeed: 1.17116 file/sec</pre>"
            ],
            "text/plain": [
              "Read 6798 images in 6677.94 secs\tspeed: 1.17116 file/sec"
            ]
          },
          "metadata": {
            "tags": []
          }
        },
        {
          "output_type": "display_data",
          "data": {
            "text/html": [
              "<pre>Read 6805 images in 6683.34 secs\tspeed: 1.2955 file/sec</pre>"
            ],
            "text/plain": [
              "Read 6805 images in 6683.34 secs\tspeed: 1.2955 file/sec"
            ]
          },
          "metadata": {
            "tags": []
          }
        },
        {
          "output_type": "display_data",
          "data": {
            "text/html": [
              "<pre>Read 6812 images in 6688.98 secs\tspeed: 1.24201 file/sec</pre>"
            ],
            "text/plain": [
              "Read 6812 images in 6688.98 secs\tspeed: 1.24201 file/sec"
            ]
          },
          "metadata": {
            "tags": []
          }
        },
        {
          "output_type": "display_data",
          "data": {
            "text/html": [
              "<pre>Read 6819 images in 6694.48 secs\tspeed: 1.27167 file/sec</pre>"
            ],
            "text/plain": [
              "Read 6819 images in 6694.48 secs\tspeed: 1.27167 file/sec"
            ]
          },
          "metadata": {
            "tags": []
          }
        },
        {
          "output_type": "display_data",
          "data": {
            "text/html": [
              "<pre>Read 6826 images in 6700.12 secs\tspeed: 1.24116 file/sec</pre>"
            ],
            "text/plain": [
              "Read 6826 images in 6700.12 secs\tspeed: 1.24116 file/sec"
            ]
          },
          "metadata": {
            "tags": []
          }
        },
        {
          "output_type": "display_data",
          "data": {
            "text/html": [
              "<pre>Read 6833 images in 6705.64 secs\tspeed: 1.26879 file/sec</pre>"
            ],
            "text/plain": [
              "Read 6833 images in 6705.64 secs\tspeed: 1.26879 file/sec"
            ]
          },
          "metadata": {
            "tags": []
          }
        },
        {
          "output_type": "display_data",
          "data": {
            "text/html": [
              "<pre>Read 6840 images in 6711.02 secs\tspeed: 1.30083 file/sec</pre>"
            ],
            "text/plain": [
              "Read 6840 images in 6711.02 secs\tspeed: 1.30083 file/sec"
            ]
          },
          "metadata": {
            "tags": []
          }
        },
        {
          "output_type": "display_data",
          "data": {
            "text/html": [
              "<pre>Read 6847 images in 6716.51 secs\tspeed: 1.27614 file/sec</pre>"
            ],
            "text/plain": [
              "Read 6847 images in 6716.51 secs\tspeed: 1.27614 file/sec"
            ]
          },
          "metadata": {
            "tags": []
          }
        },
        {
          "output_type": "display_data",
          "data": {
            "text/html": [
              "<pre>Read 6854 images in 6722.3 secs\tspeed: 1.20923 file/sec</pre>"
            ],
            "text/plain": [
              "Read 6854 images in 6722.3 secs\tspeed: 1.20923 file/sec"
            ]
          },
          "metadata": {
            "tags": []
          }
        },
        {
          "output_type": "display_data",
          "data": {
            "text/html": [
              "<pre>Read 6861 images in 6727.76 secs\tspeed: 1.28175 file/sec</pre>"
            ],
            "text/plain": [
              "Read 6861 images in 6727.76 secs\tspeed: 1.28175 file/sec"
            ]
          },
          "metadata": {
            "tags": []
          }
        },
        {
          "output_type": "display_data",
          "data": {
            "text/html": [
              "<pre>Read 6867 images in 6733.21 secs\tspeed: 1.09934 file/sec</pre>"
            ],
            "text/plain": [
              "Read 6867 images in 6733.21 secs\tspeed: 1.09934 file/sec"
            ]
          },
          "metadata": {
            "tags": []
          }
        },
        {
          "output_type": "display_data",
          "data": {
            "text/html": [
              "<pre>Read 6872 images in 6743.12 secs\tspeed: 0.504684 file/sec</pre>"
            ],
            "text/plain": [
              "Read 6872 images in 6743.12 secs\tspeed: 0.504684 file/sec"
            ]
          },
          "metadata": {
            "tags": []
          }
        },
        {
          "output_type": "display_data",
          "data": {
            "text/html": [
              "<pre>Read 6879 images in 6748.43 secs\tspeed: 1.31796 file/sec</pre>"
            ],
            "text/plain": [
              "Read 6879 images in 6748.43 secs\tspeed: 1.31796 file/sec"
            ]
          },
          "metadata": {
            "tags": []
          }
        },
        {
          "output_type": "display_data",
          "data": {
            "text/html": [
              "<pre>Read 6885 images in 6753.75 secs\tspeed: 1.12758 file/sec</pre>"
            ],
            "text/plain": [
              "Read 6885 images in 6753.75 secs\tspeed: 1.12758 file/sec"
            ]
          },
          "metadata": {
            "tags": []
          }
        },
        {
          "output_type": "display_data",
          "data": {
            "text/html": [
              "<pre>Read 6887 images in 6758.9 secs\tspeed: 0.388587 file/sec</pre>"
            ],
            "text/plain": [
              "Read 6887 images in 6758.9 secs\tspeed: 0.388587 file/sec"
            ]
          },
          "metadata": {
            "tags": []
          }
        },
        {
          "output_type": "display_data",
          "data": {
            "text/html": [
              "<pre>Read 6894 images in 6764.34 secs\tspeed: 1.28713 file/sec</pre>"
            ],
            "text/plain": [
              "Read 6894 images in 6764.34 secs\tspeed: 1.28713 file/sec"
            ]
          },
          "metadata": {
            "tags": []
          }
        },
        {
          "output_type": "display_data",
          "data": {
            "text/html": [
              "<pre>Read 6901 images in 6769.8 secs\tspeed: 1.28244 file/sec</pre>"
            ],
            "text/plain": [
              "Read 6901 images in 6769.8 secs\tspeed: 1.28244 file/sec"
            ]
          },
          "metadata": {
            "tags": []
          }
        },
        {
          "output_type": "display_data",
          "data": {
            "text/html": [
              "<pre>Read 6902 images in 6776.83 secs\tspeed: 0.14216 file/sec</pre>"
            ],
            "text/plain": [
              "Read 6902 images in 6776.83 secs\tspeed: 0.14216 file/sec"
            ]
          },
          "metadata": {
            "tags": []
          }
        },
        {
          "output_type": "display_data",
          "data": {
            "text/html": [
              "<pre>Read 6909 images in 6782.57 secs\tspeed: 1.21968 file/sec</pre>"
            ],
            "text/plain": [
              "Read 6909 images in 6782.57 secs\tspeed: 1.21968 file/sec"
            ]
          },
          "metadata": {
            "tags": []
          }
        },
        {
          "output_type": "display_data",
          "data": {
            "text/html": [
              "<pre>Read 6916 images in 6788.25 secs\tspeed: 1.23308 file/sec</pre>"
            ],
            "text/plain": [
              "Read 6916 images in 6788.25 secs\tspeed: 1.23308 file/sec"
            ]
          },
          "metadata": {
            "tags": []
          }
        },
        {
          "output_type": "display_data",
          "data": {
            "text/html": [
              "<pre>Read 6922 images in 6793.6 secs\tspeed: 1.12166 file/sec</pre>"
            ],
            "text/plain": [
              "Read 6922 images in 6793.6 secs\tspeed: 1.12166 file/sec"
            ]
          },
          "metadata": {
            "tags": []
          }
        },
        {
          "output_type": "display_data",
          "data": {
            "text/html": [
              "<pre>Read 6929 images in 6799.47 secs\tspeed: 1.1915 file/sec</pre>"
            ],
            "text/plain": [
              "Read 6929 images in 6799.47 secs\tspeed: 1.1915 file/sec"
            ]
          },
          "metadata": {
            "tags": []
          }
        },
        {
          "output_type": "display_data",
          "data": {
            "text/html": [
              "<pre>Read 6934 images in 6810.65 secs\tspeed: 0.44732 file/sec</pre>"
            ],
            "text/plain": [
              "Read 6934 images in 6810.65 secs\tspeed: 0.44732 file/sec"
            ]
          },
          "metadata": {
            "tags": []
          }
        },
        {
          "output_type": "display_data",
          "data": {
            "text/html": [
              "<pre>Read 6939 images in 6816.18 secs\tspeed: 0.904538 file/sec</pre>"
            ],
            "text/plain": [
              "Read 6939 images in 6816.18 secs\tspeed: 0.904538 file/sec"
            ]
          },
          "metadata": {
            "tags": []
          }
        },
        {
          "output_type": "display_data",
          "data": {
            "text/html": [
              "<pre>Read 6946 images in 6821.99 secs\tspeed: 1.20501 file/sec</pre>"
            ],
            "text/plain": [
              "Read 6946 images in 6821.99 secs\tspeed: 1.20501 file/sec"
            ]
          },
          "metadata": {
            "tags": []
          }
        },
        {
          "output_type": "display_data",
          "data": {
            "text/html": [
              "<pre>Read 6952 images in 6826.99 secs\tspeed: 1.19974 file/sec</pre>"
            ],
            "text/plain": [
              "Read 6952 images in 6826.99 secs\tspeed: 1.19974 file/sec"
            ]
          },
          "metadata": {
            "tags": []
          }
        },
        {
          "output_type": "display_data",
          "data": {
            "text/html": [
              "<pre>Read 6958 images in 6832.03 secs\tspeed: 1.1891 file/sec</pre>"
            ],
            "text/plain": [
              "Read 6958 images in 6832.03 secs\tspeed: 1.1891 file/sec"
            ]
          },
          "metadata": {
            "tags": []
          }
        },
        {
          "output_type": "display_data",
          "data": {
            "text/html": [
              "<pre>Read 6965 images in 6837.8 secs\tspeed: 1.2148 file/sec</pre>"
            ],
            "text/plain": [
              "Read 6965 images in 6837.8 secs\tspeed: 1.2148 file/sec"
            ]
          },
          "metadata": {
            "tags": []
          }
        },
        {
          "output_type": "display_data",
          "data": {
            "text/html": [
              "<pre>Read 6971 images in 6843.24 secs\tspeed: 1.10165 file/sec</pre>"
            ],
            "text/plain": [
              "Read 6971 images in 6843.24 secs\tspeed: 1.10165 file/sec"
            ]
          },
          "metadata": {
            "tags": []
          }
        },
        {
          "output_type": "display_data",
          "data": {
            "text/html": [
              "<pre>Read 6978 images in 6848.83 secs\tspeed: 1.25249 file/sec</pre>"
            ],
            "text/plain": [
              "Read 6978 images in 6848.83 secs\tspeed: 1.25249 file/sec"
            ]
          },
          "metadata": {
            "tags": []
          }
        },
        {
          "output_type": "display_data",
          "data": {
            "text/html": [
              "<pre>Read 6985 images in 6854.36 secs\tspeed: 1.26707 file/sec</pre>"
            ],
            "text/plain": [
              "Read 6985 images in 6854.36 secs\tspeed: 1.26707 file/sec"
            ]
          },
          "metadata": {
            "tags": []
          }
        },
        {
          "output_type": "display_data",
          "data": {
            "text/html": [
              "<pre>Read 6987 images in 6865.26 secs\tspeed: 0.183456 file/sec</pre>"
            ],
            "text/plain": [
              "Read 6987 images in 6865.26 secs\tspeed: 0.183456 file/sec"
            ]
          },
          "metadata": {
            "tags": []
          }
        },
        {
          "output_type": "display_data",
          "data": {
            "text/html": [
              "<pre>Read 6994 images in 6870.92 secs\tspeed: 1.23718 file/sec</pre>"
            ],
            "text/plain": [
              "Read 6994 images in 6870.92 secs\tspeed: 1.23718 file/sec"
            ]
          },
          "metadata": {
            "tags": []
          }
        },
        {
          "output_type": "display_data",
          "data": {
            "text/html": [
              "<pre>Read 7001 images in 6876.27 secs\tspeed: 1.30819 file/sec</pre>"
            ],
            "text/plain": [
              "Read 7001 images in 6876.27 secs\tspeed: 1.30819 file/sec"
            ]
          },
          "metadata": {
            "tags": []
          }
        },
        {
          "output_type": "display_data",
          "data": {
            "text/html": [
              "<pre>Read 7007 images in 6882.1 secs\tspeed: 1.0287 file/sec</pre>"
            ],
            "text/plain": [
              "Read 7007 images in 6882.1 secs\tspeed: 1.0287 file/sec"
            ]
          },
          "metadata": {
            "tags": []
          }
        },
        {
          "output_type": "display_data",
          "data": {
            "text/html": [
              "<pre>Read 7009 images in 6889.47 secs\tspeed: 0.271303 file/sec</pre>"
            ],
            "text/plain": [
              "Read 7009 images in 6889.47 secs\tspeed: 0.271303 file/sec"
            ]
          },
          "metadata": {
            "tags": []
          }
        },
        {
          "output_type": "display_data",
          "data": {
            "text/html": [
              "<pre>Read 7014 images in 6899.68 secs\tspeed: 0.489896 file/sec</pre>"
            ],
            "text/plain": [
              "Read 7014 images in 6899.68 secs\tspeed: 0.489896 file/sec"
            ]
          },
          "metadata": {
            "tags": []
          }
        },
        {
          "output_type": "display_data",
          "data": {
            "text/html": [
              "<pre>Read 7020 images in 6905.07 secs\tspeed: 1.11224 file/sec</pre>"
            ],
            "text/plain": [
              "Read 7020 images in 6905.07 secs\tspeed: 1.11224 file/sec"
            ]
          },
          "metadata": {
            "tags": []
          }
        },
        {
          "output_type": "display_data",
          "data": {
            "text/html": [
              "<pre>Read 7026 images in 6910.47 secs\tspeed: 1.11222 file/sec</pre>"
            ],
            "text/plain": [
              "Read 7026 images in 6910.47 secs\tspeed: 1.11222 file/sec"
            ]
          },
          "metadata": {
            "tags": []
          }
        },
        {
          "output_type": "display_data",
          "data": {
            "text/html": [
              "<pre>Read 7033 images in 6916.3 secs\tspeed: 1.20012 file/sec</pre>"
            ],
            "text/plain": [
              "Read 7033 images in 6916.3 secs\tspeed: 1.20012 file/sec"
            ]
          },
          "metadata": {
            "tags": []
          }
        },
        {
          "output_type": "display_data",
          "data": {
            "text/html": [
              "<pre>Read 7040 images in 6921.78 secs\tspeed: 1.27748 file/sec</pre>"
            ],
            "text/plain": [
              "Read 7040 images in 6921.78 secs\tspeed: 1.27748 file/sec"
            ]
          },
          "metadata": {
            "tags": []
          }
        },
        {
          "output_type": "display_data",
          "data": {
            "text/html": [
              "<pre>Read 7045 images in 6927.95 secs\tspeed: 0.810142 file/sec</pre>"
            ],
            "text/plain": [
              "Read 7045 images in 6927.95 secs\tspeed: 0.810142 file/sec"
            ]
          },
          "metadata": {
            "tags": []
          }
        },
        {
          "output_type": "display_data",
          "data": {
            "text/html": [
              "<pre>Read 7052 images in 6933.5 secs\tspeed: 1.26076 file/sec</pre>"
            ],
            "text/plain": [
              "Read 7052 images in 6933.5 secs\tspeed: 1.26076 file/sec"
            ]
          },
          "metadata": {
            "tags": []
          }
        },
        {
          "output_type": "display_data",
          "data": {
            "text/html": [
              "<pre>Read 7058 images in 6938.61 secs\tspeed: 1.17413 file/sec</pre>"
            ],
            "text/plain": [
              "Read 7058 images in 6938.61 secs\tspeed: 1.17413 file/sec"
            ]
          },
          "metadata": {
            "tags": []
          }
        },
        {
          "output_type": "display_data",
          "data": {
            "text/html": [
              "<pre>Read 7064 images in 6943.94 secs\tspeed: 1.12575 file/sec</pre>"
            ],
            "text/plain": [
              "Read 7064 images in 6943.94 secs\tspeed: 1.12575 file/sec"
            ]
          },
          "metadata": {
            "tags": []
          }
        },
        {
          "output_type": "display_data",
          "data": {
            "text/html": [
              "<pre>Read 7067 images in 6951.09 secs\tspeed: 0.419864 file/sec</pre>"
            ],
            "text/plain": [
              "Read 7067 images in 6951.09 secs\tspeed: 0.419864 file/sec"
            ]
          },
          "metadata": {
            "tags": []
          }
        },
        {
          "output_type": "display_data",
          "data": {
            "text/html": [
              "<pre>Read 7073 images in 6957.08 secs\tspeed: 1.00061 file/sec</pre>"
            ],
            "text/plain": [
              "Read 7073 images in 6957.08 secs\tspeed: 1.00061 file/sec"
            ]
          },
          "metadata": {
            "tags": []
          }
        },
        {
          "output_type": "display_data",
          "data": {
            "text/html": [
              "<pre>Read 7080 images in 6962.76 secs\tspeed: 1.23422 file/sec</pre>"
            ],
            "text/plain": [
              "Read 7080 images in 6962.76 secs\tspeed: 1.23422 file/sec"
            ]
          },
          "metadata": {
            "tags": []
          }
        },
        {
          "output_type": "display_data",
          "data": {
            "text/html": [
              "<pre>Read 7087 images in 6968.4 secs\tspeed: 1.23942 file/sec</pre>"
            ],
            "text/plain": [
              "Read 7087 images in 6968.4 secs\tspeed: 1.23942 file/sec"
            ]
          },
          "metadata": {
            "tags": []
          }
        },
        {
          "output_type": "display_data",
          "data": {
            "text/html": [
              "<pre>Read 7093 images in 6973.41 secs\tspeed: 1.19731 file/sec</pre>"
            ],
            "text/plain": [
              "Read 7093 images in 6973.41 secs\tspeed: 1.19731 file/sec"
            ]
          },
          "metadata": {
            "tags": []
          }
        },
        {
          "output_type": "display_data",
          "data": {
            "text/html": [
              "<pre>Read 7096 images in 6982.09 secs\tspeed: 0.345676 file/sec</pre>"
            ],
            "text/plain": [
              "Read 7096 images in 6982.09 secs\tspeed: 0.345676 file/sec"
            ]
          },
          "metadata": {
            "tags": []
          }
        },
        {
          "output_type": "display_data",
          "data": {
            "text/html": [
              "<pre>Read 7101 images in 6987.11 secs\tspeed: 0.996126 file/sec</pre>"
            ],
            "text/plain": [
              "Read 7101 images in 6987.11 secs\tspeed: 0.996126 file/sec"
            ]
          },
          "metadata": {
            "tags": []
          }
        },
        {
          "output_type": "display_data",
          "data": {
            "text/html": [
              "<pre>Read 7107 images in 6992.59 secs\tspeed: 1.09533 file/sec</pre>"
            ],
            "text/plain": [
              "Read 7107 images in 6992.59 secs\tspeed: 1.09533 file/sec"
            ]
          },
          "metadata": {
            "tags": []
          }
        },
        {
          "output_type": "display_data",
          "data": {
            "text/html": [
              "<pre>Read 7113 images in 6998.11 secs\tspeed: 1.08613 file/sec</pre>"
            ],
            "text/plain": [
              "Read 7113 images in 6998.11 secs\tspeed: 1.08613 file/sec"
            ]
          },
          "metadata": {
            "tags": []
          }
        },
        {
          "output_type": "display_data",
          "data": {
            "text/html": [
              "<pre>Read 7120 images in 7003.71 secs\tspeed: 1.25185 file/sec</pre>"
            ],
            "text/plain": [
              "Read 7120 images in 7003.71 secs\tspeed: 1.25185 file/sec"
            ]
          },
          "metadata": {
            "tags": []
          }
        },
        {
          "output_type": "display_data",
          "data": {
            "text/html": [
              "<pre>Read 7127 images in 7009.4 secs\tspeed: 1.22888 file/sec</pre>"
            ],
            "text/plain": [
              "Read 7127 images in 7009.4 secs\tspeed: 1.22888 file/sec"
            ]
          },
          "metadata": {
            "tags": []
          }
        },
        {
          "output_type": "display_data",
          "data": {
            "text/html": [
              "<pre>Read 7134 images in 7015.18 secs\tspeed: 1.21088 file/sec</pre>"
            ],
            "text/plain": [
              "Read 7134 images in 7015.18 secs\tspeed: 1.21088 file/sec"
            ]
          },
          "metadata": {
            "tags": []
          }
        },
        {
          "output_type": "display_data",
          "data": {
            "text/html": [
              "<pre>Read 7140 images in 7020.64 secs\tspeed: 1.09965 file/sec</pre>"
            ],
            "text/plain": [
              "Read 7140 images in 7020.64 secs\tspeed: 1.09965 file/sec"
            ]
          },
          "metadata": {
            "tags": []
          }
        },
        {
          "output_type": "display_data",
          "data": {
            "text/html": [
              "<pre>Read 7147 images in 7026.21 secs\tspeed: 1.25752 file/sec</pre>"
            ],
            "text/plain": [
              "Read 7147 images in 7026.21 secs\tspeed: 1.25752 file/sec"
            ]
          },
          "metadata": {
            "tags": []
          }
        },
        {
          "output_type": "display_data",
          "data": {
            "text/html": [
              "<pre>Read 7154 images in 7031.63 secs\tspeed: 1.28964 file/sec</pre>"
            ],
            "text/plain": [
              "Read 7154 images in 7031.63 secs\tspeed: 1.28964 file/sec"
            ]
          },
          "metadata": {
            "tags": []
          }
        },
        {
          "output_type": "display_data",
          "data": {
            "text/html": [
              "<pre>Read 7160 images in 7036.7 secs\tspeed: 1.18407 file/sec</pre>"
            ],
            "text/plain": [
              "Read 7160 images in 7036.7 secs\tspeed: 1.18407 file/sec"
            ]
          },
          "metadata": {
            "tags": []
          }
        },
        {
          "output_type": "display_data",
          "data": {
            "text/html": [
              "<pre>Read 7166 images in 7042.14 secs\tspeed: 1.104 file/sec</pre>"
            ],
            "text/plain": [
              "Read 7166 images in 7042.14 secs\tspeed: 1.104 file/sec"
            ]
          },
          "metadata": {
            "tags": []
          }
        },
        {
          "output_type": "display_data",
          "data": {
            "text/html": [
              "<pre>Read 7173 images in 7047.85 secs\tspeed: 1.2261 file/sec</pre>"
            ],
            "text/plain": [
              "Read 7173 images in 7047.85 secs\tspeed: 1.2261 file/sec"
            ]
          },
          "metadata": {
            "tags": []
          }
        },
        {
          "output_type": "display_data",
          "data": {
            "text/html": [
              "<pre>Read 7180 images in 7056.9 secs\tspeed: 0.772936 file/sec</pre>"
            ],
            "text/plain": [
              "Read 7180 images in 7056.9 secs\tspeed: 0.772936 file/sec"
            ]
          },
          "metadata": {
            "tags": []
          }
        },
        {
          "output_type": "display_data",
          "data": {
            "text/html": [
              "<pre>Read 7187 images in 7062.29 secs\tspeed: 1.2986 file/sec</pre>"
            ],
            "text/plain": [
              "Read 7187 images in 7062.29 secs\tspeed: 1.2986 file/sec"
            ]
          },
          "metadata": {
            "tags": []
          }
        },
        {
          "output_type": "display_data",
          "data": {
            "text/html": [
              "<pre>Read 7193 images in 7067.49 secs\tspeed: 1.15421 file/sec</pre>"
            ],
            "text/plain": [
              "Read 7193 images in 7067.49 secs\tspeed: 1.15421 file/sec"
            ]
          },
          "metadata": {
            "tags": []
          }
        },
        {
          "output_type": "display_data",
          "data": {
            "text/html": [
              "<pre>Read 7200 images in 7072.97 secs\tspeed: 1.27787 file/sec</pre>"
            ],
            "text/plain": [
              "Read 7200 images in 7072.97 secs\tspeed: 1.27787 file/sec"
            ]
          },
          "metadata": {
            "tags": []
          }
        },
        {
          "output_type": "display_data",
          "data": {
            "text/html": [
              "<pre>Read 7207 images in 7078.96 secs\tspeed: 1.16903 file/sec</pre>"
            ],
            "text/plain": [
              "Read 7207 images in 7078.96 secs\tspeed: 1.16903 file/sec"
            ]
          },
          "metadata": {
            "tags": []
          }
        },
        {
          "output_type": "display_data",
          "data": {
            "text/html": [
              "<pre>Read 7213 images in 7084.52 secs\tspeed: 1.07889 file/sec</pre>"
            ],
            "text/plain": [
              "Read 7213 images in 7084.52 secs\tspeed: 1.07889 file/sec"
            ]
          },
          "metadata": {
            "tags": []
          }
        },
        {
          "output_type": "display_data",
          "data": {
            "text/html": [
              "<pre>Read 7219 images in 7089.52 secs\tspeed: 1.19925 file/sec</pre>"
            ],
            "text/plain": [
              "Read 7219 images in 7089.52 secs\tspeed: 1.19925 file/sec"
            ]
          },
          "metadata": {
            "tags": []
          }
        },
        {
          "output_type": "display_data",
          "data": {
            "text/html": [
              "<pre>Read 7223 images in 7094.7 secs\tspeed: 0.772854 file/sec</pre>"
            ],
            "text/plain": [
              "Read 7223 images in 7094.7 secs\tspeed: 0.772854 file/sec"
            ]
          },
          "metadata": {
            "tags": []
          }
        },
        {
          "output_type": "display_data",
          "data": {
            "text/html": [
              "<pre>Read 7229 images in 7099.7 secs\tspeed: 1.19827 file/sec</pre>"
            ],
            "text/plain": [
              "Read 7229 images in 7099.7 secs\tspeed: 1.19827 file/sec"
            ]
          },
          "metadata": {
            "tags": []
          }
        },
        {
          "output_type": "display_data",
          "data": {
            "text/html": [
              "<pre>Read 7236 images in 7105.69 secs\tspeed: 1.16924 file/sec</pre>"
            ],
            "text/plain": [
              "Read 7236 images in 7105.69 secs\tspeed: 1.16924 file/sec"
            ]
          },
          "metadata": {
            "tags": []
          }
        },
        {
          "output_type": "display_data",
          "data": {
            "text/html": [
              "<pre>Read 7243 images in 7111.33 secs\tspeed: 1.24086 file/sec</pre>"
            ],
            "text/plain": [
              "Read 7243 images in 7111.33 secs\tspeed: 1.24086 file/sec"
            ]
          },
          "metadata": {
            "tags": []
          }
        },
        {
          "output_type": "display_data",
          "data": {
            "text/html": [
              "<pre>Read 7250 images in 7116.99 secs\tspeed: 1.23735 file/sec</pre>"
            ],
            "text/plain": [
              "Read 7250 images in 7116.99 secs\tspeed: 1.23735 file/sec"
            ]
          },
          "metadata": {
            "tags": []
          }
        },
        {
          "output_type": "display_data",
          "data": {
            "text/html": [
              "<pre>Read 7257 images in 7122.61 secs\tspeed: 1.24532 file/sec</pre>"
            ],
            "text/plain": [
              "Read 7257 images in 7122.61 secs\tspeed: 1.24532 file/sec"
            ]
          },
          "metadata": {
            "tags": []
          }
        },
        {
          "output_type": "display_data",
          "data": {
            "text/html": [
              "<pre>Read 7261 images in 7127.69 secs\tspeed: 0.788009 file/sec</pre>"
            ],
            "text/plain": [
              "Read 7261 images in 7127.69 secs\tspeed: 0.788009 file/sec"
            ]
          },
          "metadata": {
            "tags": []
          }
        },
        {
          "output_type": "display_data",
          "data": {
            "text/html": [
              "<pre>Read 7267 images in 7133.22 secs\tspeed: 1.08402 file/sec</pre>"
            ],
            "text/plain": [
              "Read 7267 images in 7133.22 secs\tspeed: 1.08402 file/sec"
            ]
          },
          "metadata": {
            "tags": []
          }
        },
        {
          "output_type": "display_data",
          "data": {
            "text/html": [
              "<pre>Read 7274 images in 7138.92 secs\tspeed: 1.228 file/sec</pre>"
            ],
            "text/plain": [
              "Read 7274 images in 7138.92 secs\tspeed: 1.228 file/sec"
            ]
          },
          "metadata": {
            "tags": []
          }
        },
        {
          "output_type": "display_data",
          "data": {
            "text/html": [
              "<pre>Read 7276 images in 7152.62 secs\tspeed: 0.146046 file/sec</pre>"
            ],
            "text/plain": [
              "Read 7276 images in 7152.62 secs\tspeed: 0.146046 file/sec"
            ]
          },
          "metadata": {
            "tags": []
          }
        },
        {
          "output_type": "display_data",
          "data": {
            "text/html": [
              "<pre>Read 7281 images in 7157.8 secs\tspeed: 0.9641 file/sec</pre>"
            ],
            "text/plain": [
              "Read 7281 images in 7157.8 secs\tspeed: 0.9641 file/sec"
            ]
          },
          "metadata": {
            "tags": []
          }
        },
        {
          "output_type": "display_data",
          "data": {
            "text/html": [
              "<pre>Read 7287 images in 7163.44 secs\tspeed: 1.06348 file/sec</pre>"
            ],
            "text/plain": [
              "Read 7287 images in 7163.44 secs\tspeed: 1.06348 file/sec"
            ]
          },
          "metadata": {
            "tags": []
          }
        },
        {
          "output_type": "display_data",
          "data": {
            "text/html": [
              "<pre>Read 7294 images in 7169.08 secs\tspeed: 1.24206 file/sec</pre>"
            ],
            "text/plain": [
              "Read 7294 images in 7169.08 secs\tspeed: 1.24206 file/sec"
            ]
          },
          "metadata": {
            "tags": []
          }
        },
        {
          "output_type": "display_data",
          "data": {
            "text/html": [
              "<pre>Read 7300 images in 7174.2 secs\tspeed: 1.17179 file/sec</pre>"
            ],
            "text/plain": [
              "Read 7300 images in 7174.2 secs\tspeed: 1.17179 file/sec"
            ]
          },
          "metadata": {
            "tags": []
          }
        },
        {
          "output_type": "display_data",
          "data": {
            "text/html": [
              "<pre>Read 7305 images in 7182.47 secs\tspeed: 0.604682 file/sec</pre>"
            ],
            "text/plain": [
              "Read 7305 images in 7182.47 secs\tspeed: 0.604682 file/sec"
            ]
          },
          "metadata": {
            "tags": []
          }
        },
        {
          "output_type": "display_data",
          "data": {
            "text/html": [
              "<pre>Read 7311 images in 7187.48 secs\tspeed: 1.19682 file/sec</pre>"
            ],
            "text/plain": [
              "Read 7311 images in 7187.48 secs\tspeed: 1.19682 file/sec"
            ]
          },
          "metadata": {
            "tags": []
          }
        },
        {
          "output_type": "display_data",
          "data": {
            "text/html": [
              "<pre>Read 7318 images in 7193.27 secs\tspeed: 1.20925 file/sec</pre>"
            ],
            "text/plain": [
              "Read 7318 images in 7193.27 secs\tspeed: 1.20925 file/sec"
            ]
          },
          "metadata": {
            "tags": []
          }
        },
        {
          "output_type": "display_data",
          "data": {
            "text/html": [
              "<pre>Read 7325 images in 7198.98 secs\tspeed: 1.22549 file/sec</pre>"
            ],
            "text/plain": [
              "Read 7325 images in 7198.98 secs\tspeed: 1.22549 file/sec"
            ]
          },
          "metadata": {
            "tags": []
          }
        },
        {
          "output_type": "display_data",
          "data": {
            "text/html": [
              "<pre>Read 7331 images in 7203.99 secs\tspeed: 1.19712 file/sec</pre>"
            ],
            "text/plain": [
              "Read 7331 images in 7203.99 secs\tspeed: 1.19712 file/sec"
            ]
          },
          "metadata": {
            "tags": []
          }
        },
        {
          "output_type": "display_data",
          "data": {
            "text/html": [
              "<pre>Read 7337 images in 7209.74 secs\tspeed: 1.0435 file/sec</pre>"
            ],
            "text/plain": [
              "Read 7337 images in 7209.74 secs\tspeed: 1.0435 file/sec"
            ]
          },
          "metadata": {
            "tags": []
          }
        },
        {
          "output_type": "display_data",
          "data": {
            "text/html": [
              "<pre>Read 7342 images in 7215.16 secs\tspeed: 0.922508 file/sec</pre>"
            ],
            "text/plain": [
              "Read 7342 images in 7215.16 secs\tspeed: 0.922508 file/sec"
            ]
          },
          "metadata": {
            "tags": []
          }
        },
        {
          "output_type": "display_data",
          "data": {
            "text/html": [
              "<pre>Read 7349 images in 7220.84 secs\tspeed: 1.23241 file/sec</pre>"
            ],
            "text/plain": [
              "Read 7349 images in 7220.84 secs\tspeed: 1.23241 file/sec"
            ]
          },
          "metadata": {
            "tags": []
          }
        },
        {
          "output_type": "display_data",
          "data": {
            "text/html": [
              "<pre>Read 7356 images in 7226.39 secs\tspeed: 1.26163 file/sec</pre>"
            ],
            "text/plain": [
              "Read 7356 images in 7226.39 secs\tspeed: 1.26163 file/sec"
            ]
          },
          "metadata": {
            "tags": []
          }
        },
        {
          "output_type": "display_data",
          "data": {
            "text/html": [
              "<pre>Read 7363 images in 7232.17 secs\tspeed: 1.21228 file/sec</pre>"
            ],
            "text/plain": [
              "Read 7363 images in 7232.17 secs\tspeed: 1.21228 file/sec"
            ]
          },
          "metadata": {
            "tags": []
          }
        },
        {
          "output_type": "display_data",
          "data": {
            "text/html": [
              "<pre>Read 7370 images in 7237.84 secs\tspeed: 1.23305 file/sec</pre>"
            ],
            "text/plain": [
              "Read 7370 images in 7237.84 secs\tspeed: 1.23305 file/sec"
            ]
          },
          "metadata": {
            "tags": []
          }
        },
        {
          "output_type": "display_data",
          "data": {
            "text/html": [
              "<pre>Read 7375 images in 7243.66 secs\tspeed: 0.859173 file/sec</pre>"
            ],
            "text/plain": [
              "Read 7375 images in 7243.66 secs\tspeed: 0.859173 file/sec"
            ]
          },
          "metadata": {
            "tags": []
          }
        },
        {
          "output_type": "display_data",
          "data": {
            "text/html": [
              "<pre>Read 7382 images in 7249.2 secs\tspeed: 1.26462 file/sec</pre>"
            ],
            "text/plain": [
              "Read 7382 images in 7249.2 secs\tspeed: 1.26462 file/sec"
            ]
          },
          "metadata": {
            "tags": []
          }
        },
        {
          "output_type": "display_data",
          "data": {
            "text/html": [
              "<pre>Read 7388 images in 7254.21 secs\tspeed: 1.19648 file/sec</pre>"
            ],
            "text/plain": [
              "Read 7388 images in 7254.21 secs\tspeed: 1.19648 file/sec"
            ]
          },
          "metadata": {
            "tags": []
          }
        },
        {
          "output_type": "display_data",
          "data": {
            "text/html": [
              "<pre>Read 7395 images in 7259.98 secs\tspeed: 1.21483 file/sec</pre>"
            ],
            "text/plain": [
              "Read 7395 images in 7259.98 secs\tspeed: 1.21483 file/sec"
            ]
          },
          "metadata": {
            "tags": []
          }
        },
        {
          "output_type": "display_data",
          "data": {
            "text/html": [
              "<pre>Read 7402 images in 7265.45 secs\tspeed: 1.2777 file/sec</pre>"
            ],
            "text/plain": [
              "Read 7402 images in 7265.45 secs\tspeed: 1.2777 file/sec"
            ]
          },
          "metadata": {
            "tags": []
          }
        },
        {
          "output_type": "display_data",
          "data": {
            "text/html": [
              "<pre>Read 7409 images in 7270.8 secs\tspeed: 1.30904 file/sec</pre>"
            ],
            "text/plain": [
              "Read 7409 images in 7270.8 secs\tspeed: 1.30904 file/sec"
            ]
          },
          "metadata": {
            "tags": []
          }
        },
        {
          "output_type": "display_data",
          "data": {
            "text/html": [
              "<pre>Read 7416 images in 7276.39 secs\tspeed: 1.25324 file/sec</pre>"
            ],
            "text/plain": [
              "Read 7416 images in 7276.39 secs\tspeed: 1.25324 file/sec"
            ]
          },
          "metadata": {
            "tags": []
          }
        },
        {
          "output_type": "display_data",
          "data": {
            "text/html": [
              "<pre>Read 7423 images in 7282.03 secs\tspeed: 1.23963 file/sec</pre>"
            ],
            "text/plain": [
              "Read 7423 images in 7282.03 secs\tspeed: 1.23963 file/sec"
            ]
          },
          "metadata": {
            "tags": []
          }
        },
        {
          "output_type": "display_data",
          "data": {
            "text/html": [
              "<pre>Read 7429 images in 7287.1 secs\tspeed: 1.18395 file/sec</pre>"
            ],
            "text/plain": [
              "Read 7429 images in 7287.1 secs\tspeed: 1.18395 file/sec"
            ]
          },
          "metadata": {
            "tags": []
          }
        },
        {
          "output_type": "display_data",
          "data": {
            "text/html": [
              "<pre>Read 7435 images in 7292.13 secs\tspeed: 1.19438 file/sec</pre>"
            ],
            "text/plain": [
              "Read 7435 images in 7292.13 secs\tspeed: 1.19438 file/sec"
            ]
          },
          "metadata": {
            "tags": []
          }
        },
        {
          "output_type": "display_data",
          "data": {
            "text/html": [
              "<pre>Read 7442 images in 7297.51 secs\tspeed: 1.30091 file/sec</pre>"
            ],
            "text/plain": [
              "Read 7442 images in 7297.51 secs\tspeed: 1.30091 file/sec"
            ]
          },
          "metadata": {
            "tags": []
          }
        },
        {
          "output_type": "display_data",
          "data": {
            "text/html": [
              "<pre>Read 7448 images in 7302.55 secs\tspeed: 1.18982 file/sec</pre>"
            ],
            "text/plain": [
              "Read 7448 images in 7302.55 secs\tspeed: 1.18982 file/sec"
            ]
          },
          "metadata": {
            "tags": []
          }
        },
        {
          "output_type": "display_data",
          "data": {
            "text/html": [
              "<pre>Read 7454 images in 7308.14 secs\tspeed: 1.07382 file/sec</pre>"
            ],
            "text/plain": [
              "Read 7454 images in 7308.14 secs\tspeed: 1.07382 file/sec"
            ]
          },
          "metadata": {
            "tags": []
          }
        },
        {
          "output_type": "display_data",
          "data": {
            "text/html": [
              "<pre>Read 7460 images in 7313.14 secs\tspeed: 1.19969 file/sec</pre>"
            ],
            "text/plain": [
              "Read 7460 images in 7313.14 secs\tspeed: 1.19969 file/sec"
            ]
          },
          "metadata": {
            "tags": []
          }
        },
        {
          "output_type": "display_data",
          "data": {
            "text/html": [
              "<pre>Read 7467 images in 7318.76 secs\tspeed: 1.24609 file/sec</pre>"
            ],
            "text/plain": [
              "Read 7467 images in 7318.76 secs\tspeed: 1.24609 file/sec"
            ]
          },
          "metadata": {
            "tags": []
          }
        },
        {
          "output_type": "display_data",
          "data": {
            "text/html": [
              "<pre>Read 7474 images in 7324.59 secs\tspeed: 1.19981 file/sec</pre>"
            ],
            "text/plain": [
              "Read 7474 images in 7324.59 secs\tspeed: 1.19981 file/sec"
            ]
          },
          "metadata": {
            "tags": []
          }
        },
        {
          "output_type": "display_data",
          "data": {
            "text/html": [
              "<pre>Read 7477 images in 7336.27 secs\tspeed: 0.256852 file/sec</pre>"
            ],
            "text/plain": [
              "Read 7477 images in 7336.27 secs\tspeed: 0.256852 file/sec"
            ]
          },
          "metadata": {
            "tags": []
          }
        },
        {
          "output_type": "display_data",
          "data": {
            "text/html": [
              "<pre>Read 7481 images in 7341.98 secs\tspeed: 0.700929 file/sec</pre>"
            ],
            "text/plain": [
              "Read 7481 images in 7341.98 secs\tspeed: 0.700929 file/sec"
            ]
          },
          "metadata": {
            "tags": []
          }
        },
        {
          "output_type": "display_data",
          "data": {
            "text/html": [
              "<pre>Read 7487 images in 7347.46 secs\tspeed: 1.09337 file/sec</pre>"
            ],
            "text/plain": [
              "Read 7487 images in 7347.46 secs\tspeed: 1.09337 file/sec"
            ]
          },
          "metadata": {
            "tags": []
          }
        },
        {
          "output_type": "display_data",
          "data": {
            "text/html": [
              "<pre>Read 7492 images in 7352.79 secs\tspeed: 0.939602 file/sec</pre>"
            ],
            "text/plain": [
              "Read 7492 images in 7352.79 secs\tspeed: 0.939602 file/sec"
            ]
          },
          "metadata": {
            "tags": []
          }
        },
        {
          "output_type": "display_data",
          "data": {
            "text/html": [
              "<pre>Read 7498 images in 7357.85 secs\tspeed: 1.18388 file/sec</pre>"
            ],
            "text/plain": [
              "Read 7498 images in 7357.85 secs\tspeed: 1.18388 file/sec"
            ]
          },
          "metadata": {
            "tags": []
          }
        },
        {
          "output_type": "display_data",
          "data": {
            "text/html": [
              "<pre>Read 7503 images in 7363.01 secs\tspeed: 0.96997 file/sec</pre>"
            ],
            "text/plain": [
              "Read 7503 images in 7363.01 secs\tspeed: 0.96997 file/sec"
            ]
          },
          "metadata": {
            "tags": []
          }
        },
        {
          "output_type": "display_data",
          "data": {
            "text/html": [
              "<pre>Read 7509 images in 7368.95 secs\tspeed: 1.00936 file/sec</pre>"
            ],
            "text/plain": [
              "Read 7509 images in 7368.95 secs\tspeed: 1.00936 file/sec"
            ]
          },
          "metadata": {
            "tags": []
          }
        },
        {
          "output_type": "display_data",
          "data": {
            "text/html": [
              "<pre>Read 7513 images in 7373.99 secs\tspeed: 0.794099 file/sec</pre>"
            ],
            "text/plain": [
              "Read 7513 images in 7373.99 secs\tspeed: 0.794099 file/sec"
            ]
          },
          "metadata": {
            "tags": []
          }
        },
        {
          "output_type": "display_data",
          "data": {
            "text/html": [
              "<pre>Read 7519 images in 7379.71 secs\tspeed: 1.04963 file/sec</pre>"
            ],
            "text/plain": [
              "Read 7519 images in 7379.71 secs\tspeed: 1.04963 file/sec"
            ]
          },
          "metadata": {
            "tags": []
          }
        },
        {
          "output_type": "display_data",
          "data": {
            "text/html": [
              "<pre>Read 7525 images in 7385.2 secs\tspeed: 1.092 file/sec</pre>"
            ],
            "text/plain": [
              "Read 7525 images in 7385.2 secs\tspeed: 1.092 file/sec"
            ]
          },
          "metadata": {
            "tags": []
          }
        },
        {
          "output_type": "display_data",
          "data": {
            "text/html": [
              "<pre>Read 7531 images in 7390.79 secs\tspeed: 1.07267 file/sec</pre>"
            ],
            "text/plain": [
              "Read 7531 images in 7390.79 secs\tspeed: 1.07267 file/sec"
            ]
          },
          "metadata": {
            "tags": []
          }
        },
        {
          "output_type": "display_data",
          "data": {
            "text/html": [
              "<pre>Read 7535 images in 7396.08 secs\tspeed: 0.756418 file/sec</pre>"
            ],
            "text/plain": [
              "Read 7535 images in 7396.08 secs\tspeed: 0.756418 file/sec"
            ]
          },
          "metadata": {
            "tags": []
          }
        },
        {
          "output_type": "display_data",
          "data": {
            "text/html": [
              "<pre>Read 7540 images in 7401.94 secs\tspeed: 0.854251 file/sec</pre>"
            ],
            "text/plain": [
              "Read 7540 images in 7401.94 secs\tspeed: 0.854251 file/sec"
            ]
          },
          "metadata": {
            "tags": []
          }
        },
        {
          "output_type": "display_data",
          "data": {
            "text/html": [
              "<pre>Read 7552 images in 7414.19 secs\tspeed: 0.956555 file/sec</pre>"
            ],
            "text/plain": [
              "Read 7552 images in 7414.19 secs\tspeed: 0.956555 file/sec"
            ]
          },
          "metadata": {
            "tags": []
          }
        },
        {
          "output_type": "display_data",
          "data": {
            "text/html": [
              "<pre>Read 7556 images in 7420 secs\tspeed: 0.689081 file/sec</pre>"
            ],
            "text/plain": [
              "Read 7556 images in 7420 secs\tspeed: 0.689081 file/sec"
            ]
          },
          "metadata": {
            "tags": []
          }
        },
        {
          "output_type": "display_data",
          "data": {
            "text/html": [
              "<pre>Read 7561 images in 7426.03 secs\tspeed: 0.828404 file/sec</pre>"
            ],
            "text/plain": [
              "Read 7561 images in 7426.03 secs\tspeed: 0.828404 file/sec"
            ]
          },
          "metadata": {
            "tags": []
          }
        },
        {
          "output_type": "display_data",
          "data": {
            "text/html": [
              "<pre>Read 7563 images in 7432.26 secs\tspeed: 0.321116 file/sec</pre>"
            ],
            "text/plain": [
              "Read 7563 images in 7432.26 secs\tspeed: 0.321116 file/sec"
            ]
          },
          "metadata": {
            "tags": []
          }
        },
        {
          "output_type": "display_data",
          "data": {
            "text/html": [
              "<pre>Read 7567 images in 7437.3 secs\tspeed: 0.793044 file/sec</pre>"
            ],
            "text/plain": [
              "Read 7567 images in 7437.3 secs\tspeed: 0.793044 file/sec"
            ]
          },
          "metadata": {
            "tags": []
          }
        },
        {
          "output_type": "display_data",
          "data": {
            "text/html": [
              "<pre>Read 7569 images in 7444.26 secs\tspeed: 0.287282 file/sec</pre>"
            ],
            "text/plain": [
              "Read 7569 images in 7444.26 secs\tspeed: 0.287282 file/sec"
            ]
          },
          "metadata": {
            "tags": []
          }
        },
        {
          "output_type": "display_data",
          "data": {
            "text/html": [
              "<pre>Read 7574 images in 7450.18 secs\tspeed: 0.845639 file/sec</pre>"
            ],
            "text/plain": [
              "Read 7574 images in 7450.18 secs\tspeed: 0.845639 file/sec"
            ]
          },
          "metadata": {
            "tags": []
          }
        },
        {
          "output_type": "display_data",
          "data": {
            "text/html": [
              "<pre>Read 7579 images in 7456.18 secs\tspeed: 0.832706 file/sec</pre>"
            ],
            "text/plain": [
              "Read 7579 images in 7456.18 secs\tspeed: 0.832706 file/sec"
            ]
          },
          "metadata": {
            "tags": []
          }
        },
        {
          "output_type": "display_data",
          "data": {
            "text/html": [
              "<pre>Read 7584 images in 7461.68 secs\tspeed: 0.910057 file/sec</pre>"
            ],
            "text/plain": [
              "Read 7584 images in 7461.68 secs\tspeed: 0.910057 file/sec"
            ]
          },
          "metadata": {
            "tags": []
          }
        },
        {
          "output_type": "display_data",
          "data": {
            "text/html": [
              "<pre>Read 7590 images in 7467.45 secs\tspeed: 1.03834 file/sec</pre>"
            ],
            "text/plain": [
              "Read 7590 images in 7467.45 secs\tspeed: 1.03834 file/sec"
            ]
          },
          "metadata": {
            "tags": []
          }
        },
        {
          "output_type": "display_data",
          "data": {
            "text/html": [
              "<pre>Read 7595 images in 7473.11 secs\tspeed: 0.884589 file/sec</pre>"
            ],
            "text/plain": [
              "Read 7595 images in 7473.11 secs\tspeed: 0.884589 file/sec"
            ]
          },
          "metadata": {
            "tags": []
          }
        },
        {
          "output_type": "display_data",
          "data": {
            "text/html": [
              "<pre>Read 7600 images in 7478.64 secs\tspeed: 0.903389 file/sec</pre>"
            ],
            "text/plain": [
              "Read 7600 images in 7478.64 secs\tspeed: 0.903389 file/sec"
            ]
          },
          "metadata": {
            "tags": []
          }
        },
        {
          "output_type": "display_data",
          "data": {
            "text/html": [
              "<pre>Read 7604 images in 7484.25 secs\tspeed: 0.713234 file/sec</pre>"
            ],
            "text/plain": [
              "Read 7604 images in 7484.25 secs\tspeed: 0.713234 file/sec"
            ]
          },
          "metadata": {
            "tags": []
          }
        },
        {
          "output_type": "display_data",
          "data": {
            "text/html": [
              "<pre>Read 7608 images in 7489.91 secs\tspeed: 0.70643 file/sec</pre>"
            ],
            "text/plain": [
              "Read 7608 images in 7489.91 secs\tspeed: 0.70643 file/sec"
            ]
          },
          "metadata": {
            "tags": []
          }
        },
        {
          "output_type": "display_data",
          "data": {
            "text/html": [
              "<pre>Read 7610 images in 7499.32 secs\tspeed: 0.21258 file/sec</pre>"
            ],
            "text/plain": [
              "Read 7610 images in 7499.32 secs\tspeed: 0.21258 file/sec"
            ]
          },
          "metadata": {
            "tags": []
          }
        },
        {
          "output_type": "display_data",
          "data": {
            "text/html": [
              "<pre>Read 7615 images in 7504.71 secs\tspeed: 0.927128 file/sec</pre>"
            ],
            "text/plain": [
              "Read 7615 images in 7504.71 secs\tspeed: 0.927128 file/sec"
            ]
          },
          "metadata": {
            "tags": []
          }
        },
        {
          "output_type": "display_data",
          "data": {
            "text/html": [
              "<pre>Read 7621 images in 7510.65 secs\tspeed: 1.01106 file/sec</pre>"
            ],
            "text/plain": [
              "Read 7621 images in 7510.65 secs\tspeed: 1.01106 file/sec"
            ]
          },
          "metadata": {
            "tags": []
          }
        },
        {
          "output_type": "display_data",
          "data": {
            "text/html": [
              "<pre>Read 7627 images in 7516.32 secs\tspeed: 1.0585 file/sec</pre>"
            ],
            "text/plain": [
              "Read 7627 images in 7516.32 secs\tspeed: 1.0585 file/sec"
            ]
          },
          "metadata": {
            "tags": []
          }
        },
        {
          "output_type": "display_data",
          "data": {
            "text/html": [
              "<pre>Read 7632 images in 7521.49 secs\tspeed: 0.966127 file/sec</pre>"
            ],
            "text/plain": [
              "Read 7632 images in 7521.49 secs\tspeed: 0.966127 file/sec"
            ]
          },
          "metadata": {
            "tags": []
          }
        },
        {
          "output_type": "display_data",
          "data": {
            "text/html": [
              "<pre>Read 7637 images in 7526.89 secs\tspeed: 0.926081 file/sec</pre>"
            ],
            "text/plain": [
              "Read 7637 images in 7526.89 secs\tspeed: 0.926081 file/sec"
            ]
          },
          "metadata": {
            "tags": []
          }
        },
        {
          "output_type": "display_data",
          "data": {
            "text/html": [
              "<pre>Read 7642 images in 7532.04 secs\tspeed: 0.970371 file/sec</pre>"
            ],
            "text/plain": [
              "Read 7642 images in 7532.04 secs\tspeed: 0.970371 file/sec"
            ]
          },
          "metadata": {
            "tags": []
          }
        },
        {
          "output_type": "display_data",
          "data": {
            "text/html": [
              "<pre>Read 7647 images in 7537.38 secs\tspeed: 0.937293 file/sec</pre>"
            ],
            "text/plain": [
              "Read 7647 images in 7537.38 secs\tspeed: 0.937293 file/sec"
            ]
          },
          "metadata": {
            "tags": []
          }
        },
        {
          "output_type": "display_data",
          "data": {
            "text/html": [
              "<pre>Read 7652 images in 7543.41 secs\tspeed: 0.828281 file/sec</pre>"
            ],
            "text/plain": [
              "Read 7652 images in 7543.41 secs\tspeed: 0.828281 file/sec"
            ]
          },
          "metadata": {
            "tags": []
          }
        },
        {
          "output_type": "display_data",
          "data": {
            "text/html": [
              "<pre>Read 7657 images in 7549.66 secs\tspeed: 0.799949 file/sec</pre>"
            ],
            "text/plain": [
              "Read 7657 images in 7549.66 secs\tspeed: 0.799949 file/sec"
            ]
          },
          "metadata": {
            "tags": []
          }
        },
        {
          "output_type": "display_data",
          "data": {
            "text/html": [
              "<pre>Read 7663 images in 7555.19 secs\tspeed: 1.08625 file/sec</pre>"
            ],
            "text/plain": [
              "Read 7663 images in 7555.19 secs\tspeed: 1.08625 file/sec"
            ]
          },
          "metadata": {
            "tags": []
          }
        },
        {
          "output_type": "display_data",
          "data": {
            "text/html": [
              "<pre>Read 7669 images in 7560.66 secs\tspeed: 1.09706 file/sec</pre>"
            ],
            "text/plain": [
              "Read 7669 images in 7560.66 secs\tspeed: 1.09706 file/sec"
            ]
          },
          "metadata": {
            "tags": []
          }
        },
        {
          "output_type": "display_data",
          "data": {
            "text/html": [
              "<pre>Read 7674 images in 7566.25 secs\tspeed: 0.893315 file/sec</pre>"
            ],
            "text/plain": [
              "Read 7674 images in 7566.25 secs\tspeed: 0.893315 file/sec"
            ]
          },
          "metadata": {
            "tags": []
          }
        },
        {
          "output_type": "display_data",
          "data": {
            "text/html": [
              "<pre>Read 7680 images in 7571.84 secs\tspeed: 1.0752 file/sec</pre>"
            ],
            "text/plain": [
              "Read 7680 images in 7571.84 secs\tspeed: 1.0752 file/sec"
            ]
          },
          "metadata": {
            "tags": []
          }
        },
        {
          "output_type": "display_data",
          "data": {
            "text/html": [
              "<pre>Read 7684 images in 7577.21 secs\tspeed: 0.744745 file/sec</pre>"
            ],
            "text/plain": [
              "Read 7684 images in 7577.21 secs\tspeed: 0.744745 file/sec"
            ]
          },
          "metadata": {
            "tags": []
          }
        },
        {
          "output_type": "display_data",
          "data": {
            "text/html": [
              "<pre>Read 7689 images in 7582.84 secs\tspeed: 0.887769 file/sec</pre>"
            ],
            "text/plain": [
              "Read 7689 images in 7582.84 secs\tspeed: 0.887769 file/sec"
            ]
          },
          "metadata": {
            "tags": []
          }
        },
        {
          "output_type": "display_data",
          "data": {
            "text/html": [
              "<pre>Read 7695 images in 7589.13 secs\tspeed: 0.953727 file/sec</pre>"
            ],
            "text/plain": [
              "Read 7695 images in 7589.13 secs\tspeed: 0.953727 file/sec"
            ]
          },
          "metadata": {
            "tags": []
          }
        },
        {
          "output_type": "display_data",
          "data": {
            "text/html": [
              "<pre>Read 7700 images in 7594.5 secs\tspeed: 0.930561 file/sec</pre>"
            ],
            "text/plain": [
              "Read 7700 images in 7594.5 secs\tspeed: 0.930561 file/sec"
            ]
          },
          "metadata": {
            "tags": []
          }
        },
        {
          "output_type": "display_data",
          "data": {
            "text/html": [
              "<pre>Read 7704 images in 7599.65 secs\tspeed: 0.77637 file/sec</pre>"
            ],
            "text/plain": [
              "Read 7704 images in 7599.65 secs\tspeed: 0.77637 file/sec"
            ]
          },
          "metadata": {
            "tags": []
          }
        },
        {
          "output_type": "display_data",
          "data": {
            "text/html": [
              "<pre>Read 7708 images in 7605.82 secs\tspeed: 0.649105 file/sec</pre>"
            ],
            "text/plain": [
              "Read 7708 images in 7605.82 secs\tspeed: 0.649105 file/sec"
            ]
          },
          "metadata": {
            "tags": []
          }
        },
        {
          "output_type": "display_data",
          "data": {
            "text/html": [
              "<pre>Read 7711 images in 7637.22 secs\tspeed: 0.0955293 file/sec</pre>"
            ],
            "text/plain": [
              "Read 7711 images in 7637.22 secs\tspeed: 0.0955293 file/sec"
            ]
          },
          "metadata": {
            "tags": []
          }
        },
        {
          "output_type": "display_data",
          "data": {
            "text/html": [
              "<pre>Read 7717 images in 7643.27 secs\tspeed: 0.991698 file/sec</pre>"
            ],
            "text/plain": [
              "Read 7717 images in 7643.27 secs\tspeed: 0.991698 file/sec"
            ]
          },
          "metadata": {
            "tags": []
          }
        },
        {
          "output_type": "display_data",
          "data": {
            "text/html": [
              "<pre>Read 7722 images in 7649.08 secs\tspeed: 0.86004 file/sec</pre>"
            ],
            "text/plain": [
              "Read 7722 images in 7649.08 secs\tspeed: 0.86004 file/sec"
            ]
          },
          "metadata": {
            "tags": []
          }
        },
        {
          "output_type": "display_data",
          "data": {
            "text/html": [
              "<pre>Read 7727 images in 7654.6 secs\tspeed: 0.90621 file/sec</pre>"
            ],
            "text/plain": [
              "Read 7727 images in 7654.6 secs\tspeed: 0.90621 file/sec"
            ]
          },
          "metadata": {
            "tags": []
          }
        },
        {
          "output_type": "display_data",
          "data": {
            "text/html": [
              "<pre>Read 7731 images in 7659.91 secs\tspeed: 0.75426 file/sec</pre>"
            ],
            "text/plain": [
              "Read 7731 images in 7659.91 secs\tspeed: 0.75426 file/sec"
            ]
          },
          "metadata": {
            "tags": []
          }
        },
        {
          "output_type": "display_data",
          "data": {
            "text/html": [
              "<pre>Read 7736 images in 7665.07 secs\tspeed: 0.967526 file/sec</pre>"
            ],
            "text/plain": [
              "Read 7736 images in 7665.07 secs\tspeed: 0.967526 file/sec"
            ]
          },
          "metadata": {
            "tags": []
          }
        },
        {
          "output_type": "display_data",
          "data": {
            "text/html": [
              "<pre>Read 7742 images in 7670.94 secs\tspeed: 1.02257 file/sec</pre>"
            ],
            "text/plain": [
              "Read 7742 images in 7670.94 secs\tspeed: 1.02257 file/sec"
            ]
          },
          "metadata": {
            "tags": []
          }
        },
        {
          "output_type": "display_data",
          "data": {
            "text/html": [
              "<pre>Read 7747 images in 7676.02 secs\tspeed: 0.983578 file/sec</pre>"
            ],
            "text/plain": [
              "Read 7747 images in 7676.02 secs\tspeed: 0.983578 file/sec"
            ]
          },
          "metadata": {
            "tags": []
          }
        },
        {
          "output_type": "display_data",
          "data": {
            "text/html": [
              "<pre>Read 7752 images in 7681.53 secs\tspeed: 0.907854 file/sec</pre>"
            ],
            "text/plain": [
              "Read 7752 images in 7681.53 secs\tspeed: 0.907854 file/sec"
            ]
          },
          "metadata": {
            "tags": []
          }
        },
        {
          "output_type": "display_data",
          "data": {
            "text/html": [
              "<pre>Read 7758 images in 7687.34 secs\tspeed: 1.03292 file/sec</pre>"
            ],
            "text/plain": [
              "Read 7758 images in 7687.34 secs\tspeed: 1.03292 file/sec"
            ]
          },
          "metadata": {
            "tags": []
          }
        },
        {
          "output_type": "display_data",
          "data": {
            "text/html": [
              "<pre>Read 7764 images in 7692.49 secs\tspeed: 1.16445 file/sec</pre>"
            ],
            "text/plain": [
              "Read 7764 images in 7692.49 secs\tspeed: 1.16445 file/sec"
            ]
          },
          "metadata": {
            "tags": []
          }
        },
        {
          "output_type": "display_data",
          "data": {
            "text/html": [
              "<pre>Read 7768 images in 7697.66 secs\tspeed: 0.773741 file/sec</pre>"
            ],
            "text/plain": [
              "Read 7768 images in 7697.66 secs\tspeed: 0.773741 file/sec"
            ]
          },
          "metadata": {
            "tags": []
          }
        },
        {
          "output_type": "display_data",
          "data": {
            "text/html": [
              "<pre>Read 7774 images in 7703.9 secs\tspeed: 0.962213 file/sec</pre>"
            ],
            "text/plain": [
              "Read 7774 images in 7703.9 secs\tspeed: 0.962213 file/sec"
            ]
          },
          "metadata": {
            "tags": []
          }
        },
        {
          "output_type": "display_data",
          "data": {
            "text/html": [
              "<pre>Read 7779 images in 7709.4 secs\tspeed: 0.908773 file/sec</pre>"
            ],
            "text/plain": [
              "Read 7779 images in 7709.4 secs\tspeed: 0.908773 file/sec"
            ]
          },
          "metadata": {
            "tags": []
          }
        },
        {
          "output_type": "display_data",
          "data": {
            "text/html": [
              "<pre>Read 7785 images in 7714.8 secs\tspeed: 1.11209 file/sec</pre>"
            ],
            "text/plain": [
              "Read 7785 images in 7714.8 secs\tspeed: 1.11209 file/sec"
            ]
          },
          "metadata": {
            "tags": []
          }
        },
        {
          "output_type": "display_data",
          "data": {
            "text/html": [
              "<pre>Read 7789 images in 7719.97 secs\tspeed: 0.773473 file/sec</pre>"
            ],
            "text/plain": [
              "Read 7789 images in 7719.97 secs\tspeed: 0.773473 file/sec"
            ]
          },
          "metadata": {
            "tags": []
          }
        },
        {
          "output_type": "display_data",
          "data": {
            "text/html": [
              "<pre>Read 7794 images in 7725.35 secs\tspeed: 0.929287 file/sec</pre>"
            ],
            "text/plain": [
              "Read 7794 images in 7725.35 secs\tspeed: 0.929287 file/sec"
            ]
          },
          "metadata": {
            "tags": []
          }
        },
        {
          "output_type": "display_data",
          "data": {
            "text/html": [
              "<pre>Read 7799 images in 7730.78 secs\tspeed: 0.919919 file/sec</pre>"
            ],
            "text/plain": [
              "Read 7799 images in 7730.78 secs\tspeed: 0.919919 file/sec"
            ]
          },
          "metadata": {
            "tags": []
          }
        },
        {
          "output_type": "display_data",
          "data": {
            "text/html": [
              "<pre>Read 7805 images in 7736.15 secs\tspeed: 1.11876 file/sec</pre>"
            ],
            "text/plain": [
              "Read 7805 images in 7736.15 secs\tspeed: 1.11876 file/sec"
            ]
          },
          "metadata": {
            "tags": []
          }
        },
        {
          "output_type": "display_data",
          "data": {
            "text/html": [
              "<pre>Read 7810 images in 7741.37 secs\tspeed: 0.957149 file/sec</pre>"
            ],
            "text/plain": [
              "Read 7810 images in 7741.37 secs\tspeed: 0.957149 file/sec"
            ]
          },
          "metadata": {
            "tags": []
          }
        },
        {
          "output_type": "display_data",
          "data": {
            "text/html": [
              "<pre>Read 7816 images in 7746.44 secs\tspeed: 1.18394 file/sec</pre>"
            ],
            "text/plain": [
              "Read 7816 images in 7746.44 secs\tspeed: 1.18394 file/sec"
            ]
          },
          "metadata": {
            "tags": []
          }
        },
        {
          "output_type": "display_data",
          "data": {
            "text/html": [
              "<pre>Read 7823 images in 7751.93 secs\tspeed: 1.27379 file/sec</pre>"
            ],
            "text/plain": [
              "Read 7823 images in 7751.93 secs\tspeed: 1.27379 file/sec"
            ]
          },
          "metadata": {
            "tags": []
          }
        },
        {
          "output_type": "display_data",
          "data": {
            "text/html": [
              "<pre>Read 7828 images in 7757.42 secs\tspeed: 0.911062 file/sec</pre>"
            ],
            "text/plain": [
              "Read 7828 images in 7757.42 secs\tspeed: 0.911062 file/sec"
            ]
          },
          "metadata": {
            "tags": []
          }
        },
        {
          "output_type": "display_data",
          "data": {
            "text/html": [
              "<pre>Read 7834 images in 7763.17 secs\tspeed: 1.04356 file/sec</pre>"
            ],
            "text/plain": [
              "Read 7834 images in 7763.17 secs\tspeed: 1.04356 file/sec"
            ]
          },
          "metadata": {
            "tags": []
          }
        },
        {
          "output_type": "display_data",
          "data": {
            "text/html": [
              "<pre>Read 7839 images in 7779.82 secs\tspeed: 0.300239 file/sec</pre>"
            ],
            "text/plain": [
              "Read 7839 images in 7779.82 secs\tspeed: 0.300239 file/sec"
            ]
          },
          "metadata": {
            "tags": []
          }
        },
        {
          "output_type": "display_data",
          "data": {
            "text/html": [
              "<pre>Read 7844 images in 7785.3 secs\tspeed: 0.912698 file/sec</pre>"
            ],
            "text/plain": [
              "Read 7844 images in 7785.3 secs\tspeed: 0.912698 file/sec"
            ]
          },
          "metadata": {
            "tags": []
          }
        },
        {
          "output_type": "display_data",
          "data": {
            "text/html": [
              "<pre>Read 7849 images in 7790.47 secs\tspeed: 0.968508 file/sec</pre>"
            ],
            "text/plain": [
              "Read 7849 images in 7790.47 secs\tspeed: 0.968508 file/sec"
            ]
          },
          "metadata": {
            "tags": []
          }
        },
        {
          "output_type": "display_data",
          "data": {
            "text/html": [
              "<pre>Read 7855 images in 7795.93 secs\tspeed: 1.09854 file/sec</pre>"
            ],
            "text/plain": [
              "Read 7855 images in 7795.93 secs\tspeed: 1.09854 file/sec"
            ]
          },
          "metadata": {
            "tags": []
          }
        },
        {
          "output_type": "display_data",
          "data": {
            "text/html": [
              "<pre>Read 7859 images in 7801.85 secs\tspeed: 0.675526 file/sec</pre>"
            ],
            "text/plain": [
              "Read 7859 images in 7801.85 secs\tspeed: 0.675526 file/sec"
            ]
          },
          "metadata": {
            "tags": []
          }
        },
        {
          "output_type": "display_data",
          "data": {
            "text/html": [
              "<pre>Read 7863 images in 7807.11 secs\tspeed: 0.760485 file/sec</pre>"
            ],
            "text/plain": [
              "Read 7863 images in 7807.11 secs\tspeed: 0.760485 file/sec"
            ]
          },
          "metadata": {
            "tags": []
          }
        },
        {
          "output_type": "display_data",
          "data": {
            "text/html": [
              "<pre>Read 7869 images in 7819.68 secs\tspeed: 0.477186 file/sec</pre>"
            ],
            "text/plain": [
              "Read 7869 images in 7819.68 secs\tspeed: 0.477186 file/sec"
            ]
          },
          "metadata": {
            "tags": []
          }
        },
        {
          "output_type": "display_data",
          "data": {
            "text/html": [
              "<pre>Read 7875 images in 7824.72 secs\tspeed: 1.1904 file/sec</pre>"
            ],
            "text/plain": [
              "Read 7875 images in 7824.72 secs\tspeed: 1.1904 file/sec"
            ]
          },
          "metadata": {
            "tags": []
          }
        },
        {
          "output_type": "display_data",
          "data": {
            "text/html": [
              "<pre>Read 7881 images in 7830.72 secs\tspeed: 1.00086 file/sec</pre>"
            ],
            "text/plain": [
              "Read 7881 images in 7830.72 secs\tspeed: 1.00086 file/sec"
            ]
          },
          "metadata": {
            "tags": []
          }
        },
        {
          "output_type": "display_data",
          "data": {
            "text/html": [
              "<pre>Read 7887 images in 7836.31 secs\tspeed: 1.07367 file/sec</pre>"
            ],
            "text/plain": [
              "Read 7887 images in 7836.31 secs\tspeed: 1.07367 file/sec"
            ]
          },
          "metadata": {
            "tags": []
          }
        },
        {
          "output_type": "display_data",
          "data": {
            "text/html": [
              "<pre>Read 7893 images in 7841.45 secs\tspeed: 1.16712 file/sec</pre>"
            ],
            "text/plain": [
              "Read 7893 images in 7841.45 secs\tspeed: 1.16712 file/sec"
            ]
          },
          "metadata": {
            "tags": []
          }
        },
        {
          "output_type": "display_data",
          "data": {
            "text/html": [
              "<pre>Read 7899 images in 7846.46 secs\tspeed: 1.19613 file/sec</pre>"
            ],
            "text/plain": [
              "Read 7899 images in 7846.46 secs\tspeed: 1.19613 file/sec"
            ]
          },
          "metadata": {
            "tags": []
          }
        },
        {
          "output_type": "display_data",
          "data": {
            "text/html": [
              "<pre>Read 7905 images in 7851.63 secs\tspeed: 1.16048 file/sec</pre>"
            ],
            "text/plain": [
              "Read 7905 images in 7851.63 secs\tspeed: 1.16048 file/sec"
            ]
          },
          "metadata": {
            "tags": []
          }
        },
        {
          "output_type": "display_data",
          "data": {
            "text/html": [
              "<pre>Read 7911 images in 7856.67 secs\tspeed: 1.19154 file/sec</pre>"
            ],
            "text/plain": [
              "Read 7911 images in 7856.67 secs\tspeed: 1.19154 file/sec"
            ]
          },
          "metadata": {
            "tags": []
          }
        },
        {
          "output_type": "display_data",
          "data": {
            "text/html": [
              "<pre>Read 7917 images in 7862.47 secs\tspeed: 1.03341 file/sec</pre>"
            ],
            "text/plain": [
              "Read 7917 images in 7862.47 secs\tspeed: 1.03341 file/sec"
            ]
          },
          "metadata": {
            "tags": []
          }
        },
        {
          "output_type": "display_data",
          "data": {
            "text/html": [
              "<pre>Read 7922 images in 7867.59 secs\tspeed: 0.977109 file/sec</pre>"
            ],
            "text/plain": [
              "Read 7922 images in 7867.59 secs\tspeed: 0.977109 file/sec"
            ]
          },
          "metadata": {
            "tags": []
          }
        },
        {
          "output_type": "display_data",
          "data": {
            "text/html": [
              "<pre>Read 7928 images in 7873.06 secs\tspeed: 1.09613 file/sec</pre>"
            ],
            "text/plain": [
              "Read 7928 images in 7873.06 secs\tspeed: 1.09613 file/sec"
            ]
          },
          "metadata": {
            "tags": []
          }
        },
        {
          "output_type": "display_data",
          "data": {
            "text/html": [
              "<pre>Read 7931 images in 7878.19 secs\tspeed: 0.584848 file/sec</pre>"
            ],
            "text/plain": [
              "Read 7931 images in 7878.19 secs\tspeed: 0.584848 file/sec"
            ]
          },
          "metadata": {
            "tags": []
          }
        },
        {
          "output_type": "display_data",
          "data": {
            "text/html": [
              "<pre>Read 7936 images in 7883.23 secs\tspeed: 0.993271 file/sec</pre>"
            ],
            "text/plain": [
              "Read 7936 images in 7883.23 secs\tspeed: 0.993271 file/sec"
            ]
          },
          "metadata": {
            "tags": []
          }
        },
        {
          "output_type": "display_data",
          "data": {
            "text/html": [
              "<pre>Read 7941 images in 7888.34 secs\tspeed: 0.977726 file/sec</pre>"
            ],
            "text/plain": [
              "Read 7941 images in 7888.34 secs\tspeed: 0.977726 file/sec"
            ]
          },
          "metadata": {
            "tags": []
          }
        },
        {
          "output_type": "display_data",
          "data": {
            "text/html": [
              "<pre>Read 7944 images in 7902.39 secs\tspeed: 0.213525 file/sec</pre>"
            ],
            "text/plain": [
              "Read 7944 images in 7902.39 secs\tspeed: 0.213525 file/sec"
            ]
          },
          "metadata": {
            "tags": []
          }
        },
        {
          "output_type": "display_data",
          "data": {
            "text/html": [
              "<pre>Read 7950 images in 7907.93 secs\tspeed: 1.08368 file/sec</pre>"
            ],
            "text/plain": [
              "Read 7950 images in 7907.93 secs\tspeed: 1.08368 file/sec"
            ]
          },
          "metadata": {
            "tags": []
          }
        },
        {
          "output_type": "display_data",
          "data": {
            "text/html": [
              "<pre>Read 7957 images in 7913.78 secs\tspeed: 1.19722 file/sec</pre>"
            ],
            "text/plain": [
              "Read 7957 images in 7913.78 secs\tspeed: 1.19722 file/sec"
            ]
          },
          "metadata": {
            "tags": []
          }
        },
        {
          "output_type": "display_data",
          "data": {
            "text/html": [
              "<pre>Read 7962 images in 7923.94 secs\tspeed: 0.491697 file/sec</pre>"
            ],
            "text/plain": [
              "Read 7962 images in 7923.94 secs\tspeed: 0.491697 file/sec"
            ]
          },
          "metadata": {
            "tags": []
          }
        },
        {
          "output_type": "display_data",
          "data": {
            "text/html": [
              "<pre>Read 7968 images in 7929.69 secs\tspeed: 1.04411 file/sec</pre>"
            ],
            "text/plain": [
              "Read 7968 images in 7929.69 secs\tspeed: 1.04411 file/sec"
            ]
          },
          "metadata": {
            "tags": []
          }
        },
        {
          "output_type": "display_data",
          "data": {
            "text/html": [
              "<pre>Read 7975 images in 7935.76 secs\tspeed: 1.15388 file/sec</pre>"
            ],
            "text/plain": [
              "Read 7975 images in 7935.76 secs\tspeed: 1.15388 file/sec"
            ]
          },
          "metadata": {
            "tags": []
          }
        },
        {
          "output_type": "display_data",
          "data": {
            "text/html": [
              "<pre>Read 7980 images in 7940.94 secs\tspeed: 0.964239 file/sec</pre>"
            ],
            "text/plain": [
              "Read 7980 images in 7940.94 secs\tspeed: 0.964239 file/sec"
            ]
          },
          "metadata": {
            "tags": []
          }
        },
        {
          "output_type": "display_data",
          "data": {
            "text/html": [
              "<pre>Read 7986 images in 7946.46 secs\tspeed: 1.08827 file/sec</pre>"
            ],
            "text/plain": [
              "Read 7986 images in 7946.46 secs\tspeed: 1.08827 file/sec"
            ]
          },
          "metadata": {
            "tags": []
          }
        },
        {
          "output_type": "display_data",
          "data": {
            "text/html": [
              "<pre>Read 7991 images in 7951.76 secs\tspeed: 0.943577 file/sec</pre>"
            ],
            "text/plain": [
              "Read 7991 images in 7951.76 secs\tspeed: 0.943577 file/sec"
            ]
          },
          "metadata": {
            "tags": []
          }
        },
        {
          "output_type": "display_data",
          "data": {
            "text/html": [
              "<pre>Read 7994 images in 7956.8 secs\tspeed: 0.594991 file/sec</pre>"
            ],
            "text/plain": [
              "Read 7994 images in 7956.8 secs\tspeed: 0.594991 file/sec"
            ]
          },
          "metadata": {
            "tags": []
          }
        },
        {
          "output_type": "display_data",
          "data": {
            "text/html": [
              "<pre>Read 8000 images in 7963.18 secs\tspeed: 0.940491 file/sec</pre>"
            ],
            "text/plain": [
              "Read 8000 images in 7963.18 secs\tspeed: 0.940491 file/sec"
            ]
          },
          "metadata": {
            "tags": []
          }
        },
        {
          "output_type": "display_data",
          "data": {
            "text/html": [
              "<pre>Read 8005 images in 7968.57 secs\tspeed: 0.926618 file/sec</pre>"
            ],
            "text/plain": [
              "Read 8005 images in 7968.57 secs\tspeed: 0.926618 file/sec"
            ]
          },
          "metadata": {
            "tags": []
          }
        },
        {
          "output_type": "display_data",
          "data": {
            "text/html": [
              "<pre>Read 8010 images in 7974.63 secs\tspeed: 0.825801 file/sec</pre>"
            ],
            "text/plain": [
              "Read 8010 images in 7974.63 secs\tspeed: 0.825801 file/sec"
            ]
          },
          "metadata": {
            "tags": []
          }
        },
        {
          "output_type": "display_data",
          "data": {
            "text/html": [
              "<pre>Read 8015 images in 7980.3 secs\tspeed: 0.881668 file/sec</pre>"
            ],
            "text/plain": [
              "Read 8015 images in 7980.3 secs\tspeed: 0.881668 file/sec"
            ]
          },
          "metadata": {
            "tags": []
          }
        },
        {
          "output_type": "display_data",
          "data": {
            "text/html": [
              "<pre>Read 8021 images in 7985.4 secs\tspeed: 1.17708 file/sec</pre>"
            ],
            "text/plain": [
              "Read 8021 images in 7985.4 secs\tspeed: 1.17708 file/sec"
            ]
          },
          "metadata": {
            "tags": []
          }
        },
        {
          "output_type": "display_data",
          "data": {
            "text/html": [
              "<pre>Read 8027 images in 7990.72 secs\tspeed: 1.12751 file/sec</pre>"
            ],
            "text/plain": [
              "Read 8027 images in 7990.72 secs\tspeed: 1.12751 file/sec"
            ]
          },
          "metadata": {
            "tags": []
          }
        },
        {
          "output_type": "display_data",
          "data": {
            "text/html": [
              "<pre>Read 8032 images in 8016.3 secs\tspeed: 0.195441 file/sec</pre>"
            ],
            "text/plain": [
              "Read 8032 images in 8016.3 secs\tspeed: 0.195441 file/sec"
            ]
          },
          "metadata": {
            "tags": []
          }
        },
        {
          "output_type": "display_data",
          "data": {
            "text/html": [
              "<pre>Read 8036 images in 8023.8 secs\tspeed: 0.533094 file/sec</pre>"
            ],
            "text/plain": [
              "Read 8036 images in 8023.8 secs\tspeed: 0.533094 file/sec"
            ]
          },
          "metadata": {
            "tags": []
          }
        },
        {
          "output_type": "display_data",
          "data": {
            "text/html": [
              "<pre>Read 8042 images in 8028.81 secs\tspeed: 1.19977 file/sec</pre>"
            ],
            "text/plain": [
              "Read 8042 images in 8028.81 secs\tspeed: 1.19977 file/sec"
            ]
          },
          "metadata": {
            "tags": []
          }
        },
        {
          "output_type": "display_data",
          "data": {
            "text/html": [
              "<pre>Read 8048 images in 8033.97 secs\tspeed: 1.16082 file/sec</pre>"
            ],
            "text/plain": [
              "Read 8048 images in 8033.97 secs\tspeed: 1.16082 file/sec"
            ]
          },
          "metadata": {
            "tags": []
          }
        },
        {
          "output_type": "display_data",
          "data": {
            "text/html": [
              "<pre>Read 8054 images in 8038.97 secs\tspeed: 1.19977 file/sec</pre>"
            ],
            "text/plain": [
              "Read 8054 images in 8038.97 secs\tspeed: 1.19977 file/sec"
            ]
          },
          "metadata": {
            "tags": []
          }
        },
        {
          "output_type": "display_data",
          "data": {
            "text/html": [
              "<pre>Read 8061 images in 8045.28 secs\tspeed: 1.11088 file/sec</pre>"
            ],
            "text/plain": [
              "Read 8061 images in 8045.28 secs\tspeed: 1.11088 file/sec"
            ]
          },
          "metadata": {
            "tags": []
          }
        },
        {
          "output_type": "display_data",
          "data": {
            "text/html": [
              "<pre>Read 8067 images in 8050.55 secs\tspeed: 1.13844 file/sec</pre>"
            ],
            "text/plain": [
              "Read 8067 images in 8050.55 secs\tspeed: 1.13844 file/sec"
            ]
          },
          "metadata": {
            "tags": []
          }
        },
        {
          "output_type": "display_data",
          "data": {
            "text/html": [
              "<pre>Read 8071 images in 8055.57 secs\tspeed: 0.796613 file/sec</pre>"
            ],
            "text/plain": [
              "Read 8071 images in 8055.57 secs\tspeed: 0.796613 file/sec"
            ]
          },
          "metadata": {
            "tags": []
          }
        },
        {
          "output_type": "display_data",
          "data": {
            "text/html": [
              "<pre>Read 8077 images in 8060.6 secs\tspeed: 1.1912 file/sec</pre>"
            ],
            "text/plain": [
              "Read 8077 images in 8060.6 secs\tspeed: 1.1912 file/sec"
            ]
          },
          "metadata": {
            "tags": []
          }
        },
        {
          "output_type": "display_data",
          "data": {
            "text/html": [
              "<pre>Read 8083 images in 8065.92 secs\tspeed: 1.12929 file/sec</pre>"
            ],
            "text/plain": [
              "Read 8083 images in 8065.92 secs\tspeed: 1.12929 file/sec"
            ]
          },
          "metadata": {
            "tags": []
          }
        },
        {
          "output_type": "display_data",
          "data": {
            "text/html": [
              "<pre>Read 8086 images in 8085.84 secs\tspeed: 0.150586 file/sec</pre>"
            ],
            "text/plain": [
              "Read 8086 images in 8085.84 secs\tspeed: 0.150586 file/sec"
            ]
          },
          "metadata": {
            "tags": []
          }
        },
        {
          "output_type": "display_data",
          "data": {
            "text/html": [
              "<pre>Read 8089 images in 8110 secs\tspeed: 0.124159 file/sec</pre>"
            ],
            "text/plain": [
              "Read 8089 images in 8110 secs\tspeed: 0.124159 file/sec"
            ]
          },
          "metadata": {
            "tags": []
          }
        },
        {
          "output_type": "display_data",
          "data": {
            "text/html": [
              "<pre>Read 8095 images in 8115.46 secs\tspeed: 1.10039 file/sec</pre>"
            ],
            "text/plain": [
              "Read 8095 images in 8115.46 secs\tspeed: 1.10039 file/sec"
            ]
          },
          "metadata": {
            "tags": []
          }
        },
        {
          "output_type": "display_data",
          "data": {
            "text/html": [
              "<pre>Read 8097 images in 8123.82 secs\tspeed: 0.239072 file/sec</pre>"
            ],
            "text/plain": [
              "Read 8097 images in 8123.82 secs\tspeed: 0.239072 file/sec"
            ]
          },
          "metadata": {
            "tags": []
          }
        },
        {
          "output_type": "display_data",
          "data": {
            "text/html": [
              "<pre>Read 8102 images in 8129.8 secs\tspeed: 0.835886 file/sec</pre>"
            ],
            "text/plain": [
              "Read 8102 images in 8129.8 secs\tspeed: 0.835886 file/sec"
            ]
          },
          "metadata": {
            "tags": []
          }
        },
        {
          "output_type": "display_data",
          "data": {
            "text/html": [
              "<pre>Read 8107 images in 8134.93 secs\tspeed: 0.976092 file/sec</pre>"
            ],
            "text/plain": [
              "Read 8107 images in 8134.93 secs\tspeed: 0.976092 file/sec"
            ]
          },
          "metadata": {
            "tags": []
          }
        },
        {
          "output_type": "display_data",
          "data": {
            "text/html": [
              "<pre>Read 8111 images in 8140.15 secs\tspeed: 0.764992 file/sec</pre>"
            ],
            "text/plain": [
              "Read 8111 images in 8140.15 secs\tspeed: 0.764992 file/sec"
            ]
          },
          "metadata": {
            "tags": []
          }
        },
        {
          "output_type": "display_data",
          "data": {
            "text/html": [
              "<pre>Read 8116 images in 8145.83 secs\tspeed: 0.880407 file/sec</pre>"
            ],
            "text/plain": [
              "Read 8116 images in 8145.83 secs\tspeed: 0.880407 file/sec"
            ]
          },
          "metadata": {
            "tags": []
          }
        },
        {
          "output_type": "display_data",
          "data": {
            "text/html": [
              "<pre>Read 8122 images in 8152.11 secs\tspeed: 0.956189 file/sec</pre>"
            ],
            "text/plain": [
              "Read 8122 images in 8152.11 secs\tspeed: 0.956189 file/sec"
            ]
          },
          "metadata": {
            "tags": []
          }
        },
        {
          "output_type": "display_data",
          "data": {
            "text/html": [
              "<pre>Read 8128 images in 8157.44 secs\tspeed: 1.1254 file/sec</pre>"
            ],
            "text/plain": [
              "Read 8128 images in 8157.44 secs\tspeed: 1.1254 file/sec"
            ]
          },
          "metadata": {
            "tags": []
          }
        },
        {
          "output_type": "display_data",
          "data": {
            "text/html": [
              "<pre>Read 8134 images in 8163.1 secs\tspeed: 1.05992 file/sec</pre>"
            ],
            "text/plain": [
              "Read 8134 images in 8163.1 secs\tspeed: 1.05992 file/sec"
            ]
          },
          "metadata": {
            "tags": []
          }
        },
        {
          "output_type": "display_data",
          "data": {
            "text/html": [
              "<pre>Read 8140 images in 8168.79 secs\tspeed: 1.05461 file/sec</pre>"
            ],
            "text/plain": [
              "Read 8140 images in 8168.79 secs\tspeed: 1.05461 file/sec"
            ]
          },
          "metadata": {
            "tags": []
          }
        },
        {
          "output_type": "display_data",
          "data": {
            "text/html": [
              "<pre>Read 8146 images in 8173.87 secs\tspeed: 1.18111 file/sec</pre>"
            ],
            "text/plain": [
              "Read 8146 images in 8173.87 secs\tspeed: 1.18111 file/sec"
            ]
          },
          "metadata": {
            "tags": []
          }
        },
        {
          "output_type": "display_data",
          "data": {
            "text/html": [
              "<pre>Read 8153 images in 8179.93 secs\tspeed: 1.15463 file/sec</pre>"
            ],
            "text/plain": [
              "Read 8153 images in 8179.93 secs\tspeed: 1.15463 file/sec"
            ]
          },
          "metadata": {
            "tags": []
          }
        },
        {
          "output_type": "display_data",
          "data": {
            "text/html": [
              "<pre>Read 8159 images in 8185.66 secs\tspeed: 1.04803 file/sec</pre>"
            ],
            "text/plain": [
              "Read 8159 images in 8185.66 secs\tspeed: 1.04803 file/sec"
            ]
          },
          "metadata": {
            "tags": []
          }
        },
        {
          "output_type": "display_data",
          "data": {
            "text/html": [
              "<pre>Read 8166 images in 8191.29 secs\tspeed: 1.24233 file/sec</pre>"
            ],
            "text/plain": [
              "Read 8166 images in 8191.29 secs\tspeed: 1.24233 file/sec"
            ]
          },
          "metadata": {
            "tags": []
          }
        },
        {
          "output_type": "display_data",
          "data": {
            "text/html": [
              "<pre>Read 8173 images in 8196.95 secs\tspeed: 1.23604 file/sec</pre>"
            ],
            "text/plain": [
              "Read 8173 images in 8196.95 secs\tspeed: 1.23604 file/sec"
            ]
          },
          "metadata": {
            "tags": []
          }
        },
        {
          "output_type": "display_data",
          "data": {
            "text/html": [
              "<pre>Read 8179 images in 8202.61 secs\tspeed: 1.06163 file/sec</pre>"
            ],
            "text/plain": [
              "Read 8179 images in 8202.61 secs\tspeed: 1.06163 file/sec"
            ]
          },
          "metadata": {
            "tags": []
          }
        },
        {
          "output_type": "display_data",
          "data": {
            "text/html": [
              "<pre>Read 8186 images in 8208.07 secs\tspeed: 1.28129 file/sec</pre>"
            ],
            "text/plain": [
              "Read 8186 images in 8208.07 secs\tspeed: 1.28129 file/sec"
            ]
          },
          "metadata": {
            "tags": []
          }
        },
        {
          "output_type": "display_data",
          "data": {
            "text/html": [
              "<pre>Read 8191 images in 8213.34 secs\tspeed: 0.949254 file/sec</pre>"
            ],
            "text/plain": [
              "Read 8191 images in 8213.34 secs\tspeed: 0.949254 file/sec"
            ]
          },
          "metadata": {
            "tags": []
          }
        },
        {
          "output_type": "display_data",
          "data": {
            "text/html": [
              "<pre>Read 8196 images in 8218.42 secs\tspeed: 0.984653 file/sec</pre>"
            ],
            "text/plain": [
              "Read 8196 images in 8218.42 secs\tspeed: 0.984653 file/sec"
            ]
          },
          "metadata": {
            "tags": []
          }
        },
        {
          "output_type": "display_data",
          "data": {
            "text/html": [
              "<pre>Read 8202 images in 8223.87 secs\tspeed: 1.09967 file/sec</pre>"
            ],
            "text/plain": [
              "Read 8202 images in 8223.87 secs\tspeed: 1.09967 file/sec"
            ]
          },
          "metadata": {
            "tags": []
          }
        },
        {
          "output_type": "display_data",
          "data": {
            "text/html": [
              "<pre>Read 8208 images in 8229.87 secs\tspeed: 0.999752 file/sec</pre>"
            ],
            "text/plain": [
              "Read 8208 images in 8229.87 secs\tspeed: 0.999752 file/sec"
            ]
          },
          "metadata": {
            "tags": []
          }
        },
        {
          "output_type": "display_data",
          "data": {
            "text/html": [
              "<pre>Read 8213 images in 8235.16 secs\tspeed: 0.946171 file/sec</pre>"
            ],
            "text/plain": [
              "Read 8213 images in 8235.16 secs\tspeed: 0.946171 file/sec"
            ]
          },
          "metadata": {
            "tags": []
          }
        },
        {
          "output_type": "display_data",
          "data": {
            "text/html": [
              "<pre>Read 8219 images in 8240.63 secs\tspeed: 1.0972 file/sec</pre>"
            ],
            "text/plain": [
              "Read 8219 images in 8240.63 secs\tspeed: 1.0972 file/sec"
            ]
          },
          "metadata": {
            "tags": []
          }
        },
        {
          "output_type": "display_data",
          "data": {
            "text/html": [
              "<pre>Read 8225 images in 8246.14 secs\tspeed: 1.08797 file/sec</pre>"
            ],
            "text/plain": [
              "Read 8225 images in 8246.14 secs\tspeed: 1.08797 file/sec"
            ]
          },
          "metadata": {
            "tags": []
          }
        },
        {
          "output_type": "display_data",
          "data": {
            "text/html": [
              "<pre>Read 8231 images in 8251.14 secs\tspeed: 1.19935 file/sec</pre>"
            ],
            "text/plain": [
              "Read 8231 images in 8251.14 secs\tspeed: 1.19935 file/sec"
            ]
          },
          "metadata": {
            "tags": []
          }
        },
        {
          "output_type": "display_data",
          "data": {
            "text/html": [
              "<pre>Read 8236 images in 8256.6 secs\tspeed: 0.916081 file/sec</pre>"
            ],
            "text/plain": [
              "Read 8236 images in 8256.6 secs\tspeed: 0.916081 file/sec"
            ]
          },
          "metadata": {
            "tags": []
          }
        },
        {
          "output_type": "display_data",
          "data": {
            "text/html": [
              "<pre>Read 8242 images in 8261.68 secs\tspeed: 1.18029 file/sec</pre>"
            ],
            "text/plain": [
              "Read 8242 images in 8261.68 secs\tspeed: 1.18029 file/sec"
            ]
          },
          "metadata": {
            "tags": []
          }
        },
        {
          "output_type": "display_data",
          "data": {
            "text/html": [
              "<pre>Read 8248 images in 8266.71 secs\tspeed: 1.19361 file/sec</pre>"
            ],
            "text/plain": [
              "Read 8248 images in 8266.71 secs\tspeed: 1.19361 file/sec"
            ]
          },
          "metadata": {
            "tags": []
          }
        },
        {
          "output_type": "display_data",
          "data": {
            "text/html": [
              "<pre>Read 8252 images in 8273.66 secs\tspeed: 0.575692 file/sec</pre>"
            ],
            "text/plain": [
              "Read 8252 images in 8273.66 secs\tspeed: 0.575692 file/sec"
            ]
          },
          "metadata": {
            "tags": []
          }
        },
        {
          "output_type": "display_data",
          "data": {
            "text/html": [
              "<pre>Read 8259 images in 8279.17 secs\tspeed: 1.27104 file/sec</pre>"
            ],
            "text/plain": [
              "Read 8259 images in 8279.17 secs\tspeed: 1.27104 file/sec"
            ]
          },
          "metadata": {
            "tags": []
          }
        },
        {
          "output_type": "display_data",
          "data": {
            "text/html": [
              "<pre>Read 8266 images in 8284.97 secs\tspeed: 1.20709 file/sec</pre>"
            ],
            "text/plain": [
              "Read 8266 images in 8284.97 secs\tspeed: 1.20709 file/sec"
            ]
          },
          "metadata": {
            "tags": []
          }
        },
        {
          "output_type": "display_data",
          "data": {
            "text/html": [
              "<pre>Read 8271 images in 8292.06 secs\tspeed: 0.704703 file/sec</pre>"
            ],
            "text/plain": [
              "Read 8271 images in 8292.06 secs\tspeed: 0.704703 file/sec"
            ]
          },
          "metadata": {
            "tags": []
          }
        },
        {
          "output_type": "display_data",
          "data": {
            "text/html": [
              "<pre>Read 8277 images in 8297.45 secs\tspeed: 1.11439 file/sec</pre>"
            ],
            "text/plain": [
              "Read 8277 images in 8297.45 secs\tspeed: 1.11439 file/sec"
            ]
          },
          "metadata": {
            "tags": []
          }
        },
        {
          "output_type": "display_data",
          "data": {
            "text/html": [
              "<pre>Read 8282 images in 8304.02 secs\tspeed: 0.761061 file/sec</pre>"
            ],
            "text/plain": [
              "Read 8282 images in 8304.02 secs\tspeed: 0.761061 file/sec"
            ]
          },
          "metadata": {
            "tags": []
          }
        },
        {
          "output_type": "display_data",
          "data": {
            "text/html": [
              "<pre>Read 8286 images in 8309.63 secs\tspeed: 0.71177 file/sec</pre>"
            ],
            "text/plain": [
              "Read 8286 images in 8309.63 secs\tspeed: 0.71177 file/sec"
            ]
          },
          "metadata": {
            "tags": []
          }
        },
        {
          "output_type": "display_data",
          "data": {
            "text/html": [
              "<pre>Read 8291 images in 8323.22 secs\tspeed: 0.368023 file/sec</pre>"
            ],
            "text/plain": [
              "Read 8291 images in 8323.22 secs\tspeed: 0.368023 file/sec"
            ]
          },
          "metadata": {
            "tags": []
          }
        },
        {
          "output_type": "display_data",
          "data": {
            "text/html": [
              "<pre>Read 8295 images in 8328.7 secs\tspeed: 0.73068 file/sec</pre>"
            ],
            "text/plain": [
              "Read 8295 images in 8328.7 secs\tspeed: 0.73068 file/sec"
            ]
          },
          "metadata": {
            "tags": []
          }
        },
        {
          "output_type": "display_data",
          "data": {
            "text/html": [
              "<pre>Read 8300 images in 8334.44 secs\tspeed: 0.870221 file/sec</pre>"
            ],
            "text/plain": [
              "Read 8300 images in 8334.44 secs\tspeed: 0.870221 file/sec"
            ]
          },
          "metadata": {
            "tags": []
          }
        },
        {
          "output_type": "display_data",
          "data": {
            "text/html": [
              "<pre>Read 8305 images in 8339.85 secs\tspeed: 0.924694 file/sec</pre>"
            ],
            "text/plain": [
              "Read 8305 images in 8339.85 secs\tspeed: 0.924694 file/sec"
            ]
          },
          "metadata": {
            "tags": []
          }
        },
        {
          "output_type": "display_data",
          "data": {
            "text/html": [
              "<pre>Read 8311 images in 8345.47 secs\tspeed: 1.06792 file/sec</pre>"
            ],
            "text/plain": [
              "Read 8311 images in 8345.47 secs\tspeed: 1.06792 file/sec"
            ]
          },
          "metadata": {
            "tags": []
          }
        },
        {
          "output_type": "display_data",
          "data": {
            "text/html": [
              "<pre>Read 8318 images in 8351.39 secs\tspeed: 1.1812 file/sec</pre>"
            ],
            "text/plain": [
              "Read 8318 images in 8351.39 secs\tspeed: 1.1812 file/sec"
            ]
          },
          "metadata": {
            "tags": []
          }
        },
        {
          "output_type": "display_data",
          "data": {
            "text/html": [
              "<pre>Read 8325 images in 8357.15 secs\tspeed: 1.21637 file/sec</pre>"
            ],
            "text/plain": [
              "Read 8325 images in 8357.15 secs\tspeed: 1.21637 file/sec"
            ]
          },
          "metadata": {
            "tags": []
          }
        },
        {
          "output_type": "display_data",
          "data": {
            "text/html": [
              "<pre>Read 8332 images in 8362.71 secs\tspeed: 1.25733 file/sec</pre>"
            ],
            "text/plain": [
              "Read 8332 images in 8362.71 secs\tspeed: 1.25733 file/sec"
            ]
          },
          "metadata": {
            "tags": []
          }
        },
        {
          "output_type": "display_data",
          "data": {
            "text/html": [
              "<pre>Read 8338 images in 8367.74 secs\tspeed: 1.19347 file/sec</pre>"
            ],
            "text/plain": [
              "Read 8338 images in 8367.74 secs\tspeed: 1.19347 file/sec"
            ]
          },
          "metadata": {
            "tags": []
          }
        },
        {
          "output_type": "display_data",
          "data": {
            "text/html": [
              "<pre>Read 8344 images in 8372.79 secs\tspeed: 1.18886 file/sec</pre>"
            ],
            "text/plain": [
              "Read 8344 images in 8372.79 secs\tspeed: 1.18886 file/sec"
            ]
          },
          "metadata": {
            "tags": []
          }
        },
        {
          "output_type": "display_data",
          "data": {
            "text/html": [
              "<pre>Read 8350 images in 8377.99 secs\tspeed: 1.15333 file/sec</pre>"
            ],
            "text/plain": [
              "Read 8350 images in 8377.99 secs\tspeed: 1.15333 file/sec"
            ]
          },
          "metadata": {
            "tags": []
          }
        },
        {
          "output_type": "display_data",
          "data": {
            "text/html": [
              "<pre>Read 8356 images in 8383.17 secs\tspeed: 1.15849 file/sec</pre>"
            ],
            "text/plain": [
              "Read 8356 images in 8383.17 secs\tspeed: 1.15849 file/sec"
            ]
          },
          "metadata": {
            "tags": []
          }
        },
        {
          "output_type": "display_data",
          "data": {
            "text/html": [
              "<pre>Read 8363 images in 8388.68 secs\tspeed: 1.27042 file/sec</pre>"
            ],
            "text/plain": [
              "Read 8363 images in 8388.68 secs\tspeed: 1.27042 file/sec"
            ]
          },
          "metadata": {
            "tags": []
          }
        },
        {
          "output_type": "display_data",
          "data": {
            "text/html": [
              "<pre>Read 8369 images in 8393.9 secs\tspeed: 1.14911 file/sec</pre>"
            ],
            "text/plain": [
              "Read 8369 images in 8393.9 secs\tspeed: 1.14911 file/sec"
            ]
          },
          "metadata": {
            "tags": []
          }
        },
        {
          "output_type": "display_data",
          "data": {
            "text/html": [
              "<pre>Read 8376 images in 8400.06 secs\tspeed: 1.13631 file/sec</pre>"
            ],
            "text/plain": [
              "Read 8376 images in 8400.06 secs\tspeed: 1.13631 file/sec"
            ]
          },
          "metadata": {
            "tags": []
          }
        },
        {
          "output_type": "display_data",
          "data": {
            "text/html": [
              "<pre>Read 8381 images in 8405.39 secs\tspeed: 0.938111 file/sec</pre>"
            ],
            "text/plain": [
              "Read 8381 images in 8405.39 secs\tspeed: 0.938111 file/sec"
            ]
          },
          "metadata": {
            "tags": []
          }
        },
        {
          "output_type": "display_data",
          "data": {
            "text/html": [
              "<pre>Read 8388 images in 8411.16 secs\tspeed: 1.21431 file/sec</pre>"
            ],
            "text/plain": [
              "Read 8388 images in 8411.16 secs\tspeed: 1.21431 file/sec"
            ]
          },
          "metadata": {
            "tags": []
          }
        },
        {
          "output_type": "display_data",
          "data": {
            "text/html": [
              "<pre>Read 8393 images in 8416.79 secs\tspeed: 0.887238 file/sec</pre>"
            ],
            "text/plain": [
              "Read 8393 images in 8416.79 secs\tspeed: 0.887238 file/sec"
            ]
          },
          "metadata": {
            "tags": []
          }
        },
        {
          "output_type": "display_data",
          "data": {
            "text/html": [
              "<pre>Read 8399 images in 8421.83 secs\tspeed: 1.19053 file/sec</pre>"
            ],
            "text/plain": [
              "Read 8399 images in 8421.83 secs\tspeed: 1.19053 file/sec"
            ]
          },
          "metadata": {
            "tags": []
          }
        },
        {
          "output_type": "display_data",
          "data": {
            "text/html": [
              "<pre>Read 8401 images in 8441.27 secs\tspeed: 0.102917 file/sec</pre>"
            ],
            "text/plain": [
              "Read 8401 images in 8441.27 secs\tspeed: 0.102917 file/sec"
            ]
          },
          "metadata": {
            "tags": []
          }
        },
        {
          "output_type": "display_data",
          "data": {
            "text/html": [
              "<pre>Read 8408 images in 8446.98 secs\tspeed: 1.22524 file/sec</pre>"
            ],
            "text/plain": [
              "Read 8408 images in 8446.98 secs\tspeed: 1.22524 file/sec"
            ]
          },
          "metadata": {
            "tags": []
          }
        },
        {
          "output_type": "display_data",
          "data": {
            "text/html": [
              "<pre>Read 8415 images in 8452.45 secs\tspeed: 1.28013 file/sec</pre>"
            ],
            "text/plain": [
              "Read 8415 images in 8452.45 secs\tspeed: 1.28013 file/sec"
            ]
          },
          "metadata": {
            "tags": []
          }
        },
        {
          "output_type": "display_data",
          "data": {
            "text/html": [
              "<pre>Read 8421 images in 8460.42 secs\tspeed: 0.752647 file/sec</pre>"
            ],
            "text/plain": [
              "Read 8421 images in 8460.42 secs\tspeed: 0.752647 file/sec"
            ]
          },
          "metadata": {
            "tags": []
          }
        },
        {
          "output_type": "display_data",
          "data": {
            "text/html": [
              "<pre>Read 8428 images in 8466 secs\tspeed: 1.25488 file/sec</pre>"
            ],
            "text/plain": [
              "Read 8428 images in 8466 secs\tspeed: 1.25488 file/sec"
            ]
          },
          "metadata": {
            "tags": []
          }
        },
        {
          "output_type": "display_data",
          "data": {
            "text/html": [
              "<pre>Read 8435 images in 8471.63 secs\tspeed: 1.24189 file/sec</pre>"
            ],
            "text/plain": [
              "Read 8435 images in 8471.63 secs\tspeed: 1.24189 file/sec"
            ]
          },
          "metadata": {
            "tags": []
          }
        },
        {
          "output_type": "display_data",
          "data": {
            "text/html": [
              "<pre>Read 8441 images in 8476.91 secs\tspeed: 1.13736 file/sec</pre>"
            ],
            "text/plain": [
              "Read 8441 images in 8476.91 secs\tspeed: 1.13736 file/sec"
            ]
          },
          "metadata": {
            "tags": []
          }
        },
        {
          "output_type": "display_data",
          "data": {
            "text/html": [
              "<pre>Read 8446 images in 8482.3 secs\tspeed: 0.926909 file/sec</pre>"
            ],
            "text/plain": [
              "Read 8446 images in 8482.3 secs\tspeed: 0.926909 file/sec"
            ]
          },
          "metadata": {
            "tags": []
          }
        },
        {
          "output_type": "display_data",
          "data": {
            "text/html": [
              "<pre>Read 8450 images in 8488.21 secs\tspeed: 0.676758 file/sec</pre>"
            ],
            "text/plain": [
              "Read 8450 images in 8488.21 secs\tspeed: 0.676758 file/sec"
            ]
          },
          "metadata": {
            "tags": []
          }
        },
        {
          "output_type": "display_data",
          "data": {
            "text/html": [
              "<pre>Read 8456 images in 8493.46 secs\tspeed: 1.14441 file/sec</pre>"
            ],
            "text/plain": [
              "Read 8456 images in 8493.46 secs\tspeed: 1.14441 file/sec"
            ]
          },
          "metadata": {
            "tags": []
          }
        },
        {
          "output_type": "display_data",
          "data": {
            "text/html": [
              "<pre>Read 8462 images in 8498.95 secs\tspeed: 1.09273 file/sec</pre>"
            ],
            "text/plain": [
              "Read 8462 images in 8498.95 secs\tspeed: 1.09273 file/sec"
            ]
          },
          "metadata": {
            "tags": []
          }
        },
        {
          "output_type": "display_data",
          "data": {
            "text/html": [
              "<pre>Read 8468 images in 8504.59 secs\tspeed: 1.06303 file/sec</pre>"
            ],
            "text/plain": [
              "Read 8468 images in 8504.59 secs\tspeed: 1.06303 file/sec"
            ]
          },
          "metadata": {
            "tags": []
          }
        },
        {
          "output_type": "display_data",
          "data": {
            "text/html": [
              "<pre>Read 8471 images in 8510.65 secs\tspeed: 0.495053 file/sec</pre>"
            ],
            "text/plain": [
              "Read 8471 images in 8510.65 secs\tspeed: 0.495053 file/sec"
            ]
          },
          "metadata": {
            "tags": []
          }
        },
        {
          "output_type": "display_data",
          "data": {
            "text/html": [
              "<pre>Read 8476 images in 8516.76 secs\tspeed: 0.818967 file/sec</pre>"
            ],
            "text/plain": [
              "Read 8476 images in 8516.76 secs\tspeed: 0.818967 file/sec"
            ]
          },
          "metadata": {
            "tags": []
          }
        },
        {
          "output_type": "display_data",
          "data": {
            "text/html": [
              "<pre>Read 8483 images in 8522.37 secs\tspeed: 1.24745 file/sec</pre>"
            ],
            "text/plain": [
              "Read 8483 images in 8522.37 secs\tspeed: 1.24745 file/sec"
            ]
          },
          "metadata": {
            "tags": []
          }
        },
        {
          "output_type": "display_data",
          "data": {
            "text/html": [
              "<pre>Read 8490 images in 8528.01 secs\tspeed: 1.24159 file/sec</pre>"
            ],
            "text/plain": [
              "Read 8490 images in 8528.01 secs\tspeed: 1.24159 file/sec"
            ]
          },
          "metadata": {
            "tags": []
          }
        },
        {
          "output_type": "display_data",
          "data": {
            "text/html": [
              "<pre>Read 8496 images in 8533.7 secs\tspeed: 1.05378 file/sec</pre>"
            ],
            "text/plain": [
              "Read 8496 images in 8533.7 secs\tspeed: 1.05378 file/sec"
            ]
          },
          "metadata": {
            "tags": []
          }
        },
        {
          "output_type": "display_data",
          "data": {
            "text/html": [
              "<pre>Read 8498 images in 8540.05 secs\tspeed: 0.314968 file/sec</pre>"
            ],
            "text/plain": [
              "Read 8498 images in 8540.05 secs\tspeed: 0.314968 file/sec"
            ]
          },
          "metadata": {
            "tags": []
          }
        },
        {
          "output_type": "display_data",
          "data": {
            "text/html": [
              "<pre>Read 8504 images in 8545.3 secs\tspeed: 1.14341 file/sec</pre>"
            ],
            "text/plain": [
              "Read 8504 images in 8545.3 secs\tspeed: 1.14341 file/sec"
            ]
          },
          "metadata": {
            "tags": []
          }
        },
        {
          "output_type": "display_data",
          "data": {
            "text/html": [
              "<pre>Read 8510 images in 8551.08 secs\tspeed: 1.03812 file/sec</pre>"
            ],
            "text/plain": [
              "Read 8510 images in 8551.08 secs\tspeed: 1.03812 file/sec"
            ]
          },
          "metadata": {
            "tags": []
          }
        },
        {
          "output_type": "display_data",
          "data": {
            "text/html": [
              "<pre>Read 8517 images in 8556.73 secs\tspeed: 1.23864 file/sec</pre>"
            ],
            "text/plain": [
              "Read 8517 images in 8556.73 secs\tspeed: 1.23864 file/sec"
            ]
          },
          "metadata": {
            "tags": []
          }
        },
        {
          "output_type": "display_data",
          "data": {
            "text/html": [
              "<pre>Read 8524 images in 8562.4 secs\tspeed: 1.23471 file/sec</pre>"
            ],
            "text/plain": [
              "Read 8524 images in 8562.4 secs\tspeed: 1.23471 file/sec"
            ]
          },
          "metadata": {
            "tags": []
          }
        },
        {
          "output_type": "display_data",
          "data": {
            "text/html": [
              "<pre>Read 8529 images in 8567.42 secs\tspeed: 0.996276 file/sec</pre>"
            ],
            "text/plain": [
              "Read 8529 images in 8567.42 secs\tspeed: 0.996276 file/sec"
            ]
          },
          "metadata": {
            "tags": []
          }
        },
        {
          "output_type": "display_data",
          "data": {
            "text/html": [
              "<pre>Read 8535 images in 8573.07 secs\tspeed: 1.06041 file/sec</pre>"
            ],
            "text/plain": [
              "Read 8535 images in 8573.07 secs\tspeed: 1.06041 file/sec"
            ]
          },
          "metadata": {
            "tags": []
          }
        },
        {
          "output_type": "display_data",
          "data": {
            "text/html": [
              "<pre>Read 8542 images in 8578.59 secs\tspeed: 1.26921 file/sec</pre>"
            ],
            "text/plain": [
              "Read 8542 images in 8578.59 secs\tspeed: 1.26921 file/sec"
            ]
          },
          "metadata": {
            "tags": []
          }
        },
        {
          "output_type": "display_data",
          "data": {
            "text/html": [
              "<pre>Read 8549 images in 8584.46 secs\tspeed: 1.19182 file/sec</pre>"
            ],
            "text/plain": [
              "Read 8549 images in 8584.46 secs\tspeed: 1.19182 file/sec"
            ]
          },
          "metadata": {
            "tags": []
          }
        },
        {
          "output_type": "display_data",
          "data": {
            "text/html": [
              "<pre>Read 8555 images in 8589.95 secs\tspeed: 1.0943 file/sec</pre>"
            ],
            "text/plain": [
              "Read 8555 images in 8589.95 secs\tspeed: 1.0943 file/sec"
            ]
          },
          "metadata": {
            "tags": []
          }
        },
        {
          "output_type": "display_data",
          "data": {
            "text/html": [
              "<pre>Read 8562 images in 8595.5 secs\tspeed: 1.26051 file/sec</pre>"
            ],
            "text/plain": [
              "Read 8562 images in 8595.5 secs\tspeed: 1.26051 file/sec"
            ]
          },
          "metadata": {
            "tags": []
          }
        },
        {
          "output_type": "display_data",
          "data": {
            "text/html": [
              "<pre>Read 8569 images in 8600.94 secs\tspeed: 1.28726 file/sec</pre>"
            ],
            "text/plain": [
              "Read 8569 images in 8600.94 secs\tspeed: 1.28726 file/sec"
            ]
          },
          "metadata": {
            "tags": []
          }
        },
        {
          "output_type": "display_data",
          "data": {
            "text/html": [
              "<pre>Read 8575 images in 8606.53 secs\tspeed: 1.07345 file/sec</pre>"
            ],
            "text/plain": [
              "Read 8575 images in 8606.53 secs\tspeed: 1.07345 file/sec"
            ]
          },
          "metadata": {
            "tags": []
          }
        },
        {
          "output_type": "display_data",
          "data": {
            "text/html": [
              "<pre>Read 8580 images in 8612.03 secs\tspeed: 0.908133 file/sec</pre>"
            ],
            "text/plain": [
              "Read 8580 images in 8612.03 secs\tspeed: 0.908133 file/sec"
            ]
          },
          "metadata": {
            "tags": []
          }
        },
        {
          "output_type": "display_data",
          "data": {
            "text/html": [
              "<pre>Read 8587 images in 8617.46 secs\tspeed: 1.29024 file/sec</pre>"
            ],
            "text/plain": [
              "Read 8587 images in 8617.46 secs\tspeed: 1.29024 file/sec"
            ]
          },
          "metadata": {
            "tags": []
          }
        },
        {
          "output_type": "display_data",
          "data": {
            "text/html": [
              "<pre>Read 8594 images in 8622.94 secs\tspeed: 1.2768 file/sec</pre>"
            ],
            "text/plain": [
              "Read 8594 images in 8622.94 secs\tspeed: 1.2768 file/sec"
            ]
          },
          "metadata": {
            "tags": []
          }
        },
        {
          "output_type": "display_data",
          "data": {
            "text/html": [
              "<pre>Read 8600 images in 8628.23 secs\tspeed: 1.134 file/sec</pre>"
            ],
            "text/plain": [
              "Read 8600 images in 8628.23 secs\tspeed: 1.134 file/sec"
            ]
          },
          "metadata": {
            "tags": []
          }
        },
        {
          "output_type": "display_data",
          "data": {
            "text/html": [
              "<pre>Read 8606 images in 8633.32 secs\tspeed: 1.17935 file/sec</pre>"
            ],
            "text/plain": [
              "Read 8606 images in 8633.32 secs\tspeed: 1.17935 file/sec"
            ]
          },
          "metadata": {
            "tags": []
          }
        },
        {
          "output_type": "display_data",
          "data": {
            "text/html": [
              "<pre>Read 8612 images in 8639.02 secs\tspeed: 1.05276 file/sec</pre>"
            ],
            "text/plain": [
              "Read 8612 images in 8639.02 secs\tspeed: 1.05276 file/sec"
            ]
          },
          "metadata": {
            "tags": []
          }
        },
        {
          "output_type": "display_data",
          "data": {
            "text/html": [
              "<pre>Read 8619 images in 8644.73 secs\tspeed: 1.22575 file/sec</pre>"
            ],
            "text/plain": [
              "Read 8619 images in 8644.73 secs\tspeed: 1.22575 file/sec"
            ]
          },
          "metadata": {
            "tags": []
          }
        },
        {
          "output_type": "display_data",
          "data": {
            "text/html": [
              "<pre>Read 8625 images in 8649.84 secs\tspeed: 1.17355 file/sec</pre>"
            ],
            "text/plain": [
              "Read 8625 images in 8649.84 secs\tspeed: 1.17355 file/sec"
            ]
          },
          "metadata": {
            "tags": []
          }
        },
        {
          "output_type": "display_data",
          "data": {
            "text/html": [
              "<pre>Read 8631 images in 8655.28 secs\tspeed: 1.10245 file/sec</pre>"
            ],
            "text/plain": [
              "Read 8631 images in 8655.28 secs\tspeed: 1.10245 file/sec"
            ]
          },
          "metadata": {
            "tags": []
          }
        },
        {
          "output_type": "display_data",
          "data": {
            "text/html": [
              "<pre>Read 8638 images in 8661.1 secs\tspeed: 1.20339 file/sec</pre>"
            ],
            "text/plain": [
              "Read 8638 images in 8661.1 secs\tspeed: 1.20339 file/sec"
            ]
          },
          "metadata": {
            "tags": []
          }
        },
        {
          "output_type": "display_data",
          "data": {
            "text/html": [
              "<pre>Read 8642 images in 8666.38 secs\tspeed: 0.757643 file/sec</pre>"
            ],
            "text/plain": [
              "Read 8642 images in 8666.38 secs\tspeed: 0.757643 file/sec"
            ]
          },
          "metadata": {
            "tags": []
          }
        },
        {
          "output_type": "display_data",
          "data": {
            "text/html": [
              "<pre>Read 8648 images in 8671.42 secs\tspeed: 1.19146 file/sec</pre>"
            ],
            "text/plain": [
              "Read 8648 images in 8671.42 secs\tspeed: 1.19146 file/sec"
            ]
          },
          "metadata": {
            "tags": []
          }
        },
        {
          "output_type": "display_data",
          "data": {
            "text/html": [
              "<pre>Read 8654 images in 8677.73 secs\tspeed: 0.949859 file/sec</pre>"
            ],
            "text/plain": [
              "Read 8654 images in 8677.73 secs\tspeed: 0.949859 file/sec"
            ]
          },
          "metadata": {
            "tags": []
          }
        },
        {
          "output_type": "display_data",
          "data": {
            "text/html": [
              "<pre>Read 8659 images in 8682.89 secs\tspeed: 0.968955 file/sec</pre>"
            ],
            "text/plain": [
              "Read 8659 images in 8682.89 secs\tspeed: 0.968955 file/sec"
            ]
          },
          "metadata": {
            "tags": []
          }
        },
        {
          "output_type": "display_data",
          "data": {
            "text/html": [
              "<pre>Read 8665 images in 8687.96 secs\tspeed: 1.1833 file/sec</pre>"
            ],
            "text/plain": [
              "Read 8665 images in 8687.96 secs\tspeed: 1.1833 file/sec"
            ]
          },
          "metadata": {
            "tags": []
          }
        },
        {
          "output_type": "display_data",
          "data": {
            "text/html": [
              "<pre>Read 8667 images in 8703.97 secs\tspeed: 0.124973 file/sec</pre>"
            ],
            "text/plain": [
              "Read 8667 images in 8703.97 secs\tspeed: 0.124973 file/sec"
            ]
          },
          "metadata": {
            "tags": []
          }
        },
        {
          "output_type": "display_data",
          "data": {
            "text/html": [
              "<pre>Read 8674 images in 8712.03 secs\tspeed: 0.868453 file/sec</pre>"
            ],
            "text/plain": [
              "Read 8674 images in 8712.03 secs\tspeed: 0.868453 file/sec"
            ]
          },
          "metadata": {
            "tags": []
          }
        },
        {
          "output_type": "display_data",
          "data": {
            "text/html": [
              "<pre>Read 8679 images in 8717.35 secs\tspeed: 0.939813 file/sec</pre>"
            ],
            "text/plain": [
              "Read 8679 images in 8717.35 secs\tspeed: 0.939813 file/sec"
            ]
          },
          "metadata": {
            "tags": []
          }
        },
        {
          "output_type": "display_data",
          "data": {
            "text/html": [
              "<pre>Read 8686 images in 8722.88 secs\tspeed: 1.26506 file/sec</pre>"
            ],
            "text/plain": [
              "Read 8686 images in 8722.88 secs\tspeed: 1.26506 file/sec"
            ]
          },
          "metadata": {
            "tags": []
          }
        },
        {
          "output_type": "display_data",
          "data": {
            "text/html": [
              "<pre>Read 8692 images in 8728.52 secs\tspeed: 1.06359 file/sec</pre>"
            ],
            "text/plain": [
              "Read 8692 images in 8728.52 secs\tspeed: 1.06359 file/sec"
            ]
          },
          "metadata": {
            "tags": []
          }
        },
        {
          "output_type": "display_data",
          "data": {
            "text/html": [
              "<pre>Read 8699 images in 8734.36 secs\tspeed: 1.19875 file/sec</pre>"
            ],
            "text/plain": [
              "Read 8699 images in 8734.36 secs\tspeed: 1.19875 file/sec"
            ]
          },
          "metadata": {
            "tags": []
          }
        },
        {
          "output_type": "display_data",
          "data": {
            "text/html": [
              "<pre>Read 8706 images in 8740.01 secs\tspeed: 1.23933 file/sec</pre>"
            ],
            "text/plain": [
              "Read 8706 images in 8740.01 secs\tspeed: 1.23933 file/sec"
            ]
          },
          "metadata": {
            "tags": []
          }
        },
        {
          "output_type": "display_data",
          "data": {
            "text/html": [
              "<pre>Read 8712 images in 8745.22 secs\tspeed: 1.15064 file/sec</pre>"
            ],
            "text/plain": [
              "Read 8712 images in 8745.22 secs\tspeed: 1.15064 file/sec"
            ]
          },
          "metadata": {
            "tags": []
          }
        },
        {
          "output_type": "display_data",
          "data": {
            "text/html": [
              "<pre>Read 8717 images in 8750.27 secs\tspeed: 0.990759 file/sec</pre>"
            ],
            "text/plain": [
              "Read 8717 images in 8750.27 secs\tspeed: 0.990759 file/sec"
            ]
          },
          "metadata": {
            "tags": []
          }
        },
        {
          "output_type": "display_data",
          "data": {
            "text/html": [
              "<pre>Read 8722 images in 8755.49 secs\tspeed: 0.957438 file/sec</pre>"
            ],
            "text/plain": [
              "Read 8722 images in 8755.49 secs\tspeed: 0.957438 file/sec"
            ]
          },
          "metadata": {
            "tags": []
          }
        },
        {
          "output_type": "display_data",
          "data": {
            "text/html": [
              "<pre>Read 8728 images in 8760.75 secs\tspeed: 1.14098 file/sec</pre>"
            ],
            "text/plain": [
              "Read 8728 images in 8760.75 secs\tspeed: 1.14098 file/sec"
            ]
          },
          "metadata": {
            "tags": []
          }
        },
        {
          "output_type": "display_data",
          "data": {
            "text/html": [
              "<pre>Read 8734 images in 8766.43 secs\tspeed: 1.057 file/sec</pre>"
            ],
            "text/plain": [
              "Read 8734 images in 8766.43 secs\tspeed: 1.057 file/sec"
            ]
          },
          "metadata": {
            "tags": []
          }
        },
        {
          "output_type": "display_data",
          "data": {
            "text/html": [
              "<pre>Read 8738 images in 8771.54 secs\tspeed: 0.78267 file/sec</pre>"
            ],
            "text/plain": [
              "Read 8738 images in 8771.54 secs\tspeed: 0.78267 file/sec"
            ]
          },
          "metadata": {
            "tags": []
          }
        },
        {
          "output_type": "display_data",
          "data": {
            "text/html": [
              "<pre>Read 8744 images in 8777.23 secs\tspeed: 1.05435 file/sec</pre>"
            ],
            "text/plain": [
              "Read 8744 images in 8777.23 secs\tspeed: 1.05435 file/sec"
            ]
          },
          "metadata": {
            "tags": []
          }
        },
        {
          "output_type": "display_data",
          "data": {
            "text/html": [
              "<pre>Read 8751 images in 8782.71 secs\tspeed: 1.27793 file/sec</pre>"
            ],
            "text/plain": [
              "Read 8751 images in 8782.71 secs\tspeed: 1.27793 file/sec"
            ]
          },
          "metadata": {
            "tags": []
          }
        },
        {
          "output_type": "display_data",
          "data": {
            "text/html": [
              "<pre>Read 8758 images in 8788.13 secs\tspeed: 1.29124 file/sec</pre>"
            ],
            "text/plain": [
              "Read 8758 images in 8788.13 secs\tspeed: 1.29124 file/sec"
            ]
          },
          "metadata": {
            "tags": []
          }
        },
        {
          "output_type": "display_data",
          "data": {
            "text/html": [
              "<pre>Read 8765 images in 8793.54 secs\tspeed: 1.29282 file/sec</pre>"
            ],
            "text/plain": [
              "Read 8765 images in 8793.54 secs\tspeed: 1.29282 file/sec"
            ]
          },
          "metadata": {
            "tags": []
          }
        },
        {
          "output_type": "display_data",
          "data": {
            "text/html": [
              "<pre>Read 8769 images in 8799.24 secs\tspeed: 0.70216 file/sec</pre>"
            ],
            "text/plain": [
              "Read 8769 images in 8799.24 secs\tspeed: 0.70216 file/sec"
            ]
          },
          "metadata": {
            "tags": []
          }
        },
        {
          "output_type": "display_data",
          "data": {
            "text/html": [
              "<pre>Read 8775 images in 8804.64 secs\tspeed: 1.11191 file/sec</pre>"
            ],
            "text/plain": [
              "Read 8775 images in 8804.64 secs\tspeed: 1.11191 file/sec"
            ]
          },
          "metadata": {
            "tags": []
          }
        },
        {
          "output_type": "display_data",
          "data": {
            "text/html": [
              "<pre>Read 8782 images in 8810.11 secs\tspeed: 1.27909 file/sec</pre>"
            ],
            "text/plain": [
              "Read 8782 images in 8810.11 secs\tspeed: 1.27909 file/sec"
            ]
          },
          "metadata": {
            "tags": []
          }
        },
        {
          "output_type": "display_data",
          "data": {
            "text/html": [
              "<pre>Read 8788 images in 8815.52 secs\tspeed: 1.10907 file/sec</pre>"
            ],
            "text/plain": [
              "Read 8788 images in 8815.52 secs\tspeed: 1.10907 file/sec"
            ]
          },
          "metadata": {
            "tags": []
          }
        },
        {
          "output_type": "display_data",
          "data": {
            "text/html": [
              "<pre>Read 8794 images in 8820.59 secs\tspeed: 1.18389 file/sec</pre>"
            ],
            "text/plain": [
              "Read 8794 images in 8820.59 secs\tspeed: 1.18389 file/sec"
            ]
          },
          "metadata": {
            "tags": []
          }
        },
        {
          "output_type": "display_data",
          "data": {
            "text/html": [
              "<pre>Read 8798 images in 8828.04 secs\tspeed: 0.536727 file/sec</pre>"
            ],
            "text/plain": [
              "Read 8798 images in 8828.04 secs\tspeed: 0.536727 file/sec"
            ]
          },
          "metadata": {
            "tags": []
          }
        },
        {
          "output_type": "display_data",
          "data": {
            "text/html": [
              "<pre>Read 8804 images in 8834.04 secs\tspeed: 0.999135 file/sec</pre>"
            ],
            "text/plain": [
              "Read 8804 images in 8834.04 secs\tspeed: 0.999135 file/sec"
            ]
          },
          "metadata": {
            "tags": []
          }
        },
        {
          "output_type": "display_data",
          "data": {
            "text/html": [
              "<pre>Read 8809 images in 8839.78 secs\tspeed: 0.871558 file/sec</pre>"
            ],
            "text/plain": [
              "Read 8809 images in 8839.78 secs\tspeed: 0.871558 file/sec"
            ]
          },
          "metadata": {
            "tags": []
          }
        },
        {
          "output_type": "display_data",
          "data": {
            "text/html": [
              "<pre>Read 8815 images in 8846.23 secs\tspeed: 0.92988 file/sec</pre>"
            ],
            "text/plain": [
              "Read 8815 images in 8846.23 secs\tspeed: 0.92988 file/sec"
            ]
          },
          "metadata": {
            "tags": []
          }
        },
        {
          "output_type": "display_data",
          "data": {
            "text/html": [
              "<pre>Read 8818 images in 8851.47 secs\tspeed: 0.572546 file/sec</pre>"
            ],
            "text/plain": [
              "Read 8818 images in 8851.47 secs\tspeed: 0.572546 file/sec"
            ]
          },
          "metadata": {
            "tags": []
          }
        },
        {
          "output_type": "display_data",
          "data": {
            "text/html": [
              "<pre>Read 8824 images in 8858.06 secs\tspeed: 0.910584 file/sec</pre>"
            ],
            "text/plain": [
              "Read 8824 images in 8858.06 secs\tspeed: 0.910584 file/sec"
            ]
          },
          "metadata": {
            "tags": []
          }
        },
        {
          "output_type": "display_data",
          "data": {
            "text/html": [
              "<pre>Read 8831 images in 8863.61 secs\tspeed: 1.26103 file/sec</pre>"
            ],
            "text/plain": [
              "Read 8831 images in 8863.61 secs\tspeed: 1.26103 file/sec"
            ]
          },
          "metadata": {
            "tags": []
          }
        },
        {
          "output_type": "display_data",
          "data": {
            "text/html": [
              "<pre>Read 8837 images in 8868.69 secs\tspeed: 1.1828 file/sec</pre>"
            ],
            "text/plain": [
              "Read 8837 images in 8868.69 secs\tspeed: 1.1828 file/sec"
            ]
          },
          "metadata": {
            "tags": []
          }
        },
        {
          "output_type": "display_data",
          "data": {
            "text/html": [
              "<pre>Read 8843 images in 8874.24 secs\tspeed: 1.08036 file/sec</pre>"
            ],
            "text/plain": [
              "Read 8843 images in 8874.24 secs\tspeed: 1.08036 file/sec"
            ]
          },
          "metadata": {
            "tags": []
          }
        },
        {
          "output_type": "display_data",
          "data": {
            "text/html": [
              "<pre>Read 8848 images in 8882.07 secs\tspeed: 0.638907 file/sec</pre>"
            ],
            "text/plain": [
              "Read 8848 images in 8882.07 secs\tspeed: 0.638907 file/sec"
            ]
          },
          "metadata": {
            "tags": []
          }
        },
        {
          "output_type": "display_data",
          "data": {
            "text/html": [
              "<pre>Read 8855 images in 8887.73 secs\tspeed: 1.23589 file/sec</pre>"
            ],
            "text/plain": [
              "Read 8855 images in 8887.73 secs\tspeed: 1.23589 file/sec"
            ]
          },
          "metadata": {
            "tags": []
          }
        },
        {
          "output_type": "display_data",
          "data": {
            "text/html": [
              "<pre>Read 8862 images in 8893.17 secs\tspeed: 1.28742 file/sec</pre>"
            ],
            "text/plain": [
              "Read 8862 images in 8893.17 secs\tspeed: 1.28742 file/sec"
            ]
          },
          "metadata": {
            "tags": []
          }
        },
        {
          "output_type": "display_data",
          "data": {
            "text/html": [
              "<pre>Read 8869 images in 8898.44 secs\tspeed: 1.32685 file/sec</pre>"
            ],
            "text/plain": [
              "Read 8869 images in 8898.44 secs\tspeed: 1.32685 file/sec"
            ]
          },
          "metadata": {
            "tags": []
          }
        },
        {
          "output_type": "display_data",
          "data": {
            "text/html": [
              "<pre>Read 8874 images in 8903.77 secs\tspeed: 0.938922 file/sec</pre>"
            ],
            "text/plain": [
              "Read 8874 images in 8903.77 secs\tspeed: 0.938922 file/sec"
            ]
          },
          "metadata": {
            "tags": []
          }
        },
        {
          "output_type": "display_data",
          "data": {
            "text/html": [
              "<pre>Read 8881 images in 8909.43 secs\tspeed: 1.23545 file/sec</pre>"
            ],
            "text/plain": [
              "Read 8881 images in 8909.43 secs\tspeed: 1.23545 file/sec"
            ]
          },
          "metadata": {
            "tags": []
          }
        },
        {
          "output_type": "display_data",
          "data": {
            "text/html": [
              "<pre>Read 8887 images in 8914.84 secs\tspeed: 1.1096 file/sec</pre>"
            ],
            "text/plain": [
              "Read 8887 images in 8914.84 secs\tspeed: 1.1096 file/sec"
            ]
          },
          "metadata": {
            "tags": []
          }
        },
        {
          "output_type": "display_data",
          "data": {
            "text/html": [
              "<pre>Read 8894 images in 8920.72 secs\tspeed: 1.19085 file/sec</pre>"
            ],
            "text/plain": [
              "Read 8894 images in 8920.72 secs\tspeed: 1.19085 file/sec"
            ]
          },
          "metadata": {
            "tags": []
          }
        },
        {
          "output_type": "display_data",
          "data": {
            "text/html": [
              "<pre>Read 8900 images in 8925.75 secs\tspeed: 1.1925 file/sec</pre>"
            ],
            "text/plain": [
              "Read 8900 images in 8925.75 secs\tspeed: 1.1925 file/sec"
            ]
          },
          "metadata": {
            "tags": []
          }
        },
        {
          "output_type": "display_data",
          "data": {
            "text/html": [
              "<pre>Read 8906 images in 8931.11 secs\tspeed: 1.11933 file/sec</pre>"
            ],
            "text/plain": [
              "Read 8906 images in 8931.11 secs\tspeed: 1.11933 file/sec"
            ]
          },
          "metadata": {
            "tags": []
          }
        },
        {
          "output_type": "display_data",
          "data": {
            "text/html": [
              "<pre>Read 8908 images in 8939.18 secs\tspeed: 0.247942 file/sec</pre>"
            ],
            "text/plain": [
              "Read 8908 images in 8939.18 secs\tspeed: 0.247942 file/sec"
            ]
          },
          "metadata": {
            "tags": []
          }
        },
        {
          "output_type": "display_data",
          "data": {
            "text/html": [
              "<pre>Read 8914 images in 8944.71 secs\tspeed: 1.08401 file/sec</pre>"
            ],
            "text/plain": [
              "Read 8914 images in 8944.71 secs\tspeed: 1.08401 file/sec"
            ]
          },
          "metadata": {
            "tags": []
          }
        },
        {
          "output_type": "display_data",
          "data": {
            "text/html": [
              "<pre>Read 8920 images in 8949.95 secs\tspeed: 1.14505 file/sec</pre>"
            ],
            "text/plain": [
              "Read 8920 images in 8949.95 secs\tspeed: 1.14505 file/sec"
            ]
          },
          "metadata": {
            "tags": []
          }
        },
        {
          "output_type": "display_data",
          "data": {
            "text/html": [
              "<pre>Read 8926 images in 8955.13 secs\tspeed: 1.15837 file/sec</pre>"
            ],
            "text/plain": [
              "Read 8926 images in 8955.13 secs\tspeed: 1.15837 file/sec"
            ]
          },
          "metadata": {
            "tags": []
          }
        },
        {
          "output_type": "display_data",
          "data": {
            "text/html": [
              "<pre>Read 8931 images in 8960.26 secs\tspeed: 0.97553 file/sec</pre>"
            ],
            "text/plain": [
              "Read 8931 images in 8960.26 secs\tspeed: 0.97553 file/sec"
            ]
          },
          "metadata": {
            "tags": []
          }
        },
        {
          "output_type": "display_data",
          "data": {
            "text/html": [
              "<pre>Read 8938 images in 8965.78 secs\tspeed: 1.26646 file/sec</pre>"
            ],
            "text/plain": [
              "Read 8938 images in 8965.78 secs\tspeed: 1.26646 file/sec"
            ]
          },
          "metadata": {
            "tags": []
          }
        },
        {
          "output_type": "display_data",
          "data": {
            "text/html": [
              "<pre>Read 8945 images in 8971.29 secs\tspeed: 1.27183 file/sec</pre>"
            ],
            "text/plain": [
              "Read 8945 images in 8971.29 secs\tspeed: 1.27183 file/sec"
            ]
          },
          "metadata": {
            "tags": []
          }
        },
        {
          "output_type": "display_data",
          "data": {
            "text/html": [
              "<pre>Read 8952 images in 8976.84 secs\tspeed: 1.26022 file/sec</pre>"
            ],
            "text/plain": [
              "Read 8952 images in 8976.84 secs\tspeed: 1.26022 file/sec"
            ]
          },
          "metadata": {
            "tags": []
          }
        },
        {
          "output_type": "display_data",
          "data": {
            "text/html": [
              "<pre>Read 8959 images in 8982.33 secs\tspeed: 1.27566 file/sec</pre>"
            ],
            "text/plain": [
              "Read 8959 images in 8982.33 secs\tspeed: 1.27566 file/sec"
            ]
          },
          "metadata": {
            "tags": []
          }
        },
        {
          "output_type": "display_data",
          "data": {
            "text/html": [
              "<pre>Read 8965 images in 8988.21 secs\tspeed: 1.01995 file/sec</pre>"
            ],
            "text/plain": [
              "Read 8965 images in 8988.21 secs\tspeed: 1.01995 file/sec"
            ]
          },
          "metadata": {
            "tags": []
          }
        },
        {
          "output_type": "display_data",
          "data": {
            "text/html": [
              "<pre>Read 8971 images in 8993.59 secs\tspeed: 1.11629 file/sec</pre>"
            ],
            "text/plain": [
              "Read 8971 images in 8993.59 secs\tspeed: 1.11629 file/sec"
            ]
          },
          "metadata": {
            "tags": []
          }
        },
        {
          "output_type": "display_data",
          "data": {
            "text/html": [
              "<pre>Read 8977 images in 8999.95 secs\tspeed: 0.943075 file/sec</pre>"
            ],
            "text/plain": [
              "Read 8977 images in 8999.95 secs\tspeed: 0.943075 file/sec"
            ]
          },
          "metadata": {
            "tags": []
          }
        },
        {
          "output_type": "display_data",
          "data": {
            "text/html": [
              "<pre>Read 8983 images in 9005.52 secs\tspeed: 1.07677 file/sec</pre>"
            ],
            "text/plain": [
              "Read 8983 images in 9005.52 secs\tspeed: 1.07677 file/sec"
            ]
          },
          "metadata": {
            "tags": []
          }
        },
        {
          "output_type": "display_data",
          "data": {
            "text/html": [
              "<pre>Read 8990 images in 9011.06 secs\tspeed: 1.26521 file/sec</pre>"
            ],
            "text/plain": [
              "Read 8990 images in 9011.06 secs\tspeed: 1.26521 file/sec"
            ]
          },
          "metadata": {
            "tags": []
          }
        },
        {
          "output_type": "display_data",
          "data": {
            "text/html": [
              "<pre>Read 8996 images in 9016.84 secs\tspeed: 1.03648 file/sec</pre>"
            ],
            "text/plain": [
              "Read 8996 images in 9016.84 secs\tspeed: 1.03648 file/sec"
            ]
          },
          "metadata": {
            "tags": []
          }
        },
        {
          "output_type": "display_data",
          "data": {
            "text/html": [
              "<pre>Read 9003 images in 9022.54 secs\tspeed: 1.22846 file/sec</pre>"
            ],
            "text/plain": [
              "Read 9003 images in 9022.54 secs\tspeed: 1.22846 file/sec"
            ]
          },
          "metadata": {
            "tags": []
          }
        },
        {
          "output_type": "display_data",
          "data": {
            "text/html": [
              "<pre>Read 9009 images in 9027.6 secs\tspeed: 1.18749 file/sec</pre>"
            ],
            "text/plain": [
              "Read 9009 images in 9027.6 secs\tspeed: 1.18749 file/sec"
            ]
          },
          "metadata": {
            "tags": []
          }
        },
        {
          "output_type": "display_data",
          "data": {
            "text/html": [
              "<pre>Read 9016 images in 9033.15 secs\tspeed: 1.25936 file/sec</pre>"
            ],
            "text/plain": [
              "Read 9016 images in 9033.15 secs\tspeed: 1.25936 file/sec"
            ]
          },
          "metadata": {
            "tags": []
          }
        },
        {
          "output_type": "display_data",
          "data": {
            "text/html": [
              "<pre>Read 9023 images in 9038.7 secs\tspeed: 1.2618 file/sec</pre>"
            ],
            "text/plain": [
              "Read 9023 images in 9038.7 secs\tspeed: 1.2618 file/sec"
            ]
          },
          "metadata": {
            "tags": []
          }
        },
        {
          "output_type": "display_data",
          "data": {
            "text/html": [
              "<pre>Read 9030 images in 9044.32 secs\tspeed: 1.24505 file/sec</pre>"
            ],
            "text/plain": [
              "Read 9030 images in 9044.32 secs\tspeed: 1.24505 file/sec"
            ]
          },
          "metadata": {
            "tags": []
          }
        },
        {
          "output_type": "display_data",
          "data": {
            "text/html": [
              "<pre>Read 9036 images in 9060.72 secs\tspeed: 0.365859 file/sec</pre>"
            ],
            "text/plain": [
              "Read 9036 images in 9060.72 secs\tspeed: 0.365859 file/sec"
            ]
          },
          "metadata": {
            "tags": []
          }
        },
        {
          "output_type": "display_data",
          "data": {
            "text/html": [
              "<pre>Read 9043 images in 9066.22 secs\tspeed: 1.27233 file/sec</pre>"
            ],
            "text/plain": [
              "Read 9043 images in 9066.22 secs\tspeed: 1.27233 file/sec"
            ]
          },
          "metadata": {
            "tags": []
          }
        },
        {
          "output_type": "display_data",
          "data": {
            "text/html": [
              "<pre>Read 9049 images in 9071.51 secs\tspeed: 1.13424 file/sec</pre>"
            ],
            "text/plain": [
              "Read 9049 images in 9071.51 secs\tspeed: 1.13424 file/sec"
            ]
          },
          "metadata": {
            "tags": []
          }
        },
        {
          "output_type": "display_data",
          "data": {
            "text/html": [
              "<pre>Read 9055 images in 9078.64 secs\tspeed: 0.841988 file/sec</pre>"
            ],
            "text/plain": [
              "Read 9055 images in 9078.64 secs\tspeed: 0.841988 file/sec"
            ]
          },
          "metadata": {
            "tags": []
          }
        },
        {
          "output_type": "display_data",
          "data": {
            "text/html": [
              "<pre>Read 9061 images in 9083.89 secs\tspeed: 1.14401 file/sec</pre>"
            ],
            "text/plain": [
              "Read 9061 images in 9083.89 secs\tspeed: 1.14401 file/sec"
            ]
          },
          "metadata": {
            "tags": []
          }
        },
        {
          "output_type": "display_data",
          "data": {
            "text/html": [
              "<pre>Read 9067 images in 9089.26 secs\tspeed: 1.11658 file/sec</pre>"
            ],
            "text/plain": [
              "Read 9067 images in 9089.26 secs\tspeed: 1.11658 file/sec"
            ]
          },
          "metadata": {
            "tags": []
          }
        },
        {
          "output_type": "display_data",
          "data": {
            "text/html": [
              "<pre>Read 9072 images in 9094.52 secs\tspeed: 0.949759 file/sec</pre>"
            ],
            "text/plain": [
              "Read 9072 images in 9094.52 secs\tspeed: 0.949759 file/sec"
            ]
          },
          "metadata": {
            "tags": []
          }
        },
        {
          "output_type": "display_data",
          "data": {
            "text/html": [
              "<pre>Read 9077 images in 9100.66 secs\tspeed: 0.815388 file/sec</pre>"
            ],
            "text/plain": [
              "Read 9077 images in 9100.66 secs\tspeed: 0.815388 file/sec"
            ]
          },
          "metadata": {
            "tags": []
          }
        },
        {
          "output_type": "display_data",
          "data": {
            "text/html": [
              "<pre>Read 9082 images in 9106.07 secs\tspeed: 0.922885 file/sec</pre>"
            ],
            "text/plain": [
              "Read 9082 images in 9106.07 secs\tspeed: 0.922885 file/sec"
            ]
          },
          "metadata": {
            "tags": []
          }
        },
        {
          "output_type": "display_data",
          "data": {
            "text/html": [
              "<pre>Read 9087 images in 9111.52 secs\tspeed: 0.918743 file/sec</pre>"
            ],
            "text/plain": [
              "Read 9087 images in 9111.52 secs\tspeed: 0.918743 file/sec"
            ]
          },
          "metadata": {
            "tags": []
          }
        },
        {
          "output_type": "display_data",
          "data": {
            "text/html": [
              "<pre>Read 9094 images in 9116.98 secs\tspeed: 1.27987 file/sec</pre>"
            ],
            "text/plain": [
              "Read 9094 images in 9116.98 secs\tspeed: 1.27987 file/sec"
            ]
          },
          "metadata": {
            "tags": []
          }
        },
        {
          "output_type": "display_data",
          "data": {
            "text/html": [
              "<pre>Read 9100 images in 9121.99 secs\tspeed: 1.19936 file/sec</pre>"
            ],
            "text/plain": [
              "Read 9100 images in 9121.99 secs\tspeed: 1.19936 file/sec"
            ]
          },
          "metadata": {
            "tags": []
          }
        },
        {
          "output_type": "display_data",
          "data": {
            "text/html": [
              "<pre>Read 9107 images in 9127.54 secs\tspeed: 1.26096 file/sec</pre>"
            ],
            "text/plain": [
              "Read 9107 images in 9127.54 secs\tspeed: 1.26096 file/sec"
            ]
          },
          "metadata": {
            "tags": []
          }
        },
        {
          "output_type": "display_data",
          "data": {
            "text/html": [
              "<pre>Read 9114 images in 9133.37 secs\tspeed: 1.2004 file/sec</pre>"
            ],
            "text/plain": [
              "Read 9114 images in 9133.37 secs\tspeed: 1.2004 file/sec"
            ]
          },
          "metadata": {
            "tags": []
          }
        },
        {
          "output_type": "display_data",
          "data": {
            "text/html": [
              "<pre>Read 9117 images in 9138.69 secs\tspeed: 0.564134 file/sec</pre>"
            ],
            "text/plain": [
              "Read 9117 images in 9138.69 secs\tspeed: 0.564134 file/sec"
            ]
          },
          "metadata": {
            "tags": []
          }
        },
        {
          "output_type": "display_data",
          "data": {
            "text/html": [
              "<pre>Read 9122 images in 9166.47 secs\tspeed: 0.179963 file/sec</pre>"
            ],
            "text/plain": [
              "Read 9122 images in 9166.47 secs\tspeed: 0.179963 file/sec"
            ]
          },
          "metadata": {
            "tags": []
          }
        },
        {
          "output_type": "display_data",
          "data": {
            "text/html": [
              "<pre>Read 9128 images in 9171.47 secs\tspeed: 1.19994 file/sec</pre>"
            ],
            "text/plain": [
              "Read 9128 images in 9171.47 secs\tspeed: 1.19994 file/sec"
            ]
          },
          "metadata": {
            "tags": []
          }
        },
        {
          "output_type": "display_data",
          "data": {
            "text/html": [
              "<pre>Read 9130 images in 9196.38 secs\tspeed: 0.0803032 file/sec</pre>"
            ],
            "text/plain": [
              "Read 9130 images in 9196.38 secs\tspeed: 0.0803032 file/sec"
            ]
          },
          "metadata": {
            "tags": []
          }
        },
        {
          "output_type": "display_data",
          "data": {
            "text/html": [
              "<pre>Read 9135 images in 9201.46 secs\tspeed: 0.984391 file/sec</pre>"
            ],
            "text/plain": [
              "Read 9135 images in 9201.46 secs\tspeed: 0.984391 file/sec"
            ]
          },
          "metadata": {
            "tags": []
          }
        },
        {
          "output_type": "display_data",
          "data": {
            "text/html": [
              "<pre>Read 9141 images in 9207.01 secs\tspeed: 1.08122 file/sec</pre>"
            ],
            "text/plain": [
              "Read 9141 images in 9207.01 secs\tspeed: 1.08122 file/sec"
            ]
          },
          "metadata": {
            "tags": []
          }
        },
        {
          "output_type": "display_data",
          "data": {
            "text/html": [
              "<pre>Read 9147 images in 9212.65 secs\tspeed: 1.06273 file/sec</pre>"
            ],
            "text/plain": [
              "Read 9147 images in 9212.65 secs\tspeed: 1.06273 file/sec"
            ]
          },
          "metadata": {
            "tags": []
          }
        },
        {
          "output_type": "display_data",
          "data": {
            "text/html": [
              "<pre>Read 9153 images in 9217.68 secs\tspeed: 1.19424 file/sec</pre>"
            ],
            "text/plain": [
              "Read 9153 images in 9217.68 secs\tspeed: 1.19424 file/sec"
            ]
          },
          "metadata": {
            "tags": []
          }
        },
        {
          "output_type": "display_data",
          "data": {
            "text/html": [
              "<pre>Read 9159 images in 9222.88 secs\tspeed: 1.15264 file/sec</pre>"
            ],
            "text/plain": [
              "Read 9159 images in 9222.88 secs\tspeed: 1.15264 file/sec"
            ]
          },
          "metadata": {
            "tags": []
          }
        },
        {
          "output_type": "display_data",
          "data": {
            "text/html": [
              "<pre>Read 9164 images in 9228.59 secs\tspeed: 0.87552 file/sec</pre>"
            ],
            "text/plain": [
              "Read 9164 images in 9228.59 secs\tspeed: 0.87552 file/sec"
            ]
          },
          "metadata": {
            "tags": []
          }
        },
        {
          "output_type": "display_data",
          "data": {
            "text/html": [
              "<pre>Read 9170 images in 9235.49 secs\tspeed: 0.870092 file/sec</pre>"
            ],
            "text/plain": [
              "Read 9170 images in 9235.49 secs\tspeed: 0.870092 file/sec"
            ]
          },
          "metadata": {
            "tags": []
          }
        },
        {
          "output_type": "display_data",
          "data": {
            "text/html": [
              "<pre>Read 9177 images in 9240.95 secs\tspeed: 1.28047 file/sec</pre>"
            ],
            "text/plain": [
              "Read 9177 images in 9240.95 secs\tspeed: 1.28047 file/sec"
            ]
          },
          "metadata": {
            "tags": []
          }
        },
        {
          "output_type": "display_data",
          "data": {
            "text/html": [
              "<pre>Read 9181 images in 9246.66 secs\tspeed: 0.70107 file/sec</pre>"
            ],
            "text/plain": [
              "Read 9181 images in 9246.66 secs\tspeed: 0.70107 file/sec"
            ]
          },
          "metadata": {
            "tags": []
          }
        },
        {
          "output_type": "display_data",
          "data": {
            "text/html": [
              "<pre>Read 9186 images in 9252.52 secs\tspeed: 0.853838 file/sec</pre>"
            ],
            "text/plain": [
              "Read 9186 images in 9252.52 secs\tspeed: 0.853838 file/sec"
            ]
          },
          "metadata": {
            "tags": []
          }
        },
        {
          "output_type": "display_data",
          "data": {
            "text/html": [
              "<pre>Read 9192 images in 9258.43 secs\tspeed: 1.0144 file/sec</pre>"
            ],
            "text/plain": [
              "Read 9192 images in 9258.43 secs\tspeed: 1.0144 file/sec"
            ]
          },
          "metadata": {
            "tags": []
          }
        },
        {
          "output_type": "display_data",
          "data": {
            "text/html": [
              "<pre>Read 9198 images in 9264.79 secs\tspeed: 0.944081 file/sec</pre>"
            ],
            "text/plain": [
              "Read 9198 images in 9264.79 secs\tspeed: 0.944081 file/sec"
            ]
          },
          "metadata": {
            "tags": []
          }
        }
      ]
    },
    {
      "cell_type": "markdown",
      "metadata": {
        "id": "WFOqwh5yJL0Y",
        "colab_type": "text"
      },
      "source": [
        "## SFrame Manipulation\n",
        "Transform SFrame to join image SFrame to CSV"
      ]
    },
    {
      "cell_type": "code",
      "metadata": {
        "id": "o0NVD8FggCJf",
        "colab_type": "code",
        "outputId": "0891127a-3275-4b61-d4b7-8c7e56168389",
        "colab": {
          "base_uri": "https://localhost:8080/",
          "height": 279
        }
      },
      "source": [
        "# Split path to get filename\n",
        "info = sf_images['path'].apply(lambda path: os.path.basename(path).split('/')[:1])\n",
        "\n",
        "# Rename columns to 'name'\n",
        "info = info.unpack().rename({'X.0': 'name'})\n",
        "\n",
        "# Add to our main SFrame\n",
        "sf_images = sf_images.add_columns(info)\n",
        "\n",
        "# Original path no longer needed\n",
        "del sf_images['path']\n",
        "\n",
        "sf_images"
      ],
      "execution_count": 9,
      "outputs": [
        {
          "output_type": "execute_result",
          "data": {
            "text/html": [
              "<div style=\"max-height:1000px;max-width:1500px;overflow:auto;\"><table frame=\"box\" rules=\"cols\">\n",
              "    <tr>\n",
              "        <th style=\"padding-left: 1em; padding-right: 1em; text-align: center\">image</th>\n",
              "        <th style=\"padding-left: 1em; padding-right: 1em; text-align: center\">name</th>\n",
              "    </tr>\n",
              "    <tr>\n",
              "        <td style=\"padding-left: 1em; padding-right: 1em; text-align: center; vertical-align: top\">Height: 720 Width: 720</td>\n",
              "        <td style=\"padding-left: 1em; padding-right: 1em; text-align: center; vertical-align: top\">232416588.jpg</td>\n",
              "    </tr>\n",
              "    <tr>\n",
              "        <td style=\"padding-left: 1em; padding-right: 1em; text-align: center; vertical-align: top\">Height: 720 Width: 720</td>\n",
              "        <td style=\"padding-left: 1em; padding-right: 1em; text-align: center; vertical-align: top\">673916767.jpg</td>\n",
              "    </tr>\n",
              "    <tr>\n",
              "        <td style=\"padding-left: 1em; padding-right: 1em; text-align: center; vertical-align: top\">Height: 720 Width: 720</td>\n",
              "        <td style=\"padding-left: 1em; padding-right: 1em; text-align: center; vertical-align: top\">576948951.jpg</td>\n",
              "    </tr>\n",
              "    <tr>\n",
              "        <td style=\"padding-left: 1em; padding-right: 1em; text-align: center; vertical-align: top\">Height: 720 Width: 720</td>\n",
              "        <td style=\"padding-left: 1em; padding-right: 1em; text-align: center; vertical-align: top\">266277850.jpg</td>\n",
              "    </tr>\n",
              "    <tr>\n",
              "        <td style=\"padding-left: 1em; padding-right: 1em; text-align: center; vertical-align: top\">Height: 720 Width: 720</td>\n",
              "        <td style=\"padding-left: 1em; padding-right: 1em; text-align: center; vertical-align: top\">020525758.jpg</td>\n",
              "    </tr>\n",
              "    <tr>\n",
              "        <td style=\"padding-left: 1em; padding-right: 1em; text-align: center; vertical-align: top\">Height: 720 Width: 720</td>\n",
              "        <td style=\"padding-left: 1em; padding-right: 1em; text-align: center; vertical-align: top\">462193768.jpg</td>\n",
              "    </tr>\n",
              "    <tr>\n",
              "        <td style=\"padding-left: 1em; padding-right: 1em; text-align: center; vertical-align: top\">Height: 720 Width: 720</td>\n",
              "        <td style=\"padding-left: 1em; padding-right: 1em; text-align: center; vertical-align: top\">594121308.jpg</td>\n",
              "    </tr>\n",
              "    <tr>\n",
              "        <td style=\"padding-left: 1em; padding-right: 1em; text-align: center; vertical-align: top\">Height: 720 Width: 720</td>\n",
              "        <td style=\"padding-left: 1em; padding-right: 1em; text-align: center; vertical-align: top\">208175088.jpg</td>\n",
              "    </tr>\n",
              "    <tr>\n",
              "        <td style=\"padding-left: 1em; padding-right: 1em; text-align: center; vertical-align: top\">Height: 720 Width: 720</td>\n",
              "        <td style=\"padding-left: 1em; padding-right: 1em; text-align: center; vertical-align: top\">227039224.jpg</td>\n",
              "    </tr>\n",
              "    <tr>\n",
              "        <td style=\"padding-left: 1em; padding-right: 1em; text-align: center; vertical-align: top\">Height: 720 Width: 720</td>\n",
              "        <td style=\"padding-left: 1em; padding-right: 1em; text-align: center; vertical-align: top\">833251029.jpg</td>\n",
              "    </tr>\n",
              "</table>\n",
              "[9200 rows x 2 columns]<br/>Note: Only the head of the SFrame is printed.<br/>You can use print_rows(num_rows=m, num_columns=n) to print more rows and columns.\n",
              "</div>"
            ],
            "text/plain": [
              "Columns:\n",
              "\timage\tImage\n",
              "\tname\tstr\n",
              "\n",
              "Rows: 9200\n",
              "\n",
              "Data:\n",
              "+------------------------+---------------+\n",
              "|         image          |      name     |\n",
              "+------------------------+---------------+\n",
              "| Height: 720 Width: 720 | 232416588.jpg |\n",
              "| Height: 720 Width: 720 | 673916767.jpg |\n",
              "| Height: 720 Width: 720 | 576948951.jpg |\n",
              "| Height: 720 Width: 720 | 266277850.jpg |\n",
              "| Height: 720 Width: 720 | 020525758.jpg |\n",
              "| Height: 720 Width: 720 | 462193768.jpg |\n",
              "| Height: 720 Width: 720 | 594121308.jpg |\n",
              "| Height: 720 Width: 720 | 208175088.jpg |\n",
              "| Height: 720 Width: 720 | 227039224.jpg |\n",
              "| Height: 720 Width: 720 | 833251029.jpg |\n",
              "+------------------------+---------------+\n",
              "[9200 rows x 2 columns]\n",
              "Note: Only the head of the SFrame is printed.\n",
              "You can use print_rows(num_rows=m, num_columns=n) to print more rows and columns."
            ]
          },
          "metadata": {
            "tags": []
          },
          "execution_count": 9
        }
      ]
    },
    {
      "cell_type": "code",
      "metadata": {
        "id": "YNGh08192SW9",
        "colab_type": "code",
        "outputId": "6a563162-517b-461c-d4b4-285de0bd3c52",
        "colab": {
          "base_uri": "https://localhost:8080/",
          "height": 449
        }
      },
      "source": [
        "# Combine label and coordinates into a bounding box dictionary\n",
        "csv_sf = csv_sf.pack_columns(['label', 'coordinates'], new_column_name='bbox', dtype=dict)\n",
        "\n",
        "# Combine bounding boxes of the same 'name' into lists\n",
        "sf_annotations = csv_sf.groupby('name', \n",
        "    {'annotations': tc.aggregate.CONCAT('bbox')})\n",
        "sf_annotations"
      ],
      "execution_count": 10,
      "outputs": [
        {
          "output_type": "execute_result",
          "data": {
            "text/html": [
              "<div style=\"max-height:1000px;max-width:1500px;overflow:auto;\"><table frame=\"box\" rules=\"cols\">\n",
              "    <tr>\n",
              "        <th style=\"padding-left: 1em; padding-right: 1em; text-align: center\">name</th>\n",
              "        <th style=\"padding-left: 1em; padding-right: 1em; text-align: center\">annotations</th>\n",
              "    </tr>\n",
              "    <tr>\n",
              "        <td style=\"padding-left: 1em; padding-right: 1em; text-align: center; vertical-align: top\">764998605.jpg</td>\n",
              "        <td style=\"padding-left: 1em; padding-right: 1em; text-align: center; vertical-align: top\">[{&#x27;label&#x27;: &#x27;6c&#x27;,<br>&#x27;coordinates&#x27;: {&#x27;x&#x27;: ...</td>\n",
              "    </tr>\n",
              "    <tr>\n",
              "        <td style=\"padding-left: 1em; padding-right: 1em; text-align: center; vertical-align: top\">924090913.jpg</td>\n",
              "        <td style=\"padding-left: 1em; padding-right: 1em; text-align: center; vertical-align: top\">[{&#x27;label&#x27;: &#x27;7d&#x27;,<br>&#x27;coordinates&#x27;: {&#x27;x&#x27;: ...</td>\n",
              "    </tr>\n",
              "    <tr>\n",
              "        <td style=\"padding-left: 1em; padding-right: 1em; text-align: center; vertical-align: top\">542643312.jpg</td>\n",
              "        <td style=\"padding-left: 1em; padding-right: 1em; text-align: center; vertical-align: top\">[{&#x27;label&#x27;: &#x27;10c&#x27;,<br>&#x27;coordinates&#x27;: {&#x27;x&#x27;: ...</td>\n",
              "    </tr>\n",
              "    <tr>\n",
              "        <td style=\"padding-left: 1em; padding-right: 1em; text-align: center; vertical-align: top\">014614477.jpg</td>\n",
              "        <td style=\"padding-left: 1em; padding-right: 1em; text-align: center; vertical-align: top\">[{&#x27;label&#x27;: &#x27;5s&#x27;,<br>&#x27;coordinates&#x27;: {&#x27;x&#x27;: ...</td>\n",
              "    </tr>\n",
              "    <tr>\n",
              "        <td style=\"padding-left: 1em; padding-right: 1em; text-align: center; vertical-align: top\">765215291.jpg</td>\n",
              "        <td style=\"padding-left: 1em; padding-right: 1em; text-align: center; vertical-align: top\">[{&#x27;label&#x27;: &#x27;Kd&#x27;,<br>&#x27;coordinates&#x27;: {&#x27;x&#x27;: ...</td>\n",
              "    </tr>\n",
              "    <tr>\n",
              "        <td style=\"padding-left: 1em; padding-right: 1em; text-align: center; vertical-align: top\">611073900.jpg</td>\n",
              "        <td style=\"padding-left: 1em; padding-right: 1em; text-align: center; vertical-align: top\">[{&#x27;label&#x27;: &#x27;Jc&#x27;,<br>&#x27;coordinates&#x27;: {&#x27;x&#x27;: ...</td>\n",
              "    </tr>\n",
              "    <tr>\n",
              "        <td style=\"padding-left: 1em; padding-right: 1em; text-align: center; vertical-align: top\">031798526.jpg</td>\n",
              "        <td style=\"padding-left: 1em; padding-right: 1em; text-align: center; vertical-align: top\">[{&#x27;label&#x27;: &#x27;7d&#x27;,<br>&#x27;coordinates&#x27;: {&#x27;x&#x27;: ...</td>\n",
              "    </tr>\n",
              "    <tr>\n",
              "        <td style=\"padding-left: 1em; padding-right: 1em; text-align: center; vertical-align: top\">132050878.jpg</td>\n",
              "        <td style=\"padding-left: 1em; padding-right: 1em; text-align: center; vertical-align: top\">[{&#x27;label&#x27;: &#x27;10c&#x27;,<br>&#x27;coordinates&#x27;: {&#x27;x&#x27;: ...</td>\n",
              "    </tr>\n",
              "    <tr>\n",
              "        <td style=\"padding-left: 1em; padding-right: 1em; text-align: center; vertical-align: top\">500000102.jpg</td>\n",
              "        <td style=\"padding-left: 1em; padding-right: 1em; text-align: center; vertical-align: top\">[{&#x27;label&#x27;: &#x27;9s&#x27;,<br>&#x27;coordinates&#x27;: {&#x27;x&#x27;: ...</td>\n",
              "    </tr>\n",
              "    <tr>\n",
              "        <td style=\"padding-left: 1em; padding-right: 1em; text-align: center; vertical-align: top\">215858432.jpg</td>\n",
              "        <td style=\"padding-left: 1em; padding-right: 1em; text-align: center; vertical-align: top\">[{&#x27;label&#x27;: &#x27;8d&#x27;,<br>&#x27;coordinates&#x27;: {&#x27;x&#x27;: ...</td>\n",
              "    </tr>\n",
              "</table>\n",
              "[9200 rows x 2 columns]<br/>Note: Only the head of the SFrame is printed.<br/>You can use print_rows(num_rows=m, num_columns=n) to print more rows and columns.\n",
              "</div>"
            ],
            "text/plain": [
              "Columns:\n",
              "\tname\tstr\n",
              "\tannotations\tlist\n",
              "\n",
              "Rows: 9200\n",
              "\n",
              "Data:\n",
              "+---------------+-------------------------------+\n",
              "|      name     |          annotations          |\n",
              "+---------------+-------------------------------+\n",
              "| 764998605.jpg | [{'label': '6c', 'coordina... |\n",
              "| 924090913.jpg | [{'label': '7d', 'coordina... |\n",
              "| 542643312.jpg | [{'label': '10c', 'coordin... |\n",
              "| 014614477.jpg | [{'label': '5s', 'coordina... |\n",
              "| 765215291.jpg | [{'label': 'Kd', 'coordina... |\n",
              "| 611073900.jpg | [{'label': 'Jc', 'coordina... |\n",
              "| 031798526.jpg | [{'label': '7d', 'coordina... |\n",
              "| 132050878.jpg | [{'label': '10c', 'coordin... |\n",
              "| 500000102.jpg | [{'label': '9s', 'coordina... |\n",
              "| 215858432.jpg | [{'label': '8d', 'coordina... |\n",
              "+---------------+-------------------------------+\n",
              "[9200 rows x 2 columns]\n",
              "Note: Only the head of the SFrame is printed.\n",
              "You can use print_rows(num_rows=m, num_columns=n) to print more rows and columns."
            ]
          },
          "metadata": {
            "tags": []
          },
          "execution_count": 10
        }
      ]
    },
    {
      "cell_type": "code",
      "metadata": {
        "id": "sfIZyQK-1KXd",
        "colab_type": "code",
        "outputId": "273f6fd5-2ef2-42af-a24e-573d114375e1",
        "colab": {
          "base_uri": "https://localhost:8080/",
          "height": 449
        }
      },
      "source": [
        "# Join annotations with the images. Note, if some images do not have annotations,\n",
        "# we will still want to keep them in the dataset. This is why it is important to\n",
        "# a LEFT join.\n",
        "sf = sf_images.join(sf_annotations, on='name', how='left')\n",
        "sf"
      ],
      "execution_count": 11,
      "outputs": [
        {
          "output_type": "execute_result",
          "data": {
            "text/html": [
              "<div style=\"max-height:1000px;max-width:1500px;overflow:auto;\"><table frame=\"box\" rules=\"cols\">\n",
              "    <tr>\n",
              "        <th style=\"padding-left: 1em; padding-right: 1em; text-align: center\">image</th>\n",
              "        <th style=\"padding-left: 1em; padding-right: 1em; text-align: center\">name</th>\n",
              "        <th style=\"padding-left: 1em; padding-right: 1em; text-align: center\">annotations</th>\n",
              "    </tr>\n",
              "    <tr>\n",
              "        <td style=\"padding-left: 1em; padding-right: 1em; text-align: center; vertical-align: top\">Height: 720 Width: 720</td>\n",
              "        <td style=\"padding-left: 1em; padding-right: 1em; text-align: center; vertical-align: top\">764998605.jpg</td>\n",
              "        <td style=\"padding-left: 1em; padding-right: 1em; text-align: center; vertical-align: top\">[{&#x27;label&#x27;: &#x27;6c&#x27;,<br>&#x27;coordinates&#x27;: {&#x27;x&#x27;: ...</td>\n",
              "    </tr>\n",
              "    <tr>\n",
              "        <td style=\"padding-left: 1em; padding-right: 1em; text-align: center; vertical-align: top\">Height: 720 Width: 720</td>\n",
              "        <td style=\"padding-left: 1em; padding-right: 1em; text-align: center; vertical-align: top\">924090913.jpg</td>\n",
              "        <td style=\"padding-left: 1em; padding-right: 1em; text-align: center; vertical-align: top\">[{&#x27;label&#x27;: &#x27;7d&#x27;,<br>&#x27;coordinates&#x27;: {&#x27;x&#x27;: ...</td>\n",
              "    </tr>\n",
              "    <tr>\n",
              "        <td style=\"padding-left: 1em; padding-right: 1em; text-align: center; vertical-align: top\">Height: 720 Width: 720</td>\n",
              "        <td style=\"padding-left: 1em; padding-right: 1em; text-align: center; vertical-align: top\">542643312.jpg</td>\n",
              "        <td style=\"padding-left: 1em; padding-right: 1em; text-align: center; vertical-align: top\">[{&#x27;label&#x27;: &#x27;10c&#x27;,<br>&#x27;coordinates&#x27;: {&#x27;x&#x27;: ...</td>\n",
              "    </tr>\n",
              "    <tr>\n",
              "        <td style=\"padding-left: 1em; padding-right: 1em; text-align: center; vertical-align: top\">Height: 720 Width: 720</td>\n",
              "        <td style=\"padding-left: 1em; padding-right: 1em; text-align: center; vertical-align: top\">014614477.jpg</td>\n",
              "        <td style=\"padding-left: 1em; padding-right: 1em; text-align: center; vertical-align: top\">[{&#x27;label&#x27;: &#x27;5s&#x27;,<br>&#x27;coordinates&#x27;: {&#x27;x&#x27;: ...</td>\n",
              "    </tr>\n",
              "    <tr>\n",
              "        <td style=\"padding-left: 1em; padding-right: 1em; text-align: center; vertical-align: top\">Height: 720 Width: 720</td>\n",
              "        <td style=\"padding-left: 1em; padding-right: 1em; text-align: center; vertical-align: top\">765215291.jpg</td>\n",
              "        <td style=\"padding-left: 1em; padding-right: 1em; text-align: center; vertical-align: top\">[{&#x27;label&#x27;: &#x27;Kd&#x27;,<br>&#x27;coordinates&#x27;: {&#x27;x&#x27;: ...</td>\n",
              "    </tr>\n",
              "    <tr>\n",
              "        <td style=\"padding-left: 1em; padding-right: 1em; text-align: center; vertical-align: top\">Height: 720 Width: 720</td>\n",
              "        <td style=\"padding-left: 1em; padding-right: 1em; text-align: center; vertical-align: top\">611073900.jpg</td>\n",
              "        <td style=\"padding-left: 1em; padding-right: 1em; text-align: center; vertical-align: top\">[{&#x27;label&#x27;: &#x27;Jc&#x27;,<br>&#x27;coordinates&#x27;: {&#x27;x&#x27;: ...</td>\n",
              "    </tr>\n",
              "    <tr>\n",
              "        <td style=\"padding-left: 1em; padding-right: 1em; text-align: center; vertical-align: top\">Height: 720 Width: 720</td>\n",
              "        <td style=\"padding-left: 1em; padding-right: 1em; text-align: center; vertical-align: top\">031798526.jpg</td>\n",
              "        <td style=\"padding-left: 1em; padding-right: 1em; text-align: center; vertical-align: top\">[{&#x27;label&#x27;: &#x27;7d&#x27;,<br>&#x27;coordinates&#x27;: {&#x27;x&#x27;: ...</td>\n",
              "    </tr>\n",
              "    <tr>\n",
              "        <td style=\"padding-left: 1em; padding-right: 1em; text-align: center; vertical-align: top\">Height: 720 Width: 720</td>\n",
              "        <td style=\"padding-left: 1em; padding-right: 1em; text-align: center; vertical-align: top\">132050878.jpg</td>\n",
              "        <td style=\"padding-left: 1em; padding-right: 1em; text-align: center; vertical-align: top\">[{&#x27;label&#x27;: &#x27;10c&#x27;,<br>&#x27;coordinates&#x27;: {&#x27;x&#x27;: ...</td>\n",
              "    </tr>\n",
              "    <tr>\n",
              "        <td style=\"padding-left: 1em; padding-right: 1em; text-align: center; vertical-align: top\">Height: 720 Width: 720</td>\n",
              "        <td style=\"padding-left: 1em; padding-right: 1em; text-align: center; vertical-align: top\">500000102.jpg</td>\n",
              "        <td style=\"padding-left: 1em; padding-right: 1em; text-align: center; vertical-align: top\">[{&#x27;label&#x27;: &#x27;9s&#x27;,<br>&#x27;coordinates&#x27;: {&#x27;x&#x27;: ...</td>\n",
              "    </tr>\n",
              "    <tr>\n",
              "        <td style=\"padding-left: 1em; padding-right: 1em; text-align: center; vertical-align: top\">Height: 720 Width: 720</td>\n",
              "        <td style=\"padding-left: 1em; padding-right: 1em; text-align: center; vertical-align: top\">215858432.jpg</td>\n",
              "        <td style=\"padding-left: 1em; padding-right: 1em; text-align: center; vertical-align: top\">[{&#x27;label&#x27;: &#x27;8d&#x27;,<br>&#x27;coordinates&#x27;: {&#x27;x&#x27;: ...</td>\n",
              "    </tr>\n",
              "</table>\n",
              "[9200 rows x 3 columns]<br/>Note: Only the head of the SFrame is printed.<br/>You can use print_rows(num_rows=m, num_columns=n) to print more rows and columns.\n",
              "</div>"
            ],
            "text/plain": [
              "Columns:\n",
              "\timage\tImage\n",
              "\tname\tstr\n",
              "\tannotations\tlist\n",
              "\n",
              "Rows: 9200\n",
              "\n",
              "Data:\n",
              "+------------------------+---------------+-------------------------------+\n",
              "|         image          |      name     |          annotations          |\n",
              "+------------------------+---------------+-------------------------------+\n",
              "| Height: 720 Width: 720 | 764998605.jpg | [{'label': '6c', 'coordina... |\n",
              "| Height: 720 Width: 720 | 924090913.jpg | [{'label': '7d', 'coordina... |\n",
              "| Height: 720 Width: 720 | 542643312.jpg | [{'label': '10c', 'coordin... |\n",
              "| Height: 720 Width: 720 | 014614477.jpg | [{'label': '5s', 'coordina... |\n",
              "| Height: 720 Width: 720 | 765215291.jpg | [{'label': 'Kd', 'coordina... |\n",
              "| Height: 720 Width: 720 | 611073900.jpg | [{'label': 'Jc', 'coordina... |\n",
              "| Height: 720 Width: 720 | 031798526.jpg | [{'label': '7d', 'coordina... |\n",
              "| Height: 720 Width: 720 | 132050878.jpg | [{'label': '10c', 'coordin... |\n",
              "| Height: 720 Width: 720 | 500000102.jpg | [{'label': '9s', 'coordina... |\n",
              "| Height: 720 Width: 720 | 215858432.jpg | [{'label': '8d', 'coordina... |\n",
              "+------------------------+---------------+-------------------------------+\n",
              "[9200 rows x 3 columns]\n",
              "Note: Only the head of the SFrame is printed.\n",
              "You can use print_rows(num_rows=m, num_columns=n) to print more rows and columns."
            ]
          },
          "metadata": {
            "tags": []
          },
          "execution_count": 11
        }
      ]
    },
    {
      "cell_type": "code",
      "metadata": {
        "id": "OyitRRLP1Ne2",
        "colab_type": "code",
        "colab": {}
      },
      "source": [
        "# The LEFT join fills missing matches with None, so we replace these with empty\n",
        "# lists instead using fillna.\n",
        "sf['annotations'] = sf['annotations'].fillna([])"
      ],
      "execution_count": 0,
      "outputs": []
    },
    {
      "cell_type": "markdown",
      "metadata": {
        "id": "0gPdp9cQJvtZ",
        "colab_type": "text"
      },
      "source": [
        "## Save SFrame to folder specified above"
      ]
    },
    {
      "cell_type": "code",
      "metadata": {
        "id": "-8YdLd6qJwAZ",
        "colab_type": "code",
        "colab": {}
      },
      "source": [
        "# Save SFrame to drive folder\n",
        "sf.save(sFramePath)"
      ],
      "execution_count": 0,
      "outputs": []
    },
    {
      "cell_type": "markdown",
      "metadata": {
        "id": "FWrfsWOMlMhf",
        "colab_type": "text"
      },
      "source": [
        "## References\n",
        "\n",
        "- [Turi Create API SFrame Docs](https://apple.github.io/turicreate/docs/api/generated/turicreate.SFrame.html)\n",
        "- [Turi Create Sample Code for Object Detection](https://github.com/apple/turicreate/tree/master/userguide/object_detection)\n",
        "- [Turi Create SFrame Example Using CSV instead of image masks](https://apple.github.io/turicreate/docs/userguide/object_detection/data-preparation.html)"
      ]
    }
  ]
}